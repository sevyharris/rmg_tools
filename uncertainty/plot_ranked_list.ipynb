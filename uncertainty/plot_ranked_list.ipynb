{
 "cells": [
  {
   "cell_type": "code",
   "execution_count": null,
   "metadata": {},
   "outputs": [],
   "source": [
    "import os\n",
    "import tabulate\n",
    "import pandas as pd\n",
    "import numpy as np\n",
    "import matplotlib.pyplot as plt\n",
    "from rmgpy.tools.uncertainty import Uncertainty, process_local_results\n",
    "from rmgpy.tools.canteramodel import get_rmg_species_from_user_species\n",
    "from rmgpy.species import Species\n",
    "from rmgpy.tools.plot import parse_csv_data\n",
    "\n",
    "\n",
    "# these are for showing the flux diagram\n",
    "from IPython.display import Image\n"
   ]
  },
  {
   "cell_type": "code",
   "execution_count": null,
   "metadata": {},
   "outputs": [],
   "source": [
    "# Load the model\n",
    "# Must use annotated chemkin file\n",
    "\n",
    "model_dir = '/home/moon/rmg/rmg_tools/uncertainty/nheptane'\n",
    "\n",
    "\n",
    "chemkin_file = os.path.join(model_dir, 'chem_annotated.inp')\n",
    "dict_file = os.path.join(model_dir, 'species_dictionary.txt')\n",
    "\n",
    "# Initialize the Uncertainty class instance and load the model\n",
    "uncertainty = Uncertainty(output_directory=os.path.join(model_dir, 'chemkin'))\n",
    "uncertainty.load_model(chemkin_file, dict_file)\n"
   ]
  },
  {
   "cell_type": "code",
   "execution_count": null,
   "metadata": {},
   "outputs": [],
   "source": [
    "# optional - generate flux diagram:\n",
    "\n",
    "# from rmgpy.tools import fluxdiagram\n",
    "\n",
    "# input_file = os.path.join(model_dir, 'input.py')\n",
    "# output_path = os.path.join(model_dir, 'flux_diagram')\n",
    "# fluxdiagram.create_flux_diagram(input_file, chemkin_file, dict_file, save_path=output_path)"
   ]
  },
  {
   "cell_type": "markdown",
   "metadata": {},
   "source": [
    "Ethane pyrolysis produces ethylene (C2H4)"
   ]
  },
  {
   "cell_type": "code",
   "execution_count": null,
   "metadata": {},
   "outputs": [],
   "source": [
    "# Image(filename=\"/home/moon/rmg/my_examples/ethane/flux_diagram/1/flux_diagram_0148.png\")\n"
   ]
  },
  {
   "cell_type": "code",
   "execution_count": null,
   "metadata": {},
   "outputs": [],
   "source": [
    "# for sp in uncertainty.species_list:\n",
    "#     print(sp)\n",
    "uncertainty.species_list[4].smiles"
   ]
  },
  {
   "cell_type": "code",
   "execution_count": null,
   "metadata": {},
   "outputs": [],
   "source": [
    "# Map the species to the objects within the Uncertainty class\n",
    "nheptane = Species().from_smiles('CCCCCCC')\n",
    "CO2 = Species().from_smiles('O=C=O')\n",
    "O2 = Species().from_smiles('[O][O]')\n",
    "OH_rad = Species().from_smiles('[OH]')\n",
    "Ne = Species().from_smiles('[Ne]')\n",
    "mapping = get_rmg_species_from_user_species([nheptane, CO2, O2, OH_rad, Ne], uncertainty.species_list)\n",
    "\n",
    "\n",
    "# TODO get model with He instead of Ne\n",
    "# equivalence ratio phi, 11 O2 per n-heptane in stoichiometric feed\n",
    "x_nheptane = 0.005\n",
    "phi = 1.0\n",
    "x_O2 = 11.0 * x_nheptane / phi\n",
    "x_Ne = 1.0 - x_nheptane - x_O2\n",
    "# print(x_nheptane)\n",
    "# print(x_O2)\n",
    "# print(x_Ne)\n",
    "\n",
    "# Reaction conditions to match at least some Zhang(2016) experimental data\n",
    "initial_mole_fractions = {\n",
    "    mapping[nheptane]: x_nheptane,\n",
    "    mapping[O2]: x_O2,\n",
    "    mapping[Ne]: x_Ne,\n",
    "}\n",
    "T = (1000, 'K')\n",
    "P_torr = 800.0\n",
    "P_atm = P_torr / 760.0\n",
    "P_Pa = P_atm * 101325.0\n",
    "P_bar = P_Pa / 100000.0\n",
    "\n",
    "P = (P_bar, 'bar')\n",
    "termination_time = (0.5, 'ms')\n",
    "sensitive_species = [mapping[nheptane], mapping[CO2], mapping[O2], mapping[OH_rad]]\n"
   ]
  },
  {
   "cell_type": "code",
   "execution_count": null,
   "metadata": {},
   "outputs": [],
   "source": [
    "# Perform the sensitivity analysis\n",
    "uncertainty.sensitivity_analysis(initial_mole_fractions, sensitive_species, T, P, termination_time, number=5, fileformat='.png')"
   ]
  },
  {
   "cell_type": "code",
   "execution_count": null,
   "metadata": {
    "scrolled": false
   },
   "outputs": [],
   "source": [
    "# Show the sensitivity plots\n",
    "for species in sensitive_species:\n",
    "    print('{}: Reaction Sensitivities'.format(species))\n",
    "    index = species.index\n",
    "    display(Image(filename=os.path.join(uncertainty.output_directory,'solver','sensitivity_1_SPC_{}_reactions.png'.format(index))))\n",
    "    \n",
    "    print('{}: Thermo Sensitivities'.format(species))\n",
    "    display(Image(filename=os.path.join(uncertainty.output_directory,'solver','sensitivity_1_SPC_{}_thermo.png'.format(index))))"
   ]
  },
  {
   "cell_type": "code",
   "execution_count": null,
   "metadata": {},
   "outputs": [],
   "source": [
    "# NOTE: You must load the database with the same settings which were used to generate the model.\n",
    "#       This includes any thermo or kinetics libraries which were used.\n",
    "uncertainty.load_database(\n",
    "    thermo_libraries=[\n",
    "        'BurkeH2O2',\n",
    "        'CurranPentane',\n",
    "        'FFCM1(-)',\n",
    "        'primaryThermoLibrary',\n",
    "        'thermo_DFT_CCSDTF12_BAC',\n",
    "        'DFT_QCI_thermo',\n",
    "        'CBS_QB3_1dHR'\n",
    "    ],\n",
    "    kinetics_families='default',\n",
    "    reaction_libraries=[\n",
    "        'CurranPentane',\n",
    "        'FFCM1(-)',\n",
    "        'combustion_core/version5'\n",
    "    ]\n",
    ")"
   ]
  },
  {
   "cell_type": "code",
   "execution_count": null,
   "metadata": {},
   "outputs": [],
   "source": [
    "uncertainty.extract_sources_from_model()\n",
    "uncertainty.assign_parameter_uncertainties()"
   ]
  },
  {
   "cell_type": "code",
   "execution_count": null,
   "metadata": {
    "scrolled": true
   },
   "outputs": [],
   "source": [
    "result = uncertainty.local_analysis(sensitive_species, correlated=False, number=15, fileformat='.png')\n",
    "print(process_local_results(result, sensitive_species, number=15)[1])"
   ]
  },
  {
   "cell_type": "code",
   "execution_count": null,
   "metadata": {},
   "outputs": [],
   "source": [
    "uncertainty.species_sources_dict"
   ]
  },
  {
   "cell_type": "code",
   "execution_count": null,
   "metadata": {},
   "outputs": [],
   "source": [
    "def get_species_index(list_of_species, name):\n",
    "    for i, sp in enumerate(list_of_species):\n",
    "        if str(sp) == name:\n",
    "            return i\n",
    "    return -1\n"
   ]
  },
  {
   "cell_type": "code",
   "execution_count": null,
   "metadata": {},
   "outputs": [],
   "source": [
    "C5H11_1_name = 'C5H11-1(422)'\n",
    "C5H11_1 = uncertainty.species_list[get_species_index(uncertainty.species_list, C5H11_1_name)]"
   ]
  },
  {
   "cell_type": "code",
   "execution_count": null,
   "metadata": {},
   "outputs": [],
   "source": [
    "uncertainty.species_sources_dict[C5H11_1]"
   ]
  },
  {
   "cell_type": "code",
   "execution_count": null,
   "metadata": {},
   "outputs": [],
   "source": [
    "top_uncertain = []\n",
    "names = [\n",
    "    'nheptane(1)',\n",
    "    'C5H11-1(422)',\n",
    "    'PC4H9(184)',\n",
    "    'NC3H7(93)',\n",
    "    'H(14)',\n",
    "    'C2H4(11)',\n",
    "    'C2H5(44)',\n",
    "    'C=CCCCC(810)',\n",
    "    'CH3(19)',\n",
    "    'CCC=CCCC(809)',\n",
    "    'CC=CCCCC(755)',\n",
    "    'CC[CH]CCCC(680)',\n",
    "    'O2(2)',\n",
    "    'C3H6(12)',\n",
    "    'CH2(24)',\n",
    "]\n",
    "for name in names:\n",
    "#     print(name)\n",
    "    i = get_species_index(uncertainty.species_list, name)\n",
    "    if i < 0:\n",
    "        print(name)\n",
    "    top_uncertain.append(uncertainty.species_list[i])\n",
    "\n",
    "# print(top_uncertain)\n",
    "# print(len(top_uncertain), len(names))"
   ]
  },
  {
   "cell_type": "code",
   "execution_count": null,
   "metadata": {},
   "outputs": [],
   "source": [
    "for sp in top_uncertain:\n",
    "    if 'GAV' in uncertainty.species_sources_dict[sp]:\n",
    "        print(sp)"
   ]
  },
  {
   "cell_type": "code",
   "execution_count": null,
   "metadata": {},
   "outputs": [],
   "source": [
    "for sp in uncertainty.species_list:\n",
    "    print(str(sp))"
   ]
  },
  {
   "cell_type": "markdown",
   "metadata": {},
   "source": [
    "# Reactions"
   ]
  },
  {
   "cell_type": "code",
   "execution_count": null,
   "metadata": {},
   "outputs": [],
   "source": [
    "# k200: C2H5(44)+C5H11(422)=C7H16(1)                                      35.4632%\n",
    "# k210: NC3H7(93)+PC4H9(184)=C7H16(1)                                     34.7859%\n",
    "# k290: O(5)+C7H16(1)=OH(15)+C7H15(684)                                    8.1577%\n",
    "# k252: H(14)+C7H16(1)=H2(13)+C7H15(680)                                   3.3216%\n",
    "# k236: H(14)+C7H16(1)=H2(13)+C7H15(683)                                   2.6024%\n",
    "# k272: H(14)+C7H16(1)=H2(13)+C7H15(681)                                   0.4817%\n",
    "# k1: O2(2)+H(14)=O(5)+OH(15)                                              0.3560%\n",
    "# k38: O(5)+C2H4(11)=CH2(24)+CH2O(9)                                       0.3357%\n",
    "# k189: H(14)+C2H4(11)(+M)=C2H5(44)(+M)                                    0.1974%\n",
    "# k194: O2(2)+C2H5(44)=HO2(17)+C2H4(11)                                    0.1548%\n",
    "# k705: CH3(19)+C6H12(810)=C7H15(680)                                      0.1437%\n",
    "# k55: O2(2)+CH2(24)=OH(15)+HCO(20)                                        0.0963%\n",
    "# k259: C7H15(680)=C7H15(683)                                              0.0884%\n",
    "# k237: CH3(19)+C7H16(1)=CH4(10)+C7H15(683)                                0.0802%\n",
    "# k102: O2(2)+CH2(24)=>H(14)+H(14)+CO2(7)                                  0.0669%\n",
    "top_ks = [199, 209, 289, 251, 235, 271, 0, 37, 188, 193, 704, 54, 258, 236, 101]\n",
    "for i in top_ks:\n",
    "    rxn = uncertainty.reaction_list[i]\n",
    "    print(uncertainty.reaction_sources_dict[rxn])\n",
    "#     print(uncertainty.reaction_sources_dict[rxn].keys())\n",
    "#     if 'Rate Rules' in uncertainty.reaction_sources_dict[rxn]:\n",
    "#         print(i, rxn)"
   ]
  },
  {
   "cell_type": "code",
   "execution_count": null,
   "metadata": {},
   "outputs": [],
   "source": [
    "uncertainty.reaction_sources_dict[uncertainty.reaction_list[199]]"
   ]
  },
  {
   "cell_type": "code",
   "execution_count": null,
   "metadata": {},
   "outputs": [],
   "source": [
    "uncertainty"
   ]
  },
  {
   "cell_type": "code",
   "execution_count": null,
   "metadata": {},
   "outputs": [],
   "source": [
    "reaction_system_index = 0\n",
    "sens_species = sensitive_species[1]\n",
    "\n",
    "csvfile_path = os.path.join(\n",
    "    uncertainty.output_directory,\n",
    "    'solver',\n",
    "    'sensitivity_{0}_SPC_{1}.csv'.format(\n",
    "        reaction_system_index + 1,\n",
    "        sens_species.index)\n",
    ")\n",
    "time, data_list = parse_csv_data(csvfile_path)"
   ]
  },
  {
   "cell_type": "code",
   "execution_count": null,
   "metadata": {},
   "outputs": [],
   "source": [
    "time"
   ]
  },
  {
   "cell_type": "code",
   "execution_count": null,
   "metadata": {},
   "outputs": [],
   "source": [
    "spec_names = []\n",
    "for sp in uncertainty.species_list:\n",
    "    spec_names.append(str(sp))\n",
    "    \n",
    "rxn_names = []\n",
    "for rxn in uncertainty.reaction_list:\n",
    "    rxn_names.append(str(rxn))"
   ]
  },
  {
   "cell_type": "code",
   "execution_count": null,
   "metadata": {},
   "outputs": [],
   "source": [
    "thermo_data = []\n",
    "kinetics_data = []\n",
    "combined_data = []\n",
    "for i, data in enumerate(data_list):\n",
    "    if data.species:\n",
    "        for j, sp in enumerate(uncertainty.species_list):\n",
    "            if sp.to_chemkin() == data.species:\n",
    "                product = np.abs(data.data[-1]) * uncertainty.thermo_input_uncertainties[j]\n",
    "                thermo_data.append([j, spec_names[j], np.abs(data.data[-1]), uncertainty.thermo_input_uncertainties[j], product])\n",
    "                combined_data.append([j, spec_names[j], np.abs(data.data[-1]), uncertainty.thermo_input_uncertainties[j], product])\n",
    "                break\n",
    "    if data.reaction:\n",
    "        k = data.index - 1\n",
    "        product = np.abs(data.data[-1]) * uncertainty.kinetic_input_uncertainties[k]\n",
    "        kinetics_data.append([k, rxn_names[k], np.abs(data.data[-1]), uncertainty.kinetic_input_uncertainties[k], product])\n",
    "        combined_data.append([k, rxn_names[k], np.abs(data.data[-1]), uncertainty.kinetic_input_uncertainties[k], product])\n",
    "    \n"
   ]
  },
  {
   "cell_type": "code",
   "execution_count": null,
   "metadata": {},
   "outputs": [],
   "source": [
    "thermo_df = pd.DataFrame(thermo_data, columns=['i', 'name', 'sensitivity', 'uncertainty', 'products'])\n",
    "thermo_df.sort_values('sensitivity', ascending=False, inplace = True)\n",
    "\n",
    "kinetics_df = pd.DataFrame(kinetics_data, columns=['i', 'name', 'sensitivity', 'uncertainty', 'products'])\n",
    "kinetics_df.sort_values('sensitivity', ascending=False, inplace = True)\n",
    "\n",
    "combined_df = pd.DataFrame(combined_data, columns=['i', 'name', 'sensitivity', 'uncertainty', 'products'])\n",
    "combined_df.sort_values('sensitivity', ascending=False, inplace = True)"
   ]
  },
  {
   "cell_type": "code",
   "execution_count": null,
   "metadata": {},
   "outputs": [],
   "source": [
    "%matplotlib inline\n",
    "N = 20\n",
    "\n",
    "plt.bar(thermo_df.name[0:N], thermo_df.sensitivity[0:N])\n",
    "plt.xticks(rotation=90)\n",
    "plt.show()"
   ]
  },
  {
   "cell_type": "code",
   "execution_count": null,
   "metadata": {},
   "outputs": [],
   "source": [
    "%matplotlib inline\n",
    "N = 20\n",
    "\n",
    "plt.bar(kinetics_df.name[0:N], kinetics_df.sensitivity[0:N])\n",
    "plt.xticks(rotation=90)\n",
    "plt.show()"
   ]
  },
  {
   "cell_type": "code",
   "execution_count": null,
   "metadata": {},
   "outputs": [],
   "source": [
    "%matplotlib inline\n",
    "N = 20\n",
    "\n",
    "plt.bar(combined_df.name[0:N], combined_df.sensitivity[0:N])\n",
    "plt.xticks(rotation=90)\n",
    "plt.show()"
   ]
  },
  {
   "cell_type": "code",
   "execution_count": null,
   "metadata": {},
   "outputs": [],
   "source": [
    "thermo_df.sort_values('uncertainty', ascending=False, inplace = True)\n",
    "%matplotlib inline\n",
    "N = 20\n",
    "\n",
    "plt.bar(thermo_df.name[0:N], thermo_df.uncertainty[0:N])\n",
    "plt.xticks(rotation=90)\n",
    "plt.show()"
   ]
  },
  {
   "cell_type": "code",
   "execution_count": null,
   "metadata": {},
   "outputs": [],
   "source": [
    "\n",
    "kinetics_df.sort_values('uncertainty', ascending=False, inplace = True)\n",
    "%matplotlib inline\n",
    "N = 20\n",
    "\n",
    "plt.bar(kinetics_df.name[0:N], kinetics_df.uncertainty[0:N])\n",
    "plt.xticks(rotation=90)\n",
    "plt.show()"
   ]
  },
  {
   "cell_type": "code",
   "execution_count": null,
   "metadata": {},
   "outputs": [],
   "source": [
    "combined_df.sort_values('uncertainty', ascending=False, inplace = True)\n",
    "%matplotlib inline\n",
    "N = 20\n",
    "\n",
    "plt.bar(combined_df.name[0:N], combined_df.uncertainty[0:N])\n",
    "plt.xticks(rotation=90)\n",
    "plt.show()"
   ]
  },
  {
   "cell_type": "code",
   "execution_count": null,
   "metadata": {},
   "outputs": [],
   "source": [
    "thermo_df.sort_values('products', ascending=False, inplace=True)\n",
    "%matplotlib inline\n",
    "N = 20\n",
    "\n",
    "plt.figure(figsize=(14, 5), dpi=80)\n",
    "plt.subplot(121)\n",
    "plt.bar(thermo_df.name[0:N], thermo_df.uncertainty[0:N], label='uncertainty', bottom=thermo_df.sensitivity[0:N])\n",
    "plt.bar(thermo_df.name[0:N], thermo_df.sensitivity[0:N], label='sensitivity')\n",
    "plt.xticks(rotation=90)\n",
    "plt.legend()\n",
    "\n",
    "plt.subplot(122)\n",
    "ax = plt.gca()\n",
    "\n",
    "plt.bar(thermo_df.name[0:N], thermo_df.products[0:N], label='products', color=plt.rcParams['axes.prop_cycle'].by_key()['color'][2])\n",
    "plt.xticks(rotation=90)\n",
    "plt.legend()\n",
    "plt.show()\n"
   ]
  },
  {
   "cell_type": "code",
   "execution_count": null,
   "metadata": {},
   "outputs": [],
   "source": [
    "thermo_df.sort_values('products', ascending=False, inplace=True)\n",
    "%matplotlib inline\n",
    "N = 20\n",
    "\n",
    "# plt.figure(figsize=(14, 5), dpi=80)\n",
    "# plt.subplot(121)\n",
    "base = 100\n",
    "log_sense = np.log(100 * thermo_df.sensitivity.values[0:N]) / np.log(base)\n",
    "\n",
    "plt.bar(thermo_df.name[0:N], np.log(100 * thermo_df.uncertainty.values[0:N]) / np.log(base), label='uncertainty', bottom=log_sense)\n",
    "plt.bar(thermo_df.name[0:N], log_sense, label='sensitivity')\n",
    "\n",
    "\n",
    "\n",
    "# plt.bar(thermo_df.name[0:N], thermo_df.products[0:N], label='products', color=plt.rcParams['axes.prop_cycle'].by_key()['color'][2])\n",
    "plt.xticks(rotation=90)\n",
    "plt.legend()\n",
    "plt.show()"
   ]
  },
  {
   "cell_type": "code",
   "execution_count": null,
   "metadata": {},
   "outputs": [],
   "source": [
    "kinetics_df.sort_values('products', ascending=False, inplace=True)\n",
    "%matplotlib inline\n",
    "N = 20\n",
    "\n",
    "\n",
    "base = 100\n",
    "log_sense_k = np.log(100 * kinetics_df.sensitivity.values[0:N]) / np.log(base)\n",
    "\n",
    "plt.bar(kinetics_df.name[0:N], np.log(100 * kinetics_df.uncertainty.values[0:N]) / np.log(base), label='uncertainty', bottom=log_sense_k)\n",
    "plt.bar(kinetics_df.name[0:N], log_sense_k, label='sensitivity')\n",
    "\n",
    "\n",
    "\n",
    "# plt.bar(thermo_df.name[0:N], thermo_df.products[0:N], label='products', color=plt.rcParams['axes.prop_cycle'].by_key()['color'][2])\n",
    "plt.xticks(rotation=90)\n",
    "plt.legend()\n",
    "plt.show()"
   ]
  },
  {
   "cell_type": "code",
   "execution_count": null,
   "metadata": {},
   "outputs": [],
   "source": [
    "%matplotlib inline\n",
    "plt.plot(time.data, data_list[2].data)\n",
    "plt.show()"
   ]
  },
  {
   "cell_type": "code",
   "execution_count": null,
   "metadata": {},
   "outputs": [],
   "source": [
    "print(data_list[2].units)"
   ]
  },
  {
   "cell_type": "code",
   "execution_count": null,
   "metadata": {},
   "outputs": [],
   "source": []
  }
 ],
 "metadata": {
  "kernelspec": {
   "display_name": "Python 3 (ipykernel)",
   "language": "python",
   "name": "python3"
  },
  "language_info": {
   "codemirror_mode": {
    "name": "ipython",
    "version": 3
   },
   "file_extension": ".py",
   "mimetype": "text/x-python",
   "name": "python",
   "nbconvert_exporter": "python",
   "pygments_lexer": "ipython3",
   "version": "3.7.12"
  }
 },
 "nbformat": 4,
 "nbformat_minor": 1
}
