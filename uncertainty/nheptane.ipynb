{
 "cells": [
  {
   "cell_type": "code",
   "execution_count": null,
   "metadata": {},
   "outputs": [],
   "source": [
    "import os\n",
    "import tabulate\n",
    "import pandas as pd\n",
    "from rmgpy.tools.uncertainty import Uncertainty, process_local_results\n",
    "from rmgpy.tools.canteramodel import get_rmg_species_from_user_species\n",
    "from rmgpy.species import Species\n",
    "\n",
    "# these are for showing the flux diagram\n",
    "from IPython.display import Image\n"
   ]
  },
  {
   "cell_type": "code",
   "execution_count": null,
   "metadata": {},
   "outputs": [],
   "source": [
    "# Load the model\n",
    "# Must use annotated chemkin file\n",
    "\n",
    "model_dir = '/home/moon/rmg/rmg_tools/uncertainty/nheptane'\n",
    "\n",
    "\n",
    "chemkin_file = os.path.join(model_dir, 'chem_annotated.inp')\n",
    "dict_file = os.path.join(model_dir, 'species_dictionary.txt')\n",
    "\n",
    "# Initialize the Uncertainty class instance and load the model\n",
    "uncertainty = Uncertainty(output_directory=os.path.join(model_dir, 'chemkin'))\n",
    "uncertainty.load_model(chemkin_file, dict_file)\n"
   ]
  },
  {
   "cell_type": "code",
   "execution_count": null,
   "metadata": {},
   "outputs": [],
   "source": [
    "# optional - generate flux diagram:\n",
    "\n",
    "# from rmgpy.tools import fluxdiagram\n",
    "\n",
    "# input_file = os.path.join(model_dir, 'input.py')\n",
    "# output_path = os.path.join(model_dir, 'flux_diagram')\n",
    "# fluxdiagram.create_flux_diagram(input_file, chemkin_file, dict_file, save_path=output_path)"
   ]
  },
  {
   "cell_type": "markdown",
   "metadata": {},
   "source": [
    "Ethane pyrolysis produces ethylene (C2H4)"
   ]
  },
  {
   "cell_type": "code",
   "execution_count": null,
   "metadata": {},
   "outputs": [],
   "source": [
    "# Image(filename=\"/home/moon/rmg/my_examples/ethane/flux_diagram/1/flux_diagram_0148.png\")\n"
   ]
  },
  {
   "cell_type": "code",
   "execution_count": null,
   "metadata": {},
   "outputs": [],
   "source": [
    "# for sp in uncertainty.species_list:\n",
    "#     print(sp)\n",
    "uncertainty.species_list[4].smiles"
   ]
  },
  {
   "cell_type": "code",
   "execution_count": null,
   "metadata": {},
   "outputs": [],
   "source": [
    "# Map the species to the objects within the Uncertainty class\n",
    "nheptane = Species().from_smiles('CCCCCCC')\n",
    "CO2 = Species().from_smiles('O=C=O')\n",
    "O2 = Species().from_smiles('[O][O]')\n",
    "OH_rad = Species().from_smiles('[OH]')\n",
    "Ne = Species().from_smiles('[Ne]')\n",
    "mapping = get_rmg_species_from_user_species([nheptane, CO2, O2, OH_rad, Ne], uncertainty.species_list)\n",
    "\n",
    "\n",
    "# TODO get model with He instead of Ne\n",
    "# equivalence ratio phi, 11 O2 per n-heptane in stoichiometric feed\n",
    "x_nheptane = 0.005\n",
    "phi = 1.0\n",
    "x_O2 = 11.0 * x_nheptane / phi\n",
    "x_Ne = 1.0 - x_nheptane - x_O2\n",
    "# print(x_nheptane)\n",
    "# print(x_O2)\n",
    "# print(x_Ne)\n",
    "\n",
    "# Reaction conditions to match at least some Zhang(2016) experimental data\n",
    "initial_mole_fractions = {\n",
    "    mapping[nheptane]: x_nheptane,\n",
    "    mapping[O2]: x_O2,\n",
    "    mapping[Ne]: x_Ne,\n",
    "}\n",
    "T = (1000, 'K')\n",
    "P_torr = 800.0\n",
    "P_atm = P_torr / 760.0\n",
    "P_Pa = P_atm * 101325.0\n",
    "P_bar = P_Pa / 100000.0\n",
    "\n",
    "P = (P_bar, 'bar')\n",
    "termination_time = (0.5, 'ms')\n",
    "sensitive_species=[mapping[nheptane], mapping[CO2], mapping[O2], mapping[OH_rad]]\n"
   ]
  },
  {
   "cell_type": "code",
   "execution_count": null,
   "metadata": {},
   "outputs": [],
   "source": [
    "# Perform the sensitivity analysis\n",
    "uncertainty.sensitivity_analysis(initial_mole_fractions, sensitive_species, T, P, termination_time, number=5, fileformat='.png')"
   ]
  },
  {
   "cell_type": "code",
   "execution_count": null,
   "metadata": {
    "scrolled": false
   },
   "outputs": [],
   "source": [
    "# Show the sensitivity plots\n",
    "for species in sensitive_species:\n",
    "    print('{}: Reaction Sensitivities'.format(species))\n",
    "    index = species.index\n",
    "    display(Image(filename=os.path.join(uncertainty.output_directory,'solver','sensitivity_1_SPC_{}_reactions.png'.format(index))))\n",
    "    \n",
    "    print('{}: Thermo Sensitivities'.format(species))\n",
    "    display(Image(filename=os.path.join(uncertainty.output_directory,'solver','sensitivity_1_SPC_{}_thermo.png'.format(index))))"
   ]
  },
  {
   "cell_type": "code",
   "execution_count": null,
   "metadata": {},
   "outputs": [],
   "source": [
    "# NOTE: You must load the database with the same settings which were used to generate the model.\n",
    "#       This includes any thermo or kinetics libraries which were used.\n",
    "uncertainty.load_database(\n",
    "    thermo_libraries=[\n",
    "        'BurkeH2O2',\n",
    "        'CurranPentane',\n",
    "        'FFCM1(-)',\n",
    "        'primaryThermoLibrary',\n",
    "        'thermo_DFT_CCSDTF12_BAC',\n",
    "        'DFT_QCI_thermo',\n",
    "        'CBS_QB3_1dHR'\n",
    "    ],\n",
    "    kinetics_families='default',\n",
    "    reaction_libraries=[\n",
    "        'CurranPentane',\n",
    "        'FFCM1(-)',\n",
    "        'combustion_core/version5'\n",
    "    ]\n",
    ")"
   ]
  },
  {
   "cell_type": "code",
   "execution_count": null,
   "metadata": {},
   "outputs": [],
   "source": [
    "uncertainty.extract_sources_from_model()\n",
    "uncertainty.assign_parameter_uncertainties()"
   ]
  },
  {
   "cell_type": "code",
   "execution_count": null,
   "metadata": {
    "scrolled": true
   },
   "outputs": [],
   "source": [
    "result = uncertainty.local_analysis(sensitive_species, correlated=False, number=15, fileformat='.png')\n",
    "print(process_local_results(result, sensitive_species, number=15)[1])"
   ]
  },
  {
   "cell_type": "code",
   "execution_count": null,
   "metadata": {},
   "outputs": [],
   "source": []
  }
 ],
 "metadata": {
  "kernelspec": {
   "display_name": "Python 3 (ipykernel)",
   "language": "python",
   "name": "python3"
  },
  "language_info": {
   "codemirror_mode": {
    "name": "ipython",
    "version": 3
   },
   "file_extension": ".py",
   "mimetype": "text/x-python",
   "name": "python",
   "nbconvert_exporter": "python",
   "pygments_lexer": "ipython3",
   "version": "3.7.12"
  }
 },
 "nbformat": 4,
 "nbformat_minor": 1
}
