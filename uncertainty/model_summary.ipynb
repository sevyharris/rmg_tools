{
 "cells": [
  {
   "cell_type": "code",
   "execution_count": null,
   "metadata": {},
   "outputs": [],
   "source": [
    "import os\n",
    "import tabulate\n",
    "import pandas as pd\n",
    "import numpy as np\n",
    "import matplotlib.pyplot as plt\n",
    "from rmgpy.tools.uncertainty import Uncertainty, process_local_results\n",
    "from rmgpy.tools.canteramodel import get_rmg_species_from_user_species\n",
    "from rmgpy.species import Species\n",
    "from rmgpy.tools.plot import parse_csv_data\n",
    "\n",
    "\n",
    "# these are for showing the flux diagram\n",
    "from IPython.display import Image\n"
   ]
  },
  {
   "cell_type": "code",
   "execution_count": null,
   "metadata": {},
   "outputs": [],
   "source": [
    "# Load the model\n",
    "# Must use annotated chemkin file\n",
    "\n",
    "model_dir = '/home/moon/rmg/rmg_tools/uncertainty/nheptane'\n",
    "\n",
    "\n",
    "chemkin_file = os.path.join(model_dir, 'chem_annotated.inp')\n",
    "dict_file = os.path.join(model_dir, 'species_dictionary.txt')\n",
    "\n",
    "# Initialize the Uncertainty class instance and load the model\n",
    "uncertainty = Uncertainty(output_directory=os.path.join(model_dir, 'chemkin'))\n",
    "uncertainty.load_model(chemkin_file, dict_file)\n"
   ]
  },
  {
   "cell_type": "code",
   "execution_count": null,
   "metadata": {},
   "outputs": [],
   "source": [
    "# optional - generate flux diagram:\n",
    "\n",
    "# from rmgpy.tools import fluxdiagram\n",
    "\n",
    "# input_file = os.path.join(model_dir, 'input.py')\n",
    "# output_path = os.path.join(model_dir, 'flux_diagram')\n",
    "# fluxdiagram.create_flux_diagram(input_file, chemkin_file, dict_file, save_path=output_path)"
   ]
  },
  {
   "cell_type": "markdown",
   "metadata": {},
   "source": [
    "Ethane pyrolysis produces ethylene (C2H4)"
   ]
  },
  {
   "cell_type": "code",
   "execution_count": null,
   "metadata": {},
   "outputs": [],
   "source": [
    "# Map the species to the objects within the Uncertainty class\n",
    "nheptane = Species().from_smiles('CCCCCCC')\n",
    "CO2 = Species().from_smiles('O=C=O')\n",
    "O2 = Species().from_smiles('[O][O]')\n",
    "OH_rad = Species().from_smiles('[OH]')\n",
    "Ne = Species().from_smiles('[Ne]')\n",
    "mapping = get_rmg_species_from_user_species([nheptane, CO2, O2, OH_rad, Ne], uncertainty.species_list)\n",
    "\n",
    "\n",
    "# TODO get model with He instead of Ne\n",
    "# equivalence ratio phi, 11 O2 per n-heptane in stoichiometric feed\n",
    "x_nheptane = 0.005\n",
    "phi = 1.0\n",
    "x_O2 = 11.0 * x_nheptane / phi\n",
    "x_Ne = 1.0 - x_nheptane - x_O2\n",
    "# print(x_nheptane)\n",
    "# print(x_O2)\n",
    "# print(x_Ne)\n",
    "\n",
    "# Reaction conditions to match at least some Zhang(2016) experimental data\n",
    "initial_mole_fractions = {\n",
    "    mapping[nheptane]: x_nheptane,\n",
    "    mapping[O2]: x_O2,\n",
    "    mapping[Ne]: x_Ne,\n",
    "}\n",
    "T = (1000, 'K')\n",
    "P_torr = 800.0\n",
    "P_atm = P_torr / 760.0\n",
    "P_Pa = P_atm * 101325.0\n",
    "P_bar = P_Pa / 100000.0\n",
    "\n",
    "P = (P_bar, 'bar')\n",
    "termination_time = (0.5, 'ms')\n",
    "sensitive_species = [mapping[nheptane], mapping[CO2], mapping[O2], mapping[OH_rad]]\n"
   ]
  },
  {
   "cell_type": "code",
   "execution_count": null,
   "metadata": {},
   "outputs": [],
   "source": [
    "# Perform the sensitivity analysis\n",
    "uncertainty.sensitivity_analysis(initial_mole_fractions, sensitive_species, T, P, termination_time, number=5, fileformat='.png')"
   ]
  },
  {
   "cell_type": "code",
   "execution_count": null,
   "metadata": {},
   "outputs": [],
   "source": [
    "# NOTE: You must load the database with the same settings which were used to generate the model.\n",
    "#       This includes any thermo or kinetics libraries which were used.\n",
    "uncertainty.load_database(\n",
    "    thermo_libraries=[\n",
    "        'BurkeH2O2',\n",
    "        'CurranPentane',\n",
    "        'FFCM1(-)',\n",
    "        'primaryThermoLibrary',\n",
    "        'thermo_DFT_CCSDTF12_BAC',\n",
    "        'DFT_QCI_thermo',\n",
    "        'CBS_QB3_1dHR'\n",
    "    ],\n",
    "    kinetics_families='default',\n",
    "    reaction_libraries=[\n",
    "        'CurranPentane',\n",
    "        'FFCM1(-)',\n",
    "        'combustion_core/version5'\n",
    "    ]\n",
    ")"
   ]
  },
  {
   "cell_type": "code",
   "execution_count": null,
   "metadata": {},
   "outputs": [],
   "source": [
    "uncertainty.extract_sources_from_model()\n",
    "uncertainty.assign_parameter_uncertainties()"
   ]
  },
  {
   "cell_type": "code",
   "execution_count": null,
   "metadata": {},
   "outputs": [],
   "source": [
    "m_gav = 0\n",
    "m_lib = 0\n",
    "un_gav = 0\n",
    "un_lib = 0\n",
    "\n",
    "\n",
    "for i, src_dict in enumerate(uncertainty.species_sources_dict):\n",
    "    src_dict = uncertainty.species_sources_dict[src_dict]\n",
    "    if 'GAV' in src_dict.keys():\n",
    "        m_gav += 1\n",
    "        un_gav += uncertainty.thermo_input_uncertainties[i]\n",
    "    elif 'Library' in src_dict.keys():\n",
    "        m_lib += 1\n",
    "        un_lib += uncertainty.thermo_input_uncertainties[i]\n",
    "    else:\n",
    "        print(src_dict.keys())\n",
    "print(m_gav, un_gav)\n",
    "print(m_lib, un_lib)\n"
   ]
  },
  {
   "cell_type": "code",
   "execution_count": null,
   "metadata": {},
   "outputs": [],
   "source": [
    "def mm(pct):\n",
    "    return int(np.round(pct * (m_gav + m_lib) / 100.0))\n",
    "%matplotlib inline\n",
    "plt.figure(figsize=(6.5, 4), dpi=80)\n",
    "plt.clf()\n",
    "plt.pie([m_gav, m_lib], startangle=90, autopct=mm)\n",
    "ax = plt.gca()\n",
    "ax.legend(['Group Additivity', 'Library'], loc='right', bbox_to_anchor=(1.5, 0.8))\n",
    "plt.title('Species Sources')\n",
    "plt.savefig('species_sources.png')\n",
    "plt.show()\n"
   ]
  },
  {
   "cell_type": "code",
   "execution_count": null,
   "metadata": {},
   "outputs": [],
   "source": [
    "%matplotlib inline\n",
    "plt.clf()\n",
    "plt.pie([un_gav, un_lib], startangle=90, autopct='%1.1f%%')\n",
    "ax = plt.gca()\n",
    "ax.legend(['Group Additivity', 'Library'], loc='right', bbox_to_anchor=(1.8, 0.8))\n",
    "plt.title('Model Uncertainty of Species')\n",
    "plt.show()"
   ]
  },
  {
   "cell_type": "code",
   "execution_count": null,
   "metadata": {},
   "outputs": [],
   "source": [
    "n_rate_rules = 0\n",
    "n_pdep = 0\n",
    "n_lib = 0\n",
    "n_training = 0\n",
    "uncertainty_pdep = 0\n",
    "uncertainty_rate_rules = 0\n",
    "uncertainty_lib = 0\n",
    "uncertainty_train = 0\n",
    "\n",
    "for i, src_dict in enumerate(uncertainty.reaction_sources_dict):\n",
    "    src_dict = uncertainty.reaction_sources_dict[src_dict]\n",
    "    if 'Rate Rules' in src_dict.keys():\n",
    "        n_rate_rules += 1\n",
    "        uncertainty_rate_rules += uncertainty.kinetic_input_uncertainties[i]\n",
    "    elif 'Library' in src_dict.keys():\n",
    "        n_lib += 1\n",
    "        uncertainty_lib += uncertainty.kinetic_input_uncertainties[i]\n",
    "    elif 'PDep' in src_dict.keys():\n",
    "        n_pdep += 1\n",
    "        uncertainty_pdep += uncertainty.kinetic_input_uncertainties[i]\n",
    "    elif 'Training' in src_dict.keys():\n",
    "        n_training += 1\n",
    "        uncertainty_train += uncertainty.kinetic_input_uncertainties[i]\n",
    "    else:\n",
    "        print(src_dict.keys())\n",
    "print(n_rate_rules, uncertainty_rate_rules)\n",
    "print(n_pdep, uncertainty_pdep)\n",
    "print(n_lib, uncertainty_lib)\n",
    "print(n_training, uncertainty_train)\n"
   ]
  },
  {
   "cell_type": "code",
   "execution_count": null,
   "metadata": {},
   "outputs": [],
   "source": [
    "def nn(pct):\n",
    "    return int(np.round(pct * (n_rate_rules + n_pdep + n_lib + n_training) / 100.0))\n",
    "\n",
    "%matplotlib inline\n",
    "plt.figure(figsize=(8.0, 4), dpi=80)\n",
    "plt.clf()\n",
    "plt.pie([n_rate_rules, n_pdep, n_lib, n_training], startangle=90, autopct=nn)\n",
    "ax = plt.gca()\n",
    "ax.legend(['Rate Rules', 'Pressure Dependent Network', 'Library', 'Training'], loc='right', bbox_to_anchor=(1.8, 0.8))\n",
    "plt.title('Reaction Sources')\n",
    "plt.savefig('reaction_sources.png')\n",
    "plt.show()"
   ]
  },
  {
   "cell_type": "code",
   "execution_count": null,
   "metadata": {},
   "outputs": [],
   "source": [
    "%matplotlib inline\n",
    "plt.clf()\n",
    "plt.pie([uncertainty_rate_rules, uncertainty_pdep, uncertainty_lib, uncertainty_train], startangle=90)\n",
    "ax = plt.gca()\n",
    "ax.legend(['Rate Rules', 'Pressure Dependent Network', 'Library', 'Training'], loc='right', bbox_to_anchor=(1.8, 0.8))\n",
    "plt.title('Model Uncertainty of Reactions')\n",
    "plt.show()"
   ]
  },
  {
   "cell_type": "code",
   "execution_count": null,
   "metadata": {},
   "outputs": [],
   "source": [
    "%matplotlib inline\n",
    "plt.clf()\n",
    "plt.pie([n_rate_rules, n_pdep, n_lib, n_training], startangle=90, labels=[n_rate_rules, n_pdep, n_lib, n_training])\n",
    "ax = plt.gca()\n",
    "ax.legend(['Rate Rules', 'Pressure Dependent Network', 'Library', 'Training'], loc='right', bbox_to_anchor=(1.8, 0.8))\n",
    "plt.title('Reaction Sources')\n",
    "plt.show()"
   ]
  }
 ],
 "metadata": {
  "kernelspec": {
   "display_name": "Python 3 (ipykernel)",
   "language": "python",
   "name": "python3"
  },
  "language_info": {
   "codemirror_mode": {
    "name": "ipython",
    "version": 3
   },
   "file_extension": ".py",
   "mimetype": "text/x-python",
   "name": "python",
   "nbconvert_exporter": "python",
   "pygments_lexer": "ipython3",
   "version": "3.7.12"
  }
 },
 "nbformat": 4,
 "nbformat_minor": 1
}
