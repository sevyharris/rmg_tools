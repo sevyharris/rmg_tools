{
 "cells": [
  {
   "cell_type": "code",
   "execution_count": 1,
   "id": "8f74f259",
   "metadata": {},
   "outputs": [],
   "source": [
    "# script to identify model parameters that contribute most to uncertainty using local uncertainty"
   ]
  },
  {
   "cell_type": "code",
   "execution_count": 2,
   "id": "6ff45a1d",
   "metadata": {},
   "outputs": [],
   "source": [
    "# script to save the rankings for the mechanism\n",
    "import os\n",
    "import sys\n",
    "import copy\n",
    "import yaml\n",
    "import pickle\n",
    "import pandas as pd\n",
    "import subprocess\n",
    "\n",
    "import numpy as np\n",
    "import rmgpy.chemkin\n",
    "import cantera as ct\n",
    "\n",
    "\n",
    "\n",
    "import matplotlib.pyplot as plt\n",
    "%matplotlib inline\n"
   ]
  },
  {
   "cell_type": "code",
   "execution_count": 3,
   "id": "800dfc8d",
   "metadata": {},
   "outputs": [],
   "source": [
    "import re\n",
    "import glob\n",
    "import rmgpy.data.kinetics\n"
   ]
  },
  {
   "cell_type": "code",
   "execution_count": 4,
   "id": "7f777429",
   "metadata": {},
   "outputs": [
    {
     "name": "stdout",
     "output_type": "stream",
     "text": [
      "using default DFT_DIR\n",
      "using default DFT_DIR\n"
     ]
    },
    {
     "data": {
      "text/plain": [
       "<module 'database_fun' from '/home/moon/autoscience/reaction_calculator/database/database_fun.py'>"
      ]
     },
     "execution_count": 4,
     "metadata": {},
     "output_type": "execute_result"
    }
   ],
   "source": [
    "# sys.path.append('/work/westgroup/harris.se/autoscience/reaction_calculator/database/')\n",
    "sys.path.append('/home/moon/autoscience/reaction_calculator/database/')\n",
    "import importlib\n",
    "import database_fun\n",
    "importlib.reload(database_fun)"
   ]
  },
  {
   "cell_type": "code",
   "execution_count": 5,
   "id": "000e1f15",
   "metadata": {},
   "outputs": [
    {
     "name": "stdout",
     "output_type": "stream",
     "text": [
      "110 species loaded\n",
      "1822 reactions loaded\n"
     ]
    },
    {
     "name": "stderr",
     "output_type": "stream",
     "text": [
      "/home/moon/anaconda3/envs/rmg_env/lib/python3.7/site-packages/ipykernel_launcher.py:15: DeprecationWarning: Chebyshev reaction equation: Specifying '(+M)' in the reaction equation for Chebyshev reactions is deprecated.\n",
      "On line 3874 of /home/moon/hw8/bill_green_kinetics/project/base24_analysis/perturbed.yaml:\n",
      "|  Line |\n",
      "|  3869 |     Reaction index: Chemkin #239; RMG #239\n",
      "|  3870 |     Template reaction: Disproportionation\n",
      "|  3871 |     Flux pairs: HCO(19), C2H4(11); C2H5(33), CH2O(9);\n",
      "|  3872 |     Estimated from node Root_N-4R->H_4CNOS-u1_N-1R!H->O_N-4CNOS->O_Ext-4CNS-R_N-Sp-5R!H#4CCCNNNSSS_N-2R!H->S_5R!H->O_1CNS->C\n",
      "|  3873 |     Multiplied by reaction path degeneracy 3.0\n",
      ">  3874 > - equation: CH3(18) (+M) <=> H(14) + CH2(23) (+M)  # Reaction 240\n",
      "            ^\n",
      "|  3875 |   type: Chebyshev\n",
      "|  3876 |   temperature-range: [300.0, 2000.0]\n",
      "|  3877 |   pressure-range: [0.01 atm, 98.692 atm]\n",
      "\n",
      "  from ipykernel import kernelapp as app\n"
     ]
    }
   ],
   "source": [
    "# basedir = '/work/westgroup/harris.se/autoscience/fuels/butane/small_lib_20230929'\n",
    "# basedir = '/work/westgroup/harris.se/autoscience/fuels/butane/small_lib_20231110'\n",
    "# basedir = '/work/westgroup/harris.se/autoscience/fuels/butane/base24_analysis'\n",
    "basedir = '/home/moon/hw8/bill_green_kinetics/project/base24_analysis'\n",
    "\n",
    "cantera_file = os.path.join(basedir, 'chem_annotated.yaml')\n",
    "base_chemkin = os.path.join(basedir, 'chem_annotated.inp')\n",
    "dictionary = os.path.join(basedir, 'species_dictionary.txt')\n",
    "transport = os.path.join(basedir, 'tran.dat')\n",
    "\n",
    "species_list, reaction_list = rmgpy.chemkin.load_chemkin_file(base_chemkin, dictionary_path=dictionary, transport_path=transport, use_chemkin_names=True)\n",
    "\n",
    "gas = ct.Solution(cantera_file)\n",
    "perturbed_cti_path = os.path.join(basedir, 'perturbed.yaml')\n",
    "perturbed_gas = ct.Solution(perturbed_cti_path)\n",
    "\n",
    "# This cti -> rmg converter dictionary can be made using rmg_tools/ct2rmg_dict.py\n",
    "RMG_TOOLS_DIR = '/home/harris.se/rmg/rmg_tools'\n",
    "if not os.path.exists(os.path.join(basedir, 'ct2rmg_rxn.pickle')):\n",
    "    print('Creating ct2rmg pickle')\n",
    "    subprocess.run(['python', os.path.join(RMG_TOOLS_DIR, 'ct2rmg_dict.py'), base_chemkin])\n",
    "\n",
    "with open(os.path.join(basedir, 'ct2rmg_rxn.pickle'), 'rb') as handle:\n",
    "    ct2rmg_rxn = pickle.load(handle)\n",
    "    \n",
    "\n",
    "\n",
    "print(f'{len(species_list)} species loaded')\n",
    "print(f'{len(reaction_list)} reactions loaded')"
   ]
  },
  {
   "cell_type": "code",
   "execution_count": 6,
   "id": "feeed954",
   "metadata": {},
   "outputs": [],
   "source": [
    "N = len(gas.species())\n",
    "M = len(gas.reactions())"
   ]
  },
  {
   "cell_type": "code",
   "execution_count": null,
   "id": "9083910d",
   "metadata": {},
   "outputs": [],
   "source": []
  },
  {
   "cell_type": "code",
   "execution_count": 7,
   "id": "e2c4828f",
   "metadata": {},
   "outputs": [],
   "source": [
    "rxn_uncertainty_file = os.path.join(basedir, 'gao_reaction_uncertainty.npy')\n",
    "sp_uncertainty_file = os.path.join(basedir, 'gao_species_uncertainty.npy')\n",
    "\n",
    "rmg_rxn_uncertainty = np.load(rxn_uncertainty_file)\n",
    "rmg_sp_uncertainty = np.load(sp_uncertainty_file)\n",
    "\n",
    "assert len(rmg_rxn_uncertainty) == len(reaction_list)\n",
    "assert len(rmg_sp_uncertainty) == len(species_list)\n",
    "\n",
    "\n",
    "rxn_uncertainty = np.zeros(len(gas.reactions()))\n",
    "for ct_index in range(len(rxn_uncertainty)):\n",
    "    rxn_uncertainty[ct_index] = rmg_rxn_uncertainty[ct2rmg_rxn[ct_index]]\n",
    "\n",
    "# Cantera species should be in same rmg order, but this makes sure for us\n",
    "for i in range(len(species_list)):\n",
    "    assert str(species_list[i]) == gas.species_names[i]\n",
    "\n",
    "sp_uncertainty = rmg_sp_uncertainty\n",
    "\n",
    "total_uncertainty_array = np.concatenate((sp_uncertainty, rxn_uncertainty), axis=0)\n",
    "total_uncertainty_mat = np.repeat(np.transpose(np.matrix(total_uncertainty_array)), 12 * 51, axis=1)\n",
    "\n"
   ]
  },
  {
   "cell_type": "code",
   "execution_count": 8,
   "id": "b0550064",
   "metadata": {},
   "outputs": [
    {
     "data": {
      "text/plain": [
       "1850"
      ]
     },
     "execution_count": 8,
     "metadata": {},
     "output_type": "execute_result"
    }
   ],
   "source": [
    "len(ct2rmg_rxn)"
   ]
  },
  {
   "cell_type": "markdown",
   "id": "784461c0",
   "metadata": {},
   "source": [
    "## Gather Uncertainty Rankings"
   ]
  },
  {
   "cell_type": "code",
   "execution_count": 9,
   "id": "0ee930a4",
   "metadata": {},
   "outputs": [],
   "source": [
    "SPECIES_DFT_ERROR = 3.0\n",
    "REACTION_DFT_ERROR = 1 / np.sqrt(3) * np.log(10)\n",
    "\n",
    "\n",
    "sp_dft_uncertainty_mat = np.ones((N, 12 * 51)) * SPECIES_DFT_ERROR\n",
    "rxn_dft_uncertainty_mat = np.ones((M, 12 * 51)) * REACTION_DFT_ERROR\n",
    "dft_uncertainty_mat = np.concatenate((sp_dft_uncertainty_mat, rxn_dft_uncertainty_mat), axis=0)\n",
    "# dft_uncertainty_mat = np.repeat(np.transpose(np.matrix(dft_uncertainty_mat)), 12 * 51, axis=1)\n",
    "\n",
    "\n",
    "reaction_indices = np.arange(0, len(gas.reactions()))\n",
    "reaction_uncertainty_order = [x for _,x in sorted(zip(rxn_uncertainty, reaction_indices))][::-1]"
   ]
  },
  {
   "cell_type": "code",
   "execution_count": 10,
   "id": "9b5c16f0",
   "metadata": {},
   "outputs": [
    {
     "name": "stdout",
     "output_type": "stream",
     "text": [
      "Top Uncertain Reactions\n",
      "i\tDelta\tReaction\tSensitivity\tImprovement Score\n",
      "1251 \t 28.541 \t C3H5O(129) + H(14) <=> C3H4O(74) + H2(13) \t Disproportionation\n",
      "1248 \t 28.541 \t C3H5O(129) + CH3(18) <=> C3H4O(74) + CH4(10) \t Disproportionation\n",
      "1242 \t 28.541 \t C3H5O(129) + CH2(23) <=> C3H4O(74) + CH3(18) \t Disproportionation\n",
      "1001 \t 28.541 \t C2H5O(49) + CH2(23) <=> CH3(18) + CH3CHO(35) \t Disproportionation\n",
      "1000 \t 28.541 \t C2H5O(49) + CH3(18) <=> CH3CHO(35) + CH4(10) \t Disproportionation\n",
      "958 \t 28.541 \t CH2(23) + S(777) <=> CH3(18) + S(252) \t Disproportionation\n",
      "955 \t 28.541 \t H(14) + S(777) <=> H2(13) + S(252) \t Disproportionation\n",
      "953 \t 28.541 \t CH3(18) + S(777) <=> CH4(10) + S(252) \t Disproportionation\n",
      "790 \t 28.541 \t C4H8(748) + CH3(18) <=> C4H7(190) + CH4(10) \t Disproportionation\n",
      "780 \t 28.541 \t C4H8(748) + CH2(23) <=> C4H7(190) + CH3(18) \t Disproportionation\n"
     ]
    }
   ],
   "source": [
    "print('Top Uncertain Reactions')\n",
    "print('i\\tDelta\\tReaction\\tSensitivity\\tImprovement Score')\n",
    "for i in range(0, 10):\n",
    "    ct_index = reaction_uncertainty_order[i]\n",
    "    print(ct_index, '\\t', np.round(rxn_uncertainty[ct_index], 3),\n",
    "          '\\t', gas.reactions()[ct_index], \n",
    "          '\\t', reaction_list[ct2rmg_rxn[ct_index]].family)\n",
    "#           '\\t', f'{reaction_sensitivities[ct_index]:.3e}',\n",
    "#           '\\t', f'{improvement_score[ct_index]:.3e}')\n",
    "    "
   ]
  },
  {
   "cell_type": "code",
   "execution_count": null,
   "id": "78effb56",
   "metadata": {},
   "outputs": [],
   "source": []
  },
  {
   "cell_type": "markdown",
   "id": "738611ad",
   "metadata": {},
   "source": [
    "## Gather Sensitivity Rankings"
   ]
  },
  {
   "cell_type": "code",
   "execution_count": 11,
   "id": "74ce2f3e",
   "metadata": {},
   "outputs": [],
   "source": [
    "# load the giant base delays matrix\n",
    "base_delay_file = os.path.join(basedir, 'total_base_delays.npy')\n",
    "base_delays = np.load(base_delay_file)\n",
    "\n",
    "# Load the giant delays matrix\n",
    "total_delay_file = os.path.join(basedir, 'total_perturbed_mech_delays.npy')\n",
    "total_delays = np.load(total_delay_file)\n",
    "\n",
    "assert total_delays.shape[1] == len(base_delays)\n",
    "\n",
    "total_base_delays = np.repeat(np.matrix(base_delays), total_delays.shape[0], axis=0)\n",
    "total_base_delays[total_base_delays == 0] = np.nan\n",
    "assert total_base_delays.shape == total_delays.shape\n",
    "\n",
    "total_delays[total_delays == 0] = np.nan\n"
   ]
  },
  {
   "cell_type": "code",
   "execution_count": 12,
   "id": "a3f58c45",
   "metadata": {},
   "outputs": [],
   "source": [
    "d_ln_tau = np.log(total_delays) - np.log(total_base_delays)"
   ]
  },
  {
   "cell_type": "code",
   "execution_count": 13,
   "id": "216a061c",
   "metadata": {},
   "outputs": [
    {
     "name": "stderr",
     "output_type": "stream",
     "text": [
      "/home/moon/anaconda3/envs/rmg_env/lib/python3.7/site-packages/ipykernel_launcher.py:1: RuntimeWarning: Mean of empty slice\n",
      "  \"\"\"Entry point for launching an IPython kernel.\n"
     ]
    }
   ],
   "source": [
    "avg_d_ln_tau = np.nanmean(d_ln_tau, axis = 1)\n",
    "avg_d_ln_tau[np.isnan(avg_d_ln_tau)] = -np.inf"
   ]
  },
  {
   "cell_type": "code",
   "execution_count": null,
   "id": "0bb1bae0",
   "metadata": {},
   "outputs": [],
   "source": []
  },
  {
   "cell_type": "markdown",
   "id": "be8895b6",
   "metadata": {},
   "source": [
    "### Get $\\Delta G$ or $\\Delta \\ln k$ for each parameter"
   ]
  },
  {
   "cell_type": "code",
   "execution_count": 14,
   "id": "d26c98c9",
   "metadata": {},
   "outputs": [],
   "source": [
    "phi_dicts = []\n",
    "\n",
    "for table_index in range(1, 13):\n",
    "    \n",
    "    # Load the experimental conditions\n",
    "#     ignition_delay_data = '/work/westgroup/harris.se/autoscience/autoscience/butane/experimental_data/butane_ignition_delay.csv'\n",
    "    ignition_delay_data = '/home/moon/autoscience/autoscience/butane/experimental_data/butane_ignition_delay.csv'\n",
    "    df_exp = pd.read_csv(ignition_delay_data)\n",
    "    table_exp = df_exp[df_exp['Table'] == table_index]\n",
    "    # Define Initial conditions using experimental data\n",
    "    tau_exp = table_exp['time (ms)'].values.astype(float)  # ignition delay\n",
    "    T7 = table_exp['T_C'].values  # Temperatures\n",
    "    P7 = table_exp['nominal pressure(atm)'].values * ct.one_atm  # pressures in atm\n",
    "    phi7 = table_exp['phi'].values  # equivalence ratios\n",
    "    # list of starting conditions\n",
    "    # Mixture compositions taken from table 2 of\n",
    "    # https://doi-org.ezproxy.neu.edu/10.1016/j.combustflame.2010.01.016\n",
    "    concentrations = []\n",
    "    # for phi = 1\n",
    "    x_diluent = 0.7649\n",
    "    conc_dict = {\n",
    "        'O2(2)': 0.2038,\n",
    "        'butane(1)': 0.03135\n",
    "    }\n",
    "\n",
    "    \n",
    "    x_N2 = table_exp['%N2'].values[0] / 100.0 * x_diluent\n",
    "    x_Ar = table_exp['%Ar'].values[0] / 100.0 * x_diluent\n",
    "    x_CO2 = table_exp['%CO2'].values[0] / 100.0 * x_diluent\n",
    "    conc_dict['N2'] = x_N2\n",
    "    conc_dict['Ar'] = x_Ar\n",
    "    conc_dict['CO2(7)'] = x_CO2\n",
    "    \n",
    "    phi_dicts.append(conc_dict)\n",
    "        \n",
    "        "
   ]
  },
  {
   "cell_type": "code",
   "execution_count": 15,
   "id": "27f4d595",
   "metadata": {},
   "outputs": [],
   "source": [
    "# There are 12 * K different simulation settings. We need each parameter estimate at each setting\n",
    "# Create a matrix with temperatures and one with pressures\n",
    "T = np.linspace(663, 1077, 51)\n",
    "table_temperatures = np.repeat(np.matrix(T), 12, axis=1)\n",
    "temperatures = np.repeat(table_temperatures, total_delays.shape[0], axis=0)\n",
    "\n",
    "pressures = np.zeros(temperatures.shape)\n",
    "for i in range(pressures.shape[1]):\n",
    "    if int(i / 51) in [0, 3, 6, 9]:\n",
    "        pressures[:, i] = 10.0 * 101325.0\n",
    "    elif int(i / 51) in [1, 4, 7, 10]:\n",
    "        pressures[:, i] = 20.0 * 101325.0\n",
    "    elif int(i / 51) in [2, 5, 8, 11]:\n",
    "        pressures[:, i] = 30.0 * 101325.0"
   ]
  },
  {
   "cell_type": "code",
   "execution_count": 16,
   "id": "7b28501e",
   "metadata": {},
   "outputs": [],
   "source": [
    "G_base = np.zeros((N, total_delays.shape[1]))\n",
    "G_perturbed = np.zeros((N, total_delays.shape[1]))\n",
    "\n",
    "\n",
    "# get base G values\n",
    "\n",
    "mod_gas = ct.Solution(cantera_file)\n",
    "for j in range(N):\n",
    "    for i in range(temperatures.shape[1]):\n",
    "    \n",
    "        T = temperatures[0, i]\n",
    "        gas.TPX = T, pressures[0, i], phi_dicts[int(i / 51)]\n",
    "        G_base[j, i] = gas.species()[j].thermo.h(T) - T * gas.species()[j].thermo.s(T)\n"
   ]
  },
  {
   "cell_type": "code",
   "execution_count": 17,
   "id": "02c269b7",
   "metadata": {},
   "outputs": [],
   "source": [
    "# Get perturned G values\n",
    "\n",
    "mod_gas = ct.Solution(cantera_file)\n",
    "for j in range(N):\n",
    "#     print(j)\n",
    "    # change just the one reaction\n",
    "    mod_gas.modify_species(j, perturbed_gas.species()[j])\n",
    "    \n",
    "    for i in range(temperatures.shape[1]):\n",
    "    \n",
    "        T = temperatures[0, i]\n",
    "        mod_gas.TPX = T, pressures[0, i], phi_dicts[int(i / 51)]\n",
    "        G_perturbed[j, i] = mod_gas.species()[j].thermo.h(T) - T * mod_gas.species()[j].thermo.s(T)\n",
    "\n",
    "    mod_gas.modify_species(j, gas.species()[j])"
   ]
  },
  {
   "cell_type": "code",
   "execution_count": 18,
   "id": "938bc567",
   "metadata": {},
   "outputs": [],
   "source": [
    "# In theory, delta G should be 10% G_base, but apparently it isn't...\n",
    "# G has units Enthalpy [J/kg or J/kmol] it's J / kmol\n",
    "delta_G = G_perturbed - G_base\n",
    "delta_G_kcal_mol = delta_G / 4.184 / 1000.0 / 1000.0  # needs to be kcal/mol to match Gao paper"
   ]
  },
  {
   "cell_type": "code",
   "execution_count": null,
   "id": "2c4957e8",
   "metadata": {},
   "outputs": [],
   "source": []
  },
  {
   "cell_type": "markdown",
   "id": "3cc3eeb5",
   "metadata": {},
   "source": [
    "### Now do reaction rate"
   ]
  },
  {
   "cell_type": "code",
   "execution_count": 19,
   "id": "1c583f0f",
   "metadata": {},
   "outputs": [],
   "source": [
    "# except we know that by definition, this is 0.1\n",
    "delta_ln_k = 0.1 * np.ones((M, total_delays.shape[1]))"
   ]
  },
  {
   "cell_type": "code",
   "execution_count": 20,
   "id": "3cae2229",
   "metadata": {},
   "outputs": [],
   "source": [
    "# concatenate into a big delta matrix\n",
    "delta = np.concatenate((delta_G_kcal_mol, delta_ln_k), axis=0)"
   ]
  },
  {
   "cell_type": "markdown",
   "id": "abbc8ce3",
   "metadata": {},
   "source": [
    "### Put it all together into $\\frac{\\partial \\ln \\tau}{\\partial G}$ or $\\frac{\\partial \\ln \\tau}{\\partial \\ln k}$"
   ]
  },
  {
   "cell_type": "code",
   "execution_count": 21,
   "id": "1108c680",
   "metadata": {},
   "outputs": [],
   "source": [
    "# first derivative is change in delay / change in G\n",
    "first_derivative = np.divide(d_ln_tau, delta)"
   ]
  },
  {
   "cell_type": "code",
   "execution_count": 22,
   "id": "83d108a2",
   "metadata": {},
   "outputs": [
    {
     "name": "stderr",
     "output_type": "stream",
     "text": [
      "/home/moon/anaconda3/envs/rmg_env/lib/python3.7/site-packages/ipykernel_launcher.py:1: RuntimeWarning: Mean of empty slice\n",
      "  \"\"\"Entry point for launching an IPython kernel.\n"
     ]
    },
    {
     "name": "stdout",
     "output_type": "stream",
     "text": [
      "Top Sensitive Parameters\n",
      "i\tDelta\tReaction\tSensitivity\tImprovement Score\n",
      "419 \t 0.641619751 \t OH(15) + butane(1) <=> H2O(8) + PC4H9(182)\n",
      "378 \t 0.530904293 \t OH(15) + butane(1) <=> H2O(8) + SC4H9(183)\n",
      "380 \t 0.347532302 \t HO2(16) + butane(1) <=> H2O2(17) + SC4H9(183)\n",
      "412 \t 0.32371318 \t O2(2) + S(223) <=> S(229)\n",
      "410 \t 0.28706747 \t S(186) <=> C4H8(189) + HO2(16)\n",
      "455 \t 0.249022333 \t O2(2) + S(219) <=> S(225)\n",
      "130 \t 0.246734682 \t 2 HO2(16) <=> H2O2(17) + O2(2)\n",
      "170 \t 0.246734629 \t 2 HO2(16) <=> H2O2(17) + O2(2)\n",
      "72 \t 0.234526827 \t <Species S(223)>\n",
      "59 \t 0.227483753 \t <Species S(186)>\n"
     ]
    }
   ],
   "source": [
    "avg_first_derivative = np.nanmean(first_derivative, axis=1)\n",
    "abs_avg_first_derivative = np.abs(avg_first_derivative)\n",
    "abs_avg_first_derivative[np.isnan(abs_avg_first_derivative)] = -np.inf\n",
    "# avg_first_derivative[np.isnan(avg_first_derivative)] = -np.inf\n",
    "\n",
    "parameter_indices = np.arange(0, N + M)\n",
    "# reaction_sensitivity_order = [x for _, x in sorted(zip(avg_first_derivative, parameter_indices))][::-1]\n",
    "reaction_sensitivity_order = [x for _, x in sorted(zip(abs_avg_first_derivative, parameter_indices))][::-1]\n",
    "\n",
    "print('Top Sensitive Parameters')\n",
    "print('i\\tDelta\\tReaction\\tSensitivity\\tImprovement Score')\n",
    "for i in range(0, 10):\n",
    "    ct_index = reaction_sensitivity_order[i]\n",
    "    \n",
    "    if ct_index < N:\n",
    "#         print(ct_index, '\\t', np.round(avg_first_derivative[ct_index,0], 9),\n",
    "#               '\\t', gas.species()[ct_index], )\n",
    "        print(ct_index, '\\t', np.round(abs_avg_first_derivative[ct_index,0], 9),\n",
    "              '\\t', gas.species()[ct_index], )\n",
    "    else:\n",
    "#         print(ct_index, '\\t', np.round(avg_first_derivative[ct_index,0], 9),\n",
    "#               '\\t', gas.reactions()[ct_index - N])\n",
    "        print(ct_index, '\\t', np.round(abs_avg_first_derivative[ct_index,0], 9),\n",
    "              '\\t', gas.reactions()[ct_index - N])"
   ]
  },
  {
   "cell_type": "code",
   "execution_count": 23,
   "id": "37b15a0a",
   "metadata": {},
   "outputs": [],
   "source": [
    "# for i in range(0, 11):\n",
    "    \n",
    "#     ct_index = reaction_sensitivity_order[i]\n",
    "    \n",
    "#     if ct_index < N:\n",
    "#         display(species_list[ct_index])\n",
    "#     else:\n",
    "#         display(reaction_list[ct2rmg_rxn[ct_index - N]])"
   ]
  },
  {
   "cell_type": "code",
   "execution_count": null,
   "id": "2e17b4bb",
   "metadata": {},
   "outputs": [],
   "source": []
  },
  {
   "cell_type": "markdown",
   "id": "68755d2d",
   "metadata": {},
   "source": [
    "# compute errors for plotting "
   ]
  },
  {
   "cell_type": "code",
   "execution_count": 24,
   "id": "c1ea056a",
   "metadata": {},
   "outputs": [],
   "source": [
    "total_error = np.multiply(np.float_power(first_derivative, 2.0), np.float_power(total_uncertainty_mat, 2.0))\n",
    "total_error7 = total_error[:, 6 * 51 : 7 * 51]"
   ]
  },
  {
   "cell_type": "code",
   "execution_count": 25,
   "id": "96d5da08",
   "metadata": {},
   "outputs": [],
   "source": [
    "base_delays7 = np.load('table_0007/base_delays_0007.npy')\n",
    "error_slice = total_error7[:,26]\n",
    "\n",
    "# rank the parameters by error contribution\n",
    "error_slice[np.isnan(error_slice)] = 0\n",
    "\n",
    "\n",
    "error_indices = np.arange(0, N + M)\n",
    "error_order = [x for _, x in sorted(zip(error_slice, error_indices))][::-1]\n",
    "\n",
    "\n",
    "# get results if we only included top 10 in uncertainty\n",
    "upper_bound10 = np.ravel(np.array(np.exp(np.log(base_delays7) + np.nansum(total_error7[error_order[0:10], :], 0))))\n",
    "lower_bound10 = np.ravel(np.array(np.exp(np.log(base_delays7) - np.nansum(total_error7[error_order[0:10], :], 0))))\n",
    "\n",
    "\n",
    "# get results if we only included top 20 in uncertainty\n",
    "upper_bound20 = np.ravel(np.array(np.exp(np.log(base_delays7) + np.nansum(total_error7[error_order[0:20], :], 0))))\n",
    "lower_bound20 = np.ravel(np.array(np.exp(np.log(base_delays7) - np.nansum(total_error7[error_order[0:20], :], 0))))"
   ]
  },
  {
   "cell_type": "code",
   "execution_count": 26,
   "id": "11f618fd",
   "metadata": {},
   "outputs": [
    {
     "data": {
      "text/plain": [
       "1960"
      ]
     },
     "execution_count": 26,
     "metadata": {},
     "output_type": "execute_result"
    }
   ],
   "source": [
    "len(error_order)"
   ]
  },
  {
   "cell_type": "code",
   "execution_count": 27,
   "id": "7c299524",
   "metadata": {},
   "outputs": [
    {
     "name": "stdout",
     "output_type": "stream",
     "text": [
      "Top Error Parameters\n",
      "270 \t 0.05720428 \t HO2(16) + butane(1) <=> H2O2(17) + SC4H9(183)\n",
      "5 \t 0.036085703 \t <Species O2(2)>\n",
      "60 \t 0.021749516 \t 2 HO2(16) <=> H2O2(17) + O2(2)\n",
      "20 \t 0.021749514 \t 2 HO2(16) <=> H2O2(17) + O2(2)\n",
      "58 \t 0.015116549 \t <Species S(184)>\n",
      "72 \t 0.014720233 \t <Species S(223)>\n",
      "309 \t 0.012324574 \t OH(15) + butane(1) <=> H2O(8) + PC4H9(182)\n",
      "59 \t 0.012050337 \t <Species S(186)>\n",
      "268 \t 0.008949092 \t OH(15) + butane(1) <=> H2O(8) + SC4H9(183)\n",
      "311 \t 0.007321678 \t HO2(16) + butane(1) <=> H2O2(17) + PC4H9(182)\n",
      "300 \t 0.005679925 \t S(186) <=> C4H8(189) + HO2(16)\n"
     ]
    }
   ],
   "source": [
    "# print the worst offenders:\n",
    "print('Top Error Parameters')\n",
    "g_params = []\n",
    "k_params = []\n",
    "for i in range(0, 11):\n",
    "    ct_index = error_order[i]\n",
    "    \n",
    "    if ct_index < N:\n",
    "        print(ct_index, '\\t', np.round(error_slice[ct_index, 0], 9),\n",
    "              '\\t', gas.species()[ct_index], )\n",
    "        g_params.append(ct_index)\n",
    "    else:\n",
    "        print(ct_index - N, '\\t', np.round(error_slice[ct_index, 0], 9),\n",
    "              '\\t', gas.reactions()[ct_index - N])\n",
    "        k_params.append(ct2rmg_rxn[ct_index - N])\n"
   ]
  },
  {
   "cell_type": "code",
   "execution_count": 28,
   "id": "96a214b2",
   "metadata": {},
   "outputs": [
    {
     "data": {
      "text/plain": [
       "(1850,)"
      ]
     },
     "execution_count": 28,
     "metadata": {},
     "output_type": "execute_result"
    }
   ],
   "source": [
    "rxn_uncertainty.shape"
   ]
  },
  {
   "cell_type": "code",
   "execution_count": 29,
   "id": "494e5f93",
   "metadata": {},
   "outputs": [
    {
     "data": {
      "text/plain": [
       "(110,)"
      ]
     },
     "execution_count": 29,
     "metadata": {},
     "output_type": "execute_result"
    }
   ],
   "source": [
    "sp_uncertainty.shape"
   ]
  },
  {
   "cell_type": "code",
   "execution_count": 30,
   "id": "ff3a0a6b",
   "metadata": {},
   "outputs": [
    {
     "data": {
      "image/png": "[encoded data removed]",
      "text/plain": [
       "LibraryReaction(index=271, reactants=[Species(index=16, label=\"HO2\", thermo=NASA(polynomials=[NASAPolynomial(coeffs=[4.02957,-0.00263999,1.52236e-05,-1.71679e-08,6.26772e-12,322.677,4.84424], Tmin=(100,'K'), Tmax=(923.9,'K')), NASAPolynomial(coeffs=[4.1513,0.00191152,-4.11308e-07,6.35039e-11,-4.86454e-15,83.4343,3.09359], Tmin=(923.9,'K'), Tmax=(5000,'K'))], Tmin=(100,'K'), Tmax=(5000,'K'), comment=\"\"\"Thermo library: BurkeH2O2\"\"\"), molecule=[Molecule(smiles=\"[O]O\")], transport_data=TransportData(shapeIndex=2, epsilon=(892.974,'J/mol'), sigma=(3.458,'angstrom'), dipoleMoment=(0,'De'), polarizability=(0,'angstrom^3'), rotrelaxcollnum=1.0, comment=\"\"\"GRI-Mech\"\"\"), molecular_weight=(33.0068,'amu')), Species(index=1, label=\"butane\", thermo=NASA(polynomials=[NASAPolynomial(coeffs=[-0.402516,0.0479826,-2.65876e-05,7.07078e-09,-6.98493e-13,-16879.5,26.3199], Tmin=(200,'K'), Tmax=(1389,'K')), NASAPolynomial(coeffs=[12.5232,0.0218667,-7.50126e-06,1.16671e-09,-6.77697e-14,-21847.6,-44.6643], Tmin=(1389,'K'), Tmax=(5000,'K'))], Tmin=(200,'K'), Tmax=(5000,'K'), comment=\"\"\"Thermo library: CurranPentane\"\"\"), molecule=[Molecule(smiles=\"CCCC\")], transport_data=TransportData(shapeIndex=2, epsilon=(2896.89,'J/mol'), sigma=(5.415,'angstrom'), dipoleMoment=(0,'De'), polarizability=(0,'angstrom^3'), rotrelaxcollnum=0.0, comment=\"\"\"Epsilon & sigma estimated with Tc=452.49 K, Pc=41.41 bar (from Joback method)\"\"\"), molecular_weight=(58.1223,'amu'))], products=[Species(index=17, label=\"H2O2\", thermo=NASA(polynomials=[NASAPolynomial(coeffs=[3.72867,0.00413377,5.67497e-06,-1.01866e-08,4.28612e-12,-17696.4,5.35912], Tmin=(100,'K'), Tmax=(923.27,'K')), NASAPolynomial(coeffs=[4.95152,0.0035423,-1.01041e-06,1.61942e-10,-1.10209e-14,-18122.8,-1.52912], Tmin=(923.27,'K'), Tmax=(5000,'K'))], Tmin=(100,'K'), Tmax=(5000,'K'), comment=\"\"\"Thermo library: BurkeH2O2\"\"\"), molecule=[Molecule(smiles=\"OO\")], transport_data=TransportData(shapeIndex=2, epsilon=(2405.38,'J/mol'), sigma=(4.196,'angstrom'), dipoleMoment=(0,'De'), polarizability=(0,'angstrom^3'), rotrelaxcollnum=0.0, comment=\"\"\"PrimaryTransportLibrary\"\"\"), molecular_weight=(34.0147,'amu')), Species(index=183, label=\"SC4H9\", thermo=NASA(polynomials=[NASAPolynomial(coeffs=[0.623604,0.039929,-1.89597e-05,3.45938e-09,-2.39236e-14,6176.89,25.2738], Tmin=(200,'K'), Tmax=(1388,'K')), NASAPolynomial(coeffs=[11.137,0.0204039,-6.97571e-06,1.08245e-09,-6.27715e-14,1955.91,-33.0856], Tmin=(1388,'K'), Tmax=(5000,'K'))], Tmin=(200,'K'), Tmax=(5000,'K'), comment=\"\"\"Thermo library: CurranPentane\"\"\"), molecule=[Molecule(smiles=\"C[CH]CC\")], transport_data=TransportData(shapeIndex=2, epsilon=(2968.28,'J/mol'), sigma=(5.176,'angstrom'), dipoleMoment=(0,'De'), polarizability=(0,'angstrom^3'), rotrelaxcollnum=1.0, comment=\"\"\"GRI-Mech\"\"\"), molecular_weight=(57.1143,'amu'))], kinetics=Arrhenius(A=(126.4,'cm^3/(mol*s)'), n=3.37, Ea=(13.72,'kcal/mol'), T0=(1,'K')), pairs=[(Species(index=1, label=\"butane\", thermo=NASA(polynomials=[NASAPolynomial(coeffs=[-0.402516,0.0479826,-2.65876e-05,7.07078e-09,-6.98493e-13,-16879.5,26.3199], Tmin=(200,'K'), Tmax=(1389,'K')), NASAPolynomial(coeffs=[12.5232,0.0218667,-7.50126e-06,1.16671e-09,-6.77697e-14,-21847.6,-44.6643], Tmin=(1389,'K'), Tmax=(5000,'K'))], Tmin=(200,'K'), Tmax=(5000,'K'), comment=\"\"\"Thermo library: CurranPentane\"\"\"), molecule=[Molecule(smiles=\"CCCC\")], transport_data=TransportData(shapeIndex=2, epsilon=(2896.89,'J/mol'), sigma=(5.415,'angstrom'), dipoleMoment=(0,'De'), polarizability=(0,'angstrom^3'), rotrelaxcollnum=0.0, comment=\"\"\"Epsilon & sigma estimated with Tc=452.49 K, Pc=41.41 bar (from Joback method)\"\"\"), molecular_weight=(58.1223,'amu')), Species(index=183, label=\"SC4H9\", thermo=NASA(polynomials=[NASAPolynomial(coeffs=[0.623604,0.039929,-1.89597e-05,3.45938e-09,-2.39236e-14,6176.89,25.2738], Tmin=(200,'K'), Tmax=(1388,'K')), NASAPolynomial(coeffs=[11.137,0.0204039,-6.97571e-06,1.08245e-09,-6.27715e-14,1955.91,-33.0856], Tmin=(1388,'K'), Tmax=(5000,'K'))], Tmin=(200,'K'), Tmax=(5000,'K'), comment=\"\"\"Thermo library: CurranPentane\"\"\"), molecule=[Molecule(smiles=\"C[CH]CC\")], transport_data=TransportData(shapeIndex=2, epsilon=(2968.28,'J/mol'), sigma=(5.176,'angstrom'), dipoleMoment=(0,'De'), polarizability=(0,'angstrom^3'), rotrelaxcollnum=1.0, comment=\"\"\"GRI-Mech\"\"\"), molecular_weight=(57.1143,'amu'))), (Species(index=16, label=\"HO2\", thermo=NASA(polynomials=[NASAPolynomial(coeffs=[4.02957,-0.00263999,1.52236e-05,-1.71679e-08,6.26772e-12,322.677,4.84424], Tmin=(100,'K'), Tmax=(923.9,'K')), NASAPolynomial(coeffs=[4.1513,0.00191152,-4.11308e-07,6.35039e-11,-4.86454e-15,83.4343,3.09359], Tmin=(923.9,'K'), Tmax=(5000,'K'))], Tmin=(100,'K'), Tmax=(5000,'K'), comment=\"\"\"Thermo library: BurkeH2O2\"\"\"), molecule=[Molecule(smiles=\"[O]O\")], transport_data=TransportData(shapeIndex=2, epsilon=(892.974,'J/mol'), sigma=(3.458,'angstrom'), dipoleMoment=(0,'De'), polarizability=(0,'angstrom^3'), rotrelaxcollnum=1.0, comment=\"\"\"GRI-Mech\"\"\"), molecular_weight=(33.0068,'amu')), Species(index=17, label=\"H2O2\", thermo=NASA(polynomials=[NASAPolynomial(coeffs=[3.72867,0.00413377,5.67497e-06,-1.01866e-08,4.28612e-12,-17696.4,5.35912], Tmin=(100,'K'), Tmax=(923.27,'K')), NASAPolynomial(coeffs=[4.95152,0.0035423,-1.01041e-06,1.61942e-10,-1.10209e-14,-18122.8,-1.52912], Tmin=(923.27,'K'), Tmax=(5000,'K'))], Tmin=(100,'K'), Tmax=(5000,'K'), comment=\"\"\"Thermo library: BurkeH2O2\"\"\"), molecule=[Molecule(smiles=\"OO\")], transport_data=TransportData(shapeIndex=2, epsilon=(2405.38,'J/mol'), sigma=(4.196,'angstrom'), dipoleMoment=(0,'De'), polarizability=(0,'angstrom^3'), rotrelaxcollnum=0.0, comment=\"\"\"PrimaryTransportLibrary\"\"\"), molecular_weight=(34.0147,'amu')))])"
      ]
     },
     "metadata": {},
     "output_type": "display_data"
    },
    {
     "name": "stdout",
     "output_type": "stream",
     "text": [
      "0.5\n"
     ]
    },
    {
     "data": {
      "image/png": "[encoded data removed]",
      "text/plain": [
       "Species(index=2, label=\"O2\", thermo=NASA(polynomials=[NASAPolynomial(coeffs=[3.53764,-0.00122828,5.36759e-06,-4.93128e-09,1.45955e-12,-1037.99,4.6718], Tmin=(100,'K'), Tmax=(1087.71,'K')), NASAPolynomial(coeffs=[3.16427,0.00169454,-8.00335e-07,1.5903e-10,-1.14891e-14,-1048.45,6.08303], Tmin=(1087.71,'K'), Tmax=(5000,'K'))], Tmin=(100,'K'), Tmax=(5000,'K'), comment=\"\"\"Thermo library: BurkeH2O2\"\"\"), molecule=[Molecule(smiles=\"[O][O]\")], transport_data=TransportData(shapeIndex=1, epsilon=(887.154,'J/mol'), sigma=(3.467,'angstrom'), dipoleMoment=(0,'De'), polarizability=(0,'angstrom^3'), rotrelaxcollnum=0.0, comment=\"\"\"PrimaryTransportLibrary\"\"\"), molecular_weight=(31.9988,'amu'))"
      ]
     },
     "metadata": {},
     "output_type": "display_data"
    },
    {
     "name": "stdout",
     "output_type": "stream",
     "text": [
      "1.5\n"
     ]
    },
    {
     "data": {
      "image/png": "[encoded data removed]",
      "text/plain": [
       "LibraryReaction(index=20, reactants=[Species(index=16, label=\"HO2\", thermo=NASA(polynomials=[NASAPolynomial(coeffs=[4.02957,-0.00263999,1.52236e-05,-1.71679e-08,6.26772e-12,322.677,4.84424], Tmin=(100,'K'), Tmax=(923.9,'K')), NASAPolynomial(coeffs=[4.1513,0.00191152,-4.11308e-07,6.35039e-11,-4.86454e-15,83.4343,3.09359], Tmin=(923.9,'K'), Tmax=(5000,'K'))], Tmin=(100,'K'), Tmax=(5000,'K'), comment=\"\"\"Thermo library: BurkeH2O2\"\"\"), molecule=[Molecule(smiles=\"[O]O\")], transport_data=TransportData(shapeIndex=2, epsilon=(892.974,'J/mol'), sigma=(3.458,'angstrom'), dipoleMoment=(0,'De'), polarizability=(0,'angstrom^3'), rotrelaxcollnum=1.0, comment=\"\"\"GRI-Mech\"\"\"), molecular_weight=(33.0068,'amu')), Species(index=16, label=\"HO2\", thermo=NASA(polynomials=[NASAPolynomial(coeffs=[4.02957,-0.00263999,1.52236e-05,-1.71679e-08,6.26772e-12,322.677,4.84424], Tmin=(100,'K'), Tmax=(923.9,'K')), NASAPolynomial(coeffs=[4.1513,0.00191152,-4.11308e-07,6.35039e-11,-4.86454e-15,83.4343,3.09359], Tmin=(923.9,'K'), Tmax=(5000,'K'))], Tmin=(100,'K'), Tmax=(5000,'K'), comment=\"\"\"Thermo library: BurkeH2O2\"\"\"), molecule=[Molecule(smiles=\"[O]O\")], transport_data=TransportData(shapeIndex=2, epsilon=(892.974,'J/mol'), sigma=(3.458,'angstrom'), dipoleMoment=(0,'De'), polarizability=(0,'angstrom^3'), rotrelaxcollnum=1.0, comment=\"\"\"GRI-Mech\"\"\"), molecular_weight=(33.0068,'amu'))], products=[Species(index=2, label=\"O2\", thermo=NASA(polynomials=[NASAPolynomial(coeffs=[3.53764,-0.00122828,5.36759e-06,-4.93128e-09,1.45955e-12,-1037.99,4.6718], Tmin=(100,'K'), Tmax=(1087.71,'K')), NASAPolynomial(coeffs=[3.16427,0.00169454,-8.00335e-07,1.5903e-10,-1.14891e-14,-1048.45,6.08303], Tmin=(1087.71,'K'), Tmax=(5000,'K'))], Tmin=(100,'K'), Tmax=(5000,'K'), comment=\"\"\"Thermo library: BurkeH2O2\"\"\"), molecule=[Molecule(smiles=\"[O][O]\")], transport_data=TransportData(shapeIndex=1, epsilon=(887.154,'J/mol'), sigma=(3.467,'angstrom'), dipoleMoment=(0,'De'), polarizability=(0,'angstrom^3'), rotrelaxcollnum=0.0, comment=\"\"\"PrimaryTransportLibrary\"\"\"), molecular_weight=(31.9988,'amu')), Species(index=17, label=\"H2O2\", thermo=NASA(polynomials=[NASAPolynomial(coeffs=[3.72867,0.00413377,5.67497e-06,-1.01866e-08,4.28612e-12,-17696.4,5.35912], Tmin=(100,'K'), Tmax=(923.27,'K')), NASAPolynomial(coeffs=[4.95152,0.0035423,-1.01041e-06,1.61942e-10,-1.10209e-14,-18122.8,-1.52912], Tmin=(923.27,'K'), Tmax=(5000,'K'))], Tmin=(100,'K'), Tmax=(5000,'K'), comment=\"\"\"Thermo library: BurkeH2O2\"\"\"), molecule=[Molecule(smiles=\"OO\")], transport_data=TransportData(shapeIndex=2, epsilon=(2405.38,'J/mol'), sigma=(4.196,'angstrom'), dipoleMoment=(0,'De'), polarizability=(0,'angstrom^3'), rotrelaxcollnum=0.0, comment=\"\"\"PrimaryTransportLibrary\"\"\"), molecular_weight=(34.0147,'amu'))], kinetics=MultiArrhenius(arrhenius=[Arrhenius(A=(4.2e+14,'cm^3/(mol*s)'), n=0, Ea=(11.982,'kcal/mol'), T0=(1,'K')), Arrhenius(A=(1.3e+11,'cm^3/(mol*s)'), n=0, Ea=(-1.629,'kcal/mol'), T0=(1,'K')), Arrhenius(A=(4.2e+14,'cm^3/(mol*s)'), n=0, Ea=(11.982,'kcal/mol'), T0=(1,'K')), Arrhenius(A=(1.3e+11,'cm^3/(mol*s)'), n=0, Ea=(-1.629,'kcal/mol'), T0=(1,'K'))]))"
      ]
     },
     "metadata": {},
     "output_type": "display_data"
    },
    {
     "name": "stdout",
     "output_type": "stream",
     "text": [
      "0.5\n"
     ]
    },
    {
     "data": {
      "image/png": "[encoded data removed]",
      "text/plain": [
       "LibraryReaction(index=20, reactants=[Species(index=16, label=\"HO2\", thermo=NASA(polynomials=[NASAPolynomial(coeffs=[4.02957,-0.00263999,1.52236e-05,-1.71679e-08,6.26772e-12,322.677,4.84424], Tmin=(100,'K'), Tmax=(923.9,'K')), NASAPolynomial(coeffs=[4.1513,0.00191152,-4.11308e-07,6.35039e-11,-4.86454e-15,83.4343,3.09359], Tmin=(923.9,'K'), Tmax=(5000,'K'))], Tmin=(100,'K'), Tmax=(5000,'K'), comment=\"\"\"Thermo library: BurkeH2O2\"\"\"), molecule=[Molecule(smiles=\"[O]O\")], transport_data=TransportData(shapeIndex=2, epsilon=(892.974,'J/mol'), sigma=(3.458,'angstrom'), dipoleMoment=(0,'De'), polarizability=(0,'angstrom^3'), rotrelaxcollnum=1.0, comment=\"\"\"GRI-Mech\"\"\"), molecular_weight=(33.0068,'amu')), Species(index=16, label=\"HO2\", thermo=NASA(polynomials=[NASAPolynomial(coeffs=[4.02957,-0.00263999,1.52236e-05,-1.71679e-08,6.26772e-12,322.677,4.84424], Tmin=(100,'K'), Tmax=(923.9,'K')), NASAPolynomial(coeffs=[4.1513,0.00191152,-4.11308e-07,6.35039e-11,-4.86454e-15,83.4343,3.09359], Tmin=(923.9,'K'), Tmax=(5000,'K'))], Tmin=(100,'K'), Tmax=(5000,'K'), comment=\"\"\"Thermo library: BurkeH2O2\"\"\"), molecule=[Molecule(smiles=\"[O]O\")], transport_data=TransportData(shapeIndex=2, epsilon=(892.974,'J/mol'), sigma=(3.458,'angstrom'), dipoleMoment=(0,'De'), polarizability=(0,'angstrom^3'), rotrelaxcollnum=1.0, comment=\"\"\"GRI-Mech\"\"\"), molecular_weight=(33.0068,'amu'))], products=[Species(index=2, label=\"O2\", thermo=NASA(polynomials=[NASAPolynomial(coeffs=[3.53764,-0.00122828,5.36759e-06,-4.93128e-09,1.45955e-12,-1037.99,4.6718], Tmin=(100,'K'), Tmax=(1087.71,'K')), NASAPolynomial(coeffs=[3.16427,0.00169454,-8.00335e-07,1.5903e-10,-1.14891e-14,-1048.45,6.08303], Tmin=(1087.71,'K'), Tmax=(5000,'K'))], Tmin=(100,'K'), Tmax=(5000,'K'), comment=\"\"\"Thermo library: BurkeH2O2\"\"\"), molecule=[Molecule(smiles=\"[O][O]\")], transport_data=TransportData(shapeIndex=1, epsilon=(887.154,'J/mol'), sigma=(3.467,'angstrom'), dipoleMoment=(0,'De'), polarizability=(0,'angstrom^3'), rotrelaxcollnum=0.0, comment=\"\"\"PrimaryTransportLibrary\"\"\"), molecular_weight=(31.9988,'amu')), Species(index=17, label=\"H2O2\", thermo=NASA(polynomials=[NASAPolynomial(coeffs=[3.72867,0.00413377,5.67497e-06,-1.01866e-08,4.28612e-12,-17696.4,5.35912], Tmin=(100,'K'), Tmax=(923.27,'K')), NASAPolynomial(coeffs=[4.95152,0.0035423,-1.01041e-06,1.61942e-10,-1.10209e-14,-18122.8,-1.52912], Tmin=(923.27,'K'), Tmax=(5000,'K'))], Tmin=(100,'K'), Tmax=(5000,'K'), comment=\"\"\"Thermo library: BurkeH2O2\"\"\"), molecule=[Molecule(smiles=\"OO\")], transport_data=TransportData(shapeIndex=2, epsilon=(2405.38,'J/mol'), sigma=(4.196,'angstrom'), dipoleMoment=(0,'De'), polarizability=(0,'angstrom^3'), rotrelaxcollnum=0.0, comment=\"\"\"PrimaryTransportLibrary\"\"\"), molecular_weight=(34.0147,'amu'))], kinetics=MultiArrhenius(arrhenius=[Arrhenius(A=(4.2e+14,'cm^3/(mol*s)'), n=0, Ea=(11.982,'kcal/mol'), T0=(1,'K')), Arrhenius(A=(1.3e+11,'cm^3/(mol*s)'), n=0, Ea=(-1.629,'kcal/mol'), T0=(1,'K')), Arrhenius(A=(4.2e+14,'cm^3/(mol*s)'), n=0, Ea=(11.982,'kcal/mol'), T0=(1,'K')), Arrhenius(A=(1.3e+11,'cm^3/(mol*s)'), n=0, Ea=(-1.629,'kcal/mol'), T0=(1,'K'))]))"
      ]
     },
     "metadata": {},
     "output_type": "display_data"
    },
    {
     "name": "stdout",
     "output_type": "stream",
     "text": [
      "0.5\n"
     ]
    },
    {
     "data": {
      "image/png": "[encoded data removed]",
      "text/plain": [
       "Species(index=184, label=\"S\", thermo=NASA(polynomials=[NASAPolynomial(coeffs=[2.16958,0.0522745,-3.32955e-05,1.03031e-08,-1.20771e-12,-10718.1,20.3542], Tmin=(200,'K'), Tmax=(1663,'K')), NASAPolynomial(coeffs=[15.8558,0.0204564,-6.9323e-06,1.07505e-09,-6.24729e-14,-15165.1,-52.7319], Tmin=(1663,'K'), Tmax=(5000,'K'))], Tmin=(200,'K'), Tmax=(5000,'K'), comment=\"\"\"Thermo library: CurranPentane\"\"\"), molecule=[Molecule(smiles=\"CCCCO[O]\")], transport_data=TransportData(shapeIndex=2, epsilon=(3638.29,'J/mol'), sigma=(6.34,'angstrom'), dipoleMoment=(0,'De'), polarizability=(0,'angstrom^3'), rotrelaxcollnum=0.0, comment=\"\"\"Epsilon & sigma estimated with Tc=568.29 K, Pc=32.39 bar (from Joback method)\"\"\"), molecular_weight=(89.1131,'amu'))"
      ]
     },
     "metadata": {},
     "output_type": "display_data"
    },
    {
     "name": "stdout",
     "output_type": "stream",
     "text": [
      "1.5\n"
     ]
    },
    {
     "data": {
      "image/png": "[encoded data removed]",
      "text/plain": [
       "Species(index=223, label=\"S\", thermo=NASA(polynomials=[NASAPolynomial(coeffs=[1.17741,0.0615983,-5.08528e-05,2.20416e-08,-3.84993e-12,-4548.49,24.6741], Tmin=(200,'K'), Tmax=(1399,'K')), NASAPolynomial(coeffs=[17.7802,0.0177014,-5.77664e-06,8.69169e-10,-4.93475e-14,-9757.28,-62.6039], Tmin=(1399,'K'), Tmax=(5000,'K'))], Tmin=(200,'K'), Tmax=(5000,'K'), comment=\"\"\"Thermo library: CurranPentane\"\"\"), molecule=[Molecule(smiles=\"[CH2]CC(C)OO\")], transport_data=TransportData(shapeIndex=2, epsilon=(3658.62,'J/mol'), sigma=(6.371,'angstrom'), dipoleMoment=(0,'De'), polarizability=(0,'angstrom^3'), rotrelaxcollnum=0.0, comment=\"\"\"Epsilon & sigma estimated with Tc=571.47 K, Pc=32.1 bar (from Joback method)\"\"\"), molecular_weight=(89.1131,'amu'))"
      ]
     },
     "metadata": {},
     "output_type": "display_data"
    },
    {
     "name": "stdout",
     "output_type": "stream",
     "text": [
      "1.5\n"
     ]
    },
    {
     "data": {
      "image/png": "[encoded data removed]",
      "text/plain": [
       "LibraryReaction(index=310, reactants=[Species(index=15, label=\"OH\", thermo=NASA(polynomials=[NASAPolynomial(coeffs=[3.4858,0.00133391,-4.70022e-06,5.64351e-09,-2.06306e-12,3411.96,1.99786], Tmin=(100,'K'), Tmax=(1005.26,'K')), NASAPolynomial(coeffs=[2.88223,0.00103872,-2.35672e-07,1.40278e-11,6.34181e-16,3669.57,5.59065], Tmin=(1005.26,'K'), Tmax=(5000,'K'))], Tmin=(100,'K'), Tmax=(5000,'K'), comment=\"\"\"Thermo library: BurkeH2O2\"\"\"), molecule=[Molecule(smiles=\"[OH]\")], transport_data=TransportData(shapeIndex=1, epsilon=(665.158,'J/mol'), sigma=(2.75,'angstrom'), dipoleMoment=(0,'De'), polarizability=(0,'angstrom^3'), rotrelaxcollnum=0.0, comment=\"\"\"GRI-Mech\"\"\"), molecular_weight=(17.0074,'amu')), Species(index=1, label=\"butane\", thermo=NASA(polynomials=[NASAPolynomial(coeffs=[-0.402516,0.0479826,-2.65876e-05,7.07078e-09,-6.98493e-13,-16879.5,26.3199], Tmin=(200,'K'), Tmax=(1389,'K')), NASAPolynomial(coeffs=[12.5232,0.0218667,-7.50126e-06,1.16671e-09,-6.77697e-14,-21847.6,-44.6643], Tmin=(1389,'K'), Tmax=(5000,'K'))], Tmin=(200,'K'), Tmax=(5000,'K'), comment=\"\"\"Thermo library: CurranPentane\"\"\"), molecule=[Molecule(smiles=\"CCCC\")], transport_data=TransportData(shapeIndex=2, epsilon=(2896.89,'J/mol'), sigma=(5.415,'angstrom'), dipoleMoment=(0,'De'), polarizability=(0,'angstrom^3'), rotrelaxcollnum=0.0, comment=\"\"\"Epsilon & sigma estimated with Tc=452.49 K, Pc=41.41 bar (from Joback method)\"\"\"), molecular_weight=(58.1223,'amu'))], products=[Species(index=8, label=\"H2O\", thermo=NASA(polynomials=[NASAPolynomial(coeffs=[3.99882,-0.000554832,2.76774e-06,-1.55665e-09,3.02331e-13,-30274.6,-0.0308945], Tmin=(100,'K'), Tmax=(1281.44,'K')), NASAPolynomial(coeffs=[3.1956,0.0019524,-1.67118e-07,-2.9794e-11,4.4514e-15,-30068.7,4.04334], Tmin=(1281.44,'K'), Tmax=(5000,'K'))], Tmin=(100,'K'), Tmax=(5000,'K'), comment=\"\"\"Thermo library: BurkeH2O2\"\"\"), molecule=[Molecule(smiles=\"O\")], transport_data=TransportData(shapeIndex=2, epsilon=(6727.26,'J/mol'), sigma=(2.641,'angstrom'), dipoleMoment=(0,'De'), polarizability=(1.76,'angstrom^3'), rotrelaxcollnum=4.0, comment=\"\"\"PrimaryTransportLibrary\"\"\"), molecular_weight=(18.0153,'amu')), Species(index=182, label=\"PC4H9\", thermo=NASA(polynomials=[NASAPolynomial(coeffs=[0.350939,0.0447617,-2.76331e-05,9.10558e-09,-1.28318e-12,7745.08,25.3924], Tmin=(200,'K'), Tmax=(1393,'K')), NASAPolynomial(coeffs=[11.8227,0.0197585,-6.73845e-06,1.04383e-09,-6.04576e-14,3503.34,-36.9846], Tmin=(1393,'K'), Tmax=(5000,'K'))], Tmin=(200,'K'), Tmax=(5000,'K'), comment=\"\"\"Thermo library: CurranPentane\"\"\"), molecule=[Molecule(smiles=\"[CH2]CCC\")], transport_data=TransportData(shapeIndex=2, epsilon=(2968.28,'J/mol'), sigma=(5.176,'angstrom'), dipoleMoment=(0,'De'), polarizability=(0,'angstrom^3'), rotrelaxcollnum=1.0, comment=\"\"\"GRI-Mech\"\"\"), molecular_weight=(57.1143,'amu'))], kinetics=Arrhenius(A=(1.054e+10,'cm^3/(mol*s)'), n=0.97, Ea=(1.586,'kcal/mol'), T0=(1,'K')), pairs=[(Species(index=1, label=\"butane\", thermo=NASA(polynomials=[NASAPolynomial(coeffs=[-0.402516,0.0479826,-2.65876e-05,7.07078e-09,-6.98493e-13,-16879.5,26.3199], Tmin=(200,'K'), Tmax=(1389,'K')), NASAPolynomial(coeffs=[12.5232,0.0218667,-7.50126e-06,1.16671e-09,-6.77697e-14,-21847.6,-44.6643], Tmin=(1389,'K'), Tmax=(5000,'K'))], Tmin=(200,'K'), Tmax=(5000,'K'), comment=\"\"\"Thermo library: CurranPentane\"\"\"), molecule=[Molecule(smiles=\"CCCC\")], transport_data=TransportData(shapeIndex=2, epsilon=(2896.89,'J/mol'), sigma=(5.415,'angstrom'), dipoleMoment=(0,'De'), polarizability=(0,'angstrom^3'), rotrelaxcollnum=0.0, comment=\"\"\"Epsilon & sigma estimated with Tc=452.49 K, Pc=41.41 bar (from Joback method)\"\"\"), molecular_weight=(58.1223,'amu')), Species(index=182, label=\"PC4H9\", thermo=NASA(polynomials=[NASAPolynomial(coeffs=[0.350939,0.0447617,-2.76331e-05,9.10558e-09,-1.28318e-12,7745.08,25.3924], Tmin=(200,'K'), Tmax=(1393,'K')), NASAPolynomial(coeffs=[11.8227,0.0197585,-6.73845e-06,1.04383e-09,-6.04576e-14,3503.34,-36.9846], Tmin=(1393,'K'), Tmax=(5000,'K'))], Tmin=(200,'K'), Tmax=(5000,'K'), comment=\"\"\"Thermo library: CurranPentane\"\"\"), molecule=[Molecule(smiles=\"[CH2]CCC\")], transport_data=TransportData(shapeIndex=2, epsilon=(2968.28,'J/mol'), sigma=(5.176,'angstrom'), dipoleMoment=(0,'De'), polarizability=(0,'angstrom^3'), rotrelaxcollnum=1.0, comment=\"\"\"GRI-Mech\"\"\"), molecular_weight=(57.1143,'amu'))), (Species(index=15, label=\"OH\", thermo=NASA(polynomials=[NASAPolynomial(coeffs=[3.4858,0.00133391,-4.70022e-06,5.64351e-09,-2.06306e-12,3411.96,1.99786], Tmin=(100,'K'), Tmax=(1005.26,'K')), NASAPolynomial(coeffs=[2.88223,0.00103872,-2.35672e-07,1.40278e-11,6.34181e-16,3669.57,5.59065], Tmin=(1005.26,'K'), Tmax=(5000,'K'))], Tmin=(100,'K'), Tmax=(5000,'K'), comment=\"\"\"Thermo library: BurkeH2O2\"\"\"), molecule=[Molecule(smiles=\"[OH]\")], transport_data=TransportData(shapeIndex=1, epsilon=(665.158,'J/mol'), sigma=(2.75,'angstrom'), dipoleMoment=(0,'De'), polarizability=(0,'angstrom^3'), rotrelaxcollnum=0.0, comment=\"\"\"GRI-Mech\"\"\"), molecular_weight=(17.0074,'amu')), Species(index=8, label=\"H2O\", thermo=NASA(polynomials=[NASAPolynomial(coeffs=[3.99882,-0.000554832,2.76774e-06,-1.55665e-09,3.02331e-13,-30274.6,-0.0308945], Tmin=(100,'K'), Tmax=(1281.44,'K')), NASAPolynomial(coeffs=[3.1956,0.0019524,-1.67118e-07,-2.9794e-11,4.4514e-15,-30068.7,4.04334], Tmin=(1281.44,'K'), Tmax=(5000,'K'))], Tmin=(100,'K'), Tmax=(5000,'K'), comment=\"\"\"Thermo library: BurkeH2O2\"\"\"), molecule=[Molecule(smiles=\"O\")], transport_data=TransportData(shapeIndex=2, epsilon=(6727.26,'J/mol'), sigma=(2.641,'angstrom'), dipoleMoment=(0,'De'), polarizability=(1.76,'angstrom^3'), rotrelaxcollnum=4.0, comment=\"\"\"PrimaryTransportLibrary\"\"\"), molecular_weight=(18.0153,'amu')))])"
      ]
     },
     "metadata": {},
     "output_type": "display_data"
    },
    {
     "name": "stdout",
     "output_type": "stream",
     "text": [
      "0.5\n"
     ]
    },
    {
     "data": {
      "image/png": "[encoded data removed]",
      "text/plain": [
       "Species(index=186, label=\"S\", thermo=NASA(polynomials=[NASAPolynomial(coeffs=[2.68574,0.0526274,-3.56095e-05,1.229e-08,-1.68623e-12,-12722.9,16.2317], Tmin=(200,'K'), Tmax=(1408,'K')), NASAPolynomial(coeffs=[17.1095,0.0190237,-6.29508e-06,9.55826e-10,-5.46024e-14,-17667.2,-61.14], Tmin=(1408,'K'), Tmax=(5000,'K'))], Tmin=(200,'K'), Tmax=(5000,'K'), comment=\"\"\"Thermo library: CurranPentane\"\"\"), molecule=[Molecule(smiles=\"CCC(C)O[O]\")], transport_data=TransportData(shapeIndex=2, epsilon=(3658.62,'J/mol'), sigma=(6.371,'angstrom'), dipoleMoment=(0,'De'), polarizability=(0,'angstrom^3'), rotrelaxcollnum=0.0, comment=\"\"\"Epsilon & sigma estimated with Tc=571.47 K, Pc=32.1 bar (from Joback method)\"\"\"), molecular_weight=(89.1131,'amu'))"
      ]
     },
     "metadata": {},
     "output_type": "display_data"
    },
    {
     "name": "stdout",
     "output_type": "stream",
     "text": [
      "1.5\n"
     ]
    },
    {
     "data": {
      "image/png": "[encoded data removed]",
      "text/plain": [
       "LibraryReaction(index=269, reactants=[Species(index=15, label=\"OH\", thermo=NASA(polynomials=[NASAPolynomial(coeffs=[3.4858,0.00133391,-4.70022e-06,5.64351e-09,-2.06306e-12,3411.96,1.99786], Tmin=(100,'K'), Tmax=(1005.26,'K')), NASAPolynomial(coeffs=[2.88223,0.00103872,-2.35672e-07,1.40278e-11,6.34181e-16,3669.57,5.59065], Tmin=(1005.26,'K'), Tmax=(5000,'K'))], Tmin=(100,'K'), Tmax=(5000,'K'), comment=\"\"\"Thermo library: BurkeH2O2\"\"\"), molecule=[Molecule(smiles=\"[OH]\")], transport_data=TransportData(shapeIndex=1, epsilon=(665.158,'J/mol'), sigma=(2.75,'angstrom'), dipoleMoment=(0,'De'), polarizability=(0,'angstrom^3'), rotrelaxcollnum=0.0, comment=\"\"\"GRI-Mech\"\"\"), molecular_weight=(17.0074,'amu')), Species(index=1, label=\"butane\", thermo=NASA(polynomials=[NASAPolynomial(coeffs=[-0.402516,0.0479826,-2.65876e-05,7.07078e-09,-6.98493e-13,-16879.5,26.3199], Tmin=(200,'K'), Tmax=(1389,'K')), NASAPolynomial(coeffs=[12.5232,0.0218667,-7.50126e-06,1.16671e-09,-6.77697e-14,-21847.6,-44.6643], Tmin=(1389,'K'), Tmax=(5000,'K'))], Tmin=(200,'K'), Tmax=(5000,'K'), comment=\"\"\"Thermo library: CurranPentane\"\"\"), molecule=[Molecule(smiles=\"CCCC\")], transport_data=TransportData(shapeIndex=2, epsilon=(2896.89,'J/mol'), sigma=(5.415,'angstrom'), dipoleMoment=(0,'De'), polarizability=(0,'angstrom^3'), rotrelaxcollnum=0.0, comment=\"\"\"Epsilon & sigma estimated with Tc=452.49 K, Pc=41.41 bar (from Joback method)\"\"\"), molecular_weight=(58.1223,'amu'))], products=[Species(index=8, label=\"H2O\", thermo=NASA(polynomials=[NASAPolynomial(coeffs=[3.99882,-0.000554832,2.76774e-06,-1.55665e-09,3.02331e-13,-30274.6,-0.0308945], Tmin=(100,'K'), Tmax=(1281.44,'K')), NASAPolynomial(coeffs=[3.1956,0.0019524,-1.67118e-07,-2.9794e-11,4.4514e-15,-30068.7,4.04334], Tmin=(1281.44,'K'), Tmax=(5000,'K'))], Tmin=(100,'K'), Tmax=(5000,'K'), comment=\"\"\"Thermo library: BurkeH2O2\"\"\"), molecule=[Molecule(smiles=\"O\")], transport_data=TransportData(shapeIndex=2, epsilon=(6727.26,'J/mol'), sigma=(2.641,'angstrom'), dipoleMoment=(0,'De'), polarizability=(1.76,'angstrom^3'), rotrelaxcollnum=4.0, comment=\"\"\"PrimaryTransportLibrary\"\"\"), molecular_weight=(18.0153,'amu')), Species(index=183, label=\"SC4H9\", thermo=NASA(polynomials=[NASAPolynomial(coeffs=[0.623604,0.039929,-1.89597e-05,3.45938e-09,-2.39236e-14,6176.89,25.2738], Tmin=(200,'K'), Tmax=(1388,'K')), NASAPolynomial(coeffs=[11.137,0.0204039,-6.97571e-06,1.08245e-09,-6.27715e-14,1955.91,-33.0856], Tmin=(1388,'K'), Tmax=(5000,'K'))], Tmin=(200,'K'), Tmax=(5000,'K'), comment=\"\"\"Thermo library: CurranPentane\"\"\"), molecule=[Molecule(smiles=\"C[CH]CC\")], transport_data=TransportData(shapeIndex=2, epsilon=(2968.28,'J/mol'), sigma=(5.176,'angstrom'), dipoleMoment=(0,'De'), polarizability=(0,'angstrom^3'), rotrelaxcollnum=1.0, comment=\"\"\"GRI-Mech\"\"\"), molecular_weight=(57.1143,'amu'))], kinetics=Arrhenius(A=(9.34e+07,'cm^3/(mol*s)'), n=1.61, Ea=(-0.035,'kcal/mol'), T0=(1,'K')), pairs=[(Species(index=1, label=\"butane\", thermo=NASA(polynomials=[NASAPolynomial(coeffs=[-0.402516,0.0479826,-2.65876e-05,7.07078e-09,-6.98493e-13,-16879.5,26.3199], Tmin=(200,'K'), Tmax=(1389,'K')), NASAPolynomial(coeffs=[12.5232,0.0218667,-7.50126e-06,1.16671e-09,-6.77697e-14,-21847.6,-44.6643], Tmin=(1389,'K'), Tmax=(5000,'K'))], Tmin=(200,'K'), Tmax=(5000,'K'), comment=\"\"\"Thermo library: CurranPentane\"\"\"), molecule=[Molecule(smiles=\"CCCC\")], transport_data=TransportData(shapeIndex=2, epsilon=(2896.89,'J/mol'), sigma=(5.415,'angstrom'), dipoleMoment=(0,'De'), polarizability=(0,'angstrom^3'), rotrelaxcollnum=0.0, comment=\"\"\"Epsilon & sigma estimated with Tc=452.49 K, Pc=41.41 bar (from Joback method)\"\"\"), molecular_weight=(58.1223,'amu')), Species(index=183, label=\"SC4H9\", thermo=NASA(polynomials=[NASAPolynomial(coeffs=[0.623604,0.039929,-1.89597e-05,3.45938e-09,-2.39236e-14,6176.89,25.2738], Tmin=(200,'K'), Tmax=(1388,'K')), NASAPolynomial(coeffs=[11.137,0.0204039,-6.97571e-06,1.08245e-09,-6.27715e-14,1955.91,-33.0856], Tmin=(1388,'K'), Tmax=(5000,'K'))], Tmin=(200,'K'), Tmax=(5000,'K'), comment=\"\"\"Thermo library: CurranPentane\"\"\"), molecule=[Molecule(smiles=\"C[CH]CC\")], transport_data=TransportData(shapeIndex=2, epsilon=(2968.28,'J/mol'), sigma=(5.176,'angstrom'), dipoleMoment=(0,'De'), polarizability=(0,'angstrom^3'), rotrelaxcollnum=1.0, comment=\"\"\"GRI-Mech\"\"\"), molecular_weight=(57.1143,'amu'))), (Species(index=15, label=\"OH\", thermo=NASA(polynomials=[NASAPolynomial(coeffs=[3.4858,0.00133391,-4.70022e-06,5.64351e-09,-2.06306e-12,3411.96,1.99786], Tmin=(100,'K'), Tmax=(1005.26,'K')), NASAPolynomial(coeffs=[2.88223,0.00103872,-2.35672e-07,1.40278e-11,6.34181e-16,3669.57,5.59065], Tmin=(1005.26,'K'), Tmax=(5000,'K'))], Tmin=(100,'K'), Tmax=(5000,'K'), comment=\"\"\"Thermo library: BurkeH2O2\"\"\"), molecule=[Molecule(smiles=\"[OH]\")], transport_data=TransportData(shapeIndex=1, epsilon=(665.158,'J/mol'), sigma=(2.75,'angstrom'), dipoleMoment=(0,'De'), polarizability=(0,'angstrom^3'), rotrelaxcollnum=0.0, comment=\"\"\"GRI-Mech\"\"\"), molecular_weight=(17.0074,'amu')), Species(index=8, label=\"H2O\", thermo=NASA(polynomials=[NASAPolynomial(coeffs=[3.99882,-0.000554832,2.76774e-06,-1.55665e-09,3.02331e-13,-30274.6,-0.0308945], Tmin=(100,'K'), Tmax=(1281.44,'K')), NASAPolynomial(coeffs=[3.1956,0.0019524,-1.67118e-07,-2.9794e-11,4.4514e-15,-30068.7,4.04334], Tmin=(1281.44,'K'), Tmax=(5000,'K'))], Tmin=(100,'K'), Tmax=(5000,'K'), comment=\"\"\"Thermo library: BurkeH2O2\"\"\"), molecule=[Molecule(smiles=\"O\")], transport_data=TransportData(shapeIndex=2, epsilon=(6727.26,'J/mol'), sigma=(2.641,'angstrom'), dipoleMoment=(0,'De'), polarizability=(1.76,'angstrom^3'), rotrelaxcollnum=4.0, comment=\"\"\"PrimaryTransportLibrary\"\"\"), molecular_weight=(18.0153,'amu')))])"
      ]
     },
     "metadata": {},
     "output_type": "display_data"
    },
    {
     "name": "stdout",
     "output_type": "stream",
     "text": [
      "0.5\n"
     ]
    },
    {
     "data": {
      "image/png": "[encoded data removed]",
      "text/plain": [
       "LibraryReaction(index=312, reactants=[Species(index=16, label=\"HO2\", thermo=NASA(polynomials=[NASAPolynomial(coeffs=[4.02957,-0.00263999,1.52236e-05,-1.71679e-08,6.26772e-12,322.677,4.84424], Tmin=(100,'K'), Tmax=(923.9,'K')), NASAPolynomial(coeffs=[4.1513,0.00191152,-4.11308e-07,6.35039e-11,-4.86454e-15,83.4343,3.09359], Tmin=(923.9,'K'), Tmax=(5000,'K'))], Tmin=(100,'K'), Tmax=(5000,'K'), comment=\"\"\"Thermo library: BurkeH2O2\"\"\"), molecule=[Molecule(smiles=\"[O]O\")], transport_data=TransportData(shapeIndex=2, epsilon=(892.974,'J/mol'), sigma=(3.458,'angstrom'), dipoleMoment=(0,'De'), polarizability=(0,'angstrom^3'), rotrelaxcollnum=1.0, comment=\"\"\"GRI-Mech\"\"\"), molecular_weight=(33.0068,'amu')), Species(index=1, label=\"butane\", thermo=NASA(polynomials=[NASAPolynomial(coeffs=[-0.402516,0.0479826,-2.65876e-05,7.07078e-09,-6.98493e-13,-16879.5,26.3199], Tmin=(200,'K'), Tmax=(1389,'K')), NASAPolynomial(coeffs=[12.5232,0.0218667,-7.50126e-06,1.16671e-09,-6.77697e-14,-21847.6,-44.6643], Tmin=(1389,'K'), Tmax=(5000,'K'))], Tmin=(200,'K'), Tmax=(5000,'K'), comment=\"\"\"Thermo library: CurranPentane\"\"\"), molecule=[Molecule(smiles=\"CCCC\")], transport_data=TransportData(shapeIndex=2, epsilon=(2896.89,'J/mol'), sigma=(5.415,'angstrom'), dipoleMoment=(0,'De'), polarizability=(0,'angstrom^3'), rotrelaxcollnum=0.0, comment=\"\"\"Epsilon & sigma estimated with Tc=452.49 K, Pc=41.41 bar (from Joback method)\"\"\"), molecular_weight=(58.1223,'amu'))], products=[Species(index=17, label=\"H2O2\", thermo=NASA(polynomials=[NASAPolynomial(coeffs=[3.72867,0.00413377,5.67497e-06,-1.01866e-08,4.28612e-12,-17696.4,5.35912], Tmin=(100,'K'), Tmax=(923.27,'K')), NASAPolynomial(coeffs=[4.95152,0.0035423,-1.01041e-06,1.61942e-10,-1.10209e-14,-18122.8,-1.52912], Tmin=(923.27,'K'), Tmax=(5000,'K'))], Tmin=(100,'K'), Tmax=(5000,'K'), comment=\"\"\"Thermo library: BurkeH2O2\"\"\"), molecule=[Molecule(smiles=\"OO\")], transport_data=TransportData(shapeIndex=2, epsilon=(2405.38,'J/mol'), sigma=(4.196,'angstrom'), dipoleMoment=(0,'De'), polarizability=(0,'angstrom^3'), rotrelaxcollnum=0.0, comment=\"\"\"PrimaryTransportLibrary\"\"\"), molecular_weight=(34.0147,'amu')), Species(index=182, label=\"PC4H9\", thermo=NASA(polynomials=[NASAPolynomial(coeffs=[0.350939,0.0447617,-2.76331e-05,9.10558e-09,-1.28318e-12,7745.08,25.3924], Tmin=(200,'K'), Tmax=(1393,'K')), NASAPolynomial(coeffs=[11.8227,0.0197585,-6.73845e-06,1.04383e-09,-6.04576e-14,3503.34,-36.9846], Tmin=(1393,'K'), Tmax=(5000,'K'))], Tmin=(200,'K'), Tmax=(5000,'K'), comment=\"\"\"Thermo library: CurranPentane\"\"\"), molecule=[Molecule(smiles=\"[CH2]CCC\")], transport_data=TransportData(shapeIndex=2, epsilon=(2968.28,'J/mol'), sigma=(5.176,'angstrom'), dipoleMoment=(0,'De'), polarizability=(0,'angstrom^3'), rotrelaxcollnum=1.0, comment=\"\"\"GRI-Mech\"\"\"), molecular_weight=(57.1143,'amu'))], kinetics=Arrhenius(A=(40.8,'cm^3/(mol*s)'), n=3.59, Ea=(17.16,'kcal/mol'), T0=(1,'K')), pairs=[(Species(index=1, label=\"butane\", thermo=NASA(polynomials=[NASAPolynomial(coeffs=[-0.402516,0.0479826,-2.65876e-05,7.07078e-09,-6.98493e-13,-16879.5,26.3199], Tmin=(200,'K'), Tmax=(1389,'K')), NASAPolynomial(coeffs=[12.5232,0.0218667,-7.50126e-06,1.16671e-09,-6.77697e-14,-21847.6,-44.6643], Tmin=(1389,'K'), Tmax=(5000,'K'))], Tmin=(200,'K'), Tmax=(5000,'K'), comment=\"\"\"Thermo library: CurranPentane\"\"\"), molecule=[Molecule(smiles=\"CCCC\")], transport_data=TransportData(shapeIndex=2, epsilon=(2896.89,'J/mol'), sigma=(5.415,'angstrom'), dipoleMoment=(0,'De'), polarizability=(0,'angstrom^3'), rotrelaxcollnum=0.0, comment=\"\"\"Epsilon & sigma estimated with Tc=452.49 K, Pc=41.41 bar (from Joback method)\"\"\"), molecular_weight=(58.1223,'amu')), Species(index=182, label=\"PC4H9\", thermo=NASA(polynomials=[NASAPolynomial(coeffs=[0.350939,0.0447617,-2.76331e-05,9.10558e-09,-1.28318e-12,7745.08,25.3924], Tmin=(200,'K'), Tmax=(1393,'K')), NASAPolynomial(coeffs=[11.8227,0.0197585,-6.73845e-06,1.04383e-09,-6.04576e-14,3503.34,-36.9846], Tmin=(1393,'K'), Tmax=(5000,'K'))], Tmin=(200,'K'), Tmax=(5000,'K'), comment=\"\"\"Thermo library: CurranPentane\"\"\"), molecule=[Molecule(smiles=\"[CH2]CCC\")], transport_data=TransportData(shapeIndex=2, epsilon=(2968.28,'J/mol'), sigma=(5.176,'angstrom'), dipoleMoment=(0,'De'), polarizability=(0,'angstrom^3'), rotrelaxcollnum=1.0, comment=\"\"\"GRI-Mech\"\"\"), molecular_weight=(57.1143,'amu'))), (Species(index=16, label=\"HO2\", thermo=NASA(polynomials=[NASAPolynomial(coeffs=[4.02957,-0.00263999,1.52236e-05,-1.71679e-08,6.26772e-12,322.677,4.84424], Tmin=(100,'K'), Tmax=(923.9,'K')), NASAPolynomial(coeffs=[4.1513,0.00191152,-4.11308e-07,6.35039e-11,-4.86454e-15,83.4343,3.09359], Tmin=(923.9,'K'), Tmax=(5000,'K'))], Tmin=(100,'K'), Tmax=(5000,'K'), comment=\"\"\"Thermo library: BurkeH2O2\"\"\"), molecule=[Molecule(smiles=\"[O]O\")], transport_data=TransportData(shapeIndex=2, epsilon=(892.974,'J/mol'), sigma=(3.458,'angstrom'), dipoleMoment=(0,'De'), polarizability=(0,'angstrom^3'), rotrelaxcollnum=1.0, comment=\"\"\"GRI-Mech\"\"\"), molecular_weight=(33.0068,'amu')), Species(index=17, label=\"H2O2\", thermo=NASA(polynomials=[NASAPolynomial(coeffs=[3.72867,0.00413377,5.67497e-06,-1.01866e-08,4.28612e-12,-17696.4,5.35912], Tmin=(100,'K'), Tmax=(923.27,'K')), NASAPolynomial(coeffs=[4.95152,0.0035423,-1.01041e-06,1.61942e-10,-1.10209e-14,-18122.8,-1.52912], Tmin=(923.27,'K'), Tmax=(5000,'K'))], Tmin=(100,'K'), Tmax=(5000,'K'), comment=\"\"\"Thermo library: BurkeH2O2\"\"\"), molecule=[Molecule(smiles=\"OO\")], transport_data=TransportData(shapeIndex=2, epsilon=(2405.38,'J/mol'), sigma=(4.196,'angstrom'), dipoleMoment=(0,'De'), polarizability=(0,'angstrom^3'), rotrelaxcollnum=0.0, comment=\"\"\"PrimaryTransportLibrary\"\"\"), molecular_weight=(34.0147,'amu')))])"
      ]
     },
     "metadata": {},
     "output_type": "display_data"
    },
    {
     "name": "stdout",
     "output_type": "stream",
     "text": [
      "0.5\n"
     ]
    },
    {
     "data": {
      "image/png": "[encoded data removed]",
      "text/plain": [
       "LibraryReaction(index=301, reactants=[Species(index=186, label=\"S\", thermo=NASA(polynomials=[NASAPolynomial(coeffs=[2.68574,0.0526274,-3.56095e-05,1.229e-08,-1.68623e-12,-12722.9,16.2317], Tmin=(200,'K'), Tmax=(1408,'K')), NASAPolynomial(coeffs=[17.1095,0.0190237,-6.29508e-06,9.55826e-10,-5.46024e-14,-17667.2,-61.14], Tmin=(1408,'K'), Tmax=(5000,'K'))], Tmin=(200,'K'), Tmax=(5000,'K'), comment=\"\"\"Thermo library: CurranPentane\"\"\"), molecule=[Molecule(smiles=\"CCC(C)O[O]\")], transport_data=TransportData(shapeIndex=2, epsilon=(3658.62,'J/mol'), sigma=(6.371,'angstrom'), dipoleMoment=(0,'De'), polarizability=(0,'angstrom^3'), rotrelaxcollnum=0.0, comment=\"\"\"Epsilon & sigma estimated with Tc=571.47 K, Pc=32.1 bar (from Joback method)\"\"\"), molecular_weight=(89.1131,'amu'))], products=[Species(index=16, label=\"HO2\", thermo=NASA(polynomials=[NASAPolynomial(coeffs=[4.02957,-0.00263999,1.52236e-05,-1.71679e-08,6.26772e-12,322.677,4.84424], Tmin=(100,'K'), Tmax=(923.9,'K')), NASAPolynomial(coeffs=[4.1513,0.00191152,-4.11308e-07,6.35039e-11,-4.86454e-15,83.4343,3.09359], Tmin=(923.9,'K'), Tmax=(5000,'K'))], Tmin=(100,'K'), Tmax=(5000,'K'), comment=\"\"\"Thermo library: BurkeH2O2\"\"\"), molecule=[Molecule(smiles=\"[O]O\")], transport_data=TransportData(shapeIndex=2, epsilon=(892.974,'J/mol'), sigma=(3.458,'angstrom'), dipoleMoment=(0,'De'), polarizability=(0,'angstrom^3'), rotrelaxcollnum=1.0, comment=\"\"\"GRI-Mech\"\"\"), molecular_weight=(33.0068,'amu')), Species(index=189, label=\"C4H8\", thermo=NASA(polynomials=[NASAPolynomial(coeffs=[5.57279,0.00376541,6.52227e-05,-8.3091e-08,3.20311e-11,-3601.28,0.537797], Tmin=(200,'K'), Tmax=(1000,'K')), NASAPolynomial(coeffs=[7.89115,0.0224971,-8.12144e-06,1.31274e-09,-7.84452e-14,-5516.43,-17.6436], Tmin=(1000,'K'), Tmax=(6000,'K'))], Tmin=(200,'K'), Tmax=(6000,'K'), comment=\"\"\"Thermo library: CurranPentane\"\"\"), molecule=[Molecule(smiles=\"CC=CC\")], transport_data=TransportData(shapeIndex=2, epsilon=(2985.34,'J/mol'), sigma=(5.289,'angstrom'), dipoleMoment=(0,'De'), polarizability=(0,'angstrom^3'), rotrelaxcollnum=0.0, comment=\"\"\"Epsilon & sigma estimated with Tc=466.30 K, Pc=45.78 bar (from Joback method)\"\"\"), molecular_weight=(56.1063,'amu'))], kinetics=Arrhenius(A=(2.54e+10,'s^-1'), n=0.804, Ea=(30.099,'kcal/mol'), T0=(1,'K')), pairs=[(Species(index=186, label=\"S\", thermo=NASA(polynomials=[NASAPolynomial(coeffs=[2.68574,0.0526274,-3.56095e-05,1.229e-08,-1.68623e-12,-12722.9,16.2317], Tmin=(200,'K'), Tmax=(1408,'K')), NASAPolynomial(coeffs=[17.1095,0.0190237,-6.29508e-06,9.55826e-10,-5.46024e-14,-17667.2,-61.14], Tmin=(1408,'K'), Tmax=(5000,'K'))], Tmin=(200,'K'), Tmax=(5000,'K'), comment=\"\"\"Thermo library: CurranPentane\"\"\"), molecule=[Molecule(smiles=\"CCC(C)O[O]\")], transport_data=TransportData(shapeIndex=2, epsilon=(3658.62,'J/mol'), sigma=(6.371,'angstrom'), dipoleMoment=(0,'De'), polarizability=(0,'angstrom^3'), rotrelaxcollnum=0.0, comment=\"\"\"Epsilon & sigma estimated with Tc=571.47 K, Pc=32.1 bar (from Joback method)\"\"\"), molecular_weight=(89.1131,'amu')), Species(index=16, label=\"HO2\", thermo=NASA(polynomials=[NASAPolynomial(coeffs=[4.02957,-0.00263999,1.52236e-05,-1.71679e-08,6.26772e-12,322.677,4.84424], Tmin=(100,'K'), Tmax=(923.9,'K')), NASAPolynomial(coeffs=[4.1513,0.00191152,-4.11308e-07,6.35039e-11,-4.86454e-15,83.4343,3.09359], Tmin=(923.9,'K'), Tmax=(5000,'K'))], Tmin=(100,'K'), Tmax=(5000,'K'), comment=\"\"\"Thermo library: BurkeH2O2\"\"\"), molecule=[Molecule(smiles=\"[O]O\")], transport_data=TransportData(shapeIndex=2, epsilon=(892.974,'J/mol'), sigma=(3.458,'angstrom'), dipoleMoment=(0,'De'), polarizability=(0,'angstrom^3'), rotrelaxcollnum=1.0, comment=\"\"\"GRI-Mech\"\"\"), molecular_weight=(33.0068,'amu'))), (Species(index=186, label=\"S\", thermo=NASA(polynomials=[NASAPolynomial(coeffs=[2.68574,0.0526274,-3.56095e-05,1.229e-08,-1.68623e-12,-12722.9,16.2317], Tmin=(200,'K'), Tmax=(1408,'K')), NASAPolynomial(coeffs=[17.1095,0.0190237,-6.29508e-06,9.55826e-10,-5.46024e-14,-17667.2,-61.14], Tmin=(1408,'K'), Tmax=(5000,'K'))], Tmin=(200,'K'), Tmax=(5000,'K'), comment=\"\"\"Thermo library: CurranPentane\"\"\"), molecule=[Molecule(smiles=\"CCC(C)O[O]\")], transport_data=TransportData(shapeIndex=2, epsilon=(3658.62,'J/mol'), sigma=(6.371,'angstrom'), dipoleMoment=(0,'De'), polarizability=(0,'angstrom^3'), rotrelaxcollnum=0.0, comment=\"\"\"Epsilon & sigma estimated with Tc=571.47 K, Pc=32.1 bar (from Joback method)\"\"\"), molecular_weight=(89.1131,'amu')), Species(index=189, label=\"C4H8\", thermo=NASA(polynomials=[NASAPolynomial(coeffs=[5.57279,0.00376541,6.52227e-05,-8.3091e-08,3.20311e-11,-3601.28,0.537797], Tmin=(200,'K'), Tmax=(1000,'K')), NASAPolynomial(coeffs=[7.89115,0.0224971,-8.12144e-06,1.31274e-09,-7.84452e-14,-5516.43,-17.6436], Tmin=(1000,'K'), Tmax=(6000,'K'))], Tmin=(200,'K'), Tmax=(6000,'K'), comment=\"\"\"Thermo library: CurranPentane\"\"\"), molecule=[Molecule(smiles=\"CC=CC\")], transport_data=TransportData(shapeIndex=2, epsilon=(2985.34,'J/mol'), sigma=(5.289,'angstrom'), dipoleMoment=(0,'De'), polarizability=(0,'angstrom^3'), rotrelaxcollnum=0.0, comment=\"\"\"Epsilon & sigma estimated with Tc=466.30 K, Pc=45.78 bar (from Joback method)\"\"\"), molecular_weight=(56.1063,'amu')))])"
      ]
     },
     "metadata": {},
     "output_type": "display_data"
    },
    {
     "name": "stdout",
     "output_type": "stream",
     "text": [
      "0.5\n"
     ]
    }
   ],
   "source": [
    "for i in range(0, 11):\n",
    "    ct_index = error_order[i]\n",
    "    \n",
    "    if ct_index < N:\n",
    "        display(species_list[ct_index])\n",
    "        print(sp_uncertainty[ct_index])\n",
    "    else:\n",
    "        display(reaction_list[ct2rmg_rxn[ct_index - N]])\n",
    "        print(rxn_uncertainty[ct_index - N])"
   ]
  },
  {
   "cell_type": "code",
   "execution_count": 31,
   "id": "8bba93b3",
   "metadata": {},
   "outputs": [
    {
     "data": {
      "image/png": "[encoded data removed]",
      "text/plain": [
       "LibraryReaction(index=15, reactants=[Species(index=2, label=\"O2\", thermo=NASA(polynomials=[NASAPolynomial(coeffs=[3.53764,-0.00122828,5.36759e-06,-4.93128e-09,1.45955e-12,-1037.99,4.6718], Tmin=(100,'K'), Tmax=(1087.71,'K')), NASAPolynomial(coeffs=[3.16427,0.00169454,-8.00335e-07,1.5903e-10,-1.14891e-14,-1048.45,6.08303], Tmin=(1087.71,'K'), Tmax=(5000,'K'))], Tmin=(100,'K'), Tmax=(5000,'K'), comment=\"\"\"Thermo library: BurkeH2O2\"\"\"), molecule=[Molecule(smiles=\"[O][O]\")], transport_data=TransportData(shapeIndex=1, epsilon=(887.154,'J/mol'), sigma=(3.467,'angstrom'), dipoleMoment=(0,'De'), polarizability=(0,'angstrom^3'), rotrelaxcollnum=0.0, comment=\"\"\"PrimaryTransportLibrary\"\"\"), molecular_weight=(31.9988,'amu')), Species(index=14, label=\"H\", thermo=NASA(polynomials=[NASAPolynomial(coeffs=[2.5,-1.87769e-11,2.35957e-14,-9.62804e-18,1.20728e-21,25472.7,-0.459566], Tmin=(100,'K'), Tmax=(4762.74,'K')), NASAPolynomial(coeffs=[2.87627,-0.00031258,9.73655e-08,-1.34776e-11,6.99516e-16,25110.4,-2.86621], Tmin=(4762.74,'K'), Tmax=(5000,'K'))], Tmin=(100,'K'), Tmax=(5000,'K'), comment=\"\"\"Thermo library: BurkeH2O2\"\"\"), molecule=[Molecule(smiles=\"[H]\")], transport_data=TransportData(shapeIndex=0, epsilon=(1205.6,'J/mol'), sigma=(2.05,'angstrom'), dipoleMoment=(0,'De'), polarizability=(0,'angstrom^3'), rotrelaxcollnum=0.0, comment=\"\"\"GRI-Mech\"\"\"), molecular_weight=(1.00797,'amu'))], products=[Species(index=16, label=\"HO2\", thermo=NASA(polynomials=[NASAPolynomial(coeffs=[4.02957,-0.00263999,1.52236e-05,-1.71679e-08,6.26772e-12,322.677,4.84424], Tmin=(100,'K'), Tmax=(923.9,'K')), NASAPolynomial(coeffs=[4.1513,0.00191152,-4.11308e-07,6.35039e-11,-4.86454e-15,83.4343,3.09359], Tmin=(923.9,'K'), Tmax=(5000,'K'))], Tmin=(100,'K'), Tmax=(5000,'K'), comment=\"\"\"Thermo library: BurkeH2O2\"\"\"), molecule=[Molecule(smiles=\"[O]O\")], transport_data=TransportData(shapeIndex=2, epsilon=(892.974,'J/mol'), sigma=(3.458,'angstrom'), dipoleMoment=(0,'De'), polarizability=(0,'angstrom^3'), rotrelaxcollnum=1.0, comment=\"\"\"GRI-Mech\"\"\"), molecular_weight=(33.0068,'amu'))], kinetics=Troe(arrheniusHigh=Arrhenius(A=(4.651e+12,'cm^3/(mol*s)'), n=0.44, Ea=(0,'kcal/mol'), T0=(1,'K')), arrheniusLow=Arrhenius(A=(6.366e+20,'cm^6/(mol^2*s)'), n=-1.72, Ea=(0.525,'kcal/mol'), T0=(1,'K')), alpha=0.5, T3=(1e-30,'K'), T1=(1e+30,'K'), efficiencies={Molecule(smiles=\"[O][O]\"): 0.78, Molecule(smiles=\"[H][H]\"): 2.0, Molecule(smiles=\"[He]\"): 0.8, Molecule(smiles=\"[C-]#[O+]\"): 1.9, Molecule(smiles=\"O\"): 14.0, Molecule(smiles=\"O=C=O\"): 3.8, Molecule(smiles=\"[Ar]\"): 0.67}), pairs=[(Species(index=2, label=\"O2\", thermo=NASA(polynomials=[NASAPolynomial(coeffs=[3.53764,-0.00122828,5.36759e-06,-4.93128e-09,1.45955e-12,-1037.99,4.6718], Tmin=(100,'K'), Tmax=(1087.71,'K')), NASAPolynomial(coeffs=[3.16427,0.00169454,-8.00335e-07,1.5903e-10,-1.14891e-14,-1048.45,6.08303], Tmin=(1087.71,'K'), Tmax=(5000,'K'))], Tmin=(100,'K'), Tmax=(5000,'K'), comment=\"\"\"Thermo library: BurkeH2O2\"\"\"), molecule=[Molecule(smiles=\"[O][O]\")], transport_data=TransportData(shapeIndex=1, epsilon=(887.154,'J/mol'), sigma=(3.467,'angstrom'), dipoleMoment=(0,'De'), polarizability=(0,'angstrom^3'), rotrelaxcollnum=0.0, comment=\"\"\"PrimaryTransportLibrary\"\"\"), molecular_weight=(31.9988,'amu')), Species(index=16, label=\"HO2\", thermo=NASA(polynomials=[NASAPolynomial(coeffs=[4.02957,-0.00263999,1.52236e-05,-1.71679e-08,6.26772e-12,322.677,4.84424], Tmin=(100,'K'), Tmax=(923.9,'K')), NASAPolynomial(coeffs=[4.1513,0.00191152,-4.11308e-07,6.35039e-11,-4.86454e-15,83.4343,3.09359], Tmin=(923.9,'K'), Tmax=(5000,'K'))], Tmin=(100,'K'), Tmax=(5000,'K'), comment=\"\"\"Thermo library: BurkeH2O2\"\"\"), molecule=[Molecule(smiles=\"[O]O\")], transport_data=TransportData(shapeIndex=2, epsilon=(892.974,'J/mol'), sigma=(3.458,'angstrom'), dipoleMoment=(0,'De'), polarizability=(0,'angstrom^3'), rotrelaxcollnum=1.0, comment=\"\"\"GRI-Mech\"\"\"), molecular_weight=(33.0068,'amu'))), (Species(index=14, label=\"H\", thermo=NASA(polynomials=[NASAPolynomial(coeffs=[2.5,-1.87769e-11,2.35957e-14,-9.62804e-18,1.20728e-21,25472.7,-0.459566], Tmin=(100,'K'), Tmax=(4762.74,'K')), NASAPolynomial(coeffs=[2.87627,-0.00031258,9.73655e-08,-1.34776e-11,6.99516e-16,25110.4,-2.86621], Tmin=(4762.74,'K'), Tmax=(5000,'K'))], Tmin=(100,'K'), Tmax=(5000,'K'), comment=\"\"\"Thermo library: BurkeH2O2\"\"\"), molecule=[Molecule(smiles=\"[H]\")], transport_data=TransportData(shapeIndex=0, epsilon=(1205.6,'J/mol'), sigma=(2.05,'angstrom'), dipoleMoment=(0,'De'), polarizability=(0,'angstrom^3'), rotrelaxcollnum=0.0, comment=\"\"\"GRI-Mech\"\"\"), molecular_weight=(1.00797,'amu')), Species(index=16, label=\"HO2\", thermo=NASA(polynomials=[NASAPolynomial(coeffs=[4.02957,-0.00263999,1.52236e-05,-1.71679e-08,6.26772e-12,322.677,4.84424], Tmin=(100,'K'), Tmax=(923.9,'K')), NASAPolynomial(coeffs=[4.1513,0.00191152,-4.11308e-07,6.35039e-11,-4.86454e-15,83.4343,3.09359], Tmin=(923.9,'K'), Tmax=(5000,'K'))], Tmin=(100,'K'), Tmax=(5000,'K'), comment=\"\"\"Thermo library: BurkeH2O2\"\"\"), molecule=[Molecule(smiles=\"[O]O\")], transport_data=TransportData(shapeIndex=2, epsilon=(892.974,'J/mol'), sigma=(3.458,'angstrom'), dipoleMoment=(0,'De'), polarizability=(0,'angstrom^3'), rotrelaxcollnum=1.0, comment=\"\"\"GRI-Mech\"\"\"), molecular_weight=(33.0068,'amu')))])"
      ]
     },
     "execution_count": 31,
     "metadata": {},
     "output_type": "execute_result"
    }
   ],
   "source": [
    "reaction_list[ct2rmg_rxn[130]]"
   ]
  },
  {
   "cell_type": "code",
   "execution_count": 32,
   "id": "ab2a39ff",
   "metadata": {},
   "outputs": [
    {
     "data": {
      "text/plain": [
       "Troe(arrheniusHigh=Arrhenius(A=(4.651e+12,'cm^3/(mol*s)'), n=0.44, Ea=(0,'kcal/mol'), T0=(1,'K')), arrheniusLow=Arrhenius(A=(6.366e+20,'cm^6/(mol^2*s)'), n=-1.72, Ea=(0.525,'kcal/mol'), T0=(1,'K')), alpha=0.5, T3=(1e-30,'K'), T1=(1e+30,'K'), efficiencies={Molecule(smiles=\"[O][O]\"): 0.78, Molecule(smiles=\"[H][H]\"): 2.0, Molecule(smiles=\"[He]\"): 0.8, Molecule(smiles=\"[C-]#[O+]\"): 1.9, Molecule(smiles=\"O\"): 14.0, Molecule(smiles=\"O=C=O\"): 3.8, Molecule(smiles=\"[Ar]\"): 0.67})"
      ]
     },
     "execution_count": 32,
     "metadata": {},
     "output_type": "execute_result"
    }
   ],
   "source": [
    "reaction_list[ct2rmg_rxn[130]].kinetics"
   ]
  },
  {
   "cell_type": "code",
   "execution_count": 33,
   "id": "d09b9f03",
   "metadata": {},
   "outputs": [
    {
     "data": {
      "image/png": "[encoded data removed]",
      "text/plain": [
       "Species(index=186, label=\"S\", thermo=NASA(polynomials=[NASAPolynomial(coeffs=[2.68574,0.0526274,-3.56095e-05,1.229e-08,-1.68623e-12,-12722.9,16.2317], Tmin=(200,'K'), Tmax=(1408,'K')), NASAPolynomial(coeffs=[17.1095,0.0190237,-6.29508e-06,9.55826e-10,-5.46024e-14,-17667.2,-61.14], Tmin=(1408,'K'), Tmax=(5000,'K'))], Tmin=(200,'K'), Tmax=(5000,'K'), comment=\"\"\"Thermo library: CurranPentane\"\"\"), molecule=[Molecule(smiles=\"CCC(C)O[O]\")], transport_data=TransportData(shapeIndex=2, epsilon=(3658.62,'J/mol'), sigma=(6.371,'angstrom'), dipoleMoment=(0,'De'), polarizability=(0,'angstrom^3'), rotrelaxcollnum=0.0, comment=\"\"\"Epsilon & sigma estimated with Tc=571.47 K, Pc=32.1 bar (from Joback method)\"\"\"), molecular_weight=(89.1131,'amu'))"
      ]
     },
     "execution_count": 33,
     "metadata": {},
     "output_type": "execute_result"
    }
   ],
   "source": [
    "species_list[59]"
   ]
  },
  {
   "cell_type": "code",
   "execution_count": null,
   "id": "0f0c587f",
   "metadata": {},
   "outputs": [],
   "source": []
  },
  {
   "cell_type": "code",
   "execution_count": 34,
   "id": "e6e79db5",
   "metadata": {},
   "outputs": [
    {
     "data": {
      "text/plain": [
       "'CCC(C)O[O]'"
      ]
     },
     "execution_count": 34,
     "metadata": {},
     "output_type": "execute_result"
    }
   ],
   "source": [
    "species_list[59].smiles"
   ]
  },
  {
   "cell_type": "code",
   "execution_count": null,
   "id": "b4ca3550",
   "metadata": {},
   "outputs": [],
   "source": []
  },
  {
   "cell_type": "code",
   "execution_count": 35,
   "id": "948e3156",
   "metadata": {},
   "outputs": [
    {
     "data": {
      "text/plain": [
       "[5, 58, 72, 59]"
      ]
     },
     "execution_count": 35,
     "metadata": {},
     "output_type": "execute_result"
    }
   ],
   "source": [
    "g_params"
   ]
  },
  {
   "cell_type": "code",
   "execution_count": 36,
   "id": "0c53957a",
   "metadata": {},
   "outputs": [
    {
     "data": {
      "text/plain": [
       "[249, 18, 18, 288, 247, 290, 279]"
      ]
     },
     "execution_count": 36,
     "metadata": {},
     "output_type": "execute_result"
    }
   ],
   "source": [
    "k_params"
   ]
  },
  {
   "cell_type": "code",
   "execution_count": 37,
   "id": "b496e2f4",
   "metadata": {},
   "outputs": [
    {
     "data": {
      "text/plain": [
       "249"
      ]
     },
     "execution_count": 37,
     "metadata": {},
     "output_type": "execute_result"
    }
   ],
   "source": [
    "ct2rmg_rxn[270]"
   ]
  },
  {
   "cell_type": "code",
   "execution_count": 38,
   "id": "a718bb7e",
   "metadata": {},
   "outputs": [
    {
     "data": {
      "image/png": "[encoded data removed]",
      "text/plain": [
       "LibraryReaction(index=271, reactants=[Species(index=16, label=\"HO2\", thermo=NASA(polynomials=[NASAPolynomial(coeffs=[4.02957,-0.00263999,1.52236e-05,-1.71679e-08,6.26772e-12,322.677,4.84424], Tmin=(100,'K'), Tmax=(923.9,'K')), NASAPolynomial(coeffs=[4.1513,0.00191152,-4.11308e-07,6.35039e-11,-4.86454e-15,83.4343,3.09359], Tmin=(923.9,'K'), Tmax=(5000,'K'))], Tmin=(100,'K'), Tmax=(5000,'K'), comment=\"\"\"Thermo library: BurkeH2O2\"\"\"), molecule=[Molecule(smiles=\"[O]O\")], transport_data=TransportData(shapeIndex=2, epsilon=(892.974,'J/mol'), sigma=(3.458,'angstrom'), dipoleMoment=(0,'De'), polarizability=(0,'angstrom^3'), rotrelaxcollnum=1.0, comment=\"\"\"GRI-Mech\"\"\"), molecular_weight=(33.0068,'amu')), Species(index=1, label=\"butane\", thermo=NASA(polynomials=[NASAPolynomial(coeffs=[-0.402516,0.0479826,-2.65876e-05,7.07078e-09,-6.98493e-13,-16879.5,26.3199], Tmin=(200,'K'), Tmax=(1389,'K')), NASAPolynomial(coeffs=[12.5232,0.0218667,-7.50126e-06,1.16671e-09,-6.77697e-14,-21847.6,-44.6643], Tmin=(1389,'K'), Tmax=(5000,'K'))], Tmin=(200,'K'), Tmax=(5000,'K'), comment=\"\"\"Thermo library: CurranPentane\"\"\"), molecule=[Molecule(smiles=\"CCCC\")], transport_data=TransportData(shapeIndex=2, epsilon=(2896.89,'J/mol'), sigma=(5.415,'angstrom'), dipoleMoment=(0,'De'), polarizability=(0,'angstrom^3'), rotrelaxcollnum=0.0, comment=\"\"\"Epsilon & sigma estimated with Tc=452.49 K, Pc=41.41 bar (from Joback method)\"\"\"), molecular_weight=(58.1223,'amu'))], products=[Species(index=17, label=\"H2O2\", thermo=NASA(polynomials=[NASAPolynomial(coeffs=[3.72867,0.00413377,5.67497e-06,-1.01866e-08,4.28612e-12,-17696.4,5.35912], Tmin=(100,'K'), Tmax=(923.27,'K')), NASAPolynomial(coeffs=[4.95152,0.0035423,-1.01041e-06,1.61942e-10,-1.10209e-14,-18122.8,-1.52912], Tmin=(923.27,'K'), Tmax=(5000,'K'))], Tmin=(100,'K'), Tmax=(5000,'K'), comment=\"\"\"Thermo library: BurkeH2O2\"\"\"), molecule=[Molecule(smiles=\"OO\")], transport_data=TransportData(shapeIndex=2, epsilon=(2405.38,'J/mol'), sigma=(4.196,'angstrom'), dipoleMoment=(0,'De'), polarizability=(0,'angstrom^3'), rotrelaxcollnum=0.0, comment=\"\"\"PrimaryTransportLibrary\"\"\"), molecular_weight=(34.0147,'amu')), Species(index=183, label=\"SC4H9\", thermo=NASA(polynomials=[NASAPolynomial(coeffs=[0.623604,0.039929,-1.89597e-05,3.45938e-09,-2.39236e-14,6176.89,25.2738], Tmin=(200,'K'), Tmax=(1388,'K')), NASAPolynomial(coeffs=[11.137,0.0204039,-6.97571e-06,1.08245e-09,-6.27715e-14,1955.91,-33.0856], Tmin=(1388,'K'), Tmax=(5000,'K'))], Tmin=(200,'K'), Tmax=(5000,'K'), comment=\"\"\"Thermo library: CurranPentane\"\"\"), molecule=[Molecule(smiles=\"C[CH]CC\")], transport_data=TransportData(shapeIndex=2, epsilon=(2968.28,'J/mol'), sigma=(5.176,'angstrom'), dipoleMoment=(0,'De'), polarizability=(0,'angstrom^3'), rotrelaxcollnum=1.0, comment=\"\"\"GRI-Mech\"\"\"), molecular_weight=(57.1143,'amu'))], kinetics=Arrhenius(A=(126.4,'cm^3/(mol*s)'), n=3.37, Ea=(13.72,'kcal/mol'), T0=(1,'K')), pairs=[(Species(index=1, label=\"butane\", thermo=NASA(polynomials=[NASAPolynomial(coeffs=[-0.402516,0.0479826,-2.65876e-05,7.07078e-09,-6.98493e-13,-16879.5,26.3199], Tmin=(200,'K'), Tmax=(1389,'K')), NASAPolynomial(coeffs=[12.5232,0.0218667,-7.50126e-06,1.16671e-09,-6.77697e-14,-21847.6,-44.6643], Tmin=(1389,'K'), Tmax=(5000,'K'))], Tmin=(200,'K'), Tmax=(5000,'K'), comment=\"\"\"Thermo library: CurranPentane\"\"\"), molecule=[Molecule(smiles=\"CCCC\")], transport_data=TransportData(shapeIndex=2, epsilon=(2896.89,'J/mol'), sigma=(5.415,'angstrom'), dipoleMoment=(0,'De'), polarizability=(0,'angstrom^3'), rotrelaxcollnum=0.0, comment=\"\"\"Epsilon & sigma estimated with Tc=452.49 K, Pc=41.41 bar (from Joback method)\"\"\"), molecular_weight=(58.1223,'amu')), Species(index=183, label=\"SC4H9\", thermo=NASA(polynomials=[NASAPolynomial(coeffs=[0.623604,0.039929,-1.89597e-05,3.45938e-09,-2.39236e-14,6176.89,25.2738], Tmin=(200,'K'), Tmax=(1388,'K')), NASAPolynomial(coeffs=[11.137,0.0204039,-6.97571e-06,1.08245e-09,-6.27715e-14,1955.91,-33.0856], Tmin=(1388,'K'), Tmax=(5000,'K'))], Tmin=(200,'K'), Tmax=(5000,'K'), comment=\"\"\"Thermo library: CurranPentane\"\"\"), molecule=[Molecule(smiles=\"C[CH]CC\")], transport_data=TransportData(shapeIndex=2, epsilon=(2968.28,'J/mol'), sigma=(5.176,'angstrom'), dipoleMoment=(0,'De'), polarizability=(0,'angstrom^3'), rotrelaxcollnum=1.0, comment=\"\"\"GRI-Mech\"\"\"), molecular_weight=(57.1143,'amu'))), (Species(index=16, label=\"HO2\", thermo=NASA(polynomials=[NASAPolynomial(coeffs=[4.02957,-0.00263999,1.52236e-05,-1.71679e-08,6.26772e-12,322.677,4.84424], Tmin=(100,'K'), Tmax=(923.9,'K')), NASAPolynomial(coeffs=[4.1513,0.00191152,-4.11308e-07,6.35039e-11,-4.86454e-15,83.4343,3.09359], Tmin=(923.9,'K'), Tmax=(5000,'K'))], Tmin=(100,'K'), Tmax=(5000,'K'), comment=\"\"\"Thermo library: BurkeH2O2\"\"\"), molecule=[Molecule(smiles=\"[O]O\")], transport_data=TransportData(shapeIndex=2, epsilon=(892.974,'J/mol'), sigma=(3.458,'angstrom'), dipoleMoment=(0,'De'), polarizability=(0,'angstrom^3'), rotrelaxcollnum=1.0, comment=\"\"\"GRI-Mech\"\"\"), molecular_weight=(33.0068,'amu')), Species(index=17, label=\"H2O2\", thermo=NASA(polynomials=[NASAPolynomial(coeffs=[3.72867,0.00413377,5.67497e-06,-1.01866e-08,4.28612e-12,-17696.4,5.35912], Tmin=(100,'K'), Tmax=(923.27,'K')), NASAPolynomial(coeffs=[4.95152,0.0035423,-1.01041e-06,1.61942e-10,-1.10209e-14,-18122.8,-1.52912], Tmin=(923.27,'K'), Tmax=(5000,'K'))], Tmin=(100,'K'), Tmax=(5000,'K'), comment=\"\"\"Thermo library: BurkeH2O2\"\"\"), molecule=[Molecule(smiles=\"OO\")], transport_data=TransportData(shapeIndex=2, epsilon=(2405.38,'J/mol'), sigma=(4.196,'angstrom'), dipoleMoment=(0,'De'), polarizability=(0,'angstrom^3'), rotrelaxcollnum=0.0, comment=\"\"\"PrimaryTransportLibrary\"\"\"), molecular_weight=(34.0147,'amu')))])"
      ]
     },
     "execution_count": 38,
     "metadata": {},
     "output_type": "execute_result"
    }
   ],
   "source": [
    "reaction_list[ct2rmg_rxn[270]]"
   ]
  },
  {
   "cell_type": "code",
   "execution_count": null,
   "id": "51b88e0b",
   "metadata": {},
   "outputs": [],
   "source": []
  },
  {
   "cell_type": "code",
   "execution_count": 39,
   "id": "15bd4be7",
   "metadata": {},
   "outputs": [
    {
     "data": {
      "text/plain": [
       "matrix([[2.45285216, 2.41560389, 2.45611795, 2.58536196, 2.83289066,\n",
       "         3.13273729, 3.59634399, 4.24547967, 5.03837776, 5.87783386,\n",
       "         6.61761481, 7.09049737, 7.12699012, 6.56952661, 5.42448804,\n",
       "         4.01899584, 2.79373426, 1.91872427, 1.3397263 , 0.96080255,\n",
       "         0.71009102, 0.54194616, 0.42822143, 0.35135419, 0.30009667,\n",
       "         0.26703374, 0.24714355, 0.23695122, 0.23401626, 0.23661237,\n",
       "         0.24352131, 0.25389626, 0.26716733, 0.28297219, 0.30110057,\n",
       "         0.32144448, 0.34394797, 0.36855839, 0.39517494, 0.42359867,\n",
       "         0.45349492, 0.48436437, 0.5155402 , 0.54620585, 0.57542859,\n",
       "         0.60222951, 0.6256557 , 0.64485478, 0.65914923, 0.66809232,\n",
       "         0.67150937]])"
      ]
     },
     "execution_count": 39,
     "metadata": {},
     "output_type": "execute_result"
    }
   ],
   "source": [
    "np.nansum(total_error7, 0)"
   ]
  },
  {
   "cell_type": "code",
   "execution_count": 40,
   "id": "e3b62be3",
   "metadata": {},
   "outputs": [],
   "source": [
    "base_delays7 = np.load('table_0007/base_delays_0007.npy')\n",
    "\n",
    "Tmax = 1077  # use min and max temperature range of the data: 663K-1077K\n",
    "Tmin = 663\n",
    "K = 51\n",
    "temperatures = np.linspace(Tmin, Tmax, K)"
   ]
  },
  {
   "cell_type": "code",
   "execution_count": 41,
   "id": "a864d971",
   "metadata": {},
   "outputs": [],
   "source": [
    "upper_bound = np.ravel(np.array(np.exp(np.log(base_delays7) + np.np.nansum(total_error7, 0))))\n",
    "lower_bound = np.ravel(np.array(np.exp(np.log(base_delays7) - np.nansum(total_error7, 0))))"
   ]
  },
  {
   "cell_type": "code",
   "execution_count": 53,
   "id": "24792dfd",
   "metadata": {},
   "outputs": [],
   "source": [
    "upper_bound_stddev = np.ravel(np.array(np.exp(np.log(base_delays7) + np.float_power(np.nansum(total_error7, 0), 0.5))))\n",
    "lower_bound_stddev = np.ravel(np.array(np.exp(np.log(base_delays7) - np.float_power(np.nansum(total_error7, 0), 0.5))))"
   ]
  },
  {
   "cell_type": "code",
   "execution_count": 42,
   "id": "e7921292",
   "metadata": {},
   "outputs": [
    {
     "data": {
      "text/plain": [
       "array([679, 677, 677, 690])"
      ]
     },
     "execution_count": 42,
     "metadata": {},
     "output_type": "execute_result"
    }
   ],
   "source": [
    "T7"
   ]
  },
  {
   "cell_type": "code",
   "execution_count": 43,
   "id": "200fe17b",
   "metadata": {},
   "outputs": [],
   "source": [
    "base_delays = np.array([0.04908327, 0.0485444 , 0.04814444, 0.04868172, 0.07558788,\n",
    "       0.07737167, 0.14791668, 0.14857534, 0.1085917 , 0.0952434 ,\n",
    "       0.06520823, 0.05563237, 0.03535775, 0.02462961, 0.02334903,\n",
    "       0.01398333])"
   ]
  },
  {
   "cell_type": "code",
   "execution_count": 44,
   "id": "cf268335",
   "metadata": {},
   "outputs": [],
   "source": [
    "# Load the experimental conditions\n",
    "ignition_delay_data = '/home/moon/autoscience/autoscience/butane/experimental_data/butane_ignition_delay.csv'\n",
    "# ignition_delay_data = '/work/westgroup/harris.se/autoscience/autoscience/butane/experimental_data/butane_ignition_delay.csv'\n",
    "\n",
    "df_exp = pd.read_csv(ignition_delay_data)\n",
    "\n",
    "# slice just table 7, where phi=1.0\n",
    "table7 = df_exp[df_exp['Table'] == 7]\n",
    "# Define Initial conditions using experimental data\n",
    "tau7 = table7['time (ms)'].values.astype(float)  # ignition delay\n",
    "T7 = table7['T_C'].values  # Temperatures\n",
    "P7 = table7['nominal pressure(atm)'].values * ct.one_atm  # pressures in atm\n",
    "\n",
    "\n",
    "# list of starting conditions\n",
    "# Mixture compositions taken from table 2 of\n",
    "# https://doi-org.ezproxy.neu.edu/10.1016/j.combustflame.2010.01.016\n",
    "concentrations = []\n",
    "# for phi = 1\n",
    "x_diluent = 0.7649\n",
    "conc_dict = {\n",
    "    'O2(2)': 0.2038,\n",
    "    'butane(1)': 0.03135\n",
    "}\n",
    "\n",
    "for i in range(0, len(table7)):\n",
    "    x_N2 = table7['%N2'].values[i] / 100.0 * x_diluent\n",
    "    x_Ar = table7['%Ar'].values[i] / 100.0 * x_diluent\n",
    "    x_CO2 = table7['%CO2'].values[i] / 100.0 * x_diluent\n",
    "    conc_dict['N2'] = x_N2\n",
    "    conc_dict['Ar'] = x_Ar\n",
    "    conc_dict['CO2(7)'] = x_CO2\n",
    "    concentrations.append(conc_dict)\n"
   ]
  },
  {
   "cell_type": "code",
   "execution_count": 45,
   "id": "e09d8c49",
   "metadata": {},
   "outputs": [
    {
     "data": {
      "text/plain": [
       "array([86.5 , 73.9 , 31.3 , 33.  , 30.9 , 30.  , 56.  , 56.6 , 67.9 ,\n",
       "       66.4 , 65.2 , 67.1 , 47.  , 27.9 , 28.05, 12.  ])"
      ]
     },
     "execution_count": 45,
     "metadata": {},
     "output_type": "execute_result"
    }
   ],
   "source": [
    "tau7"
   ]
  },
  {
   "cell_type": "code",
   "execution_count": 46,
   "id": "341db544",
   "metadata": {},
   "outputs": [
    {
     "data": {
      "text/plain": [
       "array([700, 701, 731, 732, 756, 757, 794, 795, 840, 849, 872, 881, 906,\n",
       "       926, 929, 959])"
      ]
     },
     "execution_count": 46,
     "metadata": {},
     "output_type": "execute_result"
    }
   ],
   "source": [
    "T7"
   ]
  },
  {
   "cell_type": "code",
   "execution_count": 47,
   "id": "5d1c3d5f",
   "metadata": {},
   "outputs": [
    {
     "data": {
      "text/plain": [
       "<matplotlib.legend.Legend at 0x7ff4f85cea50>"
      ]
     },
     "execution_count": 47,
     "metadata": {},
     "output_type": "execute_result"
    },
    {
     "data": {
      "image/png": "[encoded data removed]",
      "text/plain": [
       "<Figure size 640x480 with 1 Axes>"
      ]
     },
     "metadata": {},
     "output_type": "display_data"
    }
   ],
   "source": [
    "# plot the ignition delay\n",
    "# plt.plot(1000.0 / T7, base_delays, marker='x', label='RMG Base Mechanism')\n",
    "plt.plot(1000.0 / temperatures, base_delays7, label='RMG Base Mechanism')\n",
    "# plt.plot(1000.0 / temperatures, base_delays7, marker='x', label='RMG Base Mechanism')\n",
    "plt.scatter(1000.0 / T7, tau7 / 1000.0, color='black', label='Experiment')\n",
    "\n",
    "ax = plt.gca()\n",
    "ax.set_yscale('log')\n",
    "plt.legend()\n",
    "# plt.legend(['Mechanism 174', 'Base RMG', 'Aramco', 'Experiment'])\n",
    "# plt.legend(['RMG 24', 'RMG 1 week', 'Aramco', 'new calculation', 'Experiment'], loc=(1.04, 0))\n",
    "plt.title('Ignition Delays Phi=1.0')\n",
    "plt.xlabel('1000K / T')\n",
    "plt.ylabel('Delay (s)')\n",
    "plt.savefig('table7.png')\n",
    "plt.legend(bbox_to_anchor=(1, 1))"
   ]
  },
  {
   "cell_type": "code",
   "execution_count": null,
   "id": "28ef56a0",
   "metadata": {},
   "outputs": [],
   "source": []
  },
  {
   "cell_type": "code",
   "execution_count": 57,
   "id": "8fbaf825",
   "metadata": {},
   "outputs": [
    {
     "data": {
      "text/plain": [
       "<matplotlib.legend.Legend at 0x7ff4ebce30d0>"
      ]
     },
     "execution_count": 57,
     "metadata": {},
     "output_type": "execute_result"
    },
    {
     "data": {
      "image/png": "[encoded data removed]",
      "text/plain": [
       "<Figure size 640x480 with 1 Axes>"
      ]
     },
     "metadata": {},
     "output_type": "display_data"
    }
   ],
   "source": [
    "# plot the ignition delay\n",
    "colors = plt.rcParams['axes.prop_cycle'].by_key()['color']\n",
    "\n",
    "\n",
    "# plt.plot(1000.0 / T7, base_delays, marker='x', label='RMG Base Mechanism')\n",
    "\n",
    "plt.fill_between(1000.0 / temperatures, base_delays7, upper_bound_stddev.transpose(), alpha=0.5, color=colors[0], label=r'Uncertainty 1$\\sigma$')\n",
    "plt.fill_between(1000.0 / temperatures, lower_bound_stddev.transpose(), base_delays7, alpha=0.5, color=colors[0])\n",
    "\n",
    "\n",
    "plt.plot(1000.0 / temperatures, base_delays7, label='RMG Base Mechanism')\n",
    "\n",
    "\n",
    "\n",
    "\n",
    "# plt.fill_between(1000.0 / temperatures, base_delays7, upper_bound.transpose(), alpha=1.0, color=colors[0], label='Uncertainty (All)')\n",
    "# plt.fill_between(1000.0 / temperatures, lower_bound.transpose(), base_delays7, alpha=1.0, color=colors[0])\n",
    "\n",
    "\n",
    "plt.scatter(1000.0 / T7, tau7 / 1000.0, color='black', label='Experiment')\n",
    "\n",
    "ax = plt.gca()\n",
    "ax.set_yscale('log')\n",
    "plt.legend()\n",
    "\n",
    "# plt.xlim([0.9, 1.2])\n",
    "# plt.ylim([0.001, 1.0])\n",
    "\n",
    "plt.title('Ignition Delays Phi=1.0')\n",
    "plt.xlabel('1000K / T')\n",
    "plt.ylabel('Delay (s)')\n",
    "# plt.savefig('table7.png')\n",
    "plt.legend(loc='upper left')\n",
    "# plt.legend(bbox_to_anchor=(1.1, 1))"
   ]
  },
  {
   "cell_type": "code",
   "execution_count": 48,
   "id": "631cd05e",
   "metadata": {},
   "outputs": [
    {
     "data": {
      "text/plain": [
       "array([1.19281476e+00, 9.32018293e-01, 8.04413576e-01, 7.78660183e-01,\n",
       "       8.75504830e-01, 1.07740139e+00, 1.63272576e+00, 3.12988782e+00,\n",
       "       7.29384927e+00, 1.87072782e+01, 4.53220006e+01, 8.68201983e+01,\n",
       "       1.09381952e+02, 7.58752037e+01, 2.84439991e+01, 7.82028908e+00,\n",
       "       2.43254968e+00, 1.02171329e+00, 5.54724738e-01, 3.57000305e-01,\n",
       "       2.55262238e-01, 1.94768570e-01, 1.54803154e-01, 1.26321859e-01,\n",
       "       1.04902770e-01, 8.81746321e-02, 7.47621883e-02, 6.38113713e-02,\n",
       "       5.47585991e-02, 4.72115083e-02, 4.08840536e-02, 3.55595396e-02,\n",
       "       3.10686397e-02, 2.72757544e-02, 2.40701714e-02, 2.13600766e-02,\n",
       "       1.90683032e-02, 1.71292782e-02, 1.54866927e-02, 1.40917178e-02,\n",
       "       1.29017187e-02, 1.18792369e-02, 1.09913030e-02, 1.02091299e-02,\n",
       "       9.50776732e-03, 8.86621324e-03, 8.26747643e-03, 7.69862974e-03,\n",
       "       7.15080275e-03, 6.61894337e-03, 6.10137682e-03])"
      ]
     },
     "execution_count": 48,
     "metadata": {},
     "output_type": "execute_result"
    }
   ],
   "source": [
    "np.array(upper_bound).ravel()"
   ]
  },
  {
   "cell_type": "code",
   "execution_count": 49,
   "id": "75b250ea",
   "metadata": {},
   "outputs": [
    {
     "data": {
      "text/plain": [
       "<matplotlib.legend.Legend at 0x7ff4f7957850>"
      ]
     },
     "execution_count": 49,
     "metadata": {},
     "output_type": "execute_result"
    },
    {
     "data": {
      "image/png": "[encoded data removed]",
      "text/plain": [
       "<Figure size 640x480 with 1 Axes>"
      ]
     },
     "metadata": {},
     "output_type": "display_data"
    }
   ],
   "source": [
    "# plot the ignition delay\n",
    "colors = plt.rcParams['axes.prop_cycle'].by_key()['color']\n",
    "\n",
    "\n",
    "# plt.plot(1000.0 / T7, base_delays, marker='x', label='RMG Base Mechanism')\n",
    "plt.plot(1000.0 / temperatures, base_delays7, label='RMG Base Mechanism')\n",
    "\n",
    "\n",
    "plt.fill_between(1000.0 / temperatures, base_delays7, upper_bound.transpose(), alpha=1.0, color=colors[0], label='Uncertainty (All)')\n",
    "plt.fill_between(1000.0 / temperatures, lower_bound.transpose(), base_delays7, alpha=1.0, color=colors[0])\n",
    "\n",
    "\n",
    "plt.fill_between(1000.0 / temperatures, lower_bound20.transpose(), base_delays7, alpha=1.0, color=colors[1])\n",
    "plt.fill_between(1000.0 / temperatures, base_delays7, upper_bound20.transpose(), alpha=1.0, color=colors[1], label='Uncertainty (20)')\n",
    "\n",
    "\n",
    "plt.fill_between(1000.0 / temperatures, base_delays7, upper_bound10.transpose(), alpha=.75, color=colors[2], label='Uncertainty (10)')\n",
    "plt.fill_between(1000.0 / temperatures, lower_bound10.transpose(), base_delays7, alpha=.75, color=colors[2])\n",
    "\n",
    "\n",
    "plt.scatter(1000.0 / T7, tau7 / 1000.0, color='black', label='Experiment')\n",
    "\n",
    "ax = plt.gca()\n",
    "ax.set_yscale('log')\n",
    "plt.legend()\n",
    "\n",
    "# plt.xlim([0.9, 1.2])\n",
    "# plt.ylim([0.001, 1.0])\n",
    "\n",
    "plt.title('Ignition Delays Phi=1.0')\n",
    "plt.xlabel('1000K / T')\n",
    "plt.ylabel('Delay (s)')\n",
    "# plt.savefig('table7.png')\n",
    "plt.legend(loc='upper left')\n",
    "# plt.legend(bbox_to_anchor=(1.1, 1))"
   ]
  },
  {
   "cell_type": "code",
   "execution_count": null,
   "id": "7b36bcde",
   "metadata": {},
   "outputs": [],
   "source": []
  },
  {
   "cell_type": "code",
   "execution_count": null,
   "id": "cdb4fcbc",
   "metadata": {},
   "outputs": [],
   "source": []
  },
  {
   "cell_type": "code",
   "execution_count": 50,
   "id": "263689b1",
   "metadata": {},
   "outputs": [
    {
     "data": {
      "text/plain": [
       "<matplotlib.legend.Legend at 0x7ff4f76cc750>"
      ]
     },
     "execution_count": 50,
     "metadata": {},
     "output_type": "execute_result"
    },
    {
     "data": {
      "image/png": "[encoded data removed]",
      "text/plain": [
       "<Figure size 640x480 with 1 Axes>"
      ]
     },
     "metadata": {},
     "output_type": "display_data"
    }
   ],
   "source": [
    "# plot the ignition delay uncertainty of just the top 10 parameters\n",
    "colors = plt.rcParams['axes.prop_cycle'].by_key()['color']\n",
    "\n",
    "\n",
    "# plt.plot(1000.0 / T7, base_delays, marker='x', label='RMG Base Mechanism')\n",
    "plt.plot(1000.0 / temperatures, base_delays7, label='RMG Base Mechanism')\n",
    "\n",
    "plt.fill_between(1000.0 / temperatures, base_delays7, upper_bound10.transpose(), alpha=.75, color=colors[2], label='Uncertainty (10)')\n",
    "plt.fill_between(1000.0 / temperatures, lower_bound10.transpose(), base_delays7, alpha=.75, color=colors[2])\n",
    "\n",
    "\n",
    "plt.scatter(1000.0 / T7, tau7 / 1000.0, color='black', label='Experiment')\n",
    "\n",
    "ax = plt.gca()\n",
    "ax.set_yscale('log')\n",
    "plt.legend()\n",
    "\n",
    "# plt.xlim([0.9, 1.2])\n",
    "# plt.ylim([0.001, 1.0])\n",
    "\n",
    "plt.title('Ignition Delays Phi=1.0')\n",
    "plt.xlabel('1000K / T')\n",
    "plt.ylabel('Delay (s)')\n",
    "# plt.savefig('table7.png')\n",
    "plt.legend(loc='upper left')\n",
    "# plt.legend(bbox_to_anchor=(1.1, 1))"
   ]
  },
  {
   "cell_type": "code",
   "execution_count": null,
   "id": "e4fc1ab5",
   "metadata": {},
   "outputs": [],
   "source": [
    "# global results: variance at 1000K: array([0.00012554])\n",
    "global1000_mean = 0.02010513\n",
    "global1000_var = 0.00012554"
   ]
  },
  {
   "cell_type": "code",
   "execution_count": null,
   "id": "5da9d7fe",
   "metadata": {},
   "outputs": [],
   "source": [
    "temperatures[-10]"
   ]
  },
  {
   "cell_type": "code",
   "execution_count": null,
   "id": "3986b179",
   "metadata": {},
   "outputs": [],
   "source": [
    "global_upper"
   ]
  },
  {
   "cell_type": "code",
   "execution_count": null,
   "id": "1cbe58ba",
   "metadata": {},
   "outputs": [],
   "source": [
    "global_lower"
   ]
  },
  {
   "cell_type": "code",
   "execution_count": null,
   "id": "09a74e55",
   "metadata": {},
   "outputs": [],
   "source": [
    "# convert to plot\n",
    "\n",
    "# get results if we only included top 10 in uncertainty\n",
    "# global_upper = np.exp(np.log(base_delays7[-10]) + global1000_var)\n",
    "# global_lower = np.exp(np.log(base_delays7[-10]) - global1000_var)\n",
    "\n",
    "\n",
    "global_upper = np.exp(np.log(global1000_mean) + global1000_var)\n",
    "global_lower = np.exp(np.log(global1000_mean) - global1000_var)\n",
    "\n",
    "\n",
    "\n",
    "\n",
    "\n",
    "\n",
    "# print(len(global_lower))"
   ]
  },
  {
   "cell_type": "code",
   "execution_count": null,
   "id": "3b5c9f63",
   "metadata": {},
   "outputs": [],
   "source": [
    "global_lower"
   ]
  },
  {
   "cell_type": "code",
   "execution_count": null,
   "id": "e50de016",
   "metadata": {},
   "outputs": [],
   "source": [
    "global_upper"
   ]
  },
  {
   "cell_type": "code",
   "execution_count": null,
   "id": "ed1f6174",
   "metadata": {},
   "outputs": [],
   "source": [
    "global1000_mean"
   ]
  },
  {
   "cell_type": "code",
   "execution_count": null,
   "id": "8e9c99d4",
   "metadata": {},
   "outputs": [],
   "source": [
    "global1000_var"
   ]
  },
  {
   "cell_type": "code",
   "execution_count": null,
   "id": "167e0b6c",
   "metadata": {},
   "outputs": [],
   "source": [
    "global929_mean = 4.947e-02\n",
    "global929_std = 2.408e-02\n",
    "global929_var = np.float_power(2.408e-02, 2.0)"
   ]
  },
  {
   "cell_type": "code",
   "execution_count": null,
   "id": "f68eefe2",
   "metadata": {},
   "outputs": [],
   "source": [
    "# 959  mean  3.153e-02    std  1.582e-02 \n",
    "global959_mean = 3.153e-02\n",
    "global959_std = 1.582e-02 \n",
    "global959_var = np.float_power(global700_std, 2.0)"
   ]
  },
  {
   "cell_type": "code",
   "execution_count": null,
   "id": "fd3d578a",
   "metadata": {},
   "outputs": [],
   "source": [
    "global700_mean = 0.06848727\n",
    "global700_std = 0.004039\n",
    "global700_var = np.float_power(global700_std, 2.0)"
   ]
  },
  {
   "cell_type": "code",
   "execution_count": null,
   "id": "2f93e002",
   "metadata": {},
   "outputs": [],
   "source": [
    "global_lower = np.exp(np.log(global700_mean) - global700_var)"
   ]
  },
  {
   "cell_type": "code",
   "execution_count": null,
   "id": "b20b2aa4",
   "metadata": {},
   "outputs": [],
   "source": [
    "global_lower"
   ]
  },
  {
   "cell_type": "code",
   "execution_count": null,
   "id": "c87c3c04",
   "metadata": {},
   "outputs": [],
   "source": [
    "np.exp(np.log(global700_mean) + global700_var)"
   ]
  },
  {
   "cell_type": "code",
   "execution_count": null,
   "id": "6b88c8a4",
   "metadata": {},
   "outputs": [],
   "source": []
  },
  {
   "cell_type": "code",
   "execution_count": null,
   "id": "32d4ee24",
   "metadata": {},
   "outputs": [],
   "source": [
    "# 929..  mean 4.947e-02     std 2.408e-02\n",
    "# 959  mean  3.153e-02    std  1.582e-02 "
   ]
  },
  {
   "cell_type": "code",
   "execution_count": null,
   "id": "a5903d3a",
   "metadata": {},
   "outputs": [],
   "source": []
  },
  {
   "cell_type": "code",
   "execution_count": null,
   "id": "2c2287ae",
   "metadata": {},
   "outputs": [],
   "source": []
  },
  {
   "cell_type": "code",
   "execution_count": null,
   "id": "709b60cf",
   "metadata": {},
   "outputs": [],
   "source": [
    "# plot the ignition delay uncertainty of just the top 10 parameters\n",
    "colors = plt.rcParams['axes.prop_cycle'].by_key()['color']\n",
    "\n",
    "\n",
    "# plt.plot(1000.0 / T7, base_delays, marker='x', label='RMG Base Mechanism')\n",
    "plt.plot(1000.0 / temperatures, base_delays7, label='RMG Base Mechanism')\n",
    "\n",
    "plt.fill_between(1000.0 / temperatures, base_delays7, upper_bound10.transpose(), alpha=.75, color=colors[0], label='Local Uncertainty (10)')\n",
    "plt.fill_between(1000.0 / temperatures, lower_bound10.transpose(), base_delays7, alpha=.75, color=colors[0])\n",
    "\n",
    "\n",
    "plt.errorbar(1000.0 / 1000, global1000_mean, yerr=global1000_var, fmt='*', label='PCE', color=colors[1])\n",
    "\n",
    "plt.errorbar(1000.0 / 929, global929_mean, yerr=global929_var, fmt='*',color=colors[1])\n",
    "\n",
    "plt.errorbar(1000.0 / 959, global959_mean, yerr=global929_var, fmt='*',color=colors[1])\n",
    "\n",
    "plt.errorbar(1000.0 / 700, global700_mean, yerr=global700_var, fmt='*', color=colors[1])\n",
    "\n",
    "\n",
    "\n",
    "# plt.scatter(1000.0 / 1000, global1000_mean, color='red', label='PCE')\n",
    "# plt.scatter(1000.0 / 1000, global_upper, color='blue', label='PCE')\n",
    "# plt.scatter(1000.0 / 1000, global_lower, color='blue', label='PCE')\n",
    "\n",
    "\n",
    "plt.scatter(1000.0 / T7, tau7 / 1000.0, color='black', label='Experiment')\n",
    "\n",
    "ax = plt.gca()\n",
    "ax.set_yscale('log')\n",
    "plt.legend()\n",
    "\n",
    "# plt.xlim([0.9, 1.2])\n",
    "# plt.ylim([0.001, 1.0])\n",
    "\n",
    "plt.title('Ignition Delays Phi=1.0')\n",
    "plt.xlabel('1000K / T')\n",
    "plt.ylabel('Delay (s)')\n",
    "# plt.savefig('table7.png')\n",
    "plt.legend(loc='upper left')\n",
    "# plt.legend(bbox_to_anchor=(1.1, 1))"
   ]
  },
  {
   "cell_type": "code",
   "execution_count": null,
   "id": "1ea8a45f",
   "metadata": {},
   "outputs": [],
   "source": []
  },
  {
   "cell_type": "code",
   "execution_count": null,
   "id": "f6ad9345",
   "metadata": {},
   "outputs": [],
   "source": [
    "# record the means and stds\n",
    "Ts = [700, 701, 731, 732, 756, 757, 794, 795, 840, 849, 872, 881, 906, 926, 929, 959, ]\n",
    "means = [8.228e-02, 8.238e-02, 1.480e-01, 1.522e-01, 1.650e-01, 1.841e-01, 1.572e-01, 1.537e-01, 1.618e-01, 1.668e-01, 1.313e-01, 1.187e-01, 7.441e-02, 4.823e-02, 4.585e-02, 2.871e-02]\n",
    "stds = [7.156e-02, 7.331e-02, 1.398e-01, 1.422e-01, 2.227e-01, 2.335e-01, 1.116e-01, 1.091e-01, 1.017e-01, 1.048e-01, 7.090e-02, 5.987e-02, 3.578e-02, 2.313e-02, 2.198e-02, 1.417e-02]\n",
    "varis = np.float_power(stds, 2.0)\n",
    "\n",
    "# lowers = np.exp(np.log(means) - np.float_power(stds, 1.0))\n",
    "# uppers = np.exp(np.log(means) + np.float_power(stds, 1.0))\n",
    "\n",
    "\n",
    "# lowers = np.log10(means) - np.float_power(stds, 2.0)\n",
    "# uppers = np.log10(means) + np.float_power(stds, 2.0)\n",
    "\n",
    "# lowers = np.divide(means, np.exp(stds))\n",
    "# uppers = np.multiply(means, np.exp(stds))\n",
    "\n",
    "# # lowers = np.divide(means, np.float_power(10.0, stds))\n",
    "# # uppers = np.multiply(means, np.float_power(10.0, stds))\n",
    "\n",
    "lowers = np.divide(means, np.float_power(10.0, varis))\n",
    "uppers = np.multiply(means, np.float_power(10.0, varis))\n",
    "\n",
    "# lowers = np.float_power(10.0, np.log(means) - np.float_power(stds, 2.0))\n",
    "# uppers = np.float_power(10.0, np.log(means) + np.float_power(stds, 2.0))"
   ]
  },
  {
   "cell_type": "code",
   "execution_count": null,
   "id": "b05ec393",
   "metadata": {},
   "outputs": [],
   "source": [
    "lowers"
   ]
  },
  {
   "cell_type": "code",
   "execution_count": null,
   "id": "408db6c8",
   "metadata": {},
   "outputs": [],
   "source": []
  },
  {
   "cell_type": "code",
   "execution_count": null,
   "id": "59b0c46e",
   "metadata": {},
   "outputs": [],
   "source": [
    "np.exp(0.02)"
   ]
  },
  {
   "cell_type": "code",
   "execution_count": null,
   "id": "b4cf8e10",
   "metadata": {},
   "outputs": [],
   "source": []
  },
  {
   "cell_type": "code",
   "execution_count": null,
   "id": "d8103d56",
   "metadata": {},
   "outputs": [],
   "source": [
    "np.log(means[i])"
   ]
  },
  {
   "cell_type": "code",
   "execution_count": null,
   "id": "43552db3",
   "metadata": {},
   "outputs": [],
   "source": [
    "# plot the ignition delay uncertainty of just the top 10 parameters\n",
    "colors = plt.rcParams['axes.prop_cycle'].by_key()['color']\n",
    "\n",
    "\n",
    "# plt.plot(1000.0 / T7, base_delays, marker='x', label='RMG Base Mechanism')\n",
    "plt.plot(1000.0 / temperatures, base_delays7, label='RMG Base Mechanism')\n",
    "\n",
    "plt.fill_between(1000.0 / temperatures, base_delays7, upper_bound10.transpose(), alpha=.75, color=colors[0], label='Local Uncertainty (10)')\n",
    "plt.fill_between(1000.0 / temperatures, lower_bound10.transpose(), base_delays7, alpha=.75, color=colors[0])\n",
    "\n",
    "\n",
    "for i in range(len(Ts)):\n",
    "    if i == 0:\n",
    "        label = 'PCE'\n",
    "    else:\n",
    "        label = None\n",
    "#     plt.errorbar(1000.0 / Ts[i], 0.1, yerr=np.array([[0.1 / np.float_power(10.0, 0.2)]*1, [0.1 * np.float_power(10.0, 0.2)]*1]), fmt='*', label=label, color=colors[1])\n",
    "\n",
    "#     plt.errorbar(1000.0 / Ts[i], means[i], yerr=np.array([[means[i] / np.float_power(10.0, (stds[i]))]*1, [means[i] * np.float_power(10.0, (stds[i]))]*1]), fmt='*', label=label, color=colors[1])\n",
    "\n",
    "    plt.errorbar(1000.0 / Ts[i], means[i], yerr=np.array([[stds[i]]*1, [stds[i]]*1]), fmt='*', label=label, color=colors[1])\n",
    "\n",
    "\n",
    "plt.scatter(1000.0 / T7, tau7 / 1000.0, color='black', label='Experiment')\n",
    "\n",
    "ax = plt.gca()\n",
    "ax.set_yscale('log')\n",
    "plt.legend()\n",
    "\n",
    "# plt.xlim([0.9, 1.2])\n",
    "# plt.ylim([0.001, 1.0])\n",
    "\n",
    "plt.title('Ignition Delays Phi=1.0')\n",
    "plt.xlabel('1000K / T')\n",
    "plt.ylabel('Delay (s)')\n",
    "# plt.savefig('table7.png')\n",
    "plt.legend(loc='upper left')\n",
    "# plt.legend(bbox_to_anchor=(1.1, 1))"
   ]
  },
  {
   "cell_type": "code",
   "execution_count": null,
   "id": "55c9b4d6",
   "metadata": {},
   "outputs": [],
   "source": []
  },
  {
   "cell_type": "code",
   "execution_count": null,
   "id": "856ad8ee",
   "metadata": {},
   "outputs": [],
   "source": []
  },
  {
   "cell_type": "code",
   "execution_count": null,
   "id": "815de049",
   "metadata": {},
   "outputs": [],
   "source": []
  }
 ],
 "metadata": {
  "kernelspec": {
   "display_name": "Python 3 (ipykernel)",
   "language": "python",
   "name": "python3"
  },
  "language_info": {
   "codemirror_mode": {
    "name": "ipython",
    "version": 3
   },
   "file_extension": ".py",
   "mimetype": "text/x-python",
   "name": "python",
   "nbconvert_exporter": "python",
   "pygments_lexer": "ipython3",
   "version": "3.7.16"
  }
 },
 "nbformat": 4,
 "nbformat_minor": 5
}
