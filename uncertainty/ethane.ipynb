{
 "cells": [
  {
   "cell_type": "code",
   "execution_count": null,
   "metadata": {},
   "outputs": [],
   "source": [
    "import os\n",
    "from rmgpy.tools.uncertainty import Uncertainty, process_local_results\n",
    "from rmgpy.tools.canteramodel import get_rmg_species_from_user_species\n",
    "from rmgpy.species import Species\n",
    "\n",
    "# these are for showing the flux diagram\n",
    "from IPython.display import Image\n"
   ]
  },
  {
   "cell_type": "code",
   "execution_count": null,
   "metadata": {},
   "outputs": [],
   "source": [
    "# Load the model\n",
    "# Must use annotated chemkin file\n",
    "\n",
    "model_dir = '/home/moon/rmg/my_examples/ethane/'\n",
    "\n",
    "chemkin_file = os.path.join(model_dir, 'chemkin', 'chem_annotated.inp')\n",
    "dict_file = os.path.join(model_dir, 'chemkin', 'species_dictionary.txt')\n",
    "\n",
    "# Initialize the Uncertainty class instance and load the model\n",
    "uncertainty = Uncertainty(output_directory=os.path.join(model_dir, 'chemkin'))\n",
    "uncertainty.load_model(chemkin_file, dict_file)\n"
   ]
  },
  {
   "cell_type": "code",
   "execution_count": null,
   "metadata": {},
   "outputs": [],
   "source": [
    "# optional - generate flux diagram:\n",
    "\n",
    "from rmgpy.tools import fluxdiagram\n",
    "\n",
    "input_file = os.path.join(model_dir, 'input.py')\n",
    "output_path = os.path.join(model_dir, 'flux_diagram')\n",
    "fluxdiagram.create_flux_diagram(input_file, chemkin_file, dict_file, save_path=output_path)"
   ]
  },
  {
   "cell_type": "markdown",
   "metadata": {},
   "source": [
    "Ethane pyrolysis produces ethylene (C2H4)"
   ]
  },
  {
   "cell_type": "code",
   "execution_count": null,
   "metadata": {},
   "outputs": [],
   "source": [
    "Image(filename=\"/home/moon/rmg/my_examples/ethane/flux_diagram/1/flux_diagram_0148.png\")\n"
   ]
  },
  {
   "cell_type": "code",
   "execution_count": null,
   "metadata": {},
   "outputs": [],
   "source": [
    "# Map the species to the objects within the Uncertainty class\n",
    "ethane = Species().from_smiles('CC')\n",
    "C2H4 = Species().from_smiles('C=C')\n",
    "mapping = get_rmg_species_from_user_species([ethane, C2H4], uncertainty.species_list)\n",
    "\n",
    "# Define the reaction conditions\n",
    "initial_mole_fractions = {mapping[ethane]: 1.0}\n",
    "T = (1300, 'K')\n",
    "P = (1, 'bar')\n",
    "termination_time = (0.5, 'ms')\n",
    "sensitive_species=[mapping[ethane], mapping[C2H4]]"
   ]
  },
  {
   "cell_type": "code",
   "execution_count": null,
   "metadata": {},
   "outputs": [],
   "source": [
    "# Perform the sensitivity analysis\n",
    "uncertainty.sensitivity_analysis(initial_mole_fractions, sensitive_species, T, P, termination_time, number=5, fileformat='.png')"
   ]
  },
  {
   "cell_type": "code",
   "execution_count": null,
   "metadata": {
    "scrolled": false
   },
   "outputs": [],
   "source": [
    "# Show the sensitivity plots\n",
    "for species in sensitive_species:\n",
    "    print('{}: Reaction Sensitivities'.format(species))\n",
    "    index = species.index\n",
    "    display(Image(filename=os.path.join(uncertainty.output_directory,'solver','sensitivity_1_SPC_{}_reactions.png'.format(index))))\n",
    "    \n",
    "    print('{}: Thermo Sensitivities'.format(species))\n",
    "    display(Image(filename=os.path.join(uncertainty.output_directory,'solver','sensitivity_1_SPC_{}_thermo.png'.format(index))))"
   ]
  },
  {
   "cell_type": "code",
   "execution_count": null,
   "metadata": {},
   "outputs": [],
   "source": [
    "# NOTE: You must load the database with the same settings which were used to generate the model.\n",
    "#       This includes any thermo or kinetics libraries which were used.\n",
    "uncertainty.load_database(\n",
    "    thermo_libraries=['primaryThermoLibrary'],\n",
    "    kinetics_families='default',\n",
    "    reaction_libraries=[],\n",
    ")"
   ]
  },
  {
   "cell_type": "code",
   "execution_count": null,
   "metadata": {},
   "outputs": [],
   "source": [
    "uncertainty.extract_sources_from_model()\n",
    "uncertainty.assign_parameter_uncertainties()"
   ]
  },
  {
   "cell_type": "code",
   "execution_count": null,
   "metadata": {
    "scrolled": true
   },
   "outputs": [],
   "source": [
    "result = uncertainty.local_analysis(sensitive_species, correlated=False, number=5, fileformat='.png')\n",
    "print(process_local_results(result, sensitive_species, number=5)[1])"
   ]
  },
  {
   "cell_type": "code",
   "execution_count": null,
   "metadata": {},
   "outputs": [],
   "source": [
    "result"
   ]
  },
  {
   "cell_type": "code",
   "execution_count": null,
   "metadata": {},
   "outputs": [],
   "source": [
    "# for i, rxn in enumerate(uncertainty.reaction_list):\n",
    "#     print(rxn.family)\n",
    "print(uncertainty.reaction_list[6].family)"
   ]
  },
  {
   "cell_type": "code",
   "execution_count": null,
   "metadata": {},
   "outputs": [],
   "source": []
  }
 ],
 "metadata": {
  "kernelspec": {
   "display_name": "Python 3 (ipykernel)",
   "language": "python",
   "name": "python3"
  },
  "language_info": {
   "codemirror_mode": {
    "name": "ipython",
    "version": 3
   },
   "file_extension": ".py",
   "mimetype": "text/x-python",
   "name": "python",
   "nbconvert_exporter": "python",
   "pygments_lexer": "ipython3",
   "version": "3.7.12"
  }
 },
 "nbformat": 4,
 "nbformat_minor": 1
}
