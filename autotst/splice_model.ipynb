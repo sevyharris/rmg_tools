{
 "cells": [
  {
   "cell_type": "code",
   "execution_count": null,
   "id": "fa982a6a",
   "metadata": {},
   "outputs": [],
   "source": [
    "import os\n",
    "import re\n",
    "import glob\n",
    "import rmgpy.species\n",
    "import rmgpy.chemkin\n",
    "from rmgpy.data.thermo import ThermoDatabase\n",
    "\n",
    "import numpy as np\n",
    "import matplotlib.pyplot as plt\n",
    "\n",
    "\n"
   ]
  },
  {
   "cell_type": "code",
   "execution_count": null,
   "id": "520703b7",
   "metadata": {},
   "outputs": [],
   "source": [
    "# load the model\n",
    "chemkin_path = \"/home/harris.se/rmg/rmg_tools/uncertainty/nheptane/chem_annotated.inp\"\n",
    "dictionary_path = \"/home/harris.se/rmg/rmg_tools/uncertainty/nheptane/species_dictionary.txt\"\n",
    "transport_path = \"/home/harris.se/rmg/rmg_tools/uncertainty/nheptane/tran.dat\"\n",
    "species_list, reaction_list = rmgpy.chemkin.load_chemkin_file(\n",
    "    chemkin_path,\n",
    "    dictionary_path=dictionary_path,\n",
    "    transport_path=transport_path\n",
    ")\n"
   ]
  },
  {
   "cell_type": "code",
   "execution_count": null,
   "id": "a2460a63",
   "metadata": {},
   "outputs": [],
   "source": [
    "# load the additional thermo library\n",
    "lib_path = \"/work/westgroup/harris.se/autoscience/dft/thermo/arkane_lib\"\n",
    "ark_thermo_database = ThermoDatabase()\n",
    "ark_thermo_database.load_libraries(lib_path)\n"
   ]
  },
  {
   "cell_type": "code",
   "execution_count": null,
   "id": "de7df6cc",
   "metadata": {},
   "outputs": [],
   "source": [
    "exclude_species_indices = [4, 17, 58]\n",
    "include_species_indices = [3, 68, 69, 71, 73, 77, 79, 80, 84]"
   ]
  },
  {
   "cell_type": "code",
   "execution_count": null,
   "id": "337406fd",
   "metadata": {},
   "outputs": [],
   "source": [
    "for idx in include_species_indices:\n",
    "    print(idx)\n",
    "    ref_species = rmgpy.species.Species(smiles=species_list[idx].molecule[0].smiles)\n",
    "    print(species_list[idx].thermo)\n",
    "    species_list[idx].thermo = ark_thermo_database.get_thermo_data(ref_species)\n",
    "    print(species_list[idx].thermo)\n",
    "    print()"
   ]
  },
  {
   "cell_type": "code",
   "execution_count": null,
   "id": "d68d00a8",
   "metadata": {},
   "outputs": [],
   "source": [
    "output_path = \"/work/westgroup/harris.se/autoscience/dft/thermo/arkane_lib/spliced.inp\"\n",
    "\n",
    "rmgpy.chemkin.save_chemkin_file(output_path, species_list, reaction_list, verbose=True, check_for_duplicates=True)"
   ]
  },
  {
   "cell_type": "code",
   "execution_count": null,
   "id": "1ce2fff4",
   "metadata": {},
   "outputs": [],
   "source": []
  }
 ],
 "metadata": {
  "kernelspec": {
   "display_name": "Python 3 (ipykernel)",
   "language": "python",
   "name": "python3"
  },
  "language_info": {
   "codemirror_mode": {
    "name": "ipython",
    "version": 3
   },
   "file_extension": ".py",
   "mimetype": "text/x-python",
   "name": "python",
   "nbconvert_exporter": "python",
   "pygments_lexer": "ipython3",
   "version": "3.7.10"
  }
 },
 "nbformat": 4,
 "nbformat_minor": 5
}
