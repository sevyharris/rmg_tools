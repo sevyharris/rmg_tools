{
 "cells": [
  {
   "cell_type": "code",
   "execution_count": null,
   "id": "54727b6f",
   "metadata": {},
   "outputs": [],
   "source": [
    "import os\n",
    "import re\n",
    "import glob\n",
    "import rmgpy.species\n",
    "import rmgpy.chemkin"
   ]
  },
  {
   "cell_type": "code",
   "execution_count": null,
   "id": "d9a06899",
   "metadata": {},
   "outputs": [],
   "source": [
    "# load the model\n",
    "chemkin_path = \"/home/harris.se/rmg/rmg_tools/uncertainty/nheptane/chem_annotated.inp\"\n",
    "dictionary_path = \"/home/harris.se/rmg/rmg_tools/uncertainty/nheptane/species_dictionary.txt\"\n",
    "transport_path = \"/home/harris.se/rmg/rmg_tools/uncertainty/nheptane/tran.dat\"\n",
    "species_list, reaction_list = rmgpy.chemkin.load_chemkin_file(\n",
    "    chemkin_path,\n",
    "    dictionary_path=dictionary_path,\n",
    "    transport_path=transport_path\n",
    ")\n"
   ]
  },
  {
   "cell_type": "code",
   "execution_count": null,
   "id": "35b7adc9",
   "metadata": {},
   "outputs": [],
   "source": [
    "base_dir = \"/work/westgroup/harris.se/autoscience/dft/\"\n",
    "species_dirs = glob.glob(os.path.join(base_dir, 'thermo', 'species*'))\n",
    "rmg_thermos = glob.glob(os.path.join(base_dir, 'thermo', 'species*', 'conformers', 'arkane', 'RMG_libraries', 'thermo.py'))\n",
    "\n",
    "reaction_dirs = glob.glob(os.path.join(base_dir, 'kinetics', 'reaction_*'))\n",
    "rmg_kinetics = glob.glob(os.path.join(base_dir, 'kinetics', 'reaction_*', 'conformers', 'arkane', 'RMG_libraries', 'library.py'))"
   ]
  },
  {
   "cell_type": "code",
   "execution_count": null,
   "id": "da07ded3",
   "metadata": {},
   "outputs": [],
   "source": [
    "completed_thermo_indices = []\n",
    "completed_kinetic_indices = []"
   ]
  },
  {
   "cell_type": "code",
   "execution_count": null,
   "id": "3077c090",
   "metadata": {
    "scrolled": true
   },
   "outputs": [],
   "source": [
    "print(\"Thermo completed for the following species:\")\n",
    "for thermo_path in rmg_thermos:\n",
    "    matches = re.search('species_(.*)/c', thermo_path)\n",
    "    print(int(matches[1]),\"\\t\", species_list[int(matches[1])])\n",
    "    completed_thermo_indices.append(int(matches[1]))"
   ]
  },
  {
   "cell_type": "code",
   "execution_count": null,
   "id": "7031a98e",
   "metadata": {},
   "outputs": [],
   "source": [
    "print(\"Thermo incomplete for the following species:\")\n",
    "for species_dir in species_dirs:\n",
    "    matches = re.search('species_(.*)', species_dir)\n",
    "    idx = int(matches[1])\n",
    "    if idx not in completed_thermo_indices:\n",
    "        print(idx,\"\\t\", species_list[idx])"
   ]
  },
  {
   "cell_type": "code",
   "execution_count": null,
   "id": "64c0c07d",
   "metadata": {},
   "outputs": [],
   "source": [
    "print(\"Kinetics completed for the following reactions:\")\n",
    "for kinetics_path in rmg_kinetics:\n",
    "    matches = re.search('reaction_(.*)/t', kinetics_path)\n",
    "    idx = int(matches[1])\n",
    "    print(int(matches[1]),\"\\t\", reaction_list[idx])\n",
    "    completed_kinetic_indices.append(int(matches[1]))"
   ]
  },
  {
   "cell_type": "code",
   "execution_count": null,
   "id": "b4ad47fc",
   "metadata": {},
   "outputs": [],
   "source": [
    "print(\"Kinetics incomplete for the following reactions:\")\n",
    "for reaction_dir in reaction_dirs:\n",
    "    matches = re.search('reaction_(.*)', reaction_dir)\n",
    "    idx = int(matches[1])\n",
    "    if idx not in completed_kinetic_indices:\n",
    "        print(idx,\"\\t\", reaction_list[idx])"
   ]
  },
  {
   "cell_type": "code",
   "execution_count": null,
   "id": "9a1a7261",
   "metadata": {},
   "outputs": [],
   "source": []
  }
 ],
 "metadata": {
  "kernelspec": {
   "display_name": "Python 3 (ipykernel)",
   "language": "python",
   "name": "python3"
  },
  "language_info": {
   "codemirror_mode": {
    "name": "ipython",
    "version": 3
   },
   "file_extension": ".py",
   "mimetype": "text/x-python",
   "name": "python",
   "nbconvert_exporter": "python",
   "pygments_lexer": "ipython3",
   "version": "3.7.10"
  }
 },
 "nbformat": 4,
 "nbformat_minor": 5
}
