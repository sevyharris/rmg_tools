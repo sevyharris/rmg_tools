{
 "cells": [
  {
   "cell_type": "code",
   "execution_count": null,
   "id": "0eb807cc",
   "metadata": {},
   "outputs": [],
   "source": [
    "import os\n",
    "import copy\n",
    "import glob\n",
    "\n",
    "import ase.io\n",
    "\n",
    "import rmgpy.species\n",
    "import rmgpy.chemkin\n",
    "\n",
    "from hotbit import Hotbit\n",
    "\n",
    "import autotst.species\n",
    "from autotst.calculator.gaussian import Gaussian\n",
    "\n",
    "import job_manager"
   ]
  },
  {
   "cell_type": "markdown",
   "id": "7dc431f2",
   "metadata": {},
   "source": [
    "## Get the species as an AutoTST Species\n",
    "\n",
    "In this example, we load the species from a chemkin model, first as an RMG species, then convert it to an AutoTST species"
   ]
  },
  {
   "cell_type": "code",
   "execution_count": null,
   "id": "1646fa6c",
   "metadata": {},
   "outputs": [],
   "source": [
    "# load the model\n",
    "chemkin_path = \"/home/harris.se/rmg/rmg_tools/uncertainty/nheptane/chem_annotated.inp\"\n",
    "dictionary_path = \"/home/harris.se/rmg/rmg_tools/uncertainty/nheptane/species_dictionary.txt\"\n",
    "transport_path = \"/home/harris.se/rmg/rmg_tools/uncertainty/nheptane/tran.dat\"\n",
    "species_list, reaction_list = rmgpy.chemkin.load_chemkin_file(\n",
    "    chemkin_path,\n",
    "    dictionary_path=dictionary_path,\n",
    "    transport_path=transport_path\n",
    ")\n",
    "print (f\"Loaded model with {len(species_list)} species and {len(reaction_list)} reactions\")"
   ]
  },
  {
   "cell_type": "code",
   "execution_count": null,
   "id": "6dad6b04",
   "metadata": {},
   "outputs": [],
   "source": [
    "# TODO connect the ranked list to this code\n",
    "species_index = 58  # 3 corresponds to n-heptane, the top species\n",
    "spec_rmg = species_list[species_index]\n",
    "spec = autotst.species.Species([spec_rmg.smiles])\n",
    "\n",
    "print(f\"loaded species {spec_rmg}\")\n",
    "thermo_base_dir = '/work/westgroup/harris.se/autoscience/dft/thermo'\n",
    "species_base_dir = os.path.join(thermo_base_dir, f'species_{species_index:04}')\n",
    "os.makedirs(species_base_dir, exist_ok=True)"
   ]
  },
  {
   "cell_type": "markdown",
   "id": "2d9d557b",
   "metadata": {},
   "source": [
    "# Generate Conformers"
   ]
  },
  {
   "cell_type": "markdown",
   "id": "057e58c1",
   "metadata": {},
   "source": [
    "## Do a quick first pass with a cheap calculator (tight binding DFT) like Hotbit"
   ]
  },
  {
   "cell_type": "code",
   "execution_count": null,
   "id": "cc9677a4",
   "metadata": {},
   "outputs": [],
   "source": [
    "spec.generate_conformers(ase_calculator=Hotbit())\n",
    "n_conformers = len(spec.conformers[spec_rmg.smiles])\n",
    "print(f'{n_conformers} found with Hotbit')"
   ]
  },
  {
   "cell_type": "markdown",
   "id": "2be21b39",
   "metadata": {},
   "source": [
    "## Do a more detailed calculation on the lowest energy conformers using Gaussian"
   ]
  },
  {
   "cell_type": "code",
   "execution_count": null,
   "id": "b96f7775",
   "metadata": {},
   "outputs": [],
   "source": [
    "conformer_dir = os.path.join(species_base_dir, 'conformers')\n",
    "# write Gaussian input files\n",
    "for i, cf in enumerate(spec.conformers[spec_rmg.smiles]):\n",
    "    gaussian = Gaussian(conformer=cf)\n",
    "    calc = gaussian.get_conformer_calc()\n",
    "    calc.label = f'conformer_{i:04}'\n",
    "\n",
    "    calc.directory = conformer_dir\n",
    "    calc.parameters.pop('scratch')\n",
    "    calc.parameters.pop('multiplicity')\n",
    "    calc.parameters['mult'] = cf.rmg_molecule.multiplicity\n",
    "    \n",
    "    calc.write_input(cf.ase_molecule)\n",
    "\n",
    "print(\"done\")"
   ]
  },
  {
   "cell_type": "code",
   "execution_count": null,
   "id": "361b086a",
   "metadata": {},
   "outputs": [],
   "source": [
    "# read the result back in\n",
    "f = open(calc.label + \".com\", \"r\")\n",
    "print(calc.label)\n",
    "print(\"\")\n",
    "for line in f.readlines():\n",
    "    print(line[:-1])"
   ]
  },
  {
   "cell_type": "code",
   "execution_count": null,
   "id": "ced2d63e",
   "metadata": {},
   "outputs": [],
   "source": [
    "# Make a file to run Gaussian\n",
    "slurm_run_file = os.path.join(conformer_dir, 'run.sh')\n",
    "slurm_settings = {\n",
    "    '--job-name': f'g16_conformers_{species_index}',\n",
    "    '--error': 'error.log',\n",
    "    '--output': 'output.log',\n",
    "    '--nodes': 1,\n",
    "    '--partition': 'west,short',\n",
    "    '--exclude': 'c5003',\n",
    "    '--mem': '20Gb',\n",
    "    '--time': '24:00:00',\n",
    "    '--cpus-per-task': 16,\n",
    "    '--array': f'0-{n_conformers}%40',\n",
    "}\n",
    "\n",
    "slurm_file_writer = job_manager.SlurmJobFile(\n",
    "    full_path=slurm_run_file,\n",
    ")\n",
    "slurm_file_writer.settings = slurm_settings\n",
    "\n",
    "slurm_file_writer.content = [\n",
    "    'export GAUSS_SCRDIR=/scratch/harris.se/guassian_scratch\\n',\n",
    "    'mkdir -p $GAUSS_SCRDIR\\n',\n",
    "    'module load gaussian/g16\\n',\n",
    "    'source /shared/centos7/gaussian/g16/bsd/g16.profile\\n\\n',\n",
    "\n",
    "    'RUN_i=$(printf \"%04.0f\" $(($SLURM_ARRAY_TASK_ID)))\\n',\n",
    "    'fname=\"conformer_${RUN_i}.com\"\\n\\n',\n",
    "\n",
    "    'g16 $fname\\n',\n",
    "]\n",
    "slurm_file_writer.write_file()\n",
    "\n",
    "# submit the job\n",
    "# gaussian_conformers_job = job_manager.SlurmJob()\n",
    "# slurm_cmd = f\"sbatch {slurm_run_file}\"\n",
    "# gaussian_conformers_job.submit(my_cmd)\n",
    "\n"
   ]
  },
  {
   "cell_type": "code",
   "execution_count": null,
   "id": "a2c84892",
   "metadata": {},
   "outputs": [],
   "source": [
    "conformer_dir"
   ]
  },
  {
   "cell_type": "code",
   "execution_count": null,
   "id": "9fa599bd",
   "metadata": {},
   "outputs": [],
   "source": [
    "print(my_conformers[0].get_xyz_block())"
   ]
  },
  {
   "cell_type": "markdown",
   "id": "f24f9a6b",
   "metadata": {},
   "source": [
    "# Arkane"
   ]
  },
  {
   "cell_type": "code",
   "execution_count": null,
   "id": "0c514320",
   "metadata": {},
   "outputs": [],
   "source": [
    "import autotst.calculator.statmech\n"
   ]
  },
  {
   "cell_type": "code",
   "execution_count": null,
   "id": "124108c3",
   "metadata": {},
   "outputs": [],
   "source": [
    "\n",
    "C5H11_1_autotst.conformers['[CH2]CCCC'][0]"
   ]
  },
  {
   "cell_type": "code",
   "execution_count": null,
   "id": "df432933",
   "metadata": {},
   "outputs": [],
   "source": [
    "stat = autotst.calculator.statmech.StatMech(0)\n",
    "stat.write_species_files(C5H11_1_autotst)"
   ]
  },
  {
   "cell_type": "code",
   "execution_count": null,
   "id": "0b2457d0",
   "metadata": {},
   "outputs": [],
   "source": [
    "dir(my_conformers[0])"
   ]
  },
  {
   "cell_type": "code",
   "execution_count": null,
   "id": "bb50e92f",
   "metadata": {},
   "outputs": [],
   "source": []
  }
 ],
 "metadata": {
  "kernelspec": {
   "display_name": "Python 3 (ipykernel)",
   "language": "python",
   "name": "python3"
  },
  "language_info": {
   "codemirror_mode": {
    "name": "ipython",
    "version": 3
   },
   "file_extension": ".py",
   "mimetype": "text/x-python",
   "name": "python",
   "nbconvert_exporter": "python",
   "pygments_lexer": "ipython3",
   "version": "3.7.10"
  }
 },
 "nbformat": 4,
 "nbformat_minor": 5
}
