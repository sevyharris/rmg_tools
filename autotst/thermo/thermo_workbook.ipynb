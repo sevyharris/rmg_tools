{
 "cells": [
  {
   "cell_type": "code",
   "execution_count": null,
   "id": "0eb807cc",
   "metadata": {},
   "outputs": [],
   "source": [
    "import rmgpy.species\n",
    "import rmgpy.chemkin\n",
    "import autotst.species\n",
    "from hotbit import Hotbit\n",
    "import ase.io\n",
    "import glob"
   ]
  },
  {
   "cell_type": "code",
   "execution_count": null,
   "id": "1646fa6c",
   "metadata": {},
   "outputs": [],
   "source": [
    "# load the model\n",
    "chemkin_path = \"/home/harris.se/rmg/rmg_tools/uncertainty/nheptane/chem_annotated.inp\"\n",
    "dictionary_path = \"/home/harris.se/rmg/rmg_tools/uncertainty/nheptane/species_dictionary.txt\"\n",
    "transport_path = \"/home/harris.se/rmg/rmg_tools/uncertainty/nheptane/tran.dat\"\n",
    "species_list, reaction_list = rmgpy.chemkin.load_chemkin_file(\n",
    "    chemkin_path,\n",
    "    dictionary_path=dictionary_path,\n",
    "    transport_path=transport_path\n",
    ")\n",
    "print (f\"Loaded model with {len(species_list)} species and {len(reaction_list)} reactions\")"
   ]
  },
  {
   "cell_type": "code",
   "execution_count": null,
   "id": "b3020557",
   "metadata": {},
   "outputs": [],
   "source": [
    "def get_species_index(list_of_species, name):\n",
    "    for i, sp in enumerate(list_of_species):\n",
    "        if str(sp) == name:\n",
    "            return i\n",
    "    return -1\n",
    "\n",
    "# for i, sp in enumerate(species_list):\n",
    "#     if 'C5H11' in str(sp):\n",
    "#         print(str(sp))"
   ]
  },
  {
   "cell_type": "code",
   "execution_count": null,
   "id": "26842656",
   "metadata": {},
   "outputs": [],
   "source": [
    "# C5H11_1_name = 'C5H11-1(422)'\n",
    "# C5H11_1 = species_list[get_species_index(species_list, C5H11_1_name)]\n",
    "# C5H11_1_autotst = autotst.species.Species([C5H11_1.smiles])\n",
    "# C5H11_1_autotst.generate_conformers(ase_calculator=Hotbit())"
   ]
  },
  {
   "cell_type": "code",
   "execution_count": null,
   "id": "e78e1213",
   "metadata": {},
   "outputs": [],
   "source": [
    "nheptane_rmg = species_list[get_species_index(species_list, 'nheptane(1)')]\n",
    "nheptane = autotst.species.Species([nheptane_rmg.smiles])"
   ]
  },
  {
   "cell_type": "code",
   "execution_count": null,
   "id": "cc9677a4",
   "metadata": {},
   "outputs": [],
   "source": [
    "nheptane.generate_conformers(ase_calculator=Hotbit())"
   ]
  },
  {
   "cell_type": "code",
   "execution_count": null,
   "id": "80982d2d",
   "metadata": {},
   "outputs": [],
   "source": [
    "# For each conformer, run Gaussian:\n"
   ]
  },
  {
   "cell_type": "code",
   "execution_count": null,
   "id": "2f3af231",
   "metadata": {},
   "outputs": [],
   "source": [
    "len(C5H11_1_autotst.conformers['[CH2]CCCC'])\n",
    "C5H11_1_autotst.conformers['[CH2]CCCC']"
   ]
  },
  {
   "cell_type": "code",
   "execution_count": null,
   "id": "df27ecd1",
   "metadata": {},
   "outputs": [],
   "source": [
    "# how to save the conformers so I don't have to repeat the hotbit calculation?\n",
    "xyz = C5H11_1_autotst.conformers['[CH2]CCCC'][0].get_xyz_block()\n",
    "print(xyz)"
   ]
  },
  {
   "cell_type": "code",
   "execution_count": null,
   "id": "d3dbb10d",
   "metadata": {},
   "outputs": [],
   "source": [
    "C5H11_1_autotst.conformers['[CH2]CCCC'][0]._ase_molecule"
   ]
  },
  {
   "cell_type": "code",
   "execution_count": null,
   "id": "2c3280c0",
   "metadata": {},
   "outputs": [],
   "source": []
  },
  {
   "cell_type": "code",
   "execution_count": null,
   "id": "48f889c0",
   "metadata": {},
   "outputs": [],
   "source": [
    "#save\n",
    "for i, cf in enumerate(C5H11_1_autotst.conformers['[CH2]CCCC']):\n",
    "    print(cf)\n",
    "    fname = f'C5H11_1_cf{i}.xyz'\n",
    "    ase.io.write(fname, C5H11_1_autotst.conformers['[CH2]CCCC'][i]._ase_molecule)"
   ]
  },
  {
   "cell_type": "code",
   "execution_count": null,
   "id": "727db0cd",
   "metadata": {},
   "outputs": [],
   "source": [
    "# C5H11_1_autotst.conformers['[CH2]CCCC'][2].view()\n",
    "C5H11_1_autotst.conformers['[CH2]CCCC'][2]"
   ]
  },
  {
   "cell_type": "code",
   "execution_count": null,
   "id": "06a9ff47",
   "metadata": {},
   "outputs": [],
   "source": [
    "dir(C5H11_1_autotst.conformers['[CH2]CCCC'][0])"
   ]
  },
  {
   "cell_type": "code",
   "execution_count": null,
   "id": "de48a3e5",
   "metadata": {},
   "outputs": [],
   "source": [
    "# load\n",
    "my_files = glob.glob('C5H11_1_cf*.xyz')\n",
    "my_conformers = []\n",
    "for i, fname in enumerate(my_files):\n",
    "    atoms = ase.io.read(fname)\n",
    "    new_cf = autotst.species.Conformer(smiles='[CH2]CCCC')\n",
    "    new_cf._ase_molecule = atoms\n",
    "    new_cf.update_coords_from(mol_type=\"ase\")\n",
    "    my_conformers.append(new_cf)"
   ]
  },
  {
   "cell_type": "code",
   "execution_count": null,
   "id": "f8ee69ef",
   "metadata": {},
   "outputs": [],
   "source": [
    "# my_conformers[0].view()"
   ]
  },
  {
   "cell_type": "code",
   "execution_count": null,
   "id": "e2515fa7",
   "metadata": {},
   "outputs": [],
   "source": [
    "from autotst.calculator.gaussian import Gaussian"
   ]
  },
  {
   "cell_type": "code",
   "execution_count": null,
   "id": "d3c3f89c",
   "metadata": {},
   "outputs": [],
   "source": [
    "gaussian = Gaussian(conformer=my_conformers[0])\n",
    "calc = gaussian.get_conformer_calc()\n",
    "calc.write_input(my_conformers[0].ase_molecule)\n",
    "f = open(calc.label + \".com\", \"r\")\n",
    "print(calc.label)\n",
    "print(\"\")\n",
    "for line in f.readlines():\n",
    "    print(line[:-1])"
   ]
  },
  {
   "cell_type": "code",
   "execution_count": null,
   "id": "0b6295ac",
   "metadata": {},
   "outputs": [],
   "source": [
    "gaussian = Gaussian(conformer=my_conformers[1])\n",
    "calc = gaussian.get_conformer_calc()\n",
    "calc.write_input(my_conformers[1].ase_molecule)\n",
    "f = open(calc.label + \".com\", \"r\")\n",
    "print(calc.label)\n",
    "print(\"\")\n",
    "for line in f.readlines():\n",
    "    print(line[:-1])"
   ]
  },
  {
   "cell_type": "code",
   "execution_count": null,
   "id": "004f8ff8",
   "metadata": {},
   "outputs": [],
   "source": [
    "from autotst.job.job import Job"
   ]
  },
  {
   "cell_type": "code",
   "execution_count": null,
   "id": "2090537d",
   "metadata": {},
   "outputs": [],
   "source": [
    "calc.scratch = '.'"
   ]
  },
  {
   "cell_type": "code",
   "execution_count": null,
   "id": "8f9accab",
   "metadata": {},
   "outputs": [],
   "source": [
    "job0 = Job()\n",
    "job0.write_input(my_conformers[0], calc)"
   ]
  },
  {
   "cell_type": "code",
   "execution_count": null,
   "id": "9fa599bd",
   "metadata": {},
   "outputs": [],
   "source": [
    "print(my_conformers[0].get_xyz_block())"
   ]
  },
  {
   "cell_type": "markdown",
   "id": "f24f9a6b",
   "metadata": {},
   "source": [
    "# Arkane"
   ]
  },
  {
   "cell_type": "code",
   "execution_count": null,
   "id": "0c514320",
   "metadata": {},
   "outputs": [],
   "source": [
    "import autotst.calculator.statmech\n"
   ]
  },
  {
   "cell_type": "code",
   "execution_count": null,
   "id": "124108c3",
   "metadata": {},
   "outputs": [],
   "source": [
    "\n",
    "C5H11_1_autotst.conformers['[CH2]CCCC'][0]"
   ]
  },
  {
   "cell_type": "code",
   "execution_count": null,
   "id": "df432933",
   "metadata": {},
   "outputs": [],
   "source": [
    "stat = autotst.calculator.statmech.StatMech(0)\n",
    "stat.write_species_files(C5H11_1_autotst)"
   ]
  },
  {
   "cell_type": "code",
   "execution_count": null,
   "id": "0b2457d0",
   "metadata": {},
   "outputs": [],
   "source": [
    "dir(my_conformers[0])"
   ]
  },
  {
   "cell_type": "code",
   "execution_count": null,
   "id": "bb50e92f",
   "metadata": {},
   "outputs": [],
   "source": []
  }
 ],
 "metadata": {
  "kernelspec": {
   "display_name": "Python 3 (ipykernel)",
   "language": "python",
   "name": "python3"
  },
  "language_info": {
   "codemirror_mode": {
    "name": "ipython",
    "version": 3
   },
   "file_extension": ".py",
   "mimetype": "text/x-python",
   "name": "python",
   "nbconvert_exporter": "python",
   "pygments_lexer": "ipython3",
   "version": "3.7.10"
  }
 },
 "nbformat": 4,
 "nbformat_minor": 5
}
