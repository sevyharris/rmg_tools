{
 "cells": [
  {
   "cell_type": "code",
   "execution_count": null,
   "id": "f9d9f8ee",
   "metadata": {},
   "outputs": [],
   "source": [
    "# look at results\n",
    "import ase.io.gaussian\n",
    "from ase.calculators.calculator import PropertyNotImplementedError\n",
    "\n",
    "import rmgpy.species\n",
    "import rmgpy.chemkin\n",
    "\n",
    "import glob\n",
    "import numpy as np\n",
    "\n",
    "\n",
    "import rmgpy.species\n",
    "import rmgpy.chemkin\n",
    "import autotst.species\n",
    "from autotst.calculator.gaussian import Gaussian\n",
    "import autotst.calculator.statmech\n",
    "\n",
    "import matplotlib.pyplot as plt"
   ]
  },
  {
   "cell_type": "code",
   "execution_count": null,
   "id": "1f4ebbde",
   "metadata": {},
   "outputs": [],
   "source": [
    "my_files = glob.glob('nheptane/*.log')\n",
    "my_files.sort()\n",
    "energies = np.zeros(len(my_files))\n",
    "for i, filename in enumerate(my_files):\n",
    "    with open(filename, 'r') as f:\n",
    "        try:\n",
    "            atoms = ase.io.gaussian.read_gaussian_out(f)\n",
    "            energy = atoms.get_potential_energy()\n",
    "            energies[i] = energy\n",
    "            print(filename, energy)\n",
    "        except IndexError:\n",
    "            print(f'Index Error: {filename}')\n",
    "        except PropertyNotImplementedError:\n",
    "            print(f'Missing: {filename}')"
   ]
  },
  {
   "cell_type": "code",
   "execution_count": null,
   "id": "713d5d54",
   "metadata": {},
   "outputs": [],
   "source": [
    "f = open('nheptane/cf7.log', 'r')\n",
    "my_obj = ase.io.gaussian.read_gaussian_out(f)\n",
    "print(my_obj.get_potential_energy())"
   ]
  },
  {
   "cell_type": "code",
   "execution_count": null,
   "id": "696c8e1e",
   "metadata": {},
   "outputs": [],
   "source": [
    "lowest = list(energies).index(np.min(energies))\n",
    "print(my_files[lowest])"
   ]
  },
  {
   "cell_type": "code",
   "execution_count": null,
   "id": "93fbb433",
   "metadata": {},
   "outputs": [],
   "source": [
    "%matplotlib inline\n",
    "plt.scatter(range(0, len(energies)), energies, marker='*')\n",
    "ax = plt.gca()\n",
    "ax.set_ylim([1.0001 * np.min(energies), -7519.2])\n",
    "plt.show()"
   ]
  },
  {
   "cell_type": "code",
   "execution_count": null,
   "id": "bb6a3cea",
   "metadata": {},
   "outputs": [],
   "source": [
    "# make a conformer object again\n",
    "# load\n",
    "lowest_cf_file = 'nheptane/cf39.log'\n",
    "with open(lowest_cf_file, 'r') as f:\n",
    "    atoms = ase.io.gaussian.read_gaussian_out(f)\n",
    "new_cf = autotst.species.Conformer(smiles='CCCCCCC')\n",
    "new_cf._ase_molecule = atoms\n",
    "new_cf.update_coords_from(mol_type=\"ase\")\n",
    "new_cf.view()"
   ]
  },
  {
   "cell_type": "code",
   "execution_count": null,
   "id": "dcd351a7",
   "metadata": {},
   "outputs": [],
   "source": [
    "gaussian = Gaussian(conformer=new_cf)\n",
    "calc = gaussian.get_rotor_calc()\n",
    "calc.label = f'rotor1'\n",
    "# calc.label = f'rotor{i:04}'"
   ]
  },
  {
   "cell_type": "code",
   "execution_count": null,
   "id": "d901c7d6",
   "metadata": {},
   "outputs": [],
   "source": [
    "calc.write_input(new_cf.ase_molecule)"
   ]
  },
  {
   "cell_type": "code",
   "execution_count": null,
   "id": "3c1b01ae",
   "metadata": {},
   "outputs": [],
   "source": [
    "dir(atoms)"
   ]
  },
  {
   "cell_type": "code",
   "execution_count": null,
   "id": "d67d4497",
   "metadata": {},
   "outputs": [],
   "source": [
    "atoms.get_potential_energy()\n",
    "# atoms.get_dipole_moment()"
   ]
  },
  {
   "cell_type": "code",
   "execution_count": null,
   "id": "4bf65cc9",
   "metadata": {},
   "outputs": [],
   "source": [
    "new_cf.get_torsions()"
   ]
  },
  {
   "cell_type": "code",
   "execution_count": null,
   "id": "c61b3dba",
   "metadata": {},
   "outputs": [],
   "source": [
    "rotor_stats = autotst.calculator.statmech.StatMech('fake_rxn')\n",
    "rotor_stats.get_rotor_info(new_cf, new_cf.get_torsions()[0])"
   ]
  },
  {
   "cell_type": "code",
   "execution_count": null,
   "id": "bba02c32",
   "metadata": {},
   "outputs": [],
   "source": [
    "def get_rotor_info(conformer, torsion, tor_log):\n",
    "    _, j, k, _ = torsion.atom_indices\n",
    "\n",
    "    # Adjusted since mol's IDs start from 0 while Arkane's start from 1\n",
    "    tor_center_adj = [j+1, k+1]\n",
    "\n",
    "\n",
    "    top_IDs = []\n",
    "    for num, tf in enumerate(torsion.mask):\n",
    "        if tf:\n",
    "            top_IDs.append(num)\n",
    "\n",
    "    # Adjusted to start from 1 instead of 0\n",
    "    top_IDs_adj = [ID+1 for ID in top_IDs]\n",
    "\n",
    "    info = f\"     HinderedRotor(scanLog=Log('{tor_log}'), pivots={tor_center_adj}, top={top_IDs_adj}, fit='fourier'),\"\n",
    "\n",
    "    return info"
   ]
  },
  {
   "cell_type": "code",
   "execution_count": null,
   "id": "8862e25f",
   "metadata": {},
   "outputs": [],
   "source": [
    "tor0_log = '/home/harris.se/rmg/rmg_tools/autotst/thermo/first_rotor/rotor0.log'\n",
    "for tor in new_cf.get_torsions():\n",
    "    print(get_rotor_info(new_cf, tor, tor0_log))\n",
    "\n",
    "# tor0_log = '/home/harris.se/rmg/rmg_tools/autotst/thermo/first_rotor/rotor0.log'\n",
    "# get_rotor_info(new_cf, new_cf.get_torsions()[0], tor0_log)"
   ]
  },
  {
   "cell_type": "code",
   "execution_count": null,
   "id": "7df21a69",
   "metadata": {},
   "outputs": [],
   "source": [
    "# load the model\n",
    "chemkin_path = \"/home/harris.se/rmg/rmg_tools/uncertainty/nheptane/chem_annotated.inp\"\n",
    "dictionary_path = \"/home/harris.se/rmg/rmg_tools/uncertainty/nheptane/species_dictionary.txt\"\n",
    "transport_path = \"/home/harris.se/rmg/rmg_tools/uncertainty/nheptane/tran.dat\"\n",
    "species_list, reaction_list = rmgpy.chemkin.load_chemkin_file(\n",
    "    chemkin_path,\n",
    "    dictionary_path=dictionary_path,\n",
    "    transport_path=transport_path\n",
    ")\n",
    "print (f\"Loaded model with {len(species_list)} species and {len(reaction_list)} reactions\")"
   ]
  },
  {
   "cell_type": "code",
   "execution_count": null,
   "id": "71db9a07",
   "metadata": {},
   "outputs": [],
   "source": [
    "def get_species_index(list_of_species, name):\n",
    "    for i, sp in enumerate(list_of_species):\n",
    "        if str(sp) == name:\n",
    "            return i\n",
    "    return -1"
   ]
  },
  {
   "cell_type": "code",
   "execution_count": null,
   "id": "3af8d3a7",
   "metadata": {},
   "outputs": [],
   "source": [
    "nheptane_rmg = species_list[get_species_index(species_list, 'nheptane(1)')]\n",
    "nheptane = autotst.species.Species([nheptane_rmg.smiles])"
   ]
  },
  {
   "cell_type": "code",
   "execution_count": null,
   "id": "1a1cc030",
   "metadata": {},
   "outputs": [],
   "source": [
    "nheptane.conformers['CCCCCCC'] = [new_cf]"
   ]
  },
  {
   "cell_type": "code",
   "execution_count": null,
   "id": "0fa50189",
   "metadata": {},
   "outputs": [],
   "source": [
    "stat = autotst.calculator.statmech.StatMech(0)\n",
    "stat.write_species_files(nheptane)"
   ]
  },
  {
   "cell_type": "code",
   "execution_count": null,
   "id": "86e7dd76",
   "metadata": {},
   "outputs": [],
   "source": [
    "nheptane.conformers"
   ]
  },
  {
   "cell_type": "code",
   "execution_count": null,
   "id": "d72aa7b4",
   "metadata": {},
   "outputs": [],
   "source": [
    "stat.write_conformer_file(new_cf)"
   ]
  },
  {
   "cell_type": "code",
   "execution_count": null,
   "id": "721feb8f",
   "metadata": {},
   "outputs": [],
   "source": [
    "stat.directory"
   ]
  },
  {
   "cell_type": "code",
   "execution_count": null,
   "id": "b8be51a1",
   "metadata": {},
   "outputs": [],
   "source": []
  }
 ],
 "metadata": {
  "kernelspec": {
   "display_name": "Python 3 (ipykernel)",
   "language": "python",
   "name": "python3"
  },
  "language_info": {
   "codemirror_mode": {
    "name": "ipython",
    "version": 3
   },
   "file_extension": ".py",
   "mimetype": "text/x-python",
   "name": "python",
   "nbconvert_exporter": "python",
   "pygments_lexer": "ipython3",
   "version": "3.7.10"
  }
 },
 "nbformat": 4,
 "nbformat_minor": 5
}
