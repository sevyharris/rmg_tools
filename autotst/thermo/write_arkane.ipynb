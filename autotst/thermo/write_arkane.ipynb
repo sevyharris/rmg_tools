{
 "cells": [
  {
   "cell_type": "code",
   "execution_count": null,
   "id": "d73d1061",
   "metadata": {},
   "outputs": [],
   "source": [
    "import glob\n",
    "import os\n",
    "import numpy as np\n",
    "\n",
    "import ase.io.gaussian\n",
    "from ase.calculators.calculator import PropertyNotImplementedError\n",
    "\n",
    "import rmgpy.species\n",
    "import rmgpy.chemkin\n",
    "\n",
    "import autotst.species\n",
    "from autotst.calculator.gaussian import Gaussian\n",
    "import autotst.calculator.statmech"
   ]
  },
  {
   "cell_type": "code",
   "execution_count": null,
   "id": "752b113d",
   "metadata": {},
   "outputs": [],
   "source": [
    "# load the model\n",
    "chemkin_path = \"/home/harris.se/rmg/rmg_tools/uncertainty/nheptane/chem_annotated.inp\"\n",
    "dictionary_path = \"/home/harris.se/rmg/rmg_tools/uncertainty/nheptane/species_dictionary.txt\"\n",
    "transport_path = \"/home/harris.se/rmg/rmg_tools/uncertainty/nheptane/tran.dat\"\n",
    "species_list, reaction_list = rmgpy.chemkin.load_chemkin_file(\n",
    "    chemkin_path,\n",
    "    dictionary_path=dictionary_path,\n",
    "    transport_path=transport_path\n",
    ")\n",
    "\n",
    "\n"
   ]
  },
  {
   "cell_type": "code",
   "execution_count": null,
   "id": "5faf03b5",
   "metadata": {},
   "outputs": [],
   "source": [
    "species_index = 3\n",
    "conformer_dir = f\"/work/westgroup/harris.se/autoscience/dft/thermo/species_{species_index:04}/conformers/\"\n",
    "conformer_files = glob.glob(os.path.join(conformer_dir, 'conformer_*.log'))\n"
   ]
  },
  {
   "cell_type": "code",
   "execution_count": null,
   "id": "e6f8a85f",
   "metadata": {},
   "outputs": [],
   "source": [
    "energies = np.zeros(len(conformer_files))\n",
    "for i, conformer_file in enumerate(conformer_files):\n",
    "    try:\n",
    "        with open(conformer_file, 'r') as f:\n",
    "            atoms = ase.io.gaussian.read_gaussian_out(f)\n",
    "            energy = atoms.get_potential_energy()\n",
    "            energies[i] = energy\n",
    "    except IndexError:\n",
    "        pass\n",
    "    except PropertyNotImplementedError:\n",
    "        pass\n",
    "\n",
    "lowest_idx = np.argmin(energies)"
   ]
  },
  {
   "cell_type": "code",
   "execution_count": null,
   "id": "060214c6",
   "metadata": {},
   "outputs": [],
   "source": [
    "# read in the lowest energy conformer\n",
    "with open(conformer_files[lowest_idx], 'r') as f:\n",
    "    atoms = ase.io.gaussian.read_gaussian_out(f)\n",
    "\n",
    "# make a conformer object again\n",
    "new_species = autotst.species.Species()\n",
    "new_cf = autotst.species.Conformer(rmg_molecule=species_list[species_index].molecule[0])\n",
    "new_cf._ase_molecule = atoms\n",
    "new_cf.update_coords_from(mol_type=\"ase\")\n",
    "new_cf.view()"
   ]
  },
  {
   "cell_type": "code",
   "execution_count": null,
   "id": "a2e37c78",
   "metadata": {},
   "outputs": [],
   "source": [
    "reaction = None\n",
    "arkane_dir = os.path.join(conformer_dir, 'arkane')\n",
    "os.makedirs(arkane_dir, exist_ok=True)\n",
    "stat = autotst.calculator.statmech.StatMech(reaction, directory=arkane_dir)\n",
    "stat.write_conformer_file2(new_cf, arkane_dir, conformer_files[lowest_idx], include_rotors=False)"
   ]
  },
  {
   "cell_type": "code",
   "execution_count": null,
   "id": "06edfaa6",
   "metadata": {},
   "outputs": [],
   "source": [
    "# write input file\n",
    "input_file = os.path.join(arkane_dir, 'input.py')\n",
    "formula = new_cf.rmg_molecule.get_formula()\n",
    "lines = [\n",
    "    '#!/usr/bin/env python\\n\\n',\n",
    "    f'modelChemistry = \"M06-2X/cc-pVTZ\"\\n',\n",
    "    'useHinderedRotors = False\\n',\n",
    "    'useBondCorrections = False\\n\\n',\n",
    "    \n",
    "    'frequencyScaleFactor = 0.982\\n',\n",
    "\n",
    "    f\"species('{formula}', '{os.path.basename(conformer_files[lowest_idx][:-4])}.py', structure=SMILES('{new_cf.rmg_molecule.smiles}'))\\n\\n\",\n",
    "\n",
    "    f\"thermo('{formula}', 'NASA')\\n\",\n",
    "]\n",
    "with open(input_file, 'w') as f:\n",
    "    f.writelines(lines)\n",
    "    "
   ]
  },
  {
   "cell_type": "code",
   "execution_count": null,
   "id": "78b3d89f",
   "metadata": {},
   "outputs": [],
   "source": []
  }
 ],
 "metadata": {
  "kernelspec": {
   "display_name": "Python 3 (ipykernel)",
   "language": "python",
   "name": "python3"
  },
  "language_info": {
   "codemirror_mode": {
    "name": "ipython",
    "version": 3
   },
   "file_extension": ".py",
   "mimetype": "text/x-python",
   "name": "python",
   "nbconvert_exporter": "python",
   "pygments_lexer": "ipython3",
   "version": "3.7.10"
  }
 },
 "nbformat": 4,
 "nbformat_minor": 5
}
