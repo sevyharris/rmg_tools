{
 "cells": [
  {
   "cell_type": "code",
   "execution_count": null,
   "id": "d73d1061",
   "metadata": {},
   "outputs": [],
   "source": [
    "import glob\n",
    "import os\n",
    "import numpy as np\n",
    "\n",
    "import ase.io"
   ]
  },
  {
   "cell_type": "code",
   "execution_count": null,
   "id": "752b113d",
   "metadata": {},
   "outputs": [],
   "source": [
    "conformer_dir = \"/work/westgroup/harris.se/autoscience/dft/thermo/species_0003/conformers/\""
   ]
  },
  {
   "cell_type": "code",
   "execution_count": null,
   "id": "5faf03b5",
   "metadata": {},
   "outputs": [],
   "source": [
    "conformer_files = glob.glob(os.path.join(conformer_dir, 'conformer_*.log'))"
   ]
  },
  {
   "cell_type": "code",
   "execution_count": null,
   "id": "e6f8a85f",
   "metadata": {},
   "outputs": [],
   "source": [
    "energies = np.zeros(len(conformer_files))\n",
    "for i, conformer_file in enumerate(conformer_files):\n",
    "    try:\n",
    "        atoms = ase.io.gaussian.read_gaussian_out(f)\n",
    "        energy = atoms.get_potential_energy()\n",
    "        energies[i] = energy\n",
    "        print(i, energy)\n",
    "    except IndexError:\n",
    "        print(f'Index Error: {conformer_file}')\n",
    "    except PropertyNotImplementedError:\n",
    "        print(f'Missing: {conformer_file}')\n",
    "#     print(conformer_file)"
   ]
  },
  {
   "cell_type": "code",
   "execution_count": null,
   "id": "060214c6",
   "metadata": {},
   "outputs": [],
   "source": []
  }
 ],
 "metadata": {
  "kernelspec": {
   "display_name": "Python 3 (ipykernel)",
   "language": "python",
   "name": "python3"
  },
  "language_info": {
   "codemirror_mode": {
    "name": "ipython",
    "version": 3
   },
   "file_extension": ".py",
   "mimetype": "text/x-python",
   "name": "python",
   "nbconvert_exporter": "python",
   "pygments_lexer": "ipython3",
   "version": "3.7.10"
  }
 },
 "nbformat": 4,
 "nbformat_minor": 5
}
