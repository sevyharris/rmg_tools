{
 "cells": [
  {
   "cell_type": "code",
   "execution_count": 1,
   "id": "0eb807cc",
   "metadata": {},
   "outputs": [
    {
     "name": "stderr",
     "output_type": "stream",
     "text": [
      "In /work/westgroup/harris.se/tst_env/lib/python3.7/site-packages/matplotlib/mpl-data/stylelib/_classic_test.mplstyle: \n",
      "The text.latex.preview rcparam was deprecated in Matplotlib 3.3 and will be removed two minor releases later.\n",
      "In /work/westgroup/harris.se/tst_env/lib/python3.7/site-packages/matplotlib/mpl-data/stylelib/_classic_test.mplstyle: \n",
      "The mathtext.fallback_to_cm rcparam was deprecated in Matplotlib 3.3 and will be removed two minor releases later.\n",
      "In /work/westgroup/harris.se/tst_env/lib/python3.7/site-packages/matplotlib/mpl-data/stylelib/_classic_test.mplstyle: Support for setting the 'mathtext.fallback_to_cm' rcParam is deprecated since 3.3 and will be removed two minor releases later; use 'mathtext.fallback : 'cm' instead.\n",
      "In /work/westgroup/harris.se/tst_env/lib/python3.7/site-packages/matplotlib/mpl-data/stylelib/_classic_test.mplstyle: \n",
      "The validate_bool_maybe_none function was deprecated in Matplotlib 3.3 and will be removed two minor releases later.\n",
      "In /work/westgroup/harris.se/tst_env/lib/python3.7/site-packages/matplotlib/mpl-data/stylelib/_classic_test.mplstyle: \n",
      "The savefig.jpeg_quality rcparam was deprecated in Matplotlib 3.3 and will be removed two minor releases later.\n",
      "In /work/westgroup/harris.se/tst_env/lib/python3.7/site-packages/matplotlib/mpl-data/stylelib/_classic_test.mplstyle: \n",
      "The keymap.all_axes rcparam was deprecated in Matplotlib 3.3 and will be removed two minor releases later.\n",
      "In /work/westgroup/harris.se/tst_env/lib/python3.7/site-packages/matplotlib/mpl-data/stylelib/_classic_test.mplstyle: \n",
      "The animation.avconv_path rcparam was deprecated in Matplotlib 3.3 and will be removed two minor releases later.\n",
      "In /work/westgroup/harris.se/tst_env/lib/python3.7/site-packages/matplotlib/mpl-data/stylelib/_classic_test.mplstyle: \n",
      "The animation.avconv_args rcparam was deprecated in Matplotlib 3.3 and will be removed two minor releases later.\n"
     ]
    }
   ],
   "source": [
    "import rmgpy.species\n",
    "import rmgpy.chemkin\n",
    "import autotst.species\n",
    "from hotbit import Hotbit\n",
    "import ase.io\n",
    "import glob\n",
    "from autotst.calculator.gaussian import Gaussian\n",
    "im"
   ]
  },
  {
   "cell_type": "code",
   "execution_count": 2,
   "id": "1646fa6c",
   "metadata": {},
   "outputs": [
    {
     "ename": "NameError",
     "evalue": "name 'rmgpy' is not defined",
     "output_type": "error",
     "traceback": [
      "\u001b[0;31m---------------------------------------------------------------------------\u001b[0m",
      "\u001b[0;31mNameError\u001b[0m                                 Traceback (most recent call last)",
      "\u001b[0;32m/tmp/ipykernel_31344/3876113437.py\u001b[0m in \u001b[0;36m<module>\u001b[0;34m\u001b[0m\n\u001b[1;32m      3\u001b[0m \u001b[0mdictionary_path\u001b[0m \u001b[0;34m=\u001b[0m \u001b[0;34m\"/home/harris.se/rmg/rmg_tools/uncertainty/nheptane/species_dictionary.txt\"\u001b[0m\u001b[0;34m\u001b[0m\u001b[0;34m\u001b[0m\u001b[0m\n\u001b[1;32m      4\u001b[0m \u001b[0mtransport_path\u001b[0m \u001b[0;34m=\u001b[0m \u001b[0;34m\"/home/harris.se/rmg/rmg_tools/uncertainty/nheptane/tran.dat\"\u001b[0m\u001b[0;34m\u001b[0m\u001b[0;34m\u001b[0m\u001b[0m\n\u001b[0;32m----> 5\u001b[0;31m species_list, reaction_list = rmgpy.chemkin.load_chemkin_file(\n\u001b[0m\u001b[1;32m      6\u001b[0m     \u001b[0mchemkin_path\u001b[0m\u001b[0;34m,\u001b[0m\u001b[0;34m\u001b[0m\u001b[0;34m\u001b[0m\u001b[0m\n\u001b[1;32m      7\u001b[0m     \u001b[0mdictionary_path\u001b[0m\u001b[0;34m=\u001b[0m\u001b[0mdictionary_path\u001b[0m\u001b[0;34m,\u001b[0m\u001b[0;34m\u001b[0m\u001b[0;34m\u001b[0m\u001b[0m\n",
      "\u001b[0;31mNameError\u001b[0m: name 'rmgpy' is not defined"
     ]
    }
   ],
   "source": [
    "# load the model\n",
    "chemkin_path = \"/home/harris.se/rmg/rmg_tools/uncertainty/nheptane/chem_annotated.inp\"\n",
    "dictionary_path = \"/home/harris.se/rmg/rmg_tools/uncertainty/nheptane/species_dictionary.txt\"\n",
    "transport_path = \"/home/harris.se/rmg/rmg_tools/uncertainty/nheptane/tran.dat\"\n",
    "species_list, reaction_list = rmgpy.chemkin.load_chemkin_file(\n",
    "    chemkin_path,\n",
    "    dictionary_path=dictionary_path,\n",
    "    transport_path=transport_path\n",
    ")\n",
    "print (f\"Loaded model with {len(species_list)} species and {len(reaction_list)} reactions\")"
   ]
  },
  {
   "cell_type": "code",
   "execution_count": 3,
   "id": "b3020557",
   "metadata": {},
   "outputs": [],
   "source": [
    "def get_species_index(list_of_species, name):\n",
    "    for i, sp in enumerate(list_of_species):\n",
    "        if str(sp) == name:\n",
    "            return i\n",
    "    return -1\n",
    "\n",
    "# for i, sp in enumerate(species_list):\n",
    "#     if 'C5H11' in str(sp):\n",
    "#         print(str(sp))"
   ]
  },
  {
   "cell_type": "code",
   "execution_count": 1,
   "id": "413f6536",
   "metadata": {},
   "outputs": [
    {
     "ename": "NameError",
     "evalue": "name 'species_list' is not defined",
     "output_type": "error",
     "traceback": [
      "\u001b[0;31m---------------------------------------------------------------------------\u001b[0m",
      "\u001b[0;31mNameError\u001b[0m                                 Traceback (most recent call last)",
      "\u001b[0;32m/tmp/ipykernel_31344/1991543858.py\u001b[0m in \u001b[0;36m<module>\u001b[0;34m\u001b[0m\n\u001b[0;32m----> 1\u001b[0;31m \u001b[0mnheptane_rmg\u001b[0m \u001b[0;34m=\u001b[0m \u001b[0mspecies_list\u001b[0m\u001b[0;34m[\u001b[0m\u001b[0mget_species_index\u001b[0m\u001b[0;34m(\u001b[0m\u001b[0mspecies_list\u001b[0m\u001b[0;34m,\u001b[0m \u001b[0;34m'nheptane(1)'\u001b[0m\u001b[0;34m)\u001b[0m\u001b[0;34m]\u001b[0m\u001b[0;34m\u001b[0m\u001b[0;34m\u001b[0m\u001b[0m\n\u001b[0m\u001b[1;32m      2\u001b[0m \u001b[0mnheptane\u001b[0m \u001b[0;34m=\u001b[0m \u001b[0mautotst\u001b[0m\u001b[0;34m.\u001b[0m\u001b[0mspecies\u001b[0m\u001b[0;34m.\u001b[0m\u001b[0mSpecies\u001b[0m\u001b[0;34m(\u001b[0m\u001b[0;34m[\u001b[0m\u001b[0mnheptane_rmg\u001b[0m\u001b[0;34m.\u001b[0m\u001b[0msmiles\u001b[0m\u001b[0;34m]\u001b[0m\u001b[0;34m)\u001b[0m\u001b[0;34m\u001b[0m\u001b[0;34m\u001b[0m\u001b[0m\n",
      "\u001b[0;31mNameError\u001b[0m: name 'species_list' is not defined"
     ]
    }
   ],
   "source": [
    "nheptane_rmg = species_list[get_species_index(species_list, 'nheptane(1)')]\n",
    "nheptane = autotst.species.Species([nheptane_rmg.smiles])"
   ]
  },
  {
   "cell_type": "code",
   "execution_count": 4,
   "id": "26842656",
   "metadata": {},
   "outputs": [],
   "source": [
    "C5H11_1_name = 'C5H11-1(422)'\n",
    "C5H11_1 = species_list[get_species_index(species_list, C5H11_1_name)]\n",
    "C5H11_1_autotst = autotst.species.Species([C5H11_1.smiles])\n",
    "# C5H11_1_autotst.generate_conformers(ase_calculator=Hotbit())"
   ]
  },
  {
   "cell_type": "code",
   "execution_count": 9,
   "id": "e78e1213",
   "metadata": {},
   "outputs": [],
   "source": [
    "nheptane_rmg = species_list[get_species_index(species_list, 'nheptane(1)')]\n",
    "nheptane = autotst.species.Species([nheptane_rmg.smiles])"
   ]
  },
  {
   "cell_type": "code",
   "execution_count": null,
   "id": "cc9677a4",
   "metadata": {},
   "outputs": [],
   "source": [
    "nheptane.generate_conformers(ase_calculator=Hotbit())"
   ]
  },
  {
   "cell_type": "code",
   "execution_count": 10,
   "id": "80982d2d",
   "metadata": {},
   "outputs": [
    {
     "data": {
      "text/plain": [
       "{'CCCCCCC': [<Conformer \"CCCCCCC\">]}"
      ]
     },
     "execution_count": 10,
     "metadata": {},
     "output_type": "execute_result"
    }
   ],
   "source": [
    "# For each conformer, run Gaussian:\n",
    "nheptane.conformers"
   ]
  },
  {
   "cell_type": "code",
   "execution_count": null,
   "id": "2f3af231",
   "metadata": {},
   "outputs": [],
   "source": [
    "len(C5H11_1_autotst.conformers['[CH2]CCCC'])\n",
    "C5H11_1_autotst.conformers['[CH2]CCCC']"
   ]
  },
  {
   "cell_type": "code",
   "execution_count": null,
   "id": "df27ecd1",
   "metadata": {},
   "outputs": [],
   "source": [
    "# how to save the conformers so I don't have to repeat the hotbit calculation?\n",
    "xyz = C5H11_1_autotst.conformers['[CH2]CCCC'][0].get_xyz_block()\n",
    "print(xyz)"
   ]
  },
  {
   "cell_type": "code",
   "execution_count": null,
   "id": "d3dbb10d",
   "metadata": {},
   "outputs": [],
   "source": [
    "C5H11_1_autotst.conformers['[CH2]CCCC'][0]._ase_molecule"
   ]
  },
  {
   "cell_type": "code",
   "execution_count": null,
   "id": "2c3280c0",
   "metadata": {},
   "outputs": [],
   "source": []
  },
  {
   "cell_type": "code",
   "execution_count": null,
   "id": "48f889c0",
   "metadata": {},
   "outputs": [],
   "source": [
    "#save\n",
    "for i, cf in enumerate(C5H11_1_autotst.conformers['[CH2]CCCC']):\n",
    "    print(cf)\n",
    "    fname = f'C5H11_1_cf{i}.xyz'\n",
    "    ase.io.write(fname, C5H11_1_autotst.conformers['[CH2]CCCC'][i]._ase_molecule)"
   ]
  },
  {
   "cell_type": "code",
   "execution_count": null,
   "id": "727db0cd",
   "metadata": {},
   "outputs": [],
   "source": [
    "# C5H11_1_autotst.conformers['[CH2]CCCC'][2].view()\n",
    "C5H11_1_autotst.conformers['[CH2]CCCC'][2]"
   ]
  },
  {
   "cell_type": "code",
   "execution_count": null,
   "id": "06a9ff47",
   "metadata": {},
   "outputs": [],
   "source": [
    "dir(C5H11_1_autotst.conformers['[CH2]CCCC'][0])"
   ]
  },
  {
   "cell_type": "code",
   "execution_count": 5,
   "id": "de48a3e5",
   "metadata": {},
   "outputs": [],
   "source": [
    "# load\n",
    "my_files = glob.glob('C5H11_1_cf*.xyz')\n",
    "my_conformers = []\n",
    "for i, fname in enumerate(my_files):\n",
    "    atoms = ase.io.read(fname)\n",
    "    new_cf = autotst.species.Conformer(smiles='[CH2]CCCC')\n",
    "    new_cf._ase_molecule = atoms\n",
    "    new_cf.update_coords_from(mol_type=\"ase\")\n",
    "    my_conformers.append(new_cf)"
   ]
  },
  {
   "cell_type": "code",
   "execution_count": null,
   "id": "f8ee69ef",
   "metadata": {},
   "outputs": [],
   "source": [
    "# my_conformers[0].view()"
   ]
  },
  {
   "cell_type": "code",
   "execution_count": 6,
   "id": "e2515fa7",
   "metadata": {},
   "outputs": [],
   "source": [
    "from autotst.calculator.gaussian import Gaussian"
   ]
  },
  {
   "cell_type": "code",
   "execution_count": 8,
   "id": "d3c3f89c",
   "metadata": {},
   "outputs": [
    {
     "name": "stdout",
     "output_type": "stream",
     "text": [
      "force not in ase_gaussian.parameters\n",
      "one\n",
      "\n",
      "%mem=5GB\n",
      "%nprocshared=24\n",
      "#P m062x/cc-pVTZ ! ASE formatted method and basis\n",
      "scratch(./species/[CH2]CCCC/conformers)\n",
      "multiplicity(2)\n",
      "opt=(calcfc,maxcycles=900,) freq IOP(7/33=1,2/16=3) scf=(maxcycle=900)\n",
      "\n",
      "Gaussian input prepared by ASE\n",
      "\n",
      "0 1\n",
      "C                 0.0703000000        0.4373000000       -0.5809000000\n",
      "C                -0.7557000000       -0.1017000000        0.5581000000\n",
      "C                 1.5362000000        0.5576000000       -0.2207000000\n",
      "C                -1.7945217800        0.9839032500        0.8772429800\n",
      "C                 2.2928342100       -0.3199207800       -1.1899320000\n",
      "H                -0.3490000000        1.3714000000       -0.9819000000\n",
      "H                 0.0250000000       -0.3073000000       -1.4166000000\n",
      "H                -1.3451031400       -0.9899697900        0.2715359900\n",
      "H                -0.1892708400       -0.3002714700        1.4623542300\n",
      "H                 1.7339765500        0.3121271700        0.8334437200\n",
      "H                 1.8144431300        1.6224414300       -0.4172052800\n",
      "H                -2.8002419200        0.5557484600        0.7368744800\n",
      "H                -1.7110612000        1.3303028300        1.9106968600\n",
      "H                -1.6145758900        1.8235881300        0.1883574900\n",
      "H                 3.3434955400       -0.0164522900       -1.3173596000\n",
      "H                 2.1767994400       -1.3697706400       -0.8374571500\n",
      "\n",
      "\n"
     ]
    }
   ],
   "source": [
    "gaussian = Gaussian(conformer=my_conformers[1])\n",
    "calc = gaussian.get_conformer_calc()\n",
    "calc.label = 'one'\n",
    "calc.write_input(my_conformers[1].ase_molecule)\n",
    "f = open(calc.label + \".com\", \"r\")\n",
    "print(calc.label)\n",
    "print(\"\")\n",
    "for line in f.readlines():\n",
    "    print(line[:-1])"
   ]
  },
  {
   "cell_type": "code",
   "execution_count": null,
   "id": "0b6295ac",
   "metadata": {},
   "outputs": [],
   "source": [
    "gaussian = Gaussian(conformer=my_conformers[1])\n",
    "calc = gaussian.get_conformer_calc()\n",
    "calc.write_input(my_conformers[1].ase_molecule)\n",
    "f = open(calc.label + \".com\", \"r\")\n",
    "print(calc.label)\n",
    "print(\"\")\n",
    "for line in f.readlines():\n",
    "    print(line[:-1])"
   ]
  },
  {
   "cell_type": "code",
   "execution_count": null,
   "id": "004f8ff8",
   "metadata": {},
   "outputs": [],
   "source": [
    "from autotst.job.job import Job"
   ]
  },
  {
   "cell_type": "code",
   "execution_count": null,
   "id": "2090537d",
   "metadata": {},
   "outputs": [],
   "source": [
    "calc.scratch = '.'"
   ]
  },
  {
   "cell_type": "code",
   "execution_count": null,
   "id": "8f9accab",
   "metadata": {},
   "outputs": [],
   "source": [
    "job0 = Job()\n",
    "job0.write_input(my_conformers[0], calc)"
   ]
  },
  {
   "cell_type": "code",
   "execution_count": null,
   "id": "9fa599bd",
   "metadata": {},
   "outputs": [],
   "source": [
    "print(my_conformers[0].get_xyz_block())"
   ]
  },
  {
   "cell_type": "markdown",
   "id": "f24f9a6b",
   "metadata": {},
   "source": [
    "# Arkane"
   ]
  },
  {
   "cell_type": "code",
   "execution_count": null,
   "id": "0c514320",
   "metadata": {},
   "outputs": [],
   "source": [
    "import autotst.calculator.statmech\n"
   ]
  },
  {
   "cell_type": "code",
   "execution_count": null,
   "id": "124108c3",
   "metadata": {},
   "outputs": [],
   "source": [
    "\n",
    "C5H11_1_autotst.conformers['[CH2]CCCC'][0]"
   ]
  },
  {
   "cell_type": "code",
   "execution_count": null,
   "id": "df432933",
   "metadata": {},
   "outputs": [],
   "source": [
    "stat = autotst.calculator.statmech.StatMech(0)\n",
    "stat.write_species_files(C5H11_1_autotst)"
   ]
  },
  {
   "cell_type": "code",
   "execution_count": null,
   "id": "0b2457d0",
   "metadata": {},
   "outputs": [],
   "source": [
    "dir(my_conformers[0])"
   ]
  },
  {
   "cell_type": "code",
   "execution_count": null,
   "id": "bb50e92f",
   "metadata": {},
   "outputs": [],
   "source": []
  }
 ],
 "metadata": {
  "kernelspec": {
   "display_name": "Python 3 (ipykernel)",
   "language": "python",
   "name": "python3"
  },
  "language_info": {
   "codemirror_mode": {
    "name": "ipython",
    "version": 3
   },
   "file_extension": ".py",
   "mimetype": "text/x-python",
   "name": "python",
   "nbconvert_exporter": "python",
   "pygments_lexer": "ipython3",
   "version": "3.7.10"
  }
 },
 "nbformat": 4,
 "nbformat_minor": 5
}
