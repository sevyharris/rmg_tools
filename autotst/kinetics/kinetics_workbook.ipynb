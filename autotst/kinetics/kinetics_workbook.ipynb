{
 "cells": [
  {
   "cell_type": "code",
   "execution_count": null,
   "id": "a0f8d145",
   "metadata": {},
   "outputs": [],
   "source": [
    "import os\n",
    "\n",
    "import rmgpy.species\n",
    "import rmgpy.chemkin\n",
    "import autotst.species\n",
    "import autotst.reaction\n",
    "import autotst.calculator.gaussian\n",
    "\n",
    "from hotbit import Hotbit\n",
    "import ase.io\n",
    "import glob"
   ]
  },
  {
   "cell_type": "code",
   "execution_count": null,
   "id": "41475326",
   "metadata": {},
   "outputs": [],
   "source": [
    "# load the model\n",
    "chemkin_path = \"/home/harris.se/rmg/rmg_tools/uncertainty/nheptane/chem_annotated.inp\"\n",
    "dictionary_path = \"/home/harris.se/rmg/rmg_tools/uncertainty/nheptane/species_dictionary.txt\"\n",
    "transport_path = \"/home/harris.se/rmg/rmg_tools/uncertainty/nheptane/tran.dat\"\n",
    "species_list, reaction_list = rmgpy.chemkin.load_chemkin_file(\n",
    "    chemkin_path,\n",
    "    dictionary_path=dictionary_path,\n",
    "    transport_path=transport_path\n",
    ")\n",
    "print (f\"Loaded model with {len(species_list)} species and {len(reaction_list)} reactions\")"
   ]
  },
  {
   "cell_type": "code",
   "execution_count": null,
   "id": "c70858d8",
   "metadata": {},
   "outputs": [],
   "source": [
    "rxn_idx = 186  # R recombo\n",
    "rxn_idx = 194\n",
    "rxn_idx = 274 # first H abstraction\n",
    "\n",
    "# rxn_idx = 236 another H abstraction\n",
    "\n",
    "\n",
    "\n",
    "\n",
    "rmg_rxn = reaction_list[rxn_idx]\n",
    "print(rmg_rxn)\n",
    "print(rmg_rxn.family)\n",
    "\n",
    "kinetics_base_dir = '/work/westgroup/harris.se/autoscience/dft/kinetics'\n",
    "reaction_base_dir = os.path.join(kinetics_base_dir, f'reaction_{rxn_idx:04}')\n",
    "os.makedirs(kinetics_base_dir, exist_ok=True)"
   ]
  },
  {
   "cell_type": "code",
   "execution_count": null,
   "id": "5f3eceb2",
   "metadata": {},
   "outputs": [],
   "source": [
    "def get_label(rmg_rxn):\n",
    "    label = ''\n",
    "    for reactant in rmg_rxn.reactants:\n",
    "        label += f'{reactant.smiles}+'\n",
    "    label = label[:-1]\n",
    "    label += '_'\n",
    "    for product in rmg_rxn.products:\n",
    "        label += f'{product.smiles}+'\n",
    "    label = label[:-1]\n",
    "    return label"
   ]
  },
  {
   "cell_type": "code",
   "execution_count": null,
   "id": "72a20a79",
   "metadata": {},
   "outputs": [],
   "source": [
    "label = get_label(rmg_rxn)\n",
    "print(label)"
   ]
  },
  {
   "cell_type": "code",
   "execution_count": null,
   "id": "7937eca9",
   "metadata": {},
   "outputs": [],
   "source": [
    "reaction = autotst.reaction.Reaction(label=label, rmg_reaction=rmg_rxn)\n",
    "print(reaction)"
   ]
  },
  {
   "cell_type": "code",
   "execution_count": null,
   "id": "75dbc469",
   "metadata": {},
   "outputs": [],
   "source": [
    "reaction.get_labeled_reaction()"
   ]
  },
  {
   "cell_type": "code",
   "execution_count": null,
   "id": "86bc2673",
   "metadata": {
    "scrolled": true
   },
   "outputs": [],
   "source": [
    "transition_states = reaction.ts[\"reverse\"]"
   ]
  },
  {
   "cell_type": "code",
   "execution_count": null,
   "id": "e33b41b6",
   "metadata": {},
   "outputs": [],
   "source": [
    "transition_states[0]"
   ]
  },
  {
   "cell_type": "code",
   "execution_count": null,
   "id": "034bc4c0",
   "metadata": {},
   "outputs": [],
   "source": [
    "my_ts = reaction.ts['reverse'][0]\n",
    "\n",
    "cf = autotst.species.Conformer(rmg_molecule=my_ts.rmg_molecule).get_rdkit_mol()"
   ]
  },
  {
   "cell_type": "code",
   "execution_count": null,
   "id": "33a5b946",
   "metadata": {},
   "outputs": [],
   "source": [
    "rdkit.Chem.rdDistGeom.EmbedMolecule(cf)"
   ]
  },
  {
   "cell_type": "code",
   "execution_count": null,
   "id": "e7673984",
   "metadata": {},
   "outputs": [],
   "source": [
    "m3 = rdkit.Chem.AddHs(cf)"
   ]
  },
  {
   "cell_type": "code",
   "execution_count": null,
   "id": "df7a0b49",
   "metadata": {},
   "outputs": [],
   "source": [
    "rdkit.Chem.AllChem.EmbedMolecule(m3,randomSeed=0xf00d)"
   ]
  },
  {
   "cell_type": "code",
   "execution_count": null,
   "id": "0e158543",
   "metadata": {},
   "outputs": [],
   "source": [
    "print(rdkit.Chem.MolToMolBlock(m3)) "
   ]
  },
  {
   "cell_type": "code",
   "execution_count": null,
   "id": "d14f6270",
   "metadata": {},
   "outputs": [],
   "source": [
    "rdkit.Chem.rdDistGeom.GetMoleculeBoundsMatrix(m3)"
   ]
  },
  {
   "cell_type": "code",
   "execution_count": null,
   "id": "58cfe914",
   "metadata": {},
   "outputs": [],
   "source": [
    "# print(cf.GetAtoms())\n",
    "cf.GetNumAtoms()"
   ]
  },
  {
   "cell_type": "code",
   "execution_count": null,
   "id": "d08afc91",
   "metadata": {},
   "outputs": [],
   "source": [
    "dir(cf)"
   ]
  },
  {
   "cell_type": "code",
   "execution_count": null,
   "id": "6a8cacc5",
   "metadata": {},
   "outputs": [],
   "source": [
    "my_ts.get_labels()"
   ]
  },
  {
   "cell_type": "code",
   "execution_count": null,
   "id": "3225dfa5",
   "metadata": {},
   "outputs": [],
   "source": [
    "import rdkit"
   ]
  },
  {
   "cell_type": "code",
   "execution_count": null,
   "id": "b3fb2627",
   "metadata": {},
   "outputs": [],
   "source": [
    "rdkit.Chem.r"
   ]
  },
  {
   "cell_type": "code",
   "execution_count": null,
   "id": "2b205657",
   "metadata": {},
   "outputs": [],
   "source": [
    "cf"
   ]
  },
  {
   "cell_type": "code",
   "execution_count": null,
   "id": "7f5dc937",
   "metadata": {},
   "outputs": [],
   "source": [
    "print(my_ts._rdkit_molecule)"
   ]
  },
  {
   "cell_type": "code",
   "execution_count": null,
   "id": "b9eb1991",
   "metadata": {},
   "outputs": [],
   "source": [
    "reaction.ts['reverse'][0].get_rdkit_mol()"
   ]
  },
  {
   "cell_type": "code",
   "execution_count": null,
   "id": "905e5b6f",
   "metadata": {},
   "outputs": [],
   "source": [
    "reaction.ts['reverse'][0].ase_molecule"
   ]
  },
  {
   "cell_type": "code",
   "execution_count": null,
   "id": "1b7e51fe",
   "metadata": {},
   "outputs": [],
   "source": [
    "reaction.ts['reverse'][0].get_geometries()"
   ]
  },
  {
   "cell_type": "code",
   "execution_count": null,
   "id": "26be19fd",
   "metadata": {},
   "outputs": [],
   "source": [
    "# # reactionnerate_conformers_all(ase_calculator=Hotbit())"
   ]
  },
  {
   "cell_type": "code",
   "execution_count": null,
   "id": "0195d06e",
   "metadata": {},
   "outputs": [],
   "source": [
    "for ts in reaction.ts['forward']:\n",
    "    print(ts)"
   ]
  },
  {
   "cell_type": "code",
   "execution_count": null,
   "id": "3c4b355d",
   "metadata": {},
   "outputs": [],
   "source": [
    "# overall calc\n",
    "ts_dir = os.path.join(reaction_base_dir, 'ts')\n",
    "# write Gaussian input files\n",
    "for i, ts in enumerate(reaction.ts['forward']):\n",
    "    gaussian = autotst.calculator.gaussian.Gaussian(conformer=ts)\n",
    "    calc = gaussian.get_overall_calc()\n",
    "    calc.label = f'shell_fwd_ts_{i:04}'\n",
    "\n",
    "    calc.directory = ts_dir\n",
    "    calc.parameters.pop('scratch')\n",
    "    calc.parameters.pop('multiplicity')\n",
    "    calc.parameters['mult'] = ts.rmg_molecule.multiplicity\n",
    "    \n",
    "    calc.write_input(ts.ase_molecule)\n",
    "\n",
    "print(\"done\")"
   ]
  },
  {
   "cell_type": "code",
   "execution_count": null,
   "id": "cdfe670a",
   "metadata": {},
   "outputs": [],
   "source": [
    "# read it back in\n",
    "with open(calc.label + \".com\", \"r\") as f:\n",
    "    print(\"\")\n",
    "    for line in f.readlines():\n",
    "        print(line[:-1])"
   ]
  },
  {
   "cell_type": "code",
   "execution_count": null,
   "id": "672f2907",
   "metadata": {},
   "outputs": [],
   "source": [
    "# Get more detailed results in Gaussian"
   ]
  },
  {
   "cell_type": "code",
   "execution_count": null,
   "id": "00c599f5",
   "metadata": {},
   "outputs": [],
   "source": []
  }
 ],
 "metadata": {
  "kernelspec": {
   "display_name": "Python 3 (ipykernel)",
   "language": "python",
   "name": "python3"
  },
  "language_info": {
   "codemirror_mode": {
    "name": "ipython",
    "version": 3
   },
   "file_extension": ".py",
   "mimetype": "text/x-python",
   "name": "python",
   "nbconvert_exporter": "python",
   "pygments_lexer": "ipython3",
   "version": "3.7.10"
  }
 },
 "nbformat": 4,
 "nbformat_minor": 5
}
