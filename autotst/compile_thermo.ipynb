{
 "cells": [
  {
   "cell_type": "code",
   "execution_count": null,
   "id": "fa982a6a",
   "metadata": {},
   "outputs": [],
   "source": [
    "import os\n",
    "import re\n",
    "import glob\n",
    "import rmgpy.species\n",
    "import rmgpy.chemkin\n",
    "from rmgpy.data.thermo import ThermoDatabase\n",
    "\n",
    "import numpy as np\n",
    "import matplotlib.pyplot as plt\n",
    "from collections import OrderedDict\n",
    "\n"
   ]
  },
  {
   "cell_type": "code",
   "execution_count": null,
   "id": "520703b7",
   "metadata": {},
   "outputs": [],
   "source": [
    "# load the model\n",
    "chemkin_path = \"/home/harris.se/rmg/rmg_tools/uncertainty/nheptane/chem_annotated.inp\"\n",
    "dictionary_path = \"/home/harris.se/rmg/rmg_tools/uncertainty/nheptane/species_dictionary.txt\"\n",
    "transport_path = \"/home/harris.se/rmg/rmg_tools/uncertainty/nheptane/tran.dat\"\n",
    "species_list, reaction_list = rmgpy.chemkin.load_chemkin_file(\n",
    "    chemkin_path,\n",
    "    dictionary_path=dictionary_path,\n",
    "    transport_path=transport_path\n",
    ")\n"
   ]
  },
  {
   "cell_type": "code",
   "execution_count": null,
   "id": "1a13175d",
   "metadata": {},
   "outputs": [],
   "source": [
    "base_dir = \"/work/westgroup/harris.se/autoscience/dft/\"\n",
    "species_dirs = glob.glob(os.path.join(base_dir, 'thermo', 'species*'))\n",
    "rmg_thermos = glob.glob(os.path.join(base_dir, 'thermo', 'species*', 'conformers', 'arkane', 'RMG_libraries', 'thermo.py'))\n",
    "thermo_libs = glob.glob(os.path.join(base_dir, 'thermo', 'species*', 'conformers', 'arkane', 'RMG_libraries'))"
   ]
  },
  {
   "cell_type": "code",
   "execution_count": null,
   "id": "7c618d9b",
   "metadata": {},
   "outputs": [],
   "source": [
    "completed_thermo_indices = []"
   ]
  },
  {
   "cell_type": "code",
   "execution_count": null,
   "id": "5ae0f73f",
   "metadata": {
    "scrolled": true
   },
   "outputs": [],
   "source": [
    "print(\"Thermo completed for the following species:\")\n",
    "for thermo_path in rmg_thermos:\n",
    "    matches = re.search('species_(.*)/c', thermo_path)\n",
    "    print(int(matches[1]),\"\\t\", species_list[int(matches[1])])\n",
    "    completed_thermo_indices.append(int(matches[1]))"
   ]
  },
  {
   "cell_type": "code",
   "execution_count": null,
   "id": "95b24b7a",
   "metadata": {},
   "outputs": [],
   "source": [
    "print(\"Thermo incomplete for the following species:\")\n",
    "for species_dir in species_dirs:\n",
    "    matches = re.search('species_(.*)', species_dir)\n",
    "    idx = int(matches[1])\n",
    "    if idx not in completed_thermo_indices:\n",
    "        print(idx,\"\\t\", species_list[idx])"
   ]
  },
  {
   "cell_type": "code",
   "execution_count": null,
   "id": "e3da7600",
   "metadata": {},
   "outputs": [],
   "source": [
    "rmg_thermos"
   ]
  },
  {
   "cell_type": "code",
   "execution_count": null,
   "id": "24880cc6",
   "metadata": {},
   "outputs": [],
   "source": [
    "# Load the Arkane thermo\n",
    "entries = []\n",
    "for i, lib_path in enumerate(thermo_libs):\n",
    "    ark_thermo_database = ThermoDatabase()\n",
    "    ark_thermo_database.load_libraries(\n",
    "        lib_path,\n",
    "    )\n",
    "    try:\n",
    "        for key in ark_thermo_database.libraries['thermo'].entries.keys():\n",
    "    #     print(key)\n",
    "    #     print(ark_thermo_database.libraries['thermo'].entries[key])\n",
    "            entry = ark_thermo_database.libraries['thermo'].entries[key]\n",
    "            entry.index = i\n",
    "            entry.label += f'_{i}'\n",
    "            entries.append(entry)\n",
    "    except KeyError:\n",
    "        print(ark_thermo_database.libraries.keys())"
   ]
  },
  {
   "cell_type": "code",
   "execution_count": null,
   "id": "56158932",
   "metadata": {},
   "outputs": [],
   "source": [
    "entries"
   ]
  },
  {
   "cell_type": "code",
   "execution_count": null,
   "id": "8a6fed2c",
   "metadata": {},
   "outputs": [],
   "source": [
    "ark_thermo_database.libraries['thermo'].entries = OrderedDict()"
   ]
  },
  {
   "cell_type": "code",
   "execution_count": null,
   "id": "5933ce75",
   "metadata": {},
   "outputs": [],
   "source": [
    "for entry in entries:\n",
    "    ark_thermo_database.libraries['thermo'].entries[entry.label] = entry"
   ]
  },
  {
   "cell_type": "code",
   "execution_count": null,
   "id": "880bb201",
   "metadata": {},
   "outputs": [],
   "source": [
    "ark_thermo_database.libraries['thermo'].entries"
   ]
  },
  {
   "cell_type": "code",
   "execution_count": null,
   "id": "32034517",
   "metadata": {},
   "outputs": [],
   "source": [
    "output_path = \"/work/westgroup/harris.se/autoscience/dft/thermo/\"\n",
    "ark_thermo_database.save_libraries(output_path)"
   ]
  },
  {
   "cell_type": "code",
   "execution_count": null,
   "id": "d68d00a8",
   "metadata": {},
   "outputs": [],
   "source": []
  }
 ],
 "metadata": {
  "kernelspec": {
   "display_name": "Python 3 (ipykernel)",
   "language": "python",
   "name": "python3"
  },
  "language_info": {
   "codemirror_mode": {
    "name": "ipython",
    "version": 3
   },
   "file_extension": ".py",
   "mimetype": "text/x-python",
   "name": "python",
   "nbconvert_exporter": "python",
   "pygments_lexer": "ipython3",
   "version": "3.7.10"
  }
 },
 "nbformat": 4,
 "nbformat_minor": 5
}
