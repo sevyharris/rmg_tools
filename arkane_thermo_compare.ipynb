{
 "cells": [
  {
   "cell_type": "code",
   "execution_count": null,
   "id": "98f50898",
   "metadata": {},
   "outputs": [],
   "source": [
    "import numpy as np\n",
    "import matplotlib.pyplot as plt\n",
    "import matplotlib\n",
    "from rmgpy.data.thermo import ThermoDatabase\n",
    "from rmgpy.species import Species\n",
    "\n",
    "%matplotlib inline  # to embed the plot in the Jupyter Notebook because I messed up my settings a while ago"
   ]
  },
  {
   "cell_type": "code",
   "execution_count": null,
   "id": "d792a9e7",
   "metadata": {},
   "outputs": [],
   "source": [
    "arkane_thermo_file = \"/home/moon/rmg/my_examples/arkane_co2/RMG_libraries/thermo.py\"\n"
   ]
  },
  {
   "cell_type": "code",
   "execution_count": null,
   "id": "2e1aec4a",
   "metadata": {},
   "outputs": [],
   "source": [
    "library_path = \"/home/moon/rmg/RMG-database/input/thermo/\"\n",
    "thermo_database = ThermoDatabase()\n",
    "thermo_database.load(\n",
    "    library_path,\n",
    "    libraries=[\n",
    "#         'primaryThermoLibrary',\n",
    "        'GRI-Mech3.0',\n",
    "    ],\n",
    "    depository=False,\n",
    "    surface=False)"
   ]
  },
  {
   "cell_type": "code",
   "execution_count": null,
   "id": "92b120b5",
   "metadata": {},
   "outputs": [],
   "source": [
    "my_species = Species(smiles=\"O=C=O\")\n",
    "my_species.thermo = thermo_database.get_thermo_data(my_species)  # I still don't know the proper way to do this line"
   ]
  },
  {
   "cell_type": "code",
   "execution_count": null,
   "id": "e1778d4f",
   "metadata": {},
   "outputs": [],
   "source": []
  },
  {
   "cell_type": "code",
   "execution_count": null,
   "id": "225f3f50",
   "metadata": {},
   "outputs": [],
   "source": [
    "T = np.linspace(300.0, 1000.0, 100)\n",
    "H = np.zeros(len(T))\n",
    "for i, T_ in enumerate(T):\n",
    "    H[i] = my_species.get_enthalpy(T_)"
   ]
  },
  {
   "cell_type": "code",
   "execution_count": null,
   "id": "57f118af",
   "metadata": {},
   "outputs": [],
   "source": [
    "# matplotlib.use('Qt5Agg')\n",
    "# plt.ion()\n",
    "\n",
    "plt.plot(T, H)\n",
    "# plt.show()"
   ]
  },
  {
   "cell_type": "code",
   "execution_count": null,
   "id": "3587b643",
   "metadata": {},
   "outputs": [],
   "source": []
  },
  {
   "cell_type": "code",
   "execution_count": null,
   "id": "0ef50548",
   "metadata": {},
   "outputs": [],
   "source": []
  }
 ],
 "metadata": {
  "kernelspec": {
   "display_name": "Python 3 (ipykernel)",
   "language": "python",
   "name": "python3"
  },
  "language_info": {
   "codemirror_mode": {
    "name": "ipython",
    "version": 3
   },
   "file_extension": ".py",
   "mimetype": "text/x-python",
   "name": "python",
   "nbconvert_exporter": "python",
   "pygments_lexer": "ipython3",
   "version": "3.7.11"
  }
 },
 "nbformat": 4,
 "nbformat_minor": 5
}
