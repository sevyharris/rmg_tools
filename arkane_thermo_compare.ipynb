{
 "cells": [
  {
   "cell_type": "code",
   "execution_count": null,
   "id": "441b12aa",
   "metadata": {},
   "outputs": [],
   "source": [
    "import numpy as np\n",
    "import matplotlib.pyplot as plt\n",
    "import matplotlib\n",
    "from rmgpy.data.thermo import ThermoDatabase\n",
    "from rmgpy.species import Species\n"
   ]
  },
  {
   "cell_type": "code",
   "execution_count": null,
   "id": "0cfc19e6",
   "metadata": {},
   "outputs": [],
   "source": [
    "# Specify Input Parameters\n",
    "species_smiles = \"O=C=O\"\n",
    "ark_thermo_dir = \"/home/moon/rmg/my_examples/arkane_co2/RMG_libraries\"\n",
    "ref_lib = 'GRI-Mech3.0'"
   ]
  },
  {
   "cell_type": "code",
   "execution_count": null,
   "id": "49474a5f",
   "metadata": {},
   "outputs": [],
   "source": [
    "# Load the reference thermo\n",
    "ref_library_path = \"/home/moon/rmg/RMG-database/input/thermo/\"\n",
    "ref_thermo_database = ThermoDatabase()\n",
    "ref_thermo_database.load(\n",
    "    ref_library_path,\n",
    "    libraries=[\n",
    "        ref_lib,\n",
    "    ],\n",
    "    depository=False,\n",
    "    surface=False\n",
    ")"
   ]
  },
  {
   "cell_type": "code",
   "execution_count": null,
   "id": "3bb577d6",
   "metadata": {},
   "outputs": [],
   "source": [
    "# Load the Arkane thermo\n",
    "ark_thermo_database = ThermoDatabase()\n",
    "ark_thermo_database.load_libraries(\n",
    "    ark_thermo_dir,\n",
    ")"
   ]
  },
  {
   "cell_type": "code",
   "execution_count": null,
   "id": "ca72a792",
   "metadata": {},
   "outputs": [],
   "source": [
    "ref_species = Species(smiles=species_smiles)\n",
    "ref_species.thermo = ref_thermo_database.get_thermo_data(ref_species)  # I still don't know the proper way to do this line"
   ]
  },
  {
   "cell_type": "code",
   "execution_count": null,
   "id": "ea7cab2c",
   "metadata": {},
   "outputs": [],
   "source": [
    "ark_species = Species(smiles=species_smiles)\n",
    "ark_species.thermo = ark_thermo_database.get_thermo_data(ark_species)"
   ]
  },
  {
   "cell_type": "code",
   "execution_count": null,
   "id": "3959323b",
   "metadata": {},
   "outputs": [],
   "source": [
    "# Calculate H, S, and Cp\n",
    "T = np.linspace(300.0, 3000.0, 100)\n",
    "H_ref = np.zeros(len(T))\n",
    "H_ark = np.zeros(len(T))\n",
    "S_ref = np.zeros(len(T))\n",
    "S_ark = np.zeros(len(T))\n",
    "Cp_ref = np.zeros(len(T))\n",
    "Cp_ark = np.zeros(len(T))\n",
    "\n",
    "T_ref = 273.0\n",
    "H0_ref = ref_species.get_enthalpy(T_ref)\n",
    "H0_ark = ark_species.get_enthalpy(T_ref)\n",
    "for i, T_ in enumerate(T):\n",
    "    H_ref[i] = ref_species.get_enthalpy(T_) - H0_ref\n",
    "    H_ark[i] = ark_species.get_enthalpy(T_) - H0_ark\n",
    "    S_ref[i] = ref_species.get_entropy(T_)\n",
    "    S_ark[i] = ark_species.get_entropy(T_)\n",
    "    Cp_ref[i] = ref_species.get_heat_capacity(T_)\n",
    "    Cp_ark[i] = ark_species.get_heat_capacity(T_)"
   ]
  },
  {
   "cell_type": "code",
   "execution_count": null,
   "id": "46c28c6a",
   "metadata": {},
   "outputs": [],
   "source": [
    "# Plot Enthalpy\n",
    "# to embed the plot in the Jupyter Notebook because I messed up my settings a while ago\n",
    "%matplotlib inline\n",
    "plt.plot(T, H_ref, T, H_ark)\n",
    "plt.legend([ref_lib, 'Arkane'])\n",
    "plt.xlabel('Temperature (K)')\n",
    "plt.ylabel('Enthalpy - H0 (J/mol)')"
   ]
  },
  {
   "cell_type": "code",
   "execution_count": null,
   "id": "8f49786d",
   "metadata": {},
   "outputs": [],
   "source": [
    "# Plot Entropy\n",
    "plt.plot(T, S_ref, T, S_ark)\n",
    "plt.legend([ref_lib, 'Arkane'])\n",
    "plt.xlabel('Temperature (K)')\n",
    "plt.ylabel('Entropy (J/(mol*K))')"
   ]
  },
  {
   "cell_type": "code",
   "execution_count": null,
   "id": "da855098",
   "metadata": {},
   "outputs": [],
   "source": [
    "# Plot Heat Capacity\n",
    "# to embed the plot in the Jupyter Notebook because I messed up my settings a while ago\n",
    "%matplotlib inline\n",
    "plt.plot(T, Cp_ref, T, Cp_ark)\n",
    "plt.legend([ref_lib, 'Arkane'])\n",
    "plt.xlabel('Temperature (K)')\n",
    "plt.ylabel('Heat Capacity (J/(mol*K))')"
   ]
  },
  {
   "cell_type": "code",
   "execution_count": null,
   "id": "2845a3e4",
   "metadata": {},
   "outputs": [],
   "source": []
  }
 ],
 "metadata": {
  "kernelspec": {
   "display_name": "Python 3 (ipykernel)",
   "language": "python",
   "name": "python3"
  },
  "language_info": {
   "codemirror_mode": {
    "name": "ipython",
    "version": 3
   },
   "file_extension": ".py",
   "mimetype": "text/x-python",
   "name": "python",
   "nbconvert_exporter": "python",
   "pygments_lexer": "ipython3",
   "version": "3.7.11"
  }
 },
 "nbformat": 4,
 "nbformat_minor": 5
}
