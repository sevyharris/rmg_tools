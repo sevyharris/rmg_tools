{
 "cells": [
  {
   "cell_type": "code",
   "execution_count": 1,
   "id": "6669eb61",
   "metadata": {},
   "outputs": [],
   "source": [
    "# script to compare the transport parameters of each species"
   ]
  },
  {
   "cell_type": "code",
   "execution_count": 20,
   "id": "7bdd6de0",
   "metadata": {},
   "outputs": [],
   "source": [
    "import numpy as np\n",
    "\n",
    "import cantera as ct\n",
    "import rmgpy.chemkin"
   ]
  },
  {
   "cell_type": "code",
   "execution_count": 8,
   "id": "a54ebc8c",
   "metadata": {},
   "outputs": [],
   "source": [
    "# load David's halogen-truncated 2-BTP model\n",
    "# https://github.com/comocheng/halogen_models/tree/main/combustion_symposium_paper/supporting_material\n",
    "\n",
    "RMG_chemkin_path = 'models/RMG_no_halogens/no_halogens.inp'\n",
    "RMG_dictionary_path = 'models/RMG_no_halogens/no_halogens_dict.txt'\n",
    "RMG_transport_path = 'models/RMG_no_halogens/no_halogens_tran.dat'\n",
    "RMG_cti_path = 'models/RMG_no_halogens/no_halogens.cti'\n",
    "\n",
    "# RMG_species_list, RMG_reaction_list = rmgpy.chemkin.load_chemkin_file(RMG_chemkin_path, dictionary_path=RMG_dictionary_path, transport_path=RMG_transport_path)\n",
    "RMG_gas = ct.Solution(RMG_cti_path)\n",
    "RMG_dict = rmgpy.chemkin.load_species_dictionary(RMG_dictionary_path)"
   ]
  },
  {
   "cell_type": "code",
   "execution_count": 10,
   "id": "ddb8e41a",
   "metadata": {},
   "outputs": [
    {
     "name": "stdout",
     "output_type": "stream",
     "text": [
      "CanteraWarning: NasaPoly2::validate: \n",
      "For species CH2OCH, discontinuity in cp/R detected at Tmid = 500.0\n",
      "\tValue computed using low-temperature polynomial:  8.393471510000001\n",
      "\tValue computed using high-temperature polynomial: 9.1801039121875\n",
      "\n",
      "CanteraWarning: NasaPoly2::validate: \n",
      "For species CH2OCH, discontinuity in h/RT detected at Tmid = 500.0\n",
      "\tValue computed using low-temperature polynomial:  42.199147089791666\n",
      "\tValue computed using high-temperature polynomial: 41.961461604875005\n",
      "\n",
      "CanteraWarning: NasaPoly2::validate: \n",
      "For species CH2OCH, discontinuity in s/R detected at Tmid = 500.0\n",
      "\tValue computed using low-temperature polynomial:  33.70692865946735\n",
      "\tValue computed using high-temperature polynomial: 33.51209988778391\n",
      "\n",
      "CanteraWarning: NasaPoly2::validate: \n",
      "For species C4H5-2, discontinuity in h/RT detected at Tmid = 1000.0\n",
      "\tValue computed using low-temperature polynomial:  47.65235236593109\n",
      "\tValue computed using high-temperature polynomial: 48.43623165666667\n",
      "\n",
      "CanteraWarning: NasaPoly2::validate: \n",
      "For species C4H5-2, discontinuity in s/R detected at Tmid = 1000.0\n",
      "\tValue computed using low-temperature polynomial:  52.42918829260522\n",
      "\tValue computed using high-temperature polynomial: 54.320817046995025\n",
      "\n",
      "CanteraWarning: NasaPoly2::validate: \n",
      "For species C2H3CHOCH2, discontinuity in h/RT detected at Tmid = 1000.0\n",
      "\tValue computed using low-temperature polynomial:  13.197490232436893\n",
      "\tValue computed using high-temperature polynomial: 13.009458623333332\n",
      "\n",
      "CanteraWarning: NasaPoly2::validate: \n",
      "For species C2H3CHOCH2, discontinuity in s/R detected at Tmid = 1000.0\n",
      "\tValue computed using low-temperature polynomial:  55.5754926344824\n",
      "\tValue computed using high-temperature polynomial: 53.05298769454252\n",
      "\n",
      "CanteraWarning: NasaPoly2::validate: \n",
      "For species CH3CHCHCHO, discontinuity in h/RT detected at Tmid = 1000.0\n",
      "\tValue computed using low-temperature polynomial:  -0.87553076770625\n",
      "\tValue computed using high-temperature polynomial: -0.7952995433333321\n",
      "\n",
      "CanteraWarning: NasaPoly2::validate: \n",
      "For species CH3CHCHCHO, discontinuity in s/R detected at Tmid = 1000.0\n",
      "\tValue computed using low-temperature polynomial:  59.194456477008444\n",
      "\tValue computed using high-temperature polynomial: 62.495269678449205\n",
      "\n",
      "CanteraWarning: NasaPoly2::validate: \n",
      "For species C4H6-2, discontinuity in h/RT detected at Tmid = 1000.0\n",
      "\tValue computed using low-temperature polynomial:  28.072393266570767\n",
      "\tValue computed using high-temperature polynomial: 28.60292515\n",
      "\n",
      "CanteraWarning: NasaPoly2::validate: \n",
      "For species C4H6-2, discontinuity in s/R detected at Tmid = 1000.0\n",
      "\tValue computed using low-temperature polynomial:  50.25139828976554\n",
      "\tValue computed using high-temperature polynomial: 51.51521152074738\n",
      "\n",
      "CanteraWarning: Troe::init: Unexpected parameter value T2=0. Omitting exp(T2/T) term from falloff expression. To suppress this warning, remove value for T2 from the input file. In the unlikely case that the exp(T2/T) term should be included with T2 effectively equal to 0, set T2 to a sufficiently small value (i.e. T2 < 1e-16).\n",
      "CanteraWarning: Troe::init: Unexpected parameter value T2=0. Omitting exp(T2/T) term from falloff expression. To suppress this warning, remove value for T2 from the input file. In the unlikely case that the exp(T2/T) term should be included with T2 effectively equal to 0, set T2 to a sufficiently small value (i.e. T2 < 1e-16).\n",
      "CanteraWarning: Troe::init: Unexpected parameter value T2=0. Omitting exp(T2/T) term from falloff expression. To suppress this warning, remove value for T2 from the input file. In the unlikely case that the exp(T2/T) term should be included with T2 effectively equal to 0, set T2 to a sufficiently small value (i.e. T2 < 1e-16).\n",
      "CanteraWarning: Troe::init: Unexpected parameter value T2=0. Omitting exp(T2/T) term from falloff expression. To suppress this warning, remove value for T2 from the input file. In the unlikely case that the exp(T2/T) term should be included with T2 effectively equal to 0, set T2 to a sufficiently small value (i.e. T2 < 1e-16).\n",
      "CanteraWarning: Troe::init: Unexpected parameter value T2=0. Omitting exp(T2/T) term from falloff expression. To suppress this warning, remove value for T2 from the input file. In the unlikely case that the exp(T2/T) term should be included with T2 effectively equal to 0, set T2 to a sufficiently small value (i.e. T2 < 1e-16).\n",
      "CanteraWarning: Troe::init: Unexpected parameter value T2=0. Omitting exp(T2/T) term from falloff expression. To suppress this warning, remove value for T2 from the input file. In the unlikely case that the exp(T2/T) term should be included with T2 effectively equal to 0, set T2 to a sufficiently small value (i.e. T2 < 1e-16).\n"
     ]
    }
   ],
   "source": [
    "# Load NIST model without halogens\n",
    "NIST_cti_path = 'models/NIST_no_halogens/no_halogens.cti'\n",
    "NIST_chemkin_path = 'models/NIST_no_halogens/no_halogens.inp'\n",
    "NIST_dictionary_path = 'models/NIST_no_halogens/no_halogens_dict.txt'\n",
    "NIST_transport_path = 'models/NIST_no_halogens/no_halogens_tran.dat'\n",
    "\n",
    "NIST_gas = ct.Solution(NIST_cti_path)\n",
    "NIST_dict = rmgpy.chemkin.load_species_dictionary(NIST_dictionary_path)"
   ]
  },
  {
   "cell_type": "code",
   "execution_count": 12,
   "id": "cfffd0e8",
   "metadata": {},
   "outputs": [],
   "source": [
    "NIST_species = NIST_gas.species()\n",
    "RMG_species = RMG_gas.species()"
   ]
  },
  {
   "cell_type": "code",
   "execution_count": 17,
   "id": "238c8417",
   "metadata": {},
   "outputs": [],
   "source": [
    "common_species = []\n",
    "\n",
    "for rmg_sp in RMG_species:\n",
    "    for nist_sp in NIST_species:\n",
    "        if RMG_dict[rmg_sp.name].is_isomorphic(NIST_dict[nist_sp.name]):\n",
    "#             print(rmg_sp, nist_sp)\n",
    "            common_species.append([rmg_sp, nist_sp])\n",
    "    "
   ]
  },
  {
   "cell_type": "code",
   "execution_count": 35,
   "id": "59fe5104",
   "metadata": {},
   "outputs": [],
   "source": [
    "def percent_error(nist_value, rmg_value):\n",
    "    if nist_value == 0 and rmg_value == 0:\n",
    "        return 0.0\n",
    "    return np.abs(nist_value - rmg_value) / nist_value * 100.0"
   ]
  },
  {
   "cell_type": "code",
   "execution_count": 39,
   "id": "19a548ba",
   "metadata": {},
   "outputs": [
    {
     "name": "stdout",
     "output_type": "stream",
     "text": [
      "N2 \t 0.0\n",
      "CH4 \t 0.0\n",
      "O2 \t 100.0\n",
      "H \t 0.0\n",
      "O \t 0.0\n",
      "OH \t 0.0\n",
      "H2 \t 100.0\n",
      "H2O \t 0.0\n",
      "AR \t 0.0\n",
      "HO2 \t 0.0\n",
      "H2O2 \t 100.0\n",
      "CO \t 122.22222222222223\n",
      "CO2 \t 100.0\n",
      "HCO \t 0.0\n",
      "CH \t 0.0\n",
      "CH2 \t 0.0\n",
      "CH3 \t 0.0\n",
      "CH2O \t 0.0\n",
      "HCCO \t 0.0\n",
      "C2H \t 0.0\n",
      "C2H2 \t 0.0\n",
      "H2CC \t 0.0\n",
      "CH2* \t 0.0\n",
      "CH3OH \t 0.0\n",
      "CH3O \t 0.0\n",
      "CH2CO \t 0.0\n",
      "C2H3 \t 0.0\n",
      "C2H4 \t 0.0\n",
      "C2H6 \t 0.0\n",
      "C2H5 \t 0.0\n",
      "CH2OH \t 0.0\n",
      "CH3CO \t 0.0\n",
      "CH2CHO \t 0.0\n",
      "CH3CHO \t 0.0\n",
      "CH3CHCH \t 0.0\n",
      "nC3H7 \t 0.0\n",
      "nC4H5 \t 0.0\n",
      "pC3H4 \t 100.0\n",
      "CH3CCH2 \t 0.0\n",
      "C3H3 \t 0.0\n",
      "aC3H4 \t 100.0\n",
      "C4H612 \t 100.0\n",
      "C4H6 \t 0.0\n",
      "c-C4H5 \t 100.0\n",
      "C4H4 \t 0.0\n"
     ]
    },
    {
     "name": "stderr",
     "output_type": "stream",
     "text": [
      "/home/moon/anaconda3/envs/rmg_env/lib/python3.7/site-packages/ipykernel_launcher.py:4: RuntimeWarning: divide by zero encountered in double_scalars\n",
      "  after removing the cwd from sys.path.\n"
     ]
    }
   ],
   "source": [
    "#C3H4...\n",
    "\n",
    "for entry in common_species:\n",
    "    rmg_sp = entry[0]\n",
    "    nist_sp = entry[1]\n",
    "    geometry_error = 0 if (nist_sp.transport.geometry == rmg_sp.transport.geometry) else 1\n",
    "#     if geometry_error:\n",
    "#         print(rmg_sp)\n",
    "    diameter_error = percent_error(nist_sp.transport.diameter, rmg_sp.transport.diameter)\n",
    "    \n",
    "    well_error = percent_error(nist_sp.transport.well_depth, rmg_sp.transport.well_depth)\n",
    "    dipole_error = percent_error(nist_sp.transport.dipole, rmg_sp.transport.dipole)\n",
    "    plz_error = percent_error(nist_sp.transport.polarizability, rmg_sp.transport.polarizability)\n",
    "    rot_error = percent_error(nist_sp.transport.rotational_relaxation, rmg_sp.transport.rotational_relaxation)\n",
    "\n",
    "    print(nist_sp.name, '\\t', rot_error)\n",
    "#     print(geometry_error)\n",
    "#     print(geometry_error, diameter_error, well_error, dipole_error, plz_error, rot_error)"
   ]
  },
  {
   "cell_type": "code",
   "execution_count": null,
   "id": "344ffbf5",
   "metadata": {},
   "outputs": [],
   "source": [
    "H2(8)               1      59.700     2.833     0.000     0.000     0.000    ! PrimaryTransportLibrary\n",
    "\n",
    "H2                  1      38.000     2.920     0.000     0.790   280.000    ! "
   ]
  },
  {
   "cell_type": "code",
   "execution_count": null,
   "id": "2a20db55",
   "metadata": {},
   "outputs": [],
   "source": []
  }
 ],
 "metadata": {
  "kernelspec": {
   "display_name": "Python 3 (ipykernel)",
   "language": "python",
   "name": "python3"
  },
  "language_info": {
   "codemirror_mode": {
    "name": "ipython",
    "version": 3
   },
   "file_extension": ".py",
   "mimetype": "text/x-python",
   "name": "python",
   "nbconvert_exporter": "python",
   "pygments_lexer": "ipython3",
   "version": "3.7.12"
  }
 },
 "nbformat": 4,
 "nbformat_minor": 5
}
