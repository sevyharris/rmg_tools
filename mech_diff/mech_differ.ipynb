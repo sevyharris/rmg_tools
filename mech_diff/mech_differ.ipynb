{
 "cells": [
  {
   "cell_type": "code",
   "execution_count": 1,
   "id": "78baa06c",
   "metadata": {},
   "outputs": [],
   "source": [
    "import os\n",
    "import re\n",
    "import numpy as np\n",
    "import pydot\n",
    "import rmgpy.tools.fluxdiagram\n",
    "from rmgpy.solver.base import TerminationTime\n",
    "from rmgpy.solver.liquid import LiquidReactor\n",
    "from rmgpy.kinetics.diffusionLimited import diffusion_limiter\n",
    "\n",
    "import matplotlib.image as mpimg\n",
    "import matplotlib.pyplot as plt\n",
    "%matplotlib inline"
   ]
  },
  {
   "cell_type": "markdown",
   "id": "cce4f273",
   "metadata": {},
   "source": [
    "## Settings"
   ]
  },
  {
   "cell_type": "code",
   "execution_count": 2,
   "id": "4c2ea8b2",
   "metadata": {},
   "outputs": [],
   "source": [
    "# Options controlling the individual flux diagram renderings:\n",
    "program = 'dot'  # The program to use to lay out the nodes and edges\n",
    "max_node_count = 50  # The maximum number of nodes to show in the diagram\n",
    "max_edge_count = 50  # The maximum number of edges to show in the diagram\n",
    "concentration_tol = 1e-6  # The lowest fractional concentration to show (values below this will appear as zero)\n",
    "species_rate_tol = 1e-6  # The lowest fractional species rate to show (values below this will appear as zero)\n",
    "max_node_pen_width = 10.0  # The thickness of the border around a node at maximum concentration\n",
    "max_edge_pen_width = 10.0  # The thickness of the edge at maximum species rate\n",
    "radius = 1  # The graph radius to plot around a central species\n",
    "central_reaction_count = None  # The maximum number of reactions to draw from each central species (None draws all)\n",
    "# If radius > 1, then this is the number of reactions from every species\n",
    "\n",
    "# Options controlling the ODE simulations:\n",
    "initial_time = 1e-12  # The time at which to initiate the simulation, in seconds\n",
    "time_step = 10 ** 0.1  # The multiplicative factor to use between consecutive time points\n",
    "abs_tol = 1e-16  # The absolute tolerance to use in the ODE simluations\n",
    "rel_tol = 1e-8  # The relative tolerance to use in the ODE simulations\n",
    "\n",
    "# Options controlling the generated movie:\n",
    "video_fps = 6  # The number of frames per second in the generated movie\n",
    "initial_padding = 5  # The number of seconds to display the initial fluxes at the start of the video\n",
    "final_padding = 5  # The number of seconds to display the final fluxes at the end of the video\n",
    "\n",
    "\n",
    "species_path = None\n",
    "java = False            # always False\n",
    "settings = None\n",
    "chemkin_output = ''     # this will be generated automatically\n",
    "central_species_list = None\n",
    "superimpose = False     # this will always be false, delete it\n",
    "save_states = False\n",
    "read_states = False     # fine to keep this always false and delete relevant code below\n",
    "diffusion_limited = True\n",
    "check_duplicates = True"
   ]
  },
  {
   "cell_type": "markdown",
   "id": "cf163a4e",
   "metadata": {},
   "source": [
    "## Load Mechanisms"
   ]
  },
  {
   "cell_type": "code",
   "execution_count": 3,
   "id": "e9bbc4b3",
   "metadata": {},
   "outputs": [
    {
     "name": "stdout",
     "output_type": "stream",
     "text": [
      "Loading RMG job 1...\n"
     ]
    },
    {
     "name": "stderr",
     "output_type": "stream",
     "text": [
      "┌ Warning: Replacing docs for `ReactionMechanismSimulator.getpairs :: Tuple{T} where T<:ReactionMechanismSimulator.AbstractReaction` in module `ReactionMechanismSimulator`\n",
      "└ @ Base.Docs docs/Docs.jl:240\n",
      "┌ Warning: Replacing docs for `ReactionMechanismSimulator.getsimilarity :: Union{Tuple{T2}, Tuple{T}, Tuple{T, T2}} where {T<:ReactionMechanismSimulator.AbstractSpecies, T2<:ReactionMechanismSimulator.AbstractSpecies}` in module `ReactionMechanismSimulator`\n",
      "└ @ Base.Docs docs/Docs.jl:240\n",
      "WARNING: method definition for getreactionindices at /home/moon/anaconda3/envs/rmg_env/share/julia/packages/ReactionMechanismSimulator/79Btk/src/Phase.jl:320 declares type variable Q but does not use it.\n",
      "┌ Warning: Replacing docs for `SciMLBase.sol :: Union{Tuple, Tuple{D}, Tuple{S}, Tuple{N}, Tuple{T}} where {T, N, S, D}` in module `SciMLBase`\n",
      "└ @ Base.Docs docs/Docs.jl:240\n",
      "WARNING: using StaticArrays.setindex in module FiniteDiff conflicts with an existing identifier.\n",
      "WARNING: method definition for Inlet at /home/moon/anaconda3/envs/rmg_env/share/julia/packages/ReactionMechanismSimulator/79Btk/src/Interface.jl:243 declares type variable B but does not use it.\n",
      "WARNING: method definition for #ConstantTPDomain#328 at /home/moon/anaconda3/envs/rmg_env/share/julia/packages/ReactionMechanismSimulator/79Btk/src/Domain.jl:42 declares type variable W but does not use it.\n",
      "WARNING: method definition for #ConstantTPDomain#328 at /home/moon/anaconda3/envs/rmg_env/share/julia/packages/ReactionMechanismSimulator/79Btk/src/Domain.jl:42 declares type variable Q but does not use it.\n",
      "WARNING: method definition for #ConstantTPDomain#328 at /home/moon/anaconda3/envs/rmg_env/share/julia/packages/ReactionMechanismSimulator/79Btk/src/Domain.jl:42 declares type variable E but does not use it.\n",
      "WARNING: method definition for #ConstantVDomain#339 at /home/moon/anaconda3/envs/rmg_env/share/julia/packages/ReactionMechanismSimulator/79Btk/src/Domain.jl:120 declares type variable Q but does not use it.\n",
      "WARNING: method definition for #ConstantPDomain#348 at /home/moon/anaconda3/envs/rmg_env/share/julia/packages/ReactionMechanismSimulator/79Btk/src/Domain.jl:188 declares type variable Q but does not use it.\n",
      "WARNING: method definition for #ParametrizedTPDomain#357 at /home/moon/anaconda3/envs/rmg_env/share/julia/packages/ReactionMechanismSimulator/79Btk/src/Domain.jl:257 declares type variable Q but does not use it.\n",
      "WARNING: method definition for #ParametrizedVDomain#366 at /home/moon/anaconda3/envs/rmg_env/share/julia/packages/ReactionMechanismSimulator/79Btk/src/Domain.jl:337 declares type variable Q but does not use it.\n",
      "WARNING: method definition for #ParametrizedVDomain#366 at /home/moon/anaconda3/envs/rmg_env/share/julia/packages/ReactionMechanismSimulator/79Btk/src/Domain.jl:337 declares type variable E but does not use it.\n",
      "WARNING: method definition for #ParametrizedPDomain#375 at /home/moon/anaconda3/envs/rmg_env/share/julia/packages/ReactionMechanismSimulator/79Btk/src/Domain.jl:414 declares type variable Q but does not use it.\n",
      "WARNING: method definition for #ParametrizedPDomain#375 at /home/moon/anaconda3/envs/rmg_env/share/julia/packages/ReactionMechanismSimulator/79Btk/src/Domain.jl:414 declares type variable E but does not use it.\n",
      "WARNING: method definition for #ConstantTVDomain#384 at /home/moon/anaconda3/envs/rmg_env/share/julia/packages/ReactionMechanismSimulator/79Btk/src/Domain.jl:500 declares type variable W but does not use it.\n",
      "WARNING: method definition for #ConstantTVDomain#384 at /home/moon/anaconda3/envs/rmg_env/share/julia/packages/ReactionMechanismSimulator/79Btk/src/Domain.jl:500 declares type variable Q but does not use it.\n",
      "WARNING: method definition for #ParametrizedTConstantVDomain#395 at /home/moon/anaconda3/envs/rmg_env/share/julia/packages/ReactionMechanismSimulator/79Btk/src/Domain.jl:580 declares type variable Q but does not use it.\n",
      "WARNING: method definition for #ConstantTAPhiDomain#404 at /home/moon/anaconda3/envs/rmg_env/share/julia/packages/ReactionMechanismSimulator/79Btk/src/Domain.jl:660 declares type variable W but does not use it.\n",
      "WARNING: method definition for #ConstantTAPhiDomain#404 at /home/moon/anaconda3/envs/rmg_env/share/julia/packages/ReactionMechanismSimulator/79Btk/src/Domain.jl:660 declares type variable E but does not use it.\n",
      "WARNING: method definition for #FragmentBasedConstantTrhoDomain#413 at /home/moon/anaconda3/envs/rmg_env/share/julia/packages/ReactionMechanismSimulator/79Btk/src/Domain.jl:747 declares type variable X3 but does not use it.\n",
      "WARNING: method definition for #FragmentBasedConstantTrhoDomain#413 at /home/moon/anaconda3/envs/rmg_env/share/julia/packages/ReactionMechanismSimulator/79Btk/src/Domain.jl:747 declares type variable E1 but does not use it.\n",
      "WARNING: method definition for #FragmentBasedConstantTrhoDomain#413 at /home/moon/anaconda3/envs/rmg_env/share/julia/packages/ReactionMechanismSimulator/79Btk/src/Domain.jl:747 declares type variable X1 but does not use it.\n",
      "WARNING: method definition for calcthermo at /home/moon/anaconda3/envs/rmg_env/share/julia/packages/ReactionMechanismSimulator/79Btk/src/Domain.jl:1470 declares type variable J but does not use it.\n",
      "WARNING: method definition for calcthermo at /home/moon/anaconda3/envs/rmg_env/share/julia/packages/ReactionMechanismSimulator/79Btk/src/Domain.jl:1542 declares type variable J but does not use it.\n",
      "WARNING: method definition for calcthermo at /home/moon/anaconda3/envs/rmg_env/share/julia/packages/ReactionMechanismSimulator/79Btk/src/Domain.jl:1629 declares type variable J but does not use it.\n",
      "WARNING: method definition for #calcdomainderivatives!#466 at /home/moon/anaconda3/envs/rmg_env/share/julia/packages/ReactionMechanismSimulator/79Btk/src/Domain.jl:1669 declares type variable Y but does not use it.\n",
      "WARNING: method definition for #calcdomainderivatives!#466 at /home/moon/anaconda3/envs/rmg_env/share/julia/packages/ReactionMechanismSimulator/79Btk/src/Domain.jl:1669 declares type variable W but does not use it.\n",
      "WARNING: method definition for #calcdomainderivatives!#467 at /home/moon/anaconda3/envs/rmg_env/share/julia/packages/ReactionMechanismSimulator/79Btk/src/Domain.jl:1693 declares type variable Y but does not use it.\n",
      "WARNING: method definition for #calcdomainderivatives!#467 at /home/moon/anaconda3/envs/rmg_env/share/julia/packages/ReactionMechanismSimulator/79Btk/src/Domain.jl:1693 declares type variable W but does not use it.\n",
      "WARNING: method definition for jacobianpnsderiv! at /home/moon/anaconda3/envs/rmg_env/share/julia/packages/ReactionMechanismSimulator/79Btk/src/Domain.jl:2925 declares type variable Q3 but does not use it.\n",
      "WARNING: method definition for jacobianpnsderiv! at /home/moon/anaconda3/envs/rmg_env/share/julia/packages/ReactionMechanismSimulator/79Btk/src/Domain.jl:3034 declares type variable Q3 but does not use it.\n",
      "WARNING: method definition for jacobianpnsderiv! at /home/moon/anaconda3/envs/rmg_env/share/julia/packages/ReactionMechanismSimulator/79Btk/src/Domain.jl:3120 declares type variable Q3 but does not use it.\n",
      "WARNING: method definition for #Reactor#601 at /home/moon/anaconda3/envs/rmg_env/share/julia/packages/ReactionMechanismSimulator/79Btk/src/Reactor.jl:255 declares type variable F but does not use it.\n",
      "WARNING: method definition for addreactionratecontributions! at /home/moon/anaconda3/envs/rmg_env/share/julia/packages/ReactionMechanismSimulator/79Btk/src/Reactor.jl:448 declares type variable T but does not use it.\n",
      "WARNING: method definition for addreactionratecontributions! at /home/moon/anaconda3/envs/rmg_env/share/julia/packages/ReactionMechanismSimulator/79Btk/src/Reactor.jl:492 declares type variable W2 but does not use it.\n",
      "WARNING: method definition for addreactionratecontributions! at /home/moon/anaconda3/envs/rmg_env/share/julia/packages/ReactionMechanismSimulator/79Btk/src/Reactor.jl:492 declares type variable T but does not use it.\n",
      "WARNING: method definition for addreactionratecontributions! at /home/moon/anaconda3/envs/rmg_env/share/julia/packages/ReactionMechanismSimulator/79Btk/src/Reactor.jl:539 declares type variable T but does not use it.\n",
      "WARNING: method definition for addreactionratecontributionsforwardreverse! at /home/moon/anaconda3/envs/rmg_env/share/julia/packages/ReactionMechanismSimulator/79Btk/src/Reactor.jl:584 declares type variable T but does not use it.\n",
      "WARNING: method definition for #dydtreactor!#609 at /home/moon/anaconda3/envs/rmg_env/share/julia/packages/ReactionMechanismSimulator/79Btk/src/Reactor.jl:645 declares type variable J but does not use it.\n",
      "WARNING: method definition for jacobianyforwarddiff at /home/moon/anaconda3/envs/rmg_env/share/julia/packages/ReactionMechanismSimulator/79Btk/src/Reactor.jl:782 declares type variable Q but does not use it.\n",
      "WARNING: method definition for jacobianpforwarddiff at /home/moon/anaconda3/envs/rmg_env/share/julia/packages/ReactionMechanismSimulator/79Btk/src/Reactor.jl:834 declares type variable Q but does not use it.\n",
      "WARNING: could not import LazyArrays.most into LazyBandedMatrices\n",
      "WARNING: method definition for arguments at /home/moon/anaconda3/envs/rmg_env/share/julia/packages/LazyBandedMatrices/8pXDE/src/LazyBandedMatrices.jl:600 declares type variable F but does not use it.\n",
      "WARNING: method definition for sublayout at /home/moon/anaconda3/envs/rmg_env/share/julia/packages/LazyBandedMatrices/8pXDE/src/LazyBandedMatrices.jl:622 declares type variable J but does not use it.\n",
      "WARNING: method definition for sublayout at /home/moon/anaconda3/envs/rmg_env/share/julia/packages/LazyBandedMatrices/8pXDE/src/LazyBandedMatrices.jl:622 declares type variable J but does not use it.\n",
      "WARNING: method definition for * at /home/moon/anaconda3/envs/rmg_env/share/julia/packages/DiffEqOperators/lHq9u/src/derivative_operators/multi_dim_bc_operators.jl:221 declares type variable B but does not use it.\n",
      "WARNING: method definition for * at /home/moon/anaconda3/envs/rmg_env/share/julia/packages/DiffEqOperators/lHq9u/src/derivative_operators/multi_dim_bc_operators.jl:244 declares type variable B but does not use it.\n"
     ]
    },
    {
     "name": "stderr",
     "output_type": "stream",
     "text": [
      "WARNING: method definition for CompleteCenteredDifference at /home/moon/anaconda3/envs/rmg_env/share/julia/packages/DiffEqOperators/lHq9u/src/derivative_operators/derivative_operator.jl:211 declares type variable N but does not use it.\n",
      "WARNING: method definition for CompleteCenteredDifference at /home/moon/anaconda3/envs/rmg_env/share/julia/packages/DiffEqOperators/lHq9u/src/derivative_operators/derivative_operator.jl:262 declares type variable N but does not use it.\n",
      "WARNING: method definition for CompleteHalfCenteredDifference at /home/moon/anaconda3/envs/rmg_env/share/julia/packages/DiffEqOperators/lHq9u/src/derivative_operators/derivative_operator.jl:317 declares type variable N but does not use it.\n",
      "WARNING: method definition for CompleteHalfCenteredDifference at /home/moon/anaconda3/envs/rmg_env/share/julia/packages/DiffEqOperators/lHq9u/src/derivative_operators/derivative_operator.jl:369 declares type variable N but does not use it.\n",
      "WARNING: method definition for CompleteUpwindDifference at /home/moon/anaconda3/envs/rmg_env/share/julia/packages/DiffEqOperators/lHq9u/src/derivative_operators/derivative_operator.jl:644 declares type variable N but does not use it.\n",
      "WARNING: method definition for CompleteUpwindDifference at /home/moon/anaconda3/envs/rmg_env/share/julia/packages/DiffEqOperators/lHq9u/src/derivative_operators/derivative_operator.jl:701 declares type variable N but does not use it.\n",
      "WARNING: method definition for BandedMatrix at /home/moon/anaconda3/envs/rmg_env/share/julia/packages/DiffEqOperators/lHq9u/src/derivative_operators/concretization.jl:463 declares type variable K but does not use it.\n",
      "WARNING: method definition for BandedMatrix at /home/moon/anaconda3/envs/rmg_env/share/julia/packages/DiffEqOperators/lHq9u/src/derivative_operators/concretization.jl:463 declares type variable N but does not use it.\n",
      "WARNING: method definition for BandedMatrix at /home/moon/anaconda3/envs/rmg_env/share/julia/packages/DiffEqOperators/lHq9u/src/derivative_operators/concretization.jl:463 declares type variable D but does not use it.\n",
      "WARNING: method definition for BandedMatrix at /home/moon/anaconda3/envs/rmg_env/share/julia/packages/DiffEqOperators/lHq9u/src/derivative_operators/concretization.jl:463 declares type variable B but does not use it.\n",
      "WARNING: method definition for BandedMatrix at /home/moon/anaconda3/envs/rmg_env/share/julia/packages/DiffEqOperators/lHq9u/src/derivative_operators/concretization.jl:463 declares type variable T but does not use it.\n",
      "┌ Warning: DiffEqOperators.jl is in the process of being deprecated.\n",
      "│ \n",
      "│        - For automated PDE discretization, see MethodOfLines.jl\n",
      "│ \n",
      "│        - For MatrixFreeOperators, and other non-derivative operators, see SciMLOperators.jl\n",
      "│ \n",
      "│        - For VecJacOperators and JacVecOperators, see SparseDiffTools.jl\n",
      "└ @ DiffEqOperators ~/anaconda3/envs/rmg_env/share/julia/packages/DiffEqOperators/lHq9u/src/DiffEqOperators.jl:61\n",
      "WARNING: method definition for seed_duals at /home/moon/anaconda3/envs/rmg_env/share/julia/packages/DiffEqSensitivity/Pn9H4/src/forward_sensitivity.jl:418 declares type variable T but does not use it.\n",
      "WARNING: method definition for ODE_DEFAULT_NORM at /home/moon/anaconda3/envs/rmg_env/share/julia/packages/DiffEqSensitivity/Pn9H4/src/reversediff.jl:14 declares type variable N but does not use it.\n",
      "WARNING: method definition for ODE_DEFAULT_NORM at /home/moon/anaconda3/envs/rmg_env/share/julia/packages/DiffEqSensitivity/Pn9H4/src/reversediff.jl:26 declares type variable N but does not use it.\n",
      "WARNING: method definition for ODE_DEFAULT_NORM at /home/moon/anaconda3/envs/rmg_env/share/julia/packages/DiffEqSensitivity/Pn9H4/src/tracker.jl:26 declares type variable N but does not use it.\n",
      "WARNING: method definition for ODE_DEFAULT_NORM at /home/moon/anaconda3/envs/rmg_env/share/julia/packages/DiffEqSensitivity/Pn9H4/src/tracker.jl:38 declares type variable N but does not use it.\n",
      "WARNING: method definition for sensg at /home/moon/anaconda3/envs/rmg_env/share/julia/packages/ReactionMechanismSimulator/79Btk/src/Simulation.jl:488 declares type variable V but does not use it.\n",
      "WARNING: method definition for sensg at /home/moon/anaconda3/envs/rmg_env/share/julia/packages/ReactionMechanismSimulator/79Btk/src/Simulation.jl:488 declares type variable Q but does not use it.\n",
      "WARNING: method definition for sensg at /home/moon/anaconda3/envs/rmg_env/share/julia/packages/ReactionMechanismSimulator/79Btk/src/Simulation.jl:494 declares type variable V but does not use it.\n",
      "WARNING: method definition for sensg at /home/moon/anaconda3/envs/rmg_env/share/julia/packages/ReactionMechanismSimulator/79Btk/src/Simulation.jl:494 declares type variable Q but does not use it.\n",
      "WARNING: method definition for sensg at /home/moon/anaconda3/envs/rmg_env/share/julia/packages/ReactionMechanismSimulator/79Btk/src/Simulation.jl:500 declares type variable V but does not use it.\n",
      "WARNING: method definition for sensg at /home/moon/anaconda3/envs/rmg_env/share/julia/packages/ReactionMechanismSimulator/79Btk/src/Simulation.jl:500 declares type variable Q but does not use it.\n",
      "WARNING: method definition for sensg at /home/moon/anaconda3/envs/rmg_env/share/julia/packages/ReactionMechanismSimulator/79Btk/src/Simulation.jl:506 declares type variable V but does not use it.\n",
      "WARNING: method definition for sensg at /home/moon/anaconda3/envs/rmg_env/share/julia/packages/ReactionMechanismSimulator/79Btk/src/Simulation.jl:506 declares type variable Q but does not use it.\n",
      "WARNING: method definition for g at /home/moon/anaconda3/envs/rmg_env/share/julia/packages/ReactionMechanismSimulator/79Btk/src/Simulation.jl:513 declares type variable V but does not use it.\n",
      "WARNING: method definition for g at /home/moon/anaconda3/envs/rmg_env/share/julia/packages/ReactionMechanismSimulator/79Btk/src/Simulation.jl:513 declares type variable Q but does not use it.\n",
      "WARNING: method definition for g at /home/moon/anaconda3/envs/rmg_env/share/julia/packages/ReactionMechanismSimulator/79Btk/src/Simulation.jl:517 declares type variable V but does not use it.\n",
      "WARNING: method definition for g at /home/moon/anaconda3/envs/rmg_env/share/julia/packages/ReactionMechanismSimulator/79Btk/src/Simulation.jl:517 declares type variable Q but does not use it.\n",
      "WARNING: method definition for g at /home/moon/anaconda3/envs/rmg_env/share/julia/packages/ReactionMechanismSimulator/79Btk/src/Simulation.jl:521 declares type variable V but does not use it.\n",
      "WARNING: method definition for g at /home/moon/anaconda3/envs/rmg_env/share/julia/packages/ReactionMechanismSimulator/79Btk/src/Simulation.jl:521 declares type variable Q but does not use it.\n",
      "WARNING: method definition for g at /home/moon/anaconda3/envs/rmg_env/share/julia/packages/ReactionMechanismSimulator/79Btk/src/Simulation.jl:525 declares type variable V but does not use it.\n",
      "WARNING: method definition for g at /home/moon/anaconda3/envs/rmg_env/share/julia/packages/ReactionMechanismSimulator/79Btk/src/Simulation.jl:525 declares type variable Q but does not use it.\n",
      "WARNING: method definition for g at /home/moon/anaconda3/envs/rmg_env/share/julia/packages/ReactionMechanismSimulator/79Btk/src/Simulation.jl:576 declares type variable V but does not use it.\n",
      "WARNING: method definition for g at /home/moon/anaconda3/envs/rmg_env/share/julia/packages/ReactionMechanismSimulator/79Btk/src/Simulation.jl:576 declares type variable Q but does not use it.\n",
      "WARNING: method definition for g at /home/moon/anaconda3/envs/rmg_env/share/julia/packages/ReactionMechanismSimulator/79Btk/src/Simulation.jl:580 declares type variable V but does not use it.\n",
      "WARNING: method definition for g at /home/moon/anaconda3/envs/rmg_env/share/julia/packages/ReactionMechanismSimulator/79Btk/src/Simulation.jl:580 declares type variable Q but does not use it.\n",
      "WARNING: method definition for g at /home/moon/anaconda3/envs/rmg_env/share/julia/packages/ReactionMechanismSimulator/79Btk/src/Simulation.jl:584 declares type variable V but does not use it.\n",
      "WARNING: method definition for g at /home/moon/anaconda3/envs/rmg_env/share/julia/packages/ReactionMechanismSimulator/79Btk/src/Simulation.jl:584 declares type variable Q but does not use it.\n",
      "WARNING: method definition for g at /home/moon/anaconda3/envs/rmg_env/share/julia/packages/ReactionMechanismSimulator/79Btk/src/Simulation.jl:588 declares type variable V but does not use it.\n",
      "WARNING: method definition for g at /home/moon/anaconda3/envs/rmg_env/share/julia/packages/ReactionMechanismSimulator/79Btk/src/Simulation.jl:588 declares type variable Q but does not use it.\n",
      "┌ Warning: No working GUI backend found for matplotlib\n",
      "└ @ PyPlot ~/anaconda3/envs/rmg_env/share/julia/packages/PyPlot/H01LC/src/init.jl:153\n"
     ]
    },
    {
     "name": "stderr",
     "output_type": "stream",
     "text": [
      "┌ Warning: Replacing docs for `ReactionMechanismSimulator.plotrops :: Union{Tuple{X}, Tuple{Y}, Tuple{Y, X}} where {Y<:ReactionMechanismSimulator.Simulation, X<:AbstractString}` in module `ReactionMechanismSimulator`\n",
      "└ @ Base.Docs docs/Docs.jl:240\n",
      "┌ Warning: Replacing docs for `ReactionMechanismSimulator.plotrops :: Union{Tuple{X}, Tuple{Y}, Tuple{Y, X}} where {Y<:ReactionMechanismSimulator.Simulation, X<:AbstractString}` in module `ReactionMechanismSimulator`\n",
      "└ @ Base.Docs docs/Docs.jl:240\n",
      "WARNING: method definition for #plotradicalrops#907 at /home/moon/anaconda3/envs/rmg_env/share/julia/packages/ReactionMechanismSimulator/79Btk/src/Plotting.jl:371 declares type variable X but does not use it.\n",
      "WARNING: method definition for checkbounds at /home/moon/anaconda3/envs/rmg_env/share/julia/packages/Interpolations/y4lLj/src/Interpolations.jl:454 declares type variable N but does not use it.\n",
      "WARNING: method definition for checkbounds at /home/moon/anaconda3/envs/rmg_env/share/julia/packages/Interpolations/y4lLj/src/Interpolations.jl:457 declares type variable N but does not use it.\n",
      "WARNING: method definition for GriddedInterpolation at /home/moon/anaconda3/envs/rmg_env/share/julia/packages/Interpolations/y4lLj/src/gridded/gridded.jl:37 declares type variable pad but does not use it.\n",
      "WARNING: method definition for GriddedInterpolation at /home/moon/anaconda3/envs/rmg_env/share/julia/packages/Interpolations/y4lLj/src/gridded/gridded.jl:60 declares type variable pad but does not use it.\n",
      "WARNING: method definition for interpolate! at /home/moon/anaconda3/envs/rmg_env/share/julia/packages/Interpolations/y4lLj/src/deprecations.jl:30 declares type variable TWeights but does not use it.\n",
      "WARNING:root:Initial mole fractions do not sum to one; normalizing.\n",
      "WARNING:root:Generate Output HTML option was turned on. Note that this will slow down model generation.\n",
      "WARNING:root:Edge species saving was turned on. This will slow down model generation for large simulations.\n",
      "WARNING:root:Initial mole fractions do not sum to one; normalizing.\n",
      "WARNING:root:Generate Output HTML option was turned on. Note that this will slow down model generation.\n",
      "WARNING:root:Edge species saving was turned on. This will slow down model generation for large simulations.\n"
     ]
    },
    {
     "name": "stdout",
     "output_type": "stream",
     "text": [
      "Loading RMG job 2...\n"
     ]
    }
   ],
   "source": [
    "rmg_input_file = '/home/moon/autoscience/fuels/butane_20240126/simplified_input.py'  # for conditions\n",
    "\n",
    "mech_1_inp = '/home/moon/autoscience/fuels/butane_20240126/chem_annotated.inp'\n",
    "mech_1_dict = '/home/moon/autoscience/fuels/butane_20240126/species_dictionary.txt'\n",
    "\n",
    "\n",
    "mech_2_inp = '/home/moon/autoscience/fuels/butane_20240315/chem_annotated.inp'\n",
    "mech_2_dict = '/home/moon/autoscience/fuels/butane_20240315/species_dictionary.txt'\n",
    "\n",
    "# mech_2_inp = '/home/moon/autoscience/aramco/truncated/aramco_truncated.inp'\n",
    "# mech_2_dict = '/home/moon/autoscience/aramco//species_dictionary.txt'\n",
    "\n",
    "\n",
    "if species_path is None:\n",
    "    species_path = os.path.join(os.path.dirname(rmg_input_file), 'species')\n",
    "    generate_images = True\n",
    "else:\n",
    "    generate_images = False\n",
    "\n",
    "print('Loading RMG job 1...')\n",
    "rmg_job1 = rmgpy.tools.fluxdiagram.load_rmg_job(\n",
    "    rmg_input_file,\n",
    "    mech_1_inp,\n",
    "    mech_1_dict,\n",
    "    generate_images=generate_images,\n",
    "    check_duplicates=check_duplicates\n",
    ")\n",
    "\n",
    "print('Loading RMG job 2...')\n",
    "rmg_job2 = rmgpy.tools.fluxdiagram.load_rmg_job(\n",
    "    rmg_input_file,\n",
    "    mech_2_inp,\n",
    "    mech_2_dict,\n",
    "    generate_images=generate_images,\n",
    "    check_duplicates=check_duplicates\n",
    ")"
   ]
  },
  {
   "cell_type": "code",
   "execution_count": null,
   "id": "1771bdaf",
   "metadata": {},
   "outputs": [],
   "source": []
  },
  {
   "cell_type": "markdown",
   "id": "75f24ae1",
   "metadata": {},
   "source": [
    "## Simulation"
   ]
  },
  {
   "cell_type": "code",
   "execution_count": 4,
   "id": "702a3bab",
   "metadata": {},
   "outputs": [
    {
     "name": "stdout",
     "output_type": "stream",
     "text": [
      "Conducting simulation of reaction 1\n",
      "Conducting simulation of reaction 2\n"
     ]
    }
   ],
   "source": [
    "print('Conducting simulation of reaction 1')\n",
    "times1, concentrations1, reaction_rates1 = rmgpy.tools.fluxdiagram.simulate(\n",
    "    rmg_job1.reaction_model,\n",
    "    rmg_job1.reaction_systems[0],\n",
    "    settings\n",
    ")\n",
    "\n",
    "print('Conducting simulation of reaction 2')\n",
    "times2, concentrations2, reaction_rates2 = rmgpy.tools.fluxdiagram.simulate(\n",
    "    rmg_job2.reaction_model,\n",
    "    rmg_job2.reaction_systems[0],\n",
    "    settings\n",
    ")"
   ]
  },
  {
   "cell_type": "code",
   "execution_count": 18,
   "id": "ed866fdc",
   "metadata": {},
   "outputs": [
    {
     "data": {
      "text/plain": [
       "(121,)"
      ]
     },
     "execution_count": 18,
     "metadata": {},
     "output_type": "execute_result"
    }
   ],
   "source": [
    "times1.shape"
   ]
  },
  {
   "cell_type": "code",
   "execution_count": 16,
   "id": "5b2936ee",
   "metadata": {},
   "outputs": [
    {
     "data": {
      "text/plain": [
       "(121, 2984)"
      ]
     },
     "execution_count": 16,
     "metadata": {},
     "output_type": "execute_result"
    }
   ],
   "source": [
    "reaction_rates1.shape"
   ]
  },
  {
   "cell_type": "code",
   "execution_count": 6,
   "id": "66f5c785",
   "metadata": {},
   "outputs": [],
   "source": [
    "# Don't assume the mechanisms are identically named. Use the species dictionary"
   ]
  },
  {
   "cell_type": "code",
   "execution_count": 59,
   "id": "29b0b23b",
   "metadata": {},
   "outputs": [
    {
     "name": "stdout",
     "output_type": "stream",
     "text": [
      "List 1 has 164 species\n",
      "List 2 has 127 species\n",
      "There are 173 unique species\n"
     ]
    }
   ],
   "source": [
    "# create a universal species order for the giant flux matrix. it will be:\n",
    "# [species_list1 remaining_species_in_list_2]\n",
    "species_list1 = rmg_job1.reaction_model.core.species[:]\n",
    "species_list2 = rmg_job2.reaction_model.core.species[:]\n",
    "\n",
    "reaction_list1 = rmg_job1.reaction_model.core.reactions[:]\n",
    "reaction_list2 = rmg_job2.reaction_model.core.reactions[:]\n",
    "\n",
    "universal_species_list = []\n",
    "for sp in species_list1:\n",
    "    universal_species_list.append(sp)\n",
    "\n",
    "list2_to_universal = {}\n",
    "\n",
    "for i2, sp2 in enumerate(species_list2):\n",
    "#     print(i2 + 1, '/', len(species_list2))\n",
    "    for i1, sp1 in enumerate(species_list1):\n",
    "        if sp2.is_isomorphic(sp1):\n",
    "            list2_to_universal[i2] = i1\n",
    "            \n",
    "            \n",
    "            # You also need to replace all occurences of this species in the list of reactions. Yikes.\n",
    "            for r in range(len(reaction_list2)):\n",
    "                for p in range(len(reaction_list2[r].products)):\n",
    "                    if sp2.is_isomorphic(reaction_list2[r].products[p]):\n",
    "                        reaction_list2[r].products[p] = sp1\n",
    "                        reaction_list2[r].generate_pairs()\n",
    "                for p in range(len(reaction_list2[r].reactants)):\n",
    "                    if sp2.is_isomorphic(reaction_list2[r].reactants[p]):\n",
    "                        reaction_list2[r].reactants[p] = sp1\n",
    "                        reaction_list2[r].generate_pairs()\n",
    "            \n",
    "            break\n",
    "    else:\n",
    "        list2_to_universal[i2] = len(universal_species_list)\n",
    "        universal_species_list.append(sp2)\n",
    "\n",
    "num_species = len(universal_species_list)\n",
    "print(f'List 1 has {len(species_list1)} species')\n",
    "print(f'List 2 has {len(species_list2)} species')\n",
    "print(f'There are {len(universal_species_list)} unique species')\n"
   ]
  },
  {
   "cell_type": "code",
   "execution_count": 49,
   "id": "fdacdd54",
   "metadata": {},
   "outputs": [
    {
     "name": "stdout",
     "output_type": "stream",
     "text": [
      "List 1 has 2984 reactions\n",
      "List 2 has 1986 reactions\n",
      "There are 3409 unique reactions\n"
     ]
    }
   ],
   "source": [
    "# Do the same thing for reactions\n",
    "\n",
    "universal_reaction_list = []\n",
    "for rxn in reaction_list1:\n",
    "    universal_reaction_list.append(rxn)\n",
    "\n",
    "rxn2_to_universal = {}\n",
    "\n",
    "for i2, rxn2 in enumerate(reaction_list2):\n",
    "    for i1, rxn1 in enumerate(reaction_list1):        \n",
    "        if rxn2.is_isomorphic(rxn1):\n",
    "            rxn2_to_universal[i2] = i1\n",
    "            break\n",
    "    else:\n",
    "        rxn2_to_universal[i2] = len(universal_reaction_list)\n",
    "        universal_reaction_list.append(rxn2)\n",
    "\n",
    "print(f'List 1 has {len(reaction_list1)} reactions')\n",
    "print(f'List 2 has {len(reaction_list2)} reactions')\n",
    "print(f'There are {len(universal_reaction_list)} unique reactions')\n"
   ]
  },
  {
   "cell_type": "code",
   "execution_count": 50,
   "id": "95c1e323",
   "metadata": {},
   "outputs": [],
   "source": [
    "# translate concentrations and reactions rates into the universal array form\n",
    "universal_rates1 = np.zeros((reaction_rates1.shape[0], len(universal_reaction_list)))\n",
    "universal_rates2 = np.zeros((reaction_rates2.shape[0], len(universal_reaction_list)))\n",
    "\n",
    "universal_rates1[:, 0:reaction_rates1.shape[1]] = reaction_rates1\n",
    "for i in range(0, reaction_rates2.shape[1]):\n",
    "    universal_index = rxn2_to_universal[i]\n",
    "    universal_rates2[:, universal_index] = reaction_rates2[:, i]\n",
    "    \n",
    "# -------------------- repeat for species\n",
    "universal_concentrations1 = np.zeros((concentrations1.shape[0], len(universal_species_list)))\n",
    "universal_concentrations2 = np.zeros((concentrations2.shape[0], len(universal_species_list)))\n",
    "\n",
    "universal_concentrations1[:, 0:concentrations1.shape[1]] = concentrations1\n",
    "for i in range(0, concentrations2.shape[1]):\n",
    "    universal_index = list2_to_universal[i]\n",
    "    universal_concentrations2[:, universal_index] = concentrations2[:, i]"
   ]
  },
  {
   "cell_type": "code",
   "execution_count": null,
   "id": "46556d93",
   "metadata": {},
   "outputs": [],
   "source": []
  },
  {
   "cell_type": "code",
   "execution_count": 60,
   "id": "f058894e",
   "metadata": {},
   "outputs": [],
   "source": [
    "# Compute the rates between each pair of species (big matrix warning!)\n",
    "species_rates1 = np.zeros((len(times1), num_species, num_species), np.float64)\n",
    "for index, reaction in enumerate(universal_reaction_list):\n",
    "    rate = universal_rates1[:, index]\n",
    "    if not reaction.pairs: reaction.generate_pairs()\n",
    "    for reactant, product in reaction.pairs:\n",
    "        reactant_index = universal_species_list.index(reactant)\n",
    "        product_index = universal_species_list.index(product)\n",
    "        species_rates1[:, reactant_index, product_index] += rate\n",
    "        species_rates1[:, product_index, reactant_index] -= rate\n",
    "        \n",
    "species_rates2 = np.zeros((len(times2), num_species, num_species), np.float64)\n",
    "for index, reaction in enumerate(universal_reaction_list):\n",
    "    rate = universal_rates2[:, index]\n",
    "    if not reaction.pairs: reaction.generate_pairs()\n",
    "    for reactant, product in reaction.pairs:\n",
    "        reactant_index = universal_species_list.index(reactant)\n",
    "        product_index = universal_species_list.index(product)\n",
    "        species_rates2[:, reactant_index, product_index] += rate\n",
    "        species_rates2[:, product_index, reactant_index] -= rate"
   ]
  },
  {
   "cell_type": "code",
   "execution_count": null,
   "id": "9c0e1362",
   "metadata": {},
   "outputs": [],
   "source": []
  },
  {
   "cell_type": "code",
   "execution_count": null,
   "id": "5c9b5a09",
   "metadata": {},
   "outputs": [],
   "source": []
  },
  {
   "cell_type": "code",
   "execution_count": 61,
   "id": "3afd35f2",
   "metadata": {},
   "outputs": [],
   "source": [
    "# Determine the maximum concentration for each species and the maximum overall concentration\n",
    "max_concentrations1 = np.max(np.abs(concentrations1), axis=0)\n",
    "max_concentration1 = np.max(max_concentrations1)\n",
    "\n",
    "# Determine the maximum reaction rates\n",
    "max_reaction_rates1 = np.max(np.abs(universal_rates1), axis=0)\n",
    "\n",
    "# Determine the maximum rate for each species-species pair and the maximum overall species-species rate\n",
    "max_species_rates1 = np.max(np.abs(species_rates1), axis=0)\n",
    "max_species_rate1 = np.max(max_species_rates1)\n",
    "species_index1 = max_species_rates1.reshape((num_species * num_species)).argsort()\n",
    "\n",
    "\n",
    "\n",
    "# Determine the maximum concentration for each species and the maximum overall concentration\n",
    "max_concentrations2 = np.max(np.abs(concentrations2), axis=0)\n",
    "max_concentration2 = np.max(max_concentrations2)\n",
    "\n",
    "# Determine the maximum reaction rates\n",
    "max_reaction_rates2 = np.max(np.abs(universal_rates2), axis=0)\n",
    "\n",
    "# Determine the maximum rate for each species-species pair and the maximum overall species-species rate\n",
    "max_species_rates2 = np.max(np.abs(species_rates2), axis=0)\n",
    "max_species_rate2 = np.max(max_species_rates2)\n",
    "species_index2 = max_species_rates2.reshape((num_species * num_species)).argsort()"
   ]
  },
  {
   "cell_type": "code",
   "execution_count": 102,
   "id": "4116a011",
   "metadata": {},
   "outputs": [],
   "source": [
    "nodes = []  # contains all\n",
    "nodes1 = []\n",
    "nodes2 = []\n",
    "\n",
    "edges = []  # contains all\n",
    "edges1 = []\n",
    "edges2 = []"
   ]
  },
  {
   "cell_type": "code",
   "execution_count": 103,
   "id": "07e39e40",
   "metadata": {},
   "outputs": [],
   "source": [
    "for i in range(num_species * num_species):\n",
    "    product_index, reactant_index = divmod(species_index1[-i - 1], num_species)\n",
    "    if reactant_index > product_index:\n",
    "        # Both reactant -> product and product -> reactant are in this list,\n",
    "        # so only keep one of them\n",
    "        continue\n",
    "    if max_species_rates1[reactant_index, product_index] == 0:\n",
    "        break\n",
    "    if reactant_index not in nodes1 and len(nodes) < max_node_count: nodes1.append(reactant_index)\n",
    "    if product_index not in nodes1 and len(nodes) < max_node_count: nodes1.append(product_index)\n",
    "    if [reactant_index, product_index] not in edges1 and [product_index, reactant_index] not in edges1:\n",
    "        edges1.append([reactant_index, product_index])\n",
    "    if len(nodes1) > max_node_count:\n",
    "        break\n",
    "    if len(edges1) >= max_edge_count:\n",
    "        break\n",
    "        \n",
    "for i in range(num_species * num_species):\n",
    "    product_index, reactant_index = divmod(species_index2[-i - 1], num_species)\n",
    "    if reactant_index > product_index:\n",
    "        # Both reactant -> product and product -> reactant are in this list,\n",
    "        # so only keep one of them\n",
    "        continue\n",
    "    if max_species_rates2[reactant_index, product_index] == 0:\n",
    "        break\n",
    "    if reactant_index not in nodes2 and len(nodes2) < max_node_count: nodes2.append(reactant_index)\n",
    "    if product_index not in nodes2 and len(nodes2) < max_node_count: nodes2.append(product_index)\n",
    "    if [reactant_index, product_index] not in edges2 and [product_index, reactant_index] not in edges2:\n",
    "        edges2.append([reactant_index, product_index])\n",
    "    if len(nodes2) > max_node_count:\n",
    "        break\n",
    "    if len(edges2) >= max_edge_count:\n",
    "        break\n"
   ]
  },
  {
   "cell_type": "code",
   "execution_count": 104,
   "id": "dc8fe3d9",
   "metadata": {},
   "outputs": [],
   "source": [
    "nodes = nodes1 + nodes2\n",
    "edges = edges1 + edges2"
   ]
  },
  {
   "cell_type": "code",
   "execution_count": 105,
   "id": "7ec46fce",
   "metadata": {},
   "outputs": [
    {
     "data": {
      "text/plain": [
       "72"
      ]
     },
     "execution_count": 105,
     "metadata": {},
     "output_type": "execute_result"
    }
   ],
   "source": [
    "len(nodes)"
   ]
  },
  {
   "cell_type": "code",
   "execution_count": null,
   "id": "d5842950",
   "metadata": {},
   "outputs": [],
   "source": []
  },
  {
   "cell_type": "code",
   "execution_count": null,
   "id": "5fc8b2bf",
   "metadata": {},
   "outputs": [],
   "source": []
  },
  {
   "cell_type": "code",
   "execution_count": 106,
   "id": "1d20dc73",
   "metadata": {},
   "outputs": [],
   "source": [
    "# Create the master graph\n",
    "# First we're going to generate the coordinates for all of the nodes; for\n",
    "# this we use the thickest pen widths for all nodes and edges\n",
    "graph = pydot.Dot('flux_diagram', graph_type='digraph', overlap=\"false\")\n",
    "graph.set_rankdir('LR')\n",
    "graph.set_fontname('sans')\n",
    "graph.set_fontsize('10')\n",
    "\n",
    "# Add a node for each species\n",
    "for index in nodes:\n",
    "#     species = species_list1[index]\n",
    "    species = universal_species_list[index]\n",
    "    node = pydot.Node(name=str(species))\n",
    "    node.set_penwidth(max_node_pen_width)\n",
    "    graph.add_node(node)\n",
    "    # Try to use an image instead of the label\n",
    "    species_index = str(species) + '.png'\n",
    "    image_path = ''\n",
    "    if not species_path or not os.path.exists(species_path):\n",
    "        continue\n",
    "    for root, dirs, files in os.walk(species_path):\n",
    "        for f in files:\n",
    "            if f.endswith(species_index):\n",
    "                image_path = os.path.join(root, f)\n",
    "                break\n",
    "    if os.path.exists(image_path):\n",
    "        node.set_image(image_path)\n",
    "        node.set_label(\" \")\n",
    "# Add an edge for each species-species rate\n",
    "for reactant_index, product_index in edges1:\n",
    "    if reactant_index in nodes and product_index in nodes:\n",
    "        reactant = universal_species_list[reactant_index]\n",
    "        product = universal_species_list[product_index]\n",
    "        my_red = '#ff000080'\n",
    "        edge = pydot.Edge(str(reactant), str(product), color=my_red)\n",
    "        edge.set_penwidth(max_edge_pen_width)\n",
    "        graph.add_edge(edge)\n",
    "        \n",
    "for reactant_index, product_index in edges2:\n",
    "    if reactant_index in nodes and product_index in nodes:\n",
    "        reactant = universal_species_list[reactant_index]\n",
    "        product = universal_species_list[product_index]\n",
    "        my_blue = '#0000ff80'\n",
    "        edge = pydot.Edge(str(reactant), str(product), color=my_blue)\n",
    "        edge.set_penwidth(max_edge_pen_width)\n",
    "        graph.add_edge(edge)\n",
    "\n",
    "# Generate the coordinates for all of the nodes using the specified program\n",
    "graph = pydot.graph_from_dot_data(graph.create_dot(prog=program).decode('utf-8'))[0]"
   ]
  },
  {
   "cell_type": "code",
   "execution_count": 107,
   "id": "eec500ea",
   "metadata": {},
   "outputs": [],
   "source": [
    "# # clear all edges\n",
    "# for nodeA in graph.get_nodes():\n",
    "#     for nodeB in graph.get_nodes():\n",
    "#         graph.del_edge(nodeA, nodeB)\n",
    "#         graph.del_edge(nodeA, nodeB)"
   ]
  },
  {
   "cell_type": "code",
   "execution_count": 112,
   "id": "ba308253",
   "metadata": {},
   "outputs": [
    {
     "data": {
      "text/plain": [
       "121"
      ]
     },
     "execution_count": 112,
     "metadata": {},
     "output_type": "execute_result"
    }
   ],
   "source": [
    "len(times1)"
   ]
  },
  {
   "cell_type": "code",
   "execution_count": 113,
   "id": "b623cf05",
   "metadata": {},
   "outputs": [
    {
     "data": {
      "text/plain": [
       "121"
      ]
     },
     "execution_count": 113,
     "metadata": {},
     "output_type": "execute_result"
    }
   ],
   "source": [
    "len(times2)"
   ]
  },
  {
   "cell_type": "code",
   "execution_count": 117,
   "id": "68f34214",
   "metadata": {},
   "outputs": [
    {
     "name": "stdout",
     "output_type": "stream",
     "text": [
      "23 9.999999999999998e-08 8.724152220000001e-08\n",
      "25 1.4260633500000002e-07 1.1744051100000001e-07\n",
      "26 1.7616076700000004e-07 1.476394998e-07\n",
      "27 2.43269631e-07 1.778384886e-07\n",
      "28 3.0072491952222505e-07 2.382364662e-07\n",
      "29 3.581802080444501e-07 2.9259464604e-07\n",
      "30 4.156354965666751e-07 3.4695282588e-07\n",
      "31 4.7309078508890013e-07 4.0131100572e-07\n",
      "32 5.880013621333502e-07 4.5566918556e-07\n",
      "33 6.914208814733553e-07 5.6438554524e-07\n",
      "34 8.100091496488332e-07 6.62230268952e-07\n",
      "35 9.167385910067633e-07 7.711583242590333e-07\n",
      "36 9.999999999999997e-07 8.691935740353633e-07\n",
      "37 1.0234680323646935e-06 9.672288238116933e-07\n",
      "38 1.1301974737226238e-06 9.999999999999997e-07\n",
      "39 1.343656356438484e-06 1.0652640735880232e-06\n",
      "40 1.5571152391543442e-06 1.163299323364353e-06\n",
      "41 1.7705741218702045e-06 1.359369822917013e-06\n",
      "42 1.984033004586065e-06 1.555440322469673e-06\n",
      "43 2.4109507700177854e-06 1.817291000051389e-06\n",
      "44 2.837868535449506e-06 2.079141677633105e-06\n",
      "45 3.2647863008812263e-06 2.340992355214821e-06\n",
      "46 3.6917040663129468e-06 2.602843032796537e-06\n",
      "47 4.545539597176388e-06 3.1265443879599694e-06\n",
      "48 5.399375128039829e-06 3.6502457431234015e-06\n",
      "49 6.25321065890327e-06 4.697648453450266e-06\n",
      "50 7.107046189766711e-06 5.74505116377713e-06\n",
      "51 7.960881720630153e-06 6.792453874103994e-06\n",
      "52 8.814717251493595e-06 7.839856584430859e-06\n",
      "53 9.668552782357036e-06 8.887259294757723e-06\n",
      "55 1.0522388313220478e-05 1.0982064715411452e-05\n",
      "56 1.137622384408392e-05 1.307687013606518e-05\n",
      "57 1.2230059374947362e-05 1.5171675556718909e-05\n",
      "58 1.3083894905810803e-05 1.7266480977372636e-05\n",
      "59 1.3937730436674245e-05 1.9361286398026364e-05\n",
      "60 1.4791565967537687e-05 2.1456091818680093e-05\n",
      "61 1.649923702926457e-05 2.355089723933382e-05\n",
      "62 1.8036140984818764e-05 2.774050808064128e-05\n",
      "63 1.957304494037296e-05 3.193011892194873e-05\n",
      "64 2.1109948895927156e-05 3.5700768679125445e-05\n",
      "65 2.264685285148135e-05 3.947141843630216e-05\n",
      "66 2.4183756807035547e-05 4.324206819347887e-05\n",
      "67 2.5720660762589742e-05 4.701271795065558e-05\n",
      "68 2.7257564718143938e-05 5.0783367707832293e-05\n",
      "69 3.0331372629252326e-05 5.4554017465009006e-05\n",
      "70 3.340518054036071e-05 5.832466722218572e-05\n",
      "71 3.64789884514691e-05 6.209531697936243e-05\n",
      "72 3.955279636257749e-05 6.586596673653914e-05\n",
      "73 4.262660427368588e-05 6.963661649371584e-05\n",
      "74 4.570041218479427e-05 7.717791600806927e-05\n",
      "75 4.877422009590266e-05 8.396508557098735e-05\n",
      "76 5.184802800701105e-05 9.075225513390543e-05\n",
      "77 5.4921835918119444e-05 9.753942469682351e-05\n",
      "78 6.414325965144462e-05 9.999999999999998e-05\n",
      "79 7.951229920698657e-05 0.0001043265942597416\n",
      "80 9.999999999999998e-05 0.00011111376382265968\n",
      "81 0.00013176703369582922 0.00013147527251141392\n",
      "82 0.00016459055264896063 0.00016541112032600433\n",
      "83 0.0002056199513403749 0.00020206183596576193\n",
      "84 0.00025485522977007207 0.00026314636203202466\n",
      "85 0.0003205022676763351 0.0003217875070556369\n",
      "86 0.0004000993011376789 0.00040425161724509174\n",
      "87 0.0005027548566635977 0.0005071668267615313\n",
      "88 0.0006343607559061786 0.0006318525613679865\n",
      "89 0.0007976717126935621 0.0007977736496335762\n",
      "91 0.001259265568319443 0.00126188378935387\n",
      "92 0.0015887462973330807 0.001586979028662587\n",
      "93 0.001999659238527295 0.001995218069173736\n",
      "94 0.0025159121390622157 0.0025136907840947152\n",
      "95 0.0031639813572383905 0.0031677308673811176\n",
      "96 0.003986854875682385 0.003984292531549067\n",
      "97 0.005014545445497945 0.005013713585632301\n",
      "98 0.006319685962273861 0.006332321974054084\n",
      "99 0.007962240060295495 0.007957102428528338\n",
      "101 0.012689805055988141 0.01274080422864765\n",
      "102 0.015850843088127186 0.016176034298034662\n",
      "103 0.02017516148569232 0.020208695683836823\n",
      "104 0.025295991433260584 0.025137280007518026\n",
      "105 0.031741181553501474 0.03162936075598624\n",
      "106 0.04007701501100204 0.04000781968419817\n",
      "107 0.05063354085994745 0.05021851528855324\n",
      "108 0.06344370705866773 0.06372018136560535\n",
      "109 0.07959519160755422 0.07951018696177381\n",
      "111 0.12647501962506708 0.12628931341051772\n",
      "112 0.16040827737021524 0.1608127390981671\n",
      "113 0.1995523856572065 0.20098947893724733\n",
      "114 0.2515117854102947 0.2514542798520361\n",
      "115 0.3174505374470343 0.31711706642775145\n",
      "116 0.3992752536244654 0.40142819892043524\n",
      "117 0.5037412743703704 0.5013949913235369\n",
      "118 0.632366383882885 0.6350302844321736\n",
      "119 0.7943954270996648 0.7956474275588344\n"
     ]
    }
   ],
   "source": [
    "assert len(times1) == len(times2)\n",
    "for i in range(len(times1)):\n",
    "    if not np.isclose(times1[i], times2[i]):\n",
    "        print(i, times1[i], times2[i])\n",
    "#     assert np.isclose(times1[i], times2[i])\n"
   ]
  },
  {
   "cell_type": "code",
   "execution_count": 118,
   "id": "e4c87837",
   "metadata": {},
   "outputs": [],
   "source": [
    "# update the line widths\n",
    "# t = times1[-1]\n",
    "t = None\n",
    "t1 = 92\n",
    "t2 = 92\n",
    "\n",
    "\n",
    "# Update the nodes\n",
    "slope = -max_node_pen_width / np.log10(concentration_tol)\n",
    "for index in nodes1:\n",
    "#     species = species_list1[index]\n",
    "    species = universal_species_list[index]\n",
    "    if re.search(r'^[a-zA-Z0-9_]*$', str(species)) is not None:\n",
    "        species_string = str(species)\n",
    "    else:\n",
    "        # species name contains special characters                \n",
    "        species_string = '\"{0}\"'.format(str(species))\n",
    "\n",
    "    node = graph.get_node(species_string)[0]\n",
    "    concentration = universal_concentrations1[t1, index] / max_concentration1\n",
    "    if concentration < concentration_tol:\n",
    "        penwidth = 0.0\n",
    "    else:\n",
    "        penwidth = round(slope * np.log10(concentration) + max_node_pen_width, 3)\n",
    "    node.set_penwidth(penwidth)\n",
    "\n",
    "\n",
    "for index in nodes2:\n",
    "#     species = species_list2[index]\n",
    "    species = universal_species_list[index]\n",
    "    if re.search(r'^[a-zA-Z0-9_]*$', str(species)) is not None:\n",
    "        species_string = str(species)\n",
    "    else:\n",
    "        # species name contains special characters                \n",
    "        species_string = '\"{0}\"'.format(str(species))\n",
    "\n",
    "    node = graph.get_node(species_string)[0]\n",
    "    concentration = universal_concentrations2[t2, index] / max_concentration2\n",
    "    if concentration < concentration_tol:\n",
    "        penwidth = 0.0\n",
    "    else:\n",
    "        penwidth = round(slope * np.log10(concentration) + max_node_pen_width, 3)\n",
    "    node.set_penwidth(penwidth)\n",
    "    \n",
    "# Update the edges\n",
    "slope = -max_edge_pen_width / np.log10(species_rate_tol)\n",
    "for index in range(len(edges1)):\n",
    "    reactant_index, product_index = edges1[index]\n",
    "    if reactant_index in nodes1 and product_index in nodes1:\n",
    "#         reactant = species_list1[reactant_index]\n",
    "#         product = species_list1[product_index]\n",
    "        reactant = universal_species_list[reactant_index]\n",
    "        product = universal_species_list[product_index]\n",
    "\n",
    "        if re.search(r'^[a-zA-Z0-9_]*$', str(reactant)) is not None:\n",
    "            reactant_string = str(reactant)\n",
    "        else:\n",
    "            reactant_string = '\"{0}\"'.format(str(reactant))\n",
    "\n",
    "        if re.search(r'^[a-zA-Z0-9_]*$', str(product)) is not None:\n",
    "            product_string = str(product)\n",
    "        else:\n",
    "            product_string = '\"{0}\"'.format(str(product))\n",
    "\n",
    "        edge = graph.get_edge(reactant_string, product_string)[0]\n",
    "        # Determine direction of arrow based on sign of rate\n",
    "        species_rate = species_rates1[t1, reactant_index, product_index] / max_species_rate1\n",
    "        if species_rate < 0:\n",
    "            edge.set_dir(\"back\")\n",
    "            species_rate = -species_rate\n",
    "        else:\n",
    "            edge.set_dir(\"forward\")\n",
    "        # Set the edge pen width\n",
    "        if species_rate < species_rate_tol:\n",
    "            penwidth = 0.0\n",
    "            edge.set_dir(\"none\")\n",
    "        else:\n",
    "            penwidth = round(slope * np.log10(species_rate) + max_edge_pen_width, 3)\n",
    "        edge.set_penwidth(penwidth)\n",
    "\n",
    "for index in range(len(edges2)):\n",
    "    reactant_index, product_index = edges2[index]\n",
    "    if reactant_index in nodes2 and product_index in nodes2:\n",
    "#         reactant = species_list2[reactant_index]\n",
    "#         product = species_list2[product_index]\n",
    "        reactant = universal_species_list[reactant_index]\n",
    "        product = universal_species_list[product_index]\n",
    "\n",
    "        if re.search(r'^[a-zA-Z0-9_]*$', str(reactant)) is not None:\n",
    "            reactant_string = str(reactant)\n",
    "        else:\n",
    "            reactant_string = '\"{0}\"'.format(str(reactant))\n",
    "\n",
    "        if re.search(r'^[a-zA-Z0-9_]*$', str(product)) is not None:\n",
    "            product_string = str(product)\n",
    "        else:\n",
    "            product_string = '\"{0}\"'.format(str(product))\n",
    "\n",
    "        edge = graph.get_edge(reactant_string, product_string)[0]\n",
    "        # Determine direction of arrow based on sign of rate\n",
    "        species_rate = species_rates2[t2, reactant_index, product_index] / max_species_rate2\n",
    "        if species_rate < 0:\n",
    "            edge.set_dir(\"back\")\n",
    "            species_rate = -species_rate\n",
    "        else:\n",
    "            edge.set_dir(\"forward\")\n",
    "        # Set the edge pen width\n",
    "        if species_rate < species_rate_tol:\n",
    "            penwidth = 0.0\n",
    "            edge.set_dir(\"none\")\n",
    "        else:\n",
    "            penwidth = round(slope * np.log10(species_rate) + max_edge_pen_width, 3)\n",
    "        edge.set_penwidth(penwidth)"
   ]
  },
  {
   "cell_type": "code",
   "execution_count": null,
   "id": "35fd33ce",
   "metadata": {},
   "outputs": [],
   "source": []
  },
  {
   "cell_type": "code",
   "execution_count": 119,
   "id": "bde624e9",
   "metadata": {},
   "outputs": [],
   "source": [
    "graph.write_dot('mechanism_flux.dot')\n",
    "graph.write_png('mechanism_flux.png')\n",
    "img = mpimg.imread('mechanism_flux.png')\n",
    "imgplot = plt.imshow(img)"
   ]
  },
  {
   "cell_type": "code",
   "execution_count": null,
   "id": "1318d4fc",
   "metadata": {},
   "outputs": [],
   "source": []
  },
  {
   "cell_type": "code",
   "execution_count": null,
   "id": "2c33c563",
   "metadata": {},
   "outputs": [],
   "source": []
  },
  {
   "cell_type": "code",
   "execution_count": 120,
   "id": "6529d492",
   "metadata": {},
   "outputs": [],
   "source": [
    "# delete all edges\n",
    "for nodeA in graph.get_nodes():\n",
    "    for nodeB in graph.get_nodes():\n",
    "        graph.del_edge(nodeA, nodeB)\n",
    "        graph.del_edge(nodeA, nodeB)\n",
    "\n",
    "# remake plot 1:\n",
    "for reactant_index, product_index in edges1:\n",
    "    if reactant_index in nodes and product_index in nodes:\n",
    "        reactant = universal_species_list[reactant_index]\n",
    "        product = universal_species_list[product_index]\n",
    "        edge = pydot.Edge(str(reactant), str(product), color='#ff000080')\n",
    "        edge.set_penwidth(max_edge_pen_width)\n",
    "        graph.add_edge(edge)\n",
    "        \n",
    "        \n",
    "graph.write_dot('mechanism_flux1.dot')\n",
    "graph.write_png('mechanism_flux1.png')\n",
    "img = mpimg.imread('mechanism_flux1.png')\n",
    "imgplot = plt.imshow(img)"
   ]
  },
  {
   "cell_type": "code",
   "execution_count": null,
   "id": "b7fff111",
   "metadata": {},
   "outputs": [],
   "source": []
  },
  {
   "cell_type": "code",
   "execution_count": 121,
   "id": "79f119f4",
   "metadata": {},
   "outputs": [],
   "source": [
    "# delete all edges\n",
    "for nodeA in graph.get_nodes():\n",
    "    for nodeB in graph.get_nodes():\n",
    "        graph.del_edge(nodeA, nodeB)\n",
    "        graph.del_edge(nodeA, nodeB)\n",
    "        \n",
    "# remake plot 2:\n",
    "for reactant_index, product_index in edges2:\n",
    "    if reactant_index in nodes and product_index in nodes:\n",
    "        reactant = universal_species_list[reactant_index]\n",
    "        product = universal_species_list[product_index]\n",
    "        edge = pydot.Edge(str(reactant), str(product), color='#0000ff80')\n",
    "        edge.set_penwidth(max_edge_pen_width)\n",
    "        graph.add_edge(edge)\n",
    "        \n",
    "graph.write_dot('mechanism_flux2.dot')\n",
    "graph.write_png('mechanism_flux2.png')\n",
    "img = mpimg.imread('mechanism_flux2.png')\n",
    "imgplot = plt.imshow(img)"
   ]
  },
  {
   "cell_type": "code",
   "execution_count": null,
   "id": "3e69eb2a",
   "metadata": {},
   "outputs": [],
   "source": [
    "dir(graph)"
   ]
  },
  {
   "cell_type": "code",
   "execution_count": null,
   "id": "42ef2cf8",
   "metadata": {},
   "outputs": [],
   "source": []
  },
  {
   "cell_type": "code",
   "execution_count": null,
   "id": "124da0a7",
   "metadata": {},
   "outputs": [],
   "source": []
  },
  {
   "cell_type": "code",
   "execution_count": null,
   "id": "ddab791e",
   "metadata": {},
   "outputs": [],
   "source": [
    "nodes"
   ]
  },
  {
   "cell_type": "code",
   "execution_count": null,
   "id": "7d95ecf6",
   "metadata": {},
   "outputs": [],
   "source": []
  }
 ],
 "metadata": {
  "kernelspec": {
   "display_name": "Python 3 (ipykernel)",
   "language": "python",
   "name": "python3"
  },
  "language_info": {
   "codemirror_mode": {
    "name": "ipython",
    "version": 3
   },
   "file_extension": ".py",
   "mimetype": "text/x-python",
   "name": "python",
   "nbconvert_exporter": "python",
   "pygments_lexer": "ipython3",
   "version": "3.7.16"
  }
 },
 "nbformat": 4,
 "nbformat_minor": 5
}
