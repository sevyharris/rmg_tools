{
 "cells": [
  {
   "cell_type": "code",
   "execution_count": 1,
   "id": "68acddd7",
   "metadata": {},
   "outputs": [],
   "source": [
    "import cantera as ct\n",
    "import cantera.ck2cti\n",
    "import rmgpy.chemkin\n",
    "\n",
    "import numpy as np\n"
   ]
  },
  {
   "cell_type": "code",
   "execution_count": 2,
   "id": "da97f73b",
   "metadata": {},
   "outputs": [],
   "source": [
    "# load David's 2-BTP model\n",
    "# https://github.com/comocheng/halogen_models/tree/main/combustion_symposium_paper/supporting_material\n",
    "\n",
    "RMG_chemkin_path = 'models/RMG/chem_annotated.inp'\n",
    "RMG_dictionary_path = 'models/RMG/species_dictionary.txt'\n",
    "RMG_transport_path = 'models/RMG/tran.dat'\n",
    "RMG_cti_path = 'models/RMG/chem_annotated.cti'\n",
    "\n",
    "RMG_species_list, RMG_reaction_list = rmgpy.chemkin.load_chemkin_file(RMG_chemkin_path, dictionary_path=RMG_dictionary_path, transport_path=RMG_transport_path)\n",
    "# RMG_gas = ct.Solution(RMG_cti_path)\n",
    "\n"
   ]
  },
  {
   "cell_type": "code",
   "execution_count": 3,
   "id": "815ee1d0",
   "metadata": {},
   "outputs": [],
   "source": [
    "# generate a list of species with halogens, then remove those from the model reactions\n",
    "halogens = []\n",
    "for sp in RMG_species_list:\n",
    "    for atom in sp.molecule[0].atoms:\n",
    "        if atom.is_halogen():\n",
    "            halogens.append(sp)\n",
    "            break\n",
    "# generate a list of species with halogens, then remove those from the model reactions\n",
    "halogen_reactions = []\n",
    "for rxn in RMG_reaction_list:\n",
    "    for reactant in rxn.reactants:\n",
    "        if reactant in halogens:\n",
    "            halogen_reactions.append(rxn)\n",
    "            break"
   ]
  },
  {
   "cell_type": "code",
   "execution_count": 4,
   "id": "2452d531",
   "metadata": {},
   "outputs": [
    {
     "name": "stdout",
     "output_type": "stream",
     "text": [
      "98\n",
      "825\n"
     ]
    }
   ],
   "source": [
    "truncated_sp_list = []\n",
    "for sp in RMG_species_list:\n",
    "    if sp not in halogens:\n",
    "        truncated_sp_list.append(sp)\n",
    "\n",
    "truncated_rxn_list = []\n",
    "for rxn in RMG_reaction_list:\n",
    "    if rxn not in halogen_reactions:\n",
    "        truncated_rxn_list.append(rxn)\n",
    "        \n",
    "print(len(truncated_sp_list))\n",
    "print(len(truncated_rxn_list))\n"
   ]
  },
  {
   "cell_type": "code",
   "execution_count": 5,
   "id": "87697ef1",
   "metadata": {},
   "outputs": [],
   "source": [
    "rmgpy.chemkin.save_chemkin_file('no_halogens.inp', truncated_sp_list, truncated_rxn_list, verbose=True, check_for_duplicates=True)\n",
    "rmgpy.chemkin.save_transport_file('no_halogens_tran.dat', truncated_sp_list)\n",
    "rmgpy.chemkin.save_species_dictionary('no_halogens_dict.txt', truncated_sp_list)"
   ]
  },
  {
   "cell_type": "code",
   "execution_count": null,
   "id": "dc6384b9",
   "metadata": {},
   "outputs": [],
   "source": []
  }
 ],
 "metadata": {
  "kernelspec": {
   "display_name": "Python 3 (ipykernel)",
   "language": "python",
   "name": "python3"
  },
  "language_info": {
   "codemirror_mode": {
    "name": "ipython",
    "version": 3
   },
   "file_extension": ".py",
   "mimetype": "text/x-python",
   "name": "python",
   "nbconvert_exporter": "python",
   "pygments_lexer": "ipython3",
   "version": "3.7.12"
  }
 },
 "nbformat": 4,
 "nbformat_minor": 5
}
