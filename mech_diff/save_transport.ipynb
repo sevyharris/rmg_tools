{
 "cells": [
  {
   "cell_type": "code",
   "execution_count": 1,
   "id": "0fea8ee3",
   "metadata": {},
   "outputs": [],
   "source": [
    "# script to save cantera transport data to a tran.dat file"
   ]
  },
  {
   "cell_type": "code",
   "execution_count": 3,
   "id": "4d3a3d1e",
   "metadata": {},
   "outputs": [],
   "source": [
    "import cantera as ct"
   ]
  },
  {
   "cell_type": "code",
   "execution_count": 4,
   "id": "59698784",
   "metadata": {},
   "outputs": [
    {
     "name": "stdout",
     "output_type": "stream",
     "text": [
      "CanteraWarning: NasaPoly2::validate: \n",
      "For species CH2OCH, discontinuity in cp/R detected at Tmid = 500.0\n",
      "\tValue computed using low-temperature polynomial:  8.393471510000001\n",
      "\tValue computed using high-temperature polynomial: 9.1801039121875\n",
      "\n",
      "CanteraWarning: NasaPoly2::validate: \n",
      "For species CH2OCH, discontinuity in h/RT detected at Tmid = 500.0\n",
      "\tValue computed using low-temperature polynomial:  42.199147089791666\n",
      "\tValue computed using high-temperature polynomial: 41.961461604875005\n",
      "\n",
      "CanteraWarning: NasaPoly2::validate: \n",
      "For species CH2OCH, discontinuity in s/R detected at Tmid = 500.0\n",
      "\tValue computed using low-temperature polynomial:  33.70692865946735\n",
      "\tValue computed using high-temperature polynomial: 33.51209988778391\n",
      "\n",
      "CanteraWarning: NasaPoly2::validate: \n",
      "For species C4H5-2, discontinuity in h/RT detected at Tmid = 1000.0\n",
      "\tValue computed using low-temperature polynomial:  47.65235236593109\n",
      "\tValue computed using high-temperature polynomial: 48.43623165666667\n",
      "\n",
      "CanteraWarning: NasaPoly2::validate: \n",
      "For species C4H5-2, discontinuity in s/R detected at Tmid = 1000.0\n",
      "\tValue computed using low-temperature polynomial:  52.42918829260522\n",
      "\tValue computed using high-temperature polynomial: 54.320817046995025\n",
      "\n",
      "CanteraWarning: NasaPoly2::validate: \n",
      "For species C2H3CHOCH2, discontinuity in h/RT detected at Tmid = 1000.0\n",
      "\tValue computed using low-temperature polynomial:  13.197490232436893\n",
      "\tValue computed using high-temperature polynomial: 13.009458623333332\n",
      "\n",
      "CanteraWarning: NasaPoly2::validate: \n",
      "For species C2H3CHOCH2, discontinuity in s/R detected at Tmid = 1000.0\n",
      "\tValue computed using low-temperature polynomial:  55.5754926344824\n",
      "\tValue computed using high-temperature polynomial: 53.05298769454252\n",
      "\n",
      "CanteraWarning: NasaPoly2::validate: \n",
      "For species CH3CHCHCHO, discontinuity in h/RT detected at Tmid = 1000.0\n",
      "\tValue computed using low-temperature polynomial:  -0.87553076770625\n",
      "\tValue computed using high-temperature polynomial: -0.7952995433333321\n",
      "\n",
      "CanteraWarning: NasaPoly2::validate: \n",
      "For species CH3CHCHCHO, discontinuity in s/R detected at Tmid = 1000.0\n",
      "\tValue computed using low-temperature polynomial:  59.194456477008444\n",
      "\tValue computed using high-temperature polynomial: 62.495269678449205\n",
      "\n",
      "CanteraWarning: NasaPoly2::validate: \n",
      "For species C4H6-2, discontinuity in h/RT detected at Tmid = 1000.0\n",
      "\tValue computed using low-temperature polynomial:  28.072393266570767\n",
      "\tValue computed using high-temperature polynomial: 28.60292515\n",
      "\n",
      "CanteraWarning: NasaPoly2::validate: \n",
      "For species C4H6-2, discontinuity in s/R detected at Tmid = 1000.0\n",
      "\tValue computed using low-temperature polynomial:  50.25139828976554\n",
      "\tValue computed using high-temperature polynomial: 51.51521152074738\n",
      "\n",
      "CanteraWarning: NasaPoly2::validate: \n",
      "For species BTP, discontinuity in h/RT detected at Tmid = 1000.0\n",
      "\tValue computed using low-temperature polynomial:  -58.208908542333354\n",
      "\tValue computed using high-temperature polynomial: -61.19148651113667\n",
      "\n",
      "CanteraWarning: Troe::init: Unexpected parameter value T2=0. Omitting exp(T2/T) term from falloff expression. To suppress this warning, remove value for T2 from the input file. In the unlikely case that the exp(T2/T) term should be included with T2 effectively equal to 0, set T2 to a sufficiently small value (i.e. T2 < 1e-16).\n"
     ]
    }
   ],
   "source": [
    "# Load Cantera model\n",
    "cti_path = 'models/NIST/2-BTP_kinetics.cti'\n",
    "gas = ct.Solution(cti_path)"
   ]
  },
  {
   "cell_type": "code",
   "execution_count": 35,
   "id": "1b6475cf",
   "metadata": {},
   "outputs": [
    {
     "data": {
      "text/plain": [
       "2.7500000000000004"
      ]
     },
     "execution_count": 35,
     "metadata": {},
     "output_type": "execute_result"
    }
   ],
   "source": [
    "gas.species()[3].transport.diameter * 1e10"
   ]
  },
  {
   "cell_type": "code",
   "execution_count": 16,
   "id": "4e50b767",
   "metadata": {},
   "outputs": [],
   "source": [
    "# see RMG-Py/rmgpy/transport.py:TransportData()\n",
    "shape_index = {'atom': 0, 'linear': 1, 'nonlinear': 2}"
   ]
  },
  {
   "cell_type": "code",
   "execution_count": 54,
   "id": "804a9732",
   "metadata": {},
   "outputs": [],
   "source": [
    "coulomb_meters2debye = 2.997924581780902e29\n",
    "\n",
    "output_transport_file = 'models/NIST/tran.dat'\n",
    "with open(output_transport_file, 'w') as f:\n",
    "    f.write(\"! {0:15} {1:8} {2:9} {3:9} {4:9} {5:9} {6:9} {7:9}\\n\".format(\n",
    "            'Species', 'Shape', 'LJ-depth', 'LJ-diam', 'DiplMom', 'Polzblty', 'RotRelaxNum', 'Data'))\n",
    "    f.write(\"! {0:15} {1:8} {2:9} {3:9} {4:9} {5:9} {6:9} {7:9}\\n\".format(\n",
    "            'Name', 'Index', 'epsilon/k_B', 'sigma', 'mu', 'alpha', 'Zrot', 'Source'))\n",
    "    for species in gas.species():\n",
    "        f.write('{0:19} {1:d}   {2:9.3f} {3:9.3f} {4:9.3f} {5:9.3f} {6:9.3f}    ! {7:s}\\n'.format(\n",
    "                    species.name,\n",
    "                    shape_index[species.transport.geometry],\n",
    "                    species.transport.well_depth / ct.gas_constant * ct.avogadro,  # convert to K\n",
    "                    species.transport.diameter * 1e10,  # convert to Angstroms\n",
    "                    (species.transport.dipole * coulomb_meters2debye if species.transport.dipole else 0),\n",
    "                    (species.transport.polarizability * 1e30 if species.transport.polarizability else 0),\n",
    "                    (species.transport.rotational_relaxation if species.transport.rotational_relaxation else 0),\n",
    "                    '',\n",
    "                ))"
   ]
  },
  {
   "cell_type": "code",
   "execution_count": 32,
   "id": "3da5ab27",
   "metadata": {},
   "outputs": [
    {
     "data": {
      "text/plain": [
       "80.00000000000001"
      ]
     },
     "execution_count": 32,
     "metadata": {},
     "output_type": "execute_result"
    }
   ],
   "source": [
    "gas.species()[3].transport.well_depth / ct.gas_constant * ct.avogadro  # convert to K"
   ]
  },
  {
   "cell_type": "code",
   "execution_count": null,
   "id": "5941a35f",
   "metadata": {},
   "outputs": [],
   "source": [
    "shapeIndex=int(data[0]),\n",
    "                    sigma=(float(data[2]), 'angstrom'),\n",
    "                    epsilon=(float(data[1]), 'K'),\n",
    "                    dipoleMoment=(float(data[3]), 'De'),\n",
    "                    polarizability=(float(data[4]), 'angstrom^3'),\n",
    "                    rotrelaxcollnum=float(data[5]),\n",
    "                    comment=comment.strip(),"
   ]
  },
  {
   "cell_type": "code",
   "execution_count": 41,
   "id": "e47d4ba1",
   "metadata": {},
   "outputs": [
    {
     "data": {
      "text/plain": [
       "1.7000000010098761"
      ]
     },
     "execution_count": 41,
     "metadata": {},
     "output_type": "execute_result"
    }
   ],
   "source": [
    "gas.species()[18].transport.dipole * "
   ]
  },
  {
   "cell_type": "code",
   "execution_count": 49,
   "id": "647f750f",
   "metadata": {},
   "outputs": [
    {
     "data": {
      "text/plain": [
       "15"
      ]
     },
     "execution_count": 49,
     "metadata": {},
     "output_type": "execute_result"
    }
   ],
   "source": [
    "gas.species_names.index('CH4')"
   ]
  },
  {
   "cell_type": "code",
   "execution_count": 50,
   "id": "5749ae5e",
   "metadata": {},
   "outputs": [
    {
     "data": {
      "text/plain": [
       "2.6000000000000002e-30"
      ]
     },
     "execution_count": 50,
     "metadata": {},
     "output_type": "execute_result"
    }
   ],
   "source": [
    "gas.species()[15].transport.polarizability * 1e30"
   ]
  },
  {
   "cell_type": "code",
   "execution_count": 51,
   "id": "ea4a8e94",
   "metadata": {},
   "outputs": [
    {
     "data": {
      "text/plain": [
       "13.0"
      ]
     },
     "execution_count": 51,
     "metadata": {},
     "output_type": "execute_result"
    }
   ],
   "source": [
    "gas.species()[15].transport.rotational_relaxation"
   ]
  },
  {
   "cell_type": "code",
   "execution_count": 53,
   "id": "4f2642ef",
   "metadata": {},
   "outputs": [
    {
     "data": {
      "text/plain": [
       "['__class__',\n",
       " '__delattr__',\n",
       " '__dir__',\n",
       " '__doc__',\n",
       " '__eq__',\n",
       " '__format__',\n",
       " '__ge__',\n",
       " '__getattribute__',\n",
       " '__gt__',\n",
       " '__hash__',\n",
       " '__init__',\n",
       " '__init_subclass__',\n",
       " '__le__',\n",
       " '__lt__',\n",
       " '__ne__',\n",
       " '__new__',\n",
       " '__pyx_vtable__',\n",
       " '__reduce__',\n",
       " '__reduce_ex__',\n",
       " '__repr__',\n",
       " '__setattr__',\n",
       " '__setstate__',\n",
       " '__sizeof__',\n",
       " '__str__',\n",
       " '__subclasshook__',\n",
       " 'acentric_factor',\n",
       " 'diameter',\n",
       " 'dipole',\n",
       " 'dispersion_coefficient',\n",
       " 'geometry',\n",
       " 'polarizability',\n",
       " 'quadrupole_polarizability',\n",
       " 'rotational_relaxation',\n",
       " 'set_customary_units',\n",
       " 'well_depth']"
      ]
     },
     "execution_count": 53,
     "metadata": {},
     "output_type": "execute_result"
    }
   ],
   "source": [
    "dir(species.transport)"
   ]
  },
  {
   "cell_type": "code",
   "execution_count": null,
   "id": "7707d3ed",
   "metadata": {},
   "outputs": [],
   "source": []
  }
 ],
 "metadata": {
  "kernelspec": {
   "display_name": "Python 3 (ipykernel)",
   "language": "python",
   "name": "python3"
  },
  "language_info": {
   "codemirror_mode": {
    "name": "ipython",
    "version": 3
   },
   "file_extension": ".py",
   "mimetype": "text/x-python",
   "name": "python",
   "nbconvert_exporter": "python",
   "pygments_lexer": "ipython3",
   "version": "3.7.12"
  }
 },
 "nbformat": 4,
 "nbformat_minor": 5
}
