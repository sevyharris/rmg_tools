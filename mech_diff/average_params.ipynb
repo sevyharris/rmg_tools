{
 "cells": [
  {
   "cell_type": "code",
   "execution_count": 1,
   "id": "70009ef7",
   "metadata": {},
   "outputs": [],
   "source": [
    "# Notebook to demonstrate how to average the thermo and kinetic parameters for a reaction found in two mechanisms"
   ]
  },
  {
   "cell_type": "code",
   "execution_count": 343,
   "id": "0ab32a43",
   "metadata": {},
   "outputs": [
    {
     "ename": "ModuleNotFoundError",
     "evalue": "No module named 'rmgpy.model'",
     "output_type": "error",
     "traceback": [
      "\u001b[0;31m---------------------------------------------------------------------------\u001b[0m",
      "\u001b[0;31mModuleNotFoundError\u001b[0m                       Traceback (most recent call last)",
      "\u001b[0;32m/tmp/ipykernel_1236/3142433956.py\u001b[0m in \u001b[0;36m<module>\u001b[0;34m\u001b[0m\n\u001b[1;32m      5\u001b[0m \u001b[0;32mimport\u001b[0m \u001b[0mrmgpy\u001b[0m\u001b[0;34m.\u001b[0m\u001b[0mkinetics\u001b[0m\u001b[0;34m\u001b[0m\u001b[0;34m\u001b[0m\u001b[0m\n\u001b[1;32m      6\u001b[0m \u001b[0;32mimport\u001b[0m \u001b[0mrmgpy\u001b[0m\u001b[0;34m.\u001b[0m\u001b[0mconstants\u001b[0m\u001b[0;34m\u001b[0m\u001b[0;34m\u001b[0m\u001b[0m\n\u001b[0;32m----> 7\u001b[0;31m \u001b[0;32mimport\u001b[0m \u001b[0mrmgpy\u001b[0m\u001b[0;34m.\u001b[0m\u001b[0mmodel\u001b[0m\u001b[0;34m\u001b[0m\u001b[0;34m\u001b[0m\u001b[0m\n\u001b[0m\u001b[1;32m      8\u001b[0m \u001b[0;32mimport\u001b[0m \u001b[0mnumpy\u001b[0m \u001b[0;32mas\u001b[0m \u001b[0mnp\u001b[0m\u001b[0;34m\u001b[0m\u001b[0;34m\u001b[0m\u001b[0m\n\u001b[1;32m      9\u001b[0m \u001b[0;32mimport\u001b[0m \u001b[0mmatplotlib\u001b[0m\u001b[0;34m.\u001b[0m\u001b[0mpyplot\u001b[0m \u001b[0;32mas\u001b[0m \u001b[0mplt\u001b[0m\u001b[0;34m\u001b[0m\u001b[0;34m\u001b[0m\u001b[0m\n",
      "\u001b[0;31mModuleNotFoundError\u001b[0m: No module named 'rmgpy.model'"
     ]
    }
   ],
   "source": [
    "import cantera as ct\n",
    "from rmgpy import chemkin\n",
    "import rmgpy.reaction\n",
    "import rmgpy.species\n",
    "import rmgpy.kinetics\n",
    "import rmgpy.constants\n",
    "import numpy as np\n",
    "import matplotlib.pyplot as plt"
   ]
  },
  {
   "cell_type": "code",
   "execution_count": 39,
   "id": "7f5450ce",
   "metadata": {
    "scrolled": true
   },
   "outputs": [
    {
     "name": "stdout",
     "output_type": "stream",
     "text": [
      "CanteraWarning: NasaPoly2::validate: \n",
      "For species CH2OCH, discontinuity in cp/R detected at Tmid = 500.0\n",
      "\tValue computed using low-temperature polynomial:  8.393471510000001\n",
      "\tValue computed using high-temperature polynomial: 9.1801039121875\n",
      "\n",
      "CanteraWarning: NasaPoly2::validate: \n",
      "For species CH2OCH, discontinuity in h/RT detected at Tmid = 500.0\n",
      "\tValue computed using low-temperature polynomial:  42.199147089791666\n",
      "\tValue computed using high-temperature polynomial: 41.961461604875005\n",
      "\n",
      "CanteraWarning: NasaPoly2::validate: \n",
      "For species CH2OCH, discontinuity in s/R detected at Tmid = 500.0\n",
      "\tValue computed using low-temperature polynomial:  33.70692865946735\n",
      "\tValue computed using high-temperature polynomial: 33.51209988778391\n",
      "\n",
      "CanteraWarning: NasaPoly2::validate: \n",
      "For species C4H5-2, discontinuity in h/RT detected at Tmid = 1000.0\n",
      "\tValue computed using low-temperature polynomial:  47.65235236593109\n",
      "\tValue computed using high-temperature polynomial: 48.43623165666667\n",
      "\n",
      "CanteraWarning: NasaPoly2::validate: \n",
      "For species C4H5-2, discontinuity in s/R detected at Tmid = 1000.0\n",
      "\tValue computed using low-temperature polynomial:  52.42918829260522\n",
      "\tValue computed using high-temperature polynomial: 54.320817046995025\n",
      "\n",
      "CanteraWarning: NasaPoly2::validate: \n",
      "For species C2H3CHOCH2, discontinuity in h/RT detected at Tmid = 1000.0\n",
      "\tValue computed using low-temperature polynomial:  13.197490232436893\n",
      "\tValue computed using high-temperature polynomial: 13.009458623333332\n",
      "\n",
      "CanteraWarning: NasaPoly2::validate: \n",
      "For species C2H3CHOCH2, discontinuity in s/R detected at Tmid = 1000.0\n",
      "\tValue computed using low-temperature polynomial:  55.5754926344824\n",
      "\tValue computed using high-temperature polynomial: 53.05298769454252\n",
      "\n",
      "CanteraWarning: NasaPoly2::validate: \n",
      "For species CH3CHCHCHO, discontinuity in h/RT detected at Tmid = 1000.0\n",
      "\tValue computed using low-temperature polynomial:  -0.87553076770625\n",
      "\tValue computed using high-temperature polynomial: -0.7952995433333321\n",
      "\n",
      "CanteraWarning: NasaPoly2::validate: \n",
      "For species CH3CHCHCHO, discontinuity in s/R detected at Tmid = 1000.0\n",
      "\tValue computed using low-temperature polynomial:  59.194456477008444\n",
      "\tValue computed using high-temperature polynomial: 62.495269678449205\n",
      "\n",
      "CanteraWarning: NasaPoly2::validate: \n",
      "For species C4H6-2, discontinuity in h/RT detected at Tmid = 1000.0\n",
      "\tValue computed using low-temperature polynomial:  28.072393266570767\n",
      "\tValue computed using high-temperature polynomial: 28.60292515\n",
      "\n",
      "CanteraWarning: NasaPoly2::validate: \n",
      "For species C4H6-2, discontinuity in s/R detected at Tmid = 1000.0\n",
      "\tValue computed using low-temperature polynomial:  50.25139828976554\n",
      "\tValue computed using high-temperature polynomial: 51.51521152074738\n",
      "\n",
      "CanteraWarning: NasaPoly2::validate: \n",
      "For species BTP, discontinuity in h/RT detected at Tmid = 1000.0\n",
      "\tValue computed using low-temperature polynomial:  -58.208908542333354\n",
      "\tValue computed using high-temperature polynomial: -61.19148651113667\n",
      "\n",
      "CanteraWarning: Troe::init: Unexpected parameter value T2=0. Omitting exp(T2/T) term from falloff expression. To suppress this warning, remove value for T2 from the input file. In the unlikely case that the exp(T2/T) term should be included with T2 effectively equal to 0, set T2 to a sufficiently small value (i.e. T2 < 1e-16).\n"
     ]
    }
   ],
   "source": [
    "# load the models\n",
    "rmg_model = 'models/RMG/chem_annotated.cti'\n",
    "rmg_dict_file = 'models/RMG/species_dictionary.txt'\n",
    "\n",
    "NIST_model = 'models/NIST/2-BTP_kinetics.cti'\n",
    "NIST_dict_file = 'models/NIST/species_dictionary.txt'\n",
    "\n",
    "gas_rmg = ct.Solution(rmg_model)\n",
    "gas_nist = ct.Solution(NIST_model)"
   ]
  },
  {
   "cell_type": "code",
   "execution_count": 68,
   "id": "1b8712cf",
   "metadata": {
    "collapsed": true
   },
   "outputs": [
    {
     "data": {
      "text/plain": [
       "['__class__',\n",
       " '__delattr__',\n",
       " '__dir__',\n",
       " '__doc__',\n",
       " '__eq__',\n",
       " '__format__',\n",
       " '__ge__',\n",
       " '__getattribute__',\n",
       " '__gt__',\n",
       " '__hash__',\n",
       " '__init__',\n",
       " '__init_subclass__',\n",
       " '__le__',\n",
       " '__lt__',\n",
       " '__ne__',\n",
       " '__new__',\n",
       " '__pyx_vtable__',\n",
       " '__reduce__',\n",
       " '__reduce_ex__',\n",
       " '__repr__',\n",
       " '__setattr__',\n",
       " '__setstate__',\n",
       " '__sizeof__',\n",
       " '__str__',\n",
       " '__subclasshook__',\n",
       " '_check_n_coeffs',\n",
       " 'coeffs',\n",
       " 'cp',\n",
       " 'derived_type',\n",
       " 'h',\n",
       " 'max_temp',\n",
       " 'min_temp',\n",
       " 'n_coeffs',\n",
       " 'reference_pressure',\n",
       " 's']"
      ]
     },
     "execution_count": 68,
     "metadata": {},
     "output_type": "execute_result"
    }
   ],
   "source": [
    "dir(gas_nist.species()[5].thermo)"
   ]
  },
  {
   "cell_type": "code",
   "execution_count": 56,
   "id": "67dcf16c",
   "metadata": {},
   "outputs": [],
   "source": [
    "# load an rmg/chemkin model just for the hell of it\n",
    "chemkin_path = '/home/moon/rmg/my_examples/ethane/chemkin/chem_annotated.inp'\n",
    "dictionary_path = '/home/moon/rmg/my_examples/ethane/chemkin/species_dictionary.txt'\n",
    "transport_path = '/home/moon/rmg/my_examples/ethane/chemkin/tran.dat'\n",
    "\n",
    "species_list, reaction_list = rmgpy.chemkin.load_chemkin_file(chemkin_path, dictionary_path=dictionary_path, transport_path=transport_path)\n"
   ]
  },
  {
   "cell_type": "code",
   "execution_count": 404,
   "id": "1b69de88",
   "metadata": {},
   "outputs": [
    {
     "data": {
      "text/plain": [
       "rmgpy.kinetics.arrhenius.Arrhenius"
      ]
     },
     "execution_count": 404,
     "metadata": {},
     "output_type": "execute_result"
    }
   ],
   "source": [
    "type(reaction_list[0].kinetics)"
   ]
  },
  {
   "cell_type": "code",
   "execution_count": 119,
   "id": "8cee7d55",
   "metadata": {},
   "outputs": [
    {
     "name": "stdout",
     "output_type": "stream",
     "text": [
      "Ar\n",
      "He\n",
      "Ne\n",
      "N2\n",
      "ethane(1)\n",
      "C(3)\n",
      "[CH3](4)\n",
      "C[CH2](5)\n",
      "[H](6)\n",
      "C=C(9)\n",
      "[H][H](11)\n",
      "[CH]=C(14)\n",
      "[CH2]CC(16)\n",
      "C#C(20)\n",
      "[CH2]CC=C(22)\n",
      "[C]=C-2(24)\n",
      "[CH]=CC(25)\n",
      "[CH]=CCC(26)\n",
      "[CH]=CC=C(28)\n",
      "[CH2]C1CC1(40)\n",
      "C=CC=C(41)\n",
      "[CH2]C=C[CH2](42)\n",
      "[CH2]C=CC(44)\n",
      "CC1[CH]C1(63)\n",
      "C=C=CC(69)\n",
      "C1=CCC1(88)\n",
      "[C]1CCC1(129)\n"
     ]
    }
   ],
   "source": [
    "for sp in species_list:\n",
    "    print(sp)\n"
   ]
  },
  {
   "cell_type": "code",
   "execution_count": 85,
   "id": "906deb11",
   "metadata": {},
   "outputs": [
    {
     "data": {
      "text/plain": [
       "[NASAPolynomial(coeffs=[4.20541,-0.00535556,2.51123e-05,-2.13762e-08,5.97521e-12,-10161.9,-0.921274], Tmin=(100,'K'), Tmax=(1084.12,'K')),\n",
       " NASAPolynomial(coeffs=[0.908274,0.0114541,-4.57173e-06,8.2919e-10,-5.66313e-14,-9719.98,13.993], Tmin=(1084.12,'K'), Tmax=(5000,'K'))]"
      ]
     },
     "execution_count": 85,
     "metadata": {},
     "output_type": "execute_result"
    }
   ],
   "source": [
    "species_list[5].thermo.polynomials"
   ]
  },
  {
   "cell_type": "code",
   "execution_count": 86,
   "id": "4dd5c360",
   "metadata": {},
   "outputs": [
    {
     "data": {
      "text/plain": [
       "(5000,'K')"
      ]
     },
     "execution_count": 86,
     "metadata": {},
     "output_type": "execute_result"
    }
   ],
   "source": [
    "species_list[5].thermo.Tmax"
   ]
  },
  {
   "cell_type": "code",
   "execution_count": 40,
   "id": "bbf94cc4",
   "metadata": {},
   "outputs": [],
   "source": [
    "NIST_dict = chemkin.load_species_dictionary(NIST_dict_file)"
   ]
  },
  {
   "cell_type": "code",
   "execution_count": 42,
   "id": "d59e7768",
   "metadata": {
    "collapsed": true
   },
   "outputs": [
    {
     "data": {
      "text/plain": [
       "{'H': Species(label=\"H\", molecule=[Molecule(smiles=\"[H]\")], molecular_weight=(1.00797,'amu')),\n",
       " 'O2': Species(label=\"O2\", molecule=[Molecule(smiles=\"[O][O]\")], molecular_weight=(31.9988,'amu')),\n",
       " 'O': Species(label=\"O\", molecule=[Molecule(smiles=\"[O]\")], molecular_weight=(15.9994,'amu')),\n",
       " 'OH': Species(label=\"OH\", molecule=[Molecule(smiles=\"[OH]\")], molecular_weight=(17.0074,'amu')),\n",
       " 'H2': Species(label=\"H2\", molecule=[Molecule(smiles=\"[H][H]\")], molecular_weight=(2.01594,'amu')),\n",
       " 'H2O': Species(label=\"H2O\", molecule=[Molecule(smiles=\"O\")], molecular_weight=(18.0153,'amu')),\n",
       " 'CO2': Species(label=\"CO2\", molecule=[Molecule(smiles=\"O=C=O\")], molecular_weight=(44.0094,'amu')),\n",
       " 'HO2': Species(label=\"HO2\", molecule=[Molecule(smiles=\"[O]O\")], molecular_weight=(33.0068,'amu')),\n",
       " 'H2O2': Species(label=\"H2O2\", molecule=[Molecule(smiles=\"OO\")], molecular_weight=(34.0147,'amu')),\n",
       " 'CO': Species(label=\"CO\", molecule=[Molecule(smiles=\"[C-]#[O+]\")], molecular_weight=(28.01,'amu')),\n",
       " 'HCO': Species(label=\"HCO\", molecule=[Molecule(smiles=\"[CH]=O\")], molecular_weight=(29.018,'amu')),\n",
       " 'CH2O': Species(label=\"CH2O\", molecule=[Molecule(smiles=\"C=O\")], molecular_weight=(30.026,'amu')),\n",
       " 'C': Species(label=\"C\", molecule=[Molecule(smiles=\"[C]\")], molecular_weight=(12.0106,'amu')),\n",
       " 'CH': Species(label=\"CH\", molecule=[Molecule(smiles=\"[CH]\")], molecular_weight=(13.0186,'amu')),\n",
       " 'CH2': Species(label=\"CH2\", molecule=[Molecule(smiles=\"[CH2]\")], molecular_weight=(14.0266,'amu')),\n",
       " 'HCCO': Species(label=\"HCCO\", molecule=[Molecule(smiles=\"[CH]=C=O\"), Molecule(smiles=\"C#C[O]\")], molecular_weight=(41.0287,'amu')),\n",
       " 'CH3': Species(label=\"CH3\", molecule=[Molecule(smiles=\"[CH3]\")], molecular_weight=(15.0346,'amu')),\n",
       " 'C2H': Species(label=\"C2H\", molecule=[Molecule(smiles=\"[C]#C\")], molecular_weight=(25.0293,'amu')),\n",
       " 'CH2CO': Species(label=\"CH2CO\", molecule=[Molecule(smiles=\"C=C=O\")], molecular_weight=(42.0366,'amu')),\n",
       " 'C2H2': Species(label=\"C2H2\", molecule=[Molecule(smiles=\"C#C\")], molecular_weight=(26.0372,'amu')),\n",
       " 'CH2*': Species(label=\"CH2*\", molecule=[Molecule(smiles=\"[CH2]\")], molecular_weight=(14.0266,'amu')),\n",
       " 'N2': Species(label=\"N2\", molecule=[Molecule(smiles=\"N#N\")], reactive=False, molecular_weight=(28.0137,'amu')),\n",
       " 'AR': Species(label=\"AR\", molecule=[Molecule(smiles=\"[Ar]\")], reactive=False, molecular_weight=(39.8775,'amu')),\n",
       " 'CH3OH': Species(label=\"CH3OH\", molecule=[Molecule(smiles=\"CO\")], molecular_weight=(32.0419,'amu')),\n",
       " 'CH2OH': Species(label=\"CH2OH\", molecule=[Molecule(smiles=\"[CH2]O\")], molecular_weight=(31.034,'amu')),\n",
       " 'CH3O': Species(label=\"CH3O\", molecule=[Molecule(smiles=\"C[O]\")], molecular_weight=(31.034,'amu')),\n",
       " 'CH4': Species(label=\"CH4\", molecule=[Molecule(smiles=\"C\")], molecular_weight=(16.0425,'amu')),\n",
       " 'C2H3': Species(label=\"C2H3\", molecule=[Molecule(smiles=\"[CH]=C\")], molecular_weight=(27.0452,'amu')),\n",
       " 'C2H4': Species(label=\"C2H4\", molecule=[Molecule(smiles=\"C=C\")], molecular_weight=(28.0532,'amu')),\n",
       " 'C2H6': Species(label=\"C2H6\", molecule=[Molecule(smiles=\"CC\")], molecular_weight=(30.0691,'amu')),\n",
       " 'C2H5': Species(label=\"C2H5\", molecule=[Molecule(smiles=\"C[CH2]\")], molecular_weight=(29.0611,'amu')),\n",
       " 'C3H3': Species(label=\"C3H3\", molecule=[Molecule(smiles=\"[CH]=C=C\"), Molecule(smiles=\"C#C[CH2]\")], molecular_weight=(39.0558,'amu')),\n",
       " 'C2O': Species(label=\"C2O\", molecule=[Molecule(smiles=\"[C]=C=O\"), Molecule(smiles=\"[C]#C[O]\")], molecular_weight=(40.0207,'amu')),\n",
       " 'H2CC': Species(label=\"H2CC\", molecule=[Molecule(smiles=\"[C]=C\")], molecular_weight=(26.0372,'amu')),\n",
       " 'HCCOH': Species(label=\"HCCOH\", molecule=[Molecule(smiles=\"C#CO\")], molecular_weight=(42.0366,'amu')),\n",
       " 'C4H2': Species(label=\"C4H2\", molecule=[Molecule(smiles=\"C#CC#C\")], molecular_weight=(50.0585,'amu')),\n",
       " 'nC4H3': Species(label=\"nC4H3\", molecule=[Molecule(smiles=\"[CH]=CC#C\")], molecular_weight=(51.0665,'amu')),\n",
       " 'iC4H3': Species(label=\"iC4H3\", molecule=[Molecule(smiles=\"C#C[C]=C\"), Molecule(smiles=\"[CH]=C=C=C\")], molecular_weight=(51.0665,'amu')),\n",
       " 'pC3H4': Species(label=\"pC3H4\", molecule=[Molecule(smiles=\"C#CC\")], molecular_weight=(40.0638,'amu')),\n",
       " 'aC3H4': Species(label=\"aC3H4\", molecule=[Molecule(smiles=\"C=C=C\")], molecular_weight=(40.0638,'amu')),\n",
       " 'CH3CCH2': Species(label=\"CH3CCH2\", molecule=[Molecule(smiles=\"C=[C]C\")], molecular_weight=(41.0718,'amu')),\n",
       " 'CH3CHCH': Species(label=\"CH3CHCH\", molecule=[Molecule(smiles=\"[CH]=CC\")], molecular_weight=(41.0718,'amu')),\n",
       " 'aC3H5': Species(label=\"aC3H5\", molecule=[Molecule(smiles=\"[CH2]C=C\"), Molecule(smiles=\"[CH2]C=C\")], molecular_weight=(41.0718,'amu')),\n",
       " 'C4H4': Species(label=\"C4H4\", molecule=[Molecule(smiles=\"C#CC=C\")], molecular_weight=(52.0745,'amu')),\n",
       " 'C4H6': Species(label=\"C4H6\", molecule=[Molecule(smiles=\"C=CC=C\")], molecular_weight=(54.0904,'amu')),\n",
       " 'CH2CHO': Species(label=\"CH2CHO\", molecule=[Molecule(smiles=\"[CH2]C=O\"), Molecule(smiles=\"C=C[O]\")], molecular_weight=(43.0446,'amu')),\n",
       " 'C2H3CHO': Species(label=\"C2H3CHO\", molecule=[Molecule(smiles=\"C=CC=O\")], molecular_weight=(56.0632,'amu')),\n",
       " 'C3H6': Species(label=\"C3H6\", molecule=[Molecule(smiles=\"C=CC\")], molecular_weight=(42.0798,'amu')),\n",
       " 'nC4H5': Species(label=\"nC4H5\", molecule=[Molecule(smiles=\"[CH]=CC=C\")], molecular_weight=(53.0824,'amu')),\n",
       " 'iC4H5': Species(label=\"iC4H5\", molecule=[Molecule(smiles=\"C=[C]C=C\"), Molecule(smiles=\"[CH2]C=C=C\")], molecular_weight=(53.0824,'amu')),\n",
       " 'CH3CHO': Species(label=\"CH3CHO\", molecule=[Molecule(smiles=\"CC=O\")], molecular_weight=(44.0526,'amu')),\n",
       " 'CH3CO': Species(label=\"CH3CO\", molecule=[Molecule(smiles=\"C[C]=O\")], molecular_weight=(43.0446,'amu')),\n",
       " 'CH2OCH2': Species(label=\"CH2OCH2\", molecule=[Molecule(smiles=\"C1CO1\")], molecular_weight=(44.0526,'amu')),\n",
       " 'CH2OCH': Species(label=\"CH2OCH\", molecule=[Molecule(smiles=\"[CH]1CO1\")], molecular_weight=(43.0446,'amu')),\n",
       " 'nC3H7': Species(label=\"nC3H7\", molecule=[Molecule(smiles=\"[CH2]CC\")], molecular_weight=(43.0877,'amu')),\n",
       " 'C4H7': Species(label=\"C4H7\", molecule=[Molecule(smiles=\"[CH2]CC=C\")], molecular_weight=(55.0984,'amu')),\n",
       " 'C3H8': Species(label=\"C3H8\", molecule=[Molecule(smiles=\"CCC\")], molecular_weight=(44.0957,'amu')),\n",
       " 'C4H81': Species(label=\"C4H81\", molecule=[Molecule(smiles=\"C=CCC\")], molecular_weight=(56.1063,'amu')),\n",
       " 'C4H612': Species(label=\"C4H612\", molecule=[Molecule(smiles=\"C=C=CC\")], molecular_weight=(54.0904,'amu')),\n",
       " 'C5H5': Species(label=\"C5H5\", molecule=[Molecule(smiles=\"[CH]1C=CC=C1\"), Molecule(smiles=\"[CH]1C=CC=C1\"), Molecule(smiles=\"[CH]1C=CC=C1\"), Molecule(smiles=\"[CH]1C=CC=C1\"), Molecule(smiles=\"[CH]1C=CC=C1\")], molecular_weight=(65.0931,'amu')),\n",
       " 'C6H5': Species(label=\"C6H5\", molecule=[Molecule(smiles=\"[c]1ccccc1\")], molecular_weight=(77.1037,'amu')),\n",
       " 'C6H6': Species(label=\"C6H6\", molecule=[Molecule(smiles=\"c1ccccc1\")], molecular_weight=(78.1117,'amu')),\n",
       " 'C6H5CH2': Species(label=\"C6H5CH2\", molecule=[Molecule(smiles=\"[CH2]c1ccccc1\"), Molecule(smiles=\"C=C1[CH]C=CC=C1\"), Molecule(smiles=\"C=C1C=C[CH]C=C1\"), Molecule(smiles=\"C=C1[CH]C=CC=C1\")], molecular_weight=(91.1303,'amu')),\n",
       " 'C6H5CH3': Species(label=\"C6H5CH3\", molecule=[Molecule(smiles=\"Cc1ccccc1\")], molecular_weight=(92.1383,'amu')),\n",
       " 'iC4H7': Species(label=\"iC4H7\", molecule=[Molecule(smiles=\"[CH2]C(=C)C\"), Molecule(smiles=\"[CH2]C(=C)C\")], molecular_weight=(55.0984,'amu')),\n",
       " 'cC3H4': Species(label=\"cC3H4\", molecule=[Molecule(smiles=\"C1=CC1\")], molecular_weight=(40.0638,'amu')),\n",
       " 'lC5H7': Species(label=\"lC5H7\", molecule=[Molecule(smiles=\"[CH2]C=CC=C\"), Molecule(smiles=\"C=C[CH]C=C\"), Molecule(smiles=\"[CH2]C=CC=C\")], molecular_weight=(67.109,'amu')),\n",
       " 'iC4H8': Species(label=\"iC4H8\", molecule=[Molecule(smiles=\"C=C(C)C\")], molecular_weight=(56.1063,'amu')),\n",
       " 'iC3H7': Species(label=\"iC3H7\", molecule=[Molecule(smiles=\"C[CH]C\")], molecular_weight=(43.0877,'amu')),\n",
       " 'CH3CHOCH2': Species(label=\"CH3CHOCH2\", molecule=[Molecule(smiles=\"CC1CO1\")], molecular_weight=(58.0792,'amu')),\n",
       " 'CH2CHCO': Species(label=\"CH2CHCO\", molecule=[Molecule(smiles=\"C=C[C]=O\"), Molecule(smiles=\"[CH2]C=C=O\")], molecular_weight=(55.0552,'amu')),\n",
       " 'CH3CH2CHO': Species(label=\"CH3CH2CHO\", molecule=[Molecule(smiles=\"CCC=O\")], molecular_weight=(58.0792,'amu')),\n",
       " 'CH3COCH3': Species(label=\"CH3COCH3\", molecule=[Molecule(smiles=\"CC(C)=O\")], molecular_weight=(58.0792,'amu')),\n",
       " 'H2C4O': Species(label=\"H2C4O\", molecule=[Molecule(smiles=\"C=C=C=C=O\")], molecular_weight=(66.0579,'amu')),\n",
       " 'C6H2': Species(label=\"C6H2\", molecule=[Molecule(smiles=\"C#CC#CC#C\")], molecular_weight=(74.0798,'amu')),\n",
       " 'C6H3': Species(label=\"C6H3\", molecule=[Molecule(smiles=\"[CH]=CC#CC#C\")], molecular_weight=(75.0878,'amu')),\n",
       " 'l-C6H4': Species(label=\"l-C6H4\", molecule=[Molecule(smiles=\"C#CC#CC=C\")], molecular_weight=(76.0957,'amu')),\n",
       " 'o-C6H4': Species(label=\"o-C6H4\", molecule=[Molecule(smiles=\"C1#CC=CC=C1\"), Molecule(smiles=\"C1=C=CC=CC=1\")], molecular_weight=(76.0957,'amu')),\n",
       " 'CH2CHCHCHO': Species(label=\"CH2CHCHCHO\", molecule=[Molecule(smiles=\"[CH2]C=CC=O\"), Molecule(smiles=\"C=C[CH]C=O\"), Molecule(smiles=\"C=CC=C[O]\")], molecular_weight=(69.0818,'amu')),\n",
       " 'C4H5-2': Species(label=\"C4H5-2\", molecule=[Molecule(smiles=\"[CH2]C#CC\"), Molecule(smiles=\"C=C=[C]C\")], molecular_weight=(53.0824,'amu')),\n",
       " 'C5H6': Species(label=\"C5H6\", molecule=[Molecule(smiles=\"C1=CCC=C1\")], molecular_weight=(66.101,'amu')),\n",
       " 'CH3CHCHCO': Species(label=\"CH3CHCHCO\", molecule=[Molecule(smiles=\"CC=C[C]=O\"), Molecule(smiles=\"C[CH]C=C=O\")], molecular_weight=(69.0818,'amu')),\n",
       " 'C4H6O25': Species(label=\"C4H6O25\", molecule=[Molecule(smiles=\"C1=CCOC1\")], molecular_weight=(70.0898,'amu')),\n",
       " 'C2H3CHOCH2': Species(label=\"C2H3CHOCH2\", molecule=[Molecule(smiles=\"C=CC1CO1\")], molecular_weight=(70.0898,'amu')),\n",
       " 'C4H6-2': Species(label=\"C4H6-2\", molecule=[Molecule(smiles=\"CC#CC\")], molecular_weight=(54.0904,'amu')),\n",
       " 'C4H6O23': Species(label=\"C4H6O23\", molecule=[Molecule(smiles=\"C1=COCC1\")], molecular_weight=(70.0898,'amu')),\n",
       " 'CH3CHCHCHO': Species(label=\"CH3CHCHCHO\", molecule=[Molecule(smiles=\"CC=CC=O\")], molecular_weight=(70.0898,'amu')),\n",
       " 'C4H4O': Species(label=\"C4H4O\", molecule=[Molecule(smiles=\"C1=COC=C1\")], molecular_weight=(68.0739,'amu')),\n",
       " 'pC4H9': Species(label=\"pC4H9\", molecule=[Molecule(smiles=\"[CH2]CCC\")], molecular_weight=(57.1143,'amu')),\n",
       " 'sC4H9': Species(label=\"sC4H9\", molecule=[Molecule(smiles=\"C[CH]CC\")], molecular_weight=(57.1143,'amu')),\n",
       " 'C4H82': Species(label=\"C4H82\", molecule=[Molecule(smiles=\"CC=CC\")], molecular_weight=(56.1063,'amu')),\n",
       " 'iC4H9': Species(label=\"iC4H9\", molecule=[Molecule(smiles=\"[CH2]C(C)C\")], molecular_weight=(57.1143,'amu')),\n",
       " 'C4H10': Species(label=\"C4H10\", molecule=[Molecule(smiles=\"CCCC\")], molecular_weight=(58.1223,'amu')),\n",
       " 'iC4H10': Species(label=\"iC4H10\", molecule=[Molecule(smiles=\"CC(C)C\")], molecular_weight=(58.1223,'amu')),\n",
       " 'tC4H9': Species(label=\"tC4H9\", molecule=[Molecule(smiles=\"C[C](C)C\")], molecular_weight=(57.1143,'amu')),\n",
       " 'C6H4CH3': Species(label=\"C6H4CH3\", molecule=[Molecule(smiles=\"Cc1cc[c]cc1\")], molecular_weight=(91.1303,'amu')),\n",
       " 'OC6H4CH3': Species(label=\"OC6H4CH3\", molecule=[Molecule(smiles=\"Cc1cccc([O])c1\"), Molecule(smiles=\"CC1=CC=CC(=O)[CH]1\"), Molecule(smiles=\"CC1=CC(=O)C=C[CH]1\"), Molecule(smiles=\"CC1=CC(=O)[CH]C=C1\")], molecular_weight=(107.13,'amu')),\n",
       " 'C6H5CHO': Species(label=\"C6H5CHO\", molecule=[Molecule(smiles=\"O=Cc1ccccc1\")], molecular_weight=(106.122,'amu')),\n",
       " 'C6H5CH2OH': Species(label=\"C6H5CH2OH\", molecule=[Molecule(smiles=\"OCc1ccccc1\")], molecular_weight=(108.138,'amu')),\n",
       " 'C6H5OH': Species(label=\"C6H5OH\", molecule=[Molecule(smiles=\"Oc1ccccc1\")], molecular_weight=(94.1111,'amu')),\n",
       " 'C6H5O': Species(label=\"C6H5O\", molecule=[Molecule(smiles=\"[O]c1ccccc1\"), Molecule(smiles=\"O=C1[CH]C=CC=C1\"), Molecule(smiles=\"O=C1C=C[CH]C=C1\"), Molecule(smiles=\"O=C1[CH]C=CC=C1\")], molecular_weight=(93.1031,'amu')),\n",
       " 'HOC6H4CH3': Species(label=\"HOC6H4CH3\", molecule=[Molecule(smiles=\"Cc1cccc(O)c1\")], molecular_weight=(108.138,'amu')),\n",
       " 'C6H5CO': Species(label=\"C6H5CO\", molecule=[Molecule(smiles=\"O=[C]c1ccccc1\"), Molecule(smiles=\"O=C=C1[CH]C=CC=C1\"), Molecule(smiles=\"O=C=C1C=C[CH]C=C1\"), Molecule(smiles=\"O=C=C1[CH]C=CC=C1\")], molecular_weight=(105.114,'amu')),\n",
       " 'C6H4O2': Species(label=\"C6H4O2\", molecule=[Molecule(smiles=\"O=C1C=CC(=O)C=C1\")], molecular_weight=(108.095,'amu')),\n",
       " 'C5H4O': Species(label=\"C5H4O\", molecule=[Molecule(smiles=\"O=C1C=CC=C1\")], molecular_weight=(80.0845,'amu')),\n",
       " 'C5H5O(1,3)': Species(label=\"C5H5O(1,3)\", molecule=[Molecule(smiles=\"O=C1C=C[CH]C1\"), Molecule(smiles=\"O=C1[CH]C=CC1\"), Molecule(smiles=\"[O]C1=CC=CC1\")], molecular_weight=(81.0925,'amu')),\n",
       " 'C5H5O(2,4)': Species(label=\"C5H5O(2,4)\", molecule=[Molecule(smiles=\"[O]C1C=CC=C1\")], molecular_weight=(81.0925,'amu')),\n",
       " 'C5H4OH': Species(label=\"C5H4OH\", molecule=[Molecule(smiles=\"OC1=CC=C[CH]1\"), Molecule(smiles=\"OC1=CC=C[CH]1\"), Molecule(smiles=\"OC1=C[CH]C=C1\"), Molecule(smiles=\"OC1=C[CH]C=C1\"), Molecule(smiles=\"O[C]1C=CC=C1\")], molecular_weight=(81.0925,'amu')),\n",
       " 'C5H5OH': Species(label=\"C5H5OH\", molecule=[Molecule(smiles=\"OC1C=CC=C1\")], molecular_weight=(82.1004,'amu')),\n",
       " 'c-C4H5': Species(label=\"c-C4H5\", molecule=[Molecule(smiles=\"[CH]1C=CC1\"), Molecule(smiles=\"[CH]1C=CC1\")], molecular_weight=(53.0824,'amu')),\n",
       " 'C2H5OH': Species(label=\"C2H5OH\", molecule=[Molecule(smiles=\"CCO\")], molecular_weight=(46.0685,'amu')),\n",
       " 'C2H4OH': Species(label=\"C2H4OH\", molecule=[Molecule(smiles=\"[CH2]CO\")], molecular_weight=(45.0605,'amu')),\n",
       " 'CH3CHOH': Species(label=\"CH3CHOH\", molecule=[Molecule(smiles=\"C[CH]O\")], molecular_weight=(45.0605,'amu')),\n",
       " 'CH3CH2O': Species(label=\"CH3CH2O\", molecule=[Molecule(smiles=\"CC[O]\")], molecular_weight=(45.0605,'amu')),\n",
       " 'HOC2H4O2': Species(label=\"HOC2H4O2\", molecule=[Molecule(smiles=\"[O]OCCO\")], molecular_weight=(77.0593,'amu')),\n",
       " 'CF3-CHF': Species(label=\"CF3-CHF\", molecule=[Molecule(smiles=\"F[CH]C(F)(F)F\")], molecular_weight=(101.023,'amu')),\n",
       " 'CHF:CF2': Species(label=\"CHF:CF2\", molecule=[Molecule(smiles=\"FC=C(F)F\")], molecular_weight=(82.0245,'amu')),\n",
       " 'F': Species(label=\"F\", molecule=[Molecule(smiles=\"[F]\")], molecular_weight=(18.9984,'amu')),\n",
       " 'CH2F': Species(label=\"CH2F\", molecule=[Molecule(smiles=\"[CH2]F\")], molecular_weight=(33.025,'amu')),\n",
       " 'HF': Species(label=\"HF\", molecule=[Molecule(smiles=\"F\")], molecular_weight=(20.0064,'amu')),\n",
       " 'CHF': Species(label=\"CHF\", molecule=[Molecule(smiles=\"[CH]F\")], molecular_weight=(32.017,'amu')),\n",
       " 'CHF3': Species(label=\"CHF3\", molecule=[Molecule(smiles=\"FC(F)F\")], molecular_weight=(70.0138,'amu')),\n",
       " 'CF3': Species(label=\"CF3\", molecule=[Molecule(smiles=\"F[C](F)F\")], molecular_weight=(69.0059,'amu')),\n",
       " 'CH2F2': Species(label=\"CH2F2\", molecule=[Molecule(smiles=\"FCF\")], molecular_weight=(52.0234,'amu')),\n",
       " 'CF': Species(label=\"CF\", molecule=[Molecule(smiles=\"[C]F\")], molecular_weight=(31.009,'amu')),\n",
       " 'CF:O': Species(label=\"CF:O\", molecule=[Molecule(smiles=\"O=[C]F\")], molecular_weight=(47.0084,'amu')),\n",
       " 'CHF:O': Species(label=\"CHF:O\", molecule=[Molecule(smiles=\"O=CF\")], molecular_weight=(48.0164,'amu')),\n",
       " 'CHF2': Species(label=\"CHF2\", molecule=[Molecule(smiles=\"F[CH]F\")], molecular_weight=(51.0154,'amu')),\n",
       " 'CF2:O': Species(label=\"CF2:O\", molecule=[Molecule(smiles=\"O=C(F)F\")], molecular_weight=(66.0069,'amu')),\n",
       " 'CF2': Species(label=\"CF2\", molecule=[Molecule(smiles=\"F[C]F\")], molecular_weight=(50.0075,'amu')),\n",
       " 'CF2CO': Species(label=\"CF2CO\", molecule=[Molecule(smiles=\"O=C=C(F)F\")], molecular_weight=(78.0175,'amu')),\n",
       " 'CH3F': Species(label=\"CH3F\", molecule=[Molecule(smiles=\"CF\")], molecular_weight=(34.033,'amu')),\n",
       " 'CF4': Species(label=\"CF4\", molecule=[Molecule(smiles=\"FC(F)(F)F\")], molecular_weight=(88.0043,'amu')),\n",
       " 'CHFCO': Species(label=\"CHFCO\", molecule=[Molecule(smiles=\"O=C=CF\")], molecular_weight=(60.0271,'amu')),\n",
       " 'CF3O': Species(label=\"CF3O\", molecule=[Molecule(smiles=\"[O]C(F)(F)F\")], molecular_weight=(85.0053,'amu')),\n",
       " 'CH2:CF': Species(label=\"CH2:CF\", molecule=[Molecule(smiles=\"C=[C]F\")], molecular_weight=(45.0356,'amu')),\n",
       " 'C2HF': Species(label=\"C2HF\", molecule=[Molecule(smiles=\"C#CF\")], molecular_weight=(44.0277,'amu')),\n",
       " 'CH2:CHF': Species(label=\"CH2:CHF\", molecule=[Molecule(smiles=\"C=CF\")], molecular_weight=(46.0436,'amu')),\n",
       " 'CH3-CH2F': Species(label=\"CH3-CH2F\", molecule=[Molecule(smiles=\"CCF\")], molecular_weight=(48.0595,'amu')),\n",
       " 'CH3-CHF2': Species(label=\"CH3-CHF2\", molecule=[Molecule(smiles=\"CC(F)F\")], molecular_weight=(66.05,'amu')),\n",
       " 'CH3-CF3': Species(label=\"CH3-CF3\", molecule=[Molecule(smiles=\"CC(F)(F)F\")], molecular_weight=(84.0404,'amu')),\n",
       " 'CH2:CF2': Species(label=\"CH2:CF2\", molecule=[Molecule(smiles=\"C=C(F)F\")], molecular_weight=(64.034,'amu')),\n",
       " 'CH2F-CH2F': Species(label=\"CH2F-CH2F\", molecule=[Molecule(smiles=\"FCCF\")], molecular_weight=(66.05,'amu')),\n",
       " 'CH2F-CHF2': Species(label=\"CH2F-CHF2\", molecule=[Molecule(smiles=\"FCC(F)F\")], molecular_weight=(84.0404,'amu')),\n",
       " 'CHF:CHF[Z]': Species(label=\"CHF:CHF[Z]\", molecule=[Molecule(smiles=\"FC=CF\")], molecular_weight=(64.034,'amu')),\n",
       " 'CH2F-CF3': Species(label=\"CH2F-CF3\", molecule=[Molecule(smiles=\"FCC(F)(F)F\")], molecular_weight=(102.031,'amu')),\n",
       " 'CHF2-CHF2': Species(label=\"CHF2-CHF2\", molecule=[Molecule(smiles=\"FC(F)C(F)F\")], molecular_weight=(102.031,'amu')),\n",
       " 'CHF2-CF3': Species(label=\"CHF2-CF3\", molecule=[Molecule(smiles=\"FC(F)C(F)(F)F\")], molecular_weight=(120.021,'amu')),\n",
       " 'CF2:CF2': Species(label=\"CF2:CF2\", molecule=[Molecule(smiles=\"FC(F)=C(F)F\")], molecular_weight=(100.015,'amu')),\n",
       " 'CH2F-CH2': Species(label=\"CH2F-CH2\", molecule=[Molecule(smiles=\"[CH2]CF\")], molecular_weight=(47.0516,'amu')),\n",
       " 'CH3-CHF': Species(label=\"CH3-CHF\", molecule=[Molecule(smiles=\"C[CH]F\")], molecular_weight=(47.0516,'amu')),\n",
       " 'CH2F-CHF': Species(label=\"CH2F-CHF\", molecule=[Molecule(smiles=\"F[CH]CF\")], molecular_weight=(65.042,'amu')),\n",
       " 'CHF2-CH2': Species(label=\"CHF2-CH2\", molecule=[Molecule(smiles=\"[CH2]C(F)F\")], molecular_weight=(65.042,'amu')),\n",
       " 'CH3-CF2': Species(label=\"CH3-CF2\", molecule=[Molecule(smiles=\"C[C](F)F\")], molecular_weight=(65.042,'amu')),\n",
       " 'CHF2-CHF': Species(label=\"CHF2-CHF\", molecule=[Molecule(smiles=\"F[CH]C(F)F\")], molecular_weight=(83.0324,'amu')),\n",
       " 'CH2F-CF2': Species(label=\"CH2F-CF2\", molecule=[Molecule(smiles=\"FC[C](F)F\")], molecular_weight=(83.0324,'amu')),\n",
       " 'CF3-CH2': Species(label=\"CF3-CH2\", molecule=[Molecule(smiles=\"[CH2]C(F)(F)F\")], molecular_weight=(83.0324,'amu')),\n",
       " 'CHF2-CF2': Species(label=\"CHF2-CF2\", molecule=[Molecule(smiles=\"F[C](F)C(F)F\")], molecular_weight=(101.023,'amu')),\n",
       " 'CF3-CF2': Species(label=\"CF3-CF2\", molecule=[Molecule(smiles=\"F[C](F)C(F)(F)F\")], molecular_weight=(119.013,'amu')),\n",
       " 'CF3-CF3': Species(label=\"CF3-CF3\", molecule=[Molecule(smiles=\"FC(F)(F)C(F)(F)F\")], molecular_weight=(138.012,'amu')),\n",
       " 'C2F2': Species(label=\"C2F2\", molecule=[Molecule(smiles=\"FC#CF\")], molecular_weight=(62.0181,'amu')),\n",
       " 'CHF:CH[Z]': Species(label=\"CHF:CH[Z]\", molecule=[Molecule(smiles=\"[CH]=CF\")], molecular_weight=(45.0356,'amu')),\n",
       " 'CF2:CH': Species(label=\"CF2:CH\", molecule=[Molecule(smiles=\"[CH]=C(F)F\")], molecular_weight=(63.0261,'amu')),\n",
       " 'CHF:CF[Z]': Species(label=\"CHF:CF[Z]\", molecule=[Molecule(smiles=\"F[C]=CF\")], molecular_weight=(63.0261,'amu')),\n",
       " 'CF2:CF': Species(label=\"CF2:CF\", molecule=[Molecule(smiles=\"F[C]=C(F)F\")], molecular_weight=(81.0165,'amu')),\n",
       " 'CFCO': Species(label=\"CFCO\", molecule=[Molecule(smiles=\"O=C=[C]F\"), Molecule(smiles=\"[O]C#CF\")], molecular_weight=(59.0191,'amu')),\n",
       " 'CF3CO': Species(label=\"CF3CO\", molecule=[Molecule(smiles=\"O=[C]C(F)(F)F\")], molecular_weight=(97.0159,'amu')),\n",
       " 'CF3CHO': Species(label=\"CF3CHO\", molecule=[Molecule(smiles=\"O=CC(F)(F)F\")], molecular_weight=(98.0239,'amu')),\n",
       " 'CF3COF': Species(label=\"CF3COF\", molecule=[Molecule(smiles=\"O=C(F)C(F)(F)F\")], molecular_weight=(116.014,'amu')),\n",
       " 'F2': Species(label=\"F2\", molecule=[Molecule(smiles=\"FF\")], molecular_weight=(37.9968,'amu')),\n",
       " 'HBR': Species(label=\"HBR\", molecule=[Molecule(smiles=\"Br\")], molecular_weight=(80.912,'amu')),\n",
       " 'BR': Species(label=\"BR\", molecule=[Molecule(smiles=\"[Br]\")], molecular_weight=(79.904,'amu')),\n",
       " 'BR2': Species(label=\"BR2\", molecule=[<rmgpy.molecule.fragment.Fragment object at 0x7fe357a0b470>], molecular_weight=(159.808,'amu')),\n",
       " 'CH3BR': Species(label=\"CH3BR\", molecule=[Molecule(smiles=\"CBr\")], molecular_weight=(94.9386,'amu')),\n",
       " 'C2H3BR': Species(label=\"C2H3BR\", molecule=[Molecule(smiles=\"C=CBr\")], molecular_weight=(106.949,'amu')),\n",
       " 'C2H5BR': Species(label=\"C2H5BR\", molecule=[Molecule(smiles=\"CCBr\")], molecular_weight=(108.965,'amu')),\n",
       " 'CF3BR': Species(label=\"CF3BR\", molecule=[Molecule(smiles=\"FC(F)(F)Br\")], molecular_weight=(148.91,'amu')),\n",
       " 'BRO': Species(label=\"BRO\", molecule=[Molecule(smiles=\"[O]Br\")], molecular_weight=(95.9034,'amu')),\n",
       " 'BROH': Species(label=\"BROH\", molecule=[Molecule(smiles=\"OBr\")], molecular_weight=(96.9114,'amu')),\n",
       " 'CH2BR': Species(label=\"CH2BR\", molecule=[Molecule(smiles=\"[CH2]Br\")], molecular_weight=(93.9306,'amu')),\n",
       " 'CF3CCH': Species(label=\"CF3CCH\", molecule=[Molecule(smiles=\"C#CC(F)(F)F\")], molecular_weight=(94.0351,'amu')),\n",
       " 'BTP': Species(label=\"BTP\", molecule=[Molecule(smiles=\"C=C(Br)C(F)(F)F\")], molecular_weight=(174.947,'amu')),\n",
       " 'CF3CCH2': Species(label=\"CF3CCH2\", molecule=[Molecule(smiles=\"C=[C]C(F)(F)F\")], molecular_weight=(95.0431,'amu')),\n",
       " 'CF3CHCH2': Species(label=\"CF3CHCH2\", molecule=[Molecule(smiles=\"C=CC(F)(F)F\")], molecular_weight=(96.0511,'amu')),\n",
       " 'CF3CHBRCH2': Species(label=\"CF3CHBRCH2\", molecule=[Molecule(smiles=\"[CH2]C(Br)C(F)(F)F\")], molecular_weight=(175.955,'amu')),\n",
       " 'CF3CBRCH': Species(label=\"CF3CBRCH\", molecule=[Molecule(smiles=\"[CH]=C(Br)C(F)(F)F\")], molecular_weight=(173.939,'amu')),\n",
       " 'CF3COCH3': Species(label=\"CF3COCH3\", molecule=[Molecule(smiles=\"CC(=O)C(F)(F)F\")], molecular_weight=(112.05,'amu'))}"
      ]
     },
     "execution_count": 42,
     "metadata": {},
     "output_type": "execute_result"
    }
   ],
   "source": [
    "NIST_dict"
   ]
  },
  {
   "cell_type": "code",
   "execution_count": null,
   "id": "ce163b30",
   "metadata": {},
   "outputs": [],
   "source": [
    "def same_reaction(rxn1, rxn2, species_dict1, species_dict2):\n",
    "    # function to figure out if the two reactions are the same (describing the same stoichiometry)\n",
    "    pass"
   ]
  },
  {
   "cell_type": "code",
   "execution_count": 18,
   "id": "41a12beb",
   "metadata": {},
   "outputs": [],
   "source": [
    "def mix_reaction(rxn0, rxn1, w):\n",
    "    # function to mix reaction 0 and reaction 1 according to weight (a slider from 0-1)\n",
    "    # 0 is all reaction 0 and 1 is all reaction 1\n",
    "    \n",
    "    Tmin = 298\n",
    "    Tmax = 1500\n",
    "    \n",
    "    T = np.linspace(Tmin, Tmax, 1001)\n",
    "    \n",
    "    "
   ]
  },
  {
   "cell_type": "code",
   "execution_count": 35,
   "id": "5868f8cb",
   "metadata": {},
   "outputs": [],
   "source": [
    "reaction1 = gas_nist.reactions()[0]\n",
    "reaction2 = gas_nist.reactions()[1]\n",
    "\n",
    "reaction_mix = mix_reaction(reaction1, reaction2, 0.5)\n"
   ]
  },
  {
   "cell_type": "code",
   "execution_count": 49,
   "id": "87686f04",
   "metadata": {},
   "outputs": [],
   "source": [
    "def lookup_species(gas, name):\n",
    "    species_list = gas.species()\n",
    "    for i, sp in species_list:\n",
    "        if sp.name == name:\n",
    "            return species_list[i]"
   ]
  },
  {
   "cell_type": "code",
   "execution_count": 43,
   "id": "b0d93cde",
   "metadata": {},
   "outputs": [
    {
     "name": "stdout",
     "output_type": "stream",
     "text": [
      "H + O2 <=> O + OH\n"
     ]
    }
   ],
   "source": [
    "print(reaction1)\n",
    "\n",
    "reactants = []\n",
    "for key in reaction1.reactants.keys():\n",
    "    rmg_species = NIST_dict[key]\n",
    "    ct_species = lookup_species(gas_nist, key)\n",
    "    rmg_speces.thermo = \n",
    "    reactants.append(NIST_dict[key])\n",
    "\n",
    "products = []\n",
    "for key in reaction1.products.keys():\n",
    "    products.append(NIST_dict[key])\n",
    "\n",
    "# store the species in a reaction object\n",
    "reactionA = rmgpy.reaction.Reaction(\n",
    "    reactants=reactants,\n",
    "    products=products\n",
    ")"
   ]
  },
  {
   "cell_type": "code",
   "execution_count": 378,
   "id": "b248a5b2",
   "metadata": {},
   "outputs": [
    {
     "data": {
      "text/plain": [
       "5921583.011507461"
      ]
     },
     "execution_count": 378,
     "metadata": {},
     "output_type": "execute_result"
    }
   ],
   "source": [
    "gas_nist.species()[1].thermo.h(500)"
   ]
  },
  {
   "cell_type": "code",
   "execution_count": 379,
   "id": "1f3017ef",
   "metadata": {},
   "outputs": [
    {
     "data": {
      "text/plain": [
       "['__class__',\n",
       " '__delattr__',\n",
       " '__dir__',\n",
       " '__doc__',\n",
       " '__eq__',\n",
       " '__format__',\n",
       " '__ge__',\n",
       " '__getattribute__',\n",
       " '__gt__',\n",
       " '__hash__',\n",
       " '__init__',\n",
       " '__init_subclass__',\n",
       " '__le__',\n",
       " '__lt__',\n",
       " '__ne__',\n",
       " '__new__',\n",
       " '__pyx_vtable__',\n",
       " '__reduce__',\n",
       " '__reduce_ex__',\n",
       " '__repr__',\n",
       " '__setattr__',\n",
       " '__setstate__',\n",
       " '__sizeof__',\n",
       " '__str__',\n",
       " '__subclasshook__',\n",
       " '_check_n_coeffs',\n",
       " 'coeffs',\n",
       " 'cp',\n",
       " 'derived_type',\n",
       " 'h',\n",
       " 'max_temp',\n",
       " 'min_temp',\n",
       " 'n_coeffs',\n",
       " 'reference_pressure',\n",
       " 's']"
      ]
     },
     "execution_count": 379,
     "metadata": {},
     "output_type": "execute_result"
    }
   ],
   "source": [
    "dir(gas_nist.species()[1].thermo)"
   ]
  },
  {
   "cell_type": "code",
   "execution_count": 374,
   "id": "e3b5ce10",
   "metadata": {},
   "outputs": [
    {
     "data": {
      "text/plain": [
       "<function NasaPoly2.h>"
      ]
     },
     "execution_count": 374,
     "metadata": {},
     "output_type": "execute_result"
    }
   ],
   "source": [
    "gas_nist.species()[1].thermo.h"
   ]
  },
  {
   "cell_type": "code",
   "execution_count": 402,
   "id": "e51bd257",
   "metadata": {},
   "outputs": [
    {
     "name": "stdout",
     "output_type": "stream",
     "text": [
      "<class 'cantera._cantera.ThreeBodyReaction'>\n",
      "4 2 H + M <=> H2 + M\n",
      "<class 'cantera._cantera.ThreeBodyReaction'>\n",
      "8 H + OH + M <=> H2O + M\n",
      "<class 'cantera._cantera.ThreeBodyReaction'>\n",
      "9 H + O + M <=> OH + M\n",
      "<class 'cantera._cantera.ThreeBodyReaction'>\n",
      "10 2 O + M <=> O2 + M\n",
      "<class 'cantera._cantera.FalloffReaction'>\n",
      "<class 'cantera._cantera.FalloffReaction'>\n",
      "<class 'cantera._cantera.FalloffReaction'>\n",
      "<class 'cantera._cantera.ThreeBodyReaction'>\n",
      "38 HCO + M <=> CO + H + M\n",
      "<class 'cantera._cantera.FalloffReaction'>\n",
      "<class 'cantera._cantera.FalloffReaction'>\n",
      "<class 'cantera._cantera.FalloffReaction'>\n",
      "<class 'cantera._cantera.FalloffReaction'>\n",
      "<class 'cantera._cantera.FalloffReaction'>\n",
      "<class 'cantera._cantera.FalloffReaction'>\n",
      "<class 'cantera._cantera.FalloffReaction'>\n",
      "<class 'cantera._cantera.FalloffReaction'>\n",
      "<class 'cantera._cantera.FalloffReaction'>\n",
      "<class 'cantera._cantera.FalloffReaction'>\n",
      "<class 'cantera._cantera.FalloffReaction'>\n",
      "<class 'cantera._cantera.FalloffReaction'>\n",
      "<class 'cantera._cantera.FalloffReaction'>\n",
      "<class 'cantera._cantera.FalloffReaction'>\n",
      "<class 'cantera._cantera.FalloffReaction'>\n",
      "<class 'cantera._cantera.FalloffReaction'>\n",
      "<class 'cantera._cantera.FalloffReaction'>\n",
      "<class 'cantera._cantera.FalloffReaction'>\n",
      "<class 'cantera._cantera.FalloffReaction'>\n",
      "<class 'cantera._cantera.FalloffReaction'>\n",
      "<class 'cantera._cantera.FalloffReaction'>\n",
      "<class 'cantera._cantera.FalloffReaction'>\n",
      "<class 'cantera._cantera.FalloffReaction'>\n",
      "<class 'cantera._cantera.FalloffReaction'>\n",
      "<class 'cantera._cantera.FalloffReaction'>\n",
      "<class 'cantera._cantera.FalloffReaction'>\n",
      "<class 'cantera._cantera.ThreeBodyReaction'>\n",
      "244 CH2OCH + M <=> CH3 + CO + M\n",
      "<class 'cantera._cantera.ThreeBodyReaction'>\n",
      "245 CH2OCH + M <=> CH2CHO + M\n",
      "<class 'cantera._cantera.ThreeBodyReaction'>\n",
      "246 CH2OCH + M <=> CH2CO + H + M\n",
      "<class 'cantera._cantera.FalloffReaction'>\n",
      "<class 'cantera._cantera.FalloffReaction'>\n",
      "<class 'cantera._cantera.FalloffReaction'>\n",
      "<class 'cantera._cantera.FalloffReaction'>\n",
      "<class 'cantera._cantera.FalloffReaction'>\n",
      "<class 'cantera._cantera.FalloffReaction'>\n",
      "<class 'cantera._cantera.FalloffReaction'>\n",
      "<class 'cantera._cantera.FalloffReaction'>\n",
      "<class 'cantera._cantera.FalloffReaction'>\n",
      "<class 'cantera._cantera.FalloffReaction'>\n",
      "<class 'cantera._cantera.FalloffReaction'>\n",
      "<class 'cantera._cantera.FalloffReaction'>\n",
      "<class 'cantera._cantera.FalloffReaction'>\n",
      "<class 'cantera._cantera.FalloffReaction'>\n",
      "<class 'cantera._cantera.FalloffReaction'>\n",
      "<class 'cantera._cantera.FalloffReaction'>\n",
      "<class 'cantera._cantera.FalloffReaction'>\n",
      "<class 'cantera._cantera.FalloffReaction'>\n",
      "<class 'cantera._cantera.FalloffReaction'>\n",
      "<class 'cantera._cantera.FalloffReaction'>\n",
      "<class 'cantera._cantera.FalloffReaction'>\n",
      "<class 'cantera._cantera.FalloffReaction'>\n",
      "<class 'cantera._cantera.FalloffReaction'>\n",
      "<class 'cantera._cantera.FalloffReaction'>\n",
      "<class 'cantera._cantera.FalloffReaction'>\n",
      "<class 'cantera._cantera.FalloffReaction'>\n",
      "<class 'cantera._cantera.FalloffReaction'>\n",
      "<class 'cantera._cantera.FalloffReaction'>\n",
      "<class 'cantera._cantera.FalloffReaction'>\n",
      "<class 'cantera._cantera.FalloffReaction'>\n",
      "<class 'cantera._cantera.FalloffReaction'>\n",
      "<class 'cantera._cantera.FalloffReaction'>\n",
      "<class 'cantera._cantera.FalloffReaction'>\n",
      "<class 'cantera._cantera.FalloffReaction'>\n",
      "<class 'cantera._cantera.FalloffReaction'>\n",
      "<class 'cantera._cantera.ThreeBodyReaction'>\n",
      "801 CH3CH2O + M <=> CH3CHO + H + M\n",
      "<class 'cantera._cantera.ThreeBodyReaction'>\n",
      "802 CH3CH2O + M <=> CH2O + CH3 + M\n",
      "<class 'cantera._cantera.ThreeBodyReaction'>\n",
      "815 CH3CHOH + M <=> CH3CHO + H + M\n",
      "<class 'cantera._cantera.FalloffReaction'>\n",
      "<class 'cantera._cantera.ThreeBodyReaction'>\n",
      "828 CO + F + M <=> CF:O + M\n",
      "<class 'cantera._cantera.FalloffReaction'>\n",
      "<class 'cantera._cantera.ThreeBodyReaction'>\n",
      "848 CHF + HF + M <=> CH2F2 + M\n",
      "<class 'cantera._cantera.ThreeBodyReaction'>\n",
      "851 CHF3 + M <=> CF2 + HF + M\n",
      "<class 'cantera._cantera.ThreeBodyReaction'>\n",
      "852 CF4 + M <=> CF3 + F + M\n",
      "<class 'cantera._cantera.FalloffReaction'>\n",
      "<class 'cantera._cantera.FalloffReaction'>\n",
      "<class 'cantera._cantera.FalloffReaction'>\n",
      "<class 'cantera._cantera.FalloffReaction'>\n",
      "<class 'cantera._cantera.FalloffReaction'>\n",
      "<class 'cantera._cantera.FalloffReaction'>\n",
      "<class 'cantera._cantera.ThreeBodyReaction'>\n",
      "1297 CF2:CF2 + M <=> 2 CF2 + M\n",
      "<class 'cantera._cantera.FalloffReaction'>\n",
      "<class 'cantera._cantera.FalloffReaction'>\n",
      "<class 'cantera._cantera.FalloffReaction'>\n",
      "<class 'cantera._cantera.FalloffReaction'>\n",
      "<class 'cantera._cantera.FalloffReaction'>\n",
      "<class 'cantera._cantera.FalloffReaction'>\n",
      "<class 'cantera._cantera.FalloffReaction'>\n",
      "<class 'cantera._cantera.FalloffReaction'>\n",
      "<class 'cantera._cantera.FalloffReaction'>\n",
      "<class 'cantera._cantera.FalloffReaction'>\n",
      "<class 'cantera._cantera.FalloffReaction'>\n",
      "<class 'cantera._cantera.FalloffReaction'>\n",
      "<class 'cantera._cantera.FalloffReaction'>\n",
      "<class 'cantera._cantera.FalloffReaction'>\n",
      "<class 'cantera._cantera.FalloffReaction'>\n",
      "<class 'cantera._cantera.FalloffReaction'>\n",
      "<class 'cantera._cantera.ThreeBodyReaction'>\n",
      "1444 2 F + M <=> F2 + M\n",
      "<class 'cantera._cantera.ThreeBodyReaction'>\n",
      "1459 2 BR + M <=> BR2 + M\n",
      "<class 'cantera._cantera.ThreeBodyReaction'>\n",
      "1460 BR + H + M <=> HBR + M\n",
      "<class 'cantera._cantera.FalloffReaction'>\n",
      "<class 'cantera._cantera.ThreeBodyReaction'>\n",
      "1528 BR + O + M <=> BRO + M\n",
      "<class 'cantera._cantera.ThreeBodyReaction'>\n",
      "1533 C2H3BR + M <=> C2H2 + HBR + M\n"
     ]
    }
   ],
   "source": [
    "for i, rxn in enumerate(gas_nist.reactions()):\n",
    "    if type(rxn) != ct._cantera.Arrhenius and type(rxn) != ct._cantera.ElementaryReaction:\n",
    "        print(type(rxn))\n",
    "    if type(rxn) == ct._cantera.ThreeBodyReaction:\n",
    "        print(i, rxn)\n",
    "# dir(gas_nist.reactions()[10])"
   ]
  },
  {
   "cell_type": "code",
   "execution_count": 373,
   "id": "c8c5f1bb",
   "metadata": {},
   "outputs": [],
   "source": [
    "def ct2rmg_thermo(ct_thermo):\n",
    "    rmg_thermo = rmgpy.thermo.nasa.NASA()\n",
    "    rmg_thermo.Tmin = (ct_thermo.min_temp, 'K')\n",
    "    rmg_thermo.Tmax = (ct_thermo.max_temp, 'K')\n",
    "    midpoint = ct_thermo.coeffs[0]\n",
    "    a_high = ct_thermo.coeffs[1:8]\n",
    "    a_low = ct_thermo.coeffs[8:]\n",
    "    \n",
    "    nasa1 = rmgpy.thermo.nasa.NASAPolynomial()\n",
    "    nasa2 = rmgpy.thermo.nasa.NASAPolynomial()\n",
    "    \n",
    "    nasa1.coeffs = a_low\n",
    "    nasa1.Tmin = rmg_thermo.Tmin\n",
    "    nasa1.Tmax = (midpoint, 'K')\n",
    "    \n",
    "    nasa2.coeffs = a_high\n",
    "    nasa2.Tmin = (midpoint, 'K')\n",
    "    nasa2.Tmax = rmg_thermo.Tmax\n",
    "    \n",
    "    rmg_thermo.polynomials = [nasa1, nasa2]\n",
    "    \n",
    "    return rmg_thermo"
   ]
  },
  {
   "cell_type": "code",
   "execution_count": 412,
   "id": "76244324",
   "metadata": {},
   "outputs": [
    {
     "data": {
      "text/plain": [
       "['__call__',\n",
       " '__class__',\n",
       " '__delattr__',\n",
       " '__dir__',\n",
       " '__doc__',\n",
       " '__eq__',\n",
       " '__format__',\n",
       " '__ge__',\n",
       " '__getattribute__',\n",
       " '__gt__',\n",
       " '__hash__',\n",
       " '__init__',\n",
       " '__init_subclass__',\n",
       " '__le__',\n",
       " '__lt__',\n",
       " '__ne__',\n",
       " '__new__',\n",
       " '__reduce__',\n",
       " '__reduce_ex__',\n",
       " '__repr__',\n",
       " '__setattr__',\n",
       " '__setstate__',\n",
       " '__sizeof__',\n",
       " '__str__',\n",
       " '__subclasshook__',\n",
       " 'activation_energy',\n",
       " 'pre_exponential_factor',\n",
       " 'temperature_exponent']"
      ]
     },
     "execution_count": 412,
     "metadata": {},
     "output_type": "execute_result"
    }
   ],
   "source": [
    "dir(gas_nist.reactions()[0].rate)"
   ]
  },
  {
   "cell_type": "code",
   "execution_count": 413,
   "id": "1320f4db",
   "metadata": {},
   "outputs": [],
   "source": [
    "def ct2rmg_kinetics(ct_reaction):\n",
    "    \n",
    "    reactants = []\n",
    "    for key in ct_reaction.reactants.keys():\n",
    "        rmg_species = NIST_dict[key]\n",
    "        ct_species = lookup_species(gas_nist, key)\n",
    "        rmg_speces.thermo = \n",
    "        reactants.append(NIST_dict[key])\n",
    "\n",
    "    products = []\n",
    "    for key in ct_reaction.products.keys():\n",
    "        products.append(NIST_dict[key])\n",
    "\n",
    "    # store the species in a reaction object\n",
    "    reactionA = rmgpy.reaction.Reaction(\n",
    "        reactants=reactants,\n",
    "        products=products\n",
    "    )\n",
    "    \n",
    "    # takes a cantera reaction and converts to RMG kinetics\n",
    "    if type(ct_reaction) == ct._cantera.Arrhenius or type(ct_reaction) == ct._cantera.ElementaryReaction:\n",
    "        rmg_kinetics = rmgpy.kinetics.arrhenius.Arrhenius(\n",
    "            A=ct_reaction.rate.pre_exponential_factor,\n",
    "            n=ct_reaction.rate.temperature_exponent,\n",
    "            Ea=ct_reaction.rate.activation_energy)\n",
    "    elif type(ct_reaction) == ct._cantera.ThreeBodyReaction:\n",
    "        raise NotImplemented\n",
    "    elif type(ct_reaction) == ct._cantera.FalloffReaction:\n",
    "        raise NotImplemented\n",
    "    else:\n",
    "        raise ValueError('Invalid kind of reaction')\n",
    "    return rmg_kinetics"
   ]
  },
  {
   "cell_type": "code",
   "execution_count": 423,
   "id": "57d684b1",
   "metadata": {},
   "outputs": [
    {
     "data": {
      "text/plain": [
       "22030000000000.0"
      ]
     },
     "execution_count": 423,
     "metadata": {},
     "output_type": "execute_result"
    }
   ],
   "source": [
    "gas_nist.reactions()[0].rate.pre_exponential_factor"
   ]
  },
  {
   "cell_type": "code",
   "execution_count": 425,
   "id": "44081245",
   "metadata": {},
   "outputs": [
    {
     "data": {
      "text/plain": [
       "['__call__',\n",
       " '__class__',\n",
       " '__delattr__',\n",
       " '__dir__',\n",
       " '__doc__',\n",
       " '__eq__',\n",
       " '__format__',\n",
       " '__ge__',\n",
       " '__getattribute__',\n",
       " '__gt__',\n",
       " '__hash__',\n",
       " '__init__',\n",
       " '__init_subclass__',\n",
       " '__le__',\n",
       " '__lt__',\n",
       " '__ne__',\n",
       " '__new__',\n",
       " '__reduce__',\n",
       " '__reduce_ex__',\n",
       " '__repr__',\n",
       " '__setattr__',\n",
       " '__setstate__',\n",
       " '__sizeof__',\n",
       " '__str__',\n",
       " '__subclasshook__',\n",
       " 'activation_energy',\n",
       " 'pre_exponential_factor',\n",
       " 'temperature_exponent']"
      ]
     },
     "execution_count": 425,
     "metadata": {},
     "output_type": "execute_result"
    }
   ],
   "source": [
    "dir(gas_nist.reactions()[0].rate)"
   ]
  },
  {
   "cell_type": "code",
   "execution_count": 420,
   "id": "c948f822",
   "metadata": {},
   "outputs": [
    {
     "ename": "QuantityError",
     "evalue": "Invalid units ''. Common units: ['s^-1', 'm^3/(mol*s)', 'cm^3/(mol*s)', 'm^3/(molecule*s)', 'cm^3/(molecule*s)']",
     "output_type": "error",
     "traceback": [
      "\u001b[0;31m---------------------------------------------------------------------------\u001b[0m",
      "\u001b[0;31mKeyError\u001b[0m                                  Traceback (most recent call last)",
      "\u001b[0;32m~/rmg/RMG-Py/rmgpy/quantity.cpython-37m-x86_64-linux-gnu.so\u001b[0m in \u001b[0;36mrmgpy.quantity.RateCoefficient\u001b[0;34m()\u001b[0m\n",
      "\u001b[0;31mKeyError\u001b[0m: Dimensionality({})",
      "\nDuring handling of the above exception, another exception occurred:\n",
      "\u001b[0;31mQuantityError\u001b[0m                             Traceback (most recent call last)",
      "\u001b[0;32m/tmp/ipykernel_1236/2724847488.py\u001b[0m in \u001b[0;36m<module>\u001b[0;34m\u001b[0m\n\u001b[0;32m----> 1\u001b[0;31m \u001b[0mprint\u001b[0m\u001b[0;34m(\u001b[0m\u001b[0mct2rmg_kinetics\u001b[0m\u001b[0;34m(\u001b[0m\u001b[0mgas_nist\u001b[0m\u001b[0;34m.\u001b[0m\u001b[0mreactions\u001b[0m\u001b[0;34m(\u001b[0m\u001b[0;34m)\u001b[0m\u001b[0;34m[\u001b[0m\u001b[0;36m0\u001b[0m\u001b[0;34m]\u001b[0m\u001b[0;34m)\u001b[0m\u001b[0;34m)\u001b[0m\u001b[0;34m\u001b[0m\u001b[0;34m\u001b[0m\u001b[0m\n\u001b[0m",
      "\u001b[0;32m/tmp/ipykernel_1236/634381885.py\u001b[0m in \u001b[0;36mct2rmg_kinetics\u001b[0;34m(ct_reaction)\u001b[0m\n\u001b[1;32m      5\u001b[0m             \u001b[0mA\u001b[0m\u001b[0;34m=\u001b[0m\u001b[0mct_reaction\u001b[0m\u001b[0;34m.\u001b[0m\u001b[0mrate\u001b[0m\u001b[0;34m.\u001b[0m\u001b[0mpre_exponential_factor\u001b[0m\u001b[0;34m,\u001b[0m\u001b[0;34m\u001b[0m\u001b[0;34m\u001b[0m\u001b[0m\n\u001b[1;32m      6\u001b[0m             \u001b[0mn\u001b[0m\u001b[0;34m=\u001b[0m\u001b[0mct_reaction\u001b[0m\u001b[0;34m.\u001b[0m\u001b[0mrate\u001b[0m\u001b[0;34m.\u001b[0m\u001b[0mtemperature_exponent\u001b[0m\u001b[0;34m,\u001b[0m\u001b[0;34m\u001b[0m\u001b[0;34m\u001b[0m\u001b[0m\n\u001b[0;32m----> 7\u001b[0;31m             Ea=ct_reaction.rate.activation_energy)\n\u001b[0m\u001b[1;32m      8\u001b[0m     \u001b[0;32melif\u001b[0m \u001b[0mtype\u001b[0m\u001b[0;34m(\u001b[0m\u001b[0mct_reaction\u001b[0m\u001b[0;34m)\u001b[0m \u001b[0;34m==\u001b[0m \u001b[0mct\u001b[0m\u001b[0;34m.\u001b[0m\u001b[0m_cantera\u001b[0m\u001b[0;34m.\u001b[0m\u001b[0mThreeBodyReaction\u001b[0m\u001b[0;34m:\u001b[0m\u001b[0;34m\u001b[0m\u001b[0;34m\u001b[0m\u001b[0m\n\u001b[1;32m      9\u001b[0m         \u001b[0;32mraise\u001b[0m \u001b[0mNotImplemented\u001b[0m\u001b[0;34m\u001b[0m\u001b[0;34m\u001b[0m\u001b[0m\n",
      "\u001b[0;32m~/rmg/RMG-Py/rmgpy/kinetics/arrhenius.pyx\u001b[0m in \u001b[0;36mrmgpy.kinetics.arrhenius.Arrhenius.__init__\u001b[0;34m()\u001b[0m\n",
      "\u001b[0;32m~/rmg/RMG-Py/rmgpy/kinetics/arrhenius.pyx\u001b[0m in \u001b[0;36mrmgpy.kinetics.arrhenius.Arrhenius.A.__set__\u001b[0;34m()\u001b[0m\n",
      "\u001b[0;32m~/rmg/RMG-Py/rmgpy/quantity.cpython-37m-x86_64-linux-gnu.so\u001b[0m in \u001b[0;36mrmgpy.quantity.RateCoefficient\u001b[0;34m()\u001b[0m\n",
      "\u001b[0;31mQuantityError\u001b[0m: Invalid units ''. Common units: ['s^-1', 'm^3/(mol*s)', 'cm^3/(mol*s)', 'm^3/(molecule*s)', 'cm^3/(molecule*s)']"
     ]
    }
   ],
   "source": [
    "print(ct2rmg_kinetics(gas_nist.reactions()[0]))"
   ]
  },
  {
   "cell_type": "code",
   "execution_count": 116,
   "id": "9a9b1ba0",
   "metadata": {},
   "outputs": [
    {
     "name": "stdout",
     "output_type": "stream",
     "text": [
      "<Species N2>\n",
      "NASA(polynomials=[NASAPolynomial(coeffs=[3.29868,0.00140824,-3.96322e-06,5.64152e-09,-2.44485e-12,-1020.9,3.95037], Tmin=(300,'K'), Tmax=(1000,'K')), NASAPolynomial(coeffs=[2.92664,0.00148798,-5.68476e-07,1.0097e-10,-6.75335e-15,-922.798,5.98053], Tmin=(1000,'K'), Tmax=(5000,'K'))], Tmin=(300,'K'), Tmax=(5000,'K'))\n"
     ]
    }
   ],
   "source": [
    "print(gas_nist.species()[1])\n",
    "rmg1 = ct2rmg_thermo(gas_nist.species()[1].thermo)\n",
    "print(rmg1)"
   ]
  },
  {
   "cell_type": "code",
   "execution_count": null,
   "id": "68155409",
   "metadata": {},
   "outputs": [],
   "source": [
    "# plot the results of cantera converted to RMG thermo\n",
    "\n",
    "\n"
   ]
  },
  {
   "cell_type": "markdown",
   "id": "e9d7c889",
   "metadata": {},
   "source": [
    "## Plot the Thermodynamic Parameters vs. Temperature"
   ]
  },
  {
   "cell_type": "code",
   "execution_count": 111,
   "id": "f98b745a",
   "metadata": {},
   "outputs": [],
   "source": [
    "def plot_thermos(thermos, labels=None):\n",
    "    %matplotlib inline\n",
    "    fig, ax = plt.subplots(1,3)\n",
    "    fig.set_size_inches(12, 3)\n",
    "    fig.tight_layout()\n",
    "    ax[0].set_xlabel('Temperature (K)')\n",
    "    ax[0].set_ylabel('H (kJ / mol)')\n",
    "    ax[0].set_title('Enthalpy vs. Temperature')\n",
    "    ax[1].set_xlabel('Temperature (K)')\n",
    "    ax[1].set_ylabel('S (kJ / mol K)')\n",
    "    ax[1].set_title('Entropy vs. Temperature')\n",
    "    ax[2].set_xlabel('Temperature (K)')\n",
    "    ax[2].set_ylabel('Cp (kJ / mol K)')\n",
    "    ax[2].set_title('Heat Capacity vs. Temperature')\n",
    "    T = np.linspace(300, 3000, 1001)\n",
    "    for thermo in thermos:\n",
    "        H = np.zeros(len(T))\n",
    "        S = np.zeros(len(T))\n",
    "        Cp = np.zeros(len(T))\n",
    "        for i in range(0, len(T)):\n",
    "            H[i] = thermo.get_enthalpy(T[i]) / 1000.0\n",
    "            S[i] = thermo.get_entropy(T[i]) / 1000.0\n",
    "            Cp[i] = thermo.get_heat_capacity(T[i]) / 1000.0\n",
    "        ax[0].plot(T, H)\n",
    "        ax[1].plot(T, S)\n",
    "        ax[2].plot(T, Cp)\n",
    "    ax[0].legend(labels)\n",
    "    ax[1].legend(labels)\n",
    "    ax[2].legend(labels)\n",
    "    plt.subplots_adjust(wspace=0.25)"
   ]
  },
  {
   "cell_type": "code",
   "execution_count": 120,
   "id": "2615e67c",
   "metadata": {},
   "outputs": [
    {
     "data": {
      "image/png": "[encoded data removed]",
      "text/plain": [
       "<Figure size 864x216 with 3 Axes>"
      ]
     },
     "metadata": {
      "needs_background": "light"
     },
     "output_type": "display_data"
    }
   ],
   "source": [
    "plot_thermos([rmg1, species_list[3]], labels=['ct_converted', 'RMG'])"
   ]
  },
  {
   "cell_type": "code",
   "execution_count": 83,
   "id": "ebc49409",
   "metadata": {},
   "outputs": [
    {
     "data": {
      "text/plain": [
       "array([ 1.0000000e+03,  2.9266400e+00,  1.4879768e-03, -5.6847600e-07,\n",
       "        1.0097038e-10, -6.7533510e-15, -9.2279770e+02,  5.9805280e+00,\n",
       "        3.2986770e+00,  1.4082404e-03, -3.9632220e-06,  5.6415150e-09,\n",
       "       -2.4448540e-12, -1.0208999e+03,  3.9503720e+00])"
      ]
     },
     "execution_count": 83,
     "metadata": {},
     "output_type": "execute_result"
    }
   ],
   "source": [
    "gas_nist.species()[1].thermo.coeffs"
   ]
  },
  {
   "cell_type": "code",
   "execution_count": 22,
   "id": "58633add",
   "metadata": {},
   "outputs": [
    {
     "data": {
      "text/plain": [
       "Arrhenius(A=2.203e+13, b=-0.671, E=7.12995e+07)"
      ]
     },
     "execution_count": 22,
     "metadata": {},
     "output_type": "execute_result"
    }
   ],
   "source": [
    "reaction1.rate"
   ]
  },
  {
   "cell_type": "code",
   "execution_count": 24,
   "id": "3bcbe806",
   "metadata": {},
   "outputs": [
    {
     "data": {
      "text/plain": [
       "<ElementaryReaction: H + O2 <=> O + OH>"
      ]
     },
     "execution_count": 24,
     "metadata": {},
     "output_type": "execute_result"
    }
   ],
   "source": [
    "reaction1"
   ]
  },
  {
   "cell_type": "code",
   "execution_count": 166,
   "id": "40768816",
   "metadata": {},
   "outputs": [],
   "source": [
    "rmg1.Tmin = (290, 'K')"
   ]
  },
  {
   "cell_type": "code",
   "execution_count": 170,
   "id": "8370a282",
   "metadata": {},
   "outputs": [
    {
     "ename": "ValueError",
     "evalue": "No valid NASA polynomial at temperature 298 K.",
     "output_type": "error",
     "traceback": [
      "\u001b[0;31m---------------------------------------------------------------------------\u001b[0m",
      "\u001b[0;31mValueError\u001b[0m                                Traceback (most recent call last)",
      "\u001b[0;32m/tmp/ipykernel_1236/955029434.py\u001b[0m in \u001b[0;36m<module>\u001b[0;34m\u001b[0m\n\u001b[0;32m----> 1\u001b[0;31m \u001b[0mrmg1\u001b[0m\u001b[0;34m.\u001b[0m\u001b[0mget_entropy\u001b[0m\u001b[0;34m(\u001b[0m\u001b[0;36m298\u001b[0m\u001b[0;34m)\u001b[0m\u001b[0;34m\u001b[0m\u001b[0;34m\u001b[0m\u001b[0m\n\u001b[0m",
      "\u001b[0;32m~/rmg/RMG-Py/rmgpy/thermo/nasa.pyx\u001b[0m in \u001b[0;36mrmgpy.thermo.nasa.NASA.get_entropy\u001b[0;34m()\u001b[0m\n",
      "\u001b[0;32m~/rmg/RMG-Py/rmgpy/thermo/nasa.pyx\u001b[0m in \u001b[0;36mrmgpy.thermo.nasa.NASA.get_entropy\u001b[0;34m()\u001b[0m\n",
      "\u001b[0;32m~/rmg/RMG-Py/rmgpy/thermo/nasa.pyx\u001b[0m in \u001b[0;36mrmgpy.thermo.nasa.NASA.select_polynomial\u001b[0;34m()\u001b[0m\n",
      "\u001b[0;31mValueError\u001b[0m: No valid NASA polynomial at temperature 298 K."
     ]
    }
   ],
   "source": [
    "rmg1.get_entropy(298)"
   ]
  },
  {
   "cell_type": "code",
   "execution_count": 159,
   "id": "e5074dd3",
   "metadata": {},
   "outputs": [
    {
     "data": {
      "text/plain": [
       "['Cp0',\n",
       " 'CpInf',\n",
       " 'E0',\n",
       " 'Tmax',\n",
       " 'Tmin',\n",
       " '_Cp0',\n",
       " '_CpInf',\n",
       " '_E0',\n",
       " '_Tmax',\n",
       " '_Tmin',\n",
       " '__class__',\n",
       " '__delattr__',\n",
       " '__dir__',\n",
       " '__doc__',\n",
       " '__eq__',\n",
       " '__format__',\n",
       " '__ge__',\n",
       " '__getattribute__',\n",
       " '__gt__',\n",
       " '__hash__',\n",
       " '__init__',\n",
       " '__init_subclass__',\n",
       " '__le__',\n",
       " '__lt__',\n",
       " '__ne__',\n",
       " '__new__',\n",
       " '__pyx_vtable__',\n",
       " '__reduce__',\n",
       " '__reduce_cython__',\n",
       " '__reduce_ex__',\n",
       " '__repr__',\n",
       " '__setattr__',\n",
       " '__setstate__',\n",
       " '__setstate_cython__',\n",
       " '__sizeof__',\n",
       " '__str__',\n",
       " '__subclasshook__',\n",
       " 'as_dict',\n",
       " 'change_base_enthalpy',\n",
       " 'change_base_entropy',\n",
       " 'comment',\n",
       " 'discrepancy',\n",
       " 'get_enthalpy',\n",
       " 'get_entropy',\n",
       " 'get_free_energy',\n",
       " 'get_heat_capacity',\n",
       " 'is_identical_to',\n",
       " 'is_similar_to',\n",
       " 'is_temperature_valid',\n",
       " 'label',\n",
       " 'make_object',\n",
       " 'poly1',\n",
       " 'poly2',\n",
       " 'poly3',\n",
       " 'polynomials',\n",
       " 'select_polynomial',\n",
       " 'to_cantera',\n",
       " 'to_thermo_data',\n",
       " 'to_wilhoit']"
      ]
     },
     "execution_count": 159,
     "metadata": {},
     "output_type": "execute_result"
    }
   ],
   "source": [
    "dir(rmg1)"
   ]
  },
  {
   "cell_type": "code",
   "execution_count": 151,
   "id": "66630467",
   "metadata": {},
   "outputs": [
    {
     "data": {
      "text/plain": [
       "array([0., 0., 0., 0., 0., 0., 0., 0., 0., 0.])"
      ]
     },
     "execution_count": 151,
     "metadata": {},
     "output_type": "execute_result"
    }
   ],
   "source": [
    "np.zeros(10)"
   ]
  },
  {
   "cell_type": "code",
   "execution_count": 259,
   "id": "bc95ade6",
   "metadata": {},
   "outputs": [],
   "source": [
    "def mix_thermo_v1(species0, species1, w):\n",
    "    # function to mix species 0 and species 1 according to weight (a slider from 0-1)\n",
    "    # 0 is all species 0 and 1 is all species 1\n",
    "    \n",
    "    # Use the RMG thermo object rmgpy.thermo.nasa.NASA\n",
    "    \n",
    "    # My idea for getting this to work is to refit a NASA polynomial using a weighting implemented by adding more points to the fit\n",
    "    # for example, a 0.1 will lead to 100 points from thermo0 and 1000 points from thermo1\n",
    "    # As long as this is approximate, I think it will have the desired effect\n",
    "    \n",
    "    thermo0 = species0.thermo\n",
    "    thermo1 = species1.thermo\n",
    "    \n",
    "    w = np.round(w, 2)  # need hundredths place to limit the number of points to include\n",
    "    # we want the fit to include ~1001 points no matter what\n",
    "    N_total = 1001\n",
    "    N_0 = int(np.round(N_total * w))\n",
    "    N_1 = N_total - N_0\n",
    "    \n",
    "    \n",
    "    # generate all the Tdata and Cpdata\n",
    "    import rmgpy.quantity\n",
    "    Tdata = np.zeros(N_total + 1)\n",
    "    Cpdata = np.zeros(N_total + 1)\n",
    "    \n",
    "#     print(thermo0.Tmin.value)\n",
    "#     print(thermo1.Tmin.value)\n",
    "    \n",
    "    if N_0 > 0:\n",
    "        Tdata0 = np.linspace(thermo0.Tmin.value, thermo0.Tmax.value, N_0)\n",
    "        for i, T in enumerate(Tdata0):\n",
    "            Tdata[i + 1] = T\n",
    "            Cpdata[i + 1] = thermo0.get_heat_capacity(T)\n",
    "    if N_1 > 0:\n",
    "        Tdata1 = np.linspace(thermo1.Tmin.value, thermo0.Tmax.value, N_1)\n",
    "        for i, T in enumerate(Tdata1):\n",
    "            Tdata[N_0 + i + 1] = T\n",
    "            Cpdata[N_0 + i + 1] = thermo1.get_heat_capacity(T)     \n",
    "   \n",
    "    \n",
    "    # put 298 in first position\n",
    "    Tdata[0] = 300.0\n",
    "    if w < 0.5:\n",
    "        Cpdata[0] = thermo0.get_heat_capacity(Tdata[0])\n",
    "    else:\n",
    "        Cpdata[0] = thermo1.get_heat_capacity(Tdata[0])\n",
    "    \n",
    "    Tdata = rmgpy.quantity.Quantity(Tdata, 'K')\n",
    "    Cpdata = rmgpy.quantity.Quantity(Cpdata, 'kJ/(mol*K)'),\n",
    "\n",
    "    Tmin = np.minimum(thermo0.Tmin.value, thermo1.Tmin.value)\n",
    "    Tmax = np.maximum(thermo0.Tmax.value, thermo1.Tmax.value)\n",
    "\n",
    "    # Always use H298 and S298 from the first thermo given\n",
    "    H298 = thermo0.get_enthalpy(298.0)\n",
    "    H298 = rmgpy.quantity.Quantity(H298, 'kJ/mol')\n",
    "    S298 = thermo0.get_entropy(298.0)\n",
    "    S298 = rmgpy.quantity.Quantity(S298, 'kJ/(mol*K)')\n",
    "#     Cp0 = rmgpy.quantity.Quantity(rmgpy.constants.R, 'kJ/(mol*K)')\n",
    "#     CpInf = rmgpy.quantity.Quantity(thermo0.get_heat_capacity(thermo0.Tmax.value), 'kJ/(mol*K)')\n",
    "    \n",
    "    Cp0 = w * species0.calculate_cp0() + (1.0 - w) * species1.calculate_cp0()\n",
    "    Cp0 = rmgpy.quantity.Quantity(Cp0, 'kJ/(mol*K)')\n",
    "    CpInf = w * species0.calculate_cpinf() + (1.0 - w) * species1.calculate_cpinf()\n",
    "    CpInf = rmgpy.quantity.Quantity(CpInf, 'kJ/(mol*K)')\n",
    "#     Cp0 = rmgpy.quantity.Quantity(0.0, 'kJ/(mol*K)')\n",
    "#     CpInf = rmgpy.quantity.Quantity(0.0, 'kJ/(mol*K)')\n",
    "\n",
    "#     Cp0 = self.get_Cp0()\n",
    "#     CpInf = self.get_CpInf()\n",
    "\n",
    "#     Tmin = np.min(self.temperatures)\n",
    "#     Tmax = np.max(self.temperatures)\n",
    "    \n",
    "    import rmgpy.thermo.thermodata\n",
    "    my_data = rmgpy.thermo.thermodata.ThermoData(\n",
    "        Tdata=Tdata,\n",
    "        Cpdata=Cpdata,\n",
    "        H298=H298,\n",
    "        S298=S298,\n",
    "        Cp0=Cp0,\n",
    "        CpInf=CpInf,\n",
    "    )\n",
    "    Tint = 1000.0\n",
    "    if Tint > Tmax or Tint < Tmin:\n",
    "        Tint = (Tmax + Tmin) / 2.0\n",
    "    nasa = my_data.to_nasa(Tmin, Tmax, Tint)\n",
    "    return nasa\n"
   ]
  },
  {
   "cell_type": "code",
   "execution_count": 309,
   "id": "4a04a30e",
   "metadata": {},
   "outputs": [],
   "source": [
    "def mix_thermo(species0, species1, w):\n",
    "    # function to mix species 0 and species 1 according to weight (a slider from 0-1)\n",
    "    # 0 is all species 0 and 1 is all species 1\n",
    "    \n",
    "    # Use the RMG thermo object rmgpy.thermo.nasa.NASA\n",
    "    \n",
    "    # My idea for getting this to work is to refit a NASA polynomial using a weighting implemented by adding more points to the fit\n",
    "    # for example, a 0.1 will lead to 100 points from thermo0 and 1000 points from thermo1\n",
    "    # As long as this is approximate, I think it will have the desired effect\n",
    "    \n",
    "    thermo0 = species0.thermo\n",
    "    thermo1 = species1.thermo\n",
    "    \n",
    "    Tmin = np.maximum(thermo0.Tmin.value, thermo1.Tmin.value)\n",
    "    Tmax = np.minimum(thermo0.Tmax.value, thermo1.Tmax.value)\n",
    "    \n",
    "    N_total = 1001\n",
    "    Tdata = np.linspace(Tmin, Tmax, N_total)\n",
    "    Cpdata = np.zeros(N_total)\n",
    "    for i, T in enumerate(Tdata):\n",
    "        Cpdata[i] = w * thermo0.get_heat_capacity(T) + (1.0 - w) * thermo1.get_heat_capacity(T)\n",
    "    \n",
    "    \n",
    "    \n",
    "    # generate all the Tdata and Cpdata\n",
    "    import rmgpy.quantity\n",
    "    \n",
    "    # put 298 in first position - I know, this is erasing one of the Tdata's but I don't care\n",
    "    Tdata[0] = 300.0\n",
    "    Cpdata[0] = w * thermo0.get_heat_capacity(Tdata[0]) + (1.0 - w) * thermo1.get_heat_capacity(Tdata[0])\n",
    "#     if w < 0.5:\n",
    "#         Cpdata[0] = thermo0.get_heat_capacity(Tdata[0])\n",
    "#     else:\n",
    "#         Cpdata[0] = thermo1.get_heat_capacity(Tdata[0])\n",
    "    \n",
    "    Tdata = rmgpy.quantity.Quantity(Tdata, 'K')\n",
    "    Cpdata = rmgpy.quantity.Quantity(Cpdata, 'J/(mol*K)'),\n",
    "\n",
    "    \n",
    "\n",
    "    # Always use H298 and S298 from the first thermo given\n",
    "    H298 = w * thermo0.get_enthalpy(298.0) + (1.0 - w) * thermo1.get_enthalpy(298.0)\n",
    "    H298 = rmgpy.quantity.Quantity(H298, 'J/mol')\n",
    "    S298 = w * thermo0.get_entropy(298.0) + (1.0 - w) * thermo1.get_entropy(298.0)\n",
    "    S298 = rmgpy.quantity.Quantity(S298, 'J/(mol*K)')\n",
    "#     Cp0 = rmgpy.quantity.Quantity(rmgpy.constants.R, 'kJ/(mol*K)')\n",
    "#     CpInf = rmgpy.quantity.Quantity(thermo0.get_heat_capacity(thermo0.Tmax.value), 'kJ/(mol*K)')\n",
    "    \n",
    "    Cp0 = w * species0.calculate_cp0() + (1.0 - w) * species1.calculate_cp0()\n",
    "    Cp0 = rmgpy.quantity.Quantity(Cp0, 'J/(mol*K)')\n",
    "    CpInf = w * species0.calculate_cpinf() + (1.0 - w) * species1.calculate_cpinf()\n",
    "    CpInf = rmgpy.quantity.Quantity(CpInf, 'J/(mol*K)')\n",
    "#     Cp0 = rmgpy.quantity.Quantity(0.0, 'kJ/(mol*K)')\n",
    "#     CpInf = rmgpy.quantity.Quantity(0.0, 'kJ/(mol*K)')\n",
    "\n",
    "#     Cp0 = self.get_Cp0()\n",
    "#     CpInf = self.get_CpInf()\n",
    "\n",
    "#     Tmin = np.min(self.temperatures)\n",
    "#     Tmax = np.max(self.temperatures)\n",
    "    \n",
    "    import rmgpy.thermo.thermodata\n",
    "    my_data = rmgpy.thermo.thermodata.ThermoData(\n",
    "        Tdata=Tdata,\n",
    "        Cpdata=Cpdata,\n",
    "        H298=H298,\n",
    "        S298=S298,\n",
    "        Cp0=Cp0,\n",
    "        CpInf=CpInf,\n",
    "    )\n",
    "    Tint = 1000.0\n",
    "    if Tint > Tmax or Tint < Tmin:\n",
    "        Tint = (Tmax + Tmin) / 2.0\n",
    "    nasa = my_data.to_nasa(Tmin, Tmax, Tint)\n",
    "    return nasa\n"
   ]
  },
  {
   "cell_type": "code",
   "execution_count": 310,
   "id": "c8812684",
   "metadata": {},
   "outputs": [],
   "source": [
    "thermo4p5 = mix_thermo(species_list[4], species_list[5], 1.0)"
   ]
  },
  {
   "cell_type": "code",
   "execution_count": 311,
   "id": "8f815426",
   "metadata": {},
   "outputs": [
    {
     "data": {
      "image/png": "[encoded data removed]",
      "text/plain": [
       "<Figure size 864x216 with 3 Axes>"
      ]
     },
     "metadata": {
      "needs_background": "light"
     },
     "output_type": "display_data"
    }
   ],
   "source": [
    "# plot_thermos([species_list[4].thermo, species_list[5].thermo], ['4', '5'])\n",
    "plot_thermos([species_list[4].thermo, species_list[5].thermo, thermo4p5], ['4', '5', '4.5'])"
   ]
  },
  {
   "cell_type": "code",
   "execution_count": 255,
   "id": "7625880b",
   "metadata": {},
   "outputs": [
    {
     "data": {
      "text/plain": [
       "178.76114800000002"
      ]
     },
     "execution_count": 255,
     "metadata": {},
     "output_type": "execute_result"
    }
   ],
   "source": [
    "species_list[4].calculate_cp0()\n",
    "species_list[4].calculate_cpinf()"
   ]
  },
  {
   "cell_type": "code",
   "execution_count": 273,
   "id": "258076bd",
   "metadata": {},
   "outputs": [
    {
     "data": {
      "text/plain": [
       "-20291.04182435502"
      ]
     },
     "execution_count": 273,
     "metadata": {},
     "output_type": "execute_result"
    }
   ],
   "source": [
    "species_list[4].thermo.get_enthalpy(1000)"
   ]
  },
  {
   "cell_type": "code",
   "execution_count": 274,
   "id": "41affc81",
   "metadata": {},
   "outputs": [
    {
     "data": {
      "text/plain": [
       "-20291.04182435502"
      ]
     },
     "execution_count": 274,
     "metadata": {},
     "output_type": "execute_result"
    }
   ],
   "source": [
    "species_list[4].get_enthalpy(1000)"
   ]
  },
  {
   "cell_type": "code",
   "execution_count": 312,
   "id": "f57cc30f",
   "metadata": {},
   "outputs": [
    {
     "data": {
      "image/png": "[encoded data removed]",
      "text/plain": [
       "TemplateReaction(index=2, reactants=[Species(index=4, label=\"[CH3]\", thermo=NASA(polynomials=[NASAPolynomial(coeffs=[3.91547,0.00184154,3.48744e-06,-3.3275e-09,8.49963e-13,16285.6,0.351739], Tmin=(100,'K'), Tmax=(1337.62,'K')), NASAPolynomial(coeffs=[3.54145,0.00476788,-1.82149e-06,3.28878e-10,-2.22547e-14,16224,1.6604], Tmin=(1337.62,'K'), Tmax=(5000,'K'))], Tmin=(100,'K'), Tmax=(5000,'K'), comment=\"\"\"Thermo library: primaryThermoLibrary + radical(CH3)\"\"\"), molecule=[Molecule(smiles=\"[CH3]\")], transport_data=TransportData(shapeIndex=2, epsilon=(1197.28,'J/mol'), sigma=(3.8,'angstrom'), dipoleMoment=(0,'De'), polarizability=(0,'angstrom^3'), rotrelaxcollnum=0.0, comment=\"\"\"NOx2018\"\"\"), molecular_weight=(15.0346,'amu')), Species(index=1, label=\"ethane\", thermo=NASA(polynomials=[NASAPolynomial(coeffs=[3.78036,-0.0032429,5.5239e-05,-6.38594e-08,2.28643e-11,-11620.3,5.21026], Tmin=(100,'K'), Tmax=(954.51,'K')), NASAPolynomial(coeffs=[4.58976,0.0141509,-4.7597e-06,8.60312e-10,-6.21731e-14,-12721.7,-3.61698], Tmin=(954.51,'K'), Tmax=(5000,'K'))], Tmin=(100,'K'), Tmax=(5000,'K'), comment=\"\"\"Thermo group additivity estimation: group(Cs-CsHHH) + group(Cs-CsHHH)\"\"\"), molecule=[Molecule(smiles=\"CC\")], transport_data=TransportData(shapeIndex=2, epsilon=(2097.74,'J/mol'), sigma=(4.302,'angstrom'), dipoleMoment=(0,'De'), polarizability=(0,'angstrom^3'), rotrelaxcollnum=1.5, comment=\"\"\"NOx2018\"\"\"), molecular_weight=(30.0691,'amu'))], products=[Species(index=3, label=\"C\", thermo=NASA(polynomials=[NASAPolynomial(coeffs=[4.20541,-0.00535556,2.51123e-05,-2.13762e-08,5.97521e-12,-10161.9,-0.921274], Tmin=(100,'K'), Tmax=(1084.12,'K')), NASAPolynomial(coeffs=[0.908274,0.0114541,-4.57173e-06,8.2919e-10,-5.66313e-14,-9719.98,13.993], Tmin=(1084.12,'K'), Tmax=(5000,'K'))], Tmin=(100,'K'), Tmax=(5000,'K'), comment=\"\"\"Thermo library: primaryThermoLibrary\"\"\"), molecule=[Molecule(smiles=\"C\")], transport_data=TransportData(shapeIndex=2, epsilon=(1175.67,'J/mol'), sigma=(3.746,'angstrom'), dipoleMoment=(0,'De'), polarizability=(2.6,'angstrom^3'), rotrelaxcollnum=13.0, comment=\"\"\"NOx2018\"\"\"), molecular_weight=(16.0425,'amu')), Species(index=5, label=\"C[CH2]\", thermo=NASA(polynomials=[NASAPolynomial(coeffs=[3.82185,-0.00343377,5.09264e-05,-6.20221e-08,2.37078e-11,13066,7.61639], Tmin=(100,'K'), Tmax=(900.31,'K')), NASAPolynomial(coeffs=[5.15617,0.00943129,-1.8195e-06,2.21204e-10,-1.43489e-14,12064.1,-2.91079], Tmin=(900.31,'K'), Tmax=(5000,'K'))], Tmin=(100,'K'), Tmax=(5000,'K'), comment=\"\"\"Thermo group additivity estimation: group(Cs-CsHHH) + group(Cs-CsHHH) + radical(CCJ)\"\"\"), molecule=[Molecule(smiles=\"C[CH2]\")], transport_data=TransportData(shapeIndex=2, epsilon=(2097.74,'J/mol'), sigma=(4.302,'angstrom'), dipoleMoment=(0,'De'), polarizability=(0,'angstrom^3'), rotrelaxcollnum=1.5, comment=\"\"\"NOx2018\"\"\"), molecular_weight=(29.0611,'amu'))], kinetics=Arrhenius(A=(35,'cm^3/(mol*s)'), n=3.44, Ea=(10.384,'kcal/mol'), T0=(1,'K'), comment=\"\"\"Matched reaction 215 C2H6 + CH3_r3 <=> C2H5b + CH4 in H_Abstraction/training\n",
       "This reaction matched rate rule [C/H3/Cs\\H3;C_methyl]\n",
       "family: H_Abstraction\"\"\"), pairs=[(Species(index=4, label=\"[CH3]\", thermo=NASA(polynomials=[NASAPolynomial(coeffs=[3.91547,0.00184154,3.48744e-06,-3.3275e-09,8.49963e-13,16285.6,0.351739], Tmin=(100,'K'), Tmax=(1337.62,'K')), NASAPolynomial(coeffs=[3.54145,0.00476788,-1.82149e-06,3.28878e-10,-2.22547e-14,16224,1.6604], Tmin=(1337.62,'K'), Tmax=(5000,'K'))], Tmin=(100,'K'), Tmax=(5000,'K'), comment=\"\"\"Thermo library: primaryThermoLibrary + radical(CH3)\"\"\"), molecule=[Molecule(smiles=\"[CH3]\")], transport_data=TransportData(shapeIndex=2, epsilon=(1197.28,'J/mol'), sigma=(3.8,'angstrom'), dipoleMoment=(0,'De'), polarizability=(0,'angstrom^3'), rotrelaxcollnum=0.0, comment=\"\"\"NOx2018\"\"\"), molecular_weight=(15.0346,'amu')), Species(index=3, label=\"C\", thermo=NASA(polynomials=[NASAPolynomial(coeffs=[4.20541,-0.00535556,2.51123e-05,-2.13762e-08,5.97521e-12,-10161.9,-0.921274], Tmin=(100,'K'), Tmax=(1084.12,'K')), NASAPolynomial(coeffs=[0.908274,0.0114541,-4.57173e-06,8.2919e-10,-5.66313e-14,-9719.98,13.993], Tmin=(1084.12,'K'), Tmax=(5000,'K'))], Tmin=(100,'K'), Tmax=(5000,'K'), comment=\"\"\"Thermo library: primaryThermoLibrary\"\"\"), molecule=[Molecule(smiles=\"C\")], transport_data=TransportData(shapeIndex=2, epsilon=(1175.67,'J/mol'), sigma=(3.746,'angstrom'), dipoleMoment=(0,'De'), polarizability=(2.6,'angstrom^3'), rotrelaxcollnum=13.0, comment=\"\"\"NOx2018\"\"\"), molecular_weight=(16.0425,'amu'))), (Species(index=1, label=\"ethane\", thermo=NASA(polynomials=[NASAPolynomial(coeffs=[3.78036,-0.0032429,5.5239e-05,-6.38594e-08,2.28643e-11,-11620.3,5.21026], Tmin=(100,'K'), Tmax=(954.51,'K')), NASAPolynomial(coeffs=[4.58976,0.0141509,-4.7597e-06,8.60312e-10,-6.21731e-14,-12721.7,-3.61698], Tmin=(954.51,'K'), Tmax=(5000,'K'))], Tmin=(100,'K'), Tmax=(5000,'K'), comment=\"\"\"Thermo group additivity estimation: group(Cs-CsHHH) + group(Cs-CsHHH)\"\"\"), molecule=[Molecule(smiles=\"CC\")], transport_data=TransportData(shapeIndex=2, epsilon=(2097.74,'J/mol'), sigma=(4.302,'angstrom'), dipoleMoment=(0,'De'), polarizability=(0,'angstrom^3'), rotrelaxcollnum=1.5, comment=\"\"\"NOx2018\"\"\"), molecular_weight=(30.0691,'amu')), Species(index=5, label=\"C[CH2]\", thermo=NASA(polynomials=[NASAPolynomial(coeffs=[3.82185,-0.00343377,5.09264e-05,-6.20221e-08,2.37078e-11,13066,7.61639], Tmin=(100,'K'), Tmax=(900.31,'K')), NASAPolynomial(coeffs=[5.15617,0.00943129,-1.8195e-06,2.21204e-10,-1.43489e-14,12064.1,-2.91079], Tmin=(900.31,'K'), Tmax=(5000,'K'))], Tmin=(100,'K'), Tmax=(5000,'K'), comment=\"\"\"Thermo group additivity estimation: group(Cs-CsHHH) + group(Cs-CsHHH) + radical(CCJ)\"\"\"), molecule=[Molecule(smiles=\"C[CH2]\")], transport_data=TransportData(shapeIndex=2, epsilon=(2097.74,'J/mol'), sigma=(4.302,'angstrom'), dipoleMoment=(0,'De'), polarizability=(0,'angstrom^3'), rotrelaxcollnum=1.5, comment=\"\"\"NOx2018\"\"\"), molecular_weight=(29.0611,'amu')))], family='H_Abstraction', template=['C/H3/Cs\\\\H3', 'C_methyl'])"
      ]
     },
     "execution_count": 312,
     "metadata": {},
     "output_type": "execute_result"
    }
   ],
   "source": []
  },
  {
   "cell_type": "code",
   "execution_count": 326,
   "id": "c1c85969",
   "metadata": {},
   "outputs": [],
   "source": [
    "my_arrhenius = rmgpy.kinetics.arrhenius.Arrhenius()\n",
    "my_arrhenius.fit_to_data(np.ndarray Tlist, np.ndarray klist, str kunits, double T0=1, np.ndarray weights=None,\n",
    "                      bint three_params=True"
   ]
  },
  {
   "cell_type": "code",
   "execution_count": 341,
   "id": "9a6eb280",
   "metadata": {},
   "outputs": [
    {
     "data": {
      "text/plain": [
       "3932.733159682358"
      ]
     },
     "execution_count": 341,
     "metadata": {},
     "output_type": "execute_result"
    }
   ],
   "source": [
    "reaction_list[1].get_rate_coefficient(1000)"
   ]
  },
  {
   "cell_type": "code",
   "execution_count": 347,
   "id": "0f0d8f93",
   "metadata": {},
   "outputs": [
    {
     "data": {
      "text/plain": [
       "2"
      ]
     },
     "execution_count": 347,
     "metadata": {},
     "output_type": "execute_result"
    }
   ],
   "source": [
    "len(reaction_list[1].reactants)"
   ]
  },
  {
   "cell_type": "code",
   "execution_count": 367,
   "id": "5f3d4bdf",
   "metadata": {},
   "outputs": [],
   "source": [
    "def mix_kinetics(reaction0, reaction1, w):\n",
    "    # function to mix reaction 0 and reaction 1 according to weight (a slider from 0-1)\n",
    "    # 0 is all reaction 0 and 1 is all reaction 1\n",
    "    \n",
    "    # Use the RMG thermo object rmgpy.thermo.nasa.NASA\n",
    "    \n",
    "    \n",
    "    kinetics0 = reaction0.kinetics\n",
    "    kinetics1 = reaction1.kinetics\n",
    "    \n",
    "    assert type(kinetics0) == rmgpy.kinetics.arrhenius.Arrhenius\n",
    "    assert type(kinetics1) == rmgpy.kinetics.arrhenius.Arrhenius\n",
    "    \n",
    "    \n",
    "    try:\n",
    "        Tmin = np.maximum(kinetics0.Tmin.value, kinetics1.Tmin.value)\n",
    "    except AttributeError:\n",
    "        Tmin = 300\n",
    "    try:\n",
    "        Tmax = np.minimum(kinetics0.Tmax.value, kinetics1.Tmax.value)\n",
    "    except AttributeError:\n",
    "        Tmax = 3000\n",
    "    \n",
    "    N_total = 1001\n",
    "    Tdata = np.linspace(Tmin, Tmax, N_total)\n",
    "    kdata = np.zeros(N_total)\n",
    "    lnkdata = np.zeros(N_total)\n",
    "    for i, T in enumerate(Tdata):\n",
    "        lnkdata[i] = w * np.log(kinetics0.get_rate_coefficient(T)) + (1.0 - w) * np.log(kinetics1.get_rate_coefficient(T))\n",
    "        kdata[i] = np.exp(lnkdata[i])\n",
    "#         kdata[i] = w * kinetics0.get_rate_coefficient(T) + (1.0 - w) * kinetics1.get_rate_coefficient(T)\n",
    "    \n",
    "    # get the units\n",
    "    kunits = rmgpy.kinetics.model.get_rate_coefficient_units_from_reaction_order(len(reaction0.reactants))\n",
    "    \n",
    "    mixed_kinetics = rmgpy.kinetics.arrhenius.Arrhenius()\n",
    "    mixed_kinetics.fit_to_data(Tdata, kdata, kunits)\n",
    "    \n",
    "    return mixed_kinetics\n",
    "\n"
   ]
  },
  {
   "cell_type": "code",
   "execution_count": 370,
   "id": "e52810a4",
   "metadata": {},
   "outputs": [],
   "source": [
    "mixk = mix_kinetics(reaction_list[1], reaction_list[2], 0.75)"
   ]
  },
  {
   "cell_type": "code",
   "execution_count": null,
   "id": "c9c18cb2",
   "metadata": {},
   "outputs": [],
   "source": []
  },
  {
   "cell_type": "code",
   "execution_count": 371,
   "id": "41993dee",
   "metadata": {},
   "outputs": [],
   "source": [
    "def plot_kinetics(kinetics, labels=None):\n",
    "    %matplotlib inline\n",
    "    plt.xlabel('1000 / T (K^-1)')\n",
    "    plt.ylabel('ln(k)')\n",
    "    \n",
    "    T = np.linspace(300, 3000, 1001)\n",
    "    for kinetic in kinetics:\n",
    "        k = np.zeros(len(T))\n",
    "        for i in range(0, len(T)):\n",
    "            k[i] = kinetic.get_rate_coefficient(T[i])\n",
    "        plt.plot(1000.0 / T, np.log(k))\n",
    "      \n",
    "    plt.legend(labels)"
   ]
  },
  {
   "cell_type": "code",
   "execution_count": 372,
   "id": "07ad86a0",
   "metadata": {},
   "outputs": [
    {
     "data": {
      "image/png": "[encoded data removed]",
      "text/plain": [
       "<Figure size 432x288 with 1 Axes>"
      ]
     },
     "metadata": {
      "needs_background": "light"
     },
     "output_type": "display_data"
    }
   ],
   "source": [
    "plot_kinetics([reaction_list[1].kinetics, reaction_list[2].kinetics, mixk], ['1', '2', 'mix'])"
   ]
  },
  {
   "cell_type": "code",
   "execution_count": null,
   "id": "c6789f39",
   "metadata": {},
   "outputs": [],
   "source": []
  }
 ],
 "metadata": {
  "kernelspec": {
   "display_name": "Python 3 (ipykernel)",
   "language": "python",
   "name": "python3"
  },
  "language_info": {
   "codemirror_mode": {
    "name": "ipython",
    "version": 3
   },
   "file_extension": ".py",
   "mimetype": "text/x-python",
   "name": "python",
   "nbconvert_exporter": "python",
   "pygments_lexer": "ipython3",
   "version": "3.7.12"
  }
 },
 "nbformat": 4,
 "nbformat_minor": 5
}
