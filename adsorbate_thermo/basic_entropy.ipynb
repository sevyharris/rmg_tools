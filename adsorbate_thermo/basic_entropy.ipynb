{
 "cells": [
  {
   "cell_type": "code",
   "execution_count": null,
   "id": "a4bb0e78",
   "metadata": {},
   "outputs": [],
   "source": [
    "# RMG/Cantera compare\n",
    "import cantera as ct\n",
    "import matplotlib.pyplot as plt\n",
    "import numpy as np\n",
    "import rmgpy.constants\n",
    "import adsorbate_thermo\n",
    "import rmgpy.species\n",
    "from rmgpy.data.thermo import ThermoDatabase"
   ]
  },
  {
   "cell_type": "code",
   "execution_count": null,
   "id": "0838d46e",
   "metadata": {},
   "outputs": [],
   "source": [
    "ref_lib = 'GRI-Mech3.0'\n",
    "ref_library_path = \"/home/moon/rmg/RMG-database/input/thermo/\"\n",
    "ref_thermo_database = ThermoDatabase()\n",
    "ref_thermo_database.load(\n",
    "    ref_library_path,\n",
    "    libraries=[\n",
    "        ref_lib,\n",
    "    ],\n",
    "    depository=False,\n",
    "    surface=False\n",
    ")"
   ]
  },
  {
   "cell_type": "code",
   "execution_count": null,
   "id": "0a950dcc",
   "metadata": {},
   "outputs": [],
   "source": [
    "gas1 = ct.Solution('gri30.cti')\n",
    "gas1.TPX = 300.0, 101325, {'CO2': 1.0}\n",
    "# co2 = gas1.species()[15]"
   ]
  },
  {
   "cell_type": "code",
   "execution_count": null,
   "id": "2b638286",
   "metadata": {},
   "outputs": [],
   "source": [
    "sp1 = rmgpy.species.Species(smiles='O=C=O')\n",
    "print(sp1.to_adjacency_list())\n",
    "sp1.get_thermo_data()"
   ]
  },
  {
   "cell_type": "code",
   "execution_count": null,
   "id": "011c9e3d",
   "metadata": {},
   "outputs": [],
   "source": [
    "temperatures = np.linspace(300.0, 2000.0, 201)\n",
    "cp_ct = np.zeros(len(temperatures))\n",
    "h_ct = np.zeros(len(temperatures))\n",
    "s_ct = np.zeros(len(temperatures))\n",
    "# TODO vary pressure\n",
    "\n",
    "for i, T in enumerate(temperatures):\n",
    "    gas1.TPX = T, 101325, {'CO2': 1.0}\n",
    "    cp_ct[i] = gas1.cp_mole\n",
    "    h_ct[i] = gas1.enthalpy_mole\n",
    "    s_ct[i] = gas1.entropy_mole"
   ]
  },
  {
   "cell_type": "code",
   "execution_count": null,
   "id": "5f7c9f40",
   "metadata": {},
   "outputs": [],
   "source": [
    "plt.plot(temperatures, cp_ct, label='Cantera')\n",
    "# plt.plot(temperatures, S2s, label='RMG')\n",
    "plt.title('Heat Capacity')\n",
    "plt.legend()"
   ]
  },
  {
   "cell_type": "code",
   "execution_count": null,
   "id": "d5527773",
   "metadata": {},
   "outputs": [],
   "source": [
    "plt.plot(temperatures, h_ct, label='Cantera')\n",
    "# plt.plot(temperatures, S2s, label='RMG')\n",
    "plt.title('Enthalpy')\n",
    "plt.legend()"
   ]
  },
  {
   "cell_type": "code",
   "execution_count": null,
   "id": "31aedfd6",
   "metadata": {},
   "outputs": [],
   "source": [
    "plt.plot(temperatures, s_ct, label='Cantera')\n",
    "# plt.plot(temperatures, S2s, label='RMG')\n",
    "plt.title('Entropy')\n",
    "plt.legend()"
   ]
  },
  {
   "cell_type": "code",
   "execution_count": null,
   "id": "4632f72d",
   "metadata": {},
   "outputs": [],
   "source": []
  }
 ],
 "metadata": {
  "kernelspec": {
   "display_name": "Python 3 (ipykernel)",
   "language": "python",
   "name": "python3"
  },
  "language_info": {
   "codemirror_mode": {
    "name": "ipython",
    "version": 3
   },
   "file_extension": ".py",
   "mimetype": "text/x-python",
   "name": "python",
   "nbconvert_exporter": "python",
   "pygments_lexer": "ipython3",
   "version": "3.7.12"
  }
 },
 "nbformat": 4,
 "nbformat_minor": 5
}
