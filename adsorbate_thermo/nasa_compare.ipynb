{
 "cells": [
  {
   "cell_type": "code",
   "execution_count": null,
   "id": "c86e670a",
   "metadata": {},
   "outputs": [],
   "source": [
    "import numpy as np\n",
    "import adsorbate_thermo\n",
    "import matplotlib.pyplot as plt\n",
    "import rmgpy.species\n",
    "import copy"
   ]
  },
  {
   "cell_type": "code",
   "execution_count": null,
   "id": "f7be07d0",
   "metadata": {},
   "outputs": [],
   "source": [
    "molecular_weight = 18.02\n",
    "frequencies = [49.5, 68.6, 73.6, 102.0, 437.6, 452.9, 1596.3, 3675.6, 3787.0]\n",
    "composition = {'H': 2, 'O': 1, 'C': 0, 'N': 0}\n",
    "heat_of_formation_0K = -259.05  # kJ/mol\n",
    "\n",
    "my_calc = adsorbate_thermo.AdsorbateThermoCalc(molecular_weight, frequencies, composition, heat_of_formation_0K, twoD_gas=True)\n"
   ]
  },
  {
   "cell_type": "code",
   "execution_count": null,
   "id": "136e8187",
   "metadata": {},
   "outputs": [],
   "source": [
    "nasa = my_calc.get_thermo()\n",
    "a_low, a_high = my_calc.get_thermo2()"
   ]
  },
  {
   "cell_type": "code",
   "execution_count": null,
   "id": "98b13147",
   "metadata": {},
   "outputs": [],
   "source": [
    "def get_thermo_from_NASA2(temperatures, a_low, a_high):\n",
    "    # compute thermo properties from nasa polynomials\n",
    "    T_switch = 1000.0\n",
    "    R = rmgpy.constants.R\n",
    "    i_switch = -1\n",
    "    for i in range(len(temperatures)):\n",
    "        if temperatures[i] == T_switch:\n",
    "            i_switch = i\n",
    "\n",
    "    cp_fit = np.zeros(len(temperatures))\n",
    "    h_fit = np.zeros(len(temperatures))\n",
    "    s_fit = np.zeros(len(temperatures))\n",
    "    for (i, temp) in enumerate(temperatures):\n",
    "        if temp <= T_switch:\n",
    "            cp_fit[i] = a_low[0] + a_low[1] * temp + a_low[2] * temp**2.0 + a_low[3] * temp**3.0 + a_low[4] * temp**4.0\n",
    "            h_fit[i] = a_low[0] * temp + a_low[1] / 2.0 * temp**2.0 + a_low[2] / 3.0 * temp**3.0 + a_low[3] / 4.0 * temp**4.0 + a_low[4] / 5.0 * temp**5.0 + a_low[5]\n",
    "            s_fit[i] = a_low[0] * np.log(temp) + a_low[1] * temp + a_low[2] / 2.0 * temp**2.0 + a_low[3] / 3.0 * temp**3.0 + a_low[4] / 4.0 * temp**4.0 + a_low[6]\n",
    "        else:\n",
    "            cp_fit[i] = a_high[0] + a_high[1] * temp + a_high[2] * temp**2.0 + a_high[3] * temp**3.0 + a_high[4] * temp**4.0\n",
    "            h_fit[i] = a_high[0] * temp + a_high[1] / 2.0 * temp**2.0 + a_high[2] / 3.0 * temp**3.0 + a_high[3] / 4.0 * temp**4.0 + a_high[4] / 5.0 * temp**5.0 + a_high[5]\n",
    "            s_fit[i] = a_high[0] * np.log(temp) + a_high[1] * temp + a_high[2] / 2.0 * temp**2.0 + a_high[3] / 3.0 * temp**3.0 + a_high[4] / 4.0 * temp**4.0 + a_high[6]\n",
    "\n",
    "    cp_fit *= R\n",
    "    h_fit *= R\n",
    "    s_fit *= R\n",
    "\n",
    "    return cp_fit, h_fit, s_fit\n"
   ]
  },
  {
   "cell_type": "code",
   "execution_count": null,
   "id": "cb24a38a",
   "metadata": {},
   "outputs": [],
   "source": [
    "a_low0 = nasa.polynomials[0].coeffs\n",
    "a_high0 = nasa.polynomials[1].coeffs\n",
    "cp_fit, h_fit, s_fit = my_calc.get_thermo_from_NASA2(a_low, a_high)\n",
    "cp_fit0, h_fit0, s_fit0 = my_calc.get_thermo_from_NASA2(a_low0, a_high0)"
   ]
  },
  {
   "cell_type": "code",
   "execution_count": null,
   "id": "1c7921f5",
   "metadata": {},
   "outputs": [],
   "source": [
    "# check rmg reading of Katrin's NASA polynomials\n",
    "nasa2 = copy.deepcopy(nasa)\n",
    "nasa2.polynomials[0] = a_low\n",
    "nasa2.polynomials[1] = a_high\n",
    "\n",
    "H1s = np.zeros(len(my_calc.temperatures))\n",
    "Cp1s = np.zeros(len(my_calc.temperatures))\n",
    "S1s = np.zeros(len(my_calc.temperatures))\n",
    "H2s = np.zeros(len(my_calc.temperatures))\n",
    "Cp2s = np.zeros(len(my_calc.temperatures))\n",
    "S2s = np.zeros(len(my_calc.temperatures))\n",
    "\n",
    "for i, T in enumerate(my_calc.temperatures):\n",
    "    H1s[i] = nasa.get_enthalpy(T) / 1000.0  # units are in J/mol and we want kJ/mol\n",
    "    Cp1s[i] = nasa.get_heat_capacity(T) / 1000.0\n",
    "    S1s[i] = nasa.get_heat_capacity(T) / 1000.0\n",
    "    H2s[i] = nasa2.get_enthalpy(T) / 1000.0  # units are in J/mol and we want kJ/mol\n",
    "    Cp2s[i] = nasa2.get_heat_capacity(T) / 1000.0\n",
    "    S2s[i] = nasa2.get_heat_capacity(T) / 1000.0"
   ]
  },
  {
   "cell_type": "code",
   "execution_count": null,
   "id": "17c2864b",
   "metadata": {},
   "outputs": [],
   "source": [
    "plt.plot(my_calc.temperatures, cp_fit, label='Katrin NASA and get_thermo')\n",
    "plt.plot(my_calc.temperatures, Cp1s, label='RMG NASA and get_thermo')\n",
    "plt.plot(my_calc.temperatures, cp_fit0/1000, label='RMG NASA and Katrin get_thermo')\n",
    "plt.plot(my_calc.temperatures, Cp2s, label='Katrin NASA and RMG get_thermo')\n",
    "plt.title('Heat Capacity')\n",
    "plt.legend()"
   ]
  },
  {
   "cell_type": "code",
   "execution_count": null,
   "id": "bf992c1d",
   "metadata": {},
   "outputs": [],
   "source": [
    "plt.plot(my_calc.temperatures, h_fit, label='Katrin NASA and get_thermo')\n",
    "plt.plot(my_calc.temperatures, H1s, label='RMG NASA and get_thermo')\n",
    "plt.plot(my_calc.temperatures, h_fit0/1000, label='RMG NASA and Katrin get_thermo')\n",
    "plt.plot(my_calc.temperatures, H2s, label='Katrin NASA and RMG get_thermo')\n",
    "plt.title('Enthalpy Capacity')\n",
    "plt.legend()"
   ]
  },
  {
   "cell_type": "code",
   "execution_count": null,
   "id": "6301204f",
   "metadata": {},
   "outputs": [],
   "source": [
    "plt.plot(my_calc.temperatures, S1s, label='RMG NASA and get_thermo')\n",
    "plt.plot(my_calc.temperatures, S2s, label='Katrin NASA and RMG get_thermo')\n",
    "plt.plot(my_calc.temperatures, s_fit, label='Katrin NASA and get_thermo')\n",
    "plt.plot(my_calc.temperatures, s_fit0/1000, label='RMG NASA and Katrin get_thermo')\n",
    "plt.title('Entropy')\n",
    "plt.legend()"
   ]
  },
  {
   "cell_type": "code",
   "execution_count": null,
   "id": "d70f6aba",
   "metadata": {},
   "outputs": [],
   "source": [
    "plt.plot(my_calc.temperatures, s_fit, label='Katrin NASA and get_thermo')\n",
    "plt.plot(my_calc.temperatures, s_fit0/1000, label='RMG NASA and Katrin get_thermo')\n",
    "plt.title('Entropy')\n",
    "plt.legend()"
   ]
  },
  {
   "cell_type": "code",
   "execution_count": null,
   "id": "69a89c2c",
   "metadata": {},
   "outputs": [],
   "source": [
    "plt.plot(my_calc.temperatures, S1s, label='RMG NASA and get_thermo')\n",
    "plt.plot(my_calc.temperatures, S2s, label='Katrin NASA and RMG get_thermo')\n",
    "plt.title('Entropy')\n",
    "plt.legend()"
   ]
  },
  {
   "cell_type": "code",
   "execution_count": null,
   "id": "9bf1f9af",
   "metadata": {},
   "outputs": [],
   "source": []
  }
 ],
 "metadata": {
  "kernelspec": {
   "display_name": "Python 3 (ipykernel)",
   "language": "python",
   "name": "python3"
  },
  "language_info": {
   "codemirror_mode": {
    "name": "ipython",
    "version": 3
   },
   "file_extension": ".py",
   "mimetype": "text/x-python",
   "name": "python",
   "nbconvert_exporter": "python",
   "pygments_lexer": "ipython3",
   "version": "3.7.12"
  }
 },
 "nbformat": 4,
 "nbformat_minor": 5
}
