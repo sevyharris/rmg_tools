{
 "cells": [
  {
   "cell_type": "code",
   "execution_count": null,
   "id": "e5b885fb",
   "metadata": {},
   "outputs": [],
   "source": [
    "import numpy as np\n",
    "import adsorbate_thermo\n",
    "import matplotlib.pyplot as plt\n",
    "import rmgpy.species"
   ]
  },
  {
   "cell_type": "code",
   "execution_count": null,
   "id": "ae5fc97b",
   "metadata": {},
   "outputs": [],
   "source": [
    "molecular_weight = 18.02\n",
    "frequencies = [49.5, 68.6, 73.6, 102.0, 437.6, 452.9, 1596.3, 3675.6, 3787.0]\n",
    "composition = {'H': 2, 'O': 1, 'C': 0, 'N': 0}\n",
    "heat_of_formation_0K = -259.05  # kJ/mol\n",
    "\n",
    "my_calc = adsorbate_thermo.AdsorbateThermoCalc(molecular_weight, frequencies, composition, heat_of_formation_0K, twoD_gas=True)\n",
    "\n"
   ]
  },
  {
   "cell_type": "code",
   "execution_count": null,
   "id": "45a4a76e",
   "metadata": {},
   "outputs": [],
   "source": [
    "nasa = my_calc.get_thermo()\n",
    "a_low, a_high = my_calc.get_thermo2()"
   ]
  },
  {
   "cell_type": "code",
   "execution_count": null,
   "id": "23a25a88",
   "metadata": {},
   "outputs": [],
   "source": [
    "nasa\n",
    "# dir(nasa)"
   ]
  },
  {
   "cell_type": "code",
   "execution_count": null,
   "id": "5688cbb6",
   "metadata": {},
   "outputs": [],
   "source": [
    "a_low"
   ]
  },
  {
   "cell_type": "code",
   "execution_count": null,
   "id": "82801359",
   "metadata": {},
   "outputs": [],
   "source": [
    "# Plot Enthalpy\n",
    "cp_fit, h_fit, s_fit = my_calc.get_thermo_from_NASA2(a_low, a_high)\n",
    "\n",
    "H1s = np.zeros(len(my_calc.temperatures))\n",
    "Cp1s = np.zeros(len(my_calc.temperatures))\n",
    "S1s = np.zeros(len(my_calc.temperatures))\n",
    "for i, T in enumerate(my_calc.temperatures):\n",
    "    H1s[i] = nasa.get_enthalpy(T) / 1000.0  # units are in J/mol and we want kJ/mol\n",
    "    Cp1s[i] = nasa.get_heat_capacity(T) / 1000.0\n",
    "    S1s[i] = nasa.get_heat_capacity(T) / 1000.0"
   ]
  },
  {
   "cell_type": "code",
   "execution_count": null,
   "id": "cdd0e76d",
   "metadata": {},
   "outputs": [],
   "source": [
    "plt.plot(my_calc.temperatures, cp_fit)\n",
    "plt.plot(my_calc.temperatures, Cp1s)"
   ]
  },
  {
   "cell_type": "code",
   "execution_count": null,
   "id": "bfe25ada",
   "metadata": {},
   "outputs": [],
   "source": [
    "plt.plot(my_calc.temperatures, h_fit)\n",
    "plt.plot(my_calc.temperatures, H1s)"
   ]
  },
  {
   "cell_type": "code",
   "execution_count": null,
   "id": "a31b06b2",
   "metadata": {},
   "outputs": [],
   "source": [
    "plt.plot(my_calc.temperatures, s_fit)\n",
    "plt.plot(my_calc.temperatures, S1s)"
   ]
  },
  {
   "cell_type": "code",
   "execution_count": null,
   "id": "d66552d2",
   "metadata": {},
   "outputs": [],
   "source": [
    "plt.plot(my_calc.temperatures, my_calc.S1)\n",
    "plt.plot(my_calc.temperatures, my_calc.S2)"
   ]
  },
  {
   "cell_type": "code",
   "execution_count": null,
   "id": "196f89ff",
   "metadata": {},
   "outputs": [],
   "source": [
    "print(a_low)\n",
    "print(nasa.polynomials[0].coeffs)"
   ]
  },
  {
   "cell_type": "code",
   "execution_count": null,
   "id": "d08276f1",
   "metadata": {},
   "outputs": [],
   "source": []
  }
 ],
 "metadata": {
  "kernelspec": {
   "display_name": "Python 3 (ipykernel)",
   "language": "python",
   "name": "python3"
  },
  "language_info": {
   "codemirror_mode": {
    "name": "ipython",
    "version": 3
   },
   "file_extension": ".py",
   "mimetype": "text/x-python",
   "name": "python",
   "nbconvert_exporter": "python",
   "pygments_lexer": "ipython3",
   "version": "3.7.12"
  }
 },
 "nbformat": 4,
 "nbformat_minor": 5
}
