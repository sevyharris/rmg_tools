{
 "cells": [
  {
   "cell_type": "code",
   "execution_count": null,
   "id": "f8196cee",
   "metadata": {},
   "outputs": [],
   "source": [
    "import numpy as np\n",
    "import adsorbate_thermo\n",
    "import matplotlib.pyplot as plt\n",
    "import rmgpy.species\n",
    "import copy\n",
    "import cantera as ct"
   ]
  },
  {
   "cell_type": "markdown",
   "id": "2ba41730",
   "metadata": {},
   "source": [
    "# Get NASA fit using rmg_tools, Katrin's code, and directly from Cantera"
   ]
  },
  {
   "cell_type": "code",
   "execution_count": null,
   "id": "ef8fac8d",
   "metadata": {},
   "outputs": [],
   "source": [
    "# Get nasa fit using rmg_tools, Katrin's code, and directly from Cantera\n",
    "molecular_weight = 18.02\n",
    "frequencies = [49.5, 68.6, 73.6, 102.0, 437.6, 452.9, 1596.3, 3675.6, 3787.0]\n",
    "composition = {'H': 2, 'O': 1, 'C': 0, 'N': 0}\n",
    "heat_of_formation_0K = -259.05  # kJ/mol\n",
    "\n",
    "my_calc = adsorbate_thermo.AdsorbateThermoCalc(molecular_weight, frequencies, composition, heat_of_formation_0K, twoD_gas=True)\n",
    "# Get NASA from rmg_tools\n",
    "nasa_rmg_tools = my_calc.get_thermo()\n",
    "\n",
    "# Get NASA using Katrin's code\n",
    "a_low_katrin, a_high_katrin = my_calc.get_thermo2()\n",
    "\n",
    "\n",
    "# get NASA from Cantera\n",
    "# https://www.mit.edu/course/2/2.62/cantera/doc/html/NasaPoly2_8h_source.html#l00081\n",
    "gas1 = ct.Solution('ptcombust.cti')\n",
    "surf1 = ct.Interface('ptcombust.cti', 'Pt_surf', [gas1])\n",
    "print(surf1.species()[2])\n",
    "midpoint = surf1.species()[2].thermo.coeffs[0]\n",
    "a_high_ct = surf1.species()[2].thermo.coeffs[1:8]\n",
    "a_low_ct = surf1.species()[2].thermo.coeffs[8:]"
   ]
  },
  {
   "cell_type": "code",
   "execution_count": null,
   "id": "b20c3411",
   "metadata": {},
   "outputs": [],
   "source": [
    "# Get thermo for the NASA polynomials using Katrin's NASA2thermo\n",
    "cp_fit_rmg_tools, h_fit_rmg_tools, s_fit_rmg_tools = my_calc.get_thermo_from_NASA2(nasa_rmg_tools.polynomials[0].coeffs, nasa_rmg_tools.polynomials[1].coeffs)\n",
    "cp_fit_katrin, h_fit_katrin, s_fit_katrin = my_calc.get_thermo_from_NASA2(a_low_katrin, a_high_katrin)\n",
    "cp_fit_ct_katrin, h_fit_ct_katrin, s_fit_ct_katrin = my_calc.get_thermo_from_NASA2(a_low_ct, a_high_ct)"
   ]
  },
  {
   "cell_type": "code",
   "execution_count": null,
   "id": "b04d613d",
   "metadata": {},
   "outputs": [],
   "source": [
    "# convert other NASA polynomials to RMG NASA objects\n",
    "nasa_katrin = copy.deepcopy(nasa_rmg_tools)\n",
    "nasa_katrin.polynomials[0].coeffs = a_low_katrin\n",
    "nasa_katrin.polynomials[1].coeffs = a_high_katrin\n",
    "\n",
    "nasa_ct = copy.deepcopy(nasa_rmg_tools)\n",
    "nasa_ct.polynomials[0].coeffs = a_low_ct\n",
    "nasa_ct.polynomials[1].coeffs = a_high_ct\n"
   ]
  },
  {
   "cell_type": "code",
   "execution_count": null,
   "id": "e9c76a05",
   "metadata": {},
   "outputs": [],
   "source": [
    "# Get thermo from cantera\n",
    "gas1 = ct.Solution('ptcombust.cti')\n",
    "surf1 = ct.Interface('ptcombust.cti', 'Pt_surf', [gas1])\n",
    "gas1.TPX = gas1.TPX = 300, 101325, {'H2O': 1.0}\n",
    "\n",
    "Cp_ct = np.zeros(len(my_calc.temperatures))\n",
    "H_ct = np.zeros(len(my_calc.temperatures))\n",
    "S_ct = np.zeros(len(my_calc.temperatures))\n",
    "\n",
    "Cp_rmg = np.zeros(len(my_calc.temperatures))\n",
    "H_rmg = np.zeros(len(my_calc.temperatures))\n",
    "S_rmg = np.zeros(len(my_calc.temperatures))\n",
    "\n",
    "Cp_katrin_rmg = np.zeros(len(my_calc.temperatures))\n",
    "H_katrin_rmg = np.zeros(len(my_calc.temperatures))\n",
    "S_katrin_rmg = np.zeros(len(my_calc.temperatures))\n",
    "\n",
    "Cp_ct_rmg = np.zeros(len(my_calc.temperatures))\n",
    "H_ct_rmg = np.zeros(len(my_calc.temperatures))\n",
    "S_ct_rmg = np.zeros(len(my_calc.temperatures))\n",
    "\n",
    "for i, T in enumerate(my_calc.temperatures):\n",
    "    surf1.TPX = T, 101325, {'H2O(S)': 1.0}\n",
    "    Cp_ct[i] =  surf1.cp_mole / 1000.0\n",
    "    H_ct[i] = surf1.enthalpy_mole / 1000.0  # units are in J/mol and we want kJ/mol\n",
    "    S_ct[i] = surf1.entropy_mole / 1000.0\n",
    "    \n",
    "    # Get thermo for rmg_tools NASA polynomials using RMG\n",
    "    Cp_rmg[i] = nasa_rmg_tools.get_heat_capacity(T) / 1000.0\n",
    "    H_rmg[i] = nasa_rmg_tools.get_enthalpy(T) / 1000.0  # units are in J/mol and we want kJ/mol\n",
    "    S_rmg[i] = nasa_rmg_tools.get_entropy(T) / 1000.0\n",
    "    \n",
    "    # Get thermo for katrin NASA polynomials using RMG\n",
    "    Cp_katrin_rmg[i] = nasa_katrin.get_heat_capacity(T)\n",
    "    H_katrin_rmg[i] = nasa_katrin.get_enthalpy(T)\n",
    "    S_katrin_rmg[i] = nasa_katrin.get_entropy(T)\n",
    "    \n",
    "    # Get thermo for cantera NASA polynomials using RMG\n",
    "    Cp_ct_rmg[i] = nasa_ct.get_heat_capacity(T)\n",
    "    H_ct_rmg[i] = nasa_ct.get_enthalpy(T)\n",
    "    S_ct_rmg[i] = nasa_ct.get_entropy(T)\n"
   ]
  },
  {
   "cell_type": "markdown",
   "id": "02dfc2e9",
   "metadata": {},
   "source": [
    "# Plot the resulting thermo: Cp, H, S"
   ]
  },
  {
   "cell_type": "markdown",
   "id": "bc8107e1",
   "metadata": {},
   "source": [
    "## Heat Capacity Cp"
   ]
  },
  {
   "cell_type": "code",
   "execution_count": null,
   "id": "e661c32f",
   "metadata": {},
   "outputs": [],
   "source": [
    "# Plot Cp\n",
    "fig = plt.figure()\n",
    "ax = plt.subplot(111)\n",
    "\n",
    "# Katrin's NASA2thermo\n",
    "plt.plot(my_calc.temperatures, cp_fit_katrin, linestyle=(0,(5,10)), label='Katrin NASA fit and Katrin NASA2thermo')\n",
    "plt.plot(my_calc.temperatures, cp_fit_rmg_tools / 1000.0, linestyle=(10,(5,10)), label='RMG NASA fit and Katrin NASA2thermo')\n",
    "plt.plot(my_calc.temperatures, cp_fit_ct_katrin, linestyle=(3,(5,10)), label='Cantera NASA fit and Katrin NASA2thermo')\n",
    "\n",
    "# rmg tools NASA2thermo\n",
    "plt.plot(my_calc.temperatures, Cp_rmg, linestyle=(7,(5,10)), label='RMG NASA fit and RMG NASA2thermo')\n",
    "plt.plot(my_calc.temperatures, Cp_katrin_rmg, linestyle=(7,(5,10)), label='Katrin NASA fit and RMG NASA2thermo')\n",
    "plt.plot(my_calc.temperatures, Cp_ct_rmg, linestyle=(7,(5,10)), label='Cantera NASA fit and RMG NASA2thermo')\n",
    "\n",
    "plt.plot(my_calc.temperatures, Cp_ct, linestyle=(10,(10,10)), label='Cantera')\n",
    "plt.title('Heat Capacity')\n",
    "plt.xlabel('T [k]')\n",
    "plt.ylabel('Cp [J/(mol K)]')\n",
    "ax.legend(loc='right', bbox_to_anchor=(1.8, 0.5))"
   ]
  },
  {
   "cell_type": "code",
   "execution_count": null,
   "id": "38757b9f",
   "metadata": {},
   "outputs": [],
   "source": [
    "# We can group them as follows: the left uses Cantera's thermo, and the right uses Katrin's thermo\n",
    "# there are some discontinuities when you switch the fitting and NASA2thermo methods,\n",
    "# but in general, the RMG NASA2thermo is the same as Katrin's NASA2thermo for heat capacity\n",
    "\n",
    "\n",
    "# Plot Cp\n",
    "fig = plt.figure(figsize=(10, 4), dpi=80)\n",
    "ax = plt.subplot(121)\n",
    "\n",
    "# Cantera thermo\n",
    "plt.plot(my_calc.temperatures, cp_fit_ct_katrin, linestyle=(3,(5,10)), label='Cantera NASA fit and Katrin NASA2thermo')\n",
    "plt.plot(my_calc.temperatures, Cp_ct_rmg, linestyle=(7,(5,10)), label='Cantera NASA fit and RMG NASA2thermo')\n",
    "plt.plot(my_calc.temperatures, Cp_ct, linestyle=(10,(10,10)), label='Cantera')\n",
    "plt.title('Heat Capacity')\n",
    "plt.xlabel('T [k]')\n",
    "plt.ylabel('Cp [J/(mol K)]')\n",
    "ax.legend()\n",
    "\n",
    "# rmg tools thermo\n",
    "ax = plt.subplot(122)\n",
    "plt.plot(my_calc.temperatures, cp_fit_katrin, linestyle=(0,(5,10)), label='Katrin NASA fit and Katrin NASA2thermo')\n",
    "plt.plot(my_calc.temperatures, cp_fit_rmg_tools / 1000.0, linestyle=(10,(5,10)), label='RMG NASA fit and Katrin NASA2thermo')\n",
    "plt.plot(my_calc.temperatures, Cp_rmg, linestyle=(7,(5,10)), label='RMG NASA fit and RMG NASA2thermo')\n",
    "plt.plot(my_calc.temperatures, Cp_katrin_rmg, linestyle=(7,(5,10)), label='Katrin NASA fit and RMG NASA2thermo')\n",
    "\n",
    "plt.title('Heat Capacity')\n",
    "plt.xlabel('T [k]')\n",
    "plt.ylabel('Cp [J/(mol K)]')\n",
    "ax.legend()"
   ]
  },
  {
   "cell_type": "markdown",
   "id": "43fcc117",
   "metadata": {},
   "source": [
    "## Enthalpy H"
   ]
  },
  {
   "cell_type": "code",
   "execution_count": null,
   "id": "315dd8ca",
   "metadata": {},
   "outputs": [],
   "source": [
    "# Plot H\n",
    "fig = plt.figure()\n",
    "ax = plt.subplot(111)\n",
    "\n",
    "# Katrin's NASA2thermo\n",
    "plt.plot(my_calc.temperatures, h_fit_katrin, linestyle=(0,(5,10)), label='Katrin NASA fit and Katrin NASA2thermo')\n",
    "plt.plot(my_calc.temperatures, h_fit_rmg_tools / 1000.0, linestyle=(10,(5,10)), label='RMG NASA fit and Katrin NASA2thermo')\n",
    "plt.plot(my_calc.temperatures, h_fit_ct_katrin, linestyle=(3,(5,10)), label='Cantera NASA fit and Katrin NASA2thermo')\n",
    "\n",
    "# rmg tools NASA2thermo\n",
    "plt.plot(my_calc.temperatures, H_rmg, linestyle=(7,(5,10)), label='RMG NASA fit and RMG NASA2thermo')\n",
    "plt.plot(my_calc.temperatures, H_katrin_rmg, linestyle=(7,(5,10)), label='Katrin NASA fit and RMG NASA2thermo')\n",
    "plt.plot(my_calc.temperatures, H_ct_rmg, linestyle=(7,(5,10)), label='Cantera NASA fit and RMG NASA2thermo')\n",
    "\n",
    "plt.plot(my_calc.temperatures, H_ct, linestyle=(10,(10,10)), label='Cantera')\n",
    "plt.title('Enthalpy')\n",
    "plt.xlabel('T [k]')\n",
    "plt.ylabel('H [J/mol]')\n",
    "ax.legend(loc='right', bbox_to_anchor=(1.8, 0.5))\n"
   ]
  },
  {
   "cell_type": "code",
   "execution_count": null,
   "id": "858b6dcc",
   "metadata": {},
   "outputs": [],
   "source": [
    "# Once again we can divide it into Cantera and Katrin thermo and see that the NASA2thermo agrees\n",
    "\n",
    "fig = plt.figure(figsize=(10, 4), dpi=80)\n",
    "ax = plt.subplot(121)\n",
    "\n",
    "# Cantera thermo\n",
    "plt.plot(my_calc.temperatures, h_fit_ct_katrin, linestyle=(3,(5,10)), label='Cantera NASA fit and Katrin NASA2thermo')\n",
    "plt.plot(my_calc.temperatures, H_ct_rmg, linestyle=(7,(5,10)), label='Cantera NASA fit and RMG NASA2thermo')\n",
    "plt.plot(my_calc.temperatures, H_ct, linestyle=(10,(10,10)), label='Cantera')\n",
    "plt.title('Enthalpy')\n",
    "plt.xlabel('T [k]')\n",
    "plt.ylabel('H [J/mol]')\n",
    "ax.legend()\n",
    "\n",
    "# rmg tools thermo\n",
    "ax = plt.subplot(122)\n",
    "plt.plot(my_calc.temperatures, h_fit_katrin, linestyle=(0,(5,10)), label='Katrin NASA fit and Katrin NASA2thermo')\n",
    "plt.plot(my_calc.temperatures, h_fit_rmg_tools / 1000.0, linestyle=(10,(5,10)), label='RMG NASA fit and Katrin NASA2thermo')\n",
    "plt.plot(my_calc.temperatures, H_rmg, linestyle=(7,(5,10)), label='RMG NASA fit and RMG NASA2thermo')\n",
    "plt.plot(my_calc.temperatures, H_katrin_rmg, linestyle=(7,(5,10)), label='Katrin NASA fit and RMG NASA2thermo')\n",
    "\n",
    "plt.title('Enthalpy')\n",
    "plt.xlabel('T [k]')\n",
    "plt.ylabel('H [J/mol]')\n",
    "ax.legend()"
   ]
  },
  {
   "cell_type": "markdown",
   "id": "0b94d14e",
   "metadata": {},
   "source": [
    "## Entropy S"
   ]
  },
  {
   "cell_type": "code",
   "execution_count": null,
   "id": "96ec664a",
   "metadata": {},
   "outputs": [],
   "source": [
    "# Plot S\n",
    "\n",
    "fig = plt.figure()\n",
    "ax = plt.subplot(111)\n",
    "\n",
    "# Katrin's NASA2thermo\n",
    "plt.plot(my_calc.temperatures, s_fit_katrin, linestyle=(0,(5,10)), label='Katrin NASA fit and Katrin NASA2thermo')\n",
    "plt.plot(my_calc.temperatures, s_fit_rmg_tools / 1000.0, linestyle=(10,(5,10)), label='RMG NASA fit and Katrin NASA2thermo')\n",
    "plt.plot(my_calc.temperatures, s_fit_ct_katrin, linestyle=(3,(5,10)), label='Cantera NASA fit and Katrin NASA2thermo')\n",
    "\n",
    "# rmg tools NASA2thermo\n",
    "plt.plot(my_calc.temperatures, S_rmg, linestyle=(7,(5,10)), label='RMG NASA fit and RMG NASA2thermo')\n",
    "plt.plot(my_calc.temperatures, S_katrin_rmg, linestyle=(7,(5,10)), label='Katrin NASA fit and RMG NASA2thermo')\n",
    "plt.plot(my_calc.temperatures, S_ct_rmg, linestyle=(7,(5,10)), label='Cantera NASA fit and RMG NASA2thermo')\n",
    "\n",
    "plt.plot(my_calc.temperatures, S_ct, linestyle=(10,(10,10)), label='Cantera')\n",
    "plt.title('Entropy')\n",
    "plt.xlabel('T [k]')\n",
    "plt.ylabel('S [J/(mol K)]')\n",
    "ax.legend(loc='right', bbox_to_anchor=(1.8, 0.5))\n"
   ]
  },
  {
   "cell_type": "code",
   "execution_count": null,
   "id": "60f13b5d",
   "metadata": {},
   "outputs": [],
   "source": [
    "# Divide it into Cantera and Katrin thermo\n",
    "\n",
    "fig = plt.figure(figsize=(10, 4), dpi=80)\n",
    "ax = plt.subplot(121)\n",
    "\n",
    "# Cantera thermo\n",
    "plt.plot(my_calc.temperatures, s_fit_ct_katrin, linestyle=(3,(5,10)), label='Cantera NASA fit and Katrin NASA2thermo')\n",
    "plt.plot(my_calc.temperatures, S_ct_rmg, linestyle=(7,(5,10)), label='Cantera NASA fit and RMG NASA2thermo')\n",
    "plt.plot(my_calc.temperatures, S_ct, linestyle=(10,(10,10)), label='Cantera')\n",
    "plt.title('Entropy')\n",
    "plt.xlabel('T [k]')\n",
    "plt.ylabel('S [J/(mol K)]')\n",
    "ax.legend()\n",
    "\n",
    "# rmg tools thermo\n",
    "ax = plt.subplot(122)\n",
    "plt.plot(my_calc.temperatures, s_fit_katrin, linestyle=(0,(5,10)), label='Katrin NASA fit and Katrin NASA2thermo')\n",
    "plt.plot(my_calc.temperatures, s_fit_rmg_tools / 1000.0, linestyle=(10,(5,10)), label='RMG NASA fit and Katrin NASA2thermo')\n",
    "plt.plot(my_calc.temperatures, S_rmg, linestyle=(7,(5,10)), label='RMG NASA fit and RMG NASA2thermo')\n",
    "plt.plot(my_calc.temperatures, S_katrin_rmg, linestyle=(12,(5,10)), label='Katrin NASA fit and RMG NASA2thermo')\n",
    "\n",
    "plt.title('Entropy')\n",
    "plt.xlabel('T [k]')\n",
    "plt.ylabel('S [J/(mol K)]')\n",
    "ax.legend()"
   ]
  },
  {
   "cell_type": "markdown",
   "id": "f613d8c5",
   "metadata": {},
   "source": []
  },
  {
   "cell_type": "code",
   "execution_count": null,
   "id": "5f19be26",
   "metadata": {},
   "outputs": [],
   "source": []
  },
  {
   "cell_type": "code",
   "execution_count": null,
   "id": "3e95ff98",
   "metadata": {},
   "outputs": [],
   "source": []
  },
  {
   "cell_type": "code",
   "execution_count": null,
   "id": "c7bacff0",
   "metadata": {},
   "outputs": [],
   "source": []
  }
 ],
 "metadata": {
  "kernelspec": {
   "display_name": "Python 3 (ipykernel)",
   "language": "python",
   "name": "python3"
  },
  "language_info": {
   "codemirror_mode": {
    "name": "ipython",
    "version": 3
   },
   "file_extension": ".py",
   "mimetype": "text/x-python",
   "name": "python",
   "nbconvert_exporter": "python",
   "pygments_lexer": "ipython3",
   "version": "3.7.12"
  }
 },
 "nbformat": 4,
 "nbformat_minor": 5
}
