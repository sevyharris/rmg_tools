{
 "cells": [
  {
   "cell_type": "code",
   "execution_count": null,
   "id": "a96f6cfe",
   "metadata": {},
   "outputs": [],
   "source": [
    "import cantera as ct\n",
    "import matplotlib.pyplot as plt\n",
    "import numpy as np\n",
    "import rmgpy.constants\n",
    "import adsorbate_thermo\n",
    "import rmgpy.species"
   ]
  },
  {
   "cell_type": "code",
   "execution_count": null,
   "id": "a983d70d",
   "metadata": {},
   "outputs": [],
   "source": [
    "gas1 = ct.Solution('ptcombust.cti')\n",
    "surf1 = ct.Interface('ptcombust.cti', 'Pt_surf', [gas1])"
   ]
  },
  {
   "cell_type": "code",
   "execution_count": null,
   "id": "e2883efd",
   "metadata": {},
   "outputs": [],
   "source": [
    "surf1.species()"
   ]
  },
  {
   "cell_type": "code",
   "execution_count": null,
   "id": "f4212c20",
   "metadata": {},
   "outputs": [],
   "source": [
    "gas1.TPX = 300, 101325, {'H2O': 1.0}"
   ]
  },
  {
   "cell_type": "code",
   "execution_count": null,
   "id": "7576ec68",
   "metadata": {},
   "outputs": [],
   "source": [
    "# surf1.TPX = 300, 101325, {'H2O(S)': 0.1, 'PT(S)': 0.9}\n",
    "surf1.TPX = 300, 101325, {'H2O(S)': 1.0}"
   ]
  },
  {
   "cell_type": "code",
   "execution_count": null,
   "id": "b66382d5",
   "metadata": {},
   "outputs": [],
   "source": [
    "surf1.species()[2].thermo.coeffs\n",
    "midpoint = surf1.species()[2].thermo.coeffs[0]\n",
    "a_high = surf1.species()[2].thermo.coeffs[1:8]\n",
    "a_low = surf1.species()[2].thermo.coeffs[8:]"
   ]
  },
  {
   "cell_type": "code",
   "execution_count": null,
   "id": "621e3bb2",
   "metadata": {},
   "outputs": [],
   "source": [
    "len(a_high)"
   ]
  },
  {
   "cell_type": "code",
   "execution_count": null,
   "id": "0227d249",
   "metadata": {},
   "outputs": [],
   "source": [
    "len(a_low)"
   ]
  },
  {
   "cell_type": "code",
   "execution_count": null,
   "id": "6f54f4fb",
   "metadata": {},
   "outputs": [],
   "source": [
    "def get_thermo_from_NASA2(temperatures, a_low, a_high):\n",
    "    # compute thermo properties from nasa polynomials\n",
    "    T_switch = 1000.0\n",
    "    R = rmgpy.constants.R\n",
    "    i_switch = -1\n",
    "    for i in range(len(temperatures)):\n",
    "        if temperatures[i] == T_switch:\n",
    "            i_switch = i\n",
    "\n",
    "    cp_fit = np.zeros(len(temperatures))\n",
    "    h_fit = np.zeros(len(temperatures))\n",
    "    s_fit = np.zeros(len(temperatures))\n",
    "    for (i, temp) in enumerate(temperatures):\n",
    "        if temp <= T_switch:\n",
    "            cp_fit[i] = a_low[0] + a_low[1] * temp + a_low[2] * temp**2.0 + a_low[3] * temp**3.0 + a_low[4] * temp**4.0\n",
    "            h_fit[i] = a_low[0] * temp + a_low[1] / 2.0 * temp**2.0 + a_low[2] / 3.0 * temp**3.0 + a_low[3] / 4.0 * temp**4.0 + a_low[4] / 5.0 * temp**5.0 + a_low[5]\n",
    "            s_fit[i] = a_low[0] * np.log(temp) + a_low[1] * temp + a_low[2] / 2.0 * temp**2.0 + a_low[3] / 3.0 * temp**3.0 + a_low[4] / 4.0 * temp**4.0 + a_low[6]\n",
    "        else:\n",
    "            cp_fit[i] = a_high[0] + a_high[1] * temp + a_high[2] * temp**2.0 + a_high[3] * temp**3.0 + a_high[4] * temp**4.0\n",
    "            h_fit[i] = a_high[0] * temp + a_high[1] / 2.0 * temp**2.0 + a_high[2] / 3.0 * temp**3.0 + a_high[3] / 4.0 * temp**4.0 + a_high[4] / 5.0 * temp**5.0 + a_high[5]\n",
    "            s_fit[i] = a_high[0] * np.log(temp) + a_high[1] * temp + a_high[2] / 2.0 * temp**2.0 + a_high[3] / 3.0 * temp**3.0 + a_high[4] / 4.0 * temp**4.0 + a_high[6]\n",
    "\n",
    "    cp_fit *= R\n",
    "    h_fit *= R\n",
    "    s_fit *= R\n",
    "\n",
    "    return cp_fit, h_fit, s_fit\n"
   ]
  },
  {
   "cell_type": "code",
   "execution_count": null,
   "id": "9494b43f",
   "metadata": {},
   "outputs": [],
   "source": [
    "molecular_weight = 18.02\n",
    "frequencies = [49.5, 68.6, 73.6, 102.0, 437.6, 452.9, 1596.3, 3675.6, 3787.0]\n",
    "composition = {'H': 2, 'O': 1, 'C': 0, 'N': 0}\n",
    "heat_of_formation_0K = -259.05  # kJ/mol\n",
    "my_calc = adsorbate_thermo.AdsorbateThermoCalc(molecular_weight, frequencies, composition, heat_of_formation_0K, twoD_gas=True)\n",
    "a_low2, a_high2 = my_calc.get_thermo2()"
   ]
  },
  {
   "cell_type": "code",
   "execution_count": null,
   "id": "abba1441",
   "metadata": {},
   "outputs": [],
   "source": [
    "temperatures = np.linspace(300, 2000, 201)\n",
    "cp_fit, h_fit, s_fit = get_thermo_from_NASA2(temperatures, a_low, a_high)\n",
    "cp_fit2, h_fit2, s_fit2 = my_calc.get_thermo_from_NASA2(a_low, a_high)"
   ]
  },
  {
   "cell_type": "code",
   "execution_count": null,
   "id": "7fd60191",
   "metadata": {},
   "outputs": [],
   "source": [
    "dir(surf1)"
   ]
  },
  {
   "cell_type": "code",
   "execution_count": null,
   "id": "403f4ab5",
   "metadata": {},
   "outputs": [],
   "source": [
    "H_3 = np.zeros(len(temperatures))\n",
    "Cp_3 = np.zeros(len(temperatures))\n",
    "S_3 = np.zeros(len(temperatures))\n",
    "for i, T in enumerate(temperatures):\n",
    "    surf1.TPX = T, 101325, {'H2O(S)': 1.0}\n",
    "    Cp_3[i] = surf1.cp_mole/1000.0\n",
    "    H_3[i] = surf1.enthalpy_mole/1000.0\n",
    "    S_3[i] = surf1.entropy_mole/1000.0"
   ]
  },
  {
   "cell_type": "code",
   "execution_count": null,
   "id": "65fd150b",
   "metadata": {},
   "outputs": [],
   "source": [
    "plt.plot(temperatures, cp_fit)\n",
    "plt.plot(my_calc.temperatures, cp_fit2)\n",
    "plt.plot(temperatures, Cp_3)\n",
    "plt.legend(['Cantera', 'Katrin', 'all Cantera'])"
   ]
  },
  {
   "cell_type": "code",
   "execution_count": null,
   "id": "86bc8665",
   "metadata": {},
   "outputs": [],
   "source": [
    "plt.plot(temperatures, s_fit)\n",
    "plt.plot(my_calc.temperatures, s_fit2)\n",
    "plt.plot(temperatures, S_3)\n",
    "plt.legend(['Cantera', 'Katrin', 'all Cantera'])"
   ]
  },
  {
   "cell_type": "code",
   "execution_count": null,
   "id": "c09024f2",
   "metadata": {},
   "outputs": [],
   "source": [
    "plt.plot(temperatures, h_fit)\n",
    "plt.plot(my_calc.temperatures, h_fit2)\n",
    "plt.plot(temperatures, H_3)\n",
    "plt.legend(['Cantera', 'Katrin', 'all Cantera'])"
   ]
  },
  {
   "cell_type": "code",
   "execution_count": null,
   "id": "15074030",
   "metadata": {},
   "outputs": [],
   "source": []
  },
  {
   "cell_type": "code",
   "execution_count": null,
   "id": "0bd0b806",
   "metadata": {},
   "outputs": [],
   "source": []
  }
 ],
 "metadata": {
  "kernelspec": {
   "display_name": "Python 3 (ipykernel)",
   "language": "python",
   "name": "python3"
  },
  "language_info": {
   "codemirror_mode": {
    "name": "ipython",
    "version": 3
   },
   "file_extension": ".py",
   "mimetype": "text/x-python",
   "name": "python",
   "nbconvert_exporter": "python",
   "pygments_lexer": "ipython3",
   "version": "3.7.12"
  }
 },
 "nbformat": 4,
 "nbformat_minor": 5
}
