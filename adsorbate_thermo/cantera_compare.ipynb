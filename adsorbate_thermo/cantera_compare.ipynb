{
 "cells": [
  {
   "cell_type": "code",
   "execution_count": 1,
   "id": "a96f6cfe",
   "metadata": {},
   "outputs": [],
   "source": [
    "import cantera as ct\n",
    "import matplotlib.pyplot as plt\n",
    "import numpy as np\n",
    "import rmgpy.constants\n",
    "import adsorbate_thermo\n",
    "import rmgpy.species"
   ]
  },
  {
   "cell_type": "code",
   "execution_count": 2,
   "id": "a983d70d",
   "metadata": {},
   "outputs": [],
   "source": [
    "gas1 = ct.Solution('ptcombust.cti')\n",
    "surf1 = ct.Interface('ptcombust.cti', 'Pt_surf', [gas1])"
   ]
  },
  {
   "cell_type": "code",
   "execution_count": 3,
   "id": "e2883efd",
   "metadata": {},
   "outputs": [
    {
     "data": {
      "text/plain": [
       "[<Species PT(S)>,\n",
       " <Species H(S)>,\n",
       " <Species H2O(S)>,\n",
       " <Species OH(S)>,\n",
       " <Species CO(S)>,\n",
       " <Species CO2(S)>,\n",
       " <Species CH3(S)>,\n",
       " <Species CH2(S)s>,\n",
       " <Species CH(S)>,\n",
       " <Species C(S)>,\n",
       " <Species O(S)>]"
      ]
     },
     "execution_count": 3,
     "metadata": {},
     "output_type": "execute_result"
    }
   ],
   "source": [
    "surf1.species()"
   ]
  },
  {
   "cell_type": "code",
   "execution_count": 4,
   "id": "f4212c20",
   "metadata": {},
   "outputs": [],
   "source": [
    "gas1.TPX = 300, 101325, {'H2O': 1.0}"
   ]
  },
  {
   "cell_type": "code",
   "execution_count": 5,
   "id": "7576ec68",
   "metadata": {},
   "outputs": [],
   "source": [
    "# surf1.TPX = 300, 101325, {'H2O(S)': 0.1, 'PT(S)': 0.9}\n",
    "surf1.TPX = 300, 101325, {'H2O(S)': 1.0}"
   ]
  },
  {
   "cell_type": "code",
   "execution_count": 6,
   "id": "b66382d5",
   "metadata": {},
   "outputs": [],
   "source": [
    "surf1.species()[2].thermo.coeffs\n",
    "midpoint = surf1.species()[2].thermo.coeffs[0]\n",
    "a_high = surf1.species()[2].thermo.coeffs[1:8]\n",
    "a_low = surf1.species()[2].thermo.coeffs[8:]"
   ]
  },
  {
   "cell_type": "code",
   "execution_count": 7,
   "id": "621e3bb2",
   "metadata": {},
   "outputs": [
    {
     "data": {
      "text/plain": [
       "7"
      ]
     },
     "execution_count": 7,
     "metadata": {},
     "output_type": "execute_result"
    }
   ],
   "source": [
    "len(a_high)"
   ]
  },
  {
   "cell_type": "code",
   "execution_count": 8,
   "id": "0227d249",
   "metadata": {},
   "outputs": [
    {
     "data": {
      "text/plain": [
       "7"
      ]
     },
     "execution_count": 8,
     "metadata": {},
     "output_type": "execute_result"
    }
   ],
   "source": [
    "len(a_low)"
   ]
  },
  {
   "cell_type": "code",
   "execution_count": 9,
   "id": "6f54f4fb",
   "metadata": {},
   "outputs": [],
   "source": [
    "def get_thermo_from_NASA2(temperatures, a_low, a_high):\n",
    "    # compute thermo properties from nasa polynomials\n",
    "    T_switch = 1000.0\n",
    "    R = rmgpy.constants.R\n",
    "    i_switch = -1\n",
    "    for i in range(len(temperatures)):\n",
    "        if temperatures[i] == T_switch:\n",
    "            i_switch = i\n",
    "\n",
    "    cp_fit = np.zeros(len(temperatures))\n",
    "    h_fit = np.zeros(len(temperatures))\n",
    "    s_fit = np.zeros(len(temperatures))\n",
    "    for (i, temp) in enumerate(temperatures):\n",
    "        if temp <= T_switch:\n",
    "            cp_fit[i] = a_low[0] + a_low[1] * temp + a_low[2] * temp**2.0 + a_low[3] * temp**3.0 + a_low[4] * temp**4.0\n",
    "            h_fit[i] = a_low[0] * temp + a_low[1] / 2.0 * temp**2.0 + a_low[2] / 3.0 * temp**3.0 + a_low[3] / 4.0 * temp**4.0 + a_low[4] / 5.0 * temp**5.0 + a_low[5]\n",
    "            s_fit[i] = a_low[0] * np.log(temp) + a_low[1] * temp + a_low[2] / 2.0 * temp**2.0 + a_low[3] / 3.0 * temp**3.0 + a_low[4] / 4.0 * temp**4.0 + a_low[6]\n",
    "        else:\n",
    "            cp_fit[i] = a_high[0] + a_high[1] * temp + a_high[2] * temp**2.0 + a_high[3] * temp**3.0 + a_high[4] * temp**4.0\n",
    "            h_fit[i] = a_high[0] * temp + a_high[1] / 2.0 * temp**2.0 + a_high[2] / 3.0 * temp**3.0 + a_high[3] / 4.0 * temp**4.0 + a_high[4] / 5.0 * temp**5.0 + a_high[5]\n",
    "            s_fit[i] = a_high[0] * np.log(temp) + a_high[1] * temp + a_high[2] / 2.0 * temp**2.0 + a_high[3] / 3.0 * temp**3.0 + a_high[4] / 4.0 * temp**4.0 + a_high[6]\n",
    "\n",
    "    cp_fit *= R\n",
    "    h_fit *= R\n",
    "    s_fit *= R\n",
    "\n",
    "    return cp_fit, h_fit, s_fit\n"
   ]
  },
  {
   "cell_type": "code",
   "execution_count": 10,
   "id": "9494b43f",
   "metadata": {},
   "outputs": [
    {
     "name": "stderr",
     "output_type": "stream",
     "text": [
      "/home/moon/rmg/rmg_tools/adsorbate_thermo/adsorbate_thermo.py:232: FutureWarning: `rcond` parameter will change to the default of machine precision times ``max(M, N)`` where M and N are the input matrix dimensions.\n",
      "To use the future default and silence this warning we advise to pass `rcond=None`, to keep using the old, explicitly pass `rcond=-1`.\n",
      "  a_low = np.linalg.lstsq(Y, b)[0]\n",
      "/home/moon/rmg/rmg_tools/adsorbate_thermo/adsorbate_thermo.py:257: FutureWarning: `rcond` parameter will change to the default of machine precision times ``max(M, N)`` where M and N are the input matrix dimensions.\n",
      "To use the future default and silence this warning we advise to pass `rcond=None`, to keep using the old, explicitly pass `rcond=-1`.\n",
      "  a_high = np.append(a_high, np.linalg.lstsq(Y, b)[0])\n"
     ]
    }
   ],
   "source": [
    "molecular_weight = 18.02\n",
    "frequencies = [49.5, 68.6, 73.6, 102.0, 437.6, 452.9, 1596.3, 3675.6, 3787.0]\n",
    "composition = {'H': 2, 'O': 1, 'C': 0, 'N': 0}\n",
    "heat_of_formation_0K = -259.05  # kJ/mol\n",
    "my_calc = adsorbate_thermo.AdsorbateThermoCalc(molecular_weight, frequencies, composition, heat_of_formation_0K, twoD_gas=True)\n",
    "a_low2, a_high2 = my_calc.get_thermo2()"
   ]
  },
  {
   "cell_type": "code",
   "execution_count": 11,
   "id": "abba1441",
   "metadata": {},
   "outputs": [],
   "source": [
    "temperatures = np.linspace(300, 2000, 201)\n",
    "cp_fit, h_fit, s_fit = get_thermo_from_NASA2(temperatures, a_low, a_high)\n",
    "cp_fit2, h_fit2, s_fit2 = my_calc.get_thermo_from_NASA2(a_low, a_high)"
   ]
  },
  {
   "cell_type": "code",
   "execution_count": 12,
   "id": "7fd60191",
   "metadata": {},
   "outputs": [
    {
     "data": {
      "text/plain": [
       "['DP',\n",
       " 'DPX',\n",
       " 'DPY',\n",
       " 'HP',\n",
       " 'HPX',\n",
       " 'HPY',\n",
       " 'ID',\n",
       " 'P',\n",
       " 'P_sat',\n",
       " 'SP',\n",
       " 'SPX',\n",
       " 'SPY',\n",
       " 'SV',\n",
       " 'SVX',\n",
       " 'SVY',\n",
       " 'T',\n",
       " 'TD',\n",
       " 'TDX',\n",
       " 'TDY',\n",
       " 'TP',\n",
       " 'TPX',\n",
       " 'TPY',\n",
       " 'T_sat',\n",
       " 'UV',\n",
       " 'UVX',\n",
       " 'UVY',\n",
       " 'X',\n",
       " 'Y',\n",
       " '__call__',\n",
       " '__class__',\n",
       " '__composition_to_array',\n",
       " '__copy__',\n",
       " '__delattr__',\n",
       " '__dir__',\n",
       " '__doc__',\n",
       " '__eq__',\n",
       " '__format__',\n",
       " '__ge__',\n",
       " '__getattribute__',\n",
       " '__getitem__',\n",
       " '__gt__',\n",
       " '__hash__',\n",
       " '__init__',\n",
       " '__init_subclass__',\n",
       " '__le__',\n",
       " '__lt__',\n",
       " '__module__',\n",
       " '__ne__',\n",
       " '__new__',\n",
       " '__pyx_vtable__',\n",
       " '__reduce__',\n",
       " '__reduce_ex__',\n",
       " '__repr__',\n",
       " '__setattr__',\n",
       " '__sizeof__',\n",
       " '__slots__',\n",
       " '__str__',\n",
       " '__subclasshook__',\n",
       " '_check_kinetics_species_index',\n",
       " '_check_phase_index',\n",
       " '_check_reaction_index',\n",
       " '_full_states',\n",
       " '_init_cti_xml',\n",
       " '_init_parts',\n",
       " '_init_yaml',\n",
       " '_native_state',\n",
       " '_partial_states',\n",
       " '_phase_indices',\n",
       " '_phase_slice',\n",
       " '_references',\n",
       " 'activities',\n",
       " 'activity_coefficients',\n",
       " 'add_reaction',\n",
       " 'add_species',\n",
       " 'add_species_alias',\n",
       " 'advance_coverages',\n",
       " 'advance_coverages_to_steady_state',\n",
       " 'atomic_weight',\n",
       " 'atomic_weights',\n",
       " 'basis',\n",
       " 'case_sensitive_species_names',\n",
       " 'charges',\n",
       " 'chemical_potentials',\n",
       " 'composite',\n",
       " 'concentrations',\n",
       " 'coverages',\n",
       " 'cp',\n",
       " 'cp_mass',\n",
       " 'cp_mole',\n",
       " 'creation_rates',\n",
       " 'critical_density',\n",
       " 'critical_pressure',\n",
       " 'critical_temperature',\n",
       " 'cv',\n",
       " 'cv_mass',\n",
       " 'cv_mole',\n",
       " 'delta_enthalpy',\n",
       " 'delta_entropy',\n",
       " 'delta_gibbs',\n",
       " 'delta_standard_enthalpy',\n",
       " 'delta_standard_entropy',\n",
       " 'delta_standard_gibbs',\n",
       " 'density',\n",
       " 'density_mass',\n",
       " 'density_mole',\n",
       " 'destruction_rates',\n",
       " 'electric_potential',\n",
       " 'electrochemical_potentials',\n",
       " 'element_index',\n",
       " 'element_name',\n",
       " 'element_names',\n",
       " 'elemental_mass_fraction',\n",
       " 'elemental_mole_fraction',\n",
       " 'enthalpy_mass',\n",
       " 'enthalpy_mole',\n",
       " 'entropy_mass',\n",
       " 'entropy_mole',\n",
       " 'equilibrate',\n",
       " 'equilibrium_constants',\n",
       " 'equivalence_ratio',\n",
       " 'find_isomers',\n",
       " 'forward_rate_constants',\n",
       " 'forward_rates_of_progress',\n",
       " 'g',\n",
       " 'get_creation_rates',\n",
       " 'get_destruction_rates',\n",
       " 'get_equivalence_ratio',\n",
       " 'get_net_production_rates',\n",
       " 'gibbs_mass',\n",
       " 'gibbs_mole',\n",
       " 'h',\n",
       " 'has_phase_transition',\n",
       " 'heat_production_rates',\n",
       " 'heat_release_rate',\n",
       " 'int_energy_mass',\n",
       " 'int_energy_mole',\n",
       " 'is_compressible',\n",
       " 'is_pure',\n",
       " 'is_reversible',\n",
       " 'isothermal_compressibility',\n",
       " 'kinetics_model',\n",
       " 'kinetics_species_index',\n",
       " 'kinetics_species_name',\n",
       " 'kinetics_species_names',\n",
       " 'mass_fraction_dict',\n",
       " 'max_temp',\n",
       " 'mean_molecular_weight',\n",
       " 'min_temp',\n",
       " 'mixture_fraction',\n",
       " 'modify_reaction',\n",
       " 'modify_species',\n",
       " 'mole_fraction_dict',\n",
       " 'molecular_weights',\n",
       " 'multiplier',\n",
       " 'n_atoms',\n",
       " 'n_elements',\n",
       " 'n_phases',\n",
       " 'n_reactions',\n",
       " 'n_selected_species',\n",
       " 'n_species',\n",
       " 'n_total_species',\n",
       " 'name',\n",
       " 'net_production_rates',\n",
       " 'net_rates_of_progress',\n",
       " 'partial_molar_cp',\n",
       " 'partial_molar_enthalpies',\n",
       " 'partial_molar_entropies',\n",
       " 'partial_molar_int_energies',\n",
       " 'partial_molar_volumes',\n",
       " 'phase_index',\n",
       " 'phase_of_matter',\n",
       " 'product_stoich_coeff',\n",
       " 'product_stoich_coeffs',\n",
       " 'products',\n",
       " 'reactant_stoich_coeff',\n",
       " 'reactant_stoich_coeffs',\n",
       " 'reactants',\n",
       " 'reaction',\n",
       " 'reaction_equation',\n",
       " 'reaction_equations',\n",
       " 'reaction_phase_index',\n",
       " 'reaction_type',\n",
       " 'reactions',\n",
       " 'reference_pressure',\n",
       " 'report',\n",
       " 'reverse_rate_constants',\n",
       " 'reverse_rates_of_progress',\n",
       " 's',\n",
       " 'selected_species',\n",
       " 'set_equivalence_ratio',\n",
       " 'set_mixture_fraction',\n",
       " 'set_multiplier',\n",
       " 'set_unnormalized_coverages',\n",
       " 'set_unnormalized_mass_fractions',\n",
       " 'set_unnormalized_mole_fractions',\n",
       " 'site_density',\n",
       " 'source',\n",
       " 'species',\n",
       " 'species_index',\n",
       " 'species_name',\n",
       " 'species_names',\n",
       " 'standard_cp_R',\n",
       " 'standard_enthalpies_RT',\n",
       " 'standard_entropies_R',\n",
       " 'standard_gibbs_RT',\n",
       " 'standard_int_energies_RT',\n",
       " 'state',\n",
       " 'state_size',\n",
       " 'stoich_air_fuel_ratio',\n",
       " 'thermal_expansion_coeff',\n",
       " 'thermo_model',\n",
       " 'u',\n",
       " 'v',\n",
       " 'volume_mass',\n",
       " 'volume_mole']"
      ]
     },
     "execution_count": 12,
     "metadata": {},
     "output_type": "execute_result"
    }
   ],
   "source": [
    "dir(surf1)"
   ]
  },
  {
   "cell_type": "code",
   "execution_count": 13,
   "id": "403f4ab5",
   "metadata": {},
   "outputs": [],
   "source": [
    "H_3 = np.zeros(len(temperatures))\n",
    "Cp_3 = np.zeros(len(temperatures))\n",
    "S_3 = np.zeros(len(temperatures))\n",
    "for i, T in enumerate(temperatures):\n",
    "    surf1.TPX = T, 101325, {'H2O(S)': 1.0}\n",
    "    Cp_3[i] = surf1.cp_mole/1000.0\n",
    "    H_3[i] = surf1.enthalpy_mole/1000.0\n",
    "    S_3[i] = surf1.entropy_mole/1000.0"
   ]
  },
  {
   "cell_type": "code",
   "execution_count": 14,
   "id": "65fd150b",
   "metadata": {},
   "outputs": [
    {
     "data": {
      "text/plain": [
       "<matplotlib.legend.Legend at 0x7f76cb9d9590>"
      ]
     },
     "execution_count": 14,
     "metadata": {},
     "output_type": "execute_result"
    },
    {
     "data": {
      "image/png": "[encoded data removed]",
      "text/plain": [
       "<Figure size 432x288 with 1 Axes>"
      ]
     },
     "metadata": {
      "needs_background": "light"
     },
     "output_type": "display_data"
    }
   ],
   "source": [
    "plt.plot(temperatures, cp_fit)\n",
    "plt.plot(my_calc.temperatures, cp_fit2)\n",
    "plt.plot(temperatures, Cp_3)\n",
    "plt.legend(['Cantera', 'Katrin', 'all Cantera'])"
   ]
  },
  {
   "cell_type": "code",
   "execution_count": 15,
   "id": "86bc8665",
   "metadata": {},
   "outputs": [
    {
     "data": {
      "text/plain": [
       "<matplotlib.legend.Legend at 0x7f76ca8f7810>"
      ]
     },
     "execution_count": 15,
     "metadata": {},
     "output_type": "execute_result"
    },
    {
     "data": {
      "image/png": "[encoded data removed]",
      "text/plain": [
       "<Figure size 432x288 with 1 Axes>"
      ]
     },
     "metadata": {
      "needs_background": "light"
     },
     "output_type": "display_data"
    }
   ],
   "source": [
    "plt.plot(temperatures, s_fit)\n",
    "plt.plot(my_calc.temperatures, s_fit2)\n",
    "plt.plot(temperatures, S_3)\n",
    "plt.legend(['Cantera', 'Katrin', 'all Cantera'])"
   ]
  },
  {
   "cell_type": "code",
   "execution_count": 16,
   "id": "c09024f2",
   "metadata": {},
   "outputs": [
    {
     "data": {
      "text/plain": [
       "<matplotlib.legend.Legend at 0x7f767a019c50>"
      ]
     },
     "execution_count": 16,
     "metadata": {},
     "output_type": "execute_result"
    },
    {
     "data": {
      "image/png": "[encoded data removed]",
      "text/plain": [
       "<Figure size 432x288 with 1 Axes>"
      ]
     },
     "metadata": {
      "needs_background": "light"
     },
     "output_type": "display_data"
    }
   ],
   "source": [
    "plt.plot(temperatures, h_fit)\n",
    "plt.plot(my_calc.temperatures, h_fit2)\n",
    "plt.plot(temperatures, H_3)\n",
    "plt.legend(['Cantera', 'Katrin', 'all Cantera'])"
   ]
  },
  {
   "cell_type": "code",
   "execution_count": null,
   "id": "15074030",
   "metadata": {},
   "outputs": [],
   "source": []
  },
  {
   "cell_type": "code",
   "execution_count": 26,
   "id": "ad191cff",
   "metadata": {},
   "outputs": [
    {
     "ename": "AttributeError",
     "evalue": "'NoneType' object has no attribute 'result'",
     "output_type": "error",
     "traceback": [
      "\u001b[0;31m---------------------------------------------------------------------------\u001b[0m",
      "\u001b[0;31mAttributeError\u001b[0m                            Traceback (most recent call last)",
      "\u001b[0;32m/tmp/ipykernel_27681/1747168982.py\u001b[0m in \u001b[0;36m<module>\u001b[0;34m\u001b[0m\n\u001b[1;32m      1\u001b[0m \u001b[0msp1\u001b[0m \u001b[0;34m=\u001b[0m \u001b[0mrmgpy\u001b[0m\u001b[0;34m.\u001b[0m\u001b[0mspecies\u001b[0m\u001b[0;34m.\u001b[0m\u001b[0mSpecies\u001b[0m\u001b[0;34m(\u001b[0m\u001b[0msmiles\u001b[0m\u001b[0;34m=\u001b[0m\u001b[0;34m'O'\u001b[0m\u001b[0;34m)\u001b[0m\u001b[0;34m\u001b[0m\u001b[0;34m\u001b[0m\u001b[0m\n\u001b[0;32m----> 2\u001b[0;31m \u001b[0mthermo\u001b[0m \u001b[0;34m=\u001b[0m \u001b[0msp1\u001b[0m\u001b[0;34m.\u001b[0m\u001b[0mget_thermo_data\u001b[0m\u001b[0;34m(\u001b[0m\u001b[0;34m)\u001b[0m\u001b[0;34m\u001b[0m\u001b[0;34m\u001b[0m\u001b[0m\n\u001b[0m",
      "\u001b[0;32m~/rmg/RMG-Py/rmgpy/species.cpython-37m-x86_64-linux-gnu.so\u001b[0m in \u001b[0;36mrmgpy.species.Species.get_thermo_data\u001b[0;34m()\u001b[0m\n",
      "\u001b[0;31mAttributeError\u001b[0m: 'NoneType' object has no attribute 'result'"
     ]
    }
   ],
   "source": [
    "sp1 = rmgpy.species.Species(smiles='O')\n",
    "thermo = sp1.get_thermo_data()"
   ]
  },
  {
   "cell_type": "code",
   "execution_count": 23,
   "id": "7967a6bd",
   "metadata": {},
   "outputs": [
    {
     "data": {
      "text/plain": [
       "['__class__',\n",
       " '__delattr__',\n",
       " '__dir__',\n",
       " '__doc__',\n",
       " '__eq__',\n",
       " '__format__',\n",
       " '__ge__',\n",
       " '__getattribute__',\n",
       " '__gt__',\n",
       " '__hash__',\n",
       " '__init__',\n",
       " '__init_subclass__',\n",
       " '__le__',\n",
       " '__lt__',\n",
       " '__ne__',\n",
       " '__new__',\n",
       " '__pyx_vtable__',\n",
       " '__reduce__',\n",
       " '__reduce_ex__',\n",
       " '__repr__',\n",
       " '__setattr__',\n",
       " '__sizeof__',\n",
       " '__str__',\n",
       " '__subclasshook__',\n",
       " '_molecular_weight',\n",
       " '_repr_png_',\n",
       " 'aug_inchi',\n",
       " 'calculate_cp0',\n",
       " 'calculate_cpinf',\n",
       " 'conformer',\n",
       " 'contains_surface_site',\n",
       " 'copy',\n",
       " 'creation_iteration',\n",
       " 'energy_transfer_model',\n",
       " 'explicitly_allowed',\n",
       " 'fingerprint',\n",
       " 'from_adjacency_list',\n",
       " 'from_smiles',\n",
       " 'generate_aug_inchi',\n",
       " 'generate_energy_transfer_model',\n",
       " 'generate_resonance_structures',\n",
       " 'generate_statmech',\n",
       " 'generate_transport_data',\n",
       " 'get_augmented_inchi',\n",
       " 'get_density_of_states',\n",
       " 'get_enthalpy',\n",
       " 'get_entropy',\n",
       " 'get_free_energy',\n",
       " 'get_heat_capacity',\n",
       " 'get_partition_function',\n",
       " 'get_resonance_hybrid',\n",
       " 'get_sum_of_states',\n",
       " 'get_symmetry_number',\n",
       " 'get_thermo_data',\n",
       " 'get_transport_data',\n",
       " 'has_reactive_molecule',\n",
       " 'has_statmech',\n",
       " 'has_thermo',\n",
       " 'inchi',\n",
       " 'index',\n",
       " 'is_identical',\n",
       " 'is_isomorphic',\n",
       " 'is_solvent',\n",
       " 'is_structure_in_list',\n",
       " 'is_surface_site',\n",
       " 'label',\n",
       " 'molecular_weight',\n",
       " 'molecule',\n",
       " 'multiplicity',\n",
       " 'props',\n",
       " 'reactive',\n",
       " 'set_e0_with_thermo',\n",
       " 'set_structure',\n",
       " 'smiles',\n",
       " 'sorting_key',\n",
       " 'symmetry_number',\n",
       " 'thermo',\n",
       " 'to_adjacency_list',\n",
       " 'to_cantera',\n",
       " 'to_chemkin',\n",
       " 'transport_data']"
      ]
     },
     "execution_count": 23,
     "metadata": {},
     "output_type": "execute_result"
    }
   ],
   "source": [
    "dir(sp1)"
   ]
  },
  {
   "cell_type": "code",
   "execution_count": null,
   "id": "0bd0b806",
   "metadata": {},
   "outputs": [],
   "source": []
  }
 ],
 "metadata": {
  "kernelspec": {
   "display_name": "Python 3 (ipykernel)",
   "language": "python",
   "name": "python3"
  },
  "language_info": {
   "codemirror_mode": {
    "name": "ipython",
    "version": 3
   },
   "file_extension": ".py",
   "mimetype": "text/x-python",
   "name": "python",
   "nbconvert_exporter": "python",
   "pygments_lexer": "ipython3",
   "version": "3.7.12"
  }
 },
 "nbformat": 4,
 "nbformat_minor": 5
}
