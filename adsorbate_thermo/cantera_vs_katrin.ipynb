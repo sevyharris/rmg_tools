{
 "cells": [
  {
   "cell_type": "code",
   "execution_count": null,
   "id": "a96f6cfe",
   "metadata": {},
   "outputs": [],
   "source": [
    "import cantera as ct\n",
    "import matplotlib.pyplot as plt\n",
    "import numpy as np\n",
    "import rmgpy.constants\n",
    "import adsorbate_thermo\n",
    "import rmgpy.species"
   ]
  },
  {
   "cell_type": "code",
   "execution_count": null,
   "id": "a983d70d",
   "metadata": {},
   "outputs": [],
   "source": [
    "gas1 = ct.Solution('methane_pox_on_pt.cti')\n",
    "surf1 = ct.Interface('methane_pox_on_pt.cti', 'Pt_surf', [gas1])"
   ]
  },
  {
   "cell_type": "code",
   "execution_count": null,
   "id": "f4212c20",
   "metadata": {},
   "outputs": [],
   "source": [
    "gas1.TPX = 300, 101325, {'H2O': 1.0}"
   ]
  },
  {
   "cell_type": "code",
   "execution_count": null,
   "id": "7576ec68",
   "metadata": {},
   "outputs": [],
   "source": [
    "# surf1.TPX = 300, 101325, {'H2O(S)': 0.1, 'PT(S)': 0.9}\n",
    "surf1.TPX = 300, 101325, {'H2O(S)': 1.0}"
   ]
  },
  {
   "cell_type": "code",
   "execution_count": null,
   "id": "b66382d5",
   "metadata": {},
   "outputs": [],
   "source": [
    "surf1.species()[2].thermo.coeffs\n",
    "midpoint = surf1.species()[2].thermo.coeffs[0]\n",
    "a_high = surf1.species()[2].thermo.coeffs[1:8]\n",
    "a_low = surf1.species()[2].thermo.coeffs[8:]"
   ]
  },
  {
   "cell_type": "code",
   "execution_count": null,
   "id": "9494b43f",
   "metadata": {},
   "outputs": [],
   "source": [
    "molecular_weight = 18.02\n",
    "frequencies = [49.5, 68.6, 73.6, 102.0, 437.6, 452.9, 1596.3, 3675.6, 3787.0]\n",
    "composition = {'H': 2, 'O': 1, 'C': 0, 'N': 0}\n",
    "heat_of_formation_0K = -259.05  # kJ/mol\n",
    "my_calc = adsorbate_thermo.AdsorbateThermoCalc(molecular_weight, frequencies, composition, heat_of_formation_0K, twoD_gas=True)\n",
    "a_low2, a_high2 = my_calc.get_thermo2()"
   ]
  },
  {
   "cell_type": "code",
   "execution_count": null,
   "id": "abba1441",
   "metadata": {},
   "outputs": [],
   "source": [
    "temperatures = np.linspace(300, 2000, 201)\n",
    "cp_fit, h_fit, s_fit = my_calc.get_thermo_from_NASA2(a_low, a_high)"
   ]
  },
  {
   "cell_type": "code",
   "execution_count": null,
   "id": "403f4ab5",
   "metadata": {},
   "outputs": [],
   "source": [
    "H_ct = np.zeros(len(temperatures))\n",
    "Cp_ct = np.zeros(len(temperatures))\n",
    "S_ct = np.zeros(len(temperatures))\n",
    "for i, T in enumerate(temperatures):\n",
    "    surf1.TPX = T, 101325, {'H2O(S)': 1.0}\n",
    "    Cp_ct[i] = surf1.cp_mole/1000.0\n",
    "    H_ct[i] = surf1.enthalpy_mole/1000.0\n",
    "    S_ct[i] = surf1.entropy_mole/1000.0"
   ]
  },
  {
   "cell_type": "code",
   "execution_count": null,
   "id": "65fd150b",
   "metadata": {},
   "outputs": [],
   "source": [
    "plt.plot(my_calc.temperatures, cp_fit)\n",
    "plt.plot(temperatures, Cp_ct, linestyle='dashed')\n",
    "plt.legend(['Katrin', 'Cantera'])\n",
    "plt.xlabel('Temperature (K)')\n",
    "plt.ylabel('Heat Capacity (kJ/(mol*K))')\n",
    "plt.title('Heat Capacity vs. Temperature')"
   ]
  },
  {
   "cell_type": "code",
   "execution_count": null,
   "id": "86bc8665",
   "metadata": {},
   "outputs": [],
   "source": [
    "plt.plot(my_calc.temperatures, s_fit2)\n",
    "plt.plot(temperatures, S_ct, linestyle='dashed')\n",
    "plt.legend(['Katrin', 'Cantera'])\n",
    "plt.xlabel('Temperature (K)')\n",
    "plt.ylabel('Entropy (kJ/(mol*K))')\n",
    "plt.title('Entropy vs. Temperature')"
   ]
  },
  {
   "cell_type": "code",
   "execution_count": null,
   "id": "c09024f2",
   "metadata": {},
   "outputs": [],
   "source": [
    "plt.plot(my_calc.temperatures, h_fit)\n",
    "plt.plot(temperatures, H_ct, linestyle='dashed')\n",
    "plt.legend(['Katrin', 'Cantera'])\n",
    "plt.xlabel('Temperature (K)')\n",
    "plt.ylabel('Enthalpy (J/mol)')\n",
    "plt.title('Enthalpy vs. Temperature')"
   ]
  },
  {
   "cell_type": "code",
   "execution_count": null,
   "id": "15074030",
   "metadata": {},
   "outputs": [],
   "source": [
    "plt.figure(figsize=(3, 3), dpi=80)\n",
    "plt.plot(my_calc.temperatures, s_fit2)\n",
    "plt.plot(temperatures, S_ct, linestyle='dashed')\n",
    "plt.legend(['Katrin', 'Cantera'])\n",
    "plt.xlabel('Temperature (K)')\n",
    "plt.ylabel('Entropy (kJ/(mol*K))')\n",
    "plt.title('Entropy vs. Temperature')\n"
   ]
  },
  {
   "cell_type": "code",
   "execution_count": null,
   "id": "0bd0b806",
   "metadata": {},
   "outputs": [],
   "source": [
    "plt.figure(figsize=(3, 3), dpi=80)\n",
    "plt.semilogy(my_calc.temperatures, h_fit- h_fit[0])\n",
    "plt.semilogy(temperatures, H_ct - H_ct[0], linestyle='dashed')\n",
    "plt.legend(['Katrin', 'Cantera'])\n",
    "plt.xlabel('Temperature (K)')\n",
    "plt.ylabel('Enthalpy (J/mol)')\n",
    "plt.title('Enthalpy vs. Temperature')"
   ]
  },
  {
   "cell_type": "code",
   "execution_count": null,
   "id": "62c176c2",
   "metadata": {},
   "outputs": [],
   "source": []
  }
 ],
 "metadata": {
  "kernelspec": {
   "display_name": "Python 3 (ipykernel)",
   "language": "python",
   "name": "python3"
  },
  "language_info": {
   "codemirror_mode": {
    "name": "ipython",
    "version": 3
   },
   "file_extension": ".py",
   "mimetype": "text/x-python",
   "name": "python",
   "nbconvert_exporter": "python",
   "pygments_lexer": "ipython3",
   "version": "3.7.12"
  }
 },
 "nbformat": 4,
 "nbformat_minor": 5
}
