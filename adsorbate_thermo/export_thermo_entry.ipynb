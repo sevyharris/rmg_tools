{
 "cells": [
  {
   "cell_type": "code",
   "execution_count": null,
   "id": "8220ca7a",
   "metadata": {},
   "outputs": [],
   "source": [
    "# export thermo entry"
   ]
  },
  {
   "cell_type": "code",
   "execution_count": null,
   "id": "87f67b55",
   "metadata": {},
   "outputs": [],
   "source": [
    "from rmgpy.data.thermo import ThermoDatabase\n",
    "import arkane.output\n",
    "import adsorbate_thermo\n",
    "import rmgpy.species"
   ]
  },
  {
   "cell_type": "code",
   "execution_count": null,
   "id": "87e16ac5",
   "metadata": {},
   "outputs": [],
   "source": [
    "# Load the reference thermo\n",
    "ref_lib = 'GRI-Mech3.0'\n",
    "ref_library_path = \"/home/moon/rmg/RMG-database/input/thermo/\"\n",
    "ref_thermo_database = ThermoDatabase()\n",
    "ref_thermo_database.load(\n",
    "    ref_library_path,\n",
    "    libraries=[\n",
    "        ref_lib,\n",
    "    ],\n",
    "    depository=False,\n",
    "    surface=False\n",
    ")"
   ]
  },
  {
   "cell_type": "code",
   "execution_count": null,
   "id": "4823c331",
   "metadata": {},
   "outputs": [],
   "source": [
    "molecular_weight = 18.02\n",
    "frequencies = [49.5, 68.6, 73.6, 102.0, 437.6, 452.9, 1596.3, 3675.6, 3787.0]\n",
    "composition = {'H': 2, 'O': 1, 'C': 0, 'N': 0}\n",
    "heat_of_formation_0K = -259.05  # kJ/mol\n",
    "\n",
    "my_calc = adsorbate_thermo.AdsorbateThermoCalc(molecular_weight, frequencies, composition, heat_of_formation_0K, twoD_gas=True)\n",
    "h2o = rmgpy.species.Species(smiles='O')\n",
    "\n"
   ]
  },
  {
   "cell_type": "code",
   "execution_count": null,
   "id": "aa1d378f",
   "metadata": {},
   "outputs": [],
   "source": [
    "h2o.generate_resonance_structures()\n",
    "h2o.get_symmetry_number()\n",
    "h2o.molecule[0].symmetry_number\n",
    "\n",
    "# TODO fill out these two\n",
    "# h2o.conformer.spin_multiplicity = -1\n",
    "# h2o.conformer.optical_isomers = -1\n",
    "\n",
    "# TODO conformers?\n",
    "h2o.thermo = my_calc.get_thermo()"
   ]
  },
  {
   "cell_type": "code",
   "execution_count": null,
   "id": "0a134f17",
   "metadata": {},
   "outputs": [],
   "source": [
    "dir(h2o)"
   ]
  },
  {
   "cell_type": "code",
   "execution_count": null,
   "id": "4ff21967",
   "metadata": {},
   "outputs": [],
   "source": [
    "\n"
   ]
  },
  {
   "cell_type": "code",
   "execution_count": null,
   "id": "f1c77b58",
   "metadata": {},
   "outputs": [],
   "source": [
    "species_list = [h2o]\n",
    "path = '/home/moon/rmg/rmg_tools/adsorbate_thermo/'\n",
    "name = 'sevy'\n",
    "lib_long_desc = 'sevy''s first attempt at exporting adsorbate thermo'"
   ]
  },
  {
   "cell_type": "code",
   "execution_count": null,
   "id": "37167b38",
   "metadata": {},
   "outputs": [],
   "source": []
  },
  {
   "cell_type": "code",
   "execution_count": null,
   "id": "66ab5f9c",
   "metadata": {},
   "outputs": [],
   "source": [
    "arkane.output.save_thermo_lib(species_list, path, name, lib_long_desc)"
   ]
  },
  {
   "cell_type": "code",
   "execution_count": null,
   "id": "4a9d7bf8",
   "metadata": {},
   "outputs": [],
   "source": []
  }
 ],
 "metadata": {
  "kernelspec": {
   "display_name": "Python 3 (ipykernel)",
   "language": "python",
   "name": "python3"
  },
  "language_info": {
   "codemirror_mode": {
    "name": "ipython",
    "version": 3
   },
   "file_extension": ".py",
   "mimetype": "text/x-python",
   "name": "python",
   "nbconvert_exporter": "python",
   "pygments_lexer": "ipython3",
   "version": "3.7.12"
  }
 },
 "nbformat": 4,
 "nbformat_minor": 5
}
