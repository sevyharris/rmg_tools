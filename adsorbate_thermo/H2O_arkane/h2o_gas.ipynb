{
 "cells": [
  {
   "cell_type": "code",
   "execution_count": null,
   "id": "0c3ae2fa",
   "metadata": {},
   "outputs": [],
   "source": [
    "import numpy as np\n",
    "import pandas as pd\n",
    "import matplotlib.pyplot as plt\n",
    "from ase.io.gaussian import read_gaussian_out\n",
    "import ase.units\n",
    "\n",
    "\n",
    "import matplotlib\n",
    "from rmgpy.data.thermo import ThermoDatabase\n",
    "from rmgpy.species import Species"
   ]
  },
  {
   "cell_type": "code",
   "execution_count": null,
   "id": "90018338",
   "metadata": {},
   "outputs": [],
   "source": [
    "# NIST reference data\n",
    "# https://webbook.nist.gov/cgi/cbook.cgi?ID=C7732185&Units=SI&Mask=1&Type=JANAFG&Table=on#JANAFG"
   ]
  },
  {
   "cell_type": "code",
   "execution_count": null,
   "id": "a8cd2a1b",
   "metadata": {},
   "outputs": [],
   "source": [
    "nist_csv = '/home/moon/hw8/ads_thermo_presentation/h2o_nist_data.csv'\n",
    "nist_df = pd.read_csv(nist_csv, header=0, skiprows=2, names=['Temperature', 'Cp', 'S', 'S2', 'H'])"
   ]
  },
  {
   "cell_type": "code",
   "execution_count": null,
   "id": "179e3975",
   "metadata": {},
   "outputs": [],
   "source": [
    "T = nist_df.Temperature.values\n",
    "# T = [298.15]"
   ]
  },
  {
   "cell_type": "markdown",
   "id": "ba055898",
   "metadata": {},
   "source": [
    "Mass of H2O\n",
    "\n",
    "$\\frac{18 grams}{mol}\\cdot \\frac{1 mol}{6.02\\times 10^{23} molecules} \\cdot \\frac{1 kg}{1000 grams}$"
   ]
  },
  {
   "cell_type": "code",
   "execution_count": null,
   "id": "a6331fba",
   "metadata": {},
   "outputs": [],
   "source": [
    "# Load Constants\n",
    "\n",
    "kb = ase.units._k\n",
    "MW_H2O = 18.01528\n",
    "N_av = ase.units._Nav\n",
    "h = ase.units._hplanck\n",
    "mass_H2O = MW_H2O / N_av / 1000.0\n",
    "volume = 1.0  # m^3\n",
    "R = 8.31446261815324  # J/mol K"
   ]
  },
  {
   "cell_type": "markdown",
   "id": "bd5330cd",
   "metadata": {},
   "source": [
    "## Translation Partition Function\n",
    "\n",
    "$$q_{trans} = \\left(\\frac{2 \\pi \\sum_{atoms, i} m_i k T}{h^2} \\right)^{\\frac{3}{2}}V$$\n",
    "\n",
    "$h=6.62607004\\times 10^{-34} \\quad $ Planck's constant in $\\frac{m^2 \\cdot kg}{s}\\quad$\n",
    "\n",
    "$k=1.38064852\\times 10^{-23} \\quad $ Boltmann's constant in $\\frac{m^2 \\cdot kg}{s^2 \\cdot K}\\quad$\n",
    "\n",
    "$m_i \\quad $ Mass of atom $i$ in $kg$\n",
    "\n",
    "$T \\quad$ Temperature in $K$\n",
    "\n",
    "Assume Ideal Gas\n",
    "$PV=nRT$\n",
    "\n",
    "$V=\\frac{nRT}{P}$\n",
    "\n",
    "$$q_{trans} = \\left(\\frac{2 \\pi \\sum_{atoms, i} m_i k T}{h^2} \\right)^{\\frac{3}{2}} \\frac{NRT}{P}$$\n",
    "\n",
    "$R = 8.314462$ gas constant in $\\frac{J}{mol\\cdot K}$\n",
    "\n",
    "$n\\quad$ number of mols\n",
    "\n",
    "$P\\quad$ pressure in Pascals\n"
   ]
  },
  {
   "cell_type": "code",
   "execution_count": null,
   "id": "29bc6aa3",
   "metadata": {},
   "outputs": [],
   "source": [
    "n = 1.0 / N_av  # convert from one molecule to units of mols\n",
    "P = 101325  # 1 atm for comparison with Guassian results\n",
    "V = n * R * T / P\n",
    "\n",
    "q_trans = np.float_power(2.0 * np.pi * mass_H2O * kb * T / np.float_power(h, 2.0), 1.5) * V\n",
    "# print(q_trans)"
   ]
  },
  {
   "cell_type": "markdown",
   "id": "2d5fb99a",
   "metadata": {},
   "source": [
    "## Rotational Partition Function\n",
    "\n",
    "Linear Molecules:\n",
    "$$q_{rot} = \\frac{T}{\\sigma \\Theta_r} \\quad$$\n",
    "\n",
    "Nonlinear Molecules:\n",
    "$$q_{rot} = \\frac{\\sqrt{\\pi}}{\\sigma} \\left( \\frac{T^3}{\\Theta_A\\Theta_B\\Theta_C}\\right)^{\\frac{1}{2}} \\quad$$\n",
    "\n",
    "\n",
    "$\\sigma\\quad$ Rotational Symmetry Number\n",
    "\n",
    "$\\Theta_r=\\frac{h^2}{8\\pi^2Ik}\\quad$ Rotational Temperature in $K$\n",
    "\n",
    "$h=6.62607004\\times 10^{-34} \\quad $ Planck's constant in $\\frac{m^2 \\cdot kg}{s}\\quad$\n",
    "\n",
    "$k=1.38064852\\times 10^{-23} \\quad $ Boltmann's constant in $\\frac{m^2 \\cdot kg}{s^2 \\cdot K}\\quad$\n",
    "\n",
    "$T \\quad$ Temperature in $K$\n",
    "\n",
    "$I\\quad$ Moment of Inertia in $kg \\cdot m^2$"
   ]
  },
  {
   "cell_type": "code",
   "execution_count": null,
   "id": "360d1c15",
   "metadata": {},
   "outputs": [],
   "source": [
    "# Get the inertia along the principal axis of rotation\n",
    "with open('h2o.log', 'r') as f:\n",
    "    atoms = read_gaussian_out(f)\n",
    "\n",
    "# Linear\n",
    "# # The [-1] is to pick the primary axis of rotation and then later include the symmetry number\n",
    "# I = np.linalg.norm(atoms.get_moments_of_inertia()[-1])\n",
    "\n",
    "# # convert from amu*Angstroms^2 to kg*m^2\n",
    "# I /= (ase.units.kg * ase.units.m * ase.units.m)\n",
    "\n",
    "# rotational_temperature = np.float_power(h, 2.0) / (8.0 * np.pi * np.pi * I * kb)\n",
    "# rotational_symmetry = 2.0  # 2 identical axes of rotation for linear CO2\n",
    "\n",
    "# q_rot = T / (rotational_symmetry * rotational_temperature)\n",
    "\n",
    "\n",
    "# Nonlinear\n",
    "I = atoms.get_moments_of_inertia()\n",
    "\n",
    "# # convert from amu*Angstroms^2 to kg*m^2\n",
    "I /= (ase.units.kg * ase.units.m * ase.units.m)\n",
    "\n",
    "rotational_temperatures = np.float_power(h, 2.0) / (8.0 * np.pi * np.pi * I * kb)\n",
    "rotational_symmetry = 1.0  # 2 for H2O?\n",
    "\n",
    "q_rot = np.sqrt(np.pi) / rotational_symmetry * np.sqrt(np.float_power(T, 3.0) / (np.prod(rotational_temperatures)))\n",
    "# print(q_rot)"
   ]
  },
  {
   "cell_type": "markdown",
   "id": "c5426fed",
   "metadata": {},
   "source": [
    "## Vibrational Partition Function\n",
    "\n",
    "https://en.wikipedia.org/wiki/Vibrational_partition_function\n",
    "$$q_{vib} = e^{-\\frac{\\frac{1}{2}\\sum_i{h\\nu_i}}{kT}} \\prod_{i=1}^{l} \\frac{1}{1-e^{-\\Theta_{v,i}/T}}$$\n",
    "\n",
    "$T \\quad$ Temperature in $K$\n",
    "\n",
    "$\\Theta_v=\\frac{h \\nu}{k}\\quad$ Vibrational Temperature in $K$\n",
    "\n",
    "$h=6.62607004\\times 10^{-34} \\quad $ Planck's constant in $\\frac{m^2 \\cdot kg}{s}\\quad$\n",
    "\n",
    "$k=1.38064852\\times 10^{-23} \\quad $ Boltmann's constant in $\\frac{m^2 \\cdot kg}{s^2 \\cdot K}\\quad$\n",
    "\n",
    "$\\nu \\quad$ Vibrational Frequency in $\\frac{1}{s}$\n",
    "\n",
    "$l \\quad$ Number of Vibrational Modes\n",
    "\n",
    "\n",
    "\n",
    "Note that frequencies in Gaussian are in units of reciprocal cm, need converting to per second using the speed of light:\n",
    "\n",
    "$c = \\lambda \\nu$\n",
    "\n",
    "$\\lambda \\quad$ Wavelength in $m$\n",
    "\n",
    "$c = 299792458 \\quad$ Speed of Light in $\\frac{m}{s}$\n",
    "\n",
    "$\\nu = \\frac{c}{\\lambda}$"
   ]
  },
  {
   "cell_type": "code",
   "execution_count": null,
   "id": "5d325bc0",
   "metadata": {},
   "outputs": [],
   "source": [
    "vib_freqs_per_cm = np.array([1628.95, 3872.18, 3973.96])\n",
    "freq_correction = 0.982\n",
    "vib_freqs_per_cm *= freq_correction\n",
    "\n",
    "c = 29979245800  # speed of light in cm/s\n",
    "vib_freqs = c * vib_freqs_per_cm  # frequencies should be on the order of 10^12\n",
    "\n",
    "vib_temps = h * vib_freqs / kb  # matches Gaussian log\n",
    "\n",
    "E_zp = np.exp(-0.5 * h * np.sum(vib_freqs) / (kb * T))\n",
    "\n",
    "# q_vib = E_zp\n",
    "q_vib = np.ones(len(T))\n",
    "for i in range(0, len(vib_temps)):\n",
    "    q_vib = np.multiply(q_vib, 1.0 / (1.0 - np.exp(-vib_temps[i]/T)))\n",
    "# print(q_vib)"
   ]
  },
  {
   "cell_type": "markdown",
   "id": "d25cb7be",
   "metadata": {},
   "source": [
    "## Electronic Partition Function\n",
    "\n",
    "$$q_{elec} = \\omega_1 e^{-\\varepsilon_1/kT} + \\omega_2 e^{-\\varepsilon_2/kT} + ...$$\n",
    "\n",
    "Set the ground state to zero: $\\varepsilon_1=0$\n",
    "\n",
    "Assume there is a large gap between the ground state and higher electronic states:\n",
    "\n",
    "$\\varepsilon_2/kT \\rightarrow \\infty$\n",
    "\n",
    "$e^{-\\varepsilon_2/kT} + ... \\approx 0$\n",
    "\n",
    "$$q_{elec} = \\omega_1$$\n",
    "This is the spin multiplicity of the molecule"
   ]
  },
  {
   "cell_type": "code",
   "execution_count": null,
   "id": "0eee0a13",
   "metadata": {},
   "outputs": [],
   "source": [
    "q_elec = 1\n",
    "# print(q_elec)\n"
   ]
  },
  {
   "cell_type": "markdown",
   "id": "4c6fe928",
   "metadata": {},
   "source": [
    "## Total Partition Function"
   ]
  },
  {
   "cell_type": "code",
   "execution_count": null,
   "id": "3b32e9e7",
   "metadata": {},
   "outputs": [],
   "source": [
    "Q = np.multiply(np.multiply(np.multiply(q_trans, q_rot), q_vib), q_elec)\n",
    "# print(Q)"
   ]
  },
  {
   "cell_type": "markdown",
   "id": "81a07825",
   "metadata": {},
   "source": [
    "## Entropy $S$"
   ]
  },
  {
   "cell_type": "code",
   "execution_count": null,
   "id": "158b60c2",
   "metadata": {},
   "outputs": [],
   "source": [
    "N = N_av\n",
    "S_elec = np.log(1.0)\n",
    "S_trans = np.log(np.float_power(2.0 * np.pi * mass_H2O * kb * T / (h * h), 1.5) * V / N)\n",
    "S_vib = np.zeros(len(T))\n",
    "for theta in vib_temps:\n",
    "    S_vib += np.multiply(theta / T, (np.divide(np.exp(-theta / T), 1.0 - np.exp(-theta / T)))) - np.log(1.0 - np.exp(-theta / T))\n",
    "S_rot = np.log(np.sqrt(np.pi) / rotational_symmetry * np.sqrt(np.float_power(T, 3.0)/np.prod(rotational_temperatures)))\n",
    "S = N * kb *(4 + S_trans + S_rot + S_elec + S_vib)"
   ]
  },
  {
   "cell_type": "markdown",
   "id": "11154b67",
   "metadata": {},
   "source": [
    "## Heat Capacity $C_p$"
   ]
  },
  {
   "cell_type": "code",
   "execution_count": null,
   "id": "8f81fa74",
   "metadata": {},
   "outputs": [],
   "source": [
    "Cv_Nk = 3.0\n",
    "for theta in vib_temps:\n",
    "    Cv_Nk += np.multiply(np.float_power(theta / T, 2.0), np.divide(np.exp(-theta / T), np.float_power(1.0 - np.exp(-theta / T), 2.0))) \n",
    "\n",
    "# for theta in vib_temps:\n",
    "#     Cv_Nk += np.float_power(theta / 2.0 * T, 2.0) / (np.float_power(np.sinh(theta / (2.0 * T)), 2.0))\n",
    "Cv = N * kb * Cv_Nk\n",
    "Cp = Cv + R"
   ]
  },
  {
   "cell_type": "markdown",
   "id": "b0128e0a",
   "metadata": {},
   "source": [
    "## Enthalpy $H$\n",
    "\n",
    "$H = U + PV$"
   ]
  },
  {
   "cell_type": "code",
   "execution_count": null,
   "id": "bc04a85e",
   "metadata": {},
   "outputs": [],
   "source": [
    "U_NkT = 3.0\n",
    "for theta in vib_temps:\n",
    "    U_NkT += theta / (2.0 * T) + (theta / T) * np.divide(np.exp(-theta / T), (1.0 - np.exp(-theta / T)))\n",
    "\n",
    "U = np.multiply(U_NkT, N * kb * T)\n",
    "H = (U + P * V * N) / 1000.0"
   ]
  },
  {
   "cell_type": "markdown",
   "id": "bd90a501",
   "metadata": {},
   "source": [
    "## Arkane results"
   ]
  },
  {
   "cell_type": "code",
   "execution_count": null,
   "id": "9082d4b0",
   "metadata": {},
   "outputs": [],
   "source": [
    "# Specify Input Parameters\n",
    "species_smiles = \"O\"\n",
    "ark_thermo_dir = \"/home/moon/hw8/ads_thermo_presentation/H2O_arkane/RMG_libraries/\"\n",
    "ref_lib = 'GRI-Mech3.0'"
   ]
  },
  {
   "cell_type": "code",
   "execution_count": null,
   "id": "c935d06a",
   "metadata": {},
   "outputs": [],
   "source": [
    "# Load the Arkane thermo\n",
    "ark_thermo_database = ThermoDatabase()\n",
    "ark_thermo_database.load_libraries(\n",
    "    ark_thermo_dir,\n",
    ")"
   ]
  },
  {
   "cell_type": "code",
   "execution_count": null,
   "id": "a110d5d1",
   "metadata": {},
   "outputs": [],
   "source": [
    "ark_species = Species(smiles=species_smiles)\n",
    "ark_species.thermo = ark_thermo_database.get_thermo_data(ark_species)"
   ]
  },
  {
   "cell_type": "code",
   "execution_count": null,
   "id": "7845ec1c",
   "metadata": {},
   "outputs": [],
   "source": [
    "# Calculate H, S, and Cp\n",
    "T = np.linspace(300.0, 3000.0, 100)\n",
    "H_ark = np.zeros(len(T))\n",
    "S_ark = np.zeros(len(T))\n",
    "Cp_ark = np.zeros(len(T))\n",
    "\n",
    "T_ref = 273.0\n",
    "H0_ark = ark_species.get_enthalpy(T_ref)\n",
    "for i, T_ in enumerate(T):\n",
    "    H_ark[i] = ark_species.get_enthalpy(T_) - H0_ark\n",
    "    S_ark[i] = ark_species.get_entropy(T_)\n",
    "    Cp_ark[i] = ark_species.get_heat_capacity(T_)"
   ]
  },
  {
   "cell_type": "code",
   "execution_count": null,
   "id": "f10a261f",
   "metadata": {},
   "outputs": [],
   "source": [
    "# Plot Enthalpy\n",
    "# to embed the plot in the Jupyter Notebook because I messed up my settings a while ago\n",
    "%matplotlib inline\n",
    "plt.plot(T, H_ark / 1000.0, nist_df.Temperature.values, nist_df.H.values, nist_df.Temperature.values, H - (H[0] - nist_df.H.values[0]))\n",
    "\n",
    "plt.legend(['Arkane', 'NIST', 'by hand'])\n",
    "plt.xlabel('Temperature (K)')\n",
    "plt.ylabel('Enthalpy - H0 (J/mol)')\n",
    "plt.title('Enthalpy vs. Temperature')"
   ]
  },
  {
   "cell_type": "code",
   "execution_count": null,
   "id": "cc97fd15",
   "metadata": {},
   "outputs": [],
   "source": [
    "# Plot Heat Capacity\n",
    "# to embed the plot in the Jupyter Notebook because I messed up my settings a while ago\n",
    "%matplotlib inline\n",
    "plt.plot(T, Cp_ark, nist_df.Temperature.values, nist_df.Cp.values, nist_df.Temperature.values, Cp)\n",
    "plt.legend(['Arkane', 'NIST', 'by hand'])\n",
    "plt.xlabel('Temperature (K)')\n",
    "plt.ylabel('Heat Capacity (J/(mol*K))')\n",
    "plt.title('Heat Capacity vs. Temperature')"
   ]
  },
  {
   "cell_type": "code",
   "execution_count": null,
   "id": "fdcb21d3",
   "metadata": {},
   "outputs": [],
   "source": [
    "# Plot Entropy\n",
    "plt.plot(T, S_ark, nist_df.Temperature.values, nist_df.S.values, nist_df.Temperature.values, S - (S[0] - nist_df.S.values[0]))\n",
    "plt.legend(['Arkane', 'NIST', 'by hand'])\n",
    "plt.xlabel('Temperature (K)')\n",
    "plt.ylabel('Entropy (J/(mol*K))')\n",
    "plt.title('Entropy vs. Temperature')"
   ]
  },
  {
   "cell_type": "code",
   "execution_count": null,
   "id": "30e74eb2",
   "metadata": {},
   "outputs": [],
   "source": []
  }
 ],
 "metadata": {
  "kernelspec": {
   "display_name": "Python 3 (ipykernel)",
   "language": "python",
   "name": "python3"
  },
  "language_info": {
   "codemirror_mode": {
    "name": "ipython",
    "version": 3
   },
   "file_extension": ".py",
   "mimetype": "text/x-python",
   "name": "python",
   "nbconvert_exporter": "python",
   "pygments_lexer": "ipython3",
   "version": "3.7.12"
  }
 },
 "nbformat": 4,
 "nbformat_minor": 5
}
