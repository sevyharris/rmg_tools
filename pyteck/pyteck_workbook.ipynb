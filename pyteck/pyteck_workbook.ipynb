{
 "cells": [
  {
   "cell_type": "code",
   "execution_count": null,
   "id": "da47c8c4",
   "metadata": {},
   "outputs": [],
   "source": [
    "# Local imports\n",
    "from pyteck.eval_model import evaluate_model\n",
    "import matplotlib.pyplot as plt\n",
    "import numpy as np"
   ]
  },
  {
   "cell_type": "code",
   "execution_count": null,
   "id": "c81f7213",
   "metadata": {},
   "outputs": [],
   "source": [
    "\n",
    "output = evaluate_model(\n",
    "    model_name='nheptane.cti',\n",
    "    spec_keys_file='/home/harris.se/rmg/rmg_tools/pyteck/nheptane/species_keys.yaml',\n",
    "    dataset_file='/home/harris.se/rmg/rmg_tools/pyteck/nheptane/data_list_full.txt',\n",
    "    data_path='/home/harris.se/rmg/rmg_tools/pyteck/nheptane/data',\n",
    "    model_path='/home/harris.se/rmg/rmg_tools/pyteck/nheptane/models',\n",
    "    results_path='/home/harris.se/rmg/rmg_tools/pyteck/nheptane/results',\n",
    "    skip_validation=True\n",
    ")"
   ]
  },
  {
   "cell_type": "code",
   "execution_count": null,
   "id": "209f3238",
   "metadata": {},
   "outputs": [],
   "source": [
    "output"
   ]
  },
  {
   "cell_type": "code",
   "execution_count": null,
   "id": "d83c129e",
   "metadata": {},
   "outputs": [],
   "source": [
    "ign_delays_exp = []\n",
    "ign_delays_rmg = []\n",
    "for dataset in output['datasets']:\n",
    "    for delay in dataset['datapoints']:\n",
    "        ign_delays_exp.append(float(delay['experimental ignition delay'].split()[0]))\n",
    "        ign_delays_rmg.append(float(delay['simulated ignition delay'].split()[0]))\n"
   ]
  },
  {
   "cell_type": "code",
   "execution_count": null,
   "id": "3aa1f751",
   "metadata": {},
   "outputs": [],
   "source": [
    "xmin = 0.9 * np.minimum(np.min(ign_delays_exp), np.min(ign_delays_rmg))\n",
    "xmax = 1.1 * np.maximum(np.max(ign_delays_exp), np.max(ign_delays_rmg))\n",
    "diagonal = np.linspace(xmin, xmax, 101)\n",
    "\n",
    "plt.figure(figsize=(4, 4), dpi=80)\n",
    "plt.scatter(ign_delays_exp, ign_delays_rmg)\n",
    "plt.xlim([xmin, xmax])\n",
    "plt.plot(diagonal, diagonal, color='black')\n",
    "plt.ylim([xmin, xmax])\n",
    "\n",
    "\n",
    "plt.title('Ignition Delay Parity Plot')\n",
    "plt.xlabel('Experimental Ignition Delay (s)')\n",
    "plt.ylabel('Simulated Ignition Delay (s)')"
   ]
  },
  {
   "cell_type": "code",
   "execution_count": null,
   "id": "1f4e66fd",
   "metadata": {},
   "outputs": [],
   "source": []
  }
 ],
 "metadata": {
  "kernelspec": {
   "display_name": "Python 3 (ipykernel)",
   "language": "python",
   "name": "python3"
  },
  "language_info": {
   "codemirror_mode": {
    "name": "ipython",
    "version": 3
   },
   "file_extension": ".py",
   "mimetype": "text/x-python",
   "name": "python",
   "nbconvert_exporter": "python",
   "pygments_lexer": "ipython3",
   "version": "3.9.7"
  }
 },
 "nbformat": 4,
 "nbformat_minor": 5
}
