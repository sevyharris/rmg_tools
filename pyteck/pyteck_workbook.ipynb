{
 "cells": [
  {
   "cell_type": "code",
   "execution_count": null,
   "id": "da47c8c4",
   "metadata": {},
   "outputs": [],
   "source": [
    "# Local imports\n",
    "from pyteck.eval_model import evaluate_model\n",
    "import matplotlib.pyplot as plt\n",
    "import numpy as np"
   ]
  },
  {
   "cell_type": "code",
   "execution_count": null,
   "id": "c81f7213",
   "metadata": {},
   "outputs": [],
   "source": [
    "\n",
    "output = evaluate_model(\n",
    "    model_name='nheptane.cti',\n",
    "    spec_keys_file='/home/harris.se/rmg/rmg_tools/pyteck/nheptane/species_keys.yaml',\n",
    "    dataset_file='/home/harris.se/rmg/rmg_tools/pyteck/nheptane/partial.txt',\n",
    "    data_path='/home/harris.se/rmg/rmg_tools/pyteck/nheptane/data',\n",
    "    model_path='/home/harris.se/rmg/rmg_tools/pyteck/nheptane/models',\n",
    "    results_path='/home/harris.se/rmg/rmg_tools/pyteck/nheptane/results',\n",
    "    skip_validation=True\n",
    ")"
   ]
  },
  {
   "cell_type": "code",
   "execution_count": null,
   "id": "209f3238",
   "metadata": {},
   "outputs": [],
   "source": [
    "output"
   ]
  },
  {
   "cell_type": "code",
   "execution_count": null,
   "id": "d83c129e",
   "metadata": {},
   "outputs": [],
   "source": [
    "ign_delays_exp = []\n",
    "ign_delays_rmg = []\n",
    "for i, dataset in enumerate(output['datasets']):\n",
    "    if i == 40:\n",
    "        continue\n",
    "    for delay in dataset['datapoints']:\n",
    "#         if float(delay['experimental ignition delay'].split()[0]) > 0.1:\n",
    "#             print(i)\n",
    "        ign_delays_exp.append(float(delay['experimental ignition delay'].split()[0]))\n",
    "        ign_delays_rmg.append(float(delay['simulated ignition delay'].split()[0]))\n"
   ]
  },
  {
   "cell_type": "code",
   "execution_count": null,
   "id": "34af8b2a",
   "metadata": {},
   "outputs": [],
   "source": [
    "output['datasets'][40]  # outlier here: 'st_zhang_2016-3.yaml'"
   ]
  },
  {
   "cell_type": "code",
   "execution_count": null,
   "id": "8d25e77d",
   "metadata": {},
   "outputs": [],
   "source": [
    "xmin = 0.9 * np.minimum(np.min(ign_delays_exp), np.min(ign_delays_rmg))\n",
    "xmax = 1.1 * np.maximum(np.max(ign_delays_exp), np.max(ign_delays_rmg))\n",
    "diagonal = np.linspace(xmin, xmax, 101)\n",
    "\n",
    "plt.figure(figsize=(4, 4), dpi=80)\n",
    "plt.scatter(ign_delays_exp, ign_delays_rmg, s=0.6)\n",
    "# plt.xlim([xmin, xmax])\n",
    "plt.plot(diagonal, diagonal, color='black')\n",
    "# plt.ylim([xmin, xmax])\n",
    "ax = plt.gca()\n",
    "ax.set_yscale('log')\n",
    "ax.set_xscale('log')\n",
    "plt.title('Ignition Delay Parity Plot')\n",
    "plt.xlabel('Experimental Ignition Delay (s)')\n",
    "plt.ylabel('Simulated Ignition Delay (s)')\n",
    "plt.savefig('ignition_delay_parity0.png')"
   ]
  },
  {
   "cell_type": "code",
   "execution_count": null,
   "id": "5072a4d0",
   "metadata": {},
   "outputs": [],
   "source": [
    "import h5py\n"
   ]
  },
  {
   "cell_type": "code",
   "execution_count": null,
   "id": "3217dc5e",
   "metadata": {},
   "outputs": [],
   "source": [
    "f = h5py.File('/home/harris.se/rmg/rmg_tools/pyteck/nheptane/results/st_shen_2009-2_10.h5', 'r')"
   ]
  },
  {
   "cell_type": "code",
   "execution_count": null,
   "id": "b4c47876",
   "metadata": {},
   "outputs": [],
   "source": [
    "print(f.keys())\n",
    "# time, temp, pressure, volume, mass frac"
   ]
  },
  {
   "cell_type": "code",
   "execution_count": null,
   "id": "80144257",
   "metadata": {},
   "outputs": [],
   "source": [
    "t = []\n",
    "p = []\n",
    "for i in range(0, len(f['simulation'])):\n",
    "    t.append(f['simulation'][i][0])\n",
    "    p.append(f['simulation'][i][2])\n"
   ]
  },
  {
   "cell_type": "code",
   "execution_count": null,
   "id": "fb898242",
   "metadata": {},
   "outputs": [],
   "source": [
    "plt.plot(t,p)"
   ]
  },
  {
   "cell_type": "code",
   "execution_count": null,
   "id": "de07f1ac",
   "metadata": {},
   "outputs": [],
   "source": [
    "f['simulation'][0]"
   ]
  },
  {
   "cell_type": "code",
   "execution_count": null,
   "id": "46eb72ae",
   "metadata": {},
   "outputs": [],
   "source": [
    "dir(f['simulation'])"
   ]
  },
  {
   "cell_type": "code",
   "execution_count": null,
   "id": "7f813905",
   "metadata": {},
   "outputs": [],
   "source": []
  }
 ],
 "metadata": {
  "kernelspec": {
   "display_name": "Python 3 (ipykernel)",
   "language": "python",
   "name": "python3"
  },
  "language_info": {
   "codemirror_mode": {
    "name": "ipython",
    "version": 3
   },
   "file_extension": ".py",
   "mimetype": "text/x-python",
   "name": "python",
   "nbconvert_exporter": "python",
   "pygments_lexer": "ipython3",
   "version": "3.7.10"
  }
 },
 "nbformat": 4,
 "nbformat_minor": 5
}
