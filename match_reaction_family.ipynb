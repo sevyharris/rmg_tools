{
 "cells": [
  {
   "cell_type": "code",
   "execution_count": 1,
   "id": "55f2bd28",
   "metadata": {},
   "outputs": [],
   "source": [
    "# check reaction family"
   ]
  },
  {
   "cell_type": "code",
   "execution_count": 2,
   "id": "afd13ef8",
   "metadata": {},
   "outputs": [],
   "source": [
    "import os\n",
    "import re\n",
    "import copy\n",
    "import glob\n",
    "import itertools\n",
    "\n",
    "from rmgpy.exceptions import ActionError\n",
    "import rmgpy.reaction\n",
    "import rmgpy.chemkin\n",
    "import rmgpy.data.kinetics\n",
    "\n",
    "import numpy as np\n",
    "import matplotlib.pyplot as plt\n",
    "from collections import OrderedDict"
   ]
  },
  {
   "cell_type": "code",
   "execution_count": 3,
   "id": "d1afd406",
   "metadata": {},
   "outputs": [],
   "source": [
    "# load the database\n",
    "# load the thermo database,\n",
    "# this is minimal for better speed\n",
    "thermo_libs = [\n",
    "    'primaryThermoLibrary',\n",
    "]\n",
    "\n",
    "thermo_library_path = os.path.join(rmgpy.settings['database.directory'], 'thermo')\n",
    "thermo_database = rmgpy.data.thermo.ThermoDatabase()\n",
    "thermo_database.load(\n",
    "    thermo_library_path,\n",
    "    libraries=thermo_libs\n",
    ")\n",
    "\n",
    "\n",
    "# load the families\n",
    "ref_library_path = os.path.join(rmgpy.settings['database.directory'], 'kinetics')\n",
    "kinetics_database = rmgpy.data.kinetics.KineticsDatabase()\n",
    "kinetics_database.load(\n",
    "    ref_library_path,\n",
    "    libraries=[],\n",
    "    families='all'\n",
    ")\n",
    "\n",
    "# load the entire database\n",
    "ref_db = rmgpy.data.rmg.RMGDatabase()\n",
    "ref_db.kinetics = kinetics_database\n",
    "ref_db.thermo = thermo_database"
   ]
  },
  {
   "cell_type": "code",
   "execution_count": 11,
   "id": "f7acbd9c",
   "metadata": {},
   "outputs": [],
   "source": [
    "# load minimal ethane example\n",
    "chemkin_file = '/home/moon/rmg/my_examples/ethane/chemkin/chem_annotated.inp'\n",
    "dict_file = '/home/moon/rmg/my_examples/ethane/chemkin/species_dictionary.txt'\n",
    "species_list, reaction_list = rmgpy.chemkin.load_chemkin_file(chemkin_file, dict_file, use_chemkin_names=True)"
   ]
  },
  {
   "cell_type": "code",
   "execution_count": null,
   "id": "a9b6fa1a",
   "metadata": {},
   "outputs": [],
   "source": []
  },
  {
   "cell_type": "code",
   "execution_count": 70,
   "id": "f0691704",
   "metadata": {},
   "outputs": [],
   "source": [
    "def relabel(input_r, family):\n",
    "    input_reaction = copy.deepcopy(input_r)\n",
    "    \n",
    "    \n",
    "    # copied from AutoTST.autotst.reaction.py\n",
    "    def get_rmg_mol(smile):\n",
    "        smiles_conversions = {\n",
    "                \"[CH]\": \"[CH...]\",\n",
    "                \"CARBONMONOXIDE\": \"[C-]#[O+]\"\n",
    "            }\n",
    "\n",
    "        if smile.upper() in list(smiles_conversions.keys()):\n",
    "            smile = smiles_conversions[smile.upper()]\n",
    "        return rmgpy.molecule.Molecule(smiles=smile).generate_resonance_structures()\n",
    "    \n",
    "    rmg_reactants = [get_rmg_mol(sp.smiles) for sp in input_reaction.reactants]\n",
    "    rmg_products = [get_rmg_mol(sp.smiles) for sp in input_reaction.products]\n",
    "\n",
    "    combos_to_try = list(itertools.product(\n",
    "                list(itertools.product(*rmg_reactants)),\n",
    "                list(itertools.product(*rmg_products))\n",
    "            ))\n",
    "    \n",
    "    for rmg_reactants, rmg_products in combos_to_try:\n",
    "\n",
    "        test_reaction = rmgpy.reaction.Reaction(\n",
    "            reactants=list(rmg_reactants),\n",
    "            products=list(rmg_products)\n",
    "        )\n",
    "\n",
    "        try:\n",
    "            labeled_r, labeled_p = ref_db.kinetics.families[family].get_labeled_reactants_and_products(\n",
    "                test_reaction.reactants,\n",
    "                test_reaction.products\n",
    "            )\n",
    "            \n",
    "            if labeled_r is None or labeled_p is None:\n",
    "                continue\n",
    "            \n",
    "            if input_reaction.reactants[0].molecule[0].is_isomorphic(labeled_r[0]):\n",
    "                input_reaction.reactants[0].molecule[0] = labeled_r[0]\n",
    "                input_reaction.reactants[1].molecule[0] = labeled_r[1]\n",
    "            else:\n",
    "                input_reaction.reactants[0].molecule[0] = labeled_r[1]\n",
    "                input_reaction.reactants[1].molecule[0] = labeled_r[0]\n",
    "                \n",
    "                \n",
    "            if input_reaction.products[0].molecule[0].is_isomorphic(labeled_p[0]):\n",
    "                input_reaction.products[0].molecule[0] = labeled_p[0]\n",
    "                input_reaction.products[1].molecule[0] = labeled_p[1]\n",
    "            else:\n",
    "                input_reaction.products[0].molecule[0] = labeled_p[1]\n",
    "                input_reaction.products[1].molecule[0] = labeled_p[0]\n",
    "                \n",
    "                \n",
    "#             if not valid_labels(input_reaction):\n",
    "#                 print(f'Bad labeling on {input_reaction}')\n",
    "            return input_reaction\n",
    "\n",
    "\n",
    "        except ActionError:\n",
    "            pass\n",
    "    return False"
   ]
  },
  {
   "cell_type": "code",
   "execution_count": 58,
   "id": "d8900cef",
   "metadata": {},
   "outputs": [],
   "source": []
  },
  {
   "cell_type": "code",
   "execution_count": null,
   "id": "4913ed8b",
   "metadata": {},
   "outputs": [],
   "source": []
  },
  {
   "cell_type": "code",
   "execution_count": null,
   "id": "e82e00cc",
   "metadata": {},
   "outputs": [],
   "source": []
  },
  {
   "cell_type": "code",
   "execution_count": 14,
   "id": "dd3c63c9",
   "metadata": {},
   "outputs": [
    {
     "name": "stdout",
     "output_type": "stream",
     "text": [
      "H_Abstraction\n",
      "CH3(4) + ethane(1) <=> C(3) + C2H5(5)\n",
      "[CH3]\n",
      "CC\n",
      "C\n",
      "C[CH2]\n"
     ]
    }
   ],
   "source": [
    "# print the details of one reaction to copy for later\n",
    "index = 1\n",
    "print(reaction_list[index].family)\n",
    "print(reaction_list[index])\n",
    "\n",
    "for species in reaction_list[index].reactants + reaction_list[index].products:\n",
    "    print(species.smiles)"
   ]
  },
  {
   "cell_type": "code",
   "execution_count": 64,
   "id": "0fc7c317",
   "metadata": {},
   "outputs": [],
   "source": [
    "# construct a reaction by hand (or load from the NIST model)\n",
    "reactant1 = rmgpy.species.Species(smiles='[CH3]')\n",
    "reactant2 = rmgpy.species.Species(smiles='CC')\n",
    "product1 = rmgpy.species.Species(smiles='C')\n",
    "product2 = rmgpy.species.Species(smiles='C[CH2]')\n",
    "\n",
    "reactant1.thermo = ref_db.thermo.get_thermo_data(reactant1)\n",
    "reactant2.thermo = ref_db.thermo.get_thermo_data(reactant2)\n",
    "product1.thermo = ref_db.thermo.get_thermo_data(product1)\n",
    "product2.thermo = ref_db.thermo.get_thermo_data(product2)\n",
    "\n",
    "my_reaction = rmgpy.reaction.Reaction()\n",
    "my_reaction.reactants = [reactant1, reactant2]\n",
    "my_reaction.products = [product1, product2]\n",
    "\n",
    "# # reverse it\n",
    "# my_reaction.products = [reactant1, reactant2]\n",
    "# my_reaction.reactants = [product1, product2]"
   ]
  },
  {
   "cell_type": "code",
   "execution_count": 139,
   "id": "104c49be",
   "metadata": {},
   "outputs": [],
   "source": [
    "def get_family(reaction):\n",
    "    skip_list = [  # these aren't bimolecular reactions, so skip\n",
    "        '1,2-Birad_to_alkene',\n",
    "        '1,2_NH3_elimination',\n",
    "        '1,2_XY_interchange',\n",
    "        '1,2_shiftC',\n",
    "        '1,2_shiftS',\n",
    "        '1,4_Cyclic_birad_scission',\n",
    "        '1,4_Linear_birad_scission',\n",
    "        '6_membered_central_C-C_shift',\n",
    "        'Baeyer-Villiger_step2',\n",
    "        'Concerted_Intra_Diels_alder_monocyclic_1,2_shiftH',\n",
    "        'Cyclic_Ether_Formation',\n",
    "        'Cyclic_Thioether_Formation',\n",
    "        'H2_Loss',\n",
    "        'HO2_Elimination_from_PeroxyRadical',\n",
    "        'Intra_2+2_cycloaddition_Cd',\n",
    "        'Intra_5_membered_conjugated_C=C_C=C_addition',\n",
    "        'Intra_Diels_alder_monocyclic',\n",
    "        'Intra_Disproportionation',\n",
    "        'Intra_RH_Add_Endocyclic',\n",
    "        'Intra_RH_Add_Exocyclic',\n",
    "        'Intra_R_Add_ExoTetCyclic',\n",
    "        'Intra_R_Add_Exo_scission',\n",
    "        'Intra_Retro_Diels_alder_bicyclic',\n",
    "        'Intra_ene_reaction',\n",
    "        'Korcek_step1',\n",
    "        'Korcek_step2',\n",
    "        'Singlet_Carbene_Intra_Disproportionation',\n",
    "        'Singlet_Val6_to_triplet',\n",
    "        'Surface_Bidentate_Dissociation',\n",
    "        'Surface_Migration',\n",
    "        'intra_H_migration',\n",
    "        'intra_NO2_ONO_conversion',\n",
    "        'intra_OH_migration',\n",
    "        'intra_substitutionCS_cyclization',\n",
    "        'intra_substitutionCS_isomerization',\n",
    "        'intra_substitutionS_cyclization',\n",
    "        'intra_substitutionS_isomerization',\n",
    "    ]\n",
    "\n",
    "\n",
    "    include_list = [  # these are bimoleculars\n",
    "        'Disproportionation',\n",
    "        'Disproportionation-Y',\n",
    "        'F_Abstraction',\n",
    "        'H_Abstraction', \n",
    "    ]\n",
    "    for family in ref_db.kinetics.families:\n",
    "#         if family in skip_list:\n",
    "#             continue\n",
    "        if family not in include_list:\n",
    "            continue\n",
    "            \n",
    "            \n",
    "#         print(f'Trying family: {family}')  # for debugging\n",
    "        my_family = ref_db.kinetics.families[family]\n",
    "\n",
    "        test_rxn = relabel(reaction, family)\n",
    "        if test_rxn is False:\n",
    "            continue\n",
    "\n",
    "#         # print atom labels to check labeling\n",
    "#         for sp in test_rxn.reactants + test_rxn.products:\n",
    "#             print(sp.molecule[0].get_all_labeled_atoms())\n",
    "\n",
    "        try:\n",
    "            template = my_family.get_reaction_template(test_rxn)\n",
    "            return family\n",
    "        except rmgpy.exceptions.UndeterminableKineticsError:\n",
    "            continue"
   ]
  },
  {
   "cell_type": "code",
   "execution_count": null,
   "id": "891d0916",
   "metadata": {},
   "outputs": [],
   "source": []
  },
  {
   "cell_type": "code",
   "execution_count": 138,
   "id": "591d1f65",
   "metadata": {},
   "outputs": [
    {
     "data": {
      "text/plain": [
       "'H_Abstraction'"
      ]
     },
     "execution_count": 138,
     "metadata": {},
     "output_type": "execute_result"
    }
   ],
   "source": [
    "# get_family(my_reaction)\n",
    "\n",
    "get_family(reaction_list[1])"
   ]
  },
  {
   "cell_type": "code",
   "execution_count": null,
   "id": "16cc6be4",
   "metadata": {},
   "outputs": [],
   "source": []
  },
  {
   "cell_type": "code",
   "execution_count": null,
   "id": "81f43a2c",
   "metadata": {},
   "outputs": [],
   "source": []
  },
  {
   "cell_type": "code",
   "execution_count": null,
   "id": "0bf13440",
   "metadata": {},
   "outputs": [],
   "source": []
  },
  {
   "cell_type": "code",
   "execution_count": null,
   "id": "f86bafe4",
   "metadata": {},
   "outputs": [],
   "source": []
  },
  {
   "cell_type": "code",
   "execution_count": null,
   "id": "7f168e65",
   "metadata": {},
   "outputs": [],
   "source": []
  }
 ],
 "metadata": {
  "kernelspec": {
   "display_name": "Python 3 (ipykernel)",
   "language": "python",
   "name": "python3"
  },
  "language_info": {
   "codemirror_mode": {
    "name": "ipython",
    "version": 3
   },
   "file_extension": ".py",
   "mimetype": "text/x-python",
   "name": "python",
   "nbconvert_exporter": "python",
   "pygments_lexer": "ipython3",
   "version": "3.7.12"
  }
 },
 "nbformat": 4,
 "nbformat_minor": 5
}
