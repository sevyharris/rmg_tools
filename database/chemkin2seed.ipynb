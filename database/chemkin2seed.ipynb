{
 "cells": [
  {
   "cell_type": "code",
   "execution_count": null,
   "id": "b80a2344",
   "metadata": {},
   "outputs": [],
   "source": [
    "# script to compile reactions from a mechanism into RMG-database library form"
   ]
  },
  {
   "cell_type": "code",
   "execution_count": 1,
   "id": "6d2f87c9",
   "metadata": {},
   "outputs": [],
   "source": [
    "import os\n",
    "\n",
    "import rmgpy.chemkin\n",
    "import rmgpy.data.kinetics\n",
    "import rmgpy.data.thermo\n",
    "\n",
    "from collections import OrderedDict\n"
   ]
  },
  {
   "cell_type": "code",
   "execution_count": 2,
   "id": "70dd5316",
   "metadata": {},
   "outputs": [],
   "source": [
    "THERMO_LIB_NAME = 'my_thermo_lib'\n",
    "KINETICS_LIB_NAME = 'my_kinetics_lib'"
   ]
  },
  {
   "cell_type": "code",
   "execution_count": 3,
   "id": "47f01045",
   "metadata": {},
   "outputs": [],
   "source": [
    "# load the RMG mechanism\n",
    "\n",
    "base_dir = '/work/westgroup/harris.se/autoscience/fuels/butane/small_lib_20231110/'\n",
    "chemkin = os.path.join(base_dir, 'chem_annotated.inp')\n",
    "species_dict = os.path.join(base_dir, 'species_dictionary.txt')\n",
    "\n",
    "species_list, reaction_list = rmgpy.chemkin.load_chemkin_file(chemkin, dictionary_path=species_dict)\n",
    "\n"
   ]
  },
  {
   "cell_type": "code",
   "execution_count": null,
   "id": "3aefca8b",
   "metadata": {},
   "outputs": [],
   "source": []
  },
  {
   "cell_type": "markdown",
   "id": "e09bf99e",
   "metadata": {},
   "source": [
    "# Make thermo library"
   ]
  },
  {
   "cell_type": "code",
   "execution_count": 4,
   "id": "aac2591a",
   "metadata": {},
   "outputs": [],
   "source": [
    "# compile it all into a single database and a single library which I'll call harris_butane\n",
    "ark_thermo_database = rmgpy.data.thermo.ThermoDatabase()\n",
    "ark_thermo_database.libraries[THERMO_LIB_NAME] = rmgpy.data.thermo.ThermoLibrary()\n",
    "ark_thermo_database.libraries[THERMO_LIB_NAME].label = THERMO_LIB_NAME\n",
    "ark_thermo_database.libraries[THERMO_LIB_NAME].entries = OrderedDict()\n",
    "for i, species in enumerate(species_list):\n",
    "    \n",
    "    entry = rmgpy.data.base.Entry()\n",
    "    entry.index = i\n",
    "    entry.label = species.label\n",
    "    entry.item = species.molecule[0]\n",
    "    entry.data = species.thermo\n",
    "    \n",
    "    ark_thermo_database.libraries[THERMO_LIB_NAME].entries[entry.label] = entry\n",
    "    "
   ]
  },
  {
   "cell_type": "code",
   "execution_count": 5,
   "id": "9f58abff",
   "metadata": {},
   "outputs": [],
   "source": [
    "# save the results\n",
    "ark_thermo_database.save_libraries(THERMO_LIB_NAME)"
   ]
  },
  {
   "cell_type": "code",
   "execution_count": 6,
   "id": "0fd8eb08",
   "metadata": {},
   "outputs": [
    {
     "name": "stdout",
     "output_type": "stream",
     "text": [
      "127 entries loaded\n"
     ]
    }
   ],
   "source": [
    "# try reading to test\n",
    "# Load the new thermo library\n",
    "\n",
    "thermo_lib = os.path.join(THERMO_LIB_NAME)\n",
    "ark_thermo_database = rmgpy.data.thermo.ThermoDatabase()\n",
    "ark_thermo_database.load_libraries(thermo_lib)\n",
    "\n",
    "print(f'{len(ark_thermo_database.libraries[THERMO_LIB_NAME].entries)} entries loaded')\n"
   ]
  },
  {
   "cell_type": "code",
   "execution_count": null,
   "id": "b1f9ccb6",
   "metadata": {},
   "outputs": [],
   "source": []
  },
  {
   "cell_type": "code",
   "execution_count": null,
   "id": "9356b0b9",
   "metadata": {},
   "outputs": [],
   "source": []
  },
  {
   "cell_type": "markdown",
   "id": "2783e88a",
   "metadata": {},
   "source": [
    "# Add kinetics (won't be able to read if duplicates)"
   ]
  },
  {
   "cell_type": "code",
   "execution_count": 7,
   "id": "e61e4711",
   "metadata": {},
   "outputs": [],
   "source": [
    "# compile it all into a single database and a single library which I'll call harris_butane\n",
    "ark_kinetics_database = rmgpy.data.kinetics.KineticsDatabase()\n",
    "ark_kinetics_database.libraries[KINETICS_LIB_NAME] = rmgpy.data.kinetics.KineticsLibrary()\n",
    "ark_kinetics_database.libraries[KINETICS_LIB_NAME].label = KINETICS_LIB_NAME\n",
    "ark_kinetics_database.libraries[KINETICS_LIB_NAME].name = KINETICS_LIB_NAME\n",
    "ark_kinetics_database.libraries[KINETICS_LIB_NAME].entries = OrderedDict()\n",
    "for i, reaction in enumerate(reaction_list):\n",
    "\n",
    "    entry = rmgpy.data.base.Entry()\n",
    "    entry.index = i\n",
    "    if not reaction.label:\n",
    "        entry.label = reaction.to_labeled_str()\n",
    "    else:\n",
    "        entry.label = reaction.label\n",
    "    entry.item = reaction\n",
    "    entry.data = reaction.kinetics\n",
    "    \n",
    "    \n",
    "    ark_kinetics_database.libraries[KINETICS_LIB_NAME].entries[entry.label] = entry"
   ]
  },
  {
   "cell_type": "code",
   "execution_count": 8,
   "id": "110620ae",
   "metadata": {},
   "outputs": [],
   "source": [
    "# save the results\n",
    "ark_kinetics_database.save_libraries(KINETICS_LIB_NAME)"
   ]
  },
  {
   "cell_type": "code",
   "execution_count": 10,
   "id": "6493ce45",
   "metadata": {},
   "outputs": [
    {
     "name": "stderr",
     "output_type": "stream",
     "text": [
      "ERROR:root:Problem loading reaction library 'my_kinetics_lib/my_kinetics_lib/reactions.py'\n"
     ]
    },
    {
     "ename": "DatabaseError",
     "evalue": "Unexpected duplicate reaction CH2CHO + CH2CHO <=> CH2CO + CH3CHO in kinetics library my_kinetics_lib. Reaction index 542 matches index 393.",
     "output_type": "error",
     "traceback": [
      "\u001b[0;31m---------------------------------------------------------------------------\u001b[0m",
      "\u001b[0;31mDatabaseError\u001b[0m                             Traceback (most recent call last)",
      "\u001b[0;32m/tmp/ipykernel_36967/764134370.py\u001b[0m in \u001b[0;36m<module>\u001b[0;34m\u001b[0m\n\u001b[1;32m      2\u001b[0m \u001b[0mkinetics_lib\u001b[0m \u001b[0;34m=\u001b[0m \u001b[0mos\u001b[0m\u001b[0;34m.\u001b[0m\u001b[0mpath\u001b[0m\u001b[0;34m.\u001b[0m\u001b[0mjoin\u001b[0m\u001b[0;34m(\u001b[0m\u001b[0mKINETICS_LIB_NAME\u001b[0m\u001b[0;34m)\u001b[0m\u001b[0;34m\u001b[0m\u001b[0;34m\u001b[0m\u001b[0m\n\u001b[1;32m      3\u001b[0m \u001b[0mark_kinetics_database\u001b[0m \u001b[0;34m=\u001b[0m \u001b[0mrmgpy\u001b[0m\u001b[0;34m.\u001b[0m\u001b[0mdata\u001b[0m\u001b[0;34m.\u001b[0m\u001b[0mkinetics\u001b[0m\u001b[0;34m.\u001b[0m\u001b[0mKineticsDatabase\u001b[0m\u001b[0;34m(\u001b[0m\u001b[0;34m)\u001b[0m\u001b[0;34m\u001b[0m\u001b[0;34m\u001b[0m\u001b[0m\n\u001b[0;32m----> 4\u001b[0;31m \u001b[0mark_kinetics_database\u001b[0m\u001b[0;34m.\u001b[0m\u001b[0mload_libraries\u001b[0m\u001b[0;34m(\u001b[0m\u001b[0mkinetics_lib\u001b[0m\u001b[0;34m)\u001b[0m\u001b[0;34m\u001b[0m\u001b[0;34m\u001b[0m\u001b[0m\n\u001b[0m\u001b[1;32m      5\u001b[0m \u001b[0;31m# print(ark_kinetics_database.libraries)\u001b[0m\u001b[0;34m\u001b[0m\u001b[0;34m\u001b[0m\u001b[0;34m\u001b[0m\u001b[0m\n\u001b[1;32m      6\u001b[0m \u001b[0mprint\u001b[0m\u001b[0;34m(\u001b[0m\u001b[0;34mf'{len(ark_kinetics_database.libraries[KINETICS_LIB_NAME].entries)} entries loaded'\u001b[0m\u001b[0;34m)\u001b[0m\u001b[0;34m\u001b[0m\u001b[0;34m\u001b[0m\u001b[0m\n",
      "\u001b[0;32m~/rmg/RMG-Py/rmgpy/data/kinetics/database.py\u001b[0m in \u001b[0;36mload_libraries\u001b[0;34m(self, path, libraries)\u001b[0m\n\u001b[1;32m    258\u001b[0m                         \u001b[0mlibrary\u001b[0m \u001b[0;34m=\u001b[0m \u001b[0mKineticsLibrary\u001b[0m\u001b[0;34m(\u001b[0m\u001b[0mlabel\u001b[0m\u001b[0;34m=\u001b[0m\u001b[0mlabel\u001b[0m\u001b[0;34m)\u001b[0m\u001b[0;34m\u001b[0m\u001b[0;34m\u001b[0m\u001b[0m\n\u001b[1;32m    259\u001b[0m                         \u001b[0;32mtry\u001b[0m\u001b[0;34m:\u001b[0m\u001b[0;34m\u001b[0m\u001b[0;34m\u001b[0m\u001b[0m\n\u001b[0;32m--> 260\u001b[0;31m                             \u001b[0mlibrary\u001b[0m\u001b[0;34m.\u001b[0m\u001b[0mload\u001b[0m\u001b[0;34m(\u001b[0m\u001b[0mlibrary_file\u001b[0m\u001b[0;34m,\u001b[0m \u001b[0mself\u001b[0m\u001b[0;34m.\u001b[0m\u001b[0mlocal_context\u001b[0m\u001b[0;34m,\u001b[0m \u001b[0mself\u001b[0m\u001b[0;34m.\u001b[0m\u001b[0mglobal_context\u001b[0m\u001b[0;34m)\u001b[0m\u001b[0;34m\u001b[0m\u001b[0;34m\u001b[0m\u001b[0m\n\u001b[0m\u001b[1;32m    261\u001b[0m                         \u001b[0;32mexcept\u001b[0m\u001b[0;34m:\u001b[0m\u001b[0;34m\u001b[0m\u001b[0;34m\u001b[0m\u001b[0m\n\u001b[1;32m    262\u001b[0m                             \u001b[0mlogging\u001b[0m\u001b[0;34m.\u001b[0m\u001b[0merror\u001b[0m\u001b[0;34m(\u001b[0m\u001b[0;34m\"Problem loading reaction library {0!r}\"\u001b[0m\u001b[0;34m.\u001b[0m\u001b[0mformat\u001b[0m\u001b[0;34m(\u001b[0m\u001b[0mlibrary_file\u001b[0m\u001b[0;34m)\u001b[0m\u001b[0;34m)\u001b[0m\u001b[0;34m\u001b[0m\u001b[0;34m\u001b[0m\u001b[0m\n",
      "\u001b[0;32m~/rmg/RMG-Py/rmgpy/data/kinetics/library.py\u001b[0m in \u001b[0;36mload\u001b[0;34m(self, path, local_context, global_context)\u001b[0m\n\u001b[1;32m    520\u001b[0m \u001b[0;34m\u001b[0m\u001b[0m\n\u001b[1;32m    521\u001b[0m         \u001b[0;32mif\u001b[0m \u001b[0;32mnot\u001b[0m \u001b[0mself\u001b[0m\u001b[0;34m.\u001b[0m\u001b[0mauto_generated\u001b[0m\u001b[0;34m:\u001b[0m\u001b[0;34m\u001b[0m\u001b[0;34m\u001b[0m\u001b[0m\n\u001b[0;32m--> 522\u001b[0;31m             \u001b[0mself\u001b[0m\u001b[0;34m.\u001b[0m\u001b[0mcheck_for_duplicates\u001b[0m\u001b[0;34m(\u001b[0m\u001b[0;34m)\u001b[0m\u001b[0;34m\u001b[0m\u001b[0;34m\u001b[0m\u001b[0m\n\u001b[0m\u001b[1;32m    523\u001b[0m             \u001b[0mself\u001b[0m\u001b[0;34m.\u001b[0m\u001b[0mconvert_duplicates_to_multi\u001b[0m\u001b[0;34m(\u001b[0m\u001b[0;34m)\u001b[0m\u001b[0;34m\u001b[0m\u001b[0;34m\u001b[0m\u001b[0m\n\u001b[1;32m    524\u001b[0m \u001b[0;34m\u001b[0m\u001b[0m\n",
      "\u001b[0;32m~/rmg/RMG-Py/rmgpy/data/kinetics/library.py\u001b[0m in \u001b[0;36mcheck_for_duplicates\u001b[0;34m(self, mark_duplicates)\u001b[0m\n\u001b[1;32m    323\u001b[0m                         raise DatabaseError('Unexpected duplicate reaction {0} in kinetics library {1}. '\n\u001b[1;32m    324\u001b[0m                                             \u001b[0;34m'Reaction index {2} matches index {3}.'\u001b[0m\u001b[0;34m\u001b[0m\u001b[0;34m\u001b[0m\u001b[0m\n\u001b[0;32m--> 325\u001b[0;31m                                             .format(reaction0, self.label, entry.index, entry0.index))\n\u001b[0m\u001b[1;32m    326\u001b[0m \u001b[0;34m\u001b[0m\u001b[0m\n\u001b[1;32m    327\u001b[0m     \u001b[0;32mdef\u001b[0m \u001b[0mconvert_duplicates_to_multi\u001b[0m\u001b[0;34m(\u001b[0m\u001b[0mself\u001b[0m\u001b[0;34m)\u001b[0m\u001b[0;34m:\u001b[0m\u001b[0;34m\u001b[0m\u001b[0;34m\u001b[0m\u001b[0m\n",
      "\u001b[0;31mDatabaseError\u001b[0m: Unexpected duplicate reaction CH2CHO + CH2CHO <=> CH2CO + CH3CHO in kinetics library my_kinetics_lib. Reaction index 542 matches index 393."
     ]
    }
   ],
   "source": [
    "# read the results again\n",
    "kinetics_lib = os.path.join(KINETICS_LIB_NAME)\n",
    "ark_kinetics_database = rmgpy.data.kinetics.KineticsDatabase()\n",
    "ark_kinetics_database.load_libraries(kinetics_lib)\n",
    "\n",
    "print(f'{len(ark_kinetics_database.libraries[KINETICS_LIB_NAME].entries)} entries loaded')\n"
   ]
  },
  {
   "cell_type": "code",
   "execution_count": null,
   "id": "88e5a2aa",
   "metadata": {},
   "outputs": [],
   "source": []
  },
  {
   "cell_type": "code",
   "execution_count": null,
   "id": "e0eef977",
   "metadata": {},
   "outputs": [],
   "source": []
  }
 ],
 "metadata": {
  "kernelspec": {
   "display_name": "Python 3 (ipykernel)",
   "language": "python",
   "name": "python3"
  },
  "language_info": {
   "codemirror_mode": {
    "name": "ipython",
    "version": 3
   },
   "file_extension": ".py",
   "mimetype": "text/x-python",
   "name": "python",
   "nbconvert_exporter": "python",
   "pygments_lexer": "ipython3",
   "version": "3.7.16"
  }
 },
 "nbformat": 4,
 "nbformat_minor": 5
}
