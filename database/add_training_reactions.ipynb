{
 "cells": [
  {
   "cell_type": "code",
   "execution_count": null,
   "id": "94dfbc88",
   "metadata": {},
   "outputs": [],
   "source": [
    "# script to add training reactions to a training reactions reaction.py and dictionary.txt"
   ]
  },
  {
   "cell_type": "code",
   "execution_count": 1,
   "id": "756626b7",
   "metadata": {},
   "outputs": [],
   "source": [
    "import os\n",
    "import numpy as np\n",
    "import matplotlib.pyplot as plt\n",
    "import rmgpy.data.thermo\n",
    "import rmgpy.data.kinetics\n",
    "import rmgpy.reaction\n",
    "import rmgpy.species\n",
    "import rmgpy\n",
    "\n",
    "import rmgpy.chemkin"
   ]
  },
  {
   "cell_type": "code",
   "execution_count": 2,
   "id": "de9f1d5d",
   "metadata": {},
   "outputs": [],
   "source": [
    "def duplicate_exists(test_entry):\n",
    "    for entry in training_depo.entries:\n",
    "        if training_depo.entries[entry].item.is_isomorphic(test_entry.item):\n",
    "            return True\n",
    "    return False"
   ]
  },
  {
   "cell_type": "code",
   "execution_count": 3,
   "id": "64cafb68",
   "metadata": {},
   "outputs": [
    {
     "name": "stdout",
     "output_type": "stream",
     "text": [
      "48 new reactions loaded\n"
     ]
    }
   ],
   "source": [
    "# load the new training reactions\n",
    "new_training_rxns = 'new_kinetics'  # path to training reactions\n",
    "ark_kinetics_database = rmgpy.data.kinetics.KineticsDatabase()\n",
    "ark_kinetics_database.load_libraries(new_training_rxns)\n",
    "print(f'{len(ark_kinetics_database.libraries[\"\"].entries)} new reactions loaded')"
   ]
  },
  {
   "cell_type": "code",
   "execution_count": null,
   "id": "e6f191f6",
   "metadata": {},
   "outputs": [],
   "source": []
  },
  {
   "cell_type": "code",
   "execution_count": 4,
   "id": "2ce1c1ec",
   "metadata": {},
   "outputs": [
    {
     "name": "stdout",
     "output_type": "stream",
     "text": [
      "193 training reactions\n"
     ]
    }
   ],
   "source": [
    "# Load Kinetics Database (quick, automatically loads recommended families)\n",
    "family = 'Disproportionation'\n",
    "ref_library_path = os.path.join(rmgpy.settings['database.directory'], 'kinetics')\n",
    "ref_database = rmgpy.data.kinetics.KineticsDatabase()\n",
    "ref_database.load(\n",
    "    ref_library_path,\n",
    "    libraries=[],\n",
    "    families=[family]\n",
    ")\n",
    "training_depo = ref_database.families[family].get_training_depository()\n",
    "print(len(training_depo.entries), 'training reactions')"
   ]
  },
  {
   "cell_type": "code",
   "execution_count": 5,
   "id": "88ea8dc5",
   "metadata": {},
   "outputs": [],
   "source": [
    "species_dict = training_depo.get_species(os.path.join(rmgpy.settings['database.directory'], 'kinetics', 'families', family, 'training', 'dictionary.txt'))"
   ]
  },
  {
   "cell_type": "code",
   "execution_count": 6,
   "id": "ed113965",
   "metadata": {},
   "outputs": [],
   "source": [
    "def get_species(sp):\n",
    "    # look for the species in the training depo and return it if it already exists\n",
    "    for key in species_dict.keys():\n",
    "        if sp.is_isomorphic(species_dict[key]):\n",
    "            return species_dict[key]"
   ]
  },
  {
   "cell_type": "code",
   "execution_count": null,
   "id": "a4025921",
   "metadata": {},
   "outputs": [],
   "source": [
    "# ark_kinetics_database.libraries[\"\"].entries[entry].item.reactants[0].label"
   ]
  },
  {
   "cell_type": "code",
   "execution_count": 7,
   "id": "884da923",
   "metadata": {},
   "outputs": [
    {
     "name": "stdout",
     "output_type": "stream",
     "text": [
      "{'*1': <Atom 'C.'>}\n",
      "{'*2': <Atom 'C'>, '*3': <Atom 'C.'>, '*4': <Atom 'H'>}\n",
      "{'*2': <Atom 'C'>, '*3': <Atom 'C.'>, '*4': <Atom 'H'>}\n",
      "{'*1': <Atom 'C..'>}\n",
      "{'*1': <Atom 'H.'>}\n",
      "{'*1': <Atom 'C.'>}\n",
      "{'*2': <Atom 'C'>, '*3': <Atom 'C.'>, '*4': <Atom 'H'>}\n",
      "{'*1': <Atom 'C.'>}\n",
      "{'*1': <Atom 'C.'>}\n",
      "{'*2': <Atom 'C'>, '*3': <Atom 'C.'>, '*4': <Atom 'H'>}\n",
      "{'*2': <Atom 'C'>, '*3': <Atom 'C.'>, '*4': <Atom 'H'>}\n",
      "{'*1': <Atom 'C.'>}\n",
      "{'*1': <Atom 'C.'>}\n",
      "{'*1': <Atom 'O.'>}\n",
      "{'*1': <Atom 'H.'>}\n",
      "{'*2': <Atom 'C'>, '*3': <Atom 'C.'>, '*4': <Atom 'H'>}\n",
      "{'*1': <Atom 'C..'>}\n",
      "{'*1': <Atom 'S.'>}\n",
      "{'*1': <Atom 'H.'>}\n",
      "{'*1': <Atom 'C.'>}\n",
      "{'*1': <Atom 'C.'>}\n",
      "{'*2': <Atom 'C'>, '*3': <Atom 'C.'>, '*4': <Atom 'H'>}\n",
      "{'*1': <Atom 'C.'>}\n",
      "{'*1': <Atom 'C.'>}\n",
      "{'*1': <Atom 'S.'>}\n",
      "{'*1': <Atom 'C.'>}\n",
      "{'*2': <Atom 'C'>, '*3': <Atom 'C.'>, '*4': <Atom 'H'>}\n",
      "{'*2': <Atom 'C'>, '*3': <Atom 'C.'>, '*4': <Atom 'H'>}\n",
      "{'*2': <Atom 'C'>, '*3': <Atom 'C.'>, '*4': <Atom 'H'>}\n",
      "{'*1': <Atom 'C.'>}\n",
      "{'*1': <Atom 'S.'>}\n",
      "{'*1': <Atom 'C.'>}\n",
      "{'*1': <Atom 'S.'>}\n",
      "{'*1': <Atom 'O.'>}\n",
      "{'*2': <Atom 'C'>, '*3': <Atom 'C.'>, '*4': <Atom 'H'>}\n",
      "{'*1': <Atom 'C.'>}\n",
      "{'*1': <Atom 'H.'>}\n",
      "{'*1': <Atom 'C.'>}\n",
      "{'*2': <Atom 'C'>, '*3': <Atom 'C.'>, '*4': <Atom 'H'>}\n",
      "{'*1': <Atom 'C.'>}\n",
      "{'*1': <Atom 'C.'>}\n",
      "{'*2': <Atom 'C'>, '*3': <Atom 'C.'>, '*4': <Atom 'H'>}\n",
      "{'*2': <Atom 'C'>, '*3': <Atom 'C.'>, '*4': <Atom 'H'>}\n",
      "{'*1': <Atom 'C.'>}\n",
      "{'*1': <Atom 'O.'>}\n",
      "{'*2': <Atom 'C'>, '*3': <Atom 'C.'>, '*4': <Atom 'H'>}\n",
      "{'*1': <Atom 'C.'>}\n",
      "{'*2': <Atom 'C'>, '*3': <Atom 'C.'>, '*4': <Atom 'H'>}\n",
      "{'*1': <Atom 'C.'>}\n",
      "{'*2': <Atom 'C'>, '*3': <Atom 'C.'>, '*4': <Atom 'H'>}\n",
      "{'*2': <Atom 'C'>, '*3': <Atom 'C.'>, '*4': <Atom 'H'>}\n",
      "{'*1': <Atom 'C.'>}\n",
      "{'*1': <Atom 'O.'>}\n",
      "{'*3': <Atom 'C.'>, '*2': <Atom 'O'>, '*4': <Atom 'H'>}\n",
      "{'*3': <Atom 'C.'>, '*2': <Atom 'O'>, '*4': <Atom 'H'>}\n",
      "{'*1': <Atom 'C..'>}\n",
      "{'*1': <Atom 'H.'>}\n",
      "{'*3': <Atom 'C.'>, '*2': <Atom 'O'>, '*4': <Atom 'H'>}\n",
      "{'*3': <Atom 'C.'>, '*2': <Atom 'O'>, '*4': <Atom 'H'>}\n",
      "{'*3': <Atom 'C.'>, '*2': <Atom 'O'>, '*4': <Atom 'H'>}\n",
      "{'*1': <Atom 'C.'>}\n",
      "{'*3': <Atom 'C.'>, '*2': <Atom 'O'>, '*4': <Atom 'H'>}\n",
      "{'*3': <Atom 'C.'>, '*2': <Atom 'O'>, '*4': <Atom 'H'>}\n",
      "{'*3': <Atom 'C.'>, '*2': <Atom 'O'>, '*4': <Atom 'H'>}\n",
      "{'*1': <Atom 'C.'>}\n",
      "{'*1': <Atom 'O.'>}\n",
      "{'*3': <Atom 'C.'>, '*2': <Atom 'O'>, '*4': <Atom 'H'>}\n",
      "{'*1': <Atom 'O.'>}\n",
      "{'*1': <Atom 'S.'>}\n",
      "{'*1': <Atom 'C.'>}\n",
      "{'*2': <Atom 'C'>, '*3': <Atom 'C.'>, '*4': <Atom 'H'>}\n",
      "{'*2': <Atom 'C'>, '*3': <Atom 'C.'>, '*4': <Atom 'H'>}\n",
      "{'*2': <Atom 'C'>, '*3': <Atom 'C.'>, '*4': <Atom 'H'>}\n",
      "{'*2': <Atom 'C'>, '*3': <Atom 'C.'>, '*4': <Atom 'H'>}\n",
      "{'*2': <Atom 'C'>, '*3': <Atom 'C.'>, '*4': <Atom 'H'>}\n",
      "{'*2': <Atom 'C'>, '*3': <Atom 'C.'>, '*4': <Atom 'H'>}\n",
      "{'*2': <Atom 'C'>, '*3': <Atom 'C.'>, '*4': <Atom 'H'>}\n",
      "{'*2': <Atom 'O'>, '*3': <Atom 'O.'>, '*4': <Atom 'H'>}\n",
      "{'*2': <Atom 'N'>, '*3': <Atom 'N.'>, '*4': <Atom 'H'>}\n",
      "{'*1': <Atom 'H.'>}\n",
      "{'*1': <Atom 'O.'>}\n",
      "{'*2': <Atom 'N'>, '*3': <Atom 'N.'>, '*4': <Atom 'H'>}\n",
      "{'*1': <Atom 'N.'>}\n",
      "{'*1': <Atom 'O.'>}\n",
      "{'*2': <Atom 'N'>, '*3': <Atom 'N.'>, '*4': <Atom 'H'>}\n",
      "{'*1': <Atom 'H.'>}\n",
      "{'*2': <Atom 'N'>, '*3': <Atom 'N..'>, '*4': <Atom 'H'>}\n",
      "{'*1': <Atom 'O.'>}\n",
      "{'*2': <Atom 'N'>, '*3': <Atom 'N..'>, '*4': <Atom 'H'>}\n",
      "{'*1': <Atom 'N.'>}\n",
      "{'*1': <Atom 'O.'>}\n",
      "{'*1': <Atom 'H.'>}\n",
      "{'*2': <Atom 'N'>, '*3': <Atom 'N.'>, '*4': <Atom 'H'>}\n",
      "{'*1': <Atom 'O.'>}\n",
      "{'*2': <Atom 'N'>, '*3': <Atom 'N.'>, '*4': <Atom 'H'>}\n",
      "{'*1': <Atom 'N.'>}\n",
      "{'*1': <Atom 'O.'>}\n",
      "{'*2': <Atom 'O'>, '*3': <Atom 'O.'>, '*4': <Atom 'H'>}\n",
      "{'*1': <Atom 'H.'>}\n",
      "{'*3': <Atom 'O.'>, '*2': <Atom 'N'>, '*4': <Atom 'H'>}\n",
      "{'*1': <Atom 'O.'>}\n",
      "{'*3': <Atom 'O.'>, '*2': <Atom 'N'>, '*4': <Atom 'H'>}\n",
      "{'*1': <Atom 'N.'>}\n",
      "{'*1': <Atom 'O.'>}\n",
      "{'*2': <Atom 'O'>, '*3': <Atom 'O.'>, '*4': <Atom 'H'>}\n",
      "{'*1': <Atom 'H.'>}\n",
      "{'*2': <Atom 'O'>, '*3': <Atom 'N.'>, '*4': <Atom 'H'>}\n",
      "{'*1': <Atom 'O.'>}\n",
      "{'*2': <Atom 'O'>, '*3': <Atom 'N.'>, '*4': <Atom 'H'>}\n",
      "{'*1': <Atom 'N.'>}\n",
      "{'*1': <Atom 'O.'>}\n",
      "{'*2': <Atom 'O'>, '*3': <Atom 'O.'>, '*4': <Atom 'H'>}\n",
      "{'*1': <Atom 'O.'>}\n",
      "{'*2': <Atom 'O'>, '*3': <Atom 'O.'>, '*4': <Atom 'H'>}\n",
      "{'*1': <Atom 'C.'>}\n",
      "{'*1': <Atom 'O.'>}\n",
      "{'*1': <Atom 'H.'>}\n",
      "{'*1': <Atom 'N.'>}\n",
      "{'*3': <Atom 'N.'>, '*2': <Atom 'C'>, '*4': <Atom 'H'>}\n",
      "{'*1': <Atom 'H.'>}\n",
      "{'*2': <Atom 'N'>, '*3': <Atom 'C.'>, '*4': <Atom 'H'>}\n",
      "{'*1': <Atom 'O.'>}\n",
      "{'*2': <Atom 'N'>, '*3': <Atom 'C.'>, '*4': <Atom 'H'>}\n",
      "{'*1': <Atom 'H.'>}\n",
      "{'*3': <Atom 'N.'>, '*2': <Atom 'C'>, '*4': <Atom 'H'>}\n",
      "{'*1': <Atom 'O.'>}\n",
      "{'*3': <Atom 'N.'>, '*2': <Atom 'C'>, '*4': <Atom 'H'>}\n",
      "{'*1': <Atom 'H.'>}\n",
      "{'*2': <Atom 'N'>, '*3': <Atom 'C.'>, '*4': <Atom 'H'>}\n",
      "{'*1': <Atom 'O.'>}\n",
      "{'*1': <Atom 'C.'>}\n",
      "{'*1': <Atom 'H.'>}\n",
      "{'*1': <Atom 'O.'>}\n",
      "{'*1': <Atom 'C.'>}\n",
      "{'*1': <Atom 'N.'>}\n",
      "{'*1': <Atom 'C.'>}\n",
      "{'*2': <Atom 'C'>, '*3': <Atom 'C.'>, '*4': <Atom 'H'>}\n",
      "{'*2': <Atom 'C'>, '*3': <Atom 'C.'>, '*4': <Atom 'H'>}\n",
      "{'*1': <Atom 'C.'>}\n",
      "{}\n",
      "{}\n",
      "{}\n",
      "{}\n",
      "{}\n",
      "{}\n",
      "{}\n",
      "{}\n",
      "{}\n",
      "{'*3': <Atom 'O.'>, '*2': <Atom 'C'>, '*4': <Atom 'H'>}\n",
      "{}\n",
      "{'*1': <Atom 'C.'>}\n",
      "{'*1': <Atom 'C.'>}\n",
      "{}\n",
      "{'*1': <Atom 'C.'>}\n",
      "{'*1': <Atom 'C.'>}\n",
      "{'*1': <Atom 'C.'>}\n",
      "{'*1': <Atom 'C.'>}\n",
      "{'*1': <Atom 'C.'>}\n",
      "{'*1': <Atom 'C.'>}\n",
      "{'*1': <Atom 'C.'>}\n",
      "{'*1': <Atom 'C.'>}\n",
      "{'*1': <Atom 'C.'>}\n",
      "{'*1': <Atom 'C.'>}\n",
      "{}\n",
      "{}\n",
      "{'*1': <Atom 'C.'>}\n",
      "{}\n",
      "{}\n",
      "{}\n",
      "{}\n",
      "{}\n",
      "{}\n",
      "{'*1': <Atom 'C.'>}\n",
      "{}\n",
      "{}\n",
      "{'*2': <Atom 'C'>, '*3': <Atom 'C.'>, '*4': <Atom 'H'>}\n",
      "{}\n",
      "{}\n",
      "{}\n",
      "{}\n",
      "{'*1': <Atom 'C.'>}\n",
      "{'*1': <Atom 'C.'>}\n",
      "{}\n",
      "{}\n",
      "{}\n",
      "{}\n",
      "{}\n",
      "{}\n",
      "{}\n",
      "{}\n",
      "{}\n",
      "{}\n",
      "{}\n"
     ]
    }
   ],
   "source": [
    "for entry in training_depo.entries:\n",
    "    print(training_depo.entries[entry].item.reactants[0].molecule[0].get_all_labeled_atoms())"
   ]
  },
  {
   "cell_type": "code",
   "execution_count": null,
   "id": "2c712b32",
   "metadata": {},
   "outputs": [],
   "source": []
  },
  {
   "cell_type": "code",
   "execution_count": null,
   "id": "6df6a072",
   "metadata": {},
   "outputs": [],
   "source": [
    "# go through the new training reactions and make sure they use existing species dictionary definition\n",
    "for entry in ark_kinetics_database.libraries[\"\"].entries:\n",
    "    for i in range(0, len(ark_kinetics_database.libraries[\"\"].entries[entry].item.reactants)):\n",
    "        old_reactant_name = ark_kinetics_database.libraries[\"\"].entries[entry].item.reactants[i].label\n",
    "        official_sp = get_species(ark_kinetics_database.libraries[\"\"].entries[entry].item.reactants[i])\n",
    "        if official_sp:\n",
    "            ark_kinetics_database.libraries[\"\"].entries[entry].item.reactants[i] = official_sp\n",
    "            ark_kinetics_database.libraries[\"\"].entries[entry].label = ark_kinetics_database.libraries[\"\"].entries[entry].label.replace(\n",
    "                old_reactant_name,\n",
    "                official_sp.label\n",
    "            )\n",
    "\n",
    "    for i in range(0, len(ark_kinetics_database.libraries[\"\"].entries[entry].item.products)):\n",
    "        old_product_name = ark_kinetics_database.libraries[\"\"].entries[entry].item.products[i].label\n",
    "        official_sp = get_species(ark_kinetics_database.libraries[\"\"].entries[entry].item.products[i])\n",
    "        if official_sp:\n",
    "            ark_kinetics_database.libraries[\"\"].entries[entry].item.products[i] = official_sp\n",
    "            ark_kinetics_database.libraries[\"\"].entries[entry].label = ark_kinetics_database.libraries[\"\"].entries[entry].label.replace(\n",
    "                old_product_name,\n",
    "                official_sp.label\n",
    "            )\n"
   ]
  },
  {
   "cell_type": "code",
   "execution_count": null,
   "id": "a4500c98",
   "metadata": {},
   "outputs": [],
   "source": []
  },
  {
   "cell_type": "code",
   "execution_count": null,
   "id": "978cc194",
   "metadata": {},
   "outputs": [],
   "source": [
    "# # need to convert the entry.item to an actual reaction instead of an entry\n",
    "# for i, entry in enumerate(ark_kinetics_database.libraries[''].entries):\n",
    "#     products = ark_kinetics_database.libraries[''].entries[entry].item.products\n",
    "#     reactants = ark_kinetics_database.libraries[''].entries[entry].item.reactants\n",
    "#     kinetics = ark_kinetics_database.libraries[''].entries[entry].item.kinetics\n",
    "#     ark_kinetics_database.libraries[''].entries[entry].item = rmgpy.reaction.Reaction()\n",
    "#     ark_kinetics_database.libraries[''].entries[entry].item.products = products\n",
    "#     ark_kinetics_database.libraries[''].entries[entry].item.reactants = reactants\n",
    "#     ark_kinetics_database.libraries[''].entries[entry].item.kinetics = kinetics"
   ]
  },
  {
   "cell_type": "code",
   "execution_count": null,
   "id": "a024548e",
   "metadata": {
    "scrolled": true
   },
   "outputs": [],
   "source": [
    "for i, entry in enumerate(ark_kinetics_database.libraries[''].entries):\n",
    "    print(type(ark_kinetics_database.libraries[''].entries[entry].item))\n",
    "    break"
   ]
  },
  {
   "cell_type": "code",
   "execution_count": null,
   "id": "604982cf",
   "metadata": {},
   "outputs": [],
   "source": [
    "for entry in training_depo.entries:\n",
    "    print(type(training_depo.entries[entry].item))\n",
    "    break"
   ]
  },
  {
   "cell_type": "code",
   "execution_count": null,
   "id": "0b50da60",
   "metadata": {},
   "outputs": [],
   "source": [
    "ark_kinetics_database.libraries[''].entries[213].item"
   ]
  },
  {
   "cell_type": "code",
   "execution_count": null,
   "id": "fc06f586",
   "metadata": {},
   "outputs": [],
   "source": [
    "rmgpy.reaction.Reaction(ark_kinetics_database.libraries[''].entries[213].item)"
   ]
  },
  {
   "cell_type": "code",
   "execution_count": null,
   "id": "99c482ec",
   "metadata": {},
   "outputs": [],
   "source": []
  },
  {
   "cell_type": "code",
   "execution_count": null,
   "id": "0583caeb",
   "metadata": {},
   "outputs": [],
   "source": []
  },
  {
   "cell_type": "code",
   "execution_count": null,
   "id": "304140bc",
   "metadata": {},
   "outputs": [],
   "source": [
    "# Splice the new training reactions into the training depo\n",
    "index_start = 100\n",
    "\n",
    "for i, entry in enumerate(ark_kinetics_database.libraries[''].entries):\n",
    "    \n",
    "    if duplicate_exists(ark_kinetics_database.libraries[''].entries[entry]):\n",
    "        continue\n",
    "    if ark_kinetics_database.libraries[''].entries[entry].item.elementary_high_p:\n",
    "        # manual fix to this issue: https://github.com/ReactionMechanismGenerator/RMG-Py/issues/2341\n",
    "        ark_kinetics_database.libraries[''].entries[entry].item.elementary_high_p = False\n",
    "    \n",
    "    j = index_start + i\n",
    "    while j in training_depo.entries.keys():\n",
    "        j += 1\n",
    "        continue\n",
    "#     print(j, ark_kinetics_database.libraries[''].entries[entry])\n",
    "    training_depo.entries[j] = ark_kinetics_database.libraries[''].entries[entry]\n",
    "print(len(training_depo.entries), 'training reactions')"
   ]
  },
  {
   "cell_type": "code",
   "execution_count": null,
   "id": "33409b50",
   "metadata": {},
   "outputs": [],
   "source": [
    "for entry in training_depo.entries:\n",
    "    print(training_depo.entries[entry].item.reactants[0].molecule[0].get_all_labeled_atoms())"
   ]
  },
  {
   "cell_type": "code",
   "execution_count": null,
   "id": "3e9a291d",
   "metadata": {
    "scrolled": true
   },
   "outputs": [],
   "source": [
    "dir(training_depo.entries[15].item.reactants[0])"
   ]
  },
  {
   "cell_type": "code",
   "execution_count": null,
   "id": "35253a56",
   "metadata": {},
   "outputs": [],
   "source": [
    "dir(training_depo)"
   ]
  },
  {
   "cell_type": "code",
   "execution_count": null,
   "id": "635cd09f",
   "metadata": {},
   "outputs": [],
   "source": []
  },
  {
   "cell_type": "code",
   "execution_count": null,
   "id": "525d72e4",
   "metadata": {},
   "outputs": [],
   "source": [
    "for key in training_depo.entries:\n",
    "    print(training_depo.entries[key], training_depo.entries[key].long_desc[0:4])"
   ]
  },
  {
   "cell_type": "code",
   "execution_count": null,
   "id": "31d6c047",
   "metadata": {},
   "outputs": [],
   "source": []
  },
  {
   "cell_type": "code",
   "execution_count": null,
   "id": "69f1ab3e",
   "metadata": {},
   "outputs": [],
   "source": [
    "# Save the results somewhere else\n",
    "training_dir = os.path.join(rmgpy.settings['database.directory'], 'kinetics', 'families', family, 'training')\n",
    "training_depo.save_dictionary(os.path.join(training_dir, 'dictionary.txt'))\n",
    "training_depo.save(os.path.join(training_dir, 'reactions.py'))"
   ]
  },
  {
   "cell_type": "code",
   "execution_count": null,
   "id": "6aede948",
   "metadata": {},
   "outputs": [],
   "source": []
  }
 ],
 "metadata": {
  "kernelspec": {
   "display_name": "Python 3 (ipykernel)",
   "language": "python",
   "name": "python3"
  },
  "language_info": {
   "codemirror_mode": {
    "name": "ipython",
    "version": 3
   },
   "file_extension": ".py",
   "mimetype": "text/x-python",
   "name": "python",
   "nbconvert_exporter": "python",
   "pygments_lexer": "ipython3",
   "version": "3.7.12"
  }
 },
 "nbformat": 4,
 "nbformat_minor": 5
}
