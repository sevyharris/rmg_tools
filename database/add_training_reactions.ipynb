{
 "cells": [
  {
   "cell_type": "code",
   "execution_count": null,
   "id": "94dfbc88",
   "metadata": {},
   "outputs": [],
   "source": [
    "# script to add training reactions to a training reactions reaction.py and dictionary.txt"
   ]
  },
  {
   "cell_type": "code",
   "execution_count": 1,
   "id": "756626b7",
   "metadata": {},
   "outputs": [],
   "source": [
    "import os\n",
    "import numpy as np\n",
    "import matplotlib.pyplot as plt\n",
    "\n",
    "import rmgpy.data.thermo\n",
    "import rmgpy.data.kinetics\n",
    "import rmgpy.reaction\n",
    "import rmgpy.species\n",
    "import rmgpy\n",
    "\n",
    "import rmgpy.chemkin"
   ]
  },
  {
   "cell_type": "code",
   "execution_count": 2,
   "id": "de9f1d5d",
   "metadata": {},
   "outputs": [],
   "source": [
    "def duplicate_exists(test_entry):\n",
    "    for entry in training_depo.entries:\n",
    "        if training_depo.entries[entry].item.is_isomorphic(test_entry.item):\n",
    "            return True\n",
    "    return False"
   ]
  },
  {
   "cell_type": "code",
   "execution_count": 3,
   "id": "64cafb68",
   "metadata": {},
   "outputs": [
    {
     "name": "stdout",
     "output_type": "stream",
     "text": [
      "48 new reactions loaded\n"
     ]
    }
   ],
   "source": [
    "# load the new training reactions\n",
    "new_training_rxns = 'new_kinetics'  # path to training reactions\n",
    "ark_kinetics_database = rmgpy.data.kinetics.KineticsDatabase()\n",
    "ark_kinetics_database.load_libraries(new_training_rxns)\n",
    "print(f'{len(ark_kinetics_database.libraries[\"\"].entries)} new reactions loaded')"
   ]
  },
  {
   "cell_type": "code",
   "execution_count": null,
   "id": "ad1c2e96",
   "metadata": {},
   "outputs": [],
   "source": []
  },
  {
   "cell_type": "code",
   "execution_count": 4,
   "id": "2ce1c1ec",
   "metadata": {},
   "outputs": [
    {
     "name": "stdout",
     "output_type": "stream",
     "text": [
      "137 training reactions\n"
     ]
    }
   ],
   "source": [
    "# Load Kinetics Database (quick, automatically loads recommended families)\n",
    "family = 'Disproportionation'\n",
    "ref_library_path = os.path.join(rmgpy.settings['database.directory'], 'kinetics')\n",
    "ref_database = rmgpy.data.kinetics.KineticsDatabase()\n",
    "ref_database.load(\n",
    "    ref_library_path,\n",
    "    libraries=[],\n",
    "    families=[family]\n",
    ")\n",
    "training_depo = ref_database.families[family].get_training_depository()\n",
    "print(len(training_depo.entries), 'training reactions')"
   ]
  },
  {
   "cell_type": "code",
   "execution_count": 5,
   "id": "2e4e387e",
   "metadata": {},
   "outputs": [],
   "source": [
    "species_dict = training_depo.get_species(os.path.join(rmgpy.settings['database.directory'], 'kinetics', 'families', family, 'training', 'dictionary.txt'))"
   ]
  },
  {
   "cell_type": "code",
   "execution_count": null,
   "id": "32d879b1",
   "metadata": {},
   "outputs": [],
   "source": []
  },
  {
   "cell_type": "code",
   "execution_count": 6,
   "id": "74bc3569",
   "metadata": {},
   "outputs": [],
   "source": [
    "def get_species(sp):\n",
    "    # look for the species in the training depo and return it if it already exists\n",
    "    for key in species_dict.keys():\n",
    "        if sp.is_isomorphic(species_dict[key]):\n",
    "            return species_dict[key]"
   ]
  },
  {
   "cell_type": "code",
   "execution_count": 8,
   "id": "4ff6a98f",
   "metadata": {},
   "outputs": [],
   "source": [
    "# go through the new training reactions and make sure they use existing species dictionary definition\n",
    "for entry in ark_kinetics_database.libraries[\"\"].entries:\n",
    "    for i in range(0, len(ark_kinetics_database.libraries[\"\"].entries[entry].item.reactants)):\n",
    "        official_sp = get_species(ark_kinetics_database.libraries[\"\"].entries[entry].item.reactants[i])\n",
    "        if official_sp:\n",
    "            ark_kinetics_database.libraries[\"\"].entries[entry].item.reactants[i] = official_sp\n",
    "\n",
    "    for i in range(0, len(ark_kinetics_database.libraries[\"\"].entries[entry].item.products)):\n",
    "        official_sp = get_species(ark_kinetics_database.libraries[\"\"].entries[entry].item.products[i])\n",
    "        if official_sp:\n",
    "            ark_kinetics_database.libraries[\"\"].entries[entry].item.products[i] = official_sp\n"
   ]
  },
  {
   "cell_type": "code",
   "execution_count": null,
   "id": "550700f2",
   "metadata": {},
   "outputs": [],
   "source": []
  },
  {
   "cell_type": "code",
   "execution_count": 9,
   "id": "304140bc",
   "metadata": {},
   "outputs": [
    {
     "name": "stdout",
     "output_type": "stream",
     "text": [
      "185 training reactions\n"
     ]
    }
   ],
   "source": [
    "# Splice the new training reactions into the training depo\n",
    "index_start = 100\n",
    "\n",
    "for i, entry in enumerate(ark_kinetics_database.libraries[''].entries):\n",
    "    \n",
    "    if duplicate_exists(ark_kinetics_database.libraries[''].entries[entry]):\n",
    "        continue\n",
    "    if ark_kinetics_database.libraries[''].entries[entry].item.elementary_high_p:\n",
    "        # manual fix to this issue: https://github.com/ReactionMechanismGenerator/RMG-Py/issues/2341\n",
    "        ark_kinetics_database.libraries[''].entries[entry].item.elementary_high_p = False\n",
    "    \n",
    "    j = index_start + i\n",
    "    while j in training_depo.entries.keys():\n",
    "        j += 1\n",
    "        continue\n",
    "#     print(j, ark_kinetics_database.libraries[''].entries[entry])\n",
    "    training_depo.entries[j] = ark_kinetics_database.libraries[''].entries[entry]\n",
    "print(len(training_depo.entries), 'training reactions')"
   ]
  },
  {
   "cell_type": "code",
   "execution_count": 10,
   "id": "69f1ab3e",
   "metadata": {},
   "outputs": [
    {
     "name": "stdout",
     "output_type": "stream",
     "text": [
      "CH3CO(20) + HO2(16) <=> H2O2(17) + CH2CO(24)\n",
      "CH2CHO(21) + HO2(16) <=> H2O2(17) + CH2CO(24)\n",
      "SC4H9(183) + HO2(16) <=> H2O2(17) + C4H8(189)\n",
      "SC4H9(183) + HO2(16) <=> H2O2(17) + C4H8(188)\n",
      "SC4H9(183) + HCO(19) <=> CH2O(9) + C4H8(188)\n",
      "SC4H9(183) + CH3CO(20) <=> CH3CHO(35) + C4H8(188)\n",
      "CH3O(31) + C3H5-A(94) <=> C3H6(12) + CH2O(9)\n",
      "SC4H9(183) + C3H5-A(94) <=> C3H6(12) + C4H8(188)\n",
      "C3H5-A(94) + CH2CHO(21) <=> C3H6(12) + CH2CO(24)\n",
      "IC3H7(93) + C4H8(748) <=> SC4H9(183) + C3H6(12)\n",
      "C4H7(190) + CH2CHO(21) <=> C4H8(189) + CH2CO(24)\n",
      "C4H7(190) + CH3O(31) <=> C4H8(189) + CH2O(9)\n",
      "C4H7(190) + SC4H9(183) <=> C4H8(188) + C4H8(189)\n",
      "C4H7(190) + SC4H9(183) <=> C4H8(188) + C4H8(188)\n",
      "C4H7(190) + HO2(16) <=> H2O2(17) + C4H6(194)\n",
      "C4H7(190) + CH3(18) <=> CH4(10) + C4H6(194)\n",
      "C4H7(190) + C4H7(190) <=> C4H8(189) + C4H6(194)\n",
      "C4H7(190) + SC4H9(183) <=> butane(1) + C4H6(194)\n",
      "C4H7(190) + CH2CHO(21) <=> CH3CHO(35) + C4H6(194)\n",
      "C4H7(190) + CH2(23) <=> CH3(18) + C4H6(194)\n",
      "SC4H9(183) + C4H7(191) <=> C4H8(188) + C4H8(188)\n",
      "SC4H9(183) + C4H8(748) <=> butane(1) + C4H7(191)\n",
      "CH3O2(45) + CH2CHO(21) <=> CH3O2H(46) + CH2CO(24)\n",
      "CH3O2(45) + C2H4O(703) <=> CH3O2H(46) + CH2CHO(21)\n",
      "CH3O2(45) + SC4H9(183) <=> CH3O2H(46) + C4H8(189)\n",
      "C4H7(190) + C4H7(192) <=> C4H8(188) + C4H6(194)\n",
      "C3H5O(129) + CH2(23) <=> CH3(18) + C3H4O(74)\n",
      "C4H8(748) + HCO(19) <=> CH2O(9) + C4H7(191)\n",
      "C4H7(191) + C4H8(748) <=> C4H8(188) + C4H7(191)\n",
      "CH3CO(20) + C4H8(748) <=> CH3CHO(35) + C4H7(191)\n",
      "C3H5O3(72) + CH3O(31) <=> C3H6O3(73) + CH2O(9)\n",
      "C3H5O3(72) + PC4H9(182) <=> C3H6O3(73) + C4H8(188)\n",
      "SC4H9(183) + C4H6(2534) <=> C4H7(190) + C4H8(188)\n",
      "C4H7(190) + C4H6(2534) <=> C4H7(190) + C4H6(194)\n",
      "SC4H9(183) + C4H6(2534) <=> C4H7(191) + C4H8(188)\n",
      "C2H5O(49) + CH3O(31) <=> CH3OH(30) + CH3CHO(35)\n",
      "C4H8(748) + CH3(18) <=> CH4(10) + C4H7(191)\n",
      "C2H5O2(47) + CH2CHO(21) <=> C2H6O2(48) + CH2CO(24)\n",
      "C2H5O2(47) + CH3O(31) <=> C2H6O2(48) + CH2O(9)\n",
      "C2H5O2(47) + C2H5(33) <=> C2H6O2(48) + C2H4(11)\n",
      "C2H5O2(47) + SC4H9(183) <=> C2H6O2(48) + C4H8(189)\n",
      "C2H5O2(47) + C2H5O(49) <=> C2H6O2(48) + CH3CHO(35)\n",
      "S(186) + CH3O(31) <=> S(187) + CH2O(9)\n",
      "S(5425) + O2(2) <=> HO2(16) + S(5951)\n"
     ]
    }
   ],
   "source": [
    "# Save the results somewhere else\n",
    "training_dir = os.path.join(rmgpy.settings['database.directory'], 'kinetics', 'families', family, 'training')\n",
    "training_depo.save_dictionary(os.path.join(training_dir, 'dictionary.txt'))\n",
    "training_depo.save(os.path.join(training_dir, 'reactions.py'))"
   ]
  },
  {
   "cell_type": "code",
   "execution_count": null,
   "id": "6aede948",
   "metadata": {},
   "outputs": [],
   "source": []
  }
 ],
 "metadata": {
  "kernelspec": {
   "display_name": "Python 3 (ipykernel)",
   "language": "python",
   "name": "python3"
  },
  "language_info": {
   "codemirror_mode": {
    "name": "ipython",
    "version": 3
   },
   "file_extension": ".py",
   "mimetype": "text/x-python",
   "name": "python",
   "nbconvert_exporter": "python",
   "pygments_lexer": "ipython3",
   "version": "3.7.12"
  }
 },
 "nbformat": 4,
 "nbformat_minor": 5
}
