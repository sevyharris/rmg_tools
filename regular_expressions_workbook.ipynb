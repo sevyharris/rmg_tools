{
 "cells": [
  {
   "cell_type": "code",
   "execution_count": 1,
   "id": "872d21a1",
   "metadata": {},
   "outputs": [],
   "source": [
    "import re"
   ]
  },
  {
   "cell_type": "code",
   "execution_count": null,
   "id": "61daa0c7",
   "metadata": {},
   "outputs": [],
   "source": [
    "qe_log_path = \"/home/moon/rmg/my_examples/arkane_qe_c2h4/C2H4.log\"\n",
    "with open(qe_log_path, 'r') as f:\n",
    "    for line in f:\n",
    "        matches = re.search('number of atoms/cell\\s*=\\s*(.*)', line)\n",
    "        if matches:\n",
    "            print(int(matches[1]))\n",
    "#         print(line)"
   ]
  },
  {
   "cell_type": "code",
   "execution_count": 10,
   "id": "a1017e14",
   "metadata": {},
   "outputs": [
    {
     "name": "stdout",
     "output_type": "stream",
     "text": [
      "     site n.     atom                  positions (alat units)\n",
      "\n",
      "6\n",
      "         1           Cu  tau(   1) = (   0.0000000   0.0000000   0.0000000  )\n",
      "\n",
      "['1', 'Cu', 'tau(', '1)', '=', '(', '0.0000000', '0.0000000', '0.0000000', ')']\n",
      "         2           Cu  tau(   2) = (   0.0000000   0.5000000   0.5000000  )\n",
      "\n",
      "['2', 'Cu', 'tau(', '2)', '=', '(', '0.0000000', '0.5000000', '0.5000000', ')']\n",
      "         3           Cu  tau(   3) = (   0.5000000   0.0000000   0.5000000  )\n",
      "\n",
      "['3', 'Cu', 'tau(', '3)', '=', '(', '0.5000000', '0.0000000', '0.5000000', ')']\n",
      "         4           Cu  tau(   4) = (   0.5000000   0.5000000   0.0000000  )\n",
      "\n",
      "['4', 'Cu', 'tau(', '4)', '=', '(', '0.5000000', '0.5000000', '0.0000000', ')']\n"
     ]
    }
   ],
   "source": [
    "# PWSCF version\n",
    "\n",
    "qe_log_path2 = \"/home/moon/espresso/examples/bulk/espresso.pwo\"\n",
    "with open(qe_log_path2, 'r') as f:\n",
    "    for line in f:\n",
    "        matches = re.search('site n.\\s*atom\\s*positions', line)\n",
    "        if matches:\n",
    "#             print(int(matches[1]))\n",
    "            print(line)\n",
    "            print(len(line.split()))\n",
    "            line = f.readline()\n",
    "            while line != '\\n':\n",
    "                print(line)\n",
    "                print(line.split())\n",
    "                line = f.readline()\n",
    "                "
   ]
  },
  {
   "cell_type": "code",
   "execution_count": 7,
   "id": "981d88d1",
   "metadata": {},
   "outputs": [
    {
     "name": "stdout",
     "output_type": "stream",
     "text": [
      "found\n",
      "7\n",
      "     site n.  atom      mass           positions (alat units)\n",
      "\n",
      "['1', 'C', '12.0110', 'tau(', '1)', '=', '(', '0.50000', '1.11522', '1.80533', ')']\n",
      "        1     C   12.0110   tau(    1) = (    0.50000    1.11522    1.80533  )\n",
      "\n",
      "['2', 'C', '12.0110', 'tau(', '2)', '=', '(', '0.50000', '1.11522', '0.84493', ')']\n",
      "        2     C   12.0110   tau(    2) = (    0.50000    1.11522    0.84493  )\n",
      "\n",
      "['3', 'H', '1.0080', 'tau(', '3)', '=', '(', '0.50000', '1.77274', '2.12919', ')']\n",
      "        3     H    1.0080   tau(    3) = (    0.50000    1.77274    2.12919  )\n",
      "\n",
      "['4', 'H', '1.0080', 'tau(', '4)', '=', '(', '0.50000', '0.45770', '2.12919', ')']\n",
      "        4     H    1.0080   tau(    4) = (    0.50000    0.45770    2.12919  )\n",
      "\n",
      "['5', 'H', '1.0080', 'tau(', '5)', '=', '(', '0.50000', '1.77274', '0.52107', ')']\n",
      "        5     H    1.0080   tau(    5) = (    0.50000    1.77274    0.52107  )\n",
      "\n",
      "['6', 'H', '1.0080', 'tau(', '6)', '=', '(', '0.50000', '0.45770', '0.52107', ')']\n",
      "        6     H    1.0080   tau(    6) = (    0.50000    0.45770    0.52107  )\n",
      "\n",
      "[]\n"
     ]
    }
   ],
   "source": [
    "# PH version\n",
    "qe_log_path = \"/home/moon/rmg/my_examples/arkane_qe_c2h4/C2H4.log\"\n",
    "with open(qe_log_path, 'r') as f:\n",
    "    for line in f:\n",
    "#         print(line)\n",
    "        matches = re.search('site', line)\n",
    "        if matches:\n",
    "            print('found')\n",
    "            t = 0\n",
    "            print(len(line.split()))\n",
    "            while line != '\\n' and t<1000000:\n",
    "                print(line)\n",
    "                line = f.readline()\n",
    "                print(line.split())\n",
    "                \n",
    "                t += 1\n",
    "#             print(int(matches[1]))\n",
    "#         print(line)\n",
    "\n"
   ]
  },
  {
   "cell_type": "code",
   "execution_count": null,
   "id": "39fc7088",
   "metadata": {},
   "outputs": [],
   "source": []
  }
 ],
 "metadata": {
  "kernelspec": {
   "display_name": "Python 3 (ipykernel)",
   "language": "python",
   "name": "python3"
  },
  "language_info": {
   "codemirror_mode": {
    "name": "ipython",
    "version": 3
   },
   "file_extension": ".py",
   "mimetype": "text/x-python",
   "name": "python",
   "nbconvert_exporter": "python",
   "pygments_lexer": "ipython3",
   "version": "3.7.11"
  }
 },
 "nbformat": 4,
 "nbformat_minor": 5
}
