{
 "cells": [
  {
   "cell_type": "code",
   "execution_count": null,
   "id": "441b12aa",
   "metadata": {},
   "outputs": [],
   "source": [
    "import numpy as np\n",
    "import matplotlib.pyplot as plt\n",
    "import matplotlib\n",
    "from rmgpy.data.thermo import ThermoDatabase\n",
    "from rmgpy.species import Species\n",
    "import os\n"
   ]
  },
  {
   "cell_type": "code",
   "execution_count": null,
   "id": "0cfc19e6",
   "metadata": {},
   "outputs": [],
   "source": [
    "# Specify Input Parameters\n",
    "species_smiles = \"CCCCCCC\"\n",
    "ark_thermo_dir = os.path.join(os.environ['HOME'], 'rmg/rmg_tools/autotst/thermo/species/CCCCCCC/RMG_libraries')\n",
    "ref_lib = 'JetSurF2.0'\n",
    "# ref_lib = 'Narayanaswamy'"
   ]
  },
  {
   "cell_type": "code",
   "execution_count": null,
   "id": "49474a5f",
   "metadata": {},
   "outputs": [],
   "source": [
    "# Load the reference thermo\n",
    "ref_library_path = os.path.join(os.environ['HOME'], \"rmg/RMG-database/input/thermo/\")\n",
    "ref_thermo_database = ThermoDatabase()\n",
    "ref_thermo_database.load(\n",
    "    ref_library_path,\n",
    "    libraries=[\n",
    "        ref_lib,\n",
    "    ],\n",
    "    depository=False,\n",
    "    surface=False\n",
    ")"
   ]
  },
  {
   "cell_type": "code",
   "execution_count": null,
   "id": "3bb577d6",
   "metadata": {},
   "outputs": [],
   "source": [
    "# Load the Arkane thermo\n",
    "ark_thermo_database = ThermoDatabase()\n",
    "ark_thermo_database.load_libraries(\n",
    "    ark_thermo_dir,\n",
    ")"
   ]
  },
  {
   "cell_type": "code",
   "execution_count": null,
   "id": "ad33dc51",
   "metadata": {},
   "outputs": [],
   "source": []
  },
  {
   "cell_type": "code",
   "execution_count": null,
   "id": "ca72a792",
   "metadata": {},
   "outputs": [],
   "source": [
    "ref_species = Species(smiles=species_smiles)\n",
    "ref_species.thermo = ref_thermo_database.get_thermo_data(ref_species)  # I still don't know the proper way to do this line"
   ]
  },
  {
   "cell_type": "code",
   "execution_count": null,
   "id": "ea7cab2c",
   "metadata": {},
   "outputs": [],
   "source": [
    "ark_species = Species(smiles=species_smiles)\n",
    "ark_species.thermo = ark_thermo_database.get_thermo_data(ark_species)"
   ]
  },
  {
   "cell_type": "code",
   "execution_count": null,
   "id": "f5016263",
   "metadata": {},
   "outputs": [],
   "source": [
    "# GAV thermo\n",
    "GAV_thermo_db = ThermoDatabase()\n",
    "GAV_thermo_db.load(\n",
    "    ref_library_path,\n",
    "    libraries=[\n",
    "#         ref_lib,\n",
    "    ],\n",
    "    depository=False,\n",
    "    surface=False\n",
    ")"
   ]
  },
  {
   "cell_type": "code",
   "execution_count": null,
   "id": "7ccde682",
   "metadata": {},
   "outputs": [],
   "source": [
    "# GAV\n",
    "gav_species = Species(smiles=species_smiles)\n",
    "gav_species.thermo = GAV_thermo_db.get_thermo_data(gav_species)  # I still don't know the proper way to do this line\n"
   ]
  },
  {
   "cell_type": "code",
   "execution_count": null,
   "id": "3959323b",
   "metadata": {},
   "outputs": [],
   "source": [
    "# Calculate H, S, and Cp\n",
    "T = np.linspace(300.0, 3000.0, 100)\n",
    "H_ref = np.zeros(len(T))\n",
    "H_ark = np.zeros(len(T))\n",
    "H_gav = np.zeros(len(T))\n",
    "S_ref = np.zeros(len(T))\n",
    "S_ark = np.zeros(len(T))\n",
    "S_gav = np.zeros(len(T))\n",
    "Cp_ref = np.zeros(len(T))\n",
    "Cp_ark = np.zeros(len(T))\n",
    "Cp_gav = np.zeros(len(T))\n",
    "\n",
    "# T_ref = 273.0\n",
    "T_ref = 300.0\n",
    "H0_ref = ref_species.get_enthalpy(T_ref)\n",
    "H0_ark = ark_species.get_enthalpy(T_ref)\n",
    "H0_gav = gav_species.get_enthalpy(T_ref)\n",
    "for i, T_ in enumerate(T):\n",
    "    H_ref[i] = ref_species.get_enthalpy(T_) - H0_ref\n",
    "    H_ark[i] = ark_species.get_enthalpy(T_) - H0_ark\n",
    "    H_gav[i] = gav_species.get_enthalpy(T_) - H0_gav\n",
    "    S_ref[i] = ref_species.get_entropy(T_)\n",
    "    S_ark[i] = ark_species.get_entropy(T_)\n",
    "    S_gav[i] = gav_species.get_entropy(T_)\n",
    "    Cp_ref[i] = ref_species.get_heat_capacity(T_)\n",
    "    Cp_ark[i] = ark_species.get_heat_capacity(T_)\n",
    "    Cp_gav[i] = gav_species.get_entropy(T_)"
   ]
  },
  {
   "cell_type": "code",
   "execution_count": null,
   "id": "46c28c6a",
   "metadata": {},
   "outputs": [],
   "source": [
    "# Plot Enthalpy\n",
    "# to embed the plot in the Jupyter Notebook because I messed up my settings a while ago\n",
    "%matplotlib inline\n",
    "plt.plot(T, H_ref, T, H_ark, T, H_gav)\n",
    "plt.legend([ref_lib, 'Arkane', 'GAV'])\n",
    "plt.xlabel('Temperature (K)')\n",
    "plt.ylabel('Enthalpy - H0 (J/mol)')"
   ]
  },
  {
   "cell_type": "code",
   "execution_count": null,
   "id": "8f49786d",
   "metadata": {},
   "outputs": [],
   "source": [
    "# Plot Entropy\n",
    "plt.plot(T, S_ref, T, S_ark, T, S_gav)\n",
    "plt.legend([ref_lib, 'Arkane', 'GAV'])\n",
    "plt.xlabel('Temperature (K)')\n",
    "plt.ylabel('Entropy (J/(mol*K))')"
   ]
  },
  {
   "cell_type": "code",
   "execution_count": null,
   "id": "da855098",
   "metadata": {},
   "outputs": [],
   "source": [
    "# Plot Heat Capacity\n",
    "# to embed the plot in the Jupyter Notebook because I messed up my settings a while ago\n",
    "%matplotlib inline\n",
    "plt.plot(T, Cp_ref, T, Cp_ark, T, Cp_gav)\n",
    "plt.legend([ref_lib, 'Arkane', 'GAV'])\n",
    "plt.xlabel('Temperature (K)')\n",
    "plt.ylabel('Heat Capacity (J/(mol*K))')"
   ]
  },
  {
   "cell_type": "code",
   "execution_count": null,
   "id": "2845a3e4",
   "metadata": {},
   "outputs": [],
   "source": []
  }
 ],
 "metadata": {
  "kernelspec": {
   "display_name": "Python 3 (ipykernel)",
   "language": "python",
   "name": "python3"
  },
  "language_info": {
   "codemirror_mode": {
    "name": "ipython",
    "version": 3
   },
   "file_extension": ".py",
   "mimetype": "text/x-python",
   "name": "python",
   "nbconvert_exporter": "python",
   "pygments_lexer": "ipython3",
   "version": "3.7.10"
  }
 },
 "nbformat": 4,
 "nbformat_minor": 5
}
