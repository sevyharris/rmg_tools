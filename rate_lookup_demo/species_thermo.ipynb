{
 "cells": [
  {
   "cell_type": "markdown",
   "id": "db9c5162",
   "metadata": {},
   "source": [
    "# Representing Species in RMG"
   ]
  },
  {
   "cell_type": "code",
   "execution_count": 1,
   "id": "a4d298d9",
   "metadata": {},
   "outputs": [],
   "source": [
    "import numpy as np\n",
    "import matplotlib.pyplot as plt\n",
    "\n",
    "import rmgpy.data.thermo\n",
    "import rmgpy.species\n",
    "import rmgpy.molecule"
   ]
  },
  {
   "cell_type": "markdown",
   "id": "b173d3e5",
   "metadata": {},
   "source": [
    "## RMG Species Class:\n",
    "\n",
    "- contains information about which atoms are bonded and the bond orders\n",
    "- bond information can be specified with SMILES, InChI, or an adjacency list\n",
    "- species has an attribute for thermo, usually a NASA polynomial\n",
    "\n",
    "Use the website to search for molecules and create adjacency lists: https://rmg.mit.edu/molecule_search\n",
    "\n",
    "Code for the class can be found here: https://github.com/ReactionMechanismGenerator/RMG-Py/blob/main/rmgpy/species.py"
   ]
  },
  {
   "cell_type": "markdown",
   "id": "973ce12e",
   "metadata": {},
   "source": [
    "## Adjacency List\n",
    "\n",
    "Documentation: http://reactionmechanismgenerator.github.io/RMG-Py/reference/molecule/adjlist.html\n",
    "\n",
    "```\n",
    "1 C u0 p0 c0 {2,S} {3,S} {4,S} {5,S}\n",
    "2 H u0 p0 c0 {1,S}\n",
    "3 H u0 p0 c0 {1,S}\n",
    "4 H u0 p0 c0 {1,S}\n",
    "5 H u0 p0 c0 {1,S}\n",
    "```"
   ]
  },
  {
   "cell_type": "code",
   "execution_count": 2,
   "id": "b92cadab",
   "metadata": {},
   "outputs": [
    {
     "name": "stdout",
     "output_type": "stream",
     "text": [
      "1 C u0 p0 c0 {2,S} {3,S} {4,S} {5,S}\n",
      "2 H u0 p0 c0 {1,S}\n",
      "3 H u0 p0 c0 {1,S}\n",
      "4 H u0 p0 c0 {1,S}\n",
      "5 H u0 p0 c0 {1,S}\n",
      "\n"
     ]
    }
   ],
   "source": [
    "# Initializing with SMILES\n",
    "methane_smiles = 'C'\n",
    "methane = rmgpy.species.Species(smiles=methane_smiles)\n",
    "print(methane.to_adjacency_list())"
   ]
  },
  {
   "cell_type": "code",
   "execution_count": 3,
   "id": "afe140b7",
   "metadata": {},
   "outputs": [
    {
     "data": {
      "image/png": "[encoded data removed]",
      "text/plain": [
       "Species(label=\"\", molecule=[Molecule(smiles=\"C\")], molecular_weight=(16.0425,'amu'))"
      ]
     },
     "execution_count": 3,
     "metadata": {},
     "output_type": "execute_result"
    }
   ],
   "source": [
    "methane"
   ]
  },
  {
   "cell_type": "code",
   "execution_count": 4,
   "id": "18716e5d",
   "metadata": {},
   "outputs": [
    {
     "name": "stdout",
     "output_type": "stream",
     "text": [
      "1 C u0 p0 c0 {2,S} {3,S} {4,S} {5,S}\n",
      "2 C u0 p0 c0 {1,S} {6,S} {7,S} {8,S}\n",
      "3 H u0 p0 c0 {1,S}\n",
      "4 H u0 p0 c0 {1,S}\n",
      "5 H u0 p0 c0 {1,S}\n",
      "6 H u0 p0 c0 {2,S}\n",
      "7 H u0 p0 c0 {2,S}\n",
      "8 H u0 p0 c0 {2,S}\n",
      "\n"
     ]
    }
   ],
   "source": [
    "# Initializing with InChI\n",
    "ethane_inchi = 'InChI=1S/C2H6/c1-2/h1-2H3'\n",
    "ethane = rmgpy.species.Species(inchi=ethane_inchi)\n",
    "print(ethane.to_adjacency_list())"
   ]
  },
  {
   "cell_type": "code",
   "execution_count": 5,
   "id": "60b69cf1",
   "metadata": {},
   "outputs": [
    {
     "data": {
      "image/png": "[encoded data removed]",
      "text/plain": [
       "Species(label=\"\", molecule=[Molecule(smiles=\"CC\")], molecular_weight=(30.0691,'amu'))"
      ]
     },
     "execution_count": 5,
     "metadata": {},
     "output_type": "execute_result"
    }
   ],
   "source": [
    "ethane"
   ]
  },
  {
   "cell_type": "code",
   "execution_count": 6,
   "id": "2b031dcf",
   "metadata": {},
   "outputs": [
    {
     "data": {
      "image/png": "[encoded data removed]",
      "text/plain": [
       "Species(label=\"\", molecule=[Molecule(smiles=\"O\")], molecular_weight=(18.0153,'amu'))"
      ]
     },
     "execution_count": 6,
     "metadata": {},
     "output_type": "execute_result"
    }
   ],
   "source": [
    "# Initializing with adjacency list\n",
    "h2o_graph = \"\"\"\n",
    "1 O u0 p2 c0 {2,S} {3,S}\n",
    "2 H u0 p0 c0 {1,S}\n",
    "3 H u0 p0 c0 {1,S}\n",
    "\"\"\"\n",
    "\n",
    "h2o = rmgpy.species.Species()\n",
    "h2o.from_adjacency_list(h2o_graph)\n",
    "# h2o.smiles"
   ]
  },
  {
   "cell_type": "markdown",
   "id": "a8e06dc7",
   "metadata": {},
   "source": [
    "## Species Thermo Parameters"
   ]
  },
  {
   "cell_type": "code",
   "execution_count": 7,
   "id": "56a6bd3b",
   "metadata": {},
   "outputs": [
    {
     "name": "stdout",
     "output_type": "stream",
     "text": [
      "None\n"
     ]
    }
   ],
   "source": [
    "print(ethane.thermo)"
   ]
  },
  {
   "cell_type": "code",
   "execution_count": 8,
   "id": "9533a264",
   "metadata": {},
   "outputs": [
    {
     "ename": "Exception",
     "evalue": "Unable to calculate enthalpy for species '': no thermo or statmech data available.",
     "output_type": "error",
     "traceback": [
      "\u001b[0;31m---------------------------------------------------------------------------\u001b[0m",
      "\u001b[0;31mException\u001b[0m                                 Traceback (most recent call last)",
      "\u001b[0;32m/tmp/ipykernel_20029/3410459969.py\u001b[0m in \u001b[0;36m<module>\u001b[0;34m\u001b[0m\n\u001b[0;32m----> 1\u001b[0;31m \u001b[0methane\u001b[0m\u001b[0;34m.\u001b[0m\u001b[0mget_enthalpy\u001b[0m\u001b[0;34m(\u001b[0m\u001b[0;36m300\u001b[0m\u001b[0;34m)\u001b[0m\u001b[0;34m\u001b[0m\u001b[0;34m\u001b[0m\u001b[0m\n\u001b[0m",
      "\u001b[0;32m~/rmg/RMG-Py/rmgpy/species.cpython-37m-x86_64-linux-gnu.so\u001b[0m in \u001b[0;36mrmgpy.species.Species.get_enthalpy\u001b[0;34m()\u001b[0m\n",
      "\u001b[0;32m~/rmg/RMG-Py/rmgpy/species.cpython-37m-x86_64-linux-gnu.so\u001b[0m in \u001b[0;36mrmgpy.species.Species.get_enthalpy\u001b[0;34m()\u001b[0m\n",
      "\u001b[0;31mException\u001b[0m: Unable to calculate enthalpy for species '': no thermo or statmech data available."
     ]
    }
   ],
   "source": [
    "ethane.get_enthalpy(300)"
   ]
  },
  {
   "cell_type": "code",
   "execution_count": null,
   "id": "c12dd270",
   "metadata": {},
   "outputs": [],
   "source": [
    "# dir(ethane)"
   ]
  },
  {
   "cell_type": "markdown",
   "id": "1fdbcdcd",
   "metadata": {},
   "source": [
    "### Thermo Database"
   ]
  },
  {
   "cell_type": "code",
   "execution_count": 9,
   "id": "22f1285f",
   "metadata": {},
   "outputs": [],
   "source": [
    "# Load Thermo Database\n",
    "\n",
    "# ref_lib = 'GRI-Mech3.0'\n",
    "# ref_lib = 'JetSurF2.0'\n",
    "# Load the reference thermo\n",
    "library_path = \"/path/to/RMG-database/input/thermo/\"\n",
    "database = rmgpy.data.thermo.ThermoDatabase()\n",
    "database.load(\n",
    "    library_path,\n",
    "    libraries = [\n",
    "        'GRI-Mech3.0',\n",
    "        'JetSurF2.0'\n",
    "    ]\n",
    "    \n",
    ")\n",
    "\n",
    "# def load(self, path, libraries=None, depository=True, surface=False):\n",
    "#         \"\"\"\n",
    "#         Load the thermo database from the given `path` on disk, where `path`\n",
    "#         points to the top-level folder of the thermo database.\n",
    "#         \"\"\"\n",
    "#         if depository:\n",
    "#             self.load_depository(os.path.join(path, 'depository'))\n",
    "#         else:\n",
    "#             self.depository = {}\n",
    "#         self.load_libraries(os.path.join(path, 'libraries'), libraries)\n",
    "#         self.load_groups(os.path.join(path, 'groups'))\n",
    "#         if surface:\n",
    "#             self.load_surface()"
   ]
  },
  {
   "cell_type": "code",
   "execution_count": 10,
   "id": "8c53b1f8",
   "metadata": {},
   "outputs": [],
   "source": [
    "ethane_thermo = database.get_thermo_data(ethane)"
   ]
  },
  {
   "cell_type": "code",
   "execution_count": 11,
   "id": "801bdbc3",
   "metadata": {},
   "outputs": [],
   "source": [
    "ethane_thermo.polynomials[1]\n",
    "ethane.thermo = ethane_thermo"
   ]
  },
  {
   "cell_type": "code",
   "execution_count": 12,
   "id": "6f2a8867",
   "metadata": {},
   "outputs": [
    {
     "data": {
      "text/plain": [
       "-83753.79935188919"
      ]
     },
     "execution_count": 12,
     "metadata": {},
     "output_type": "execute_result"
    }
   ],
   "source": [
    "ethane.get_enthalpy(300)"
   ]
  },
  {
   "cell_type": "code",
   "execution_count": 13,
   "id": "ad4a8cd2",
   "metadata": {},
   "outputs": [
    {
     "name": "stdout",
     "output_type": "stream",
     "text": [
      "NASA(polynomials=[NASAPolynomial(coeffs=[4.29142,-0.00550154,5.99438e-05,-7.08466e-08,2.68686e-11,-11522.2,2.66682], Tmin=(200,'K'), Tmax=(1000,'K')), NASAPolynomial(coeffs=[1.07188,0.0216853,-1.00256e-05,2.21412e-09,-1.90003e-13,-11426.4,15.1156], Tmin=(1000,'K'), Tmax=(3500,'K'))], Tmin=(200,'K'), Tmax=(3500,'K'), Cp0=(33.2579,'J/(mol*K)'), CpInf=(178.761,'J/(mol*K)'), label=\"\"\"C2H6\"\"\", comment=\"\"\"Thermo library: GRI-Mech3.0\"\"\")\n"
     ]
    }
   ],
   "source": [
    "# NASA polynomials: http://combustion.berkeley.edu/gri-mech/data/nasa_plnm.html\n",
    "\n",
    "lib_thermo = database.get_thermo_data(ethane)\n",
    "print(lib_thermo)"
   ]
  },
  {
   "cell_type": "code",
   "execution_count": 14,
   "id": "aaa3af7a",
   "metadata": {},
   "outputs": [
    {
     "name": "stdout",
     "output_type": "stream",
     "text": [
      "NASAPolynomial(coeffs=[4.29142,-0.00550154,5.99438e-05,-7.08466e-08,2.68686e-11,-11522.2,2.66682], Tmin=(200,'K'), Tmax=(1000,'K'))\n"
     ]
    }
   ],
   "source": [
    "print(lib_thermo.polynomials[0])"
   ]
  },
  {
   "cell_type": "code",
   "execution_count": 15,
   "id": "fe0aeff7",
   "metadata": {},
   "outputs": [],
   "source": [
    "gav_thermo = database.get_thermo_data_from_groups(ethane)"
   ]
  },
  {
   "cell_type": "code",
   "execution_count": 16,
   "id": "3e9eeb2e",
   "metadata": {},
   "outputs": [],
   "source": [
    "all_thermo = database.get_all_thermo_data(ethane)"
   ]
  },
  {
   "cell_type": "code",
   "execution_count": null,
   "id": "5fade813",
   "metadata": {},
   "outputs": [],
   "source": []
  },
  {
   "cell_type": "code",
   "execution_count": 17,
   "id": "51146e79",
   "metadata": {},
   "outputs": [
    {
     "data": {
      "text/plain": [
       "ThermoData(Tdata=([300,400,500,600,800,1000,1500],'K'), Cpdata=([51.7979,65.6051,78.6592,90.2907,108.951,123.595,147.109],'J/(mol*K)'), H298=(-85.3536,'kJ/mol'), S298=(254.471,'J/(mol*K)'), Cp0=(33.2579,'J/(mol*K)'), CpInf=(178.761,'J/(mol*K)'), comment=\"\"\"Thermo group additivity estimation: group(Cs-CsHHH) + group(Cs-CsHHH)\"\"\")"
      ]
     },
     "execution_count": 17,
     "metadata": {},
     "output_type": "execute_result"
    }
   ],
   "source": [
    "gav_thermo"
   ]
  },
  {
   "cell_type": "markdown",
   "id": "815aa83b",
   "metadata": {},
   "source": [
    "## Plot the Thermodynamic Parameters vs. Temperature"
   ]
  },
  {
   "cell_type": "code",
   "execution_count": 18,
   "id": "eeafba9f",
   "metadata": {},
   "outputs": [],
   "source": [
    "def plot_thermos(thermos, labels=None):\n",
    "    %matplotlib inline\n",
    "    fig, ax = plt.subplots(1,3)\n",
    "    fig.set_size_inches(12, 3)\n",
    "    fig.tight_layout()\n",
    "    ax[0].set_xlabel('Temperature (K)')\n",
    "    ax[0].set_ylabel('H (kJ / mol)')\n",
    "    ax[0].set_title('Enthalpy vs. Temperature')\n",
    "    ax[1].set_xlabel('Temperature (K)')\n",
    "    ax[1].set_ylabel('S (kJ / mol K)')\n",
    "    ax[1].set_title('Entropy vs. Temperature')\n",
    "    ax[2].set_xlabel('Temperature (K)')\n",
    "    ax[2].set_ylabel('Cp (kJ / mol K)')\n",
    "    ax[2].set_title('Heat Capacity vs. Temperature')\n",
    "    T = np.linspace(300, 3000, 1001)\n",
    "    for thermo in thermos:\n",
    "        H = np.zeros(len(T))\n",
    "        S = np.zeros(len(T))\n",
    "        Cp = np.zeros(len(T))\n",
    "        for i in range(0, len(T)):\n",
    "            H[i] = thermo.get_enthalpy(T[i]) / 1000.0\n",
    "            S[i] = thermo.get_entropy(T[i]) / 1000.0\n",
    "            Cp[i] = thermo.get_heat_capacity(T[i]) / 1000.0\n",
    "        ax[0].plot(T, H)\n",
    "        ax[1].plot(T, S)\n",
    "        ax[2].plot(T, Cp)\n",
    "    ax[0].legend(labels)\n",
    "    ax[1].legend(labels)\n",
    "    ax[2].legend(labels)\n",
    "    plt.subplots_adjust(wspace=0.25)"
   ]
  },
  {
   "cell_type": "code",
   "execution_count": 19,
   "id": "c4a0951f",
   "metadata": {},
   "outputs": [
    {
     "data": {
      "image/png": "[encoded data removed]",
      "text/plain": [
       "<Figure size 864x216 with 3 Axes>"
      ]
     },
     "metadata": {
      "needs_background": "light"
     },
     "output_type": "display_data"
    }
   ],
   "source": [
    "plot_thermos([gav_thermo, lib_thermo], labels=['GAV', 'GRI-mech3.0'])"
   ]
  },
  {
   "cell_type": "code",
   "execution_count": null,
   "id": "2e5a2487",
   "metadata": {},
   "outputs": [],
   "source": []
  }
 ],
 "metadata": {
  "kernelspec": {
   "display_name": "Python 3 (ipykernel)",
   "language": "python",
   "name": "python3"
  },
  "language_info": {
   "codemirror_mode": {
    "name": "ipython",
    "version": 3
   },
   "file_extension": ".py",
   "mimetype": "text/x-python",
   "name": "python",
   "nbconvert_exporter": "python",
   "pygments_lexer": "ipython3",
   "version": "3.7.12"
  }
 },
 "nbformat": 4,
 "nbformat_minor": 5
}
