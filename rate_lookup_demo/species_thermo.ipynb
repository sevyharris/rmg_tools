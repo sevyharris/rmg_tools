{
 "cells": [
  {
   "cell_type": "markdown",
   "id": "db9c5162",
   "metadata": {},
   "source": [
    "# Representing Species in RMG"
   ]
  },
  {
   "cell_type": "code",
   "execution_count": 1,
   "id": "a4d298d9",
   "metadata": {},
   "outputs": [],
   "source": [
    "import numpy as np\n",
    "import matplotlib.pyplot as plt\n",
    "\n",
    "import rmgpy.data.thermo\n",
    "import rmgpy.species\n",
    "import rmgpy.molecule"
   ]
  },
  {
   "cell_type": "markdown",
   "id": "b173d3e5",
   "metadata": {},
   "source": [
    "## RMG Species Class:\n",
    "\n",
    "- contains information about which atoms are bonded and the bond orders\n",
    "- bond information can be specified with SMILES, InChI, or an adjacency list\n",
    "- species has an attribute for thermo, usually a NASA polynomial\n",
    "\n",
    "Use the website to search for molecules and create adjacency lists: https://rmg.mit.edu/molecule_search\n",
    "\n",
    "Code for the class can be found here: https://github.com/ReactionMechanismGenerator/RMG-Py/blob/main/rmgpy/species.py"
   ]
  },
  {
   "cell_type": "markdown",
   "id": "973ce12e",
   "metadata": {},
   "source": [
    "## Adjacency List\n",
    "\n",
    "Documentation: http://reactionmechanismgenerator.github.io/RMG-Py/reference/molecule/adjlist.html\n",
    "\n",
    "```\n",
    "1 C u0 p0 c0 {2,S} {3,S} {4,S} {5,S}\n",
    "2 H u0 p0 c0 {1,S}\n",
    "3 H u0 p0 c0 {1,S}\n",
    "4 H u0 p0 c0 {1,S}\n",
    "5 H u0 p0 c0 {1,S}\n",
    "```"
   ]
  },
  {
   "cell_type": "code",
   "execution_count": 2,
   "id": "b92cadab",
   "metadata": {},
   "outputs": [
    {
     "name": "stdout",
     "output_type": "stream",
     "text": [
      "1 C u0 p0 c0 {2,S} {3,S} {4,S} {5,S}\n",
      "2 H u0 p0 c0 {1,S}\n",
      "3 H u0 p0 c0 {1,S}\n",
      "4 H u0 p0 c0 {1,S}\n",
      "5 H u0 p0 c0 {1,S}\n",
      "\n"
     ]
    }
   ],
   "source": [
    "# Initializing with SMILES\n",
    "methane_smiles = 'C'\n",
    "methane = rmgpy.species.Species(smiles=methane_smiles)\n",
    "print(methane.to_adjacency_list())"
   ]
  },
  {
   "cell_type": "code",
   "execution_count": 3,
   "id": "afe140b7",
   "metadata": {},
   "outputs": [
    {
     "data": {
      "image/png": "[encoded data removed]",
      "text/plain": [
       "Species(label=\"\", molecule=[Molecule(smiles=\"C\")], molecular_weight=(16.0425,'amu'))"
      ]
     },
     "execution_count": 3,
     "metadata": {},
     "output_type": "execute_result"
    }
   ],
   "source": [
    "methane"
   ]
  },
  {
   "cell_type": "code",
   "execution_count": 4,
   "id": "18716e5d",
   "metadata": {},
   "outputs": [
    {
     "name": "stdout",
     "output_type": "stream",
     "text": [
      "1 C u0 p0 c0 {2,S} {3,S} {4,S} {5,S}\n",
      "2 C u0 p0 c0 {1,S} {6,S} {7,S} {8,S}\n",
      "3 H u0 p0 c0 {1,S}\n",
      "4 H u0 p0 c0 {1,S}\n",
      "5 H u0 p0 c0 {1,S}\n",
      "6 H u0 p0 c0 {2,S}\n",
      "7 H u0 p0 c0 {2,S}\n",
      "8 H u0 p0 c0 {2,S}\n",
      "\n"
     ]
    }
   ],
   "source": [
    "# Initializing with InChI\n",
    "ethane_inchi = 'InChI=1S/C2H6/c1-2/h1-2H3'\n",
    "ethane = rmgpy.species.Species(inchi=ethane_inchi)\n",
    "print(ethane.to_adjacency_list())"
   ]
  },
  {
   "cell_type": "code",
   "execution_count": 5,
   "id": "60b69cf1",
   "metadata": {},
   "outputs": [
    {
     "data": {
      "image/png": "[encoded data removed]",
      "text/plain": [
       "Species(label=\"\", molecule=[Molecule(smiles=\"CC\")], molecular_weight=(30.0691,'amu'))"
      ]
     },
     "execution_count": 5,
     "metadata": {},
     "output_type": "execute_result"
    }
   ],
   "source": [
    "ethane"
   ]
  },
  {
   "cell_type": "code",
   "execution_count": 6,
   "id": "2b031dcf",
   "metadata": {},
   "outputs": [
    {
     "data": {
      "image/png": "[encoded data removed]",
      "text/plain": [
       "Species(label=\"\", molecule=[Molecule(smiles=\"O\")], molecular_weight=(18.0153,'amu'))"
      ]
     },
     "execution_count": 6,
     "metadata": {},
     "output_type": "execute_result"
    }
   ],
   "source": [
    "# Initializing with adjacency list\n",
    "h2o_graph = \"\"\"\n",
    "1 O u0 p2 c0 {2,S} {3,S}\n",
    "2 H u0 p0 c0 {1,S}\n",
    "3 H u0 p0 c0 {1,S}\n",
    "\"\"\"\n",
    "\n",
    "h2o = rmgpy.species.Species()\n",
    "h2o.from_adjacency_list(h2o_graph)\n",
    "# h2o.smiles"
   ]
  },
  {
   "cell_type": "markdown",
   "id": "a8e06dc7",
   "metadata": {},
   "source": [
    "## Species Thermo Parameters"
   ]
  },
  {
   "cell_type": "code",
   "execution_count": 7,
   "id": "56a6bd3b",
   "metadata": {},
   "outputs": [
    {
     "name": "stdout",
     "output_type": "stream",
     "text": [
      "None\n"
     ]
    }
   ],
   "source": [
    "print(ethane.thermo)"
   ]
  },
  {
   "cell_type": "code",
   "execution_count": 8,
   "id": "9533a264",
   "metadata": {},
   "outputs": [
    {
     "ename": "Exception",
     "evalue": "Unable to calculate enthalpy for species '': no thermo or statmech data available.",
     "output_type": "error",
     "traceback": [
      "\u001b[0;31m---------------------------------------------------------------------------\u001b[0m",
      "\u001b[0;31mException\u001b[0m                                 Traceback (most recent call last)",
      "\u001b[0;32m/tmp/ipykernel_2957/3410459969.py\u001b[0m in \u001b[0;36m<module>\u001b[0;34m\u001b[0m\n\u001b[0;32m----> 1\u001b[0;31m \u001b[0methane\u001b[0m\u001b[0;34m.\u001b[0m\u001b[0mget_enthalpy\u001b[0m\u001b[0;34m(\u001b[0m\u001b[0;36m300\u001b[0m\u001b[0;34m)\u001b[0m\u001b[0;34m\u001b[0m\u001b[0;34m\u001b[0m\u001b[0m\n\u001b[0m",
      "\u001b[0;32m~/rmg/RMG-Py/rmgpy/species.cpython-37m-x86_64-linux-gnu.so\u001b[0m in \u001b[0;36mrmgpy.species.Species.get_enthalpy\u001b[0;34m()\u001b[0m\n",
      "\u001b[0;32m~/rmg/RMG-Py/rmgpy/species.cpython-37m-x86_64-linux-gnu.so\u001b[0m in \u001b[0;36mrmgpy.species.Species.get_enthalpy\u001b[0;34m()\u001b[0m\n",
      "\u001b[0;31mException\u001b[0m: Unable to calculate enthalpy for species '': no thermo or statmech data available."
     ]
    }
   ],
   "source": [
    "ethane.get_enthalpy(300)"
   ]
  },
  {
   "cell_type": "code",
   "execution_count": null,
   "id": "c12dd270",
   "metadata": {},
   "outputs": [],
   "source": [
    "# dir(ethane)"
   ]
  },
  {
   "cell_type": "markdown",
   "id": "1fdbcdcd",
   "metadata": {},
   "source": [
    "### Thermo Database"
   ]
  },
  {
   "cell_type": "code",
   "execution_count": 9,
   "id": "22f1285f",
   "metadata": {},
   "outputs": [],
   "source": [
    "# Load Thermo Database\n",
    "\n",
    "# ref_lib = 'GRI-Mech3.0'\n",
    "# ref_lib = 'JetSurF2.0'\n",
    "# Load the reference thermo\n",
    "library_path = \"/home/moon/rmg/RMG-database/input/thermo/\"\n",
    "database = rmgpy.data.thermo.ThermoDatabase()\n",
    "database.load(\n",
    "    library_path,\n",
    "    libraries = [\n",
    "        'GRI-Mech3.0',\n",
    "        'JetSurF2.0'\n",
    "    ]\n",
    "    \n",
    ")\n",
    "\n",
    "# def load(self, path, libraries=None, depository=True, surface=False):\n",
    "#         \"\"\"\n",
    "#         Load the thermo database from the given `path` on disk, where `path`\n",
    "#         points to the top-level folder of the thermo database.\n",
    "#         \"\"\"\n",
    "#         if depository:\n",
    "#             self.load_depository(os.path.join(path, 'depository'))\n",
    "#         else:\n",
    "#             self.depository = {}\n",
    "#         self.load_libraries(os.path.join(path, 'libraries'), libraries)\n",
    "#         self.load_groups(os.path.join(path, 'groups'))\n",
    "#         if surface:\n",
    "#             self.load_surface()"
   ]
  },
  {
   "cell_type": "code",
   "execution_count": 10,
   "id": "8c53b1f8",
   "metadata": {},
   "outputs": [],
   "source": [
    "ethane_thermo = database.get_thermo_data(ethane)"
   ]
  },
  {
   "cell_type": "code",
   "execution_count": 11,
   "id": "30ec04ce",
   "metadata": {},
   "outputs": [
    {
     "name": "stdout",
     "output_type": "stream",
     "text": [
      "NASA(polynomials=[NASAPolynomial(coeffs=[4.29142,-0.00550154,5.99438e-05,-7.08466e-08,2.68686e-11,-11522.2,2.66682], Tmin=(200,'K'), Tmax=(1000,'K')), NASAPolynomial(coeffs=[1.07188,0.0216853,-1.00256e-05,2.21412e-09,-1.90003e-13,-11426.4,15.1156], Tmin=(1000,'K'), Tmax=(3500,'K'))], Tmin=(200,'K'), Tmax=(3500,'K'), Cp0=(33.2579,'J/(mol*K)'), CpInf=(178.761,'J/(mol*K)'), label=\"\"\"C2H6\"\"\", comment=\"\"\"Thermo library: GRI-Mech3.0\"\"\")\n"
     ]
    }
   ],
   "source": [
    "print(ethane_thermo)"
   ]
  },
  {
   "cell_type": "code",
   "execution_count": 22,
   "id": "5de773da",
   "metadata": {},
   "outputs": [
    {
     "name": "stdout",
     "output_type": "stream",
     "text": [
      "ThermoData(Tdata=([300,400,500,600,800,1000,1500],'K'), Cpdata=([194.109,240.217,282.84,319.787,378.36,422.07,488.325],'J/(mol*K)'), H298=(-290.712,'kJ/mol'), S298=(500.947,'J/(mol*K)'), Cp0=(33.2579,'J/(mol*K)'), CpInf=(577.856,'J/(mol*K)'), comment=\"\"\"Thermo group additivity estimation: group(Cs-CsCsHH) + group(Cs-CsCsHH) + group(Cs-CsCsHH) + group(Cs-CsCsHH) + group(Cs-CsCsHH) + group(Cs-(Cds-O2d)CsHH) + group(Cs-CsHHH) + group(Cds-OdCsH)\"\"\")\n"
     ]
    }
   ],
   "source": [
    "spec = rmgpy.species.Species(smiles='CCCCCCCC=O')\n",
    "spec_thermo = database.get_thermo_data(spec)\n",
    "print(spec_thermo)"
   ]
  },
  {
   "cell_type": "code",
   "execution_count": 21,
   "id": "3016c59b",
   "metadata": {},
   "outputs": [
    {
     "name": "stdout",
     "output_type": "stream",
     "text": [
      "NASA(polynomials=[NASAPolynomial(coeffs=[-2.08417,0.122535,-7.76816e-05,2.49835e-08,-3.23548e-12,-34302.2,44.226], Tmin=(298,'K'), Tmax=(1391,'K')), NASAPolynomial(coeffs=[31.9882,0.0477245,-1.62276e-05,2.50963e-09,-1.45216e-13,-46639.3,-140.504], Tmin=(1391,'K'), Tmax=(5000,'K'))], Tmin=(298,'K'), Tmax=(5000,'K'), Cp0=(33.2579,'J/(mol*K)'), CpInf=(744.145,'J/(mol*K)'), label=\"\"\"NC10H22\"\"\", comment=\"\"\"Thermo library: JetSurF2.0\"\"\")\n"
     ]
    }
   ],
   "source": []
  },
  {
   "cell_type": "code",
   "execution_count": 13,
   "id": "34184d0b",
   "metadata": {},
   "outputs": [
    {
     "data": {
      "text/plain": [
       "['__class__',\n",
       " '__delattr__',\n",
       " '__dict__',\n",
       " '__dir__',\n",
       " '__doc__',\n",
       " '__eq__',\n",
       " '__format__',\n",
       " '__ge__',\n",
       " '__getattribute__',\n",
       " '__gt__',\n",
       " '__hash__',\n",
       " '__init__',\n",
       " '__init_subclass__',\n",
       " '__le__',\n",
       " '__lt__',\n",
       " '__module__',\n",
       " '__ne__',\n",
       " '__new__',\n",
       " '__reduce__',\n",
       " '__reduce_ex__',\n",
       " '__repr__',\n",
       " '__setattr__',\n",
       " '__setstate__',\n",
       " '__sizeof__',\n",
       " '__str__',\n",
       " '__subclasshook__',\n",
       " '__weakref__',\n",
       " '_add_adsorption_correction',\n",
       " '_add_group_thermo_data',\n",
       " '_add_poly_ring_correction_thermo_data_from_heuristic',\n",
       " '_add_polycyclic_correction_thermo_data',\n",
       " '_add_ring_correction_thermo_data_from_tree',\n",
       " '_average_children_thermo',\n",
       " '_remove_group_thermo_data',\n",
       " 'binding_energies',\n",
       " 'compute_group_additivity_thermo',\n",
       " 'correct_binding_energy',\n",
       " 'depository',\n",
       " 'estimate_radical_thermo_via_hbi',\n",
       " 'estimate_thermo_via_group_additivity',\n",
       " 'extract_source_from_comments',\n",
       " 'get_all_thermo_data',\n",
       " 'get_bicyclic_correction_thermo_data_from_heuristic',\n",
       " 'get_ring_groups_from_comments',\n",
       " 'get_thermo_data',\n",
       " 'get_thermo_data_for_surface_species',\n",
       " 'get_thermo_data_from_depository',\n",
       " 'get_thermo_data_from_groups',\n",
       " 'get_thermo_data_from_libraries',\n",
       " 'get_thermo_data_from_library',\n",
       " 'get_thermo_data_from_ml',\n",
       " 'global_context',\n",
       " 'groups',\n",
       " 'libraries',\n",
       " 'library_order',\n",
       " 'load',\n",
       " 'load_depository',\n",
       " 'load_groups',\n",
       " 'load_libraries',\n",
       " 'load_old',\n",
       " 'load_surface',\n",
       " 'local_context',\n",
       " 'prioritize_thermo',\n",
       " 'prune_heteroatoms',\n",
       " 'record_polycylic_generic_nodes',\n",
       " 'record_ring_generic_nodes',\n",
       " 'save',\n",
       " 'save_depository',\n",
       " 'save_groups',\n",
       " 'save_libraries',\n",
       " 'save_old',\n",
       " 'save_surface',\n",
       " 'set_binding_energies',\n",
       " 'surface']"
      ]
     },
     "execution_count": 13,
     "metadata": {},
     "output_type": "execute_result"
    }
   ],
   "source": [
    "dir(database)"
   ]
  },
  {
   "cell_type": "code",
   "execution_count": null,
   "id": "801bdbc3",
   "metadata": {},
   "outputs": [],
   "source": [
    "ethane_thermo.polynomials[1]\n",
    "ethane.thermo = ethane_thermo"
   ]
  },
  {
   "cell_type": "code",
   "execution_count": null,
   "id": "6f2a8867",
   "metadata": {},
   "outputs": [],
   "source": [
    "ethane.get_enthalpy(300)"
   ]
  },
  {
   "cell_type": "code",
   "execution_count": null,
   "id": "ad4a8cd2",
   "metadata": {},
   "outputs": [],
   "source": [
    "# NASA polynomials: http://combustion.berkeley.edu/gri-mech/data/nasa_plnm.html\n",
    "\n",
    "lib_thermo = database.get_thermo_data(ethane)\n",
    "print(lib_thermo)"
   ]
  },
  {
   "cell_type": "code",
   "execution_count": null,
   "id": "aaa3af7a",
   "metadata": {},
   "outputs": [],
   "source": [
    "print(lib_thermo.polynomials[0])"
   ]
  },
  {
   "cell_type": "code",
   "execution_count": null,
   "id": "fe0aeff7",
   "metadata": {},
   "outputs": [],
   "source": [
    "gav_thermo = database.get_thermo_data_from_groups(ethane)"
   ]
  },
  {
   "cell_type": "code",
   "execution_count": null,
   "id": "3e9eeb2e",
   "metadata": {},
   "outputs": [],
   "source": [
    "all_thermo = database.get_all_thermo_data(ethane)"
   ]
  },
  {
   "cell_type": "code",
   "execution_count": null,
   "id": "5fade813",
   "metadata": {},
   "outputs": [],
   "source": []
  },
  {
   "cell_type": "code",
   "execution_count": null,
   "id": "51146e79",
   "metadata": {},
   "outputs": [],
   "source": [
    "gav_thermo"
   ]
  },
  {
   "cell_type": "markdown",
   "id": "815aa83b",
   "metadata": {},
   "source": [
    "## Plot the Thermodynamic Parameters vs. Temperature"
   ]
  },
  {
   "cell_type": "code",
   "execution_count": null,
   "id": "eeafba9f",
   "metadata": {},
   "outputs": [],
   "source": [
    "def plot_thermos(thermos, labels=None):\n",
    "    %matplotlib inline\n",
    "    fig, ax = plt.subplots(1,3)\n",
    "    fig.set_size_inches(12, 3)\n",
    "    fig.tight_layout()\n",
    "    ax[0].set_xlabel('Temperature (K)')\n",
    "    ax[0].set_ylabel('H (kJ / mol)')\n",
    "    ax[0].set_title('Enthalpy vs. Temperature')\n",
    "    ax[1].set_xlabel('Temperature (K)')\n",
    "    ax[1].set_ylabel('S (kJ / mol K)')\n",
    "    ax[1].set_title('Entropy vs. Temperature')\n",
    "    ax[2].set_xlabel('Temperature (K)')\n",
    "    ax[2].set_ylabel('Cp (kJ / mol K)')\n",
    "    ax[2].set_title('Heat Capacity vs. Temperature')\n",
    "    T = np.linspace(300, 3000, 1001)\n",
    "    for thermo in thermos:\n",
    "        H = np.zeros(len(T))\n",
    "        S = np.zeros(len(T))\n",
    "        Cp = np.zeros(len(T))\n",
    "        for i in range(0, len(T)):\n",
    "            H[i] = thermo.get_enthalpy(T[i]) / 1000.0\n",
    "            S[i] = thermo.get_entropy(T[i]) / 1000.0\n",
    "            Cp[i] = thermo.get_heat_capacity(T[i]) / 1000.0\n",
    "        ax[0].plot(T, H)\n",
    "        ax[1].plot(T, S)\n",
    "        ax[2].plot(T, Cp)\n",
    "    ax[0].legend(labels)\n",
    "    ax[1].legend(labels)\n",
    "    ax[2].legend(labels)\n",
    "    plt.subplots_adjust(wspace=0.25)"
   ]
  },
  {
   "cell_type": "code",
   "execution_count": null,
   "id": "c4a0951f",
   "metadata": {},
   "outputs": [],
   "source": [
    "plot_thermos([gav_thermo, lib_thermo], labels=['GAV', 'GRI-mech3.0'])"
   ]
  },
  {
   "cell_type": "code",
   "execution_count": null,
   "id": "2e5a2487",
   "metadata": {},
   "outputs": [],
   "source": []
  }
 ],
 "metadata": {
  "kernelspec": {
   "display_name": "Python 3 (ipykernel)",
   "language": "python",
   "name": "python3"
  },
  "language_info": {
   "codemirror_mode": {
    "name": "ipython",
    "version": 3
   },
   "file_extension": ".py",
   "mimetype": "text/x-python",
   "name": "python",
   "nbconvert_exporter": "python",
   "pygments_lexer": "ipython3",
   "version": "3.7.12"
  }
 },
 "nbformat": 4,
 "nbformat_minor": 5
}
