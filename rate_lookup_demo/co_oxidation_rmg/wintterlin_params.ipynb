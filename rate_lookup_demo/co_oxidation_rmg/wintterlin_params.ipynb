{
 "cells": [
  {
   "cell_type": "code",
   "execution_count": 7,
   "id": "c7a9d509",
   "metadata": {},
   "outputs": [],
   "source": [
    "# list of rates to compare to rmg\n",
    "import cantera as ct\n",
    "import numpy as np"
   ]
  },
  {
   "cell_type": "code",
   "execution_count": 8,
   "id": "88aade7d",
   "metadata": {},
   "outputs": [],
   "source": [
    "mechanism_file = \"/home/moon/autokmc/rmg2kmc/examples/co_oxidation/chem_annotated.cti\""
   ]
  },
  {
   "cell_type": "code",
   "execution_count": 9,
   "id": "cd7d853f",
   "metadata": {},
   "outputs": [],
   "source": [
    "T = 244\n",
    "p_CO = 1.0e-8  # mbar\n",
    "p_CO = p_CO / 1000.0  # bar\n",
    "p_CO = p_CO * 100000.0  # Pa\n",
    "kb = 8.617333262e-5  # eV/K\n",
    "\n",
    "gas = ct.Solution(mechanism_file, \"gas\")\n",
    "surf = ct.Interface(mechanism_file, \"surface1\", [gas])\n",
    "\n",
    "species_list = surf.species() + gas.species()\n",
    "reaction_list_total = surf.reactions() + gas.reactions()\n",
    "\n",
    "reaction_weights = [rxn.rate(T) for rxn in reaction_list_total]"
   ]
  },
  {
   "cell_type": "code",
   "execution_count": 20,
   "id": "d99917ae",
   "metadata": {},
   "outputs": [
    {
     "name": "stdout",
     "output_type": "stream",
     "text": [
      "CO Adsorption\n",
      "Wintterlin rate: 0.002\n",
      "OCX(14) <=> CO(4) + X(1)\n",
      "RMG rate: 2.132322832159273e-05\n"
     ]
    }
   ],
   "source": [
    "# CO adsorption\n",
    "print('CO Adsorption')\n",
    "r1 = 0.002 * np.exp(-0 / (kb * T))\n",
    "print(f'Wintterlin rate: {r1}')\n",
    "\n",
    "print(surf.reactions()[0])\n",
    "k_fwd = surf.reactions()[0].rate(T)\n",
    "K_eq = surf.equilibrium_constants[0]\n",
    "k_rev = k_fwd / K_eq\n",
    "print(f'RMG rate: {k_rev}')"
   ]
  },
  {
   "cell_type": "code",
   "execution_count": 21,
   "id": "2289fc51",
   "metadata": {},
   "outputs": [
    {
     "name": "stdout",
     "output_type": "stream",
     "text": [
      "CO Desorption\n",
      "Wintterlin rate: 1.6375917641003068e-12\n",
      "OCX(14) <=> CO(4) + X(1)\n",
      "RMG rate: 5.190184543310334e-26\n"
     ]
    }
   ],
   "source": [
    "# CO desorption\n",
    "print('CO Desorption')\n",
    "r2 = 10 ** 13.0 * np.exp(-1.2 / (kb * T))\n",
    "print(f'Wintterlin rate: {r2}')\n",
    "\n",
    "print(surf.reactions()[0])\n",
    "k_fwd = surf.reactions()[0].rate(T)\n",
    "print(f'RMG rate: {k_fwd}')"
   ]
  },
  {
   "cell_type": "code",
   "execution_count": 28,
   "id": "e6354906",
   "metadata": {},
   "outputs": [
    {
     "name": "stdout",
     "output_type": "stream",
     "text": [
      "CO Oxidation\n",
      "Wintterlin rate: 0.003785332000679931\n",
      "CO2(3) + 2 X(1) <=> OCX(14) + OX(8)\n",
      "RMG rate: 0.002683935573327311\n"
     ]
    }
   ],
   "source": [
    "# CO Oxidation\n",
    "print('CO Oxidation')\n",
    "r3 = 5.0e7 * np.exp(-0.49 / (kb * T))\n",
    "print(f'Wintterlin rate: {r3}')\n",
    "\n",
    "print(surf.reactions()[3])\n",
    "k3_fwd = surf.reactions()[3].rate(T)\n",
    "K3_eq = surf.equilibrium_constants[3]\n",
    "k3_rev = k3_fwd / K3_eq\n",
    "print(f'RMG rate: {k3_rev}')"
   ]
  },
  {
   "cell_type": "code",
   "execution_count": 29,
   "id": "a5ba74f5",
   "metadata": {},
   "outputs": [
    {
     "name": "stdout",
     "output_type": "stream",
     "text": [
      "O* diffusion\n",
      "Wintterlin rate: 6.567403407570781\n"
     ]
    }
   ],
   "source": [
    "# O diffusion\n",
    "print('O* diffusion')\n",
    "r4 = 5.0e9 * np.exp(-0.43 / (kb * T))\n",
    "print(f'Wintterlin rate: {r4}')"
   ]
  },
  {
   "cell_type": "code",
   "execution_count": 2,
   "id": "a2436796",
   "metadata": {},
   "outputs": [
    {
     "name": "stdout",
     "output_type": "stream",
     "text": [
      "2e-16\n"
     ]
    }
   ],
   "source": [
    "# pe ratio CO diffusion\n",
    "pe_ratio2 = 0.002 / (10 ** 13)\n",
    "print(pe_ratio2)"
   ]
  },
  {
   "cell_type": "code",
   "execution_count": null,
   "id": "17f80546",
   "metadata": {},
   "outputs": [],
   "source": []
  },
  {
   "cell_type": "code",
   "execution_count": null,
   "id": "0e63052f",
   "metadata": {},
   "outputs": [],
   "source": []
  },
  {
   "cell_type": "code",
   "execution_count": 1,
   "id": "2cbe05e4",
   "metadata": {},
   "outputs": [
    {
     "ename": "NameError",
     "evalue": "name 'surf' is not defined",
     "output_type": "error",
     "traceback": [
      "\u001b[0;31m---------------------------------------------------------------------------\u001b[0m",
      "\u001b[0;31mNameError\u001b[0m                                 Traceback (most recent call last)",
      "\u001b[0;32m/tmp/ipykernel_15211/3657994546.py\u001b[0m in \u001b[0;36m<module>\u001b[0;34m\u001b[0m\n\u001b[0;32m----> 1\u001b[0;31m \u001b[0msurf\u001b[0m\u001b[0;34m.\u001b[0m\u001b[0mreactions\u001b[0m\u001b[0;34m(\u001b[0m\u001b[0;34m)\u001b[0m\u001b[0;34m[\u001b[0m\u001b[0;36m3\u001b[0m\u001b[0;34m]\u001b[0m\u001b[0;34m\u001b[0m\u001b[0;34m\u001b[0m\u001b[0m\n\u001b[0m",
      "\u001b[0;31mNameError\u001b[0m: name 'surf' is not defined"
     ]
    }
   ],
   "source": [
    "surf.reactions()[3]"
   ]
  },
  {
   "cell_type": "code",
   "execution_count": null,
   "id": "db435974",
   "metadata": {},
   "outputs": [],
   "source": []
  }
 ],
 "metadata": {
  "kernelspec": {
   "display_name": "Python 3 (ipykernel)",
   "language": "python",
   "name": "python3"
  },
  "language_info": {
   "codemirror_mode": {
    "name": "ipython",
    "version": 3
   },
   "file_extension": ".py",
   "mimetype": "text/x-python",
   "name": "python",
   "nbconvert_exporter": "python",
   "pygments_lexer": "ipython3",
   "version": "3.7.12"
  }
 },
 "nbformat": 4,
 "nbformat_minor": 5
}
