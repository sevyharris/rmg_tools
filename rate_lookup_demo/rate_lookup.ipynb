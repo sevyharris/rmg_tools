{
 "cells": [
  {
   "cell_type": "markdown",
   "id": "446f9f1a",
   "metadata": {},
   "source": [
    "# Reaction Rate Lookup in RMG"
   ]
  },
  {
   "cell_type": "code",
   "execution_count": 1,
   "id": "3c65ee58",
   "metadata": {},
   "outputs": [],
   "source": [
    "import numpy as np\n",
    "import matplotlib.pyplot as plt\n",
    "\n",
    "import rmgpy.data.thermo\n",
    "import rmgpy.data.kinetics\n",
    "import rmgpy.reaction\n",
    "import rmgpy.species\n",
    "\n",
    "\n",
    "import rmgpy.chemkin"
   ]
  },
  {
   "cell_type": "markdown",
   "id": "8eed4835",
   "metadata": {},
   "source": [
    "## Loading Reactions from Existing Mechanism"
   ]
  },
  {
   "cell_type": "code",
   "execution_count": 2,
   "id": "b9a56ee3",
   "metadata": {},
   "outputs": [],
   "source": [
    "# load a model from chemkin\n",
    "surf_chemkin = 'co_oxidation_rmg/chemkin/chem_annotated-surface.inp'\n",
    "gas_chemkin = 'co_oxidation_rmg/chemkin/chem_annotated-gas.inp'\n",
    "species_dict = 'co_oxidation_rmg/chemkin/species_dictionary.txt'\n",
    "gas_spec, gas_rxn = rmgpy.chemkin.load_chemkin_file(gas_chemkin, dictionary_path=species_dict)\n",
    "surf_spec, surf_rxn = rmgpy.chemkin.load_chemkin_file(surf_chemkin, dictionary_path=species_dict)\n",
    "\n",
    "SDEN = 2.7200E-09 * 10000\n",
    "\n",
    "species = gas_spec + surf_spec\n",
    "reactions = gas_rxn + surf_rxn"
   ]
  },
  {
   "cell_type": "code",
   "execution_count": 3,
   "id": "990b26f3",
   "metadata": {},
   "outputs": [
    {
     "name": "stdout",
     "output_type": "stream",
     "text": [
      "Ar\n",
      "Ne\n",
      "N2\n",
      "O2(3)\n",
      "CO2(4)\n",
      "CO(5)\n",
      "X(1)\n",
      "OX(2)\n",
      "OCX(14)\n",
      "CO2X2(24)\n",
      "COX2(33)\n",
      "CO2X3(37)\n"
     ]
    }
   ],
   "source": [
    "for spec in species:\n",
    "    print(spec)"
   ]
  },
  {
   "cell_type": "code",
   "execution_count": 4,
   "id": "53955478",
   "metadata": {},
   "outputs": [
    {
     "name": "stdout",
     "output_type": "stream",
     "text": [
      "OX(2) + OX(2) <=> X(1) + X(1) + O2(3)\n",
      "OCX(14) <=> X(1) + CO(5)\n",
      "X(1) + X(1) + CO2(4) <=> OX(2) + OCX(14)\n",
      "X(1) + OCX(14) <=> COX2(33)\n",
      "X(1) + X(1) + CO2(4) <=> CO2X2(24)\n",
      "CO2X2(24) <=> OX(2) + OCX(14)\n",
      "CO2X3(37) <=> OX(2) + COX2(33)\n",
      "X(1) + CO2X2(24) <=> CO2X3(37)\n",
      "OCX(14) + CO2X3(37) <=> COX2(33) + CO2X2(24)\n"
     ]
    }
   ],
   "source": [
    "for rxn in reactions:\n",
    "    print(rxn)"
   ]
  },
  {
   "cell_type": "code",
   "execution_count": 5,
   "id": "6ad67f98",
   "metadata": {},
   "outputs": [
    {
     "data": {
      "image/png": "[encoded data removed]",
      "text/plain": [
       "LibraryReaction(index=1, reactants=[Species(index=2, label=\"OX\", thermo=NASA(polynomials=[NASAPolynomial(coeffs=[-0.759011,0.0189868,-3.82473e-05,3.43557e-08,-1.13974e-11,-14621.8,1.76017], Tmin=(100,'K'), Tmax=(888.26,'K')), NASAPolynomial(coeffs=[1.89893,0.00203297,-1.19977e-06,2.32682e-10,-1.5351e-14,-14897.3,-9.64101], Tmin=(888.26,'K'), Tmax=(5000,'K'))], Tmin=(100,'K'), Tmax=(5000,'K'), comment=\"\"\"Thermo library: surfaceThermoPt111 Binding energy corrected by LSR (1.00O) from Pt111\"\"\"), molecule=[Molecule(smiles=\"O=[Pt]\")], molecular_weight=(15.9994,'amu')), Species(index=2, label=\"OX\", thermo=NASA(polynomials=[NASAPolynomial(coeffs=[-0.759011,0.0189868,-3.82473e-05,3.43557e-08,-1.13974e-11,-14621.8,1.76017], Tmin=(100,'K'), Tmax=(888.26,'K')), NASAPolynomial(coeffs=[1.89893,0.00203297,-1.19977e-06,2.32682e-10,-1.5351e-14,-14897.3,-9.64101], Tmin=(888.26,'K'), Tmax=(5000,'K'))], Tmin=(100,'K'), Tmax=(5000,'K'), comment=\"\"\"Thermo library: surfaceThermoPt111 Binding energy corrected by LSR (1.00O) from Pt111\"\"\"), molecule=[Molecule(smiles=\"O=[Pt]\")], molecular_weight=(15.9994,'amu'))], products=[Species(index=1, label=\"X\", thermo=NASA(polynomials=[NASAPolynomial(coeffs=[0.00710134,-4.25614e-05,8.98519e-08,-7.80181e-11,2.32462e-14,-0.876099,-0.0311209], Tmin=(100,'K'), Tmax=(1554.81,'K')), NASAPolynomial(coeffs=[0.160301,-0.000252238,1.14182e-07,-1.21474e-11,3.85809e-16,-70.8109,-0.909537], Tmin=(1554.81,'K'), Tmax=(5000,'K'))], Tmin=(100,'K'), Tmax=(5000,'K'), comment=\"\"\"Thermo library: surfaceThermoPt111 Binding energy corrected by LSR () from Pt111\"\"\"), molecule=[Molecule(smiles=\"[Pt]\")], molecular_weight=(0,'amu')), Species(index=1, label=\"X\", thermo=NASA(polynomials=[NASAPolynomial(coeffs=[0.00710134,-4.25614e-05,8.98519e-08,-7.80181e-11,2.32462e-14,-0.876099,-0.0311209], Tmin=(100,'K'), Tmax=(1554.81,'K')), NASAPolynomial(coeffs=[0.160301,-0.000252238,1.14182e-07,-1.21474e-11,3.85809e-16,-70.8109,-0.909537], Tmin=(1554.81,'K'), Tmax=(5000,'K'))], Tmin=(100,'K'), Tmax=(5000,'K'), comment=\"\"\"Thermo library: surfaceThermoPt111 Binding energy corrected by LSR () from Pt111\"\"\"), molecule=[Molecule(smiles=\"[Pt]\")], molecular_weight=(0,'amu')), Species(label=\"O2(3)\", molecule=[Molecule(smiles=\"[O][O]\")], molecular_weight=(31.9988,'amu'))], kinetics=Arrhenius(A=(3.7e+21,'cm^3/(mol*s)'), n=0, Ea=(66.611,'kcal/mol'), T0=(1,'K')), pairs=[(Species(index=2, label=\"OX\", thermo=NASA(polynomials=[NASAPolynomial(coeffs=[-0.759011,0.0189868,-3.82473e-05,3.43557e-08,-1.13974e-11,-14621.8,1.76017], Tmin=(100,'K'), Tmax=(888.26,'K')), NASAPolynomial(coeffs=[1.89893,0.00203297,-1.19977e-06,2.32682e-10,-1.5351e-14,-14897.3,-9.64101], Tmin=(888.26,'K'), Tmax=(5000,'K'))], Tmin=(100,'K'), Tmax=(5000,'K'), comment=\"\"\"Thermo library: surfaceThermoPt111 Binding energy corrected by LSR (1.00O) from Pt111\"\"\"), molecule=[Molecule(smiles=\"O=[Pt]\")], molecular_weight=(15.9994,'amu')), Species(label=\"O2(3)\", molecule=[Molecule(smiles=\"[O][O]\")], molecular_weight=(31.9988,'amu'))), (Species(index=2, label=\"OX\", thermo=NASA(polynomials=[NASAPolynomial(coeffs=[-0.759011,0.0189868,-3.82473e-05,3.43557e-08,-1.13974e-11,-14621.8,1.76017], Tmin=(100,'K'), Tmax=(888.26,'K')), NASAPolynomial(coeffs=[1.89893,0.00203297,-1.19977e-06,2.32682e-10,-1.5351e-14,-14897.3,-9.64101], Tmin=(888.26,'K'), Tmax=(5000,'K'))], Tmin=(100,'K'), Tmax=(5000,'K'), comment=\"\"\"Thermo library: surfaceThermoPt111 Binding energy corrected by LSR (1.00O) from Pt111\"\"\"), molecule=[Molecule(smiles=\"O=[Pt]\")], molecular_weight=(15.9994,'amu')), Species(index=1, label=\"X\", thermo=NASA(polynomials=[NASAPolynomial(coeffs=[0.00710134,-4.25614e-05,8.98519e-08,-7.80181e-11,2.32462e-14,-0.876099,-0.0311209], Tmin=(100,'K'), Tmax=(1554.81,'K')), NASAPolynomial(coeffs=[0.160301,-0.000252238,1.14182e-07,-1.21474e-11,3.85809e-16,-70.8109,-0.909537], Tmin=(1554.81,'K'), Tmax=(5000,'K'))], Tmin=(100,'K'), Tmax=(5000,'K'), comment=\"\"\"Thermo library: surfaceThermoPt111 Binding energy corrected by LSR () from Pt111\"\"\"), molecule=[Molecule(smiles=\"[Pt]\")], molecular_weight=(0,'amu'))), (Species(index=2, label=\"OX\", thermo=NASA(polynomials=[NASAPolynomial(coeffs=[-0.759011,0.0189868,-3.82473e-05,3.43557e-08,-1.13974e-11,-14621.8,1.76017], Tmin=(100,'K'), Tmax=(888.26,'K')), NASAPolynomial(coeffs=[1.89893,0.00203297,-1.19977e-06,2.32682e-10,-1.5351e-14,-14897.3,-9.64101], Tmin=(888.26,'K'), Tmax=(5000,'K'))], Tmin=(100,'K'), Tmax=(5000,'K'), comment=\"\"\"Thermo library: surfaceThermoPt111 Binding energy corrected by LSR (1.00O) from Pt111\"\"\"), molecule=[Molecule(smiles=\"O=[Pt]\")], molecular_weight=(15.9994,'amu')), Species(index=1, label=\"X\", thermo=NASA(polynomials=[NASAPolynomial(coeffs=[0.00710134,-4.25614e-05,8.98519e-08,-7.80181e-11,2.32462e-14,-0.876099,-0.0311209], Tmin=(100,'K'), Tmax=(1554.81,'K')), NASAPolynomial(coeffs=[0.160301,-0.000252238,1.14182e-07,-1.21474e-11,3.85809e-16,-70.8109,-0.909537], Tmin=(1554.81,'K'), Tmax=(5000,'K'))], Tmin=(100,'K'), Tmax=(5000,'K'), comment=\"\"\"Thermo library: surfaceThermoPt111 Binding energy corrected by LSR () from Pt111\"\"\"), molecule=[Molecule(smiles=\"[Pt]\")], molecular_weight=(0,'amu')))])"
      ]
     },
     "execution_count": 5,
     "metadata": {},
     "output_type": "execute_result"
    }
   ],
   "source": [
    "# Display the reaction of interest\n",
    "reactions[0]"
   ]
  },
  {
   "cell_type": "code",
   "execution_count": 6,
   "id": "4b61d9ab",
   "metadata": {},
   "outputs": [
    {
     "data": {
      "text/plain": [
       "Arrhenius(A=(3.7e+21,'cm^3/(mol*s)'), n=0, Ea=(66.611,'kcal/mol'), T0=(1,'K'))"
      ]
     },
     "execution_count": 6,
     "metadata": {},
     "output_type": "execute_result"
    }
   ],
   "source": [
    "reactions[0].kinetics"
   ]
  },
  {
   "cell_type": "code",
   "execution_count": 7,
   "id": "b212091a",
   "metadata": {},
   "outputs": [
    {
     "data": {
      "text/plain": [
       "10.249108147236555"
      ]
     },
     "execution_count": 7,
     "metadata": {},
     "output_type": "execute_result"
    }
   ],
   "source": [
    "# Lookup rate coefficient at T=1000K\n",
    "T = 1000.0\n",
    "reactions[0].get_rate_coefficient(T)\n",
    "\n",
    "# NOTE this is incorrect, the units are wrong and it should be a SurfaceArrhenius instead of Arrhenius. I'm looking into the the issue"
   ]
  },
  {
   "cell_type": "code",
   "execution_count": 8,
   "id": "7dd3ab39",
   "metadata": {},
   "outputs": [
    {
     "data": {
      "text/plain": [
       "'Surface/CPOX_Pt/Deutschmann2006_adjusted'"
      ]
     },
     "execution_count": 8,
     "metadata": {},
     "output_type": "execute_result"
    }
   ],
   "source": [
    "reactions[0].library"
   ]
  },
  {
   "cell_type": "code",
   "execution_count": 9,
   "id": "4fd9f206",
   "metadata": {},
   "outputs": [
    {
     "data": {
      "image/png": "[encoded data removed]",
      "text/plain": [
       "LibraryReaction(index=2, reactants=[Species(index=14, label=\"OCX\", thermo=NASA(polynomials=[NASAPolynomial(coeffs=[-1.3822,0.0375313,-8.29789e-05,8.09746e-08,-2.85492e-11,-32921.1,4.3547], Tmin=(100,'K'), Tmax=(891.31,'K')), NASAPolynomial(coeffs=[1.38107,0.0080569,-4.64292e-06,8.9113e-10,-5.90014e-14,-32735.4,-4.85409], Tmin=(891.31,'K'), Tmax=(5000,'K'))], Tmin=(100,'K'), Tmax=(5000,'K'), comment=\"\"\"Thermo library: surfaceThermoPt111 Binding energy corrected by LSR (0.50C) from Pt111\"\"\"), molecule=[Molecule(smiles=\"O=C=[Pt]\")], molecular_weight=(28.01,'amu'))], products=[Species(index=1, label=\"X\", thermo=NASA(polynomials=[NASAPolynomial(coeffs=[0.00710134,-4.25614e-05,8.98519e-08,-7.80181e-11,2.32462e-14,-0.876099,-0.0311209], Tmin=(100,'K'), Tmax=(1554.81,'K')), NASAPolynomial(coeffs=[0.160301,-0.000252238,1.14182e-07,-1.21474e-11,3.85809e-16,-70.8109,-0.909537], Tmin=(1554.81,'K'), Tmax=(5000,'K'))], Tmin=(100,'K'), Tmax=(5000,'K'), comment=\"\"\"Thermo library: surfaceThermoPt111 Binding energy corrected by LSR () from Pt111\"\"\"), molecule=[Molecule(smiles=\"[Pt]\")], molecular_weight=(0,'amu')), Species(label=\"CO(5)\", molecule=[Molecule(smiles=\"[C-]#[O+]\")], molecular_weight=(28.01,'amu'))], kinetics=Arrhenius(A=(1e+11,'s^-1'), n=0, Ea=(40.511,'kcal/mol'), T0=(1,'K')), pairs=[(Species(index=14, label=\"OCX\", thermo=NASA(polynomials=[NASAPolynomial(coeffs=[-1.3822,0.0375313,-8.29789e-05,8.09746e-08,-2.85492e-11,-32921.1,4.3547], Tmin=(100,'K'), Tmax=(891.31,'K')), NASAPolynomial(coeffs=[1.38107,0.0080569,-4.64292e-06,8.9113e-10,-5.90014e-14,-32735.4,-4.85409], Tmin=(891.31,'K'), Tmax=(5000,'K'))], Tmin=(100,'K'), Tmax=(5000,'K'), comment=\"\"\"Thermo library: surfaceThermoPt111 Binding energy corrected by LSR (0.50C) from Pt111\"\"\"), molecule=[Molecule(smiles=\"O=C=[Pt]\")], molecular_weight=(28.01,'amu')), Species(index=1, label=\"X\", thermo=NASA(polynomials=[NASAPolynomial(coeffs=[0.00710134,-4.25614e-05,8.98519e-08,-7.80181e-11,2.32462e-14,-0.876099,-0.0311209], Tmin=(100,'K'), Tmax=(1554.81,'K')), NASAPolynomial(coeffs=[0.160301,-0.000252238,1.14182e-07,-1.21474e-11,3.85809e-16,-70.8109,-0.909537], Tmin=(1554.81,'K'), Tmax=(5000,'K'))], Tmin=(100,'K'), Tmax=(5000,'K'), comment=\"\"\"Thermo library: surfaceThermoPt111 Binding energy corrected by LSR () from Pt111\"\"\"), molecule=[Molecule(smiles=\"[Pt]\")], molecular_weight=(0,'amu'))), (Species(index=14, label=\"OCX\", thermo=NASA(polynomials=[NASAPolynomial(coeffs=[-1.3822,0.0375313,-8.29789e-05,8.09746e-08,-2.85492e-11,-32921.1,4.3547], Tmin=(100,'K'), Tmax=(891.31,'K')), NASAPolynomial(coeffs=[1.38107,0.0080569,-4.64292e-06,8.9113e-10,-5.90014e-14,-32735.4,-4.85409], Tmin=(891.31,'K'), Tmax=(5000,'K'))], Tmin=(100,'K'), Tmax=(5000,'K'), comment=\"\"\"Thermo library: surfaceThermoPt111 Binding energy corrected by LSR (0.50C) from Pt111\"\"\"), molecule=[Molecule(smiles=\"O=C=[Pt]\")], molecular_weight=(28.01,'amu')), Species(label=\"CO(5)\", molecule=[Molecule(smiles=\"[C-]#[O+]\")], molecular_weight=(28.01,'amu')))])"
      ]
     },
     "execution_count": 9,
     "metadata": {},
     "output_type": "execute_result"
    }
   ],
   "source": [
    "# repeat for reaction 1\n",
    "reactions[1]"
   ]
  },
  {
   "cell_type": "code",
   "execution_count": 10,
   "id": "f306c2a0",
   "metadata": {},
   "outputs": [
    {
     "name": "stdout",
     "output_type": "stream",
     "text": [
      "Arrhenius(A=(1e+11,'s^-1'), n=0, Ea=(40.511,'kcal/mol'), T0=(1,'K'))\n",
      "140.1246669168738\n"
     ]
    }
   ],
   "source": [
    "print(reactions[1].kinetics)\n",
    "print(reactions[1].get_rate_coefficient(T, surface_site_density=SDEN))"
   ]
  },
  {
   "cell_type": "code",
   "execution_count": 11,
   "id": "4d2b7aae",
   "metadata": {},
   "outputs": [
    {
     "data": {
      "image/png": "[encoded data removed]",
      "text/plain": [
       "TemplateReaction(index=3, reactants=[Species(index=1, label=\"X\", thermo=NASA(polynomials=[NASAPolynomial(coeffs=[0.00710134,-4.25614e-05,8.98519e-08,-7.80181e-11,2.32462e-14,-0.876099,-0.0311209], Tmin=(100,'K'), Tmax=(1554.81,'K')), NASAPolynomial(coeffs=[0.160301,-0.000252238,1.14182e-07,-1.21474e-11,3.85809e-16,-70.8109,-0.909537], Tmin=(1554.81,'K'), Tmax=(5000,'K'))], Tmin=(100,'K'), Tmax=(5000,'K'), comment=\"\"\"Thermo library: surfaceThermoPt111 Binding energy corrected by LSR () from Pt111\"\"\"), molecule=[Molecule(smiles=\"[Pt]\")], molecular_weight=(0,'amu')), Species(index=1, label=\"X\", thermo=NASA(polynomials=[NASAPolynomial(coeffs=[0.00710134,-4.25614e-05,8.98519e-08,-7.80181e-11,2.32462e-14,-0.876099,-0.0311209], Tmin=(100,'K'), Tmax=(1554.81,'K')), NASAPolynomial(coeffs=[0.160301,-0.000252238,1.14182e-07,-1.21474e-11,3.85809e-16,-70.8109,-0.909537], Tmin=(1554.81,'K'), Tmax=(5000,'K'))], Tmin=(100,'K'), Tmax=(5000,'K'), comment=\"\"\"Thermo library: surfaceThermoPt111 Binding energy corrected by LSR () from Pt111\"\"\"), molecule=[Molecule(smiles=\"[Pt]\")], molecular_weight=(0,'amu')), Species(label=\"CO2(4)\", molecule=[Molecule(smiles=\"O=C=O\")], molecular_weight=(44.0094,'amu'))], products=[Species(index=2, label=\"OX\", thermo=NASA(polynomials=[NASAPolynomial(coeffs=[-0.759011,0.0189868,-3.82473e-05,3.43557e-08,-1.13974e-11,-14621.8,1.76017], Tmin=(100,'K'), Tmax=(888.26,'K')), NASAPolynomial(coeffs=[1.89893,0.00203297,-1.19977e-06,2.32682e-10,-1.5351e-14,-14897.3,-9.64101], Tmin=(888.26,'K'), Tmax=(5000,'K'))], Tmin=(100,'K'), Tmax=(5000,'K'), comment=\"\"\"Thermo library: surfaceThermoPt111 Binding energy corrected by LSR (1.00O) from Pt111\"\"\"), molecule=[Molecule(smiles=\"O=[Pt]\")], molecular_weight=(15.9994,'amu')), Species(index=14, label=\"OCX\", thermo=NASA(polynomials=[NASAPolynomial(coeffs=[-1.3822,0.0375313,-8.29789e-05,8.09746e-08,-2.85492e-11,-32921.1,4.3547], Tmin=(100,'K'), Tmax=(891.31,'K')), NASAPolynomial(coeffs=[1.38107,0.0080569,-4.64292e-06,8.9113e-10,-5.90014e-14,-32735.4,-4.85409], Tmin=(891.31,'K'), Tmax=(5000,'K'))], Tmin=(100,'K'), Tmax=(5000,'K'), comment=\"\"\"Thermo library: surfaceThermoPt111 Binding energy corrected by LSR (0.50C) from Pt111\"\"\"), molecule=[Molecule(smiles=\"O=C=[Pt]\")], molecular_weight=(28.01,'amu'))], kinetics=StickingCoefficient(A=0.02, n=0, Ea=(10,'kcal/mol'), T0=(1,'K'), comment=\"\"\"Estimated using template [Adsorbate;VacantSite1;VacantSite2] for rate rule [CO2;VacantSite1;VacantSite2]\n",
       "Euclidian distance = 2.0\n",
       "Multiplied by reaction path degeneracy 2.0\n",
       "family: Surface_Adsorption_Dissociative_Double\"\"\"), degeneracy=2.0, pairs=[(Species(label=\"CO2(4)\", molecule=[Molecule(smiles=\"O=C=O\")], molecular_weight=(44.0094,'amu')), Species(index=14, label=\"OCX\", thermo=NASA(polynomials=[NASAPolynomial(coeffs=[-1.3822,0.0375313,-8.29789e-05,8.09746e-08,-2.85492e-11,-32921.1,4.3547], Tmin=(100,'K'), Tmax=(891.31,'K')), NASAPolynomial(coeffs=[1.38107,0.0080569,-4.64292e-06,8.9113e-10,-5.90014e-14,-32735.4,-4.85409], Tmin=(891.31,'K'), Tmax=(5000,'K'))], Tmin=(100,'K'), Tmax=(5000,'K'), comment=\"\"\"Thermo library: surfaceThermoPt111 Binding energy corrected by LSR (0.50C) from Pt111\"\"\"), molecule=[Molecule(smiles=\"O=C=[Pt]\")], molecular_weight=(28.01,'amu'))), (Species(index=1, label=\"X\", thermo=NASA(polynomials=[NASAPolynomial(coeffs=[0.00710134,-4.25614e-05,8.98519e-08,-7.80181e-11,2.32462e-14,-0.876099,-0.0311209], Tmin=(100,'K'), Tmax=(1554.81,'K')), NASAPolynomial(coeffs=[0.160301,-0.000252238,1.14182e-07,-1.21474e-11,3.85809e-16,-70.8109,-0.909537], Tmin=(1554.81,'K'), Tmax=(5000,'K'))], Tmin=(100,'K'), Tmax=(5000,'K'), comment=\"\"\"Thermo library: surfaceThermoPt111 Binding energy corrected by LSR () from Pt111\"\"\"), molecule=[Molecule(smiles=\"[Pt]\")], molecular_weight=(0,'amu')), Species(index=2, label=\"OX\", thermo=NASA(polynomials=[NASAPolynomial(coeffs=[-0.759011,0.0189868,-3.82473e-05,3.43557e-08,-1.13974e-11,-14621.8,1.76017], Tmin=(100,'K'), Tmax=(888.26,'K')), NASAPolynomial(coeffs=[1.89893,0.00203297,-1.19977e-06,2.32682e-10,-1.5351e-14,-14897.3,-9.64101], Tmin=(888.26,'K'), Tmax=(5000,'K'))], Tmin=(100,'K'), Tmax=(5000,'K'), comment=\"\"\"Thermo library: surfaceThermoPt111 Binding energy corrected by LSR (1.00O) from Pt111\"\"\"), molecule=[Molecule(smiles=\"O=[Pt]\")], molecular_weight=(15.9994,'amu'))), (Species(index=1, label=\"X\", thermo=NASA(polynomials=[NASAPolynomial(coeffs=[0.00710134,-4.25614e-05,8.98519e-08,-7.80181e-11,2.32462e-14,-0.876099,-0.0311209], Tmin=(100,'K'), Tmax=(1554.81,'K')), NASAPolynomial(coeffs=[0.160301,-0.000252238,1.14182e-07,-1.21474e-11,3.85809e-16,-70.8109,-0.909537], Tmin=(1554.81,'K'), Tmax=(5000,'K'))], Tmin=(100,'K'), Tmax=(5000,'K'), comment=\"\"\"Thermo library: surfaceThermoPt111 Binding energy corrected by LSR () from Pt111\"\"\"), molecule=[Molecule(smiles=\"[Pt]\")], molecular_weight=(0,'amu')), Species(index=2, label=\"OX\", thermo=NASA(polynomials=[NASAPolynomial(coeffs=[-0.759011,0.0189868,-3.82473e-05,3.43557e-08,-1.13974e-11,-14621.8,1.76017], Tmin=(100,'K'), Tmax=(888.26,'K')), NASAPolynomial(coeffs=[1.89893,0.00203297,-1.19977e-06,2.32682e-10,-1.5351e-14,-14897.3,-9.64101], Tmin=(888.26,'K'), Tmax=(5000,'K'))], Tmin=(100,'K'), Tmax=(5000,'K'), comment=\"\"\"Thermo library: surfaceThermoPt111 Binding energy corrected by LSR (1.00O) from Pt111\"\"\"), molecule=[Molecule(smiles=\"O=[Pt]\")], molecular_weight=(15.9994,'amu')))], family='Surface_Adsorption_Dissociative_Double', template=['CO2', 'VacantSite1', 'VacantSite2'])"
      ]
     },
     "execution_count": 11,
     "metadata": {},
     "output_type": "execute_result"
    }
   ],
   "source": [
    "# repeat for reaction 2\n",
    "reactions[2]"
   ]
  },
  {
   "cell_type": "code",
   "execution_count": 12,
   "id": "2d0a38b5",
   "metadata": {},
   "outputs": [
    {
     "name": "stdout",
     "output_type": "stream",
     "text": [
      "StickingCoefficient(A=0.02, n=0, Ea=(10,'kcal/mol'), T0=(1,'K'), comment=\"\"\"Estimated using template [Adsorbate;VacantSite1;VacantSite2] for rate rule [CO2;VacantSite1;VacantSite2]\n",
      "Euclidian distance = 2.0\n",
      "Multiplied by reaction path degeneracy 2.0\n",
      "family: Surface_Adsorption_Dissociative_Double\"\"\")\n",
      "30584013.06673674\n"
     ]
    }
   ],
   "source": [
    "print(reactions[2].kinetics)\n",
    "print(reactions[2].get_rate_coefficient(T, surface_site_density=SDEN))"
   ]
  },
  {
   "cell_type": "markdown",
   "id": "45fab463",
   "metadata": {},
   "source": [
    "## Looking up Reaction Rate Programmatically"
   ]
  },
  {
   "cell_type": "code",
   "execution_count": 18,
   "id": "128f1a5f",
   "metadata": {},
   "outputs": [],
   "source": [
    "# Load Thermo Database\n",
    "thermo_library_path = \"/home/moon/rmg/RMG-database/input/thermo/\"\n",
    "thermo_database = rmgpy.data.thermo.ThermoDatabase()\n",
    "thermo_database.load(\n",
    "    thermo_library_path,\n",
    "    libraries = ['primaryThermoLibrary']\n",
    "#     libraries = [\n",
    "#         'surfaceThermoPt111',\n",
    "#     ],\n",
    "#     surface='Pt'\n",
    ")"
   ]
  },
  {
   "cell_type": "code",
   "execution_count": 20,
   "id": "d2955dea",
   "metadata": {},
   "outputs": [],
   "source": [
    "# Load Kinetics Database (quick, automatically loads recommended families)\n",
    "ref_library_path = \"/home/moon/rmg/RMG-database/input/kinetics/\"\n",
    "ref_database = rmgpy.data.kinetics.KineticsDatabase()\n",
    "ref_database.load(\n",
    "    ref_library_path,\n",
    "    libraries=[\n",
    "        'Surface/CPOX_Pt/Deutschmann2006_adjusted',\n",
    "    ],\n",
    "    families=[]\n",
    ")"
   ]
  },
  {
   "cell_type": "markdown",
   "id": "976e2eed",
   "metadata": {},
   "source": [
    "### Load Species Individually"
   ]
  },
  {
   "cell_type": "code",
   "execution_count": 21,
   "id": "77b8d7e9",
   "metadata": {},
   "outputs": [],
   "source": [
    "# reaction 0\n",
    "o2 = rmgpy.species.Species(smiles='[O][O]')\n",
    "\n",
    "Pt = rmgpy.species.Species()\n",
    "Pt.from_adjacency_list(\"\"\"\n",
    "1 X u0 p0 c0\n",
    "\"\"\")\n",
    "\n",
    "ox = rmgpy.species.Species()\n",
    "ox.from_adjacency_list(\"\"\"\n",
    "1 X u0 p0 c0 {2,D}\n",
    "2 O u0 p2 c0 {1,D}\n",
    "\"\"\")\n",
    "\n",
    "# store the species in a reaction object\n",
    "reaction0 = rmgpy.reaction.Reaction(\n",
    "    reactants = [ox, ox],\n",
    "    products = [Pt, Pt, o2]\n",
    ")"
   ]
  },
  {
   "cell_type": "code",
   "execution_count": 22,
   "id": "3d2ac880",
   "metadata": {},
   "outputs": [],
   "source": [
    "# reaction 1\n",
    "CO = rmgpy.species.Species(smiles='[C-]#[O+]')\n",
    "\n",
    "Pt = rmgpy.species.Species()\n",
    "Pt.from_adjacency_list(\"\"\"\n",
    "1 X u0 p0 c0\n",
    "\"\"\")\n",
    "\n",
    "OCX = rmgpy.species.Species()\n",
    "OCX.from_adjacency_list(\"\"\"\n",
    "1 O u0 p2 c0 {2,D}\n",
    "2 C u0 p0 c0 {1,D} {3,D}\n",
    "3 X u0 p0 c0 {2,D}\n",
    "\"\"\")\n",
    "\n",
    "# store the species in a reaction object\n",
    "reaction1 = rmgpy.reaction.Reaction(\n",
    "    reactants = [OCX],\n",
    "    products = [Pt, CO]\n",
    ")"
   ]
  },
  {
   "cell_type": "code",
   "execution_count": 23,
   "id": "1097520d",
   "metadata": {},
   "outputs": [
    {
     "name": "stderr",
     "output_type": "stream",
     "text": [
      "ERROR:root:Error attempting to get thermo for species O=[Pt] with structure \n",
      "1 X u0 p0 c0 {2,D}\n",
      "2 O u0 p2 c0 {1,D}\n",
      "\n"
     ]
    },
    {
     "ename": "KeyError",
     "evalue": "'metal'",
     "output_type": "error",
     "traceback": [
      "\u001b[0;31m---------------------------------------------------------------------------\u001b[0m",
      "\u001b[0;31mKeyError\u001b[0m                                  Traceback (most recent call last)",
      "\u001b[0;32m/tmp/ipykernel_2147/817167420.py\u001b[0m in \u001b[0;36m<module>\u001b[0;34m\u001b[0m\n\u001b[1;32m     20\u001b[0m \"\"\")\n\u001b[1;32m     21\u001b[0m \u001b[0;34m\u001b[0m\u001b[0m\n\u001b[0;32m---> 22\u001b[0;31m \u001b[0mox\u001b[0m\u001b[0;34m.\u001b[0m\u001b[0mthermo\u001b[0m \u001b[0;34m=\u001b[0m \u001b[0mthermo_database\u001b[0m\u001b[0;34m.\u001b[0m\u001b[0mget_thermo_data\u001b[0m\u001b[0;34m(\u001b[0m\u001b[0mox\u001b[0m\u001b[0;34m)\u001b[0m\u001b[0;34m\u001b[0m\u001b[0;34m\u001b[0m\u001b[0m\n\u001b[0m\u001b[1;32m     23\u001b[0m \u001b[0mo2\u001b[0m\u001b[0;34m.\u001b[0m\u001b[0mthermo\u001b[0m \u001b[0;34m=\u001b[0m \u001b[0mthermo_database\u001b[0m\u001b[0;34m.\u001b[0m\u001b[0mget_thermo_data\u001b[0m\u001b[0;34m(\u001b[0m\u001b[0mo2\u001b[0m\u001b[0;34m)\u001b[0m\u001b[0;34m\u001b[0m\u001b[0;34m\u001b[0m\u001b[0m\n\u001b[1;32m     24\u001b[0m \u001b[0mPt\u001b[0m\u001b[0;34m.\u001b[0m\u001b[0mthermo\u001b[0m \u001b[0;34m=\u001b[0m \u001b[0mthermo_database\u001b[0m\u001b[0;34m.\u001b[0m\u001b[0mget_thermo_data\u001b[0m\u001b[0;34m(\u001b[0m\u001b[0mPt\u001b[0m\u001b[0;34m)\u001b[0m\u001b[0;34m\u001b[0m\u001b[0;34m\u001b[0m\u001b[0m\n",
      "\u001b[0;32m~/rmg/RMG-Py/rmgpy/data/thermo.py\u001b[0m in \u001b[0;36mget_thermo_data\u001b[0;34m(self, species, metal_to_scale_to, training_set)\u001b[0m\n\u001b[1;32m   1282\u001b[0m             \u001b[0;32mtry\u001b[0m\u001b[0;34m:\u001b[0m\u001b[0;34m\u001b[0m\u001b[0;34m\u001b[0m\u001b[0m\n\u001b[1;32m   1283\u001b[0m                 \u001b[0mthermo0\u001b[0m \u001b[0;34m=\u001b[0m \u001b[0mself\u001b[0m\u001b[0;34m.\u001b[0m\u001b[0mget_thermo_data_for_surface_species\u001b[0m\u001b[0;34m(\u001b[0m\u001b[0mspecies\u001b[0m\u001b[0;34m)\u001b[0m\u001b[0;34m\u001b[0m\u001b[0;34m\u001b[0m\u001b[0m\n\u001b[0;32m-> 1284\u001b[0;31m                 \u001b[0mthermo0\u001b[0m \u001b[0;34m=\u001b[0m \u001b[0mself\u001b[0m\u001b[0;34m.\u001b[0m\u001b[0mcorrect_binding_energy\u001b[0m\u001b[0;34m(\u001b[0m\u001b[0mthermo0\u001b[0m\u001b[0;34m,\u001b[0m \u001b[0mspecies\u001b[0m\u001b[0;34m,\u001b[0m \u001b[0mmetal_to_scale_from\u001b[0m\u001b[0;34m=\u001b[0m\u001b[0;34m\"Pt111\"\u001b[0m\u001b[0;34m,\u001b[0m \u001b[0mmetal_to_scale_to\u001b[0m\u001b[0;34m=\u001b[0m\u001b[0mmetal_to_scale_to\u001b[0m\u001b[0;34m)\u001b[0m  \u001b[0;31m# group adsorption values come from Pt111\u001b[0m\u001b[0;34m\u001b[0m\u001b[0;34m\u001b[0m\u001b[0m\n\u001b[0m\u001b[1;32m   1285\u001b[0m                 \u001b[0;32mreturn\u001b[0m \u001b[0mthermo0\u001b[0m\u001b[0;34m\u001b[0m\u001b[0;34m\u001b[0m\u001b[0m\n\u001b[1;32m   1286\u001b[0m             \u001b[0;32mexcept\u001b[0m\u001b[0;34m:\u001b[0m\u001b[0;34m\u001b[0m\u001b[0;34m\u001b[0m\u001b[0m\n",
      "\u001b[0;32m~/rmg/RMG-Py/rmgpy/data/thermo.py\u001b[0m in \u001b[0;36mcorrect_binding_energy\u001b[0;34m(self, thermo, species, metal_to_scale_from, metal_to_scale_to)\u001b[0m\n\u001b[1;32m   1469\u001b[0m             \u001b[0mmetal_to_scale_from_binding_energies\u001b[0m \u001b[0;34m=\u001b[0m \u001b[0mself\u001b[0m\u001b[0;34m.\u001b[0m\u001b[0mbinding_energies\u001b[0m\u001b[0;34m\u001b[0m\u001b[0;34m\u001b[0m\u001b[0m\n\u001b[1;32m   1470\u001b[0m         \u001b[0;32melse\u001b[0m\u001b[0;34m:\u001b[0m\u001b[0;34m\u001b[0m\u001b[0;34m\u001b[0m\u001b[0m\n\u001b[0;32m-> 1471\u001b[0;31m             \u001b[0mmetal_to_scale_from_binding_energies\u001b[0m \u001b[0;34m=\u001b[0m \u001b[0mself\u001b[0m\u001b[0;34m.\u001b[0m\u001b[0msurface\u001b[0m\u001b[0;34m[\u001b[0m\u001b[0;34m'metal'\u001b[0m\u001b[0;34m]\u001b[0m\u001b[0;34m.\u001b[0m\u001b[0mfind_binding_energies\u001b[0m\u001b[0;34m(\u001b[0m\u001b[0mmetal_to_scale_from\u001b[0m\u001b[0;34m)\u001b[0m\u001b[0;34m\u001b[0m\u001b[0;34m\u001b[0m\u001b[0m\n\u001b[0m\u001b[1;32m   1472\u001b[0m \u001b[0;34m\u001b[0m\u001b[0m\n\u001b[1;32m   1473\u001b[0m         delta_atomic_adsorption_energy = {\n",
      "\u001b[0;31mKeyError\u001b[0m: 'metal'"
     ]
    }
   ],
   "source": [
    "# reaction 2\n",
    "Pt = rmgpy.species.Species()\n",
    "Pt.from_adjacency_list(\"\"\"\n",
    "1 X u0 p0 c0\n",
    "\"\"\")\n",
    "\n",
    "co2 = rmgpy.species.Species(smiles='O=C=O')\n",
    "\n",
    "ox = rmgpy.species.Species()\n",
    "ox.from_adjacency_list(\"\"\"\n",
    "1 X u0 p0 c0 {2,D}\n",
    "2 O u0 p2 c0 {1,D}\n",
    "\"\"\")\n",
    "\n",
    "OCX = rmgpy.species.Species()\n",
    "OCX.from_adjacency_list(\"\"\"\n",
    "1 O u0 p2 c0 {2,D}\n",
    "2 C u0 p0 c0 {1,D} {3,D}\n",
    "3 X u0 p0 c0 {2,D}\n",
    "\"\"\")\n",
    "\n",
    "ox.thermo = thermo_database.get_thermo_data(ox)\n",
    "o2.thermo = thermo_database.get_thermo_data(o2)\n",
    "Pt.thermo = thermo_database.get_thermo_data(Pt)\n",
    "OCX.thermo = thermo_database.get_thermo_data(OCX)\n",
    "co2.thermo = thermo_database.get_thermo_data(co2)\n",
    "\n",
    "# store the species in a reaction object\n",
    "reaction2 = rmgpy.reaction.Reaction(\n",
    "    reactants = [Pt, Pt, co2],\n",
    "    products = [ox, OCX]\n",
    ")"
   ]
  },
  {
   "cell_type": "markdown",
   "id": "7efc2093",
   "metadata": {},
   "source": [
    "## Lookup Reaction in Libraries"
   ]
  },
  {
   "cell_type": "code",
   "execution_count": null,
   "id": "d4a7ad01",
   "metadata": {},
   "outputs": [],
   "source": [
    "# Reaction 0\n",
    "lib_rxns = []\n",
    "for lib_key in ref_database.libraries:\n",
    "    lib = ref_database.libraries[lib_key]\n",
    "    rxns = ref_database.generate_reactions_from_library(lib, reaction0.reactants, products=reaction0.products)\n",
    "    for r in rxns:\n",
    "        lib_rxns.append(r)\n",
    "print(lib_rxns)\n",
    "\n",
    "# Use reaction kinetics to estimate rate\n",
    "if len(lib_rxns) > 0:\n",
    "    lib_rxns[0].get_rate_coefficient(T)"
   ]
  },
  {
   "cell_type": "code",
   "execution_count": null,
   "id": "2948b431",
   "metadata": {},
   "outputs": [],
   "source": [
    "# Reaction 1\n",
    "lib_rxns = []\n",
    "for lib_key in ref_database.libraries:\n",
    "    lib = ref_database.libraries[lib_key]\n",
    "    rxns = ref_database.generate_reactions_from_library(lib, reaction1.reactants, products=reaction1.products)\n",
    "    for r in rxns:\n",
    "        lib_rxns.append(r)\n",
    "print(lib_rxns)\n",
    "\n",
    "# Use reaction kinetics to estimate rate\n",
    "if len(lib_rxns) > 0:\n",
    "    lib_rxns[0].get_rate_coefficient(T)"
   ]
  },
  {
   "cell_type": "code",
   "execution_count": null,
   "id": "efcfb853",
   "metadata": {},
   "outputs": [],
   "source": [
    "# Reaction 2 -- not found in library\n",
    "lib_rxns = []\n",
    "for lib_key in ref_database.libraries:\n",
    "    lib = ref_database.libraries[lib_key]\n",
    "    rxns = ref_database.generate_reactions_from_library(lib, reaction2.reactants, products=reaction2.products)\n",
    "    for r in rxns:\n",
    "        lib_rxns.append(r)\n",
    "print(lib_rxns)\n",
    "\n",
    "# Use reaction kinetics to estimate rate\n",
    "if len(lib_rxns) > 0:\n",
    "    lib_rxns[0].get_rate_coefficient(T)"
   ]
  },
  {
   "cell_type": "markdown",
   "id": "65701853",
   "metadata": {},
   "source": [
    "## Lookup Reaction in Families if not found in Libraries"
   ]
  },
  {
   "cell_type": "markdown",
   "id": "c80ce8d4",
   "metadata": {},
   "source": [
    "Triplet O2 and CO are both kind of strange exceptions and so the first two reactions do not fit any current reaction templates. Reaction 2 does produce a match"
   ]
  },
  {
   "cell_type": "code",
   "execution_count": 21,
   "id": "606bb5e4",
   "metadata": {},
   "outputs": [
    {
     "name": "stdout",
     "output_type": "stream",
     "text": [
      "[]\n"
     ]
    }
   ],
   "source": [
    "# try to match reaction 0\n",
    "templates = ref_database.generate_reactions_from_families(reaction0.reactants, products=reaction0.products)\n",
    "print(templates)"
   ]
  },
  {
   "cell_type": "code",
   "execution_count": 22,
   "id": "be9b86dd",
   "metadata": {},
   "outputs": [
    {
     "name": "stdout",
     "output_type": "stream",
     "text": [
      "[]\n"
     ]
    }
   ],
   "source": [
    "# try to match reaction 1\n",
    "templates = ref_database.generate_reactions_from_families(reaction1.reactants, products=reaction1.products)\n",
    "print(templates)"
   ]
  },
  {
   "cell_type": "code",
   "execution_count": 23,
   "id": "26f65723",
   "metadata": {},
   "outputs": [
    {
     "name": "stdout",
     "output_type": "stream",
     "text": [
      "[TemplateReaction(reactants=[Species(label=\"[Pt]\", molecule=[Molecule(smiles=\"[Pt]\")], molecular_weight=(0,'amu')), Species(label=\"[Pt]\", molecule=[Molecule(smiles=\"[Pt]\")], molecular_weight=(0,'amu')), Species(label=\"O=C=O\", molecule=[Molecule(smiles=\"O=C=O\")], molecular_weight=(44.0094,'amu'))], products=[Species(label=\"O=[Pt]\", molecule=[Molecule(smiles=\"O=[Pt]\")], molecular_weight=(15.9994,'amu')), Species(label=\"O=C=[Pt]\", molecule=[Molecule(smiles=\"O=C=[Pt]\")], molecular_weight=(28.01,'amu'))], pairs=[[Species(label=\"O=C=O\", molecule=[Molecule(smiles=\"O=C=O\")], molecular_weight=(44.0094,'amu')), Species(label=\"O=[Pt]\", molecule=[Molecule(smiles=\"O=[Pt]\")], molecular_weight=(15.9994,'amu'))], [Species(label=\"O=C=O\", molecule=[Molecule(smiles=\"O=C=O\")], molecular_weight=(44.0094,'amu')), Species(label=\"O=C=[Pt]\", molecule=[Molecule(smiles=\"O=C=[Pt]\")], molecular_weight=(28.01,'amu'))]], family='Surface_Adsorption_Dissociative_Double', template=['CO2', 'VacantSite1', 'VacantSite2'])]\n"
     ]
    }
   ],
   "source": [
    "# try to match reaction 2\n",
    "templates = ref_database.generate_reactions_from_families(reaction2.reactants, products=reaction2.products)\n",
    "print(templates)"
   ]
  },
  {
   "cell_type": "code",
   "execution_count": 24,
   "id": "a4e35284",
   "metadata": {},
   "outputs": [
    {
     "name": "stdout",
     "output_type": "stream",
     "text": [
      "<class 'rmgpy.kinetics.surface.StickingCoefficientBEP'>\n",
      "<class 'rmgpy.kinetics.surface.StickingCoefficient'>\n"
     ]
    },
    {
     "data": {
      "text/plain": [
       "15292006.53336837"
      ]
     },
     "execution_count": 24,
     "metadata": {},
     "output_type": "execute_result"
    }
   ],
   "source": [
    "# Estimate the reaction rate for reaction 2\n",
    "family_kinetics_bep = ref_database.families[templates[0].family].get_kinetics(reaction2, templates[0].template)[0][0]\n",
    "print(type(family_kinetics_bep))\n",
    "# StickingCoefficientBEP is not enough to estimate kinetics, need to convert to StickingCoefficient using enthalpy of reaction\n",
    "\n",
    "dH = reaction2.get_enthalpy_of_reaction(1000)\n",
    "reaction2.kinetics = family_kinetics_bep.to_arrhenius(dH)\n",
    "print(type(reaction2.kinetics))\n",
    "\n",
    "# SDEN *=10000\n",
    "reaction2.get_rate_coefficient(T, surface_site_density=SDEN)"
   ]
  },
  {
   "cell_type": "markdown",
   "id": "b06a6a3a",
   "metadata": {},
   "source": [
    "## Plot Reaction Rate vs. Inverse Temperature"
   ]
  },
  {
   "cell_type": "code",
   "execution_count": 25,
   "id": "cc6a1d28",
   "metadata": {},
   "outputs": [
    {
     "data": {
      "text/plain": [
       "[<matplotlib.lines.Line2D at 0x7f2744ed3990>,\n",
       " <matplotlib.lines.Line2D at 0x7f2744d9e690>]"
      ]
     },
     "execution_count": 25,
     "metadata": {},
     "output_type": "execute_result"
    },
    {
     "data": {
      "image/png": "[encoded data removed]",
      "text/plain": [
       "<Figure size 432x288 with 1 Axes>"
      ]
     },
     "metadata": {
      "needs_background": "light"
     },
     "output_type": "display_data"
    }
   ],
   "source": [
    "%matplotlib inline\n",
    "plt.xlabel('1/T ($K^{-1})$')\n",
    "plt.ylabel('ln(k)')\n",
    "plt.title('Reaction Rate vs. Inverse Temperature')\n",
    "T_ = np.linspace(300, 3000, 1001)\n",
    "T_inv = 1.0 / T_\n",
    "\n",
    "k_saved_mechanism = np.zeros(len(T_))\n",
    "k_programmatic = np.zeros(len(T_))\n",
    "for i in range(0, len(T_)):\n",
    "    k_saved_mechanism[i] = reactions[2].get_rate_coefficient(T_[i], surface_site_density=SDEN)\n",
    "    k_programmatic[i] = reaction2.get_rate_coefficient(T_[i], surface_site_density=SDEN)\n",
    "plt.plot(T_inv, np.log(k_saved_mechanism), T_inv, np.log(k_programmatic))\n",
    "\n",
    "# NOTE the saved mechanism is from several months ago and there have been many updates to RMG in the meantime."
   ]
  },
  {
   "cell_type": "code",
   "execution_count": null,
   "id": "bf32382b",
   "metadata": {},
   "outputs": [],
   "source": []
  }
 ],
 "metadata": {
  "kernelspec": {
   "display_name": "Python 3 (ipykernel)",
   "language": "python",
   "name": "python3"
  },
  "language_info": {
   "codemirror_mode": {
    "name": "ipython",
    "version": 3
   },
   "file_extension": ".py",
   "mimetype": "text/x-python",
   "name": "python",
   "nbconvert_exporter": "python",
   "pygments_lexer": "ipython3",
   "version": "3.7.12"
  }
 },
 "nbformat": 4,
 "nbformat_minor": 5
}
