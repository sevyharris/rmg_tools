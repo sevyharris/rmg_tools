{
 "cells": [
  {
   "cell_type": "code",
   "execution_count": null,
   "id": "ce5e92dc",
   "metadata": {},
   "outputs": [],
   "source": [
    "# script to set up many simulations\n",
    "# import pandas as pd\n",
    "# import pickle\n",
    "import numpy as np\n",
    "import cantera as ct\n",
    "import concurrent.futures\n",
    "import copy\n",
    "import rmgpy.chemkin\n",
    "import rmgpy.species\n",
    "import rmgpy.tools.canteramodel\n",
    "import rmgpy.constants\n",
    "\n",
    "import matplotlib.pyplot as plt\n",
    "%matplotlib inline\n"
   ]
  },
  {
   "cell_type": "code",
   "execution_count": null,
   "id": "5fec5e0e",
   "metadata": {},
   "outputs": [],
   "source": [
    "def plot_kinetics(rxns, labels=None):\n",
    "    \"\"\"Function for plotting reaction kinetics\n",
    "    Takes in a list of RMG reactions (rmgpy.reaction.Reaction) or a single reaction\n",
    "    \"\"\"\n",
    "    plt.xlabel('1000 / T (K^-1)')\n",
    "    plt.ylabel('log10(k)')\n",
    "\n",
    "    if type(rxns) != list:\n",
    "        rxns = [rxns]\n",
    "\n",
    "    T = np.linspace(300, 3000, 1001)\n",
    "    for rxn in rxns:\n",
    "        k = np.zeros(len(T))\n",
    "        for i in range(0, len(T)):\n",
    "            k[i] = rxn.get_rate_coefficient(T[i], 1013250)\n",
    "        plt.plot(1000.0 / T, np.log10(k))\n",
    "\n",
    "    if labels:\n",
    "        plt.legend(labels)\n",
    "#     plt.show()"
   ]
  },
  {
   "cell_type": "code",
   "execution_count": null,
   "id": "8e2e20ad",
   "metadata": {},
   "outputs": [],
   "source": [
    "# load in the rmg mechanism\n",
    "chemkin_file = '/home/moon/autoscience/fuels/with_lib/butane_20240413/chem_annotated.inp'\n",
    "dict_file = '/home/moon/autoscience/fuels/with_lib/butane_20240413/species_dictionary.txt'\n",
    "\n",
    "\n",
    "chemkin_file = '/home/moon/autoscience/fuels/butane_20240501/chem_annotated.inp'\n",
    "dict_file = '/home/moon/autoscience/fuels/butane_20240501/species_dictionary.txt'\n",
    "\n",
    "\n",
    "chemkin_file = '/home/moon/autoscience/aramco/total_aramco_mech.inp'\n",
    "dict_file = '/home/moon/autoscience/aramco/species_dictionary.txt'\n",
    "\n",
    "species_list, reaction_list = rmgpy.chemkin.load_chemkin_file(chemkin_file, dictionary_path=dict_file)\n"
   ]
  },
  {
   "cell_type": "code",
   "execution_count": null,
   "id": "a0649018",
   "metadata": {},
   "outputs": [],
   "source": [
    "def perturb_reaction(rxn, delta):  # 0.1 is default\n",
    "    # takes in an RMG reaction object\n",
    "    # delta is the ln(k) amount to perturb the A factor\n",
    "    # delta is a multiplicative factor- units don't matter, yay!\n",
    "    # does not deepycopy because there's some issues with rmgpy.reactions copying\n",
    "    if type(rxn.kinetics) == rmgpy.kinetics.chebyshev.Chebyshev:\n",
    "        rxn.kinetics.coeffs.value_si[0][0] += np.log10(1.0 + delta)\n",
    "    elif type(rxn.kinetics) in [rmgpy.kinetics.falloff.Troe, rmgpy.kinetics.falloff.ThirdBody, rmgpy.kinetics.falloff.Lindemann]:\n",
    "        if hasattr(rxn.kinetics, 'arrheniusHigh'):\n",
    "            rxn.kinetics.arrheniusHigh.A.value *= np.exp(delta)\n",
    "        if hasattr(rxn.kinetics, 'arrheniusLow'):\n",
    "            rxn.kinetics.arrheniusLow.A.value *= np.exp(delta)\n",
    "    elif type(rxn.kinetics) == rmgpy.kinetics.arrhenius.MultiArrhenius:\n",
    "        for j in range(len(rxn.kinetics.arrhenius)):\n",
    "            rxn.kinetics.arrhenius[j].A.value *= np.exp(delta)\n",
    "    elif type(rxn.kinetics) == rmgpy.kinetics.arrhenius.PDepArrhenius:\n",
    "        for j in range(len(rxn.kinetics.arrhenius)):\n",
    "            if type(rxn.kinetics.arrhenius[j]) == rmgpy.kinetics.arrhenius.Arrhenius:\n",
    "                rxn.kinetics.arrhenius[j].A.value *= np.exp(delta)\n",
    "            else:\n",
    "                raise ValueError(f'weird kinetics {str(rxn.kinetics)}')\n",
    "    elif type(rxn.kinetics) == rmgpy.kinetics.arrhenius.MultiPDepArrhenius:\n",
    "        for i in range(len(rxn.kinetics.arrhenius)):\n",
    "            for j in range(len(rxn.kinetics.arrhenius[i].arrhenius)):\n",
    "                if type(rxn.kinetics.arrhenius[i].arrhenius[j]) == rmgpy.kinetics.arrhenius.Arrhenius:\n",
    "                    rxn.kinetics.arrhenius[i].arrhenius[j].A.value *= np.exp(delta)\n",
    "                elif type(rxn.kinetics.arrhenius[i].arrhenius[j]) == rmgpy.kinetics.arrhenius.MultiArrhenius:\n",
    "                    for k in range(len(rxn.kinetics.arrhenius[i].arrhenius[j].arrhenius)):\n",
    "                        rxn.kinetics.arrhenius[i].arrhenius[j].arrhenius[k].A.value *= np.exp(delta)\n",
    "                else:\n",
    "                    raise ValueError(f'weird kinetics {str(rxn.kinetics)}')\n",
    "\n",
    "    else:  # Arrhenius\n",
    "        rxn.kinetics.A.value *= np.exp(delta)\n"
   ]
  },
  {
   "cell_type": "code",
   "execution_count": null,
   "id": "9df323b0",
   "metadata": {},
   "outputs": [],
   "source": []
  },
  {
   "cell_type": "markdown",
   "id": "ce9f2468",
   "metadata": {},
   "source": [
    "# Regular Arrhenius Demo"
   ]
  },
  {
   "cell_type": "code",
   "execution_count": null,
   "id": "fce0c9e8",
   "metadata": {
    "scrolled": true
   },
   "outputs": [],
   "source": [
    "# load a fresh model\n",
    "species_list, reaction_list = rmgpy.chemkin.load_chemkin_file(chemkin_file, dictionary_path=dict_file)\n",
    "\n",
    "T = 1000\n",
    "P = 1013250\n",
    "delta = 0.1\n",
    "N = 5\n",
    "count = 0\n",
    "fig, ax = plt.subplots(N)\n",
    "fig.set_figheight(30)\n",
    "for i in range(len(reaction_list)):\n",
    "    if count >= N:\n",
    "        break\n",
    "    if type(reaction_list[i].kinetics) == rmgpy.kinetics.arrhenius.Arrhenius:\n",
    "        ref_kinetics = copy.deepcopy(reaction_list[i].kinetics)\n",
    "        plt.sca(ax[count])\n",
    "        perturb_reaction(reaction_list[i], delta)\n",
    "        plot_kinetics([ref_kinetics, reaction_list[i].kinetics], labels=['original', 'perturbed'])\n",
    "        count += 1"
   ]
  },
  {
   "cell_type": "markdown",
   "id": "27d894df",
   "metadata": {},
   "source": [
    "# Chebyshev demo"
   ]
  },
  {
   "cell_type": "code",
   "execution_count": null,
   "id": "0f4fe8be",
   "metadata": {},
   "outputs": [],
   "source": [
    "# load a fresh model\n",
    "species_list, reaction_list = rmgpy.chemkin.load_chemkin_file(chemkin_file, dictionary_path=dict_file)\n",
    "\n",
    "T = 1000\n",
    "P = 1013250\n",
    "delta = 0.1\n",
    "N = 5\n",
    "count = 0\n",
    "fig, ax = plt.subplots(N)\n",
    "fig.set_figheight(30)\n",
    "for i in range(len(reaction_list)):\n",
    "    if count >= N:\n",
    "        break\n",
    "    if type(reaction_list[i].kinetics) == rmgpy.kinetics.chebyshev.Chebyshev:\n",
    "        ref_kinetics = copy.deepcopy(reaction_list[i].kinetics)\n",
    "        plt.sca(ax[count])\n",
    "        perturb_reaction(reaction_list[i], delta)\n",
    "        plot_kinetics([ref_kinetics, reaction_list[i].kinetics], labels=['original', 'perturbed'])\n",
    "        count += 1"
   ]
  },
  {
   "cell_type": "markdown",
   "id": "40f7adc2",
   "metadata": {},
   "source": [
    "# Multi-arrhenius"
   ]
  },
  {
   "cell_type": "code",
   "execution_count": null,
   "id": "69ad7521",
   "metadata": {},
   "outputs": [],
   "source": [
    "# load a fresh model\n",
    "species_list, reaction_list = rmgpy.chemkin.load_chemkin_file(chemkin_file, dictionary_path=dict_file)\n",
    "\n",
    "T = 1000\n",
    "P = 1013250\n",
    "delta = 0.1\n",
    "N = 5\n",
    "count = 0\n",
    "fig, ax = plt.subplots(N)\n",
    "fig.set_figheight(30)\n",
    "for i in range(len(reaction_list)):\n",
    "    if count >= N:\n",
    "        break\n",
    "    if type(reaction_list[i].kinetics) == rmgpy.kinetics.arrhenius.MultiArrhenius:\n",
    "        ref_kinetics = copy.deepcopy(reaction_list[i].kinetics)\n",
    "        plt.sca(ax[count])\n",
    "        perturb_reaction(reaction_list[i], delta)\n",
    "        plot_kinetics([ref_kinetics, reaction_list[i].kinetics], labels=['original', 'perturbed'])\n",
    "        count += 1"
   ]
  },
  {
   "cell_type": "markdown",
   "id": "dba1f55f",
   "metadata": {},
   "source": [
    "# Multi PDEP"
   ]
  },
  {
   "cell_type": "code",
   "execution_count": null,
   "id": "0d70ab8a",
   "metadata": {},
   "outputs": [],
   "source": [
    "# load a fresh model\n",
    "species_list, reaction_list = rmgpy.chemkin.load_chemkin_file(chemkin_file, dictionary_path=dict_file)\n",
    "\n",
    "T = 1000\n",
    "P = 1013250\n",
    "delta = 0.1\n",
    "N = 5\n",
    "count = 0\n",
    "fig, ax = plt.subplots(N)\n",
    "fig.set_figheight(30)\n",
    "for i in range(len(reaction_list)):\n",
    "    if count >= N:\n",
    "        break\n",
    "    if type(reaction_list[i].kinetics) == rmgpy.kinetics.arrhenius.MultiPDepArrhenius:\n",
    "        ref_kinetics = copy.deepcopy(reaction_list[i].kinetics)\n",
    "        plt.sca(ax[count])\n",
    "        perturb_reaction(reaction_list[i], delta)\n",
    "        plot_kinetics([ref_kinetics, reaction_list[i].kinetics], labels=['original', 'perturbed'])\n",
    "        count += 1"
   ]
  },
  {
   "cell_type": "markdown",
   "id": "c398a437",
   "metadata": {},
   "source": [
    "# PDEP Arrhenius"
   ]
  },
  {
   "cell_type": "code",
   "execution_count": null,
   "id": "c554c27a",
   "metadata": {},
   "outputs": [],
   "source": [
    "# load a fresh model\n",
    "species_list, reaction_list = rmgpy.chemkin.load_chemkin_file(chemkin_file, dictionary_path=dict_file)\n",
    "\n",
    "T = 1000\n",
    "P = 1013250\n",
    "delta = 0.1\n",
    "N = 5\n",
    "count = 0\n",
    "fig, ax = plt.subplots(N)\n",
    "fig.set_figheight(30)\n",
    "for i in range(len(reaction_list)):\n",
    "    if count >= N:\n",
    "        break\n",
    "    if type(reaction_list[i].kinetics) == rmgpy.kinetics.arrhenius.PDepArrhenius:\n",
    "        ref_kinetics = copy.deepcopy(reaction_list[i].kinetics)\n",
    "        plt.sca(ax[count])\n",
    "        perturb_reaction(reaction_list[i], delta)\n",
    "        plot_kinetics([ref_kinetics, reaction_list[i].kinetics], labels=['original', 'perturbed'])\n",
    "        count += 1"
   ]
  },
  {
   "cell_type": "markdown",
   "id": "1ea1a7dd",
   "metadata": {},
   "source": [
    "# Troe"
   ]
  },
  {
   "cell_type": "code",
   "execution_count": null,
   "id": "ff2c1e90",
   "metadata": {},
   "outputs": [],
   "source": [
    "# load a fresh model\n",
    "species_list, reaction_list = rmgpy.chemkin.load_chemkin_file(chemkin_file, dictionary_path=dict_file)\n",
    "\n",
    "T = 1000\n",
    "P = 1013250\n",
    "delta = 0.1\n",
    "N = 5\n",
    "count = 0\n",
    "fig, ax = plt.subplots(N)\n",
    "fig.set_figheight(30)\n",
    "for i in range(len(reaction_list)):\n",
    "    if count >= N:\n",
    "        break\n",
    "    if type(reaction_list[i].kinetics) == rmgpy.kinetics.falloff.Troe:\n",
    "        ref_kinetics = copy.deepcopy(reaction_list[i].kinetics)\n",
    "        plt.sca(ax[count])\n",
    "        perturb_reaction(reaction_list[i], delta)\n",
    "        plot_kinetics([ref_kinetics, reaction_list[i].kinetics], labels=['original', 'perturbed'])\n",
    "        count += 1\n",
    "\n"
   ]
  },
  {
   "cell_type": "markdown",
   "id": "8652264c",
   "metadata": {},
   "source": [
    "# Third-Body"
   ]
  },
  {
   "cell_type": "code",
   "execution_count": null,
   "id": "447f791e",
   "metadata": {},
   "outputs": [],
   "source": [
    "# load a fresh model\n",
    "species_list, reaction_list = rmgpy.chemkin.load_chemkin_file(chemkin_file, dictionary_path=dict_file)\n",
    "\n",
    "T = 1000\n",
    "P = 1013250\n",
    "delta = 0.1\n",
    "N = 5\n",
    "count = 0\n",
    "fig, ax = plt.subplots(N)\n",
    "fig.set_figheight(30)\n",
    "for i in range(len(reaction_list)):\n",
    "    if count >= N:\n",
    "        break\n",
    "    if type(reaction_list[i].kinetics) == rmgpy.kinetics.falloff.ThirdBody:\n",
    "        ref_kinetics = copy.deepcopy(reaction_list[i].kinetics)\n",
    "        plt.sca(ax[count])\n",
    "        perturb_reaction(reaction_list[i], delta)\n",
    "        plot_kinetics([ref_kinetics, reaction_list[i].kinetics], labels=['original', 'perturbed'])\n",
    "        count += 1\n",
    "\n"
   ]
  },
  {
   "cell_type": "markdown",
   "id": "93a5ef61",
   "metadata": {},
   "source": [
    "# Lindemann"
   ]
  },
  {
   "cell_type": "code",
   "execution_count": null,
   "id": "e6512027",
   "metadata": {},
   "outputs": [],
   "source": [
    "# load a fresh model\n",
    "species_list, reaction_list = rmgpy.chemkin.load_chemkin_file(chemkin_file, dictionary_path=dict_file)\n",
    "\n",
    "T = 1000\n",
    "P = 1013250\n",
    "delta = 0.1\n",
    "N = 5\n",
    "count = 0\n",
    "fig, ax = plt.subplots(N)\n",
    "fig.set_figheight(30)\n",
    "for i in range(len(reaction_list)):\n",
    "    if count >= N:\n",
    "        break\n",
    "    if type(reaction_list[i].kinetics) == rmgpy.kinetics.falloff.Lindemann:\n",
    "        print(i)\n",
    "        ref_kinetics = copy.deepcopy(reaction_list[i].kinetics)\n",
    "        plt.sca(ax[count])\n",
    "        perturb_reaction(reaction_list[i], delta)\n",
    "        plot_kinetics([ref_kinetics, reaction_list[i].kinetics], labels=['original', 'perturbed'])\n",
    "        count += 1\n",
    "\n",
    "\n",
    "\n"
   ]
  },
  {
   "cell_type": "code",
   "execution_count": null,
   "id": "c9c5b30a",
   "metadata": {},
   "outputs": [],
   "source": []
  },
  {
   "cell_type": "code",
   "execution_count": null,
   "id": "75e740a5",
   "metadata": {},
   "outputs": [],
   "source": []
  },
  {
   "cell_type": "code",
   "execution_count": null,
   "id": "14107de6",
   "metadata": {},
   "outputs": [],
   "source": [
    "delta = 0.1\n",
    "for reaction in reaction_list:\n",
    "    try:\n",
    "        perturb_reaction(reaction, delta)\n",
    "    except AttributeError:\n",
    "        print('skipping ', type(reaction.kinetics))\n",
    "\n"
   ]
  },
  {
   "cell_type": "code",
   "execution_count": null,
   "id": "3b7a22d3",
   "metadata": {},
   "outputs": [],
   "source": []
  },
  {
   "cell_type": "code",
   "execution_count": null,
   "id": "75fd904a",
   "metadata": {},
   "outputs": [],
   "source": []
  }
 ],
 "metadata": {
  "kernelspec": {
   "display_name": "Python 3 (ipykernel)",
   "language": "python",
   "name": "python3"
  },
  "language_info": {
   "codemirror_mode": {
    "name": "ipython",
    "version": 3
   },
   "file_extension": ".py",
   "mimetype": "text/x-python",
   "name": "python",
   "nbconvert_exporter": "python",
   "pygments_lexer": "ipython3",
   "version": "3.7.16"
  }
 },
 "nbformat": 4,
 "nbformat_minor": 5
}
