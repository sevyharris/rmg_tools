{
 "cells": [
  {
   "cell_type": "code",
   "execution_count": 9,
   "id": "6f494898",
   "metadata": {},
   "outputs": [],
   "source": [
    "# script to remove duplicates\n",
    "import os\n",
    "import rmgpy.chemkin\n"
   ]
  },
  {
   "cell_type": "markdown",
   "id": "6db6e896",
   "metadata": {},
   "source": [
    "This still misses duplicate reactions of type:\n",
    "    A (+M) <=> A (+M)\n",
    "    A + A (+M) <=> A + A (+M)\n",
    "    \n",
    "We should either mark as duplicates, or delete the A + A (+M) <=> A + A (+M) type because it sounds less likely"
   ]
  },
  {
   "cell_type": "code",
   "execution_count": 10,
   "id": "4c569c12",
   "metadata": {},
   "outputs": [],
   "source": [
    "# load the mechanism\n",
    "chemkin_file = '/scratch/harris.se/guassian_scratch/RMG_min/RMG_min_2/chemkin/chem_annotated.inp'\n",
    "transport_file = os.path.join(os.path.dirname(chemkin_file), 'tran.dat')\n",
    "sp_dict = os.path.join(os.path.dirname(chemkin_file), 'species_dictionary.txt')\n",
    "species_list, reaction_list = rmgpy.chemkin.load_chemkin_file(chemkin_file, sp_dict, check_duplicates=False)\n"
   ]
  },
  {
   "cell_type": "code",
   "execution_count": 3,
   "id": "bf87ab7e",
   "metadata": {},
   "outputs": [],
   "source": [
    "# count the bad duplicate pairs\n",
    "bad_duplicate_pairs = []\n",
    "\n",
    "for i in range(len(reaction_list)):\n",
    "    for j in range(i):\n",
    "        if reaction_list[i].is_isomorphic(reaction_list[j]):\n",
    "            if not (reaction_list[i].duplicate and reaction_list[j].duplicate):\n",
    "                bad_duplicate_pairs.append([i, j])"
   ]
  },
  {
   "cell_type": "code",
   "execution_count": 4,
   "id": "35910410",
   "metadata": {},
   "outputs": [
    {
     "data": {
      "text/plain": [
       "38"
      ]
     },
     "execution_count": 4,
     "metadata": {},
     "output_type": "execute_result"
    }
   ],
   "source": [
    "len(bad_duplicate_pairs)"
   ]
  },
  {
   "cell_type": "code",
   "execution_count": 5,
   "id": "cd3b72c3",
   "metadata": {},
   "outputs": [
    {
     "data": {
      "text/plain": [
       "[[45, 33],\n",
       " [69, 50],\n",
       " [77, 71],\n",
       " [146, 140],\n",
       " [154, 150],\n",
       " [225, 205],\n",
       " [438, 434],\n",
       " [444, 432],\n",
       " [470, 459],\n",
       " [605, 468],\n",
       " [690, 688],\n",
       " [923, 922],\n",
       " [927, 926],\n",
       " [929, 928],\n",
       " [943, 240],\n",
       " [966, 949],\n",
       " [1064, 1060],\n",
       " [1116, 1114],\n",
       " [1128, 1104],\n",
       " [1323, 1321],\n",
       " [1366, 1340],\n",
       " [1524, 1520],\n",
       " [1548, 1546],\n",
       " [1575, 1574],\n",
       " [1580, 1079],\n",
       " [1612, 1596],\n",
       " [1618, 1593],\n",
       " [1619, 1592],\n",
       " [1641, 1603],\n",
       " [1686, 1606],\n",
       " [1723, 1713],\n",
       " [1743, 1740],\n",
       " [1881, 1329],\n",
       " [1889, 1709],\n",
       " [1903, 899],\n",
       " [1905, 915],\n",
       " [1938, 1921],\n",
       " [1956, 1339]]"
      ]
     },
     "execution_count": 5,
     "metadata": {},
     "output_type": "execute_result"
    }
   ],
   "source": [
    "bad_duplicate_pairs"
   ]
  },
  {
   "cell_type": "code",
   "execution_count": 6,
   "id": "fcb50a1c",
   "metadata": {},
   "outputs": [],
   "source": [
    "remove_list = []  # indices of reactions to remove\n",
    "remove_list_items = []  # Reaction objects of the reactions to remove\n",
    "for bad_duplicate_pair in bad_duplicate_pairs:\n",
    "    i = bad_duplicate_pair[0]\n",
    "    j = bad_duplicate_pair[1]\n",
    "        \n",
    "    # one PDEP and one library -- this is okay\n",
    "    if type(reaction_list[i]) == rmgpy.rmg.pdep.PDepReaction and \\\n",
    "            type(reaction_list[j]) == rmgpy.data.kinetics.library.LibraryReaction:\n",
    "        # mark them as duplicates\n",
    "        reaction_list[i].duplicate = True\n",
    "        reaction_list[j].duplicate = True\n",
    "    elif type(reaction_list[i]) != rmgpy.data.kinetics.library.LibraryReaction and \\\n",
    "            type(reaction_list[j]) == rmgpy.rmg.pdep.PDepReaction:\n",
    "        # mark them as duplicates\n",
    "        reaction_list[i].duplicate = True\n",
    "        reaction_list[j].duplicate = True\n",
    "        \n",
    "    # one library and one family -- this is bad. remove\n",
    "    elif type(reaction_list[i]) == rmgpy.data.kinetics.library.LibraryReaction and \\\n",
    "            type(reaction_list[j]) != rmgpy.data.kinetics.library.LibraryReaction:\n",
    "        remove_list.append(j)\n",
    "        remove_list_items.append(reaction_list[j])\n",
    "    elif type(reaction_list[i]) != rmgpy.data.kinetics.library.LibraryReaction and \\\n",
    "            type(reaction_list[j]) == rmgpy.data.kinetics.library.LibraryReaction:\n",
    "        remove_list.append(i)\n",
    "        remove_list_items.append(reaction_list[i])\n",
    "        \n",
    "    # one PDEP and one family -- this is okay\n",
    "    elif type(reaction_list[i]) == rmgpy.rmg.pdep.PDepReaction and \\\n",
    "            type(reaction_list[j]) != rmgpy.rmg.pdep.PDepReaction:\n",
    "        # mark them as duplicates\n",
    "        reaction_list[i].duplicate = True\n",
    "        reaction_list[j].duplicate = True\n",
    "    elif type(reaction_list[i]) != rmgpy.rmg.pdep.PDepReaction and \\\n",
    "            type(reaction_list[j]) == rmgpy.rmg.pdep.PDepReaction:\n",
    "        # mark them as duplicates\n",
    "        reaction_list[i].duplicate = True\n",
    "        reaction_list[j].duplicate = True\n",
    "        \n",
    "\n",
    "    # two PDEPs -- this is probably wrong\n",
    "    elif type(reaction_list[i]) == rmgpy.rmg.pdep.PDepReaction and \\\n",
    "        type(reaction_list[j]) == rmgpy.rmg.pdep.PDepReaction:\n",
    "        # remove the one with more reactants\n",
    "        if len(reaction_list[i].reactants) > reaction_list[j].reactants:\n",
    "            remove_list.append(i)\n",
    "            remove_list_items.append(reaction_list[i])\n",
    "        elif len(reaction_list[i].reactants) < reaction_list[j].reactants:\n",
    "            remove_list.append(j)\n",
    "            remove_list_items.append(reaction_list[j])\n",
    "        else:  # remove j by default because it was added second\n",
    "            remove_list.append(j)\n",
    "            remove_list_items.append(reaction_list[j])\n",
    "            \n",
    "    else:\n",
    "        print(type(reaction_list[i]))\n",
    "        print(type(reaction_list[j]))\n",
    "        print()"
   ]
  },
  {
   "cell_type": "code",
   "execution_count": 7,
   "id": "416a8f5b",
   "metadata": {},
   "outputs": [],
   "source": [
    "# actually remove the items\n",
    "for item in remove_list_items:\n",
    "    reaction_list.remove(item)"
   ]
  },
  {
   "cell_type": "code",
   "execution_count": 8,
   "id": "de366afd",
   "metadata": {},
   "outputs": [],
   "source": [
    "# save the resulting chemkin file\n",
    "outfile = os.path.join(os.path.dirname(chemkin_file), 'chem_annotated_fixed.inp')\n",
    "rmgpy.chemkin.save_chemkin_file(outfile, species_list, reaction_list)"
   ]
  },
  {
   "cell_type": "code",
   "execution_count": null,
   "id": "2f828449",
   "metadata": {},
   "outputs": [],
   "source": []
  }
 ],
 "metadata": {
  "kernelspec": {
   "display_name": "Python 3 (ipykernel)",
   "language": "python",
   "name": "python3"
  },
  "language_info": {
   "codemirror_mode": {
    "name": "ipython",
    "version": 3
   },
   "file_extension": ".py",
   "mimetype": "text/x-python",
   "name": "python",
   "nbconvert_exporter": "python",
   "pygments_lexer": "ipython3",
   "version": "3.7.16"
  }
 },
 "nbformat": 4,
 "nbformat_minor": 5
}
