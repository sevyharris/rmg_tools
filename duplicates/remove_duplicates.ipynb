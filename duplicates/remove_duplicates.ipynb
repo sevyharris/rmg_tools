{
 "cells": [
  {
   "cell_type": "code",
   "execution_count": 1,
   "id": "6f494898",
   "metadata": {},
   "outputs": [],
   "source": [
    "# script to remove duplicates\n",
    "import os\n",
    "import rmgpy.chemkin\n"
   ]
  },
  {
   "cell_type": "code",
   "execution_count": 2,
   "id": "4c569c12",
   "metadata": {},
   "outputs": [],
   "source": [
    "# load the mechanism\n",
    "chemkin_file = '/scratch/harris.se/guassian_scratch/RMG_min/RMG_min_2/chem_annotated.inp'\n",
    "transport_file = os.path.join(os.path.dirname(chemkin_file), 'tran.dat')\n",
    "sp_dict = os.path.join(os.path.dirname(chemkin_file), 'species_dictionary.txt')\n",
    "species_list, reaction_list = rmgpy.chemkin.load_chemkin_file(chemkin_file, sp_dict, check_duplicates=False)\n"
   ]
  },
  {
   "cell_type": "code",
   "execution_count": 3,
   "id": "bf87ab7e",
   "metadata": {},
   "outputs": [],
   "source": [
    "# count the bad duplicate pairs\n",
    "bad_duplicate_pairs = []\n",
    "\n",
    "for i in range(len(reaction_list)):\n",
    "    for j in range(i):\n",
    "        if reaction_list[i].is_isomorphic(reaction_list[j]):\n",
    "            if not (reaction_list[i].duplicate and reaction_list[j].duplicate):\n",
    "                bad_duplicate_pairs.append([i, j])\n",
    "                \n",
    "    \n",
    "    if len(reaction_list[i].reactants) == 1 and len(reaction_list[i].products) == 1:\n",
    "        # check for case of A (+M) <=> B (+M) not matched to 2A (+M) <=> 2B (+M) \n",
    "        \n",
    "        other_reaction = rmgpy.reaction.Reaction()\n",
    "        other_reaction.reactants = [reaction_list[i].reactants[0], reaction_list[i].reactants[0]]\n",
    "        other_reaction.products = [reaction_list[i].products[0], reaction_list[i].products[0]]\n",
    "        \n",
    "        for j in range(len(reaction_list)):\n",
    "            if j == i:\n",
    "                continue\n",
    "            if reaction_list[j].is_isomorphic(other_reaction):\n",
    "                bad_duplicate_pairs.append([i, j])"
   ]
  },
  {
   "cell_type": "code",
   "execution_count": 4,
   "id": "35910410",
   "metadata": {},
   "outputs": [
    {
     "data": {
      "text/plain": [
       "23"
      ]
     },
     "execution_count": 4,
     "metadata": {},
     "output_type": "execute_result"
    }
   ],
   "source": [
    "len(bad_duplicate_pairs)"
   ]
  },
  {
   "cell_type": "code",
   "execution_count": 5,
   "id": "cd3b72c3",
   "metadata": {},
   "outputs": [
    {
     "data": {
      "text/plain": [
       "[[45, 33],\n",
       " [68, 50],\n",
       " [80, 74],\n",
       " [203, 197],\n",
       " [209, 207],\n",
       " [230, 71],\n",
       " [475, 469],\n",
       " [490, 488],\n",
       " [575, 525],\n",
       " [634, 632],\n",
       " [862, 854],\n",
       " [935, 934],\n",
       " [943, 936],\n",
       " [944, 939],\n",
       " [1003, 162],\n",
       " [1045, 1030],\n",
       " [1174, 1163],\n",
       " [1296, 1297],\n",
       " [1321, 1316],\n",
       " [1389, 1053],\n",
       " [1539, 1535],\n",
       " [1541, 1533],\n",
       " [1558, 1529]]"
      ]
     },
     "execution_count": 5,
     "metadata": {},
     "output_type": "execute_result"
    }
   ],
   "source": [
    "bad_duplicate_pairs"
   ]
  },
  {
   "cell_type": "code",
   "execution_count": 6,
   "id": "fcb50a1c",
   "metadata": {},
   "outputs": [],
   "source": [
    "remove_list = []  # indices of reactions to remove\n",
    "remove_list_items = []  # Reaction objects of the reactions to remove\n",
    "for bad_duplicate_pair in bad_duplicate_pairs:\n",
    "    i = bad_duplicate_pair[0]\n",
    "    j = bad_duplicate_pair[1]\n",
    "        \n",
    "    # one PDEP and one library -- this is okay\n",
    "    if type(reaction_list[i]) == rmgpy.rmg.pdep.PDepReaction and \\\n",
    "            type(reaction_list[j]) == rmgpy.data.kinetics.library.LibraryReaction:\n",
    "        # mark them as duplicates\n",
    "        reaction_list[i].duplicate = True\n",
    "        reaction_list[j].duplicate = True\n",
    "    elif type(reaction_list[i]) != rmgpy.data.kinetics.library.LibraryReaction and \\\n",
    "            type(reaction_list[j]) == rmgpy.rmg.pdep.PDepReaction:\n",
    "        # mark them as duplicates\n",
    "        reaction_list[i].duplicate = True\n",
    "        reaction_list[j].duplicate = True\n",
    "        \n",
    "    # one library and one family -- this is bad. remove\n",
    "    elif type(reaction_list[i]) == rmgpy.data.kinetics.library.LibraryReaction and \\\n",
    "            type(reaction_list[j]) != rmgpy.data.kinetics.library.LibraryReaction:\n",
    "        remove_list.append(j)\n",
    "        remove_list_items.append(reaction_list[j])\n",
    "    elif type(reaction_list[i]) != rmgpy.data.kinetics.library.LibraryReaction and \\\n",
    "            type(reaction_list[j]) == rmgpy.data.kinetics.library.LibraryReaction:\n",
    "        remove_list.append(i)\n",
    "        remove_list_items.append(reaction_list[i])\n",
    "        \n",
    "    # one PDEP and one family -- this is okay\n",
    "    elif type(reaction_list[i]) == rmgpy.rmg.pdep.PDepReaction and \\\n",
    "            type(reaction_list[j]) != rmgpy.rmg.pdep.PDepReaction:\n",
    "        # mark them as duplicates\n",
    "        reaction_list[i].duplicate = True\n",
    "        reaction_list[j].duplicate = True\n",
    "    elif type(reaction_list[i]) != rmgpy.rmg.pdep.PDepReaction and \\\n",
    "            type(reaction_list[j]) == rmgpy.rmg.pdep.PDepReaction:\n",
    "        # mark them as duplicates\n",
    "        reaction_list[i].duplicate = True\n",
    "        reaction_list[j].duplicate = True\n",
    "        \n",
    "\n",
    "    # two PDEPs -- this is probably wrong\n",
    "    elif type(reaction_list[i]) == rmgpy.rmg.pdep.PDepReaction and \\\n",
    "        type(reaction_list[j]) == rmgpy.rmg.pdep.PDepReaction:\n",
    "        # remove the one with more reactants\n",
    "        if len(reaction_list[i].reactants) > reaction_list[j].reactants:\n",
    "            remove_list.append(i)\n",
    "            remove_list_items.append(reaction_list[i])\n",
    "        elif len(reaction_list[i].reactants) < reaction_list[j].reactants:\n",
    "            remove_list.append(j)\n",
    "            remove_list_items.append(reaction_list[j])\n",
    "        else:  # remove j by default because it was added second\n",
    "            remove_list.append(j)\n",
    "            remove_list_items.append(reaction_list[j])\n",
    "            \n",
    "    else:\n",
    "        print(type(reaction_list[i]))\n",
    "        print(type(reaction_list[j]))\n",
    "        print()"
   ]
  },
  {
   "cell_type": "code",
   "execution_count": 7,
   "id": "416a8f5b",
   "metadata": {},
   "outputs": [],
   "source": [
    "# actually remove the items\n",
    "for item in remove_list_items:\n",
    "    reaction_list.remove(item)"
   ]
  },
  {
   "cell_type": "code",
   "execution_count": 8,
   "id": "de366afd",
   "metadata": {},
   "outputs": [],
   "source": [
    "# save the resulting chemkin file\n",
    "outfile = os.path.join(os.path.dirname(chemkin_file), 'chem_annotated_fixed.inp')\n",
    "rmgpy.chemkin.save_chemkin_file(outfile, species_list, reaction_list)"
   ]
  },
  {
   "cell_type": "code",
   "execution_count": null,
   "id": "2f828449",
   "metadata": {},
   "outputs": [],
   "source": []
  }
 ],
 "metadata": {
  "kernelspec": {
   "display_name": "Python 3 (ipykernel)",
   "language": "python",
   "name": "python3"
  },
  "language_info": {
   "codemirror_mode": {
    "name": "ipython",
    "version": 3
   },
   "file_extension": ".py",
   "mimetype": "text/x-python",
   "name": "python",
   "nbconvert_exporter": "python",
   "pygments_lexer": "ipython3",
   "version": "3.7.16"
  }
 },
 "nbformat": 4,
 "nbformat_minor": 5
}
