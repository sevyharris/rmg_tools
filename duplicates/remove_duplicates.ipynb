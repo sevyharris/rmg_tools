{
 "cells": [
  {
   "cell_type": "code",
   "execution_count": 1,
   "id": "6f494898",
   "metadata": {},
   "outputs": [
    {
     "name": "stdout",
     "output_type": "stream",
     "text": [
      "Loading DFT database from /work/westgroup/harris.se/autoscience/reaction_calculator/database\n"
     ]
    }
   ],
   "source": [
    "# script to assemble mechanisms Frankenstein style\n",
    "import os\n",
    "import cantera as ct\n",
    "import cantera.ck2yaml\n",
    "import numpy as np\n",
    "import pandas as pd\n",
    "import concurrent.futures\n",
    "import rmgpy.chemkin\n",
    "\n",
    "\n",
    "import sys\n",
    "sys.path.append(os.path.join(os.environ['AUTOSCIENCE_REPO'], 'analysis'))\n",
    "\n",
    "import ignition_delay\n",
    "\n",
    "import os\n",
    "import re\n",
    "import glob\n",
    "import yaml\n",
    "\n",
    "import rmgpy.chemkin\n",
    "import rmgpy.data.kinetics\n",
    "import rmgpy.data.thermo\n",
    "import rmgpy.data.rmg\n",
    "\n",
    "\n",
    "import numpy as np\n",
    "import pandas as pd\n",
    "# import importlib\n",
    "# importlib.reload(rmgpy.data.kinetics)\n",
    "\n",
    "import numpy as np\n",
    "import matplotlib.pyplot as plt\n",
    "from collections import OrderedDict\n",
    "\n",
    "import sys\n",
    "sys.path.append('/work/westgroup/harris.se/autoscience/reaction_calculator/database/')\n",
    "import database_fun\n",
    "import subprocess\n",
    "\n",
    "import matplotlib.pyplot as plt\n",
    "%matplotlib inline\n",
    "\n",
    "DFT_DIR = os.environ['DFT_DIR']"
   ]
  },
  {
   "cell_type": "code",
   "execution_count": null,
   "id": "72a53c77",
   "metadata": {},
   "outputs": [],
   "source": []
  },
  {
   "cell_type": "code",
   "execution_count": 3,
   "id": "15e82446",
   "metadata": {},
   "outputs": [],
   "source": [
    "basedir = '/work/westgroup/harris.se/autoscience/concatenate'\n",
    "\n",
    "# basedir = '/scratch/harris.se/guassian_scratch/RMG_min/RMG_min_6'\n",
    "chemkin_file = os.path.join(basedir, 'chem_annotated.inp')\n",
    "transport_file = os.path.join(basedir, 'tran.dat')\n",
    "sp_dict = os.path.join(basedir, 'species_dictionary.txt')\n",
    "species_list, reaction_list = rmgpy.chemkin.load_chemkin_file(chemkin_file, sp_dict, check_duplicates=False)\n",
    "\n",
    "# chemkin2 = os.path.join(basedir, 'chemkin2.inp')\n",
    "# rmgpy.chemkin.save_chemkin_file(chemkin2, species_list, reaction_list, check_for_duplicates=True)\n"
   ]
  },
  {
   "cell_type": "code",
   "execution_count": 3,
   "id": "ecc1c3a0",
   "metadata": {},
   "outputs": [],
   "source": [
    "# file_name"
   ]
  },
  {
   "cell_type": "code",
   "execution_count": 4,
   "id": "798bf774",
   "metadata": {},
   "outputs": [],
   "source": [
    "# file_name = os.path.join(basedir, os.path.splitext(os.path.basename(chemkin2))[0] + \".yaml\")\n",
    "# parser = ct.ck2yaml.Parser()\n",
    "# result, other = parser.convert_mech(chemkin_file, transport_file=transport_file, out_name=file_name, quiet=False, permissive=False)\n",
    "\n",
    "    "
   ]
  },
  {
   "cell_type": "markdown",
   "id": "d5815e03",
   "metadata": {},
   "source": [
    "# Check for duplicate Arrhenius with harris_butane"
   ]
  },
  {
   "cell_type": "code",
   "execution_count": 3,
   "id": "ff71999e",
   "metadata": {},
   "outputs": [
    {
     "name": "stdout",
     "output_type": "stream",
     "text": [
      "33 HO2(16) + C[CH2](20) <=> H2O2(17) + C2H4(11)\n",
      "34 OH(15) + butane(1) <=> H2O(8) + [CH2]CCC(24)\n",
      "35 O2(2) + [CH2]CCC(24) <=> HO2(16) + C4H8(47)\n",
      "36 O2(2) + C[CH]CC(23) <=> HO2(16) + C4H8(47)\n",
      "37 OH(15) + C3H6(12) <=> H2O(8) + [CH2]C=C(22)\n",
      "38 C[CH]CC(23) + CC(CCOO)OO(183) <=> C4H9O4(181) + butane(1)\n",
      "39 HO2(16) + C[CH]CC(23) <=> O2(2) + butane(1)\n",
      "40 H2O2(17) + C[CH]CC(23) <=> HO2(16) + butane(1)\n",
      "41 CCOO(54) + C[CH]CC(23) <=> CCO[O](28) + butane(1)\n",
      "42 C[CH]CC(23) + CCC(C)OO(80) <=> CCC(C)O[O](52) + butane(1)\n",
      "43 H2O2(17) + [CH2]CCC(24) <=> HO2(16) + butane(1)\n",
      "44 C[CH]CC(23) + CCCCOO(226) <=> CCCCO[O](215) + butane(1)\n",
      "45 [CH2]CCC(24) + CCCCOO(226) <=> CCCCO[O](215) + butane(1)\n",
      "46 HO2(16) + CCCCO[O](215) <=> O2(2) + CCCCOO(226)\n",
      "47 COO(31) + C[CH]CC(23) <=> CO[O](30) + butane(1)\n"
     ]
    }
   ],
   "source": [
    "for i in range(len(reaction_list)):\n",
    "    if hasattr(reaction_list[i], 'family') and 'harris_butane' in reaction_list[i].family.lower():\n",
    "        print(i, reaction_list[i])"
   ]
  },
  {
   "cell_type": "code",
   "execution_count": null,
   "id": "0a634297",
   "metadata": {},
   "outputs": [],
   "source": []
  },
  {
   "cell_type": "code",
   "execution_count": null,
   "id": "d4befad2",
   "metadata": {},
   "outputs": [],
   "source": []
  },
  {
   "cell_type": "code",
   "execution_count": null,
   "id": "b394e7d4",
   "metadata": {},
   "outputs": [],
   "source": []
  },
  {
   "cell_type": "code",
   "execution_count": null,
   "id": "c116cd1d",
   "metadata": {},
   "outputs": [],
   "source": []
  },
  {
   "cell_type": "code",
   "execution_count": 4,
   "id": "bf87ab7e",
   "metadata": {},
   "outputs": [],
   "source": [
    "bad_duplicate_pairs = []\n",
    "\n",
    "for i in range(len(reaction_list)):\n",
    "    for j in range(i):\n",
    "        if reaction_list[i].is_isomorphic(reaction_list[j]):\n",
    "            if not (reaction_list[i].duplicate and reaction_list[j].duplicate):\n",
    "                bad_duplicate_pairs.append([i, j])"
   ]
  },
  {
   "cell_type": "code",
   "execution_count": 5,
   "id": "cd3b72c3",
   "metadata": {},
   "outputs": [
    {
     "data": {
      "text/plain": [
       "[[42, 40],\n",
       " [162, 160],\n",
       " [169, 167],\n",
       " [210, 208],\n",
       " [346, 344],\n",
       " [368, 356],\n",
       " [484, 416],\n",
       " [489, 415],\n",
       " [565, 563],\n",
       " [589, 587],\n",
       " [733, 65],\n",
       " [780, 779],\n",
       " [786, 785],\n",
       " [900, 886],\n",
       " [924, 913],\n",
       " [1099, 1098],\n",
       " [1126, 909],\n",
       " [1449, 1434],\n",
       " [2255, 770],\n",
       " [2257, 773]]"
      ]
     },
     "execution_count": 5,
     "metadata": {},
     "output_type": "execute_result"
    }
   ],
   "source": [
    "bad_duplicate_pairs"
   ]
  },
  {
   "cell_type": "code",
   "execution_count": 6,
   "id": "fcb50a1c",
   "metadata": {},
   "outputs": [],
   "source": [
    "remove_list = []\n",
    "remove_list_items = []\n",
    "for bad_duplicate_pair in bad_duplicate_pairs:\n",
    "    i = bad_duplicate_pair[0]\n",
    "    j = bad_duplicate_pair[1]\n",
    "    \n",
    "        \n",
    "    # one PDEP and one library\n",
    "    if type(reaction_list[i]) == rmgpy.rmg.pdep.PDepReaction and \\\n",
    "            type(reaction_list[j]) == rmgpy.data.kinetics.library.LibraryReaction:\n",
    "        # mark them as duplicates\n",
    "        reaction_list[i].duplicate = True\n",
    "        reaction_list[j].duplicate = True\n",
    "    elif type(reaction_list[i]) != rmgpy.data.kinetics.library.LibraryReaction and \\\n",
    "            type(reaction_list[j]) == rmgpy.rmg.pdep.PDepReaction:\n",
    "        # mark them as duplicates\n",
    "        reaction_list[i].duplicate = True\n",
    "        reaction_list[j].duplicate = True\n",
    "        \n",
    "    # one library and one family\n",
    "    elif type(reaction_list[i]) == rmgpy.data.kinetics.library.LibraryReaction and \\\n",
    "            type(reaction_list[j]) != rmgpy.data.kinetics.library.LibraryReaction:\n",
    "        remove_list.append(j)\n",
    "        remove_list_items.append(reaction_list[j])\n",
    "    elif type(reaction_list[i]) != rmgpy.data.kinetics.library.LibraryReaction and \\\n",
    "            type(reaction_list[j]) == rmgpy.data.kinetics.library.LibraryReaction:\n",
    "        remove_list.append(i)\n",
    "        remove_list_items.append(reaction_list[i])\n",
    "        \n",
    "    # one PDEP and one family\n",
    "    elif type(reaction_list[i]) == rmgpy.rmg.pdep.PDepReaction and \\\n",
    "            type(reaction_list[j]) != rmgpy.rmg.pdep.PDepReaction:\n",
    "        # mark them as duplicates\n",
    "        reaction_list[i].duplicate = True\n",
    "        reaction_list[j].duplicate = True\n",
    "    elif type(reaction_list[i]) != rmgpy.rmg.pdep.PDepReaction and \\\n",
    "            type(reaction_list[j]) == rmgpy.rmg.pdep.PDepReaction:\n",
    "        # mark them as duplicates\n",
    "        reaction_list[i].duplicate = True\n",
    "        reaction_list[j].duplicate = True\n",
    "        \n",
    "\n",
    "    # two PDEPs\n",
    "    elif type(reaction_list[i]) == rmgpy.rmg.pdep.PDepReaction and \\\n",
    "        type(reaction_list[j]) == rmgpy.rmg.pdep.PDepReaction:\n",
    "        # remove the one with more reactants\n",
    "        if len(reaction_list[i].reactants) > reaction_list[j].reactants:\n",
    "            remove_list.append(i)\n",
    "            remove_list_items.append(reaction_list[i])\n",
    "        elif len(reaction_list[i].reactants) < reaction_list[j].reactants:\n",
    "            remove_list.append(j)\n",
    "            remove_list_items.append(reaction_list[j])\n",
    "        else:  # remove j by default because it was added second\n",
    "            remove_list.append(j)\n",
    "            remove_list_items.append(reaction_list[j])\n",
    "            \n",
    "    else:\n",
    "        print(type(reaction_list[i]))\n",
    "        print(type(reaction_list[j]))\n",
    "        print()"
   ]
  },
  {
   "cell_type": "code",
   "execution_count": 9,
   "id": "c8805c54",
   "metadata": {},
   "outputs": [],
   "source": [
    "# remove_list = []\n",
    "# remove_list_items = []\n",
    "# for bad_duplicate_pair in bad_duplicate_pairs:\n",
    "#     i = bad_duplicate_pair[0]\n",
    "#     j = bad_duplicate_pair[1]\n",
    "    \n",
    "        \n",
    "#     # one library and one family\n",
    "#     if type(reaction_list[i]) == rmgpy.data.kinetics.library.LibraryReaction and \\\n",
    "#             type(reaction_list[j]) != rmgpy.data.kinetics.library.LibraryReaction:\n",
    "#         remove_list.append(j)\n",
    "#         remove_list_items.append(reaction_list[j])\n",
    "#     elif type(reaction_list[i]) != rmgpy.data.kinetics.library.LibraryReaction and \\\n",
    "#             type(reaction_list[j]) == rmgpy.data.kinetics.library.LibraryReaction:\n",
    "#         remove_list.append(i)\n",
    "#         remove_list_items.append(reaction_list[i])\n",
    "        \n",
    "#     # one PDEP and one family\n",
    "#     elif type(reaction_list[i]) == rmgpy.rmg.pdep.PDepReaction and \\\n",
    "#             type(reaction_list[j]) != rmgpy.rmg.pdep.PDepReaction:\n",
    "#         # mark them as duplicates\n",
    "#         reaction_list[i].duplicate = True\n",
    "#         reaction_list[j].duplicate = True\n",
    "#     elif type(reaction_list[i]) != rmgpy.rmg.pdep.PDepReaction and \\\n",
    "#             type(reaction_list[j]) == rmgpy.rmg.pdep.PDepReaction:\n",
    "#         # mark them as duplicates\n",
    "#         reaction_list[i].duplicate = True\n",
    "#         reaction_list[j].duplicate = True\n",
    "        \n",
    "\n",
    "#     # two PDEPs\n",
    "#     elif type(reaction_list[i]) == rmgpy.rmg.pdep.PDepReaction and \\\n",
    "#         type(reaction_list[j]) == rmgpy.rmg.pdep.PDepReaction:\n",
    "#         # remove the one with more reactants\n",
    "#         if len(reaction_list[i].reactants) > reaction_list[j].reactants:\n",
    "#             remove_list.append(i)\n",
    "#             remove_list_items.append(reaction_list[i])\n",
    "#         elif len(reaction_list[i].reactants) < reaction_list[j].reactants:\n",
    "#             remove_list.append(j)\n",
    "#             remove_list_items.append(reaction_list[j])\n",
    "#         else:  # remove j by default because it was added second\n",
    "#             remove_list.append(j)\n",
    "#             remove_list_items.append(reaction_list[j])\n",
    "            \n",
    "#     else:\n",
    "#         print(type(reaction_list[i]))\n",
    "#         print(type(reaction_list[j]))\n",
    "#         print()"
   ]
  },
  {
   "cell_type": "code",
   "execution_count": 7,
   "id": "416a8f5b",
   "metadata": {},
   "outputs": [],
   "source": [
    "for item in remove_list_items:\n",
    "    reaction_list.remove(item)"
   ]
  },
  {
   "cell_type": "code",
   "execution_count": 8,
   "id": "de366afd",
   "metadata": {},
   "outputs": [],
   "source": [
    "outfile = os.path.join(basedir, 'new_chemkin2.inp')\n",
    "\n",
    "rmgpy.chemkin.save_chemkin_file(outfile, species_list, reaction_list)"
   ]
  },
  {
   "cell_type": "code",
   "execution_count": null,
   "id": "2f828449",
   "metadata": {},
   "outputs": [],
   "source": []
  },
  {
   "cell_type": "code",
   "execution_count": null,
   "id": "8c453cf7",
   "metadata": {},
   "outputs": [],
   "source": []
  },
  {
   "cell_type": "code",
   "execution_count": 47,
   "id": "4a69f19e",
   "metadata": {},
   "outputs": [
    {
     "data": {
      "text/plain": [
       "[TemplateReaction(index=46, reactants=[Species(index=16, label=\"HO2\", thermo=NASA(polynomials=[NASAPolynomial(coeffs=[4.02956,-0.00263991,1.52232e-05,-1.71674e-08,6.26751e-12,322.677,4.84426], Tmin=(100,'K'), Tmax=(923.91,'K')), NASAPolynomial(coeffs=[4.15132,0.00191148,-4.11288e-07,6.34989e-11,-4.86412e-15,83.4261,3.09348], Tmin=(923.91,'K'), Tmax=(5000,'K'))], Tmin=(100,'K'), Tmax=(5000,'K'), comment=\"\"\"Thermo library: BurkeH2O2\"\"\"), molecule=[Molecule(smiles=\"[O]O\")], molecular_weight=(33.0068,'amu')), Species(index=23, label=\"C[CH]CC\", thermo=NASA(polynomials=[NASAPolynomial(coeffs=[3.50678,0.0557587,-0.000247308,6.65302e-07,-5.84346e-10,5715.06,10.7682], Tmin=(10,'K'), Tmax=(408.79,'K')), NASAPolynomial(coeffs=[-0.395744,0.0445264,-2.47606e-05,6.65015e-09,-6.94851e-13,6447.04,31.1551], Tmin=(408.79,'K'), Tmax=(3000,'K'))], Tmin=(10,'K'), Tmax=(3000,'K'), comment=\"\"\"Thermo library: harris_butane_0001\"\"\"), molecule=[Molecule(smiles=\"C[CH]CC\")], molecular_weight=(57.1143,'amu'))], products=[Species(index=2, label=\"O2\", thermo=NASA(polynomials=[NASAPolynomial(coeffs=[3.53764,-0.00122827,5.36757e-06,-4.93126e-09,1.45954e-12,-1037.99,4.6718], Tmin=(100,'K'), Tmax=(1087.71,'K')), NASAPolynomial(coeffs=[3.16428,0.00169453,-8.00333e-07,1.59029e-10,-1.14891e-14,-1048.45,6.08301], Tmin=(1087.71,'K'), Tmax=(5000,'K'))], Tmin=(100,'K'), Tmax=(5000,'K'), comment=\"\"\"Thermo library: BurkeH2O2\"\"\"), molecule=[Molecule(smiles=\"[O][O]\")], molecular_weight=(31.9988,'amu')), Species(index=1, label=\"butane\", thermo=NASA(polynomials=[NASAPolynomial(coeffs=[3.87915,0.0216434,2.60034e-05,-3.48963e-08,1.10468e-11,-17373.6,7.63878], Tmin=(10,'K'), Tmax=(1154.15,'K')), NASAPolynomial(coeffs=[4.66765,0.0371556,-1.78697e-05,4.14293e-09,-3.76361e-13,-18770.7,-1.54271], Tmin=(1154.15,'K'), Tmax=(3000,'K'))], Tmin=(10,'K'), Tmax=(3000,'K'), comment=\"\"\"Thermo library: harris_butane_0001\"\"\"), molecule=[Molecule(smiles=\"CCCC\")], molecular_weight=(58.1223,'amu'))], kinetics=Arrhenius(A=(0.0275906,'cm^3/(mol*s)'), n=3.802, Ea=(6.324,'kcal/mol'), T0=(1,'K'), comment=\"\"\"Estimated using template [X_H;C_rad/H/NonDeC] for rate rule [Orad_O_H;C_rad/H/NonDeC]\n",
       " Euclidian distance = 2.0\n",
       " family: H_Abstraction\"\"\"), pairs=[(Species(index=23, label=\"C[CH]CC\", thermo=NASA(polynomials=[NASAPolynomial(coeffs=[3.50678,0.0557587,-0.000247308,6.65302e-07,-5.84346e-10,5715.06,10.7682], Tmin=(10,'K'), Tmax=(408.79,'K')), NASAPolynomial(coeffs=[-0.395744,0.0445264,-2.47606e-05,6.65015e-09,-6.94851e-13,6447.04,31.1551], Tmin=(408.79,'K'), Tmax=(3000,'K'))], Tmin=(10,'K'), Tmax=(3000,'K'), comment=\"\"\"Thermo library: harris_butane_0001\"\"\"), molecule=[Molecule(smiles=\"C[CH]CC\")], molecular_weight=(57.1143,'amu')), Species(index=1, label=\"butane\", thermo=NASA(polynomials=[NASAPolynomial(coeffs=[3.87915,0.0216434,2.60034e-05,-3.48963e-08,1.10468e-11,-17373.6,7.63878], Tmin=(10,'K'), Tmax=(1154.15,'K')), NASAPolynomial(coeffs=[4.66765,0.0371556,-1.78697e-05,4.14293e-09,-3.76361e-13,-18770.7,-1.54271], Tmin=(1154.15,'K'), Tmax=(3000,'K'))], Tmin=(10,'K'), Tmax=(3000,'K'), comment=\"\"\"Thermo library: harris_butane_0001\"\"\"), molecule=[Molecule(smiles=\"CCCC\")], molecular_weight=(58.1223,'amu'))), (Species(index=16, label=\"HO2\", thermo=NASA(polynomials=[NASAPolynomial(coeffs=[4.02956,-0.00263991,1.52232e-05,-1.71674e-08,6.26751e-12,322.677,4.84426], Tmin=(100,'K'), Tmax=(923.91,'K')), NASAPolynomial(coeffs=[4.15132,0.00191148,-4.11288e-07,6.34989e-11,-4.86412e-15,83.4261,3.09348], Tmin=(923.91,'K'), Tmax=(5000,'K'))], Tmin=(100,'K'), Tmax=(5000,'K'), comment=\"\"\"Thermo library: BurkeH2O2\"\"\"), molecule=[Molecule(smiles=\"[O]O\")], molecular_weight=(33.0068,'amu')), Species(index=2, label=\"O2\", thermo=NASA(polynomials=[NASAPolynomial(coeffs=[3.53764,-0.00122827,5.36757e-06,-4.93126e-09,1.45954e-12,-1037.99,4.6718], Tmin=(100,'K'), Tmax=(1087.71,'K')), NASAPolynomial(coeffs=[3.16428,0.00169453,-8.00333e-07,1.59029e-10,-1.14891e-14,-1048.45,6.08301], Tmin=(1087.71,'K'), Tmax=(5000,'K'))], Tmin=(100,'K'), Tmax=(5000,'K'), comment=\"\"\"Thermo library: BurkeH2O2\"\"\"), molecule=[Molecule(smiles=\"[O][O]\")], molecular_weight=(31.9988,'amu')))], family='H_Abstraction', template=['Orad_O_H', 'C_rad/H/NonDeC'])]"
      ]
     },
     "execution_count": 47,
     "metadata": {},
     "output_type": "execute_result"
    }
   ],
   "source": [
    "remove_list_items"
   ]
  },
  {
   "cell_type": "code",
   "execution_count": null,
   "id": "d54e2e4f",
   "metadata": {},
   "outputs": [],
   "source": []
  },
  {
   "cell_type": "code",
   "execution_count": 46,
   "id": "7ff25150",
   "metadata": {},
   "outputs": [
    {
     "data": {
      "text/plain": [
       "[45]"
      ]
     },
     "execution_count": 46,
     "metadata": {},
     "output_type": "execute_result"
    }
   ],
   "source": [
    "remove_list"
   ]
  },
  {
   "cell_type": "code",
   "execution_count": 31,
   "id": "46a76bc7",
   "metadata": {},
   "outputs": [
    {
     "data": {
      "text/plain": [
       "'BurkeH2O2inN2'"
      ]
     },
     "execution_count": 31,
     "metadata": {},
     "output_type": "execute_result"
    }
   ],
   "source": [
    "reaction_list[0].family"
   ]
  },
  {
   "cell_type": "code",
   "execution_count": 32,
   "id": "70c4647d",
   "metadata": {},
   "outputs": [
    {
     "data": {
      "text/plain": [
       "rmgpy.data.kinetics.library.LibraryReaction"
      ]
     },
     "execution_count": 32,
     "metadata": {},
     "output_type": "execute_result"
    }
   ],
   "source": [
    "type(reaction_list[0])"
   ]
  },
  {
   "cell_type": "code",
   "execution_count": 33,
   "id": "5adcea5a",
   "metadata": {},
   "outputs": [
    {
     "data": {
      "text/plain": [
       "rmgpy.data.kinetics.family.TemplateReaction"
      ]
     },
     "execution_count": 33,
     "metadata": {},
     "output_type": "execute_result"
    }
   ],
   "source": [
    "type(reaction_list[51])"
   ]
  },
  {
   "cell_type": "code",
   "execution_count": 37,
   "id": "3147f981",
   "metadata": {},
   "outputs": [
    {
     "data": {
      "text/plain": [
       "rmgpy.rmg.pdep.PDepReaction"
      ]
     },
     "execution_count": 37,
     "metadata": {},
     "output_type": "execute_result"
    }
   ],
   "source": [
    "type(reaction_list[69])"
   ]
  },
  {
   "cell_type": "code",
   "execution_count": 26,
   "id": "be78f143",
   "metadata": {},
   "outputs": [
    {
     "name": "stdout",
     "output_type": "stream",
     "text": [
      "O2(2) + C[CH2](21) <=> HO2(16) + C2H4(11)\n",
      "O2(2) + C[CH2](21) <=> HO2(16) + C2H4(11)\n"
     ]
    }
   ],
   "source": [
    "print(reaction_list[69])\n",
    "print(reaction_list[51])"
   ]
  },
  {
   "cell_type": "code",
   "execution_count": 29,
   "id": "f595a3ba",
   "metadata": {},
   "outputs": [
    {
     "name": "stdout",
     "output_type": "stream",
     "text": [
      "Disproportionation\n"
     ]
    },
    {
     "ename": "AttributeError",
     "evalue": "'PDepReaction' object has no attribute 'family'",
     "output_type": "error",
     "traceback": [
      "\u001b[0;31m---------------------------------------------------------------------------\u001b[0m",
      "\u001b[0;31mAttributeError\u001b[0m                            Traceback (most recent call last)",
      "\u001b[0;32m/tmp/ipykernel_25536/4218626743.py\u001b[0m in \u001b[0;36m<module>\u001b[0;34m\u001b[0m\n\u001b[1;32m      1\u001b[0m \u001b[0mprint\u001b[0m\u001b[0;34m(\u001b[0m\u001b[0mreaction_list\u001b[0m\u001b[0;34m[\u001b[0m\u001b[0;36m51\u001b[0m\u001b[0;34m]\u001b[0m\u001b[0;34m.\u001b[0m\u001b[0mfamily\u001b[0m\u001b[0;34m)\u001b[0m\u001b[0;34m\u001b[0m\u001b[0;34m\u001b[0m\u001b[0m\n\u001b[0;32m----> 2\u001b[0;31m \u001b[0mprint\u001b[0m\u001b[0;34m(\u001b[0m\u001b[0mreaction_list\u001b[0m\u001b[0;34m[\u001b[0m\u001b[0;36m69\u001b[0m\u001b[0;34m]\u001b[0m\u001b[0;34m.\u001b[0m\u001b[0mfamily\u001b[0m\u001b[0;34m)\u001b[0m\u001b[0;34m\u001b[0m\u001b[0;34m\u001b[0m\u001b[0m\n\u001b[0m",
      "\u001b[0;31mAttributeError\u001b[0m: 'PDepReaction' object has no attribute 'family'"
     ]
    }
   ],
   "source": [
    "print(reaction_list[51].family)\n",
    "print(reaction_list[69].family)"
   ]
  },
  {
   "cell_type": "code",
   "execution_count": 23,
   "id": "f4f6cebf",
   "metadata": {},
   "outputs": [
    {
     "data": {
      "text/plain": [
       "[[45, 33],\n",
       " [69, 51],\n",
       " [77, 71],\n",
       " [235, 229],\n",
       " [244, 242],\n",
       " [314, 272],\n",
       " [581, 569],\n",
       " [590, 582],\n",
       " [860, 844],\n",
       " [895, 118],\n",
       " [926, 652],\n",
       " [975, 961],\n",
       " [1013, 1009],\n",
       " [1018, 1016],\n",
       " [1052, 1050],\n",
       " [1061, 1057],\n",
       " [1077, 1069],\n",
       " [1103, 1090],\n",
       " [1316, 1310],\n",
       " [1332, 983]]"
      ]
     },
     "execution_count": 23,
     "metadata": {},
     "output_type": "execute_result"
    }
   ],
   "source": [
    "bad_duplicate_pairs"
   ]
  },
  {
   "cell_type": "code",
   "execution_count": 22,
   "id": "f0beba12",
   "metadata": {},
   "outputs": [
    {
     "data": {
      "text/plain": [
       "[45]"
      ]
     },
     "execution_count": 22,
     "metadata": {},
     "output_type": "execute_result"
    }
   ],
   "source": [
    "remove_list"
   ]
  },
  {
   "cell_type": "code",
   "execution_count": 11,
   "id": "89bce120",
   "metadata": {},
   "outputs": [
    {
     "data": {
      "text/plain": [
       "'Estimated using template [X_H;C_rad/H/NonDeC] for rate rule [Orad_O_H;C_rad/H/NonDeC]\\nEuclidian distance = 2.0\\nfamily: H_Abstraction'"
      ]
     },
     "execution_count": 11,
     "metadata": {},
     "output_type": "execute_result"
    }
   ],
   "source": [
    "reaction_list[45].kinetics.comment"
   ]
  },
  {
   "cell_type": "code",
   "execution_count": 17,
   "id": "18cdb86a",
   "metadata": {},
   "outputs": [
    {
     "data": {
      "text/plain": [
       "'harris_butane_0001'"
      ]
     },
     "execution_count": 17,
     "metadata": {},
     "output_type": "execute_result"
    }
   ],
   "source": [
    "reaction_list[33].family"
   ]
  },
  {
   "cell_type": "code",
   "execution_count": 15,
   "id": "020e7fe2",
   "metadata": {},
   "outputs": [
    {
     "name": "stdout",
     "output_type": "stream",
     "text": [
      "HO2(16) + C[CH]CC(23) <=> O2(2) + butane(1)\n"
     ]
    }
   ],
   "source": [
    "print(reaction_list[33])"
   ]
  },
  {
   "cell_type": "code",
   "execution_count": 16,
   "id": "7b75aaca",
   "metadata": {},
   "outputs": [
    {
     "data": {
      "text/plain": [
       "4721"
      ]
     },
     "execution_count": 16,
     "metadata": {},
     "output_type": "execute_result"
    }
   ],
   "source": [
    "database_fun.get_unique_reaction_index(reaction_list[33])"
   ]
  },
  {
   "cell_type": "code",
   "execution_count": 7,
   "id": "75ff38e7",
   "metadata": {},
   "outputs": [
    {
     "data": {
      "text/plain": [
       "False"
      ]
     },
     "execution_count": 7,
     "metadata": {},
     "output_type": "execute_result"
    }
   ],
   "source": [
    "reaction_list[10].duplicate"
   ]
  },
  {
   "cell_type": "code",
   "execution_count": null,
   "id": "0b93d649",
   "metadata": {},
   "outputs": [],
   "source": []
  }
 ],
 "metadata": {
  "kernelspec": {
   "display_name": "Python 3 (ipykernel)",
   "language": "python",
   "name": "python3"
  },
  "language_info": {
   "codemirror_mode": {
    "name": "ipython",
    "version": 3
   },
   "file_extension": ".py",
   "mimetype": "text/x-python",
   "name": "python",
   "nbconvert_exporter": "python",
   "pygments_lexer": "ipython3",
   "version": "3.7.16"
  }
 },
 "nbformat": 4,
 "nbformat_minor": 5
}
