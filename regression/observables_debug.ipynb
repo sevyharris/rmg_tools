{
 "cells": [
  {
   "cell_type": "markdown",
   "id": "8b4bee01",
   "metadata": {},
   "source": [
    "# Script to exercise code added to rmgpy.tools.observablesregression\n",
    "\n",
    "## Follows the basic pattern of the run() function inside RMG-Py/rmgpy/tools/regression.py"
   ]
  },
  {
   "cell_type": "code",
   "execution_count": 7,
   "id": "82730dec",
   "metadata": {},
   "outputs": [],
   "source": [
    "import os\n",
    "import numpy as np\n",
    "\n",
    "import rmgpy.tools.observablesregression\n",
    "import rmgpy.chemkin"
   ]
  },
  {
   "cell_type": "markdown",
   "id": "2d7644f9",
   "metadata": {},
   "source": [
    "# Load the RMG mechanism files into memory"
   ]
  },
  {
   "cell_type": "code",
   "execution_count": 8,
   "id": "1e751a98",
   "metadata": {},
   "outputs": [],
   "source": [
    "basedir = '/home/moon/rmg/my_examples/regression/minimal_surface/one/chemkin/'\n",
    "gas_species_list, gas_reaction_list = rmgpy.chemkin.load_chemkin_file(\n",
    "    os.path.join(basedir, 'chem_annotated-gas.inp'),\n",
    "    os.path.join(basedir, 'species_dictionary.txt'),\n",
    "    os.path.join(basedir, 'tran.dat')\n",
    ")\n",
    "surface_species_list, surface_reaction_list = rmgpy.chemkin.load_chemkin_file(\n",
    "    os.path.join(basedir, 'chem_annotated-surface.inp'),\n",
    "    os.path.join(basedir, 'species_dictionary.txt'),\n",
    "    os.path.join(basedir, 'tran.dat')\n",
    ")"
   ]
  },
  {
   "cell_type": "markdown",
   "id": "c81b4e1b",
   "metadata": {},
   "source": [
    "# Set up ObservablesTestCase object"
   ]
  },
  {
   "cell_type": "code",
   "execution_count": 9,
   "id": "a65e390d",
   "metadata": {},
   "outputs": [
    {
     "name": "stdout",
     "output_type": "stream",
     "text": [
      "CH4(1)\n",
      "O2(2)\n",
      "X(3)\n"
     ]
    }
   ],
   "source": [
    "# Use CH4, O2, and X as the benchmark species \n",
    "print(gas_species_list[4])\n",
    "print(gas_species_list[5])\n",
    "print(surface_species_list[0])"
   ]
  },
  {
   "cell_type": "code",
   "execution_count": 10,
   "id": "2095ef6c",
   "metadata": {},
   "outputs": [],
   "source": [
    "# set some basic parameters\n",
    "title = 'min_example'\n",
    "benchmarkDir = basedir\n",
    "testDir = basedir\n",
    "observables = [gas_species_list[4], gas_species_list[5], surface_species_list[0]]"
   ]
  },
  {
   "cell_type": "code",
   "execution_count": 15,
   "id": "56816ce5",
   "metadata": {},
   "outputs": [],
   "source": [
    "# Create an ObservablesTestCase objects using the same RMG run\n",
    "case1 = rmgpy.tools.observablesregression.ObservablesTestCase(\n",
    "    title=title,\n",
    "    old_dir=benchmarkDir,\n",
    "    new_dir=testDir,\n",
    "    observables={'species': observables},\n",
    "    ck2cti=False\n",
    ")"
   ]
  },
  {
   "cell_type": "code",
   "execution_count": 12,
   "id": "d8b750fb",
   "metadata": {},
   "outputs": [],
   "source": [
    "# Specify the reactor conditions\n",
    "reactor_types = ['IdealGasReactor']\n",
    "temperatures = rmgpy.quantity.ArrayQuantity(np.array([1000]), 'K')\n",
    "pressures = rmgpy.quantity.ArrayQuantity(np.array([1]), 'bar')\n",
    "termination_times = rmgpy.quantity.ArrayQuantity(np.array([1]), 's')\n",
    "initial_mole_fractions_list = [\n",
    "    {\n",
    "        rmgpy.species.Species(smiles='C', label='CH4(1)'): 0.15,\n",
    "        rmgpy.species.Species(smiles='[O][O]', label='O2(2)'): 0.15,\n",
    "        rmgpy.species.Species(smiles='N#N'): 0.7,\n",
    "    }\n",
    "]\n",
    "initial_surface_mole_fractions_list = [\n",
    "    {\n",
    "        surface_species_list[0]: 1.0\n",
    "    }\n",
    "]"
   ]
  },
  {
   "cell_type": "code",
   "execution_count": 13,
   "id": "5ca61592",
   "metadata": {},
   "outputs": [],
   "source": [
    "# Generate the conditions\n",
    "case1.generate_conditions(\n",
    "    reactor_type_list=reactor_types,\n",
    "    reaction_time_list=termination_times,\n",
    "    mol_frac_list=initial_mole_fractions_list,\n",
    "    surface_mol_frac_list=initial_surface_mole_fractions_list,\n",
    "    Tlist=temperatures,\n",
    "    Plist=pressures\n",
    ")"
   ]
  },
  {
   "cell_type": "markdown",
   "id": "e6c363c5",
   "metadata": {},
   "source": [
    "# Run the comparison"
   ]
  },
  {
   "cell_type": "code",
   "execution_count": 14,
   "id": "83593f64",
   "metadata": {},
   "outputs": [
    {
     "name": "stdout",
     "output_type": "stream",
     "text": [
      "Observables Test Case: min_example Comparison\n",
      "\n",
      "✅ All Observables varied by less than 0.500 on average between old model and new model in all conditions!\n",
      "\n"
     ]
    }
   ],
   "source": [
    "# Run the comparison\n",
    "tol = 0.5\n",
    "variables_failed = case1.compare(tol)"
   ]
  },
  {
   "cell_type": "code",
   "execution_count": null,
   "id": "d154874f",
   "metadata": {},
   "outputs": [],
   "source": []
  }
 ],
 "metadata": {
  "kernelspec": {
   "display_name": "Python 3 (ipykernel)",
   "language": "python",
   "name": "python3"
  },
  "language_info": {
   "codemirror_mode": {
    "name": "ipython",
    "version": 3
   },
   "file_extension": ".py",
   "mimetype": "text/x-python",
   "name": "python",
   "nbconvert_exporter": "python",
   "pygments_lexer": "ipython3",
   "version": "3.7.16"
  }
 },
 "nbformat": 4,
 "nbformat_minor": 5
}
