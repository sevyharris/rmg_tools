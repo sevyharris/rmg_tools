{
 "cells": [
  {
   "cell_type": "markdown",
   "id": "2eb10b56",
   "metadata": {},
   "source": [
    "# Script to add atomization energy (AE) corrections for new level of theory in Arkane\n",
    "## Start Here (do AE before BAC)\n",
    "\n",
    "See documentation for current levels of theory: https://github.com/ReactionMechanismGenerator/RMG-Py/blob/2a1f9100390fc2ef1b8a8102925d06b941695a25/documentation/source/users/arkane/input.rst#L57\n",
    "\n",
    "This paper explains atomization energy corrections and bond additivity corrections:\n",
    "https://onlinelibrary.wiley.com/doi/10.1002/kin.21637\n"
   ]
  },
  {
   "cell_type": "markdown",
   "id": "28d8bada",
   "metadata": {},
   "source": [
    "# Step 1: Load reference database"
   ]
  },
  {
   "cell_type": "code",
   "execution_count": 64,
   "id": "0bae3577",
   "metadata": {},
   "outputs": [],
   "source": [
    "import os\n",
    "# import glob\n",
    "\n",
    "import ase\n",
    "import ase.io.gaussian\n",
    "\n",
    "import rmgpy.species\n",
    "\n",
    "import arkane.encorr.data as data\n",
    "import arkane.encorr.reference\n",
    "import arkane.modelchem\n",
    "\n",
    "import arkane.encorr.ae\n",
    "\n",
    "\n",
    "import arkane.ess.gaussian"
   ]
  },
  {
   "cell_type": "code",
   "execution_count": 2,
   "id": "a3c2c999",
   "metadata": {},
   "outputs": [],
   "source": [
    "ref_db = arkane.encorr.reference.ReferenceDatabase()\n",
    "ref_db.load()\n"
   ]
  },
  {
   "cell_type": "markdown",
   "id": "f1ca95a6",
   "metadata": {},
   "source": [
    "# Step 2: Set up DFT calculations using reference data's geometries"
   ]
  },
  {
   "cell_type": "code",
   "execution_count": 25,
   "id": "a8fc42d6",
   "metadata": {},
   "outputs": [],
   "source": [
    "# working_dir = os.path.abspath('./ae_calcs/m062x_ccpvtz')\n",
    "# working_dir = os.path.abspath('./ae_calcs/b3lyp_6311G3df2p')\n",
    "working_dir = os.path.abspath('./ae_calcs/ccsdt_ccpvtz')\n",
    "os.makedirs(working_dir, exist_ok=True)"
   ]
  },
  {
   "cell_type": "code",
   "execution_count": 95,
   "id": "4d38c98c",
   "metadata": {},
   "outputs": [],
   "source": [
    "# adjust these parameters as needed\n",
    "lot = arkane.modelchem.LevelOfTheory(\n",
    "    method='ccsd(t)',\n",
    "    basis='cc-pvtz',\n",
    "    software='gaussian'\n",
    ")\n",
    "\n",
    "sp_indices = []\n",
    "\n",
    "for i in range(len(ref_db.reference_sets['main'])):\n",
    "    \n",
    "    # only do the reference species\n",
    "    if ref_db.reference_sets['main'][i].label not in arkane.encorr.ae.SPECIES_LABELS:\n",
    "        continue\n",
    "    sp_indices.append(i)\n",
    "    sp_dir = os.path.join(working_dir, f'species_{i:04}')\n",
    "    os.makedirs(sp_dir, exist_ok=True)\n",
    "    \n",
    "    # Use the CCCBDB geometries for energy calculations - see Notes in AEJob class description\n",
    "    syms = ref_db.reference_sets['main'][i].reference_data['CCCBDB'].xyz_dict['symbols']\n",
    "    xyz = ref_db.reference_sets['main'][i].reference_data['CCCBDB'].xyz_dict['coords']\n",
    "    atoms = ase.Atoms(symbols=syms, positions=xyz)\n",
    "    \n",
    "    s = rmgpy.species.Species().from_adjacency_list(ref_db.reference_sets['main'][i].adjacency_list)\n",
    "    \n",
    "    radical_electrons = any([x.radical_electrons for x in s.molecule[0].atoms])\n",
    "    \n",
    "    # specific modification for CCSD(T)\n",
    "    specific_method = lot.method\n",
    "    if radical_electrons and lot.method == 'ccsd(t)':\n",
    "        specific_method = 'uccsd(t)'\n",
    "    \n",
    "    with open(os.path.join(sp_dir, 'sp.com'), 'w') as f:\n",
    "        ase.io.gaussian.write_gaussian_in(\n",
    "            f,\n",
    "            atoms,\n",
    "            properties=['energy'],\n",
    "            method=specific_method,\n",
    "            basis=lot.basis,\n",
    "            mult=s.multiplicity,\n",
    "        )\n",
    "\n",
    "# write the slurm script\n",
    "run_script = os.path.join(working_dir, 'run.sh')\n",
    "with open(run_script, 'w') as f:\n",
    "    f.write(\"\"\"#!/bin/bash\n",
    "#SBATCH --job-name=g16_aes\n",
    "#SBATCH --error=error.log\n",
    "#SBATCH --nodes=1\n",
    "#SBATCH --partition=west,short\n",
    "#SBATCH --exclude=c5003\n",
    "#SBATCH --mem=20Gb\n",
    "#SBATCH --time=24:00:00\n",
    "#SBATCH --cpus-per-task=16\n",
    "\"\"\" +\n",
    "f'#SBATCH --array={str(sp_indices)[1:-1].replace(\" \", \"\")}%30\\n' +\n",
    "\"\"\"\n",
    "export GAUSS_SCRDIR=/scratch/harris.se/guassian_scratch\n",
    "mkdir -p $GAUSS_SCRDIR\n",
    "module load gaussian/g16\n",
    "source /shared/centos7/gaussian/g16/bsd/g16.profile\n",
    "\n",
    "RUN_i=$(printf \"%04.0f\" $(($SLURM_ARRAY_TASK_ID)))\n",
    "\n",
    "cd \"species_${RUN_i}\"\n",
    "g16 sp.com\n",
    "\n",
    "\"\"\")\n"
   ]
  },
  {
   "cell_type": "markdown",
   "id": "964c3e86",
   "metadata": {},
   "source": [
    "# Step 3 - run the calculations"
   ]
  },
  {
   "cell_type": "code",
   "execution_count": 59,
   "id": "0ed9e7bf",
   "metadata": {},
   "outputs": [],
   "source": [
    "os.chdir(working_dir)\n",
    "# os.system(f'chmod +x {run_script}') <-- might need to change file permissions\n",
    "os.system(f'sbatch {run_script}')"
   ]
  },
  {
   "cell_type": "markdown",
   "id": "80818958",
   "metadata": {},
   "source": [
    "# Step 4 - grab the energies for the species_energies dictionary"
   ]
  },
  {
   "cell_type": "code",
   "execution_count": 77,
   "id": "6bf17eca",
   "metadata": {},
   "outputs": [],
   "source": [
    "species_energies = {}\n",
    "for i in sp_indices:\n",
    "    # get the gaussian logfile\n",
    "    logfile = os.path.join(working_dir, f'species_{i:04}', 'sp.log')\n",
    "    \n",
    "    with open(logfile, 'r') as f:\n",
    "        gaussian_log = arkane.ess.gaussian.GaussianLog(logfile)\n",
    "        # Notes from arkane.encorr.ae say ZPE should not be included\n",
    "        # arkane.ess.gaussian comments say ZPE is not included\n",
    "        energy = gaussian_log.load_energy() / 2625500  # convert to Hartrees\n",
    "        species_energies[ref_db.reference_sets['main'][i].label] = energy\n",
    "        "
   ]
  },
  {
   "cell_type": "code",
   "execution_count": 81,
   "id": "0c37b4fd",
   "metadata": {},
   "outputs": [
    {
     "data": {
      "text/plain": [
       "{'Ammonia': -56.473138146461636,\n",
       " 'Chloromethane': -499.56425118016676,\n",
       " 'Dibromine': -5145.3984137228335,\n",
       " 'Dichlorine': -919.4262424500058,\n",
       " 'Difluorine': -199.2960925886373,\n",
       " 'Dihydrogen': -1.1723356328563836,\n",
       " 'Dinitrogen': -109.37383052964486,\n",
       " 'Dioxygen': -150.12899776103887,\n",
       " 'Disulfur': -795.4547689278554,\n",
       " 'Hydrogen bromide': -2573.3082102785634,\n",
       " 'Hydrogen chloride': -460.3371865863367,\n",
       " 'Hydrogen fluoride': -100.338350667079,\n",
       " 'Hydrogen sulfide': -398.9353544287617,\n",
       " 'Methane': -40.4380873954994,\n",
       " 'Methyl': -39.76097421302741,\n",
       " 'Water': -76.3321899731317}"
      ]
     },
     "execution_count": 81,
     "metadata": {},
     "output_type": "execute_result"
    }
   ],
   "source": [
    "species_energies"
   ]
  },
  {
   "cell_type": "code",
   "execution_count": 86,
   "id": "5acba346",
   "metadata": {},
   "outputs": [],
   "source": [
    "# write the arkane ae job file (or I could do this in the code...)\n",
    "ae_jobfile = os.path.join(working_dir, 'input.py')\n",
    "\n",
    "\n",
    "with open(ae_jobfile, 'w') as f:\n",
    "    f.write(\"\"\"title = 'Atom energy correction fitting for \"\"\" + f'{lot.method}/{lot.basis} ' + \"\"\"level of theory'\n",
    "\n",
    "lot = LevelOfTheory(\\n\"\"\" +\n",
    "f\"    method='{lot.method}',\\n\" +\n",
    "f\"    basis='{lot.basis}',\\n\" +\n",
    "\"\"\"    software=gaussian\n",
    ")\n",
    "\n",
    "\"\"\" + \n",
    "\n",
    "f\"species_energies={species_energies}\\n\" + \n",
    "\n",
    "\"\"\"\n",
    "ae(\n",
    "    species_energies=species_energies,\n",
    "    level_of_theory=lot,\n",
    "    write_to_database=False,\n",
    "    overwrite=False\n",
    ")\n",
    "\n",
    "\"\"\")\n",
    "\n",
    "\n"
   ]
  },
  {
   "cell_type": "code",
   "execution_count": 96,
   "id": "49fda36b",
   "metadata": {},
   "outputs": [],
   "source": [
    "# same thing as the job above, but in code\n",
    "ae_job = arkane.encorr.ae.AEJob(\n",
    "    species_energies=species_energies,\n",
    "    level_of_theory=lot,\n",
    "    write_to_database=False,\n",
    "    overwrite=False\n",
    ")\n",
    "ae_job.execute()"
   ]
  },
  {
   "cell_type": "code",
   "execution_count": 97,
   "id": "f128170c",
   "metadata": {},
   "outputs": [
    {
     "data": {
      "text/plain": [
       "{'H': -0.4984018068562638,\n",
       " 'C': -37.7753179083434,\n",
       " 'N': -54.504742750163096,\n",
       " 'O': -74.96800652928341,\n",
       " 'F': -99.6170283217903,\n",
       " 'S': -397.64659434301717,\n",
       " 'Cl': -459.66706171381963,\n",
       " 'Br': -2572.663251330409}"
      ]
     },
     "execution_count": 97,
     "metadata": {},
     "output_type": "execute_result"
    }
   ],
   "source": [
    "ae_job.ae.atom_energies"
   ]
  },
  {
   "cell_type": "code",
   "execution_count": 99,
   "id": "e4c7b5f6",
   "metadata": {},
   "outputs": [
    {
     "data": {
      "text/plain": [
       "{'H': 0.001050460972303508,\n",
       " 'C': 0.004479971009883298,\n",
       " 'N': 0.00223272929700218,\n",
       " 'O': 0.0021827474574089606,\n",
       " 'F': 0.002152201262035069,\n",
       " 'S': 0.0021827474574089606,\n",
       " 'Cl': 0.0020157776593258906,\n",
       " 'Br': 0.0021522012620350684}"
      ]
     },
     "execution_count": 99,
     "metadata": {},
     "output_type": "execute_result"
    }
   ],
   "source": [
    "ae_job.ae.confidence_intervals"
   ]
  },
  {
   "cell_type": "code",
   "execution_count": 101,
   "id": "11956db4",
   "metadata": {},
   "outputs": [
    {
     "data": {
      "text/plain": [
       "dict_keys(['H', 'C', 'N', 'O', 'F', 'S', 'Cl', 'Br'])"
      ]
     },
     "execution_count": 101,
     "metadata": {},
     "output_type": "execute_result"
    }
   ],
   "source": [
    "ae_job.ae.atom_energies.keys()"
   ]
  },
  {
   "cell_type": "code",
   "execution_count": null,
   "id": "055fa7d1",
   "metadata": {},
   "outputs": [],
   "source": [
    "# Copy formatted energies into "
   ]
  },
  {
   "cell_type": "code",
   "execution_count": 125,
   "id": "110770c5",
   "metadata": {},
   "outputs": [
    {
     "name": "stdout",
     "output_type": "stream",
     "text": [
      "# H\t-0.49840181\t+/- 0.00105046 Hartree\n",
      "# C\t-37.77531791\t+/- 0.00447997 Hartree\n",
      "# N\t-54.50474275\t+/- 0.00223273 Hartree\n",
      "# O\t-74.96800653\t+/- 0.00218275 Hartree\n",
      "# F\t-99.61702832\t+/- 0.00215220 Hartree\n",
      "# S\t-397.64659434\t+/- 0.00218275 Hartree\n",
      "# Cl\t-459.66706171\t+/- 0.00201578 Hartree\n",
      "# Br\t-2572.66325133\t+/- 0.00215220 Hartree\n",
      "\"LevelOfTheory(method='ccsd(t)',basis='ccpvtz',software='gaussian') \": {\n",
      "    \"H\": -0.4984018068562638,\n",
      "    \"C\": -37.7753179083434,\n",
      "    \"N\": -54.504742750163096,\n",
      "    \"O\": -74.96800652928341,\n",
      "    \"F\": -99.6170283217903,\n",
      "    \"S\": -397.64659434301717,\n",
      "    \"Cl\": -459.66706171381963,\n",
      "    \"Br\": -2572.663251330409,\n",
      "}\n"
     ]
    }
   ],
   "source": [
    "# add these to the atom_energies dictionary in RMG-database/input/quantum_corrections/data.py\n",
    "\n",
    "for atom in ae_job.ae.atom_energies.keys():\n",
    "    print(f'# {atom}\\t{ae_job.ae.atom_energies[atom]:.8f}\\t+/- {ae_job.ae.confidence_intervals[atom]:.8f} Hartree')\n",
    "\n",
    "print(f'\"{lot} \":','{')\n",
    "\n",
    "\n",
    "for atom in ae_job.ae.atom_energies.keys():\n",
    "    print(f'    \"{atom}\": {ae_job.ae.atom_energies[atom]},')\n",
    "\n",
    "print('}')\n",
    "# ae_job.ae.atom_energies\n",
    "\n"
   ]
  },
  {
   "cell_type": "code",
   "execution_count": null,
   "id": "8e38677c",
   "metadata": {},
   "outputs": [],
   "source": []
  },
  {
   "cell_type": "code",
   "execution_count": null,
   "id": "50cf729c",
   "metadata": {},
   "outputs": [],
   "source": []
  }
 ],
 "metadata": {
  "kernelspec": {
   "display_name": "Python 3 (ipykernel)",
   "language": "python",
   "name": "python3"
  },
  "language_info": {
   "codemirror_mode": {
    "name": "ipython",
    "version": 3
   },
   "file_extension": ".py",
   "mimetype": "text/x-python",
   "name": "python",
   "nbconvert_exporter": "python",
   "pygments_lexer": "ipython3",
   "version": "3.7.16"
  }
 },
 "nbformat": 4,
 "nbformat_minor": 5
}
