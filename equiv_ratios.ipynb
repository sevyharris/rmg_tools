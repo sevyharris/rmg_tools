{
 "cells": [
  {
   "cell_type": "markdown",
   "id": "14dc2284",
   "metadata": {},
   "source": [
    "# Equivalence Ratio Calculator"
   ]
  },
  {
   "cell_type": "markdown",
   "id": "b467809b",
   "metadata": {},
   "source": [
    "The equivalence ratio describes the ratio of actual fuel to oxidizer and the stoichiometric fuel to oxidizer:\n",
    "\n",
    "$$\\phi = \\frac{\\text{actual fuel}/\\text{oxidizer}}{\\text{stoichiometric fuel}/\\text{oxidizer}}$$\n",
    "\n",
    "\n",
    "$\\phi < 1$ is  lean\n",
    "\n",
    "$\\phi = 1$ is stoichiometric\n",
    "\n",
    "$\\phi > 1$ is rich"
   ]
  },
  {
   "cell_type": "markdown",
   "id": "01d2e20d",
   "metadata": {},
   "source": [
    "## Methane Example\n",
    "This is the equation for methane combustion:\n",
    "$$CH_4 + 2O_2 \\leftrightharpoons CO_2 + 2H_2O$$\n",
    "\n",
    "0.333 fuel and 0.667 $O_2$ fuel gives $\\phi=1$"
   ]
  },
  {
   "cell_type": "markdown",
   "id": "6b45c29c",
   "metadata": {},
   "source": [
    "### Computing $\\phi$ from given composition"
   ]
  },
  {
   "cell_type": "code",
   "execution_count": 17,
   "id": "1fa55e66",
   "metadata": {},
   "outputs": [
    {
     "name": "stdout",
     "output_type": "stream",
     "text": [
      "Phi is 0.9999999999999999\n"
     ]
    }
   ],
   "source": [
    "# Define stoichiometric coefficients\n",
    "v_fuel = 1.0\n",
    "v_oxidizer = 2.0\n",
    "\n",
    "# define actual composition\n",
    "x_fuel = 1.0 / 3.0\n",
    "x_O2 = 1.0 - x_fuel\n",
    "\n",
    "assert x_fuel + x_O2 == 1\n",
    "\n",
    "phi =  (x_fuel / x_O2) / (v_fuel / v_oxidizer)\n",
    "print(f'Phi is {phi}')"
   ]
  },
  {
   "cell_type": "markdown",
   "id": "dfe2a184",
   "metadata": {},
   "source": [
    "### Computing composition from $\\phi$ (just fuel and oxygen)"
   ]
  },
  {
   "cell_type": "code",
   "execution_count": 22,
   "id": "57939f9e",
   "metadata": {},
   "outputs": [
    {
     "name": "stdout",
     "output_type": "stream",
     "text": [
      "x_O2=0.5, x_CH4=0.5\n"
     ]
    }
   ],
   "source": [
    "# Define stoichiometric coefficients\n",
    "v_fuel = 1.0\n",
    "v_oxidizer = 2.0\n",
    "\n",
    "# define equivalence ratio\n",
    "phi = 2.0\n",
    "\n",
    "# calculate actual ratio of fuel to oxidizer\n",
    "actual_ratio = phi * (v_fuel / v_oxidizer)\n",
    "\n",
    "\n",
    "# start with 1.0 oxidizer, then normalize\n",
    "x_O2 = 1.0\n",
    "x_CH4 = actual_ratio * x_O2\n",
    "total = x_O2 + x_CH4\n",
    "x_O2 = x_O2 / total\n",
    "x_CH4 = x_CH4 / total\n",
    "\n",
    "\n",
    "print(f'x_O2={x_O2}, x_CH4={x_CH4}')"
   ]
  },
  {
   "cell_type": "markdown",
   "id": "c41b29e4",
   "metadata": {},
   "source": [
    "### Computing composition from $\\phi$ (just fuel and air)"
   ]
  },
  {
   "cell_type": "code",
   "execution_count": 23,
   "id": "762a8788",
   "metadata": {},
   "outputs": [
    {
     "name": "stdout",
     "output_type": "stream",
     "text": [
      "x_O2=0.19004524886877827, x_CH4=0.09502262443438914, x_N2=0.7149321266968326\n"
     ]
    }
   ],
   "source": [
    "# Define stoichiometric coefficients\n",
    "v_fuel = 1.0\n",
    "v_oxidizer = 2.0\n",
    "v_N2 = 0.79 * (v_oxidizer / 0.21)  # air is approximately 79% N2 and 21% O2\n",
    "\n",
    "# define equivalence ratio\n",
    "phi = 1.0\n",
    "\n",
    "# calculate actual ratio of fuel to oxidizer\n",
    "actual_ratio = phi * (v_fuel / v_oxidizer)\n",
    "\n",
    "\n",
    "# start with 1.0 oxidizer, then normalize\n",
    "x_O2 = 1.0\n",
    "x_CH4 = actual_ratio * x_O2\n",
    "x_N2 = 0.79 * (x_O2 / .21)\n",
    "total = x_O2 + x_CH4 + x_N2\n",
    "x_O2 = x_O2 / total\n",
    "x_CH4 = x_CH4 / total\n",
    "x_N2 = x_N2 / total\n",
    "\n",
    "\n",
    "print(f'x_O2={x_O2}, x_CH4={x_CH4}, x_N2={x_N2}')"
   ]
  },
  {
   "cell_type": "markdown",
   "id": "241b5a65",
   "metadata": {},
   "source": [
    "## Cantera Example"
   ]
  },
  {
   "cell_type": "code",
   "execution_count": 25,
   "id": "3321bf25",
   "metadata": {},
   "outputs": [],
   "source": [
    "import cantera as ct"
   ]
  },
  {
   "cell_type": "code",
   "execution_count": 34,
   "id": "6676320c",
   "metadata": {},
   "outputs": [],
   "source": [
    "gas = ct.Solution('gri30.cti')\n",
    "X = 'O2:0.5, CH4:0.5'\n",
    "gas.TPX = 300.0, ct.one_atm, X"
   ]
  },
  {
   "cell_type": "code",
   "execution_count": 35,
   "id": "4f3fa074",
   "metadata": {},
   "outputs": [
    {
     "name": "stdout",
     "output_type": "stream",
     "text": [
      "\n",
      "  gri30:\n",
      "\n",
      "       temperature   300 K\n",
      "          pressure   1.0132e+05 Pa\n",
      "           density   0.97576 kg/m^3\n",
      "  mean mol. weight   24.02 kg/kmol\n",
      "   phase of matter   gas\n",
      "\n",
      "                          1 kg             1 kmol     \n",
      "                     ---------------   ---------------\n",
      "          enthalpy       -1.5503e+06        -3.724e+07  J\n",
      "   internal energy       -1.6542e+06       -3.9734e+07  J\n",
      "           entropy              8398        2.0172e+05  J/K\n",
      "    Gibbs function       -4.0697e+06       -9.7757e+07  J\n",
      " heat capacity c_p            1356.1             32574  J/K\n",
      " heat capacity c_v              1010             24260  J/K\n",
      "\n",
      "                      mass frac. Y      mole frac. X     chem. pot. / RT\n",
      "                     ---------------   ---------------   ---------------\n",
      "                O2           0.66606               0.5           -25.367\n",
      "               CH4           0.33394               0.5           -53.016\n",
      "     [  +51 minor]                 0                 0  \n",
      "\n"
     ]
    }
   ],
   "source": [
    "gas()"
   ]
  },
  {
   "cell_type": "code",
   "execution_count": 1,
   "id": "6c9de822",
   "metadata": {},
   "outputs": [
    {
     "name": "stdout",
     "output_type": "stream",
     "text": [
      "x_O2=0.7647058823529411, x_CH4=0.23529411764705882\n"
     ]
    }
   ],
   "source": [
    "# Define stoichiometric coefficients\n",
    "v_fuel = 1.0\n",
    "v_oxidizer = 13.0 / 2.0\n",
    "\n",
    "# define equivalence ratio\n",
    "phi = 2.0\n",
    "\n",
    "# calculate actual ratio of fuel to oxidizer\n",
    "actual_ratio = phi * (v_fuel / v_oxidizer)\n",
    "\n",
    "\n",
    "# start with 1.0 oxidizer, then normalize\n",
    "x_O2 = 1.0\n",
    "x_CH4 = actual_ratio * x_O2\n",
    "total = x_O2 + x_CH4\n",
    "x_O2 = x_O2 / total\n",
    "x_CH4 = x_CH4 / total\n",
    "\n",
    "\n",
    "print(f'x_O2={x_O2}, x_CH4={x_CH4}')"
   ]
  },
  {
   "cell_type": "code",
   "execution_count": null,
   "id": "4bb5a72b",
   "metadata": {},
   "outputs": [],
   "source": []
  }
 ],
 "metadata": {
  "kernelspec": {
   "display_name": "Python 3 (ipykernel)",
   "language": "python",
   "name": "python3"
  },
  "language_info": {
   "codemirror_mode": {
    "name": "ipython",
    "version": 3
   },
   "file_extension": ".py",
   "mimetype": "text/x-python",
   "name": "python",
   "nbconvert_exporter": "python",
   "pygments_lexer": "ipython3",
   "version": "3.7.12"
  }
 },
 "nbformat": 4,
 "nbformat_minor": 5
}
